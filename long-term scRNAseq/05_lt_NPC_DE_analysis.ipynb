{
 "cells": [
  {
   "cell_type": "code",
   "execution_count": 34,
   "metadata": {},
   "outputs": [
    {
     "name": "stdout",
     "output_type": "stream",
     "text": [
      "Looking in indexes: https://pypi.org/simple, https://pypi.ngc.nvidia.com\n",
      "Collecting dask==2021.4.0\n",
      "  Downloading dask-2021.4.0-py3-none-any.whl.metadata (2.9 kB)\n",
      "Collecting sparse==0.9.1\n",
      "  Downloading sparse-0.9.1-py2.py3-none-any.whl.metadata (2.8 kB)\n",
      "Requirement already satisfied: pyyaml in /usr/local/lib/python3.10/dist-packages (from dask==2021.4.0) (6.0.1)\n",
      "Requirement already satisfied: cloudpickle>=1.1.1 in /usr/local/lib/python3.10/dist-packages (from dask==2021.4.0) (3.0.0)\n",
      "Requirement already satisfied: fsspec>=0.6.0 in /usr/local/lib/python3.10/dist-packages (from dask==2021.4.0) (2023.12.2)\n",
      "Requirement already satisfied: toolz>=0.8.2 in /usr/local/lib/python3.10/dist-packages (from dask==2021.4.0) (0.12.0)\n",
      "Requirement already satisfied: partd>=0.3.10 in /usr/local/lib/python3.10/dist-packages (from dask==2021.4.0) (1.4.1)\n",
      "Requirement already satisfied: numpy in /usr/local/lib/python3.10/dist-packages (from sparse==0.9.1) (1.24.4)\n",
      "Requirement already satisfied: scipy>=0.19 in /usr/local/lib/python3.10/dist-packages (from sparse==0.9.1) (1.11.4)\n",
      "Requirement already satisfied: numba>=0.45 in /usr/local/lib/python3.10/dist-packages (from sparse==0.9.1) (0.57.1+1.gb7ee25572)\n",
      "Requirement already satisfied: llvmlite<0.41,>=0.40.0dev0 in /usr/local/lib/python3.10/dist-packages (from numba>=0.45->sparse==0.9.1) (0.40.1)\n",
      "Requirement already satisfied: locket in /usr/local/lib/python3.10/dist-packages (from partd>=0.3.10->dask==2021.4.0) (1.0.0)\n",
      "Downloading dask-2021.4.0-py3-none-any.whl (941 kB)\n",
      "\u001b[2K   \u001b[90m━━━━━━━━━━━━━━━━━━━━━━━━━━━━━━━━━━━━━━━━\u001b[0m \u001b[32m941.1/941.1 kB\u001b[0m \u001b[31m6.0 MB/s\u001b[0m eta \u001b[36m0:00:00\u001b[0ma \u001b[36m0:00:01\u001b[0m\n",
      "\u001b[?25hDownloading sparse-0.9.1-py2.py3-none-any.whl (63 kB)\n",
      "\u001b[2K   \u001b[90m━━━━━━━━━━━━━━━━━━━━━━━━━━━━━━━━━━━━━━━━\u001b[0m \u001b[32m63.8/63.8 kB\u001b[0m \u001b[31m12.1 MB/s\u001b[0m eta \u001b[36m0:00:00\u001b[0m\n",
      "\u001b[?25hInstalling collected packages: sparse, dask\n",
      "  Attempting uninstall: sparse\n",
      "    Found existing installation: sparse 0.15.1\n",
      "    Uninstalling sparse-0.15.1:\n",
      "      Successfully uninstalled sparse-0.15.1\n",
      "  Attempting uninstall: dask\n",
      "    Found existing installation: dask 2023.11.0\n",
      "    Uninstalling dask-2023.11.0:\n",
      "      Successfully uninstalled dask-2023.11.0\n",
      "\u001b[31mERROR: pip's dependency resolver does not currently take into account all the packages that are installed. This behaviour is the source of the following dependency conflicts.\n",
      "distributed 2023.11.0 requires dask==2023.11.0, but you have dask 2021.4.0 which is incompatible.\n",
      "rapids-dask-dependency 23.12.1 requires dask==2023.11.0, but you have dask 2021.4.0 which is incompatible.\u001b[0m\u001b[31m\n",
      "\u001b[0mSuccessfully installed dask-2021.4.0 sparse-0.9.1\n",
      "\u001b[33mWARNING: Running pip as the 'root' user can result in broken permissions and conflicting behaviour with the system package manager. It is recommended to use a virtual environment instead: https://pip.pypa.io/warnings/venv\u001b[0m\u001b[33m\n",
      "\u001b[0m"
     ]
    }
   ],
   "source": [
    "# Dependency conflicts\n",
    "!pip install dask==2021.4.0 sparse==0.9.1"
   ]
  },
  {
   "cell_type": "code",
   "execution_count": 2,
   "metadata": {},
   "outputs": [
    {
     "name": "stderr",
     "output_type": "stream",
     "text": [
      "2025-05-06 10:14:47.674637: I tensorflow/core/platform/cpu_feature_guard.cc:210] This TensorFlow binary is optimized to use available CPU instructions in performance-critical operations.\n",
      "To enable the following instructions: AVX2 FMA, in other operations, rebuild TensorFlow with the appropriate compiler flags.\n"
     ]
    }
   ],
   "source": [
    "import os\n",
    "import warnings\n",
    "\n",
    "warnings.filterwarnings(\"ignore\", category=DeprecationWarning)\n",
    "warnings.filterwarnings(\"ignore\", category=FutureWarning)\n",
    "from scipy.sparse import csr_matrix, issparse, csc_matrix\n",
    "import matplotlib.pyplot as plt\n",
    "import seaborn as sns\n",
    "import scanpy as sc\n",
    "import pandas as pd\n",
    "import numpy as np\n",
    "import random\n",
    "import sc_toolbox\n",
    "import decoupler as dc\n",
    "import rpy2.robjects as ro\n",
    "import diffxpy.api as de\n",
    "import batchglm\n",
    "import rpy2.rinterface_lib.callbacks\n",
    "import anndata2ri\n",
    "import logging\n",
    "\n",
    "from rpy2.robjects import pandas2ri\n",
    "from rpy2.robjects import r\n",
    "\n",
    "from batchglm.pkg_constants import TF_CONFIG_PROTO\n",
    "\n",
    "from IPython.core.interactiveshell import InteractiveShell\n",
    "InteractiveShell.ast_node_interactivity = \"all\"\n",
    "\n",
    "sc.settings.verbosity = 0\n",
    "rpy2.rinterface_lib.callbacks.logger.setLevel(logging.ERROR)\n",
    "\n",
    "pandas2ri.activate()\n",
    "anndata2ri.activate()\n",
    "\n",
    "%load_ext rpy2.ipython\n",
    "os.chdir('/root/host_home')\n"
   ]
  },
  {
   "cell_type": "code",
   "execution_count": 3,
   "metadata": {
    "scrolled": true
   },
   "outputs": [
    {
     "name": "stdout",
     "output_type": "stream",
     "text": [
      "\n",
      "    WARNING: The R package \"reticulate\" only fixed recently\n",
      "    an issue that caused a segfault when used with rpy2:\n",
      "    https://github.com/rstudio/reticulate/pull/1188\n",
      "    Make sure that you use a version of that package that includes\n",
      "    the fix.\n",
      "    "
     ]
    },
    {
     "data": {
      "text/plain": [
       "Loading required package: limma\n",
       "Loading required package: SingleCellExperiment\n",
       "Loading required package: SummarizedExperiment\n",
       "Loading required package: MatrixGenerics\n",
       "Loading required package: matrixStats\n",
       "\n",
       "Attaching package: ‘MatrixGenerics’\n",
       "\n",
       "The following objects are masked from ‘package:matrixStats’:\n",
       "\n",
       "    colAlls, colAnyNAs, colAnys, colAvgsPerRowSet, colCollapse,\n",
       "    colCounts, colCummaxs, colCummins, colCumprods, colCumsums,\n",
       "    colDiffs, colIQRDiffs, colIQRs, colLogSumExps, colMadDiffs,\n",
       "    colMads, colMaxs, colMeans2, colMedians, colMins, colOrderStats,\n",
       "    colProds, colQuantiles, colRanges, colRanks, colSdDiffs, colSds,\n",
       "    colSums2, colTabulates, colVarDiffs, colVars, colWeightedMads,\n",
       "    colWeightedMeans, colWeightedMedians, colWeightedSds,\n",
       "    colWeightedVars, rowAlls, rowAnyNAs, rowAnys, rowAvgsPerColSet,\n",
       "    rowCollapse, rowCounts, rowCummaxs, rowCummins, rowCumprods,\n",
       "    rowCumsums, rowDiffs, rowIQRDiffs, rowIQRs, rowLogSumExps,\n",
       "    rowMadDiffs, rowMads, rowMaxs, rowMeans2, rowMedians, rowMins,\n",
       "    rowOrderStats, rowProds, rowQuantiles, rowRanges, rowRanks,\n",
       "    rowSdDiffs, rowSds, rowSums2, rowTabulates, rowVarDiffs, rowVars,\n",
       "    rowWeightedMads, rowWeightedMeans, rowWeightedMedians,\n",
       "    rowWeightedSds, rowWeightedVars\n",
       "\n",
       "Loading required package: GenomicRanges\n",
       "Loading required package: stats4\n",
       "Loading required package: BiocGenerics\n",
       "Loading required package: generics\n",
       "\n",
       "Attaching package: ‘generics’\n",
       "\n",
       "The following objects are masked from ‘package:base’:\n",
       "\n",
       "    as.difftime, as.factor, as.ordered, intersect, is.element, setdiff,\n",
       "    setequal, union\n",
       "\n",
       "\n",
       "Attaching package: ‘BiocGenerics’\n",
       "\n",
       "The following object is masked from ‘package:limma’:\n",
       "\n",
       "    plotMA\n",
       "\n",
       "The following objects are masked from ‘package:stats’:\n",
       "\n",
       "    IQR, mad, sd, var, xtabs\n",
       "\n",
       "The following objects are masked from ‘package:base’:\n",
       "\n",
       "    anyDuplicated, aperm, append, as.data.frame, basename, cbind,\n",
       "    colnames, dirname, do.call, duplicated, eval, evalq, Filter, Find,\n",
       "    get, grep, grepl, is.unsorted, lapply, Map, mapply, match, mget,\n",
       "    order, paste, pmax, pmax.int, pmin, pmin.int, Position, rank,\n",
       "    rbind, Reduce, rownames, sapply, saveRDS, table, tapply, unique,\n",
       "    unsplit, which.max, which.min\n",
       "\n",
       "Loading required package: S4Vectors\n",
       "\n",
       "Attaching package: ‘S4Vectors’\n",
       "\n",
       "The following object is masked from ‘package:utils’:\n",
       "\n",
       "    findMatches\n",
       "\n",
       "The following objects are masked from ‘package:base’:\n",
       "\n",
       "    expand.grid, I, unname\n",
       "\n",
       "Loading required package: IRanges\n",
       "Loading required package: GenomeInfoDb\n",
       "Loading required package: Biobase\n",
       "Welcome to Bioconductor\n",
       "\n",
       "    Vignettes contain introductory material; view with\n",
       "    'browseVignettes()'. To cite Bioconductor, see\n",
       "    'citation(\"Biobase\")', and for packages 'citation(\"pkgname\")'.\n",
       "\n",
       "\n",
       "Attaching package: ‘Biobase’\n",
       "\n",
       "The following object is masked from ‘package:MatrixGenerics’:\n",
       "\n",
       "    rowMedians\n",
       "\n",
       "The following objects are masked from ‘package:matrixStats’:\n",
       "\n",
       "    anyMissing, rowMedians\n",
       "\n",
       "\n",
       "Attaching package: ‘SingleCellExperiment’\n",
       "\n",
       "The following object is masked from ‘package:edgeR’:\n",
       "\n",
       "    cpm\n",
       "\n",
       "Loading required package: scuttle\n",
       "Loading required package: ggplot2\n",
       "\n",
       "Attaching package: ‘scater’\n",
       "\n",
       "The following object is masked from ‘package:limma’:\n",
       "\n",
       "    plotMDS\n",
       "\n",
       "Loading required package: SeuratObject\n",
       "Loading required package: sp\n",
       "\n",
       "Attaching package: ‘sp’\n",
       "\n",
       "The following object is masked from ‘package:IRanges’:\n",
       "\n",
       "    %over%\n",
       "\n",
       "\n",
       "Attaching package: ‘SeuratObject’\n",
       "\n",
       "The following object is masked from ‘package:SummarizedExperiment’:\n",
       "\n",
       "    Assays\n",
       "\n",
       "The following object is masked from ‘package:GenomicRanges’:\n",
       "\n",
       "    intersect\n",
       "\n",
       "The following object is masked from ‘package:GenomeInfoDb’:\n",
       "\n",
       "    intersect\n",
       "\n",
       "The following object is masked from ‘package:IRanges’:\n",
       "\n",
       "    intersect\n",
       "\n",
       "The following object is masked from ‘package:S4Vectors’:\n",
       "\n",
       "    intersect\n",
       "\n",
       "The following object is masked from ‘package:BiocGenerics’:\n",
       "\n",
       "    intersect\n",
       "\n",
       "The following objects are masked from ‘package:base’:\n",
       "\n",
       "    intersect, t\n",
       "\n",
       "\n",
       "Attaching package: ‘Seurat’\n",
       "\n",
       "The following object is masked from ‘package:SummarizedExperiment’:\n",
       "\n",
       "    Assays\n",
       "\n",
       "\n",
       "Attaching package: ‘DESeq2’\n",
       "\n",
       "The following object is masked from ‘package:scater’:\n",
       "\n",
       "    fpkm\n",
       "\n",
       "data.table 1.17.0 using 8 threads (see ?getDTthreads).  Latest news: r-datatable.com\n",
       "\n",
       "Attaching package: ‘data.table’\n",
       "\n",
       "The following object is masked from ‘package:SummarizedExperiment’:\n",
       "\n",
       "    shift\n",
       "\n",
       "The following object is masked from ‘package:GenomicRanges’:\n",
       "\n",
       "    shift\n",
       "\n",
       "The following object is masked from ‘package:IRanges’:\n",
       "\n",
       "    shift\n",
       "\n",
       "The following objects are masked from ‘package:S4Vectors’:\n",
       "\n",
       "    first, second\n",
       "\n",
       "\n",
       "Attaching package: ‘dplyr’\n",
       "\n",
       "The following objects are masked from ‘package:data.table’:\n",
       "\n",
       "    between, first, last\n",
       "\n",
       "The following object is masked from ‘package:Biobase’:\n",
       "\n",
       "    combine\n",
       "\n",
       "The following objects are masked from ‘package:GenomicRanges’:\n",
       "\n",
       "    intersect, setdiff, union\n",
       "\n",
       "The following object is masked from ‘package:GenomeInfoDb’:\n",
       "\n",
       "    intersect\n",
       "\n",
       "The following objects are masked from ‘package:IRanges’:\n",
       "\n",
       "    collapse, desc, intersect, setdiff, slice, union\n",
       "\n",
       "The following objects are masked from ‘package:S4Vectors’:\n",
       "\n",
       "    first, intersect, rename, setdiff, setequal, union\n",
       "\n",
       "The following objects are masked from ‘package:BiocGenerics’:\n",
       "\n",
       "    combine, intersect, setdiff, setequal, union\n",
       "\n",
       "The following object is masked from ‘package:generics’:\n",
       "\n",
       "    explain\n",
       "\n",
       "The following object is masked from ‘package:matrixStats’:\n",
       "\n",
       "    count\n",
       "\n",
       "The following objects are masked from ‘package:stats’:\n",
       "\n",
       "    filter, lag\n",
       "\n",
       "The following objects are masked from ‘package:base’:\n",
       "\n",
       "    intersect, setdiff, setequal, union\n",
       "\n",
       "Loading required package: Matrix\n",
       "\n",
       "Attaching package: ‘Matrix’\n",
       "\n",
       "The following object is masked from ‘package:S4Vectors’:\n",
       "\n",
       "    expand\n",
       "\n",
       "\n",
       "Attaching package: ‘lme4’\n",
       "\n",
       "The following object is masked from ‘package:generics’:\n",
       "\n",
       "    refit\n",
       "\n",
       "In addition: Warning message:\n",
       "In (function (package, help, pos = 2, lib.loc = NULL, character.only = FALSE,  :\n",
       "  library ‘/usr/lib/R/site-library’ contains no packages\n"
      ]
     },
     "metadata": {},
     "output_type": "display_data"
    }
   ],
   "source": [
    "%%R\n",
    "library(edgeR)\n",
    "library(scater)\n",
    "library(MAST)\n",
    "library(Seurat)\n",
    "library(DESeq2)\n",
    "library(data.table)\n",
    "library(dplyr)\n",
    "#library(EnhancedVolcano)\n",
    "library(apeglm)\n",
    "library(lme4)"
   ]
  },
  {
   "cell_type": "code",
   "execution_count": 4,
   "metadata": {
    "scrolled": true
   },
   "outputs": [],
   "source": [
    "plt.rcParams['figure.figsize']=(8,8) #rescale figures\n",
    "sc.settings.verbosity = 3\n",
    "#sc.set_figure_params(dpi=200, dpi_save=300)\n",
    "#sc.logging.print_versions()\n",
    "\n",
    "\n",
    "\n",
    "#logging.getLogger(\"tensorflow\").setLevel(logging.ERROR)\n",
    "#logging.getLogger(\"batchglm\").setLevel(logging.INFO)\n",
    "\n",
    "\n",
    "pd.set_option('display.max_rows', 500)\n",
    "#warnings.filterwarnings(\"ignore\", category=DeprecationWarning, module=\"tensorflow\")"
   ]
  },
  {
   "cell_type": "code",
   "execution_count": 5,
   "metadata": {},
   "outputs": [],
   "source": [
    "#Set number of threads\n",
    "TF_CONFIG_PROTO.inter_op_parallelism_threads = 1\n",
    "TF_CONFIG_PROTO.intra_op_parallelism_threads = 12"
   ]
  },
  {
   "cell_type": "markdown",
   "metadata": {},
   "source": [
    "# Filenames"
   ]
  },
  {
   "cell_type": "code",
   "execution_count": 6,
   "metadata": {},
   "outputs": [],
   "source": [
    "#input\n",
    "adata_input = 'hp_NPCs/processed_data/hp_NPC_clustered_scvi_cuda_soup.h5ad'"
   ]
  },
  {
   "cell_type": "code",
   "execution_count": 7,
   "metadata": {},
   "outputs": [],
   "source": [
    "#output\n",
    "save_dir = 'hp_NPCs/tables/' \n",
    "resolution = 'cell_types'"
   ]
  },
  {
   "cell_type": "markdown",
   "metadata": {},
   "source": [
    "# Read in data"
   ]
  },
  {
   "cell_type": "code",
   "execution_count": 8,
   "metadata": {},
   "outputs": [],
   "source": [
    "adata = sc.read(adata_input)\n"
   ]
  },
  {
   "cell_type": "code",
   "execution_count": 9,
   "metadata": {},
   "outputs": [
    {
     "data": {
      "text/plain": [
       "AnnData object with n_obs × n_vars = 30557 × 16774\n",
       "    obs: 'lane', 'Demux_state', 'Donor', 'cell_types', 'condition', 'age', 'years_of_illness', 'deltaHY', 'deltaUPDRS', 'deltaADL', 'deltaDOPA', 'gender', 'cultivation_period', 'n_genes_by_counts', 'log1p_n_genes_by_counts', 'total_counts', 'log1p_total_counts', 'pct_counts_in_top_20_genes', 'total_counts_mt', 'log1p_total_counts_mt', 'pct_counts_mt', 'total_counts_ribo', 'log1p_total_counts_ribo', 'pct_counts_ribo', 'total_counts_hb', 'log1p_total_counts_hb', 'pct_counts_hb', 'batch', 'size_factors', 'S_score', 'G2M_score', 'phase', '_scvi_batch', '_scvi_labels', 'Ferroptosis_pos_corr', 'Ferroptosis_neg_corr', 'Apoptosis_pos_corr', 'Apoptosis_neg_corr', 'Necroptosis_pos_corr', 'Autophagy_pos_corr', 'Pathanatos_pos_corr', 'cell_types_abbrev'\n",
       "    var: 'gene_ids', 'feature_types', 'genome', 'gene_symbols', 'mt', 'ribo', 'hb', 'n_cells_by_counts', 'mean_counts', 'log1p_mean_counts', 'pct_dropout_by_counts', 'total_counts', 'log1p_total_counts', 'n_cells', 'highly_variable', 'means', 'dispersions', 'dispersions_norm', 'highly_variable_genes', 'highly_variable_nbatches', 'highly_variable_intersection', 'highly_variable_genes_batch_aware'\n",
       "    uns: 'Donor_colors', '_scvi_manager_uuid', '_scvi_uuid', 'cell_types_abbrev_colors', 'cell_types_colors', 'condition_colors', 'gender_colors', 'hvg', 'lane_colors', 'neighbors', 'neighbors_CC', 'neighbors_noCC', 'pca', 'phase_colors', 'umap'\n",
       "    obsm: 'X_pca', 'X_scVI_CC', 'X_scVI_noCC', 'X_umap', 'X_umap_CC', 'X_umap_noCC', '_scvi_extra_continuous_covs'\n",
       "    varm: 'PCs'\n",
       "    layers: 'counts', 'log1p_norm', 'scran_normalization', 'soupX_counts'\n",
       "    obsp: 'connectivities', 'connectivities_CC', 'connectivities_noCC', 'distances', 'distances_CC', 'distances_noCC'"
      ]
     },
     "execution_count": 9,
     "metadata": {},
     "output_type": "execute_result"
    }
   ],
   "source": [
    "adata"
   ]
  },
  {
   "cell_type": "markdown",
   "metadata": {},
   "source": [
    "# Preprocess data"
   ]
  },
  {
   "cell_type": "code",
   "execution_count": 9,
   "metadata": {},
   "outputs": [],
   "source": [
    "# Clean up cell type names\n",
    "adata.obs['cell_types_used'] = [ct.replace(\" \", \"-\") for ct in adata.obs[resolution]]\n",
    "adata.obs['cell_types_used'] = [ct.replace(\"+\", \"\") for ct in adata.obs['cell_types_used']]"
   ]
  },
  {
   "cell_type": "code",
   "execution_count": 10,
   "metadata": {},
   "outputs": [],
   "source": [
    "adata.obs[\"Donor\"] = adata.obs[\"Donor\"].astype(\"category\")\n",
    "adata.obs[\"condition\"] = adata.obs[\"condition\"].astype(\"category\")\n",
    "adata.obs['cell_types_used'] = adata.obs['cell_types_used'].astype(\"category\")"
   ]
  },
  {
   "cell_type": "code",
   "execution_count": 11,
   "metadata": {},
   "outputs": [
    {
     "data": {
      "text/plain": [
       "Index(['Apop.-NCSC', 'Apop.-NSC', 'Glial-precursors', 'Immature-neurons',\n",
       "       'NCSC', 'NSC1a', 'NSC1b', 'NSC2a', 'NSC2b'],\n",
       "      dtype='object')"
      ]
     },
     "execution_count": 11,
     "metadata": {},
     "output_type": "execute_result"
    }
   ],
   "source": [
    "adata.obs['cell_types_used'].cat.categories"
   ]
  },
  {
   "cell_type": "markdown",
   "metadata": {
    "jp-MarkdownHeadingCollapsed": true
   },
   "source": [
    "# Check the data"
   ]
  },
  {
   "cell_type": "code",
   "execution_count": 12,
   "metadata": {},
   "outputs": [
    {
     "data": {
      "text/plain": [
       "0.0"
      ]
     },
     "execution_count": 12,
     "metadata": {},
     "output_type": "execute_result"
    }
   ],
   "source": [
    "np.mean(adata.layers['soupX_counts'].astype(int) != adata.layers['soupX_counts'])"
   ]
  },
  {
   "cell_type": "markdown",
   "metadata": {},
   "source": [
    "Counts are actually all integer counts."
   ]
  },
  {
   "cell_type": "code",
   "execution_count": 13,
   "metadata": {},
   "outputs": [
    {
     "data": {
      "text/plain": [
       "condition\n",
       "Parkinson    18887\n",
       "Control      11670\n",
       "Name: count, dtype: int64"
      ]
     },
     "execution_count": 13,
     "metadata": {},
     "output_type": "execute_result"
    }
   ],
   "source": [
    "adata.obs.condition.value_counts()"
   ]
  },
  {
   "cell_type": "code",
   "execution_count": 14,
   "metadata": {},
   "outputs": [
    {
     "data": {
      "text/plain": [
       "cell_types_used   condition\n",
       "Apop.-NCSC        Control       110\n",
       "                  Parkinson     101\n",
       "Apop.-NSC         Parkinson     964\n",
       "                  Control       421\n",
       "Glial-precursors  Parkinson     838\n",
       "                  Control       153\n",
       "Immature-neurons  Parkinson     399\n",
       "                  Control       105\n",
       "NCSC              Control      2753\n",
       "                  Parkinson    2251\n",
       "NSC1a             Parkinson    4848\n",
       "                  Control      3845\n",
       "NSC1b             Parkinson    4339\n",
       "                  Control      1860\n",
       "NSC2a             Parkinson    3676\n",
       "                  Control      1971\n",
       "NSC2b             Parkinson    1471\n",
       "                  Control       452\n",
       "Name: count, dtype: int64"
      ]
     },
     "execution_count": 14,
     "metadata": {},
     "output_type": "execute_result"
    }
   ],
   "source": [
    "adata.obs.groupby(['cell_types_used'])['condition'].value_counts()"
   ]
  },
  {
   "cell_type": "code",
   "execution_count": 15,
   "metadata": {
    "scrolled": true
   },
   "outputs": [
    {
     "data": {
      "text/plain": [
       "cell_types_used   Donor          \n",
       "Apop.-NCSC        UKERi1E4-R1-003      63\n",
       "                  UKERi88H-R1-002      59\n",
       "                  UKERi82A-R1-002      46\n",
       "                  UKERiAY6-R1-003      14\n",
       "                  UKERiC99-R1-007      12\n",
       "                  UKERiR66-R1-007       7\n",
       "                  UKERiJ2C-R1-015       5\n",
       "                  UKERiPX7-R1-001       4\n",
       "                  UKERiO3H-R1-005       1\n",
       "                  UKERi1JF-R1-018       0\n",
       "                  UKERiG3G-R1-039       0\n",
       "                  UKERiM89-R1-005       0\n",
       "Apop.-NSC         UKERiJ2C-R1-015     297\n",
       "                  UKERiAY6-R1-003     247\n",
       "                  UKERiG3G-R1-039     223\n",
       "                  UKERiC99-R1-007     165\n",
       "                  UKERiR66-R1-007     156\n",
       "                  UKERiO3H-R1-005      83\n",
       "                  UKERi82A-R1-002      56\n",
       "                  UKERi88H-R1-002      52\n",
       "                  UKERiM89-R1-005      33\n",
       "                  UKERi1E4-R1-003      31\n",
       "                  UKERi1JF-R1-018      28\n",
       "                  UKERiPX7-R1-001      14\n",
       "Glial-precursors  UKERiR66-R1-007     275\n",
       "                  UKERiC99-R1-007     220\n",
       "                  UKERiAY6-R1-003     204\n",
       "                  UKERiG3G-R1-039      98\n",
       "                  UKERi88H-R1-002      96\n",
       "                  UKERi1E4-R1-003      54\n",
       "                  UKERiJ2C-R1-015      22\n",
       "                  UKERiPX7-R1-001      21\n",
       "                  UKERiO3H-R1-005       1\n",
       "                  UKERi1JF-R1-018       0\n",
       "                  UKERi82A-R1-002       0\n",
       "                  UKERiM89-R1-005       0\n",
       "Immature-neurons  UKERiR66-R1-007     116\n",
       "                  UKERiAY6-R1-003      76\n",
       "                  UKERiJ2C-R1-015      69\n",
       "                  UKERiPX7-R1-001      48\n",
       "                  UKERiC99-R1-007      45\n",
       "                  UKERi88H-R1-002      39\n",
       "                  UKERi1JF-R1-018      28\n",
       "                  UKERiG3G-R1-039      25\n",
       "                  UKERi1E4-R1-003      21\n",
       "                  UKERiO3H-R1-005      18\n",
       "                  UKERi82A-R1-002      13\n",
       "                  UKERiM89-R1-005       6\n",
       "NCSC              UKERi1E4-R1-003    2350\n",
       "                  UKERi88H-R1-002     723\n",
       "                  UKERiR66-R1-007     418\n",
       "                  UKERi82A-R1-002     383\n",
       "                  UKERiAY6-R1-003     373\n",
       "                  UKERiC99-R1-007     290\n",
       "                  UKERiJ2C-R1-015     273\n",
       "                  UKERiPX7-R1-001     108\n",
       "                  UKERiM89-R1-005      66\n",
       "                  UKERiG3G-R1-039      13\n",
       "                  UKERi1JF-R1-018       6\n",
       "                  UKERiO3H-R1-005       1\n",
       "NSC1a             UKERiG3G-R1-039    1680\n",
       "                  UKERiO3H-R1-005    1629\n",
       "                  UKERiC99-R1-007    1449\n",
       "                  UKERiAY6-R1-003     841\n",
       "                  UKERiR66-R1-007     768\n",
       "                  UKERi88H-R1-002     667\n",
       "                  UKERiJ2C-R1-015     553\n",
       "                  UKERiM89-R1-005     345\n",
       "                  UKERi1JF-R1-018     273\n",
       "                  UKERiPX7-R1-001     225\n",
       "                  UKERi1E4-R1-003     181\n",
       "                  UKERi82A-R1-002      82\n",
       "NSC1b             UKERiC99-R1-007    1267\n",
       "                  UKERiAY6-R1-003     884\n",
       "                  UKERiG3G-R1-039     733\n",
       "                  UKERiR66-R1-007     719\n",
       "                  UKERiJ2C-R1-015     687\n",
       "                  UKERiO3H-R1-005     675\n",
       "                  UKERi88H-R1-002     435\n",
       "                  UKERi1JF-R1-018     271\n",
       "                  UKERiM89-R1-005     199\n",
       "                  UKERiPX7-R1-001     148\n",
       "                  UKERi1E4-R1-003     100\n",
       "                  UKERi82A-R1-002      81\n",
       "NSC2a             UKERiPX7-R1-001    1267\n",
       "                  UKERi88H-R1-002     789\n",
       "                  UKERiC99-R1-007     762\n",
       "                  UKERi1JF-R1-018     677\n",
       "                  UKERi1E4-R1-003     534\n",
       "                  UKERiG3G-R1-039     361\n",
       "                  UKERiM89-R1-005     292\n",
       "                  UKERiO3H-R1-005     275\n",
       "                  UKERiAY6-R1-003     219\n",
       "                  UKERiJ2C-R1-015     187\n",
       "                  UKERiR66-R1-007     160\n",
       "                  UKERi82A-R1-002     124\n",
       "NSC2b             UKERi88H-R1-002     419\n",
       "                  UKERiC99-R1-007     372\n",
       "                  UKERiPX7-R1-001     322\n",
       "                  UKERiAY6-R1-003     121\n",
       "                  UKERi1E4-R1-003     112\n",
       "                  UKERi1JF-R1-018     111\n",
       "                  UKERiG3G-R1-039      99\n",
       "                  UKERiM89-R1-005      93\n",
       "                  UKERiR66-R1-007      74\n",
       "                  UKERiJ2C-R1-015      70\n",
       "                  UKERi82A-R1-002      67\n",
       "                  UKERiO3H-R1-005      63\n",
       "Name: count, dtype: int64"
      ]
     },
     "execution_count": 15,
     "metadata": {},
     "output_type": "execute_result"
    }
   ],
   "source": [
    "adata.obs.groupby(['cell_types_used'])['Donor'].value_counts()"
   ]
  },
  {
   "cell_type": "markdown",
   "metadata": {},
   "source": [
    "Note:\n",
    "- General imbalance between Parkinson and control cell numbers\n"
   ]
  },
  {
   "cell_type": "markdown",
   "metadata": {},
   "source": [
    "# Single-cell specific using diffxpy"
   ]
  },
  {
   "cell_type": "code",
   "execution_count": 15,
   "metadata": {},
   "outputs": [
    {
     "name": "stdout",
     "output_type": "stream",
     "text": [
      "The directory already exists\n"
     ]
    }
   ],
   "source": [
    "if not os.path.exists(save_dir+'diffxpy'):\n",
    "    # Create a new directory because it does not exist\n",
    "    os.mkdir(save_dir+'diffxpy')\n",
    "    print(\"The new directory: \"+save_dir+\"diffxpy is created!\")\n",
    "else: \n",
    "    print(\"The directory already exists\")"
   ]
  },
  {
   "cell_type": "markdown",
   "metadata": {},
   "source": [
    "## Differential expression testing"
   ]
  },
  {
   "cell_type": "code",
   "execution_count": 16,
   "metadata": {},
   "outputs": [],
   "source": [
    "de_results = dict()\n"
   ]
  },
  {
   "cell_type": "code",
   "execution_count": 17,
   "metadata": {},
   "outputs": [
    {
     "data": {
      "text/plain": [
       "['Intercept',\n",
       " 'condition[T.Parkinson]',\n",
       " 'Donor[T.UKERiG3G-R1-039]',\n",
       " 'Donor[T.UKERi1E4-R1-003]',\n",
       " 'Donor[T.UKERiO3H-R1-005]',\n",
       " 'Donor[T.UKERi82A-R1-002]',\n",
       " 'Donor[T.UKERiJ2C-R1-015]',\n",
       " 'Donor[T.UKERiM89-R1-005]',\n",
       " 'Donor[T.UKERiC99-R1-007]',\n",
       " 'Donor[T.UKERiR66-R1-007]',\n",
       " 'Donor[T.UKERiAY6-R1-003]',\n",
       " 'Donor[T.UKERiPX7-R1-001]',\n",
       " 'Donor[T.UKERi88H-R1-002]']"
      ]
     },
     "execution_count": 17,
     "metadata": {},
     "output_type": "execute_result"
    }
   ],
   "source": [
    "de.utils.preview_coef_names(\n",
    "    sample_description=adata.obs,\n",
    "    formula=\"~1+condition+Donor\", \n",
    ")"
   ]
  },
  {
   "cell_type": "code",
   "execution_count": 18,
   "metadata": {
    "scrolled": true
   },
   "outputs": [
    {
     "name": "stdout",
     "output_type": "stream",
     "text": [
      "In cluster Apop.-NCSC:\n",
      "condition\n",
      "Control      110\n",
      "Parkinson    101\n",
      "Name: count, dtype: int64\n",
      "filtered out 14807 genes that are detected in less than 50 cells\n",
      "Testing 1967 genes...\n",
      "\n"
     ]
    },
    {
     "name": "stderr",
     "output_type": "stream",
     "text": [
      "Built constraints: Donor[UKERi1E4-R1-003]+Donor[UKERiO3H-R1-005]+Donor[UKERi82A-R1-002]=0, Donor[UKERiJ2C-R1-015]+Donor[UKERiC99-R1-007]+Donor[UKERiR66-R1-007]+Donor[UKERiAY6-R1-003]+Donor[UKERiPX7-R1-001]+Donor[UKERi88H-R1-002]=0\n"
     ]
    },
    {
     "name": "stdout",
     "output_type": "stream",
     "text": [
      "training location model: True\n",
      "training scale model: True\n",
      "iter   0: ll=5719522.764339\n",
      "iter   1: ll=5696145.373691, converged: 0.00% (loc: 2.24%, scale update: False), in 0.57sec\n",
      "iter   2: ll=5691539.923546, converged: 0.00% (loc: 12.35%, scale update: False), in 0.62sec\n",
      "iter   3: ll=5690645.405110, converged: 0.00% (loc: 12.35%, scale update: False), in 0.66sec\n",
      "iter   4: ll=5690452.938784, converged: 0.00% (loc: 12.35%, scale update: False), in 0.59sec\n",
      "iter   5: ll=5690407.058401, converged: 0.00% (loc: 12.51%, scale update: False), in 0.56sec\n",
      "Fitting 1967 dispersion models: (progress not available with multiprocessing)"
     ]
    },
    {
     "name": "stderr",
     "output_type": "stream",
     "text": [
      "/usr/lib/python3.10/multiprocessing/popen_fork.py:66: RuntimeWarning: os.fork() was called. os.fork() is incompatible with multithreaded code, and JAX is multithreaded, so this will likely lead to a deadlock.\n",
      "  self.pid = os.fork()\n"
     ]
    },
    {
     "name": "stdout",
     "output_type": "stream",
     "text": [
      "iter   6: ll=502715.059239, converged: 0.15% (loc: 0.15%, scale update: True), in 5.11sec\n",
      "iter   7: ll=501871.722525, converged: 0.15% (loc: 5.85%, scale update: False), in 0.56sec\n",
      "iter   8: ll=501658.323852, converged: 0.15% (loc: 8.24%, scale update: False), in 0.67sec\n",
      "iter   9: ll=501607.255001, converged: 0.15% (loc: 11.34%, scale update: False), in 0.56sec\n",
      "iter  10: ll=501593.655117, converged: 0.15% (loc: 16.22%, scale update: False), in 0.58sec\n",
      "iter  11: ll=501590.727736, converged: 0.15% (loc: 22.06%, scale update: False), in 0.57sec\n",
      "Fitting 1964 dispersion models: (progress not available with multiprocessing)"
     ]
    },
    {
     "name": "stderr",
     "output_type": "stream",
     "text": [
      "/usr/lib/python3.10/multiprocessing/popen_fork.py:66: RuntimeWarning: os.fork() was called. os.fork() is incompatible with multithreaded code, and JAX is multithreaded, so this will likely lead to a deadlock.\n",
      "  self.pid = os.fork()\n"
     ]
    },
    {
     "name": "stdout",
     "output_type": "stream",
     "text": [
      "iter  12: ll=474710.814102, converged: 4.68% (loc: 4.68%, scale update: True), in 3.02sec\n",
      "iter  13: ll=474678.000137, converged: 4.68% (loc: 19.62%, scale update: False), in 0.57sec\n",
      "iter  14: ll=474676.144333, converged: 4.68% (loc: 25.98%, scale update: False), in 0.56sec\n",
      "iter  15: ll=474675.790257, converged: 4.68% (loc: 33.20%, scale update: False), in 0.43sec\n",
      "iter  16: ll=474675.735463, converged: 4.68% (loc: 41.18%, scale update: False), in 0.37sec\n",
      "iter  17: ll=474675.717442, converged: 4.68% (loc: 47.89%, scale update: False), in 0.37sec\n",
      "Fitting 1875 dispersion models: (progress not available with multiprocessing)"
     ]
    },
    {
     "name": "stderr",
     "output_type": "stream",
     "text": [
      "/usr/lib/python3.10/multiprocessing/popen_fork.py:66: RuntimeWarning: os.fork() was called. os.fork() is incompatible with multithreaded code, and JAX is multithreaded, so this will likely lead to a deadlock.\n",
      "  self.pid = os.fork()\n"
     ]
    },
    {
     "name": "stdout",
     "output_type": "stream",
     "text": [
      "iter  18: ll=458499.926327, converged: 18.25% (loc: 18.25%, scale update: True), in 2.89sec\n",
      "iter  19: ll=458492.663871, converged: 18.25% (loc: 38.33%, scale update: False), in 0.55sec\n",
      "iter  20: ll=458492.607782, converged: 18.25% (loc: 45.60%, scale update: False), in 0.39sec\n",
      "iter  21: ll=458492.604584, converged: 18.25% (loc: 64.01%, scale update: False), in 0.37sec\n",
      "iter  22: ll=458492.603894, converged: 18.25% (loc: 77.89%, scale update: False), in 0.36sec\n",
      "iter  23: ll=458492.603797, converged: 18.25% (loc: 92.88%, scale update: False), in 0.35sec\n",
      "Fitting 1608 dispersion models: (progress not available with multiprocessing)"
     ]
    },
    {
     "name": "stderr",
     "output_type": "stream",
     "text": [
      "/usr/lib/python3.10/multiprocessing/popen_fork.py:66: RuntimeWarning: os.fork() was called. os.fork() is incompatible with multithreaded code, and JAX is multithreaded, so this will likely lead to a deadlock.\n",
      "  self.pid = os.fork()\n"
     ]
    },
    {
     "name": "stdout",
     "output_type": "stream",
     "text": [
      "iter  24: ll=453314.227541, converged: 36.81% (loc: 36.81%, scale update: True), in 2.39sec\n",
      "iter  25: ll=453312.544465, converged: 36.81% (loc: 72.75%, scale update: False), in 0.38sec\n",
      "iter  26: ll=453312.541511, converged: 36.81% (loc: 84.29%, scale update: False), in 0.35sec\n",
      "iter  27: ll=453312.541229, converged: 36.81% (loc: 92.37%, scale update: False), in 0.32sec\n",
      "iter  28: ll=453312.541189, converged: 36.81% (loc: 96.70%, scale update: False), in 0.32sec\n",
      "iter  29: ll=453312.541182, converged: 36.81% (loc: 98.42%, scale update: False), in 0.33sec\n",
      "Fitting 1243 dispersion models: (progress not available with multiprocessing)"
     ]
    },
    {
     "name": "stderr",
     "output_type": "stream",
     "text": [
      "/usr/lib/python3.10/multiprocessing/popen_fork.py:66: RuntimeWarning: os.fork() was called. os.fork() is incompatible with multithreaded code, and JAX is multithreaded, so this will likely lead to a deadlock.\n",
      "  self.pid = os.fork()\n"
     ]
    },
    {
     "name": "stdout",
     "output_type": "stream",
     "text": [
      "iter  30: ll=451042.310270, converged: 71.58% (loc: 71.58%, scale update: True), in 1.98sec\n",
      "iter  31: ll=451038.437449, converged: 71.58% (loc: 86.73%, scale update: False), in 0.35sec\n",
      "iter  32: ll=451038.431794, converged: 71.58% (loc: 93.04%, scale update: False), in 0.33sec\n",
      "iter  33: ll=451038.431752, converged: 71.58% (loc: 97.20%, scale update: False), in 0.34sec\n",
      "iter  34: ll=451038.431746, converged: 71.58% (loc: 98.68%, scale update: False), in 0.29sec\n",
      "iter  35: ll=451038.431744, converged: 71.58% (loc: 99.59%, scale update: False), in 0.23sec\n",
      "Fitting 559 dispersion models: (progress not available with multiprocessing)"
     ]
    },
    {
     "name": "stderr",
     "output_type": "stream",
     "text": [
      "/usr/lib/python3.10/multiprocessing/popen_fork.py:66: RuntimeWarning: os.fork() was called. os.fork() is incompatible with multithreaded code, and JAX is multithreaded, so this will likely lead to a deadlock.\n",
      "  self.pid = os.fork()\n"
     ]
    },
    {
     "name": "stdout",
     "output_type": "stream",
     "text": [
      "iter  36: ll=449593.254743, converged: 86.17% (loc: 86.17%, scale update: True), in 1.09sec\n",
      "iter  37: ll=449591.860208, converged: 86.17% (loc: 93.39%, scale update: False), in 0.34sec\n",
      "caught 18 linalg singular matrix errors\n",
      "iter  38: ll=449591.860180, converged: 86.17% (loc: 98.02%, scale update: False), in 0.33sec\n",
      "caught 9 linalg singular matrix errors\n",
      "iter  39: ll=449591.860179, converged: 86.17% (loc: 99.54%, scale update: False), in 0.28sec\n",
      "caught 2 linalg singular matrix errors\n",
      "iter  40: ll=449591.860178, converged: 86.17% (loc: 99.95%, scale update: False), in 0.17sec\n",
      "iter  41: ll=449591.860178, converged: 86.17% (loc: 100.00%, scale update: False), in 0.11sec\n",
      "Fitting 272 dispersion models: (progress not available with multiprocessing)"
     ]
    },
    {
     "name": "stderr",
     "output_type": "stream",
     "text": [
      "/usr/lib/python3.10/multiprocessing/popen_fork.py:66: RuntimeWarning: os.fork() was called. os.fork() is incompatible with multithreaded code, and JAX is multithreaded, so this will likely lead to a deadlock.\n",
      "  self.pid = os.fork()\n"
     ]
    },
    {
     "name": "stdout",
     "output_type": "stream",
     "text": [
      "iter  42: ll=449274.682359, converged: 93.24% (loc: 93.24%, scale update: True), in 0.97sec\n",
      "caught 34 linalg singular matrix errors\n",
      "iter  43: ll=449274.681259, converged: 93.24% (loc: 97.76%, scale update: False), in 0.33sec\n",
      "caught 11 linalg singular matrix errors\n",
      "iter  44: ll=449274.681236, converged: 93.24% (loc: 99.69%, scale update: False), in 0.28sec\n",
      "iter  45: ll=449274.681236, converged: 93.24% (loc: 99.90%, scale update: False), in 0.15sec\n",
      "iter  46: ll=449274.681236, converged: 93.24% (loc: 100.00%, scale update: False), in 0.12sec\n",
      "Fitting 133 dispersion models: (progress not available with multiprocessing)"
     ]
    },
    {
     "name": "stderr",
     "output_type": "stream",
     "text": [
      "/usr/lib/python3.10/multiprocessing/popen_fork.py:66: RuntimeWarning: os.fork() was called. os.fork() is incompatible with multithreaded code, and JAX is multithreaded, so this will likely lead to a deadlock.\n",
      "  self.pid = os.fork()\n"
     ]
    },
    {
     "name": "stdout",
     "output_type": "stream",
     "text": [
      "iter  47: ll=449009.605089, converged: 97.56% (loc: 97.56%, scale update: True), in 0.68sec\n",
      "caught 19 linalg singular matrix errors\n",
      "iter  48: ll=449009.605083, converged: 97.56% (loc: 99.59%, scale update: False), in 0.29sec\n",
      "iter  49: ll=449009.605083, converged: 97.56% (loc: 99.85%, scale update: False), in 0.18sec\n",
      "iter  50: ll=449009.605083, converged: 97.56% (loc: 100.00%, scale update: False), in 0.15sec\n",
      "Fitting 48 dispersion models: (progress not available with multiprocessing)"
     ]
    },
    {
     "name": "stderr",
     "output_type": "stream",
     "text": [
      "/usr/lib/python3.10/multiprocessing/popen_fork.py:66: RuntimeWarning: os.fork() was called. os.fork() is incompatible with multithreaded code, and JAX is multithreaded, so this will likely lead to a deadlock.\n",
      "  self.pid = os.fork()\n"
     ]
    },
    {
     "name": "stdout",
     "output_type": "stream",
     "text": [
      "iter  51: ll=448636.148800, converged: 99.44% (loc: 99.44%, scale update: True), in 0.54sec\n",
      "caught 2 linalg singular matrix errors\n",
      "iter  52: ll=448636.148800, converged: 99.44% (loc: 99.85%, scale update: False), in 0.19sec\n",
      "iter  53: ll=448636.148800, converged: 99.44% (loc: 100.00%, scale update: False), in 0.14sec\n",
      "Fitting 11 dispersion models: (progress not available with multiprocessing)"
     ]
    },
    {
     "name": "stderr",
     "output_type": "stream",
     "text": [
      "/usr/lib/python3.10/multiprocessing/popen_fork.py:66: RuntimeWarning: os.fork() was called. os.fork() is incompatible with multithreaded code, and JAX is multithreaded, so this will likely lead to a deadlock.\n",
      "  self.pid = os.fork()\n"
     ]
    },
    {
     "name": "stdout",
     "output_type": "stream",
     "text": [
      "iter  54: ll=448339.297778, converged: 99.64% (loc: 99.64%, scale update: True), in 0.48sec\n",
      "caught 1 linalg singular matrix errors\n",
      "iter  55: ll=448339.297778, converged: 99.64% (loc: 99.95%, scale update: False), in 0.16sec\n",
      "iter  56: ll=448339.297778, converged: 99.64% (loc: 100.00%, scale update: False), in 0.10sec\n",
      "Fitting 7 dispersion models: (progress not available with multiprocessing)"
     ]
    },
    {
     "name": "stderr",
     "output_type": "stream",
     "text": [
      "/usr/lib/python3.10/multiprocessing/popen_fork.py:66: RuntimeWarning: os.fork() was called. os.fork() is incompatible with multithreaded code, and JAX is multithreaded, so this will likely lead to a deadlock.\n",
      "  self.pid = os.fork()\n"
     ]
    },
    {
     "name": "stdout",
     "output_type": "stream",
     "text": [
      "iter  57: ll=448336.993388, converged: 99.85% (loc: 99.85%, scale update: True), in 0.43sec\n",
      "iter  58: ll=448336.993388, converged: 99.85% (loc: 100.00%, scale update: False), in 0.12sec\n",
      "iter  59: ll=448334.963226, converged: 99.95% (loc: 99.95%, scale update: True), in 0.12sec\n",
      "iter  60: ll=448334.963226, converged: 99.95% (loc: 100.00%, scale update: False), in 0.10sec\n",
      "iter  61: ll=448334.963226, converged: 100.00% (loc: 100.00%, scale update: True), in 0.08sec\n"
     ]
    },
    {
     "name": "stderr",
     "output_type": "stream",
     "text": [
      "/usr/local/lib/python3.10/dist-packages/dask/array/core.py:2894: RuntimeWarning: divide by zero encountered in divide\n",
      "  size = (limit / dtype.itemsize / largest_block) ** (1 / len(autos))\n"
     ]
    },
    {
     "name": "stdout",
     "output_type": "stream",
     "text": [
      "In cluster Apop.-NSC:\n",
      "condition\n",
      "Parkinson    964\n",
      "Control      421\n",
      "Name: count, dtype: int64\n",
      "filtered out 9644 genes that are detected in less than 50 cells\n"
     ]
    },
    {
     "name": "stderr",
     "output_type": "stream",
     "text": [
      "Built constraints: Donor[UKERi1JF-R1-018]+Donor[UKERiG3G-R1-039]+Donor[UKERi1E4-R1-003]+Donor[UKERiO3H-R1-005]+Donor[UKERi82A-R1-002]=0, Donor[UKERiJ2C-R1-015]+Donor[UKERiM89-R1-005]+Donor[UKERiC99-R1-007]+Donor[UKERiR66-R1-007]+Donor[UKERiAY6-R1-003]+Donor[UKERiPX7-R1-001]+Donor[UKERi88H-R1-002]=0\n"
     ]
    },
    {
     "name": "stdout",
     "output_type": "stream",
     "text": [
      "Testing 7130 genes...\n",
      "\n",
      "training location model: True\n",
      "training scale model: True\n",
      "iter   0: ll=23411765.233471\n",
      "iter   1: ll=23171739.529177, converged: 0.00% (loc: 5.25%, scale update: False), in 4.08sec\n",
      "iter   2: ll=23100970.727434, converged: 0.00% (loc: 13.44%, scale update: False), in 3.73sec\n",
      "iter   3: ll=23089307.036028, converged: 0.00% (loc: 13.44%, scale update: False), in 3.71sec\n",
      "iter   4: ll=23087795.179315, converged: 0.00% (loc: 13.44%, scale update: False), in 4.11sec\n",
      "iter   5: ll=23087587.998074, converged: 0.00% (loc: 13.91%, scale update: False), in 3.88sec\n",
      "Fitting 7130 dispersion models: (progress not available with multiprocessing)"
     ]
    },
    {
     "name": "stderr",
     "output_type": "stream",
     "text": [
      "/usr/lib/python3.10/multiprocessing/popen_fork.py:66: RuntimeWarning: os.fork() was called. os.fork() is incompatible with multithreaded code, and JAX is multithreaded, so this will likely lead to a deadlock.\n",
      "  self.pid = os.fork()\n"
     ]
    },
    {
     "name": "stdout",
     "output_type": "stream",
     "text": [
      "iter   6: ll=6072575.921706, converged: 0.10% (loc: 0.10%, scale update: True), in 21.82sec\n",
      "iter   7: ll=6066787.187576, converged: 0.10% (loc: 7.71%, scale update: False), in 3.93sec\n",
      "iter   8: ll=6065314.482987, converged: 0.10% (loc: 9.73%, scale update: False), in 3.99sec\n",
      "iter   9: ll=6064971.657818, converged: 0.10% (loc: 18.50%, scale update: False), in 3.67sec\n",
      "iter  10: ll=6064914.092915, converged: 0.10% (loc: 35.15%, scale update: False), in 3.67sec\n",
      "iter  11: ll=6064898.710991, converged: 0.10% (loc: 54.94%, scale update: False), in 3.17sec\n",
      "Fitting 7123 dispersion models: (progress not available with multiprocessing)"
     ]
    },
    {
     "name": "stderr",
     "output_type": "stream",
     "text": [
      "/usr/lib/python3.10/multiprocessing/popen_fork.py:66: RuntimeWarning: os.fork() was called. os.fork() is incompatible with multithreaded code, and JAX is multithreaded, so this will likely lead to a deadlock.\n",
      "  self.pid = os.fork()\n"
     ]
    },
    {
     "name": "stdout",
     "output_type": "stream",
     "text": [
      "iter  12: ll=5864002.543228, converged: 6.45% (loc: 6.45%, scale update: True), in 21.61sec\n",
      "iter  13: ll=5863791.389610, converged: 6.45% (loc: 18.54%, scale update: False), in 3.88sec\n",
      "iter  14: ll=5863762.577018, converged: 6.45% (loc: 31.87%, scale update: False), in 3.71sec\n",
      "iter  15: ll=5863758.346511, converged: 6.45% (loc: 53.04%, scale update: False), in 3.39sec\n",
      "iter  16: ll=5863758.146586, converged: 6.45% (loc: 68.86%, scale update: False), in 2.90sec\n",
      "iter  17: ll=5863758.078471, converged: 6.45% (loc: 74.46%, scale update: False), in 2.15sec\n",
      "Fitting 6670 dispersion models: (progress not available with multiprocessing)"
     ]
    },
    {
     "name": "stderr",
     "output_type": "stream",
     "text": [
      "/usr/lib/python3.10/multiprocessing/popen_fork.py:66: RuntimeWarning: os.fork() was called. os.fork() is incompatible with multithreaded code, and JAX is multithreaded, so this will likely lead to a deadlock.\n",
      "  self.pid = os.fork()\n"
     ]
    },
    {
     "name": "stdout",
     "output_type": "stream",
     "text": [
      "iter  18: ll=5745372.758634, converged: 17.11% (loc: 17.11%, scale update: True), in 20.07sec\n",
      "iter  19: ll=5745334.303031, converged: 17.11% (loc: 43.77%, scale update: False), in 3.83sec\n",
      "iter  20: ll=5745334.289296, converged: 17.11% (loc: 63.93%, scale update: False), in 2.95sec\n",
      "iter  21: ll=5745334.288301, converged: 17.11% (loc: 80.13%, scale update: False), in 2.55sec\n",
      "iter  22: ll=5745334.288095, converged: 17.11% (loc: 92.01%, scale update: False), in 1.96sec\n",
      "iter  23: ll=5745334.288045, converged: 17.11% (loc: 98.15%, scale update: False), in 1.64sec\n",
      "Fitting 5910 dispersion models: (progress not available with multiprocessing)"
     ]
    },
    {
     "name": "stderr",
     "output_type": "stream",
     "text": [
      "/usr/lib/python3.10/multiprocessing/popen_fork.py:66: RuntimeWarning: os.fork() was called. os.fork() is incompatible with multithreaded code, and JAX is multithreaded, so this will likely lead to a deadlock.\n",
      "  self.pid = os.fork()\n"
     ]
    },
    {
     "name": "stdout",
     "output_type": "stream",
     "text": [
      "iter  24: ll=5673159.673071, converged: 42.62% (loc: 42.62%, scale update: True), in 18.08sec\n",
      "iter  25: ll=5673114.248393, converged: 42.62% (loc: 86.19%, scale update: False), in 2.85sec\n",
      "iter  26: ll=5673113.832436, converged: 42.62% (loc: 97.76%, scale update: False), in 2.01sec\n",
      "iter  27: ll=5673113.832427, converged: 42.62% (loc: 99.55%, scale update: False), in 1.57sec\n",
      "iter  28: ll=5673113.832426, converged: 42.62% (loc: 99.85%, scale update: False), in 0.84sec\n",
      "iter  29: ll=5673113.832426, converged: 42.62% (loc: 99.99%, scale update: False), in 0.51sec\n",
      "Fitting 4091 dispersion models: (progress not available with multiprocessing)"
     ]
    },
    {
     "name": "stderr",
     "output_type": "stream",
     "text": [
      "/usr/lib/python3.10/multiprocessing/popen_fork.py:66: RuntimeWarning: os.fork() was called. os.fork() is incompatible with multithreaded code, and JAX is multithreaded, so this will likely lead to a deadlock.\n",
      "  self.pid = os.fork()\n"
     ]
    },
    {
     "name": "stdout",
     "output_type": "stream",
     "text": [
      "iter  30: ll=5650679.930080, converged: 85.16% (loc: 85.16%, scale update: True), in 13.04sec\n",
      "iter  31: ll=5650673.839308, converged: 85.16% (loc: 97.85%, scale update: False), in 1.89sec\n",
      "iter  32: ll=5650673.839063, converged: 85.16% (loc: 99.71%, scale update: False), in 1.32sec\n",
      "iter  33: ll=5650673.839063, converged: 85.16% (loc: 99.94%, scale update: False), in 0.63sec\n",
      "iter  34: ll=5650673.839063, converged: 85.16% (loc: 100.00%, scale update: False), in 0.37sec\n",
      "Fitting 1058 dispersion models: (progress not available with multiprocessing)"
     ]
    },
    {
     "name": "stderr",
     "output_type": "stream",
     "text": [
      "/usr/lib/python3.10/multiprocessing/popen_fork.py:66: RuntimeWarning: os.fork() was called. os.fork() is incompatible with multithreaded code, and JAX is multithreaded, so this will likely lead to a deadlock.\n",
      "  self.pid = os.fork()\n"
     ]
    },
    {
     "name": "stdout",
     "output_type": "stream",
     "text": [
      "iter  35: ll=5641347.614938, converged: 97.38% (loc: 97.38%, scale update: True), in 5.49sec\n",
      "iter  36: ll=5641333.692661, converged: 97.38% (loc: 99.62%, scale update: False), in 1.43sec\n",
      "iter  37: ll=5641333.692660, converged: 97.38% (loc: 99.94%, scale update: False), in 0.96sec\n",
      "iter  38: ll=5641333.692660, converged: 97.38% (loc: 100.00%, scale update: False), in 0.38sec\n",
      "Fitting 187 dispersion models: (progress not available with multiprocessing)"
     ]
    },
    {
     "name": "stderr",
     "output_type": "stream",
     "text": [
      "/usr/lib/python3.10/multiprocessing/popen_fork.py:66: RuntimeWarning: os.fork() was called. os.fork() is incompatible with multithreaded code, and JAX is multithreaded, so this will likely lead to a deadlock.\n",
      "  self.pid = os.fork()\n"
     ]
    },
    {
     "name": "stdout",
     "output_type": "stream",
     "text": [
      "iter  39: ll=5637651.997046, converged: 99.50% (loc: 99.50%, scale update: True), in 3.02sec\n",
      "caught 1 linalg singular matrix errors\n",
      "iter  40: ll=5637648.102647, converged: 99.50% (loc: 99.93%, scale update: False), in 0.91sec\n",
      "iter  41: ll=5637648.102647, converged: 99.50% (loc: 100.00%, scale update: False), in 0.42sec\n",
      "Fitting 36 dispersion models: (progress not available with multiprocessing)"
     ]
    },
    {
     "name": "stderr",
     "output_type": "stream",
     "text": [
      "/usr/lib/python3.10/multiprocessing/popen_fork.py:66: RuntimeWarning: os.fork() was called. os.fork() is incompatible with multithreaded code, and JAX is multithreaded, so this will likely lead to a deadlock.\n",
      "  self.pid = os.fork()\n"
     ]
    },
    {
     "name": "stdout",
     "output_type": "stream",
     "text": [
      "iter  42: ll=5637366.210637, converged: 99.89% (loc: 99.89%, scale update: True), in 2.57sec\n",
      "iter  43: ll=5637366.210637, converged: 99.89% (loc: 99.99%, scale update: False), in 0.46sec\n",
      "iter  44: ll=5637366.210637, converged: 99.89% (loc: 100.00%, scale update: False), in 0.27sec\n",
      "Fitting 8 dispersion models: (progress not available with multiprocessing)"
     ]
    },
    {
     "name": "stderr",
     "output_type": "stream",
     "text": [
      "/usr/lib/python3.10/multiprocessing/popen_fork.py:66: RuntimeWarning: os.fork() was called. os.fork() is incompatible with multithreaded code, and JAX is multithreaded, so this will likely lead to a deadlock.\n",
      "  self.pid = os.fork()\n"
     ]
    },
    {
     "name": "stdout",
     "output_type": "stream",
     "text": [
      "iter  45: ll=5637347.783302, converged: 99.97% (loc: 99.97%, scale update: True), in 2.00sec\n",
      "iter  46: ll=5637347.783302, converged: 99.97% (loc: 100.00%, scale update: False), in 0.34sec\n",
      "iter  47: ll=5637347.783302, converged: 100.00% (loc: 100.00%, scale update: True), in 0.37sec\n"
     ]
    },
    {
     "name": "stderr",
     "output_type": "stream",
     "text": [
      "/usr/local/lib/python3.10/dist-packages/dask/array/core.py:2894: RuntimeWarning: divide by zero encountered in divide\n",
      "  size = (limit / dtype.itemsize / largest_block) ** (1 / len(autos))\n"
     ]
    },
    {
     "name": "stdout",
     "output_type": "stream",
     "text": [
      "In cluster Glial-precursors:\n",
      "condition\n",
      "Parkinson    838\n",
      "Control      153\n",
      "Name: count, dtype: int64\n",
      "filtered out 5941 genes that are detected in less than 50 cells\n"
     ]
    },
    {
     "name": "stderr",
     "output_type": "stream",
     "text": [
      "Built constraints: Donor[UKERiG3G-R1-039]+Donor[UKERi1E4-R1-003]+Donor[UKERiO3H-R1-005]=0, Donor[UKERiJ2C-R1-015]+Donor[UKERiC99-R1-007]+Donor[UKERiR66-R1-007]+Donor[UKERiAY6-R1-003]+Donor[UKERiPX7-R1-001]+Donor[UKERi88H-R1-002]=0\n"
     ]
    },
    {
     "name": "stdout",
     "output_type": "stream",
     "text": [
      "Testing 10833 genes...\n",
      "\n",
      "training location model: True\n",
      "training scale model: True\n",
      "iter   0: ll=37593560.548446\n",
      "iter   1: ll=37191613.592163, converged: 0.00% (loc: 1.26%, scale update: False), in 4.33sec\n",
      "iter   2: ll=37144668.645423, converged: 0.00% (loc: 7.02%, scale update: False), in 4.52sec\n",
      "iter   3: ll=37140476.071879, converged: 0.00% (loc: 7.02%, scale update: False), in 4.11sec\n",
      "iter   4: ll=37139434.543963, converged: 0.00% (loc: 7.06%, scale update: False), in 4.12sec\n",
      "iter   5: ll=37139015.865815, converged: 0.00% (loc: 11.47%, scale update: False), in 4.29sec\n",
      "Fitting 10833 dispersion models: (progress not available with multiprocessing)"
     ]
    },
    {
     "name": "stderr",
     "output_type": "stream",
     "text": [
      "/usr/lib/python3.10/multiprocessing/popen_fork.py:66: RuntimeWarning: os.fork() was called. os.fork() is incompatible with multithreaded code, and JAX is multithreaded, so this will likely lead to a deadlock.\n",
      "  self.pid = os.fork()\n"
     ]
    },
    {
     "name": "stdout",
     "output_type": "stream",
     "text": [
      "iter   6: ll=9914756.005998, converged: 0.03% (loc: 0.03%, scale update: True), in 28.35sec\n",
      "iter   7: ll=9912407.639303, converged: 0.03% (loc: 5.02%, scale update: False), in 4.23sec\n",
      "iter   8: ll=9911216.292059, converged: 0.03% (loc: 7.48%, scale update: False), in 4.62sec\n",
      "iter   9: ll=9910075.756993, converged: 0.03% (loc: 20.13%, scale update: False), in 4.08sec\n",
      "iter  10: ll=9909629.451412, converged: 0.03% (loc: 32.86%, scale update: False), in 3.80sec\n",
      "iter  11: ll=9909445.879544, converged: 0.03% (loc: 37.92%, scale update: False), in 3.68sec\n",
      "Fitting 10830 dispersion models: (progress not available with multiprocessing)"
     ]
    },
    {
     "name": "stderr",
     "output_type": "stream",
     "text": [
      "/usr/lib/python3.10/multiprocessing/popen_fork.py:66: RuntimeWarning: os.fork() was called. os.fork() is incompatible with multithreaded code, and JAX is multithreaded, so this will likely lead to a deadlock.\n",
      "  self.pid = os.fork()\n"
     ]
    },
    {
     "name": "stdout",
     "output_type": "stream",
     "text": [
      "iter  12: ll=9604214.359183, converged: 3.77% (loc: 3.77%, scale update: True), in 27.86sec\n",
      "iter  13: ll=9603964.420194, converged: 3.77% (loc: 19.39%, scale update: False), in 4.37sec\n",
      "iter  14: ll=9603902.811502, converged: 3.77% (loc: 35.43%, scale update: False), in 4.06sec\n",
      "iter  15: ll=9603869.259731, converged: 3.77% (loc: 43.38%, scale update: False), in 3.27sec\n",
      "iter  16: ll=9603844.381438, converged: 3.77% (loc: 45.53%, scale update: False), in 3.21sec\n",
      "iter  17: ll=9603824.864144, converged: 3.77% (loc: 46.27%, scale update: False), in 3.29sec\n",
      "Fitting 10425 dispersion models: (progress not available with multiprocessing)"
     ]
    },
    {
     "name": "stderr",
     "output_type": "stream",
     "text": [
      "/usr/lib/python3.10/multiprocessing/popen_fork.py:66: RuntimeWarning: os.fork() was called. os.fork() is incompatible with multithreaded code, and JAX is multithreaded, so this will likely lead to a deadlock.\n",
      "  self.pid = os.fork()\n"
     ]
    },
    {
     "name": "stdout",
     "output_type": "stream",
     "text": [
      "iter  18: ll=9442405.845517, converged: 18.04% (loc: 18.04%, scale update: True), in 27.53sec\n",
      "iter  19: ll=9442353.762034, converged: 18.04% (loc: 64.33%, scale update: False), in 3.90sec\n",
      "iter  20: ll=9442337.932417, converged: 18.04% (loc: 90.15%, scale update: False), in 2.60sec\n",
      "iter  21: ll=9442326.351331, converged: 18.04% (loc: 92.38%, scale update: False), in 1.98sec\n",
      "iter  22: ll=9442317.854374, converged: 18.04% (loc: 96.57%, scale update: False), in 1.69sec\n",
      "iter  23: ll=9442312.021896, converged: 18.04% (loc: 98.74%, scale update: False), in 1.74sec\n",
      "Fitting 8879 dispersion models: (progress not available with multiprocessing)"
     ]
    },
    {
     "name": "stderr",
     "output_type": "stream",
     "text": [
      "/usr/lib/python3.10/multiprocessing/popen_fork.py:66: RuntimeWarning: os.fork() was called. os.fork() is incompatible with multithreaded code, and JAX is multithreaded, so this will likely lead to a deadlock.\n",
      "  self.pid = os.fork()\n"
     ]
    },
    {
     "name": "stdout",
     "output_type": "stream",
     "text": [
      "iter  24: ll=9362032.744469, converged: 62.97% (loc: 62.97%, scale update: True), in 24.30sec\n",
      "iter  25: ll=9362011.191242, converged: 62.97% (loc: 97.76%, scale update: False), in 2.71sec\n",
      "iter  26: ll=9362008.598636, converged: 62.97% (loc: 99.22%, scale update: False), in 1.62sec\n",
      "iter  27: ll=9362006.813698, converged: 62.97% (loc: 99.72%, scale update: False), in 1.27sec\n",
      "iter  28: ll=9362005.362021, converged: 62.97% (loc: 99.85%, scale update: False), in 0.70sec\n",
      "iter  29: ll=9362004.167363, converged: 62.97% (loc: 99.90%, scale update: False), in 0.51sec\n",
      "Fitting 4012 dispersion models: (progress not available with multiprocessing)"
     ]
    },
    {
     "name": "stderr",
     "output_type": "stream",
     "text": [
      "/usr/lib/python3.10/multiprocessing/popen_fork.py:66: RuntimeWarning: os.fork() was called. os.fork() is incompatible with multithreaded code, and JAX is multithreaded, so this will likely lead to a deadlock.\n",
      "  self.pid = os.fork()\n"
     ]
    },
    {
     "name": "stdout",
     "output_type": "stream",
     "text": [
      "iter  30: ll=9340754.753911, converged: 97.15% (loc: 97.15%, scale update: True), in 12.68sec\n",
      "iter  31: ll=9340750.430473, converged: 97.15% (loc: 99.51%, scale update: False), in 1.75sec\n",
      "iter  32: ll=9340749.508184, converged: 97.15% (loc: 99.82%, scale update: False), in 0.98sec\n",
      "iter  33: ll=9340749.018265, converged: 97.15% (loc: 99.92%, scale update: False), in 0.57sec\n",
      "iter  34: ll=9340748.817307, converged: 97.15% (loc: 99.94%, scale update: False), in 0.49sec\n",
      "iter  35: ll=9340748.773622, converged: 97.15% (loc: 99.94%, scale update: False), in 0.37sec\n",
      "Fitting 309 dispersion models: (progress not available with multiprocessing)"
     ]
    },
    {
     "name": "stderr",
     "output_type": "stream",
     "text": [
      "/usr/lib/python3.10/multiprocessing/popen_fork.py:66: RuntimeWarning: os.fork() was called. os.fork() is incompatible with multithreaded code, and JAX is multithreaded, so this will likely lead to a deadlock.\n",
      "  self.pid = os.fork()\n"
     ]
    },
    {
     "name": "stdout",
     "output_type": "stream",
     "text": [
      "iter  36: ll=9337600.954023, converged: 99.39% (loc: 99.39%, scale update: True), in 4.32sec\n",
      "caught 2 linalg singular matrix errors\n",
      "iter  37: ll=9337600.397161, converged: 99.39% (loc: 99.89%, scale update: False), in 1.04sec\n",
      "iter  38: ll=9337600.396762, converged: 99.39% (loc: 99.95%, scale update: False), in 0.46sec\n",
      "iter  39: ll=9337600.396753, converged: 99.39% (loc: 99.97%, scale update: False), in 0.37sec\n",
      "iter  40: ll=9337600.396753, converged: 99.39% (loc: 99.98%, scale update: False), in 0.34sec\n",
      "caught 1 linalg singular matrix errors\n",
      "iter  41: ll=9337600.396753, converged: 99.39% (loc: 100.00%, scale update: False), in 0.32sec\n",
      "Fitting 66 dispersion models: (progress not available with multiprocessing)"
     ]
    },
    {
     "name": "stderr",
     "output_type": "stream",
     "text": [
      "/usr/lib/python3.10/multiprocessing/popen_fork.py:66: RuntimeWarning: os.fork() was called. os.fork() is incompatible with multithreaded code, and JAX is multithreaded, so this will likely lead to a deadlock.\n",
      "  self.pid = os.fork()\n"
     ]
    },
    {
     "name": "stdout",
     "output_type": "stream",
     "text": [
      "iter  42: ll=9337300.719000, converged: 99.87% (loc: 99.87%, scale update: True), in 3.32sec\n",
      "caught 1 linalg singular matrix errors\n",
      "iter  43: ll=9337300.718956, converged: 99.87% (loc: 99.99%, scale update: False), in 0.52sec\n",
      "iter  44: ll=9337300.718955, converged: 99.87% (loc: 99.99%, scale update: False), in 0.27sec\n",
      "iter  45: ll=9337300.718955, converged: 99.87% (loc: 100.00%, scale update: False), in 0.28sec\n",
      "Fitting 14 dispersion models: (progress not available with multiprocessing)"
     ]
    },
    {
     "name": "stderr",
     "output_type": "stream",
     "text": [
      "/usr/lib/python3.10/multiprocessing/popen_fork.py:66: RuntimeWarning: os.fork() was called. os.fork() is incompatible with multithreaded code, and JAX is multithreaded, so this will likely lead to a deadlock.\n",
      "  self.pid = os.fork()\n"
     ]
    },
    {
     "name": "stdout",
     "output_type": "stream",
     "text": [
      "iter  46: ll=9337160.523309, converged: 99.97% (loc: 99.97%, scale update: True), in 2.62sec\n",
      "iter  47: ll=9337160.523309, converged: 99.97% (loc: 99.99%, scale update: False), in 0.34sec\n",
      "iter  48: ll=9337160.523309, converged: 99.97% (loc: 100.00%, scale update: False), in 0.31sec\n",
      "iter  49: ll=9337160.523309, converged: 99.99% (loc: 99.99%, scale update: True), in 0.44sec\n",
      "iter  50: ll=9337160.523309, converged: 99.99% (loc: 100.00%, scale update: False), in 0.29sec\n",
      "iter  51: ll=9337160.523309, converged: 100.00% (loc: 100.00%, scale update: True), in 0.28sec\n"
     ]
    },
    {
     "name": "stderr",
     "output_type": "stream",
     "text": [
      "/usr/local/lib/python3.10/dist-packages/dask/array/core.py:2894: RuntimeWarning: divide by zero encountered in divide\n",
      "  size = (limit / dtype.itemsize / largest_block) ** (1 / len(autos))\n"
     ]
    },
    {
     "name": "stdout",
     "output_type": "stream",
     "text": [
      "In cluster Immature-neurons:\n",
      "condition\n",
      "Parkinson    399\n",
      "Control      105\n",
      "Name: count, dtype: int64\n",
      "filtered out 7577 genes that are detected in less than 50 cells\n"
     ]
    },
    {
     "name": "stderr",
     "output_type": "stream",
     "text": [
      "Built constraints: Donor[UKERi1JF-R1-018]+Donor[UKERiG3G-R1-039]+Donor[UKERi1E4-R1-003]+Donor[UKERiO3H-R1-005]+Donor[UKERi82A-R1-002]=0, Donor[UKERiJ2C-R1-015]+Donor[UKERiM89-R1-005]+Donor[UKERiC99-R1-007]+Donor[UKERiR66-R1-007]+Donor[UKERiAY6-R1-003]+Donor[UKERiPX7-R1-001]+Donor[UKERi88H-R1-002]=0\n"
     ]
    },
    {
     "name": "stdout",
     "output_type": "stream",
     "text": [
      "Testing 9197 genes...\n",
      "\n",
      "training location model: True\n",
      "training scale model: True\n",
      "iter   0: ll=22243054.154831\n",
      "iter   1: ll=22012201.336299, converged: 0.00% (loc: 0.11%, scale update: False), in 2.76sec\n",
      "iter   2: ll=21978211.809448, converged: 0.00% (loc: 6.20%, scale update: False), in 2.63sec\n",
      "iter   3: ll=21974839.448919, converged: 0.00% (loc: 6.20%, scale update: False), in 2.58sec\n",
      "iter   4: ll=21974160.440381, converged: 0.00% (loc: 6.24%, scale update: False), in 2.77sec\n",
      "iter   5: ll=21973943.942605, converged: 0.00% (loc: 10.55%, scale update: False), in 2.63sec\n",
      "Fitting 9197 dispersion models: (progress not available with multiprocessing)"
     ]
    },
    {
     "name": "stderr",
     "output_type": "stream",
     "text": [
      "/usr/lib/python3.10/multiprocessing/popen_fork.py:66: RuntimeWarning: os.fork() was called. os.fork() is incompatible with multithreaded code, and JAX is multithreaded, so this will likely lead to a deadlock.\n",
      "  self.pid = os.fork()\n"
     ]
    },
    {
     "name": "stdout",
     "output_type": "stream",
     "text": [
      "iter   6: ll=4635901.863659, converged: 0.00% (loc: 0.00%, scale update: True), in 17.92sec\n",
      "iter   7: ll=4634001.005522, converged: 0.00% (loc: 4.83%, scale update: False), in 2.51sec\n",
      "iter   8: ll=4633781.968989, converged: 0.00% (loc: 8.64%, scale update: False), in 2.47sec\n",
      "iter   9: ll=4633742.136400, converged: 0.00% (loc: 23.71%, scale update: False), in 2.69sec\n",
      "iter  10: ll=4633730.037179, converged: 0.00% (loc: 49.34%, scale update: False), in 2.43sec\n",
      "iter  11: ll=4633726.233372, converged: 0.00% (loc: 67.74%, scale update: False), in 1.99sec\n",
      "Fitting 9197 dispersion models: (progress not available with multiprocessing)"
     ]
    },
    {
     "name": "stderr",
     "output_type": "stream",
     "text": [
      "/usr/lib/python3.10/multiprocessing/popen_fork.py:66: RuntimeWarning: os.fork() was called. os.fork() is incompatible with multithreaded code, and JAX is multithreaded, so this will likely lead to a deadlock.\n",
      "  self.pid = os.fork()\n"
     ]
    },
    {
     "name": "stdout",
     "output_type": "stream",
     "text": [
      "iter  12: ll=4433230.970500, converged: 3.50% (loc: 3.50%, scale update: True), in 17.27sec\n",
      "iter  13: ll=4433084.870168, converged: 3.50% (loc: 21.56%, scale update: False), in 2.69sec\n",
      "iter  14: ll=4433075.199676, converged: 3.50% (loc: 46.15%, scale update: False), in 2.30sec\n",
      "iter  15: ll=4433072.993708, converged: 3.50% (loc: 71.44%, scale update: False), in 1.99sec\n",
      "iter  16: ll=4433071.771041, converged: 3.50% (loc: 79.24%, scale update: False), in 1.76sec\n",
      "iter  17: ll=4433071.177949, converged: 3.50% (loc: 80.31%, scale update: False), in 1.78sec\n",
      "Fitting 8875 dispersion models: (progress not available with multiprocessing)"
     ]
    },
    {
     "name": "stderr",
     "output_type": "stream",
     "text": [
      "/usr/lib/python3.10/multiprocessing/popen_fork.py:66: RuntimeWarning: os.fork() was called. os.fork() is incompatible with multithreaded code, and JAX is multithreaded, so this will likely lead to a deadlock.\n",
      "  self.pid = os.fork()\n"
     ]
    },
    {
     "name": "stdout",
     "output_type": "stream",
     "text": [
      "iter  18: ll=4342262.676248, converged: 19.60% (loc: 19.60%, scale update: True), in 17.12sec\n",
      "iter  19: ll=4342240.716433, converged: 19.60% (loc: 63.22%, scale update: False), in 2.45sec\n",
      "iter  20: ll=4342240.660750, converged: 19.60% (loc: 79.09%, scale update: False), in 1.95sec\n",
      "iter  21: ll=4342240.657469, converged: 19.60% (loc: 81.73%, scale update: False), in 1.70sec\n",
      "iter  22: ll=4342240.656770, converged: 19.60% (loc: 91.18%, scale update: False), in 1.38sec\n",
      "iter  23: ll=4342240.656569, converged: 19.60% (loc: 96.28%, scale update: False), in 1.23sec\n",
      "Fitting 7394 dispersion models: (progress not available with multiprocessing)"
     ]
    },
    {
     "name": "stderr",
     "output_type": "stream",
     "text": [
      "/usr/lib/python3.10/multiprocessing/popen_fork.py:66: RuntimeWarning: os.fork() was called. os.fork() is incompatible with multithreaded code, and JAX is multithreaded, so this will likely lead to a deadlock.\n",
      "  self.pid = os.fork()\n"
     ]
    },
    {
     "name": "stdout",
     "output_type": "stream",
     "text": [
      "iter  24: ll=4308299.756518, converged: 61.88% (loc: 61.88%, scale update: True), in 14.04sec\n",
      "iter  25: ll=4308292.431547, converged: 61.88% (loc: 96.72%, scale update: False), in 2.17sec\n",
      "iter  26: ll=4308292.431467, converged: 61.88% (loc: 99.77%, scale update: False), in 1.23sec\n",
      "iter  27: ll=4308292.431459, converged: 61.88% (loc: 99.93%, scale update: False), in 0.43sec\n",
      "iter  28: ll=4308292.431458, converged: 61.88% (loc: 99.99%, scale update: False), in 0.22sec\n",
      "iter  29: ll=4308292.431458, converged: 61.88% (loc: 99.99%, scale update: False), in 0.17sec\n",
      "Fitting 3506 dispersion models: (progress not available with multiprocessing)"
     ]
    },
    {
     "name": "stderr",
     "output_type": "stream",
     "text": [
      "/usr/lib/python3.10/multiprocessing/popen_fork.py:66: RuntimeWarning: os.fork() was called. os.fork() is incompatible with multithreaded code, and JAX is multithreaded, so this will likely lead to a deadlock.\n",
      "  self.pid = os.fork()\n"
     ]
    },
    {
     "name": "stdout",
     "output_type": "stream",
     "text": [
      "iter  30: ll=4293761.889264, converged: 96.01% (loc: 96.01%, scale update: True), in 7.66sec\n",
      "iter  31: ll=4293758.350695, converged: 96.01% (loc: 99.67%, scale update: False), in 1.21sec\n",
      "iter  32: ll=4293758.341890, converged: 96.01% (loc: 99.97%, scale update: False), in 0.48sec\n",
      "iter  33: ll=4293758.341890, converged: 96.01% (loc: 100.00%, scale update: False), in 0.19sec\n",
      "Fitting 367 dispersion models: (progress not available with multiprocessing)"
     ]
    },
    {
     "name": "stderr",
     "output_type": "stream",
     "text": [
      "/usr/lib/python3.10/multiprocessing/popen_fork.py:66: RuntimeWarning: os.fork() was called. os.fork() is incompatible with multithreaded code, and JAX is multithreaded, so this will likely lead to a deadlock.\n",
      "  self.pid = os.fork()\n"
     ]
    },
    {
     "name": "stdout",
     "output_type": "stream",
     "text": [
      "iter  34: ll=4291677.437498, converged: 99.40% (loc: 99.40%, scale update: True), in 2.47sec\n",
      "iter  35: ll=4291677.396578, converged: 99.40% (loc: 99.96%, scale update: False), in 0.86sec\n",
      "iter  36: ll=4291677.396419, converged: 99.40% (loc: 99.99%, scale update: False), in 0.21sec\n",
      "iter  37: ll=4291677.396419, converged: 99.40% (loc: 100.00%, scale update: False), in 0.17sec\n",
      "Fitting 55 dispersion models: (progress not available with multiprocessing)"
     ]
    },
    {
     "name": "stderr",
     "output_type": "stream",
     "text": [
      "/usr/lib/python3.10/multiprocessing/popen_fork.py:66: RuntimeWarning: os.fork() was called. os.fork() is incompatible with multithreaded code, and JAX is multithreaded, so this will likely lead to a deadlock.\n",
      "  self.pid = os.fork()\n"
     ]
    },
    {
     "name": "stdout",
     "output_type": "stream",
     "text": [
      "iter  38: ll=4291111.684886, converged: 99.88% (loc: 99.88%, scale update: True), in 1.98sec\n",
      "iter  39: ll=4291111.681538, converged: 99.88% (loc: 99.97%, scale update: False), in 0.30sec\n",
      "iter  40: ll=4291111.681538, converged: 99.88% (loc: 100.00%, scale update: False), in 0.19sec\n",
      "Fitting 11 dispersion models: (progress not available with multiprocessing)"
     ]
    },
    {
     "name": "stderr",
     "output_type": "stream",
     "text": [
      "/usr/lib/python3.10/multiprocessing/popen_fork.py:66: RuntimeWarning: os.fork() was called. os.fork() is incompatible with multithreaded code, and JAX is multithreaded, so this will likely lead to a deadlock.\n",
      "  self.pid = os.fork()\n"
     ]
    },
    {
     "name": "stdout",
     "output_type": "stream",
     "text": [
      "iter  41: ll=4291096.718541, converged: 99.96% (loc: 99.96%, scale update: True), in 1.75sec\n",
      "iter  42: ll=4291096.718541, converged: 99.96% (loc: 100.00%, scale update: False), in 0.20sec\n",
      "Fitting 4 dispersion models: (progress not available with multiprocessing)"
     ]
    },
    {
     "name": "stderr",
     "output_type": "stream",
     "text": [
      "/usr/lib/python3.10/multiprocessing/popen_fork.py:66: RuntimeWarning: os.fork() was called. os.fork() is incompatible with multithreaded code, and JAX is multithreaded, so this will likely lead to a deadlock.\n",
      "  self.pid = os.fork()\n"
     ]
    },
    {
     "name": "stdout",
     "output_type": "stream",
     "text": [
      "iter  43: ll=4291096.718541, converged: 100.00% (loc: 100.00%, scale update: True), in 1.24sec\n"
     ]
    },
    {
     "name": "stderr",
     "output_type": "stream",
     "text": [
      "/usr/local/lib/python3.10/dist-packages/dask/array/core.py:2894: RuntimeWarning: divide by zero encountered in divide\n",
      "  size = (limit / dtype.itemsize / largest_block) ** (1 / len(autos))\n"
     ]
    },
    {
     "name": "stdout",
     "output_type": "stream",
     "text": [
      "In cluster NCSC:\n",
      "condition\n",
      "Control      2753\n",
      "Parkinson    2251\n",
      "Name: count, dtype: int64\n",
      "filtered out 3166 genes that are detected in less than 50 cells\n"
     ]
    },
    {
     "name": "stderr",
     "output_type": "stream",
     "text": [
      "Built constraints: Donor[UKERi1JF-R1-018]+Donor[UKERiG3G-R1-039]+Donor[UKERi1E4-R1-003]+Donor[UKERiO3H-R1-005]+Donor[UKERi82A-R1-002]=0, Donor[UKERiJ2C-R1-015]+Donor[UKERiM89-R1-005]+Donor[UKERiC99-R1-007]+Donor[UKERiR66-R1-007]+Donor[UKERiAY6-R1-003]+Donor[UKERiPX7-R1-001]+Donor[UKERi88H-R1-002]=0\n"
     ]
    },
    {
     "name": "stdout",
     "output_type": "stream",
     "text": [
      "Testing 13608 genes...\n",
      "\n",
      "training location model: True\n",
      "training scale model: True\n",
      "iter   0: ll=73068768.140956\n",
      "iter   1: ll=70754537.878735, converged: 0.00% (loc: 2.24%, scale update: False), in 24.79sec\n",
      "caught 1 linalg singular matrix errors\n",
      "iter   2: ll=70449242.954358, converged: 0.00% (loc: 4.46%, scale update: False), in 24.01sec\n",
      "iter   3: ll=70406612.983208, converged: 0.00% (loc: 4.46%, scale update: False), in 23.55sec\n",
      "iter   4: ll=70394848.022818, converged: 0.00% (loc: 4.50%, scale update: False), in 23.38sec\n",
      "iter   5: ll=70390736.415747, converged: 0.00% (loc: 6.79%, scale update: False), in 24.02sec\n",
      "Fitting 13608 dispersion models: (progress not available with multiprocessing)"
     ]
    },
    {
     "name": "stderr",
     "output_type": "stream",
     "text": [
      "/usr/lib/python3.10/multiprocessing/popen_fork.py:66: RuntimeWarning: os.fork() was called. os.fork() is incompatible with multithreaded code, and JAX is multithreaded, so this will likely lead to a deadlock.\n",
      "  self.pid = os.fork()\n"
     ]
    },
    {
     "name": "stdout",
     "output_type": "stream",
     "text": [
      "iter   6: ll=54384625.665822, converged: 0.00% (loc: 0.00%, scale update: True), in 147.40sec\n",
      "iter   7: ll=54376863.227323, converged: 0.00% (loc: 3.65%, scale update: False), in 24.04sec\n",
      "iter   8: ll=54374457.577493, converged: 0.00% (loc: 4.14%, scale update: False), in 24.38sec\n",
      "iter   9: ll=54373378.760890, converged: 0.00% (loc: 9.86%, scale update: False), in 23.76sec\n",
      "iter  10: ll=54372842.771465, converged: 0.00% (loc: 18.13%, scale update: False), in 22.16sec\n",
      "iter  11: ll=54372544.459388, converged: 0.00% (loc: 20.02%, scale update: False), in 20.68sec\n",
      "Fitting 13608 dispersion models: (progress not available with multiprocessing)"
     ]
    },
    {
     "name": "stderr",
     "output_type": "stream",
     "text": [
      "/usr/lib/python3.10/multiprocessing/popen_fork.py:66: RuntimeWarning: os.fork() was called. os.fork() is incompatible with multithreaded code, and JAX is multithreaded, so this will likely lead to a deadlock.\n",
      "  self.pid = os.fork()\n"
     ]
    },
    {
     "name": "stdout",
     "output_type": "stream",
     "text": [
      "iter  12: ll=53771730.610856, converged: 3.02% (loc: 3.02%, scale update: True), in 145.79sec\n",
      "iter  13: ll=53771274.707456, converged: 3.02% (loc: 9.76%, scale update: False), in 24.11sec\n",
      "iter  14: ll=53771047.150509, converged: 3.02% (loc: 20.50%, scale update: False), in 22.46sec\n",
      "iter  15: ll=53770905.990316, converged: 3.02% (loc: 23.24%, scale update: False), in 20.32sec\n",
      "iter  16: ll=53770821.085751, converged: 3.02% (loc: 26.18%, scale update: False), in 20.03sec\n",
      "iter  17: ll=53770760.520047, converged: 3.02% (loc: 53.98%, scale update: False), in 18.75sec\n",
      "Fitting 13197 dispersion models: (progress not available with multiprocessing)"
     ]
    },
    {
     "name": "stderr",
     "output_type": "stream",
     "text": [
      "/usr/lib/python3.10/multiprocessing/popen_fork.py:66: RuntimeWarning: os.fork() was called. os.fork() is incompatible with multithreaded code, and JAX is multithreaded, so this will likely lead to a deadlock.\n",
      "  self.pid = os.fork()\n"
     ]
    },
    {
     "name": "stdout",
     "output_type": "stream",
     "text": [
      "iter  18: ll=53401667.130633, converged: 9.15% (loc: 9.15%, scale update: True), in 142.68sec\n",
      "iter  19: ll=53401505.415862, converged: 9.15% (loc: 65.53%, scale update: False), in 22.61sec\n",
      "iter  20: ll=53401445.034403, converged: 9.15% (loc: 87.61%, scale update: False), in 10.88sec\n",
      "iter  21: ll=53401396.151140, converged: 9.15% (loc: 92.40%, scale update: False), in 6.71sec\n",
      "iter  22: ll=53401357.580408, converged: 9.15% (loc: 96.50%, scale update: False), in 6.21sec\n",
      "iter  23: ll=53401330.182451, converged: 9.15% (loc: 98.15%, scale update: False), in 5.37sec\n",
      "Fitting 12363 dispersion models: (progress not available with multiprocessing)"
     ]
    },
    {
     "name": "stderr",
     "output_type": "stream",
     "text": [
      "/usr/lib/python3.10/multiprocessing/popen_fork.py:66: RuntimeWarning: os.fork() was called. os.fork() is incompatible with multithreaded code, and JAX is multithreaded, so this will likely lead to a deadlock.\n",
      "  self.pid = os.fork()\n"
     ]
    },
    {
     "name": "stdout",
     "output_type": "stream",
     "text": [
      "iter  24: ll=53218497.083578, converged: 64.72% (loc: 64.72%, scale update: True), in 132.01sec\n",
      "iter  25: ll=53218410.557068, converged: 64.72% (loc: 98.53%, scale update: False), in 11.35sec\n",
      "iter  26: ll=53218389.360899, converged: 64.72% (loc: 99.32%, scale update: False), in 4.31sec\n",
      "iter  27: ll=53218369.615198, converged: 64.72% (loc: 99.50%, scale update: False), in 2.79sec\n",
      "iter  28: ll=53218351.404735, converged: 64.72% (loc: 99.60%, scale update: False), in 2.83sec\n",
      "iter  29: ll=53218335.053971, converged: 64.72% (loc: 99.68%, scale update: False), in 2.12sec\n",
      "Fitting 4801 dispersion models: (progress not available with multiprocessing)"
     ]
    },
    {
     "name": "stderr",
     "output_type": "stream",
     "text": [
      "/usr/lib/python3.10/multiprocessing/popen_fork.py:66: RuntimeWarning: os.fork() was called. os.fork() is incompatible with multithreaded code, and JAX is multithreaded, so this will likely lead to a deadlock.\n",
      "  self.pid = os.fork()\n"
     ]
    },
    {
     "name": "stdout",
     "output_type": "stream",
     "text": [
      "iter  30: ll=53177111.557248, converged: 98.21% (loc: 98.21%, scale update: True), in 55.71sec\n",
      "iter  31: ll=53177086.124336, converged: 98.21% (loc: 99.57%, scale update: False), in 5.04sec\n",
      "caught 1 linalg singular matrix errors\n",
      "iter  32: ll=53177071.748658, converged: 98.21% (loc: 99.72%, scale update: False), in 2.31sec\n",
      "caught 3 linalg singular matrix errors\n",
      "iter  33: ll=53177060.722877, converged: 98.21% (loc: 99.76%, scale update: False), in 1.72sec\n",
      "caught 10 linalg singular matrix errors\n",
      "iter  34: ll=53177055.201756, converged: 98.21% (loc: 99.85%, scale update: False), in 1.43sec\n",
      "caught 7 linalg singular matrix errors\n",
      "iter  35: ll=53177053.806529, converged: 98.21% (loc: 99.92%, scale update: False), in 1.12sec\n",
      "Fitting 244 dispersion models: (progress not available with multiprocessing)"
     ]
    },
    {
     "name": "stderr",
     "output_type": "stream",
     "text": [
      "/usr/lib/python3.10/multiprocessing/popen_fork.py:66: RuntimeWarning: os.fork() was called. os.fork() is incompatible with multithreaded code, and JAX is multithreaded, so this will likely lead to a deadlock.\n",
      "  self.pid = os.fork()\n"
     ]
    },
    {
     "name": "stdout",
     "output_type": "stream",
     "text": [
      "iter  36: ll=53163029.708933, converged: 99.54% (loc: 99.54%, scale update: True), in 17.27sec\n",
      "caught 26 linalg singular matrix errors\n",
      "iter  37: ll=53163029.138073, converged: 99.54% (loc: 99.91%, scale update: False), in 2.25sec\n",
      "caught 8 linalg singular matrix errors\n",
      "iter  38: ll=53163028.860753, converged: 99.54% (loc: 99.98%, scale update: False), in 0.77sec\n",
      "iter  39: ll=53163028.583474, converged: 99.54% (loc: 99.99%, scale update: False), in 0.63sec\n",
      "caught 1 linalg singular matrix errors\n",
      "iter  40: ll=53163028.583474, converged: 99.54% (loc: 100.00%, scale update: False), in 0.38sec\n",
      "Fitting 63 dispersion models: (progress not available with multiprocessing)"
     ]
    },
    {
     "name": "stderr",
     "output_type": "stream",
     "text": [
      "/usr/lib/python3.10/multiprocessing/popen_fork.py:66: RuntimeWarning: os.fork() was called. os.fork() is incompatible with multithreaded code, and JAX is multithreaded, so this will likely lead to a deadlock.\n",
      "  self.pid = os.fork()\n"
     ]
    },
    {
     "name": "stdout",
     "output_type": "stream",
     "text": [
      "iter  41: ll=53163026.720605, converged: 99.91% (loc: 99.91%, scale update: True), in 14.46sec\n",
      "caught 10 linalg singular matrix errors\n",
      "iter  42: ll=53163026.413570, converged: 99.91% (loc: 99.99%, scale update: False), in 0.75sec\n",
      "caught 1 linalg singular matrix errors\n",
      "iter  43: ll=53163026.413570, converged: 99.91% (loc: 100.00%, scale update: False), in 0.42sec\n",
      "Fitting 12 dispersion models: (progress not available with multiprocessing)"
     ]
    },
    {
     "name": "stderr",
     "output_type": "stream",
     "text": [
      "/usr/lib/python3.10/multiprocessing/popen_fork.py:66: RuntimeWarning: os.fork() was called. os.fork() is incompatible with multithreaded code, and JAX is multithreaded, so this will likely lead to a deadlock.\n",
      "  self.pid = os.fork()\n"
     ]
    },
    {
     "name": "stdout",
     "output_type": "stream",
     "text": [
      "iter  44: ll=53163026.407574, converged: 99.99% (loc: 99.99%, scale update: True), in 13.80sec\n",
      "caught 1 linalg singular matrix errors\n",
      "iter  45: ll=53163026.407574, converged: 99.99% (loc: 100.00%, scale update: False), in 0.36sec\n",
      "iter  46: ll=53163026.407574, converged: 100.00% (loc: 100.00%, scale update: True), in 0.56sec\n"
     ]
    },
    {
     "name": "stderr",
     "output_type": "stream",
     "text": [
      "/usr/local/lib/python3.10/dist-packages/dask/array/core.py:2894: RuntimeWarning: divide by zero encountered in divide\n",
      "  size = (limit / dtype.itemsize / largest_block) ** (1 / len(autos))\n"
     ]
    },
    {
     "name": "stdout",
     "output_type": "stream",
     "text": [
      "In cluster NSC1a:\n",
      "condition\n",
      "Parkinson    4848\n",
      "Control      3845\n",
      "Name: count, dtype: int64\n",
      "filtered out 2806 genes that are detected in less than 50 cells\n"
     ]
    },
    {
     "name": "stderr",
     "output_type": "stream",
     "text": [
      "Built constraints: Donor[UKERi1JF-R1-018]+Donor[UKERiG3G-R1-039]+Donor[UKERi1E4-R1-003]+Donor[UKERiO3H-R1-005]+Donor[UKERi82A-R1-002]=0, Donor[UKERiJ2C-R1-015]+Donor[UKERiM89-R1-005]+Donor[UKERiC99-R1-007]+Donor[UKERiR66-R1-007]+Donor[UKERiAY6-R1-003]+Donor[UKERiPX7-R1-001]+Donor[UKERi88H-R1-002]=0\n"
     ]
    },
    {
     "name": "stdout",
     "output_type": "stream",
     "text": [
      "Testing 13968 genes...\n",
      "\n"
     ]
    },
    {
     "name": "stderr",
     "output_type": "stream",
     "text": [
      "/usr/local/lib/python3.10/dist-packages/batchglm/models/base_glm/utils.py:158: PerformanceWarning: Slicing is producing a large chunk. To accept the large\n",
      "chunk and silence this warning, set the option\n",
      "    >>> with dask.config.set(**{'array.slicing.split_large_chunks': False}):\n",
      "    ...     array[indexer]\n",
      "\n",
      "To avoid creating the large chunks, set the option\n",
      "    >>> with dask.config.set(**{'array.slicing.split_large_chunks': True}):\n",
      "    ...     array[indexer]\n",
      "  np.mean(x[np.where(grouping == g)[0], :], axis=0)\n",
      "/usr/local/lib/python3.10/dist-packages/batchglm/models/base_glm/utils.py:171: PerformanceWarning: Slicing is producing a large chunk. To accept the large\n",
      "chunk and silence this warning, set the option\n",
      "    >>> with dask.config.set(**{'array.slicing.split_large_chunks': False}):\n",
      "    ...     array[indexer]\n",
      "\n",
      "To avoid creating the large chunks, set the option\n",
      "    >>> with dask.config.set(**{'array.slicing.split_large_chunks': True}):\n",
      "    ...     array[indexer]\n",
      "  expect_xsq = np.vstack([np.mean(np.square(x[np.where(grouping == g)[0], :]), axis=0)\n"
     ]
    },
    {
     "name": "stdout",
     "output_type": "stream",
     "text": [
      "training location model: True\n",
      "training scale model: True\n",
      "iter   0: ll=122792719.681526\n",
      "iter   1: ll=119619347.602477, converged: 0.00% (loc: 1.22%, scale update: False), in 42.50sec\n",
      "iter   2: ll=119268914.075790, converged: 0.00% (loc: 4.35%, scale update: False), in 45.98sec\n",
      "iter   3: ll=119244028.412815, converged: 0.00% (loc: 4.35%, scale update: False), in 41.76sec\n",
      "iter   4: ll=119239380.458734, converged: 0.00% (loc: 4.55%, scale update: False), in 41.43sec\n",
      "iter   5: ll=119237926.800114, converged: 0.00% (loc: 21.70%, scale update: False), in 40.37sec\n",
      "Fitting 13968 dispersion models: (progress not available with multiprocessing)"
     ]
    },
    {
     "name": "stderr",
     "output_type": "stream",
     "text": [
      "/usr/lib/python3.10/multiprocessing/popen_fork.py:66: RuntimeWarning: os.fork() was called. os.fork() is incompatible with multithreaded code, and JAX is multithreaded, so this will likely lead to a deadlock.\n",
      "  self.pid = os.fork()\n"
     ]
    },
    {
     "name": "stdout",
     "output_type": "stream",
     "text": [
      "iter   6: ll=85656118.058185, converged: 0.00% (loc: 0.00%, scale update: True), in 251.12sec\n",
      "iter   7: ll=85648357.607089, converged: 0.00% (loc: 3.76%, scale update: False), in 40.52sec\n",
      "iter   8: ll=85647439.599125, converged: 0.00% (loc: 13.43%, scale update: False), in 41.17sec\n",
      "iter   9: ll=85647050.817230, converged: 0.00% (loc: 54.07%, scale update: False), in 39.88sec\n",
      "iter  10: ll=85646824.980596, converged: 0.00% (loc: 79.15%, scale update: False), in 24.85sec\n",
      "iter  11: ll=85646672.397299, converged: 0.00% (loc: 88.17%, scale update: False), in 14.54sec\n",
      "Fitting 13968 dispersion models: (progress not available with multiprocessing)"
     ]
    },
    {
     "name": "stderr",
     "output_type": "stream",
     "text": [
      "/usr/lib/python3.10/multiprocessing/popen_fork.py:66: RuntimeWarning: os.fork() was called. os.fork() is incompatible with multithreaded code, and JAX is multithreaded, so this will likely lead to a deadlock.\n",
      "  self.pid = os.fork()\n"
     ]
    },
    {
     "name": "stdout",
     "output_type": "stream",
     "text": [
      "iter  12: ll=84045548.213879, converged: 2.90% (loc: 2.90%, scale update: True), in 245.88sec\n",
      "iter  13: ll=84044994.949417, converged: 2.90% (loc: 40.34%, scale update: False), in 40.91sec\n",
      "iter  14: ll=84044885.163182, converged: 2.90% (loc: 75.86%, scale update: False), in 28.78sec\n",
      "iter  15: ll=84044802.697135, converged: 2.90% (loc: 88.92%, scale update: False), in 16.48sec\n",
      "iter  16: ll=84044736.655264, converged: 2.90% (loc: 91.77%, scale update: False), in 11.04sec\n",
      "iter  17: ll=84044689.884576, converged: 2.90% (loc: 92.29%, scale update: False), in 9.99sec\n",
      "Fitting 13563 dispersion models: (progress not available with multiprocessing)"
     ]
    },
    {
     "name": "stderr",
     "output_type": "stream",
     "text": [
      "/usr/lib/python3.10/multiprocessing/popen_fork.py:66: RuntimeWarning: os.fork() was called. os.fork() is incompatible with multithreaded code, and JAX is multithreaded, so this will likely lead to a deadlock.\n",
      "  self.pid = os.fork()\n"
     ]
    },
    {
     "name": "stdout",
     "output_type": "stream",
     "text": [
      "iter  18: ll=83026819.628560, converged: 38.37% (loc: 38.37%, scale update: True), in 236.18sec\n",
      "iter  19: ll=83026556.543795, converged: 38.37% (loc: 84.04%, scale update: False), in 28.15sec\n",
      "iter  20: ll=83026522.277321, converged: 38.37% (loc: 92.20%, scale update: False), in 12.42sec\n",
      "iter  21: ll=83026501.570492, converged: 38.37% (loc: 95.48%, scale update: False), in 9.79sec\n",
      "iter  22: ll=83026483.028154, converged: 38.37% (loc: 97.99%, scale update: False), in 9.15sec\n",
      "iter  23: ll=83026466.593023, converged: 38.37% (loc: 99.43%, scale update: False), in 6.99sec\n",
      "Fitting 8609 dispersion models: (progress not available with multiprocessing)"
     ]
    },
    {
     "name": "stderr",
     "output_type": "stream",
     "text": [
      "/usr/lib/python3.10/multiprocessing/popen_fork.py:66: RuntimeWarning: os.fork() was called. os.fork() is incompatible with multithreaded code, and JAX is multithreaded, so this will likely lead to a deadlock.\n",
      "  self.pid = os.fork()\n"
     ]
    },
    {
     "name": "stdout",
     "output_type": "stream",
     "text": [
      "iter  24: ll=82577012.264487, converged: 82.81% (loc: 82.81%, scale update: True), in 158.00sec\n",
      "iter  25: ll=82576853.963179, converged: 82.81% (loc: 99.21%, scale update: False), in 13.43sec\n",
      "iter  26: ll=82576838.814413, converged: 82.81% (loc: 99.81%, scale update: False), in 4.94sec\n",
      "iter  27: ll=82576834.761715, converged: 82.81% (loc: 99.94%, scale update: False), in 2.05sec\n",
      "iter  28: ll=82576834.413797, converged: 82.81% (loc: 99.96%, scale update: False), in 1.07sec\n",
      "iter  29: ll=82576834.408769, converged: 82.81% (loc: 99.97%, scale update: False), in 0.93sec\n",
      "Fitting 2401 dispersion models: (progress not available with multiprocessing)"
     ]
    },
    {
     "name": "stderr",
     "output_type": "stream",
     "text": [
      "/usr/lib/python3.10/multiprocessing/popen_fork.py:66: RuntimeWarning: os.fork() was called. os.fork() is incompatible with multithreaded code, and JAX is multithreaded, so this will likely lead to a deadlock.\n",
      "  self.pid = os.fork()\n"
     ]
    },
    {
     "name": "stdout",
     "output_type": "stream",
     "text": [
      "iter  30: ll=82552020.916243, converged: 99.00% (loc: 99.00%, scale update: True), in 59.80sec\n",
      "iter  31: ll=82552019.279289, converged: 99.00% (loc: 99.91%, scale update: False), in 5.75sec\n",
      "iter  32: ll=82552019.263268, converged: 99.00% (loc: 99.96%, scale update: False), in 1.20sec\n",
      "iter  33: ll=82552019.263265, converged: 99.00% (loc: 99.99%, scale update: False), in 0.94sec\n",
      "iter  34: ll=82552019.263265, converged: 99.00% (loc: 100.00%, scale update: False), in 0.80sec\n",
      "Fitting 139 dispersion models: (progress not available with multiprocessing)"
     ]
    },
    {
     "name": "stderr",
     "output_type": "stream",
     "text": [
      "/usr/lib/python3.10/multiprocessing/popen_fork.py:66: RuntimeWarning: os.fork() was called. os.fork() is incompatible with multithreaded code, and JAX is multithreaded, so this will likely lead to a deadlock.\n",
      "  self.pid = os.fork()\n"
     ]
    },
    {
     "name": "stdout",
     "output_type": "stream",
     "text": [
      "iter  35: ll=82550317.346103, converged: 99.89% (loc: 99.89%, scale update: True), in 30.21sec\n",
      "iter  36: ll=82550317.346102, converged: 99.89% (loc: 99.99%, scale update: False), in 1.24sec\n",
      "iter  37: ll=82550317.346102, converged: 99.89% (loc: 100.00%, scale update: False), in 0.79sec\n",
      "Fitting 15 dispersion models: (progress not available with multiprocessing)"
     ]
    },
    {
     "name": "stderr",
     "output_type": "stream",
     "text": [
      "/usr/lib/python3.10/multiprocessing/popen_fork.py:66: RuntimeWarning: os.fork() was called. os.fork() is incompatible with multithreaded code, and JAX is multithreaded, so this will likely lead to a deadlock.\n",
      "  self.pid = os.fork()\n"
     ]
    },
    {
     "name": "stdout",
     "output_type": "stream",
     "text": [
      "iter  38: ll=82550317.346102, converged: 99.99% (loc: 99.99%, scale update: True), in 20.93sec\n",
      "caught 1 linalg singular matrix errors\n",
      "iter  39: ll=82550317.346102, converged: 99.99% (loc: 100.00%, scale update: False), in 0.86sec\n",
      "iter  40: ll=82550317.346102, converged: 100.00% (loc: 100.00%, scale update: True), in 1.05sec\n"
     ]
    },
    {
     "name": "stderr",
     "output_type": "stream",
     "text": [
      "/usr/local/lib/python3.10/dist-packages/dask/array/core.py:2894: RuntimeWarning: divide by zero encountered in divide\n",
      "  size = (limit / dtype.itemsize / largest_block) ** (1 / len(autos))\n"
     ]
    },
    {
     "name": "stdout",
     "output_type": "stream",
     "text": [
      "In cluster NSC1b:\n",
      "condition\n",
      "Parkinson    4339\n",
      "Control      1860\n",
      "Name: count, dtype: int64\n",
      "filtered out 2882 genes that are detected in less than 50 cells\n"
     ]
    },
    {
     "name": "stderr",
     "output_type": "stream",
     "text": [
      "Built constraints: Donor[UKERi1JF-R1-018]+Donor[UKERiG3G-R1-039]+Donor[UKERi1E4-R1-003]+Donor[UKERiO3H-R1-005]+Donor[UKERi82A-R1-002]=0, Donor[UKERiJ2C-R1-015]+Donor[UKERiM89-R1-005]+Donor[UKERiC99-R1-007]+Donor[UKERiR66-R1-007]+Donor[UKERiAY6-R1-003]+Donor[UKERiPX7-R1-001]+Donor[UKERi88H-R1-002]=0\n"
     ]
    },
    {
     "name": "stdout",
     "output_type": "stream",
     "text": [
      "Testing 13892 genes...\n",
      "\n"
     ]
    },
    {
     "name": "stderr",
     "output_type": "stream",
     "text": [
      "/usr/local/lib/python3.10/dist-packages/batchglm/models/base_glm/utils.py:158: PerformanceWarning: Slicing is producing a large chunk. To accept the large\n",
      "chunk and silence this warning, set the option\n",
      "    >>> with dask.config.set(**{'array.slicing.split_large_chunks': False}):\n",
      "    ...     array[indexer]\n",
      "\n",
      "To avoid creating the large chunks, set the option\n",
      "    >>> with dask.config.set(**{'array.slicing.split_large_chunks': True}):\n",
      "    ...     array[indexer]\n",
      "  np.mean(x[np.where(grouping == g)[0], :], axis=0)\n",
      "/usr/local/lib/python3.10/dist-packages/batchglm/models/base_glm/utils.py:171: PerformanceWarning: Slicing is producing a large chunk. To accept the large\n",
      "chunk and silence this warning, set the option\n",
      "    >>> with dask.config.set(**{'array.slicing.split_large_chunks': False}):\n",
      "    ...     array[indexer]\n",
      "\n",
      "To avoid creating the large chunks, set the option\n",
      "    >>> with dask.config.set(**{'array.slicing.split_large_chunks': True}):\n",
      "    ...     array[indexer]\n",
      "  expect_xsq = np.vstack([np.mean(np.square(x[np.where(grouping == g)[0], :]), axis=0)\n"
     ]
    },
    {
     "name": "stdout",
     "output_type": "stream",
     "text": [
      "training location model: True\n",
      "training scale model: True\n",
      "iter   0: ll=100205710.149758\n",
      "iter   1: ll=97146334.682053, converged: 0.00% (loc: 1.00%, scale update: False), in 30.90sec\n",
      "iter   2: ll=96892843.467838, converged: 0.00% (loc: 3.92%, scale update: False), in 30.54sec\n",
      "iter   3: ll=96874167.349038, converged: 0.00% (loc: 3.92%, scale update: False), in 29.92sec\n",
      "iter   4: ll=96869495.337667, converged: 0.00% (loc: 4.79%, scale update: False), in 29.87sec\n",
      "iter   5: ll=96867744.693663, converged: 0.00% (loc: 51.46%, scale update: False), in 29.54sec\n",
      "Fitting 13892 dispersion models: (progress not available with multiprocessing)"
     ]
    },
    {
     "name": "stderr",
     "output_type": "stream",
     "text": [
      "/usr/lib/python3.10/multiprocessing/popen_fork.py:66: RuntimeWarning: os.fork() was called. os.fork() is incompatible with multithreaded code, and JAX is multithreaded, so this will likely lead to a deadlock.\n",
      "  self.pid = os.fork()\n"
     ]
    },
    {
     "name": "stdout",
     "output_type": "stream",
     "text": [
      "iter   6: ll=73688649.147590, converged: 0.01% (loc: 0.01%, scale update: True), in 182.43sec\n",
      "iter   7: ll=73683207.916449, converged: 0.01% (loc: 3.61%, scale update: False), in 31.04sec\n",
      "iter   8: ll=73681957.879106, converged: 0.01% (loc: 19.67%, scale update: False), in 30.63sec\n",
      "iter   9: ll=73681287.179017, converged: 0.01% (loc: 70.23%, scale update: False), in 26.69sec\n",
      "iter  10: ll=73680876.512119, converged: 0.01% (loc: 88.26%, scale update: False), in 13.31sec\n",
      "iter  11: ll=73680605.255489, converged: 0.01% (loc: 91.47%, scale update: False), in 8.52sec\n",
      "Fitting 13891 dispersion models: (progress not available with multiprocessing)"
     ]
    },
    {
     "name": "stderr",
     "output_type": "stream",
     "text": [
      "/usr/lib/python3.10/multiprocessing/popen_fork.py:66: RuntimeWarning: os.fork() was called. os.fork() is incompatible with multithreaded code, and JAX is multithreaded, so this will likely lead to a deadlock.\n",
      "  self.pid = os.fork()\n"
     ]
    },
    {
     "name": "stdout",
     "output_type": "stream",
     "text": [
      "iter  12: ll=72463385.487864, converged: 2.66% (loc: 2.66%, scale update: True), in 182.21sec\n",
      "iter  13: ll=72462597.165362, converged: 2.66% (loc: 55.12%, scale update: False), in 31.40sec\n",
      "iter  14: ll=72462322.463566, converged: 2.66% (loc: 88.86%, scale update: False), in 17.86sec\n",
      "iter  15: ll=72462129.091135, converged: 2.66% (loc: 92.30%, scale update: False), in 8.81sec\n",
      "iter  16: ll=72462012.787177, converged: 2.66% (loc: 92.53%, scale update: False), in 7.45sec\n",
      "iter  17: ll=72461947.104791, converged: 2.66% (loc: 92.71%, scale update: False), in 7.64sec\n",
      "Fitting 13522 dispersion models: (progress not available with multiprocessing)"
     ]
    },
    {
     "name": "stderr",
     "output_type": "stream",
     "text": [
      "/usr/lib/python3.10/multiprocessing/popen_fork.py:66: RuntimeWarning: os.fork() was called. os.fork() is incompatible with multithreaded code, and JAX is multithreaded, so this will likely lead to a deadlock.\n",
      "  self.pid = os.fork()\n"
     ]
    },
    {
     "name": "stdout",
     "output_type": "stream",
     "text": [
      "iter  18: ll=71902398.281165, converged: 53.24% (loc: 53.24%, scale update: True), in 180.72sec\n",
      "iter  19: ll=71902200.898485, converged: 53.24% (loc: 91.86%, scale update: False), in 17.88sec\n",
      "iter  20: ll=71902148.314338, converged: 53.24% (loc: 92.89%, scale update: False), in 7.93sec\n",
      "iter  21: ll=71902125.185227, converged: 53.24% (loc: 95.04%, scale update: False), in 7.42sec\n",
      "iter  22: ll=71902117.979998, converged: 53.24% (loc: 97.58%, scale update: False), in 7.21sec\n",
      "iter  23: ll=71902115.289883, converged: 53.24% (loc: 99.08%, scale update: False), in 6.01sec\n",
      "Fitting 6496 dispersion models: (progress not available with multiprocessing)"
     ]
    },
    {
     "name": "stderr",
     "output_type": "stream",
     "text": [
      "/usr/lib/python3.10/multiprocessing/popen_fork.py:66: RuntimeWarning: os.fork() was called. os.fork() is incompatible with multithreaded code, and JAX is multithreaded, so this will likely lead to a deadlock.\n",
      "  self.pid = os.fork()\n"
     ]
    },
    {
     "name": "stdout",
     "output_type": "stream",
     "text": [
      "iter  24: ll=71703490.542159, converged: 91.23% (loc: 91.23%, scale update: True), in 97.00sec\n",
      "iter  25: ll=71703405.417061, converged: 91.23% (loc: 99.40%, scale update: False), in 7.97sec\n",
      "iter  26: ll=71703404.012012, converged: 91.23% (loc: 99.78%, scale update: False), in 3.39sec\n",
      "iter  27: ll=71703403.840842, converged: 91.23% (loc: 99.92%, scale update: False), in 1.72sec\n",
      "iter  28: ll=71703403.837711, converged: 91.23% (loc: 99.94%, scale update: False), in 0.92sec\n",
      "iter  29: ll=71703403.837690, converged: 91.23% (loc: 99.95%, scale update: False), in 0.81sec\n",
      "Fitting 1219 dispersion models: (progress not available with multiprocessing)"
     ]
    },
    {
     "name": "stderr",
     "output_type": "stream",
     "text": [
      "/usr/lib/python3.10/multiprocessing/popen_fork.py:66: RuntimeWarning: os.fork() was called. os.fork() is incompatible with multithreaded code, and JAX is multithreaded, so this will likely lead to a deadlock.\n",
      "  self.pid = os.fork()\n"
     ]
    },
    {
     "name": "stdout",
     "output_type": "stream",
     "text": [
      "iter  30: ll=71661902.395909, converged: 99.28% (loc: 99.28%, scale update: True), in 35.13sec\n",
      "iter  31: ll=71661895.997979, converged: 99.28% (loc: 99.93%, scale update: False), in 4.21sec\n",
      "iter  32: ll=71661895.997972, converged: 99.28% (loc: 99.96%, scale update: False), in 0.88sec\n",
      "iter  33: ll=71661895.997968, converged: 99.28% (loc: 99.99%, scale update: False), in 0.78sec\n",
      "iter  34: ll=71661895.997966, converged: 99.28% (loc: 99.99%, scale update: False), in 0.66sec\n",
      "iter  35: ll=71661895.997964, converged: 99.28% (loc: 99.99%, scale update: False), in 0.68sec\n",
      "Fitting 100 dispersion models: (progress not available with multiprocessing)"
     ]
    },
    {
     "name": "stderr",
     "output_type": "stream",
     "text": [
      "/usr/lib/python3.10/multiprocessing/popen_fork.py:66: RuntimeWarning: os.fork() was called. os.fork() is incompatible with multithreaded code, and JAX is multithreaded, so this will likely lead to a deadlock.\n",
      "  self.pid = os.fork()\n"
     ]
    },
    {
     "name": "stdout",
     "output_type": "stream",
     "text": [
      "iter  36: ll=71661895.231816, converged: 99.92% (loc: 99.92%, scale update: True), in 25.02sec\n",
      "iter  37: ll=71661895.231815, converged: 99.92% (loc: 99.99%, scale update: False), in 1.07sec\n",
      "iter  38: ll=71661895.231813, converged: 99.92% (loc: 99.99%, scale update: False), in 0.69sec\n",
      "iter  39: ll=71661895.231813, converged: 99.92% (loc: 99.99%, scale update: False), in 0.67sec\n",
      "iter  40: ll=71661895.231812, converged: 99.92% (loc: 99.99%, scale update: False), in 0.67sec\n",
      "caught 2 linalg singular matrix errors\n",
      "iter  41: ll=71661895.231812, converged: 99.92% (loc: 100.00%, scale update: False), in 0.43sec\n",
      "Fitting 11 dispersion models: (progress not available with multiprocessing)"
     ]
    },
    {
     "name": "stderr",
     "output_type": "stream",
     "text": [
      "/usr/lib/python3.10/multiprocessing/popen_fork.py:66: RuntimeWarning: os.fork() was called. os.fork() is incompatible with multithreaded code, and JAX is multithreaded, so this will likely lead to a deadlock.\n",
      "  self.pid = os.fork()\n"
     ]
    },
    {
     "name": "stdout",
     "output_type": "stream",
     "text": [
      "iter  42: ll=71661895.231812, converged: 99.99% (loc: 99.99%, scale update: True), in 21.38sec\n",
      "caught 2 linalg singular matrix errors\n",
      "iter  43: ll=71661895.231812, converged: 99.99% (loc: 100.00%, scale update: False), in 0.49sec\n",
      "iter  44: ll=71661895.231812, converged: 100.00% (loc: 100.00%, scale update: True), in 0.96sec\n"
     ]
    },
    {
     "name": "stderr",
     "output_type": "stream",
     "text": [
      "/usr/local/lib/python3.10/dist-packages/dask/array/core.py:2894: RuntimeWarning: divide by zero encountered in divide\n",
      "  size = (limit / dtype.itemsize / largest_block) ** (1 / len(autos))\n"
     ]
    },
    {
     "name": "stdout",
     "output_type": "stream",
     "text": [
      "In cluster NSC2a:\n",
      "condition\n",
      "Parkinson    3676\n",
      "Control      1971\n",
      "Name: count, dtype: int64\n",
      "filtered out 3270 genes that are detected in less than 50 cells\n"
     ]
    },
    {
     "name": "stderr",
     "output_type": "stream",
     "text": [
      "Built constraints: Donor[UKERi1JF-R1-018]+Donor[UKERiG3G-R1-039]+Donor[UKERi1E4-R1-003]+Donor[UKERiO3H-R1-005]+Donor[UKERi82A-R1-002]=0, Donor[UKERiJ2C-R1-015]+Donor[UKERiM89-R1-005]+Donor[UKERiC99-R1-007]+Donor[UKERiR66-R1-007]+Donor[UKERiAY6-R1-003]+Donor[UKERiPX7-R1-001]+Donor[UKERi88H-R1-002]=0\n"
     ]
    },
    {
     "name": "stdout",
     "output_type": "stream",
     "text": [
      "Testing 13504 genes...\n",
      "\n",
      "training location model: True\n",
      "training scale model: True\n",
      "iter   0: ll=86982167.830120\n",
      "iter   1: ll=85038795.623259, converged: 0.00% (loc: 1.43%, scale update: False), in 26.79sec\n",
      "iter   2: ll=84729213.902589, converged: 0.00% (loc: 4.70%, scale update: False), in 26.71sec\n",
      "iter   3: ll=84697698.493295, converged: 0.00% (loc: 4.70%, scale update: False), in 26.20sec\n",
      "iter   4: ll=84692406.348162, converged: 0.00% (loc: 4.91%, scale update: False), in 25.95sec\n",
      "iter   5: ll=84690820.944558, converged: 0.00% (loc: 16.97%, scale update: False), in 25.14sec\n",
      "Fitting 13504 dispersion models: (progress not available with multiprocessing)"
     ]
    },
    {
     "name": "stderr",
     "output_type": "stream",
     "text": [
      "/usr/lib/python3.10/multiprocessing/popen_fork.py:66: RuntimeWarning: os.fork() was called. os.fork() is incompatible with multithreaded code, and JAX is multithreaded, so this will likely lead to a deadlock.\n",
      "  self.pid = os.fork()\n"
     ]
    },
    {
     "name": "stdout",
     "output_type": "stream",
     "text": [
      "iter   6: ll=54718941.224637, converged: 0.01% (loc: 0.01%, scale update: True), in 156.03sec\n",
      "iter   7: ll=54711611.383680, converged: 0.01% (loc: 3.83%, scale update: False), in 25.79sec\n",
      "iter   8: ll=54710070.564942, converged: 0.01% (loc: 11.19%, scale update: False), in 25.77sec\n",
      "iter   9: ll=54709370.020867, converged: 0.01% (loc: 48.73%, scale update: False), in 24.59sec\n",
      "iter  10: ll=54708967.605725, converged: 0.01% (loc: 77.63%, scale update: False), in 16.06sec\n",
      "iter  11: ll=54708725.003655, converged: 0.01% (loc: 88.63%, scale update: False), in 10.02sec\n",
      "Fitting 13502 dispersion models: (progress not available with multiprocessing)"
     ]
    },
    {
     "name": "stderr",
     "output_type": "stream",
     "text": [
      "/usr/lib/python3.10/multiprocessing/popen_fork.py:66: RuntimeWarning: os.fork() was called. os.fork() is incompatible with multithreaded code, and JAX is multithreaded, so this will likely lead to a deadlock.\n",
      "  self.pid = os.fork()\n"
     ]
    },
    {
     "name": "stdout",
     "output_type": "stream",
     "text": [
      "iter  12: ll=53811577.647771, converged: 2.95% (loc: 2.95%, scale update: True), in 156.12sec\n",
      "iter  13: ll=53810981.503694, converged: 2.95% (loc: 34.54%, scale update: False), in 26.21sec\n",
      "iter  14: ll=53810826.351355, converged: 2.95% (loc: 74.76%, scale update: False), in 19.60sec\n",
      "iter  15: ll=53810747.388831, converged: 2.95% (loc: 90.71%, scale update: False), in 10.03sec\n",
      "iter  16: ll=53810696.875261, converged: 2.95% (loc: 93.16%, scale update: False), in 6.94sec\n",
      "iter  17: ll=53810659.010324, converged: 2.95% (loc: 94.03%, scale update: False), in 6.48sec\n",
      "Fitting 13105 dispersion models: (progress not available with multiprocessing)"
     ]
    },
    {
     "name": "stderr",
     "output_type": "stream",
     "text": [
      "/usr/lib/python3.10/multiprocessing/popen_fork.py:66: RuntimeWarning: os.fork() was called. os.fork() is incompatible with multithreaded code, and JAX is multithreaded, so this will likely lead to a deadlock.\n",
      "  self.pid = os.fork()\n"
     ]
    },
    {
     "name": "stdout",
     "output_type": "stream",
     "text": [
      "iter  18: ll=53219553.687556, converged: 33.09% (loc: 33.09%, scale update: True), in 150.73sec\n",
      "iter  19: ll=53219335.348165, converged: 33.09% (loc: 86.93%, scale update: False), in 19.52sec\n",
      "iter  20: ll=53219283.450506, converged: 33.09% (loc: 93.68%, scale update: False), in 8.34sec\n",
      "iter  21: ll=53219261.338177, converged: 33.09% (loc: 94.47%, scale update: False), in 6.62sec\n",
      "iter  22: ll=53219255.817155, converged: 33.09% (loc: 97.05%, scale update: False), in 6.30sec\n",
      "iter  23: ll=53219254.666633, converged: 33.09% (loc: 98.85%, scale update: False), in 5.95sec\n",
      "Fitting 9035 dispersion models: (progress not available with multiprocessing)"
     ]
    },
    {
     "name": "stderr",
     "output_type": "stream",
     "text": [
      "/usr/lib/python3.10/multiprocessing/popen_fork.py:66: RuntimeWarning: os.fork() was called. os.fork() is incompatible with multithreaded code, and JAX is multithreaded, so this will likely lead to a deadlock.\n",
      "  self.pid = os.fork()\n"
     ]
    },
    {
     "name": "stdout",
     "output_type": "stream",
     "text": [
      "iter  24: ll=52903382.561900, converged: 85.69% (loc: 85.69%, scale update: True), in 110.35sec\n",
      "iter  25: ll=52903278.508450, converged: 85.69% (loc: 98.55%, scale update: False), in 8.55sec\n",
      "iter  26: ll=52903274.979612, converged: 85.69% (loc: 99.57%, scale update: False), in 4.42sec\n",
      "iter  27: ll=52903274.974113, converged: 85.69% (loc: 99.76%, scale update: False), in 2.32sec\n",
      "iter  28: ll=52903274.972918, converged: 85.69% (loc: 99.86%, scale update: False), in 1.68sec\n",
      "iter  29: ll=52903274.972578, converged: 85.69% (loc: 99.93%, scale update: False), in 1.30sec\n",
      "Fitting 1933 dispersion models: (progress not available with multiprocessing)"
     ]
    },
    {
     "name": "stderr",
     "output_type": "stream",
     "text": [
      "/usr/lib/python3.10/multiprocessing/popen_fork.py:66: RuntimeWarning: os.fork() was called. os.fork() is incompatible with multithreaded code, and JAX is multithreaded, so this will likely lead to a deadlock.\n",
      "  self.pid = os.fork()\n"
     ]
    },
    {
     "name": "stdout",
     "output_type": "stream",
     "text": [
      "iter  30: ll=52864173.673273, converged: 98.33% (loc: 98.33%, scale update: True), in 33.34sec\n",
      "iter  31: ll=52864142.873844, converged: 98.33% (loc: 99.78%, scale update: False), in 4.90sec\n",
      "iter  32: ll=52864140.935426, converged: 98.33% (loc: 99.90%, scale update: False), in 1.57sec\n",
      "iter  33: ll=52864140.935407, converged: 98.33% (loc: 99.95%, scale update: False), in 0.95sec\n",
      "iter  34: ll=52864140.935401, converged: 98.33% (loc: 99.96%, scale update: False), in 0.83sec\n",
      "iter  35: ll=52864140.935400, converged: 98.33% (loc: 99.98%, scale update: False), in 0.74sec\n",
      "Fitting 226 dispersion models: (progress not available with multiprocessing)"
     ]
    },
    {
     "name": "stderr",
     "output_type": "stream",
     "text": [
      "/usr/lib/python3.10/multiprocessing/popen_fork.py:66: RuntimeWarning: os.fork() was called. os.fork() is incompatible with multithreaded code, and JAX is multithreaded, so this will likely lead to a deadlock.\n",
      "  self.pid = os.fork()\n"
     ]
    },
    {
     "name": "stdout",
     "output_type": "stream",
     "text": [
      "iter  36: ll=52861059.162171, converged: 99.76% (loc: 99.76%, scale update: True), in 18.91sec\n",
      "iter  37: ll=52861059.160522, converged: 99.76% (loc: 99.94%, scale update: False), in 1.66sec\n",
      "iter  38: ll=52861059.160522, converged: 99.76% (loc: 99.99%, scale update: False), in 0.91sec\n",
      "iter  39: ll=52861059.160522, converged: 99.76% (loc: 100.00%, scale update: False), in 0.65sec\n",
      "Fitting 32 dispersion models: (progress not available with multiprocessing)"
     ]
    },
    {
     "name": "stderr",
     "output_type": "stream",
     "text": [
      "/usr/lib/python3.10/multiprocessing/popen_fork.py:66: RuntimeWarning: os.fork() was called. os.fork() is incompatible with multithreaded code, and JAX is multithreaded, so this will likely lead to a deadlock.\n",
      "  self.pid = os.fork()\n"
     ]
    },
    {
     "name": "stdout",
     "output_type": "stream",
     "text": [
      "iter  40: ll=52861018.120998, converged: 99.93% (loc: 99.93%, scale update: True), in 15.43sec\n",
      "iter  41: ll=52861018.120998, converged: 99.93% (loc: 100.00%, scale update: False), in 0.88sec\n",
      "Fitting 9 dispersion models: (progress not available with multiprocessing)"
     ]
    },
    {
     "name": "stderr",
     "output_type": "stream",
     "text": [
      "/usr/lib/python3.10/multiprocessing/popen_fork.py:66: RuntimeWarning: os.fork() was called. os.fork() is incompatible with multithreaded code, and JAX is multithreaded, so this will likely lead to a deadlock.\n",
      "  self.pid = os.fork()\n"
     ]
    },
    {
     "name": "stdout",
     "output_type": "stream",
     "text": [
      "iter  42: ll=52861018.120998, converged: 100.00% (loc: 100.00%, scale update: True), in 13.75sec\n"
     ]
    },
    {
     "name": "stderr",
     "output_type": "stream",
     "text": [
      "/usr/local/lib/python3.10/dist-packages/dask/array/core.py:2894: RuntimeWarning: divide by zero encountered in divide\n",
      "  size = (limit / dtype.itemsize / largest_block) ** (1 / len(autos))\n"
     ]
    },
    {
     "name": "stdout",
     "output_type": "stream",
     "text": [
      "In cluster NSC2b:\n",
      "condition\n",
      "Parkinson    1471\n",
      "Control       452\n",
      "Name: count, dtype: int64\n",
      "filtered out 4392 genes that are detected in less than 50 cells\n"
     ]
    },
    {
     "name": "stderr",
     "output_type": "stream",
     "text": [
      "Built constraints: Donor[UKERi1JF-R1-018]+Donor[UKERiG3G-R1-039]+Donor[UKERi1E4-R1-003]+Donor[UKERiO3H-R1-005]+Donor[UKERi82A-R1-002]=0, Donor[UKERiJ2C-R1-015]+Donor[UKERiM89-R1-005]+Donor[UKERiC99-R1-007]+Donor[UKERiR66-R1-007]+Donor[UKERiAY6-R1-003]+Donor[UKERiPX7-R1-001]+Donor[UKERi88H-R1-002]=0\n"
     ]
    },
    {
     "name": "stdout",
     "output_type": "stream",
     "text": [
      "Testing 12382 genes...\n",
      "\n",
      "training location model: True\n",
      "training scale model: True\n",
      "iter   0: ll=56251213.152319\n",
      "iter   1: ll=55397309.855374, converged: 0.00% (loc: 0.19%, scale update: False), in 8.64sec\n",
      "iter   2: ll=55325610.587873, converged: 0.00% (loc: 4.73%, scale update: False), in 9.45sec\n",
      "iter   3: ll=55320790.279259, converged: 0.00% (loc: 4.73%, scale update: False), in 8.97sec\n",
      "iter   4: ll=55319851.850921, converged: 0.00% (loc: 5.23%, scale update: False), in 8.62sec\n",
      "iter   5: ll=55319585.268863, converged: 0.00% (loc: 30.40%, scale update: False), in 8.60sec\n",
      "Fitting 12382 dispersion models: (progress not available with multiprocessing)"
     ]
    },
    {
     "name": "stderr",
     "output_type": "stream",
     "text": [
      "/usr/lib/python3.10/multiprocessing/popen_fork.py:66: RuntimeWarning: os.fork() was called. os.fork() is incompatible with multithreaded code, and JAX is multithreaded, so this will likely lead to a deadlock.\n",
      "  self.pid = os.fork()\n"
     ]
    },
    {
     "name": "stdout",
     "output_type": "stream",
     "text": [
      "iter   6: ll=22224404.025680, converged: 0.00% (loc: 0.00%, scale update: True), in 53.03sec\n",
      "iter   7: ll=22222161.486781, converged: 0.00% (loc: 4.10%, scale update: False), in 8.95sec\n",
      "iter   8: ll=22221914.011845, converged: 0.00% (loc: 12.28%, scale update: False), in 9.44sec\n",
      "iter   9: ll=22221859.528563, converged: 0.00% (loc: 53.20%, scale update: False), in 7.98sec\n",
      "iter  10: ll=22221836.208329, converged: 0.00% (loc: 84.75%, scale update: False), in 5.71sec\n",
      "iter  11: ll=22221825.067119, converged: 0.00% (loc: 93.11%, scale update: False), in 3.72sec\n",
      "Fitting 12382 dispersion models: (progress not available with multiprocessing)"
     ]
    },
    {
     "name": "stderr",
     "output_type": "stream",
     "text": [
      "/usr/lib/python3.10/multiprocessing/popen_fork.py:66: RuntimeWarning: os.fork() was called. os.fork() is incompatible with multithreaded code, and JAX is multithreaded, so this will likely lead to a deadlock.\n",
      "  self.pid = os.fork()\n"
     ]
    },
    {
     "name": "stdout",
     "output_type": "stream",
     "text": [
      "iter  12: ll=21544995.612297, converged: 2.62% (loc: 2.62%, scale update: True), in 54.42sec\n",
      "iter  13: ll=21544796.540646, converged: 2.62% (loc: 38.75%, scale update: False), in 8.69sec\n",
      "iter  14: ll=21544784.082257, converged: 2.62% (loc: 83.72%, scale update: False), in 6.39sec\n",
      "iter  15: ll=21544777.488868, converged: 2.62% (loc: 94.12%, scale update: False), in 3.98sec\n",
      "iter  16: ll=21544771.801714, converged: 2.62% (loc: 94.60%, scale update: False), in 3.20sec\n",
      "iter  17: ll=21544766.941576, converged: 2.62% (loc: 94.71%, scale update: False), in 3.10sec\n",
      "Fitting 12057 dispersion models: (progress not available with multiprocessing)"
     ]
    },
    {
     "name": "stderr",
     "output_type": "stream",
     "text": [
      "/usr/lib/python3.10/multiprocessing/popen_fork.py:66: RuntimeWarning: os.fork() was called. os.fork() is incompatible with multithreaded code, and JAX is multithreaded, so this will likely lead to a deadlock.\n",
      "  self.pid = os.fork()\n"
     ]
    },
    {
     "name": "stdout",
     "output_type": "stream",
     "text": [
      "iter  18: ll=21231423.666255, converged: 36.61% (loc: 36.61%, scale update: True), in 51.59sec\n",
      "iter  19: ll=21231325.532002, converged: 36.61% (loc: 90.99%, scale update: False), in 6.62sec\n",
      "iter  20: ll=21231322.258324, converged: 36.61% (loc: 94.80%, scale update: False), in 3.33sec\n",
      "iter  21: ll=21231321.824122, converged: 36.61% (loc: 94.97%, scale update: False), in 3.37sec\n",
      "iter  22: ll=21231321.816238, converged: 36.61% (loc: 96.41%, scale update: False), in 3.00sec\n",
      "iter  23: ll=21231321.816177, converged: 36.61% (loc: 99.10%, scale update: False), in 3.08sec\n",
      "Fitting 7849 dispersion models: (progress not available with multiprocessing)"
     ]
    },
    {
     "name": "stderr",
     "output_type": "stream",
     "text": [
      "/usr/lib/python3.10/multiprocessing/popen_fork.py:66: RuntimeWarning: os.fork() was called. os.fork() is incompatible with multithreaded code, and JAX is multithreaded, so this will likely lead to a deadlock.\n",
      "  self.pid = os.fork()\n"
     ]
    },
    {
     "name": "stdout",
     "output_type": "stream",
     "text": [
      "iter  24: ll=21090590.188420, converged: 89.49% (loc: 89.49%, scale update: True), in 36.10sec\n",
      "iter  25: ll=21090551.002464, converged: 89.49% (loc: 99.20%, scale update: False), in 3.41sec\n",
      "iter  26: ll=21090550.971188, converged: 89.49% (loc: 99.91%, scale update: False), in 1.95sec\n",
      "iter  27: ll=21090550.971187, converged: 89.49% (loc: 99.98%, scale update: False), in 0.78sec\n",
      "iter  28: ll=21090550.971187, converged: 89.49% (loc: 100.00%, scale update: False), in 0.38sec\n",
      "Fitting 1301 dispersion models: (progress not available with multiprocessing)"
     ]
    },
    {
     "name": "stderr",
     "output_type": "stream",
     "text": [
      "/usr/lib/python3.10/multiprocessing/popen_fork.py:66: RuntimeWarning: os.fork() was called. os.fork() is incompatible with multithreaded code, and JAX is multithreaded, so this will likely lead to a deadlock.\n",
      "  self.pid = os.fork()\n"
     ]
    },
    {
     "name": "stdout",
     "output_type": "stream",
     "text": [
      "iter  29: ll=21064783.316356, converged: 98.98% (loc: 98.98%, scale update: True), in 11.92sec\n",
      "iter  30: ll=21064774.993685, converged: 98.98% (loc: 99.91%, scale update: False), in 2.08sec\n",
      "iter  31: ll=21064774.993544, converged: 98.98% (loc: 99.98%, scale update: False), in 0.65sec\n",
      "iter  32: ll=21064774.993544, converged: 98.98% (loc: 100.00%, scale update: False), in 0.38sec\n",
      "Fitting 126 dispersion models: (progress not available with multiprocessing)"
     ]
    },
    {
     "name": "stderr",
     "output_type": "stream",
     "text": [
      "/usr/lib/python3.10/multiprocessing/popen_fork.py:66: RuntimeWarning: os.fork() was called. os.fork() is incompatible with multithreaded code, and JAX is multithreaded, so this will likely lead to a deadlock.\n",
      "  self.pid = os.fork()\n"
     ]
    },
    {
     "name": "stdout",
     "output_type": "stream",
     "text": [
      "iter  33: ll=21062864.033231, converged: 99.90% (loc: 99.90%, scale update: True), in 8.23sec\n",
      "iter  34: ll=21062864.033231, converged: 99.90% (loc: 100.00%, scale update: False), in 0.68sec\n",
      "Fitting 13 dispersion models: (progress not available with multiprocessing)"
     ]
    },
    {
     "name": "stderr",
     "output_type": "stream",
     "text": [
      "/usr/lib/python3.10/multiprocessing/popen_fork.py:66: RuntimeWarning: os.fork() was called. os.fork() is incompatible with multithreaded code, and JAX is multithreaded, so this will likely lead to a deadlock.\n",
      "  self.pid = os.fork()\n"
     ]
    },
    {
     "name": "stdout",
     "output_type": "stream",
     "text": [
      "iter  35: ll=21062864.033231, converged: 100.00% (loc: 100.00%, scale update: True), in 5.53sec\n"
     ]
    },
    {
     "name": "stderr",
     "output_type": "stream",
     "text": [
      "/usr/local/lib/python3.10/dist-packages/dask/array/core.py:2894: RuntimeWarning: divide by zero encountered in divide\n",
      "  size = (limit / dtype.itemsize / largest_block) ** (1 / len(autos))\n"
     ]
    }
   ],
   "source": [
    "for clust in adata.obs['cell_types_used'].cat.categories:\n",
    "    adata_tmp = adata[adata.obs['cell_types_used'] == clust,:].copy()\n",
    "\n",
    "    print(f'In cluster {clust}:')\n",
    "    print(adata_tmp.obs.condition.value_counts())\n",
    "\n",
    "    # Filter out genes to reduce multiple testing burden\n",
    "    sc.pp.filter_genes(adata_tmp, min_cells=50)\n",
    "    print(f'Testing {adata_tmp.n_vars} genes...')\n",
    "    print(\"\")\n",
    "    \n",
    "    test_tmp = de.test.wald(\n",
    "    data=adata_tmp.layers['soupX_counts'],\n",
    "    formula_loc=\"~ 1 + condition + Donor + size_factors\",\n",
    "    as_numeric=['size_factors'],\n",
    "    coef_to_test=[\"condition[T.Parkinson]\"],\n",
    "    sample_description=adata_tmp.obs,\n",
    "    gene_names=adata_tmp.var['gene_ids'].astype(str),\n",
    "    constraints_loc={'Donor':'condition'},\n",
    "    noise_model='nb',\n",
    "    dtype=\"float64\"\n",
    "    )\n",
    "    \n",
    "    #Store the results\n",
    "    de_results[clust] = test_tmp\n",
    "    "
   ]
  },
  {
   "cell_type": "markdown",
   "metadata": {},
   "source": [
    "### Bulk-like DE testing across all clusters"
   ]
  },
  {
   "cell_type": "code",
   "execution_count": 18,
   "metadata": {
    "scrolled": true
   },
   "outputs": [
    {
     "name": "stdout",
     "output_type": "stream",
     "text": [
      "condition\n",
      "Parkinson    18887\n",
      "Control      11670\n",
      "Name: count, dtype: int64\n",
      "filtered out 907 genes that are detected in less than 50 cells\n"
     ]
    },
    {
     "name": "stderr",
     "output_type": "stream",
     "text": [
      "Built constraints: Donor[UKERi1JF-R1-018]+Donor[UKERiG3G-R1-039]+Donor[UKERi1E4-R1-003]+Donor[UKERiO3H-R1-005]+Donor[UKERi82A-R1-002]=0, Donor[UKERiJ2C-R1-015]+Donor[UKERiM89-R1-005]+Donor[UKERiC99-R1-007]+Donor[UKERiR66-R1-007]+Donor[UKERiAY6-R1-003]+Donor[UKERiPX7-R1-001]+Donor[UKERi88H-R1-002]=0\n"
     ]
    },
    {
     "name": "stdout",
     "output_type": "stream",
     "text": [
      "Testing 15867 genes...\n",
      "\n"
     ]
    },
    {
     "name": "stderr",
     "output_type": "stream",
     "text": [
      "/usr/local/lib/python3.10/dist-packages/batchglm/models/base_glm/utils.py:158: PerformanceWarning: Slicing is producing a large chunk. To accept the large\n",
      "chunk and silence this warning, set the option\n",
      "    >>> with dask.config.set(**{'array.slicing.split_large_chunks': False}):\n",
      "    ...     array[indexer]\n",
      "\n",
      "To avoid creating the large chunks, set the option\n",
      "    >>> with dask.config.set(**{'array.slicing.split_large_chunks': True}):\n",
      "    ...     array[indexer]\n",
      "  np.mean(x[np.where(grouping == g)[0], :], axis=0)\n",
      "/usr/local/lib/python3.10/dist-packages/batchglm/models/base_glm/utils.py:171: PerformanceWarning: Slicing is producing a large chunk. To accept the large\n",
      "chunk and silence this warning, set the option\n",
      "    >>> with dask.config.set(**{'array.slicing.split_large_chunks': False}):\n",
      "    ...     array[indexer]\n",
      "\n",
      "To avoid creating the large chunks, set the option\n",
      "    >>> with dask.config.set(**{'array.slicing.split_large_chunks': True}):\n",
      "    ...     array[indexer]\n",
      "  expect_xsq = np.vstack([np.mean(np.square(x[np.where(grouping == g)[0], :]), axis=0)\n"
     ]
    },
    {
     "name": "stdout",
     "output_type": "stream",
     "text": [
      "training location model: True\n",
      "training scale model: True\n",
      "iter   0: ll=363734882.856952\n",
      "iter   1: ll=348656777.751425, converged: 0.00% (loc: 1.47%, scale update: False), in 208.69sec\n",
      "iter   2: ll=346977047.669265, converged: 0.00% (loc: 3.91%, scale update: False), in 177.61sec\n",
      "iter   3: ll=346854662.451878, converged: 0.00% (loc: 3.91%, scale update: False), in 169.58sec\n",
      "iter   4: ll=346828857.640932, converged: 0.00% (loc: 4.16%, scale update: False), in 168.41sec\n",
      "iter   5: ll=346820795.117586, converged: 0.00% (loc: 20.64%, scale update: False), in 167.35sec\n",
      "Fitting 15867 dispersion models: (progress not available with multiprocessing)"
     ]
    },
    {
     "name": "stderr",
     "output_type": "stream",
     "text": [
      "/usr/lib/python3.10/multiprocessing/popen_fork.py:66: RuntimeWarning: os.fork() was called. os.fork() is incompatible with multithreaded code, and JAX is multithreaded, so this will likely lead to a deadlock.\n",
      "  self.pid = os.fork()\n"
     ]
    },
    {
     "name": "stdout",
     "output_type": "stream",
     "text": [
      "iter   6: ll=325363024.041737, converged: 0.00% (loc: 0.00%, scale update: True), in 1020.04sec\n",
      "iter   7: ll=325327896.006938, converged: 0.00% (loc: 2.86%, scale update: False), in 179.72sec\n",
      "iter   8: ll=325324033.611201, converged: 0.00% (loc: 11.74%, scale update: False), in 173.00sec\n",
      "iter   9: ll=325322435.298009, converged: 0.00% (loc: 45.51%, scale update: False), in 159.78sec\n",
      "iter  10: ll=325321560.385989, converged: 0.00% (loc: 76.01%, scale update: False), in 109.12sec\n",
      "iter  11: ll=325321000.961124, converged: 0.00% (loc: 90.04%, scale update: False), in 61.71sec\n",
      "Fitting 15867 dispersion models: (progress not available with multiprocessing)"
     ]
    },
    {
     "name": "stderr",
     "output_type": "stream",
     "text": [
      "/usr/lib/python3.10/multiprocessing/popen_fork.py:66: RuntimeWarning: os.fork() was called. os.fork() is incompatible with multithreaded code, and JAX is multithreaded, so this will likely lead to a deadlock.\n",
      "  self.pid = os.fork()\n"
     ]
    },
    {
     "name": "stdout",
     "output_type": "stream",
     "text": [
      "iter  12: ll=323761157.866042, converged: 2.34% (loc: 2.34%, scale update: True), in 1026.05sec\n",
      "iter  13: ll=323760257.317912, converged: 2.34% (loc: 32.88%, scale update: False), in 174.66sec\n",
      "iter  14: ll=323759847.740782, converged: 2.34% (loc: 73.68%, scale update: False), in 125.17sec\n",
      "iter  15: ll=323759566.199906, converged: 2.34% (loc: 93.10%, scale update: False), in 68.89sec\n",
      "iter  16: ll=323759356.708808, converged: 2.34% (loc: 95.91%, scale update: False), in 35.39sec\n",
      "iter  17: ll=323759200.436758, converged: 2.34% (loc: 96.51%, scale update: False), in 31.23sec\n",
      "Fitting 15495 dispersion models: (progress not available with multiprocessing)"
     ]
    },
    {
     "name": "stderr",
     "output_type": "stream",
     "text": [
      "/usr/lib/python3.10/multiprocessing/popen_fork.py:66: RuntimeWarning: os.fork() was called. os.fork() is incompatible with multithreaded code, and JAX is multithreaded, so this will likely lead to a deadlock.\n",
      "  self.pid = os.fork()\n"
     ]
    },
    {
     "name": "stdout",
     "output_type": "stream",
     "text": [
      "iter  18: ll=322889863.871092, converged: 31.87% (loc: 31.87%, scale update: True), in 991.94sec\n",
      "iter  19: ll=322889424.588942, converged: 31.87% (loc: 88.92%, scale update: False), in 127.64sec\n",
      "iter  20: ll=322889259.177969, converged: 31.87% (loc: 96.17%, scale update: False), in 42.56sec\n",
      "iter  21: ll=322889142.856064, converged: 31.87% (loc: 96.75%, scale update: False), in 30.27sec\n",
      "iter  22: ll=322889073.684532, converged: 31.87% (loc: 98.16%, scale update: False), in 30.79sec\n",
      "iter  23: ll=322889033.960118, converged: 31.87% (loc: 99.24%, scale update: False), in 25.98sec\n",
      "Fitting 10810 dispersion models: (progress not available with multiprocessing)"
     ]
    },
    {
     "name": "stderr",
     "output_type": "stream",
     "text": [
      "/usr/lib/python3.10/multiprocessing/popen_fork.py:66: RuntimeWarning: os.fork() was called. os.fork() is incompatible with multithreaded code, and JAX is multithreaded, so this will likely lead to a deadlock.\n",
      "  self.pid = os.fork()\n"
     ]
    },
    {
     "name": "stdout",
     "output_type": "stream",
     "text": [
      "iter  24: ll=322397445.081115, converged: 88.33% (loc: 88.33%, scale update: True), in 731.75sec\n",
      "iter  25: ll=322397147.223189, converged: 88.33% (loc: 99.43%, scale update: False), in 43.89sec\n",
      "iter  26: ll=322397096.014701, converged: 88.33% (loc: 99.86%, scale update: False), in 15.22sec\n",
      "iter  27: ll=322397051.654035, converged: 88.33% (loc: 99.92%, scale update: False), in 5.71sec\n",
      "iter  28: ll=322397020.421485, converged: 88.33% (loc: 99.94%, scale update: False), in 3.40sec\n",
      "iter  29: ll=322397006.559711, converged: 88.33% (loc: 99.96%, scale update: False), in 2.77sec\n",
      "Fitting 1852 dispersion models: (progress not available with multiprocessing)"
     ]
    },
    {
     "name": "stderr",
     "output_type": "stream",
     "text": [
      "/usr/lib/python3.10/multiprocessing/popen_fork.py:66: RuntimeWarning: os.fork() was called. os.fork() is incompatible with multithreaded code, and JAX is multithreaded, so this will likely lead to a deadlock.\n",
      "  self.pid = os.fork()\n"
     ]
    },
    {
     "name": "stdout",
     "output_type": "stream",
     "text": [
      "iter  30: ll=322373406.495398, converged: 99.34% (loc: 99.34%, scale update: True), in 210.30sec\n",
      "iter  31: ll=322373395.965077, converged: 99.34% (loc: 99.96%, scale update: False), in 17.09sec\n",
      "iter  32: ll=322373395.606749, converged: 99.34% (loc: 99.98%, scale update: False), in 2.55sec\n",
      "iter  33: ll=322373395.604991, converged: 99.34% (loc: 99.99%, scale update: False), in 2.29sec\n",
      "iter  34: ll=322373395.604952, converged: 99.34% (loc: 99.99%, scale update: False), in 2.71sec\n",
      "iter  35: ll=322373395.604951, converged: 99.34% (loc: 99.99%, scale update: False), in 2.23sec\n",
      "Fitting 104 dispersion models: (progress not available with multiprocessing)"
     ]
    },
    {
     "name": "stderr",
     "output_type": "stream",
     "text": [
      "/usr/lib/python3.10/multiprocessing/popen_fork.py:66: RuntimeWarning: os.fork() was called. os.fork() is incompatible with multithreaded code, and JAX is multithreaded, so this will likely lead to a deadlock.\n",
      "  self.pid = os.fork()\n"
     ]
    },
    {
     "name": "stdout",
     "output_type": "stream",
     "text": [
      "iter  36: ll=322372816.846365, converged: 99.93% (loc: 99.93%, scale update: True), in 115.14sec\n",
      "iter  37: ll=322372816.844150, converged: 99.93% (loc: 99.98%, scale update: False), in 3.28sec\n",
      "iter  38: ll=322372816.844113, converged: 99.93% (loc: 99.99%, scale update: False), in 2.51sec\n",
      "iter  39: ll=322372816.844112, converged: 99.93% (loc: 99.99%, scale update: False), in 2.07sec\n",
      "iter  40: ll=322372816.844112, converged: 99.93% (loc: 100.00%, scale update: False), in 2.00sec\n",
      "Fitting 11 dispersion models: (progress not available with multiprocessing)"
     ]
    },
    {
     "name": "stderr",
     "output_type": "stream",
     "text": [
      "/usr/lib/python3.10/multiprocessing/popen_fork.py:66: RuntimeWarning: os.fork() was called. os.fork() is incompatible with multithreaded code, and JAX is multithreaded, so this will likely lead to a deadlock.\n",
      "  self.pid = os.fork()\n"
     ]
    },
    {
     "name": "stdout",
     "output_type": "stream",
     "text": [
      "iter  41: ll=322372467.424401, converged: 99.98% (loc: 99.98%, scale update: True), in 100.86sec\n",
      "iter  42: ll=322372467.424401, converged: 99.98% (loc: 100.00%, scale update: False), in 2.42sec\n",
      "iter  43: ll=322372467.424401, converged: 100.00% (loc: 100.00%, scale update: True), in 4.06sec\n"
     ]
    },
    {
     "name": "stderr",
     "output_type": "stream",
     "text": [
      "/usr/local/lib/python3.10/dist-packages/dask/array/core.py:2894: RuntimeWarning: divide by zero encountered in divide\n",
      "  size = (limit / dtype.itemsize / largest_block) ** (1 / len(autos))\n"
     ]
    }
   ],
   "source": [
    "# Make a copy for the testing\n",
    "adata_test = adata.copy()\n",
    "\n",
    "print(adata_test.obs.condition.value_counts())\n",
    "\n",
    "# Filter out genes to reduce multiple testing burden\n",
    "sc.pp.filter_genes(adata_test, min_cells=50)\n",
    "print(f'Testing {adata_test.n_vars} genes...')\n",
    "print(\"\")\n",
    "    \n",
    "test_bulk = de.test.wald(\n",
    "    data=adata_test.layers['soupX_counts'],\n",
    "    formula_loc=\"~ 1 + condition + Donor + size_factors\",\n",
    "    as_numeric=['size_factors'],\n",
    "    coef_to_test=[\"condition[T.Parkinson]\"],\n",
    "    sample_description=adata_test.obs,\n",
    "    gene_names=adata_test.var['gene_ids'].astype(str),\n",
    "    constraints_loc={'Donor':'condition'},\n",
    "    noise_model='nb',\n",
    "    dtype=\"float64\"\n",
    ")\n"
   ]
  },
  {
   "cell_type": "markdown",
   "metadata": {},
   "source": [
    "## Check some data"
   ]
  },
  {
   "cell_type": "code",
   "execution_count": 20,
   "metadata": {},
   "outputs": [
    {
     "data": {
      "text/html": [
       "<div>\n",
       "<style scoped>\n",
       "    .dataframe tbody tr th:only-of-type {\n",
       "        vertical-align: middle;\n",
       "    }\n",
       "\n",
       "    .dataframe tbody tr th {\n",
       "        vertical-align: top;\n",
       "    }\n",
       "\n",
       "    .dataframe thead th {\n",
       "        text-align: right;\n",
       "    }\n",
       "</style>\n",
       "<table border=\"1\" class=\"dataframe\">\n",
       "  <thead>\n",
       "    <tr style=\"text-align: right;\">\n",
       "      <th></th>\n",
       "      <th>gene</th>\n",
       "      <th>pval</th>\n",
       "      <th>qval</th>\n",
       "      <th>log2fc</th>\n",
       "      <th>mean</th>\n",
       "      <th>zero_mean</th>\n",
       "      <th>grad</th>\n",
       "      <th>coef_mle</th>\n",
       "      <th>coef_sd</th>\n",
       "      <th>ll</th>\n",
       "    </tr>\n",
       "  </thead>\n",
       "  <tbody>\n",
       "    <tr>\n",
       "      <th>5178</th>\n",
       "      <td>ENSG00000004948</td>\n",
       "      <td>0.0</td>\n",
       "      <td>0.0</td>\n",
       "      <td>2.950221</td>\n",
       "      <td>0.031375</td>\n",
       "      <td>False</td>\n",
       "      <td>4.075215e-03</td>\n",
       "      <td>2.950221</td>\n",
       "      <td>2.222759e-162</td>\n",
       "      <td>-282.914000</td>\n",
       "    </tr>\n",
       "    <tr>\n",
       "      <th>3609</th>\n",
       "      <td>ENSG00000145526</td>\n",
       "      <td>0.0</td>\n",
       "      <td>0.0</td>\n",
       "      <td>3.144584</td>\n",
       "      <td>0.022382</td>\n",
       "      <td>False</td>\n",
       "      <td>6.430340e-06</td>\n",
       "      <td>3.144584</td>\n",
       "      <td>2.222759e-162</td>\n",
       "      <td>-354.186377</td>\n",
       "    </tr>\n",
       "    <tr>\n",
       "      <th>12309</th>\n",
       "      <td>ENSG00000069399</td>\n",
       "      <td>0.0</td>\n",
       "      <td>0.0</td>\n",
       "      <td>4.822501</td>\n",
       "      <td>0.027978</td>\n",
       "      <td>False</td>\n",
       "      <td>2.366384e-04</td>\n",
       "      <td>4.822501</td>\n",
       "      <td>2.222759e-162</td>\n",
       "      <td>-602.643831</td>\n",
       "    </tr>\n",
       "    <tr>\n",
       "      <th>11206</th>\n",
       "      <td>ENSG00000108684</td>\n",
       "      <td>0.0</td>\n",
       "      <td>0.0</td>\n",
       "      <td>13.174367</td>\n",
       "      <td>0.015388</td>\n",
       "      <td>False</td>\n",
       "      <td>8.540608e-06</td>\n",
       "      <td>13.174367</td>\n",
       "      <td>2.222759e-162</td>\n",
       "      <td>-309.792544</td>\n",
       "    </tr>\n",
       "    <tr>\n",
       "      <th>7366</th>\n",
       "      <td>ENSG00000080854</td>\n",
       "      <td>0.0</td>\n",
       "      <td>0.0</td>\n",
       "      <td>0.904927</td>\n",
       "      <td>0.031775</td>\n",
       "      <td>False</td>\n",
       "      <td>1.650007e-04</td>\n",
       "      <td>0.904927</td>\n",
       "      <td>2.222759e-162</td>\n",
       "      <td>-587.151130</td>\n",
       "    </tr>\n",
       "    <tr>\n",
       "      <th>11998</th>\n",
       "      <td>ENSG00000101265</td>\n",
       "      <td>0.0</td>\n",
       "      <td>0.0</td>\n",
       "      <td>10.733867</td>\n",
       "      <td>0.035771</td>\n",
       "      <td>False</td>\n",
       "      <td>9.558911e-08</td>\n",
       "      <td>10.733867</td>\n",
       "      <td>2.222759e-162</td>\n",
       "      <td>-728.736454</td>\n",
       "    </tr>\n",
       "    <tr>\n",
       "      <th>12773</th>\n",
       "      <td>ENSG00000267179</td>\n",
       "      <td>0.0</td>\n",
       "      <td>0.0</td>\n",
       "      <td>7.579408</td>\n",
       "      <td>0.020584</td>\n",
       "      <td>False</td>\n",
       "      <td>1.738267e-04</td>\n",
       "      <td>7.579408</td>\n",
       "      <td>2.222759e-162</td>\n",
       "      <td>-496.422021</td>\n",
       "    </tr>\n",
       "    <tr>\n",
       "      <th>2958</th>\n",
       "      <td>ENSG00000080224</td>\n",
       "      <td>0.0</td>\n",
       "      <td>0.0</td>\n",
       "      <td>-3.229672</td>\n",
       "      <td>0.016187</td>\n",
       "      <td>False</td>\n",
       "      <td>2.828667e-05</td>\n",
       "      <td>-3.229672</td>\n",
       "      <td>2.222759e-162</td>\n",
       "      <td>-373.013897</td>\n",
       "    </tr>\n",
       "    <tr>\n",
       "      <th>6453</th>\n",
       "      <td>ENSG00000259305</td>\n",
       "      <td>0.0</td>\n",
       "      <td>0.0</td>\n",
       "      <td>11.248681</td>\n",
       "      <td>0.033373</td>\n",
       "      <td>False</td>\n",
       "      <td>7.492728e-07</td>\n",
       "      <td>11.248681</td>\n",
       "      <td>2.222759e-162</td>\n",
       "      <td>-716.945059</td>\n",
       "    </tr>\n",
       "    <tr>\n",
       "      <th>7360</th>\n",
       "      <td>ENSG00000110090</td>\n",
       "      <td>0.0</td>\n",
       "      <td>0.0</td>\n",
       "      <td>2.889355</td>\n",
       "      <td>0.026779</td>\n",
       "      <td>False</td>\n",
       "      <td>1.059688e-03</td>\n",
       "      <td>2.889355</td>\n",
       "      <td>2.222759e-162</td>\n",
       "      <td>-575.324484</td>\n",
       "    </tr>\n",
       "  </tbody>\n",
       "</table>\n",
       "</div>"
      ],
      "text/plain": [
       "                  gene  pval  qval     log2fc      mean  zero_mean  \\\n",
       "5178   ENSG00000004948   0.0   0.0   2.950221  0.031375      False   \n",
       "3609   ENSG00000145526   0.0   0.0   3.144584  0.022382      False   \n",
       "12309  ENSG00000069399   0.0   0.0   4.822501  0.027978      False   \n",
       "11206  ENSG00000108684   0.0   0.0  13.174367  0.015388      False   \n",
       "7366   ENSG00000080854   0.0   0.0   0.904927  0.031775      False   \n",
       "11998  ENSG00000101265   0.0   0.0  10.733867  0.035771      False   \n",
       "12773  ENSG00000267179   0.0   0.0   7.579408  0.020584      False   \n",
       "2958   ENSG00000080224   0.0   0.0  -3.229672  0.016187      False   \n",
       "6453   ENSG00000259305   0.0   0.0  11.248681  0.033373      False   \n",
       "7360   ENSG00000110090   0.0   0.0   2.889355  0.026779      False   \n",
       "\n",
       "               grad   coef_mle        coef_sd          ll  \n",
       "5178   4.075215e-03   2.950221  2.222759e-162 -282.914000  \n",
       "3609   6.430340e-06   3.144584  2.222759e-162 -354.186377  \n",
       "12309  2.366384e-04   4.822501  2.222759e-162 -602.643831  \n",
       "11206  8.540608e-06  13.174367  2.222759e-162 -309.792544  \n",
       "7366   1.650007e-04   0.904927  2.222759e-162 -587.151130  \n",
       "11998  9.558911e-08  10.733867  2.222759e-162 -728.736454  \n",
       "12773  1.738267e-04   7.579408  2.222759e-162 -496.422021  \n",
       "2958   2.828667e-05  -3.229672  2.222759e-162 -373.013897  \n",
       "6453   7.492728e-07  11.248681  2.222759e-162 -716.945059  \n",
       "7360   1.059688e-03   2.889355  2.222759e-162 -575.324484  "
      ]
     },
     "execution_count": 20,
     "metadata": {},
     "output_type": "execute_result"
    }
   ],
   "source": [
    "de_results['NCSC'].summary().sort_values(by='qval', ascending=True).iloc[:10,:]"
   ]
  },
  {
   "cell_type": "code",
   "execution_count": 21,
   "metadata": {},
   "outputs": [
    {
     "data": {
      "text/plain": [
       "0"
      ]
     },
     "execution_count": 21,
     "metadata": {},
     "output_type": "execute_result"
    },
    {
     "data": {
      "text/plain": [
       "0"
      ]
     },
     "execution_count": 21,
     "metadata": {},
     "output_type": "execute_result"
    }
   ],
   "source": [
    "# Test if model did not converger for some genes and some clusters\n",
    "np.sum(de_results['NCSC'].summary()['ll'] == np.float64('-inf'))\n",
    "np.sum(de_results['NSC2a'].summary()['ll'] == np.float64('-inf'))"
   ]
  },
  {
   "cell_type": "code",
   "execution_count": 19,
   "metadata": {},
   "outputs": [
    {
     "data": {
      "text/html": [
       "<div>\n",
       "<style scoped>\n",
       "    .dataframe tbody tr th:only-of-type {\n",
       "        vertical-align: middle;\n",
       "    }\n",
       "\n",
       "    .dataframe tbody tr th {\n",
       "        vertical-align: top;\n",
       "    }\n",
       "\n",
       "    .dataframe thead th {\n",
       "        text-align: right;\n",
       "    }\n",
       "</style>\n",
       "<table border=\"1\" class=\"dataframe\">\n",
       "  <thead>\n",
       "    <tr style=\"text-align: right;\">\n",
       "      <th></th>\n",
       "      <th>gene</th>\n",
       "      <th>pval</th>\n",
       "      <th>qval</th>\n",
       "      <th>log2fc</th>\n",
       "      <th>mean</th>\n",
       "      <th>zero_mean</th>\n",
       "      <th>grad</th>\n",
       "      <th>coef_mle</th>\n",
       "      <th>coef_sd</th>\n",
       "      <th>ll</th>\n",
       "    </tr>\n",
       "  </thead>\n",
       "  <tbody>\n",
       "    <tr>\n",
       "      <th>7933</th>\n",
       "      <td>ENSG00000165029</td>\n",
       "      <td>0.0</td>\n",
       "      <td>0.0</td>\n",
       "      <td>0.232584</td>\n",
       "      <td>0.610466</td>\n",
       "      <td>False</td>\n",
       "      <td>9.786149e-08</td>\n",
       "      <td>0.232584</td>\n",
       "      <td>0.022677</td>\n",
       "      <td>-30649.902072</td>\n",
       "    </tr>\n",
       "    <tr>\n",
       "      <th>8170</th>\n",
       "      <td>ENSG00000120162</td>\n",
       "      <td>0.0</td>\n",
       "      <td>0.0</td>\n",
       "      <td>0.227735</td>\n",
       "      <td>0.835030</td>\n",
       "      <td>False</td>\n",
       "      <td>3.432685e-07</td>\n",
       "      <td>0.227735</td>\n",
       "      <td>0.023194</td>\n",
       "      <td>-36213.117918</td>\n",
       "    </tr>\n",
       "    <tr>\n",
       "      <th>12317</th>\n",
       "      <td>ENSG00000066654</td>\n",
       "      <td>0.0</td>\n",
       "      <td>0.0</td>\n",
       "      <td>0.162000</td>\n",
       "      <td>0.576136</td>\n",
       "      <td>False</td>\n",
       "      <td>2.796505e-07</td>\n",
       "      <td>0.162000</td>\n",
       "      <td>0.019270</td>\n",
       "      <td>-29636.510819</td>\n",
       "    </tr>\n",
       "    <tr>\n",
       "      <th>3872</th>\n",
       "      <td>ENSG00000138823</td>\n",
       "      <td>0.0</td>\n",
       "      <td>0.0</td>\n",
       "      <td>0.383701</td>\n",
       "      <td>0.218804</td>\n",
       "      <td>False</td>\n",
       "      <td>2.739176e-08</td>\n",
       "      <td>0.383701</td>\n",
       "      <td>0.037369</td>\n",
       "      <td>-16483.217086</td>\n",
       "    </tr>\n",
       "    <tr>\n",
       "      <th>12319</th>\n",
       "      <td>ENSG00000183044</td>\n",
       "      <td>0.0</td>\n",
       "      <td>0.0</td>\n",
       "      <td>0.325313</td>\n",
       "      <td>0.315247</td>\n",
       "      <td>False</td>\n",
       "      <td>1.741691e-07</td>\n",
       "      <td>0.325313</td>\n",
       "      <td>0.028673</td>\n",
       "      <td>-21370.311338</td>\n",
       "    </tr>\n",
       "    <tr>\n",
       "      <th>12321</th>\n",
       "      <td>ENSG00000153048</td>\n",
       "      <td>0.0</td>\n",
       "      <td>0.0</td>\n",
       "      <td>0.235369</td>\n",
       "      <td>2.495337</td>\n",
       "      <td>False</td>\n",
       "      <td>1.926697e-06</td>\n",
       "      <td>0.235369</td>\n",
       "      <td>0.010784</td>\n",
       "      <td>-57357.036490</td>\n",
       "    </tr>\n",
       "    <tr>\n",
       "      <th>12322</th>\n",
       "      <td>ENSG00000086504</td>\n",
       "      <td>0.0</td>\n",
       "      <td>0.0</td>\n",
       "      <td>0.123085</td>\n",
       "      <td>1.318618</td>\n",
       "      <td>False</td>\n",
       "      <td>4.288843e-07</td>\n",
       "      <td>0.123085</td>\n",
       "      <td>0.012667</td>\n",
       "      <td>-44208.300747</td>\n",
       "    </tr>\n",
       "    <tr>\n",
       "      <th>3873</th>\n",
       "      <td>ENSG00000170365</td>\n",
       "      <td>0.0</td>\n",
       "      <td>0.0</td>\n",
       "      <td>-0.157020</td>\n",
       "      <td>0.596099</td>\n",
       "      <td>False</td>\n",
       "      <td>2.661180e-07</td>\n",
       "      <td>-0.157020</td>\n",
       "      <td>0.018675</td>\n",
       "      <td>-30535.683681</td>\n",
       "    </tr>\n",
       "    <tr>\n",
       "      <th>1640</th>\n",
       "      <td>ENSG00000115350</td>\n",
       "      <td>0.0</td>\n",
       "      <td>0.0</td>\n",
       "      <td>0.122205</td>\n",
       "      <td>1.190136</td>\n",
       "      <td>False</td>\n",
       "      <td>6.976995e-07</td>\n",
       "      <td>0.122205</td>\n",
       "      <td>0.014225</td>\n",
       "      <td>-42659.814567</td>\n",
       "    </tr>\n",
       "    <tr>\n",
       "      <th>12324</th>\n",
       "      <td>ENSG00000103202</td>\n",
       "      <td>0.0</td>\n",
       "      <td>0.0</td>\n",
       "      <td>-0.136223</td>\n",
       "      <td>4.993978</td>\n",
       "      <td>False</td>\n",
       "      <td>6.417595e-07</td>\n",
       "      <td>-0.136223</td>\n",
       "      <td>0.008181</td>\n",
       "      <td>-73142.340749</td>\n",
       "    </tr>\n",
       "  </tbody>\n",
       "</table>\n",
       "</div>"
      ],
      "text/plain": [
       "                  gene  pval  qval    log2fc      mean  zero_mean  \\\n",
       "7933   ENSG00000165029   0.0   0.0  0.232584  0.610466      False   \n",
       "8170   ENSG00000120162   0.0   0.0  0.227735  0.835030      False   \n",
       "12317  ENSG00000066654   0.0   0.0  0.162000  0.576136      False   \n",
       "3872   ENSG00000138823   0.0   0.0  0.383701  0.218804      False   \n",
       "12319  ENSG00000183044   0.0   0.0  0.325313  0.315247      False   \n",
       "12321  ENSG00000153048   0.0   0.0  0.235369  2.495337      False   \n",
       "12322  ENSG00000086504   0.0   0.0  0.123085  1.318618      False   \n",
       "3873   ENSG00000170365   0.0   0.0 -0.157020  0.596099      False   \n",
       "1640   ENSG00000115350   0.0   0.0  0.122205  1.190136      False   \n",
       "12324  ENSG00000103202   0.0   0.0 -0.136223  4.993978      False   \n",
       "\n",
       "               grad  coef_mle   coef_sd            ll  \n",
       "7933   9.786149e-08  0.232584  0.022677 -30649.902072  \n",
       "8170   3.432685e-07  0.227735  0.023194 -36213.117918  \n",
       "12317  2.796505e-07  0.162000  0.019270 -29636.510819  \n",
       "3872   2.739176e-08  0.383701  0.037369 -16483.217086  \n",
       "12319  1.741691e-07  0.325313  0.028673 -21370.311338  \n",
       "12321  1.926697e-06  0.235369  0.010784 -57357.036490  \n",
       "12322  4.288843e-07  0.123085  0.012667 -44208.300747  \n",
       "3873   2.661180e-07 -0.157020  0.018675 -30535.683681  \n",
       "1640   6.976995e-07  0.122205  0.014225 -42659.814567  \n",
       "12324  6.417595e-07 -0.136223  0.008181 -73142.340749  "
      ]
     },
     "execution_count": 19,
     "metadata": {},
     "output_type": "execute_result"
    }
   ],
   "source": [
    "test_bulk.summary().sort_values(by='qval', ascending=True).iloc[:10,:]"
   ]
  },
  {
   "cell_type": "markdown",
   "metadata": {},
   "source": [
    "## Post-process data"
   ]
  },
  {
   "cell_type": "code",
   "execution_count": 20,
   "metadata": {},
   "outputs": [],
   "source": [
    "# extract gene symbol - gene_ids informations for later conversion\n",
    "df_var = pd.DataFrame(adata.var)\n",
    "df_var = df_var[['gene_symbols', 'gene_ids']]\n",
    "df_var.reset_index(inplace=True) \n",
    "df_var = df_var.drop(columns='index')"
   ]
  },
  {
   "cell_type": "code",
   "execution_count": 24,
   "metadata": {},
   "outputs": [
    {
     "name": "stdout",
     "output_type": "stream",
     "text": [
      "There are 0 -inf log likelihood values. Filtering these out now...\n",
      "There are 61 logFC std. dev.s < 10E-100. Filtering these out now...\n",
      "There are 0 -inf log likelihood values. Filtering these out now...\n",
      "There are 1 logFC std. dev.s < 10E-100. Filtering these out now...\n",
      "There are 0 -inf log likelihood values. Filtering these out now...\n",
      "There are 5 logFC std. dev.s < 10E-100. Filtering these out now...\n",
      "There are 0 -inf log likelihood values. Filtering these out now...\n",
      "There are 0 logFC std. dev.s < 10E-100. Filtering these out now...\n",
      "There are 0 -inf log likelihood values. Filtering these out now...\n",
      "There are 39 logFC std. dev.s < 10E-100. Filtering these out now...\n",
      "There are 0 -inf log likelihood values. Filtering these out now...\n",
      "There are 1 logFC std. dev.s < 10E-100. Filtering these out now...\n",
      "There are 0 -inf log likelihood values. Filtering these out now...\n",
      "There are 2 logFC std. dev.s < 10E-100. Filtering these out now...\n",
      "There are 0 -inf log likelihood values. Filtering these out now...\n",
      "There are 0 logFC std. dev.s < 10E-100. Filtering these out now...\n",
      "There are 0 -inf log likelihood values. Filtering these out now...\n",
      "There are 0 logFC std. dev.s < 10E-100. Filtering these out now...\n"
     ]
    }
   ],
   "source": [
    "de_signif = dict()\n",
    "de_full_res = dict()\n",
    "\n",
    "for clust in de_results:\n",
    "    tmp = de_results[clust].summary()\n",
    "    \n",
    "    # add gene symbols\n",
    "    tmp = tmp.rename(columns = {\"gene\" : \"gene_ids\"})\n",
    "    tmp = tmp.merge(df_var, how = 'inner', on='gene_ids')\n",
    "\n",
    "    n_infll = np.sum(tmp['ll'] == np.float64('-inf'))\n",
    "    print(f'There are {n_infll} -inf log likelihood values. Filtering these out now...')\n",
    "    tmp = tmp.loc[tmp['ll'] != np.float64('-inf')]\n",
    "\n",
    "    n_unconverged = np.sum(tmp['coef_sd'] < 10E-100)\n",
    "    print(f'There are {n_unconverged} logFC std. dev.s < 10E-100. Filtering these out now...')    \n",
    "    tmp = tmp.loc[tmp['coef_sd'] > 10E-100]\n",
    "    \n",
    "    #Sort values by q-value\n",
    "    tmp.sort_values(by='qval', ascending=True, inplace=True)\n",
    "    \n",
    "    de_full_res[clust] = tmp.copy()\n",
    "    \n",
    "    #Filter by q-value to get significant DE genes\n",
    "    tmp_filt = tmp.loc[tmp['qval'] < 0.05]\n",
    "    de_signif[clust] = tmp_filt.copy()"
   ]
  },
  {
   "cell_type": "code",
   "execution_count": 21,
   "metadata": {},
   "outputs": [
    {
     "name": "stdout",
     "output_type": "stream",
     "text": [
      "There are 0 -inf log likelihood values. Filtering these out now...\n",
      "There are 0 logFC std. dev.s < 10E-100. Filtering these out now...\n"
     ]
    }
   ],
   "source": [
    "# bulk-like data\n",
    "bulk_res = test_bulk.summary()\n",
    "\n",
    "# add gene symbols\n",
    "bulk_res = bulk_res.rename(columns = {\"gene\" : \"gene_ids\"})\n",
    "bulk_res = bulk_res.merge(df_var, how = 'inner', on='gene_ids')\n",
    "\n",
    "n_infll = np.sum(bulk_res['ll'] == np.float64('-inf'))\n",
    "print(f'There are {n_infll} -inf log likelihood values. Filtering these out now...')\n",
    "bulk_res = bulk_res.loc[bulk_res['ll'] != np.float64('-inf')]\n",
    "\n",
    "n_unconverged = np.sum(bulk_res['coef_sd'] < 10E-100)\n",
    "print(f'There are {n_unconverged} logFC std. dev.s < 10E-100. Filtering these out now...')    \n",
    "bulk_res = bulk_res.loc[bulk_res['coef_sd'] > 10E-100]\n",
    "\n",
    "#Sort values by q-value\n",
    "bulk_res.sort_values(by='qval', ascending=True, inplace=True)\n",
    "        \n",
    "#Filter by q-value to get significant DE genes\n",
    "bulk_res_filt = bulk_res.loc[bulk_res['qval'] < 0.05]\n"
   ]
  },
  {
   "cell_type": "markdown",
   "metadata": {},
   "source": [
    "## Show DEGs"
   ]
  },
  {
   "cell_type": "code",
   "execution_count": 26,
   "metadata": {},
   "outputs": [
    {
     "name": "stdout",
     "output_type": "stream",
     "text": [
      "DEGs at FDR < 0.05:\n"
     ]
    },
    {
     "data": {
      "text/plain": [
       "{'Apop.-NCSC': 5,\n",
       " 'Apop.-NSC': 88,\n",
       " 'Glial-precursors': 3,\n",
       " 'Immature-neurons': 24,\n",
       " 'NCSC': 8,\n",
       " 'NSC1a': 2373,\n",
       " 'NSC1b': 3081,\n",
       " 'NSC2a': 3745,\n",
       " 'NSC2b': 1568}"
      ]
     },
     "execution_count": 26,
     "metadata": {},
     "output_type": "execute_result"
    },
    {
     "name": "stdout",
     "output_type": "stream",
     "text": [
      "DEGs at FDR < 0.01:\n"
     ]
    },
    {
     "data": {
      "text/plain": [
       "{'Apop.-NCSC': 0,\n",
       " 'Apop.-NSC': 49,\n",
       " 'Glial-precursors': 1,\n",
       " 'Immature-neurons': 14,\n",
       " 'NCSC': 5,\n",
       " 'NSC1a': 1633,\n",
       " 'NSC1b': 2007,\n",
       " 'NSC2a': 2638,\n",
       " 'NSC2b': 947}"
      ]
     },
     "execution_count": 26,
     "metadata": {},
     "output_type": "execute_result"
    }
   ],
   "source": [
    "# Number of differentially expressed genes (DEGs)\n",
    "print('DEGs at FDR < 0.05:')\n",
    "{clust:de_signif[clust].shape[0] for clust in de_signif}\n",
    "\n",
    "print('DEGs at FDR < 0.01:')\n",
    "{clust:de_signif[clust].loc[(de_signif[clust]['qval']<0.01)].shape[0] for clust in de_signif}"
   ]
  },
  {
   "cell_type": "code",
   "execution_count": 22,
   "metadata": {},
   "outputs": [
    {
     "name": "stdout",
     "output_type": "stream",
     "text": [
      "DEGs at FDR < 0.05:\n",
      "Bulk: 8281\n",
      "DEGs at FDR < 0.01:\n",
      "Bulk: 6931\n"
     ]
    }
   ],
   "source": [
    "#DEGs in bulk-like data\n",
    "print('DEGs at FDR < 0.05:')\n",
    "print(f'Bulk: {bulk_res_filt.shape[0]}')\n",
    "\n",
    "print('DEGs at FDR < 0.01:')\n",
    "degnum001 = bulk_res_filt.loc[(bulk_res_filt['qval']<0.01)].shape[0]\n",
    "print(f'Bulk: {degnum001}')"
   ]
  },
  {
   "cell_type": "markdown",
   "metadata": {},
   "source": [
    "Notes:\n",
    "- there are quite a lot of DEGs at FDR < 0.05 and at FDR < 0.01\n",
    "- Could use either threshold, FDR < 0.01 would be okay for higher confidence"
   ]
  },
  {
   "cell_type": "markdown",
   "metadata": {},
   "source": [
    "## Save data"
   ]
  },
  {
   "cell_type": "code",
   "execution_count": 28,
   "metadata": {},
   "outputs": [],
   "source": [
    "import pickle"
   ]
  },
  {
   "cell_type": "code",
   "execution_count": 29,
   "metadata": {},
   "outputs": [],
   "source": [
    "#Pickle the de output\n",
    "filename_pickle = save_dir+'diffxpy/'+resolution+'_diffxpy_cell_types_sf.pkl'\n",
    "pickle.dump(de_results, open(filename_pickle, \"wb\"))"
   ]
  },
  {
   "cell_type": "code",
   "execution_count": 30,
   "metadata": {},
   "outputs": [],
   "source": [
    "#Output individual results\n",
    "for clust in de_signif:\n",
    "    \n",
    "    filename_signif = save_dir+'diffxpy/'+resolution+'_diffxpy_'+clust.replace(' ', '_').replace(\n",
    "        '/','_').replace('(','').replace(')','')+'_diff_res.csv'\n",
    "    filename_full = save_dir+'diffxpy/'+resolution+'_diffxpy_'+clust.replace(' ', '_').replace(\n",
    "        '/','_').replace('(','').replace(')','')+'_res-table.csv'\n",
    "    \n",
    "    de_signif[clust].to_csv(filename_signif)\n",
    "    de_full_res[clust].to_csv(filename_full)"
   ]
  },
  {
   "cell_type": "code",
   "execution_count": 31,
   "metadata": {},
   "outputs": [],
   "source": [
    "#Pick the DE output - Bulk-like\n",
    "de_output_pickle_bulk = save_dir+'diffxpy/'+resolution+'_diffxpy_bulk_sf.pkl'\n",
    "pickle.dump(test_bulk, open(de_output_pickle_bulk, \"wb\"))"
   ]
  },
  {
   "cell_type": "code",
   "execution_count": 23,
   "metadata": {},
   "outputs": [],
   "source": [
    "#Output individual results - Bulk-like\n",
    "\n",
    "filename_signif = save_dir+'diffxpy/'+resolution+'_diffxpy_bulk_like_diff_res.csv'\n",
    "filename_full = save_dir+'diffxpy/'+resolution+'_diffxpy_bulk_like_res-table.csv'\n",
    "    \n",
    "bulk_res_filt.to_csv(filename_signif)\n",
    "bulk_res.to_csv(filename_full)"
   ]
  },
  {
   "cell_type": "code",
   "execution_count": 33,
   "metadata": {},
   "outputs": [
    {
     "name": "stderr",
     "output_type": "stream",
     "text": [
      "/usr/lib/python3.10/pty.py:89: RuntimeWarning: os.fork() was called. os.fork() is incompatible with multithreaded code, and JAX is multithreaded, so this will likely lead to a deadlock.\n",
      "  pid, fd = os.forkpty()\n"
     ]
    },
    {
     "name": "stdout",
     "output_type": "stream",
     "text": [
      "Looking in indexes: https://pypi.org/simple, https://pypi.ngc.nvidia.com\n",
      "Collecting dask==2023.11.0\n",
      "  Downloading dask-2023.11.0-py3-none-any.whl.metadata (3.7 kB)\n",
      "Collecting sparse==0.15.1\n",
      "  Downloading sparse-0.15.1-py2.py3-none-any.whl.metadata (4.5 kB)\n",
      "Requirement already satisfied: click>=8.1 in /usr/local/lib/python3.10/dist-packages (from dask==2023.11.0) (8.1.7)\n",
      "Requirement already satisfied: cloudpickle>=1.5.0 in /usr/local/lib/python3.10/dist-packages (from dask==2023.11.0) (3.0.0)\n",
      "Requirement already satisfied: fsspec>=2021.09.0 in /usr/local/lib/python3.10/dist-packages (from dask==2023.11.0) (2023.12.2)\n",
      "Requirement already satisfied: packaging>=20.0 in /usr/local/lib/python3.10/dist-packages (from dask==2023.11.0) (23.2)\n",
      "Requirement already satisfied: partd>=1.2.0 in /usr/local/lib/python3.10/dist-packages (from dask==2023.11.0) (1.4.1)\n",
      "Requirement already satisfied: pyyaml>=5.3.1 in /usr/local/lib/python3.10/dist-packages (from dask==2023.11.0) (6.0.1)\n",
      "Requirement already satisfied: toolz>=0.10.0 in /usr/local/lib/python3.10/dist-packages (from dask==2023.11.0) (0.12.0)\n",
      "Requirement already satisfied: importlib-metadata>=4.13.0 in /usr/local/lib/python3.10/dist-packages (from dask==2023.11.0) (7.0.0)\n",
      "Requirement already satisfied: numpy>=1.17 in /usr/local/lib/python3.10/dist-packages (from sparse==0.15.1) (1.24.4)\n",
      "Requirement already satisfied: scipy>=0.19 in /usr/local/lib/python3.10/dist-packages (from sparse==0.15.1) (1.11.4)\n",
      "Requirement already satisfied: numba>=0.49 in /usr/local/lib/python3.10/dist-packages (from sparse==0.15.1) (0.57.1+1.gb7ee25572)\n",
      "Requirement already satisfied: zipp>=0.5 in /usr/local/lib/python3.10/dist-packages (from importlib-metadata>=4.13.0->dask==2023.11.0) (3.17.0)\n",
      "Requirement already satisfied: llvmlite<0.41,>=0.40.0dev0 in /usr/local/lib/python3.10/dist-packages (from numba>=0.49->sparse==0.15.1) (0.40.1)\n",
      "Requirement already satisfied: locket in /usr/local/lib/python3.10/dist-packages (from partd>=1.2.0->dask==2023.11.0) (1.0.0)\n",
      "Downloading dask-2023.11.0-py3-none-any.whl (1.2 MB)\n",
      "\u001b[2K   \u001b[90m━━━━━━━━━━━━━━━━━━━━━━━━━━━━━━━━━━━━━━━━\u001b[0m \u001b[32m1.2/1.2 MB\u001b[0m \u001b[31m6.5 MB/s\u001b[0m eta \u001b[36m0:00:00\u001b[0ma \u001b[36m0:00:01\u001b[0m\n",
      "\u001b[?25hDownloading sparse-0.15.1-py2.py3-none-any.whl (116 kB)\n",
      "\u001b[2K   \u001b[90m━━━━━━━━━━━━━━━━━━━━━━━━━━━━━━━━━━━━━━━━\u001b[0m \u001b[32m116.3/116.3 kB\u001b[0m \u001b[31m9.2 MB/s\u001b[0m eta \u001b[36m0:00:00\u001b[0m\n",
      "\u001b[?25hInstalling collected packages: sparse, dask\n",
      "  Attempting uninstall: sparse\n",
      "    Found existing installation: sparse 0.9.1\n",
      "    Uninstalling sparse-0.9.1:\n",
      "      Successfully uninstalled sparse-0.9.1\n",
      "  Attempting uninstall: dask\n",
      "    Found existing installation: dask 2021.4.0\n",
      "    Uninstalling dask-2021.4.0:\n",
      "      Successfully uninstalled dask-2021.4.0\n",
      "Successfully installed dask-2023.11.0 sparse-0.15.1\n",
      "\u001b[33mWARNING: Running pip as the 'root' user can result in broken permissions and conflicting behaviour with the system package manager. It is recommended to use a virtual environment instead: https://pip.pypa.io/warnings/venv\u001b[0m\u001b[33m\n",
      "\u001b[0m"
     ]
    }
   ],
   "source": [
    "!pip install dask==2023.11.0 sparse==0.15.1"
   ]
  },
  {
   "cell_type": "code",
   "execution_count": null,
   "metadata": {},
   "outputs": [],
   "source": []
  }
 ],
 "metadata": {
  "kernelspec": {
   "display_name": "Python [conda env:base] *",
   "language": "python",
   "name": "conda-base-py"
  },
  "language_info": {
   "codemirror_mode": {
    "name": "ipython",
    "version": 3
   },
   "file_extension": ".py",
   "mimetype": "text/x-python",
   "name": "python",
   "nbconvert_exporter": "python",
   "pygments_lexer": "ipython3",
   "version": "3.13.5"
  }
 },
 "nbformat": 4,
 "nbformat_minor": 4
}
