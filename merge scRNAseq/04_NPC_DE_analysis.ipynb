{
 "cells": [
  {
   "cell_type": "code",
   "execution_count": 1,
   "metadata": {},
   "outputs": [
    {
     "name": "stdout",
     "output_type": "stream",
     "text": [
      "Looking in indexes: https://pypi.org/simple, https://pypi.ngc.nvidia.com\n",
      "Collecting dask==2021.4.0\n",
      "  Downloading dask-2021.4.0-py3-none-any.whl.metadata (2.9 kB)\n",
      "Collecting sparse==0.9.1\n",
      "  Downloading sparse-0.9.1-py2.py3-none-any.whl.metadata (2.8 kB)\n",
      "Requirement already satisfied: pyyaml in /usr/local/lib/python3.10/dist-packages (from dask==2021.4.0) (6.0.1)\n",
      "Requirement already satisfied: cloudpickle>=1.1.1 in /usr/local/lib/python3.10/dist-packages (from dask==2021.4.0) (3.0.0)\n",
      "Requirement already satisfied: fsspec>=0.6.0 in /usr/local/lib/python3.10/dist-packages (from dask==2021.4.0) (2023.12.2)\n",
      "Requirement already satisfied: toolz>=0.8.2 in /usr/local/lib/python3.10/dist-packages (from dask==2021.4.0) (0.12.0)\n",
      "Requirement already satisfied: partd>=0.3.10 in /usr/local/lib/python3.10/dist-packages (from dask==2021.4.0) (1.4.1)\n",
      "Requirement already satisfied: numpy in /usr/local/lib/python3.10/dist-packages (from sparse==0.9.1) (1.24.4)\n",
      "Requirement already satisfied: scipy>=0.19 in /usr/local/lib/python3.10/dist-packages (from sparse==0.9.1) (1.11.4)\n",
      "Requirement already satisfied: numba>=0.45 in /usr/local/lib/python3.10/dist-packages (from sparse==0.9.1) (0.57.1+1.gb7ee25572)\n",
      "Requirement already satisfied: llvmlite<0.41,>=0.40.0dev0 in /usr/local/lib/python3.10/dist-packages (from numba>=0.45->sparse==0.9.1) (0.40.1)\n",
      "Requirement already satisfied: locket in /usr/local/lib/python3.10/dist-packages (from partd>=0.3.10->dask==2021.4.0) (1.0.0)\n",
      "Downloading dask-2021.4.0-py3-none-any.whl (941 kB)\n",
      "\u001b[2K   \u001b[90m━━━━━━━━━━━━━━━━━━━━━━━━━━━━━━━━━━━━━━━━\u001b[0m \u001b[32m941.1/941.1 kB\u001b[0m \u001b[31m6.2 MB/s\u001b[0m eta \u001b[36m0:00:00\u001b[0ma \u001b[36m0:00:01\u001b[0m\n",
      "\u001b[?25hDownloading sparse-0.9.1-py2.py3-none-any.whl (63 kB)\n",
      "\u001b[2K   \u001b[90m━━━━━━━━━━━━━━━━━━━━━━━━━━━━━━━━━━━━━━━━\u001b[0m \u001b[32m63.8/63.8 kB\u001b[0m \u001b[31m10.6 MB/s\u001b[0m eta \u001b[36m0:00:00\u001b[0m\n",
      "\u001b[?25hInstalling collected packages: sparse, dask\n",
      "  Attempting uninstall: sparse\n",
      "    Found existing installation: sparse 0.15.1\n",
      "    Uninstalling sparse-0.15.1:\n",
      "      Successfully uninstalled sparse-0.15.1\n",
      "  Attempting uninstall: dask\n",
      "    Found existing installation: dask 2023.11.0\n",
      "    Uninstalling dask-2023.11.0:\n",
      "      Successfully uninstalled dask-2023.11.0\n",
      "\u001b[31mERROR: pip's dependency resolver does not currently take into account all the packages that are installed. This behaviour is the source of the following dependency conflicts.\n",
      "distributed 2023.11.0 requires dask==2023.11.0, but you have dask 2021.4.0 which is incompatible.\n",
      "rapids-dask-dependency 23.12.1 requires dask==2023.11.0, but you have dask 2021.4.0 which is incompatible.\u001b[0m\u001b[31m\n",
      "\u001b[0mSuccessfully installed dask-2021.4.0 sparse-0.9.1\n",
      "\u001b[33mWARNING: Running pip as the 'root' user can result in broken permissions and conflicting behaviour with the system package manager. It is recommended to use a virtual environment instead: https://pip.pypa.io/warnings/venv\u001b[0m\u001b[33m\n",
      "\u001b[0m"
     ]
    }
   ],
   "source": [
    "# Dependency conflicts\n",
    "!pip install dask==2021.4.0 sparse==0.9.1"
   ]
  },
  {
   "cell_type": "code",
   "execution_count": 1,
   "metadata": {},
   "outputs": [
    {
     "name": "stderr",
     "output_type": "stream",
     "text": [
      "2024-06-28 10:46:00.396598: I tensorflow/core/platform/cpu_feature_guard.cc:210] This TensorFlow binary is optimized to use available CPU instructions in performance-critical operations.\n",
      "To enable the following instructions: AVX2 FMA, in other operations, rebuild TensorFlow with the appropriate compiler flags.\n"
     ]
    }
   ],
   "source": [
    "import os\n",
    "import warnings\n",
    "\n",
    "warnings.filterwarnings(\"ignore\", category=DeprecationWarning)\n",
    "warnings.filterwarnings(\"ignore\", category=FutureWarning)\n",
    "from scipy.sparse import csr_matrix, issparse\n",
    "import matplotlib.pyplot as plt\n",
    "import seaborn as sns\n",
    "import scanpy as sc\n",
    "import pandas as pd\n",
    "import numpy as np\n",
    "import random\n",
    "import sc_toolbox\n",
    "import decoupler as dc\n",
    "import rpy2.robjects as ro\n",
    "import diffxpy.api as de\n",
    "import batchglm\n",
    "import rpy2.rinterface_lib.callbacks\n",
    "import anndata2ri\n",
    "import logging\n",
    "\n",
    "from rpy2.robjects import pandas2ri\n",
    "from rpy2.robjects import r\n",
    "\n",
    "from batchglm.pkg_constants import TF_CONFIG_PROTO\n",
    "\n",
    "from IPython.core.interactiveshell import InteractiveShell\n",
    "InteractiveShell.ast_node_interactivity = \"all\"\n",
    "\n",
    "sc.settings.verbosity = 0\n",
    "rpy2.rinterface_lib.callbacks.logger.setLevel(logging.ERROR)\n",
    "\n",
    "pandas2ri.activate()\n",
    "anndata2ri.activate()\n",
    "\n",
    "%load_ext rpy2.ipython\n",
    "os.chdir('/root/host_home')"
   ]
  },
  {
   "cell_type": "code",
   "execution_count": 2,
   "metadata": {
    "scrolled": true
   },
   "outputs": [
    {
     "name": "stdout",
     "output_type": "stream",
     "text": [
      "\n",
      "    WARNING: The R package \"reticulate\" only fixed recently\n",
      "    an issue that caused a segfault when used with rpy2:\n",
      "    https://github.com/rstudio/reticulate/pull/1188\n",
      "    Make sure that you use a version of that package that includes\n",
      "    the fix.\n",
      "    "
     ]
    },
    {
     "data": {
      "text/plain": [
       "Loading required package: limma\n",
       "Loading required package: SingleCellExperiment\n",
       "Loading required package: SummarizedExperiment\n",
       "Loading required package: MatrixGenerics\n",
       "Loading required package: matrixStats\n",
       "\n",
       "Attaching package: ‘MatrixGenerics’\n",
       "\n",
       "The following objects are masked from ‘package:matrixStats’:\n",
       "\n",
       "    colAlls, colAnyNAs, colAnys, colAvgsPerRowSet, colCollapse,\n",
       "    colCounts, colCummaxs, colCummins, colCumprods, colCumsums,\n",
       "    colDiffs, colIQRDiffs, colIQRs, colLogSumExps, colMadDiffs,\n",
       "    colMads, colMaxs, colMeans2, colMedians, colMins, colOrderStats,\n",
       "    colProds, colQuantiles, colRanges, colRanks, colSdDiffs, colSds,\n",
       "    colSums2, colTabulates, colVarDiffs, colVars, colWeightedMads,\n",
       "    colWeightedMeans, colWeightedMedians, colWeightedSds,\n",
       "    colWeightedVars, rowAlls, rowAnyNAs, rowAnys, rowAvgsPerColSet,\n",
       "    rowCollapse, rowCounts, rowCummaxs, rowCummins, rowCumprods,\n",
       "    rowCumsums, rowDiffs, rowIQRDiffs, rowIQRs, rowLogSumExps,\n",
       "    rowMadDiffs, rowMads, rowMaxs, rowMeans2, rowMedians, rowMins,\n",
       "    rowOrderStats, rowProds, rowQuantiles, rowRanges, rowRanks,\n",
       "    rowSdDiffs, rowSds, rowSums2, rowTabulates, rowVarDiffs, rowVars,\n",
       "    rowWeightedMads, rowWeightedMeans, rowWeightedMedians,\n",
       "    rowWeightedSds, rowWeightedVars\n",
       "\n",
       "Loading required package: GenomicRanges\n",
       "Loading required package: stats4\n",
       "Loading required package: BiocGenerics\n",
       "\n",
       "Attaching package: ‘BiocGenerics’\n",
       "\n",
       "The following object is masked from ‘package:limma’:\n",
       "\n",
       "    plotMA\n",
       "\n",
       "The following objects are masked from ‘package:stats’:\n",
       "\n",
       "    IQR, mad, sd, var, xtabs\n",
       "\n",
       "The following objects are masked from ‘package:base’:\n",
       "\n",
       "    anyDuplicated, aperm, append, as.data.frame, basename, cbind,\n",
       "    colnames, dirname, do.call, duplicated, eval, evalq, Filter, Find,\n",
       "    get, grep, grepl, intersect, is.unsorted, lapply, Map, mapply,\n",
       "    match, mget, order, paste, pmax, pmax.int, pmin, pmin.int,\n",
       "    Position, rank, rbind, Reduce, rownames, sapply, setdiff, sort,\n",
       "    table, tapply, union, unique, unsplit, which.max, which.min\n",
       "\n",
       "Loading required package: S4Vectors\n",
       "\n",
       "Attaching package: ‘S4Vectors’\n",
       "\n",
       "The following objects are masked from ‘package:base’:\n",
       "\n",
       "    expand.grid, I, unname\n",
       "\n",
       "Loading required package: IRanges\n",
       "Loading required package: GenomeInfoDb\n",
       "Loading required package: Biobase\n",
       "Welcome to Bioconductor\n",
       "\n",
       "    Vignettes contain introductory material; view with\n",
       "    'browseVignettes()'. To cite Bioconductor, see\n",
       "    'citation(\"Biobase\")', and for packages 'citation(\"pkgname\")'.\n",
       "\n",
       "\n",
       "Attaching package: ‘Biobase’\n",
       "\n",
       "The following object is masked from ‘package:MatrixGenerics’:\n",
       "\n",
       "    rowMedians\n",
       "\n",
       "The following objects are masked from ‘package:matrixStats’:\n",
       "\n",
       "    anyMissing, rowMedians\n",
       "\n",
       "\n",
       "Attaching package: ‘SingleCellExperiment’\n",
       "\n",
       "The following object is masked from ‘package:edgeR’:\n",
       "\n",
       "    cpm\n",
       "\n",
       "Loading required package: scuttle\n",
       "Loading required package: ggplot2\n",
       "\n",
       "Attaching package: ‘scater’\n",
       "\n",
       "The following object is masked from ‘package:limma’:\n",
       "\n",
       "    plotMDS\n",
       "\n",
       "Loading required package: SeuratObject\n",
       "Loading required package: sp\n",
       "\n",
       "Attaching package: ‘sp’\n",
       "\n",
       "The following object is masked from ‘package:IRanges’:\n",
       "\n",
       "    %over%\n",
       "\n",
       "\n",
       "Attaching package: ‘SeuratObject’\n",
       "\n",
       "The following object is masked from ‘package:SummarizedExperiment’:\n",
       "\n",
       "    Assays\n",
       "\n",
       "The following object is masked from ‘package:GenomicRanges’:\n",
       "\n",
       "    intersect\n",
       "\n",
       "The following object is masked from ‘package:GenomeInfoDb’:\n",
       "\n",
       "    intersect\n",
       "\n",
       "The following object is masked from ‘package:IRanges’:\n",
       "\n",
       "    intersect\n",
       "\n",
       "The following object is masked from ‘package:S4Vectors’:\n",
       "\n",
       "    intersect\n",
       "\n",
       "The following object is masked from ‘package:BiocGenerics’:\n",
       "\n",
       "    intersect\n",
       "\n",
       "The following object is masked from ‘package:base’:\n",
       "\n",
       "    intersect\n",
       "\n",
       "\n",
       "Attaching package: ‘Seurat’\n",
       "\n",
       "The following object is masked from ‘package:SummarizedExperiment’:\n",
       "\n",
       "    Assays\n",
       "\n",
       "\n",
       "Attaching package: ‘DESeq2’\n",
       "\n",
       "The following object is masked from ‘package:scater’:\n",
       "\n",
       "    fpkm\n",
       "\n",
       "data.table 1.15.4 using 8 threads (see ?getDTthreads).  Latest news: r-datatable.com\n",
       "\n",
       "Attaching package: ‘data.table’\n",
       "\n",
       "The following object is masked from ‘package:SummarizedExperiment’:\n",
       "\n",
       "    shift\n",
       "\n",
       "The following object is masked from ‘package:GenomicRanges’:\n",
       "\n",
       "    shift\n",
       "\n",
       "The following object is masked from ‘package:IRanges’:\n",
       "\n",
       "    shift\n",
       "\n",
       "The following objects are masked from ‘package:S4Vectors’:\n",
       "\n",
       "    first, second\n",
       "\n",
       "\n",
       "Attaching package: ‘dplyr’\n",
       "\n",
       "The following objects are masked from ‘package:data.table’:\n",
       "\n",
       "    between, first, last\n",
       "\n",
       "The following object is masked from ‘package:Biobase’:\n",
       "\n",
       "    combine\n",
       "\n",
       "The following objects are masked from ‘package:GenomicRanges’:\n",
       "\n",
       "    intersect, setdiff, union\n",
       "\n",
       "The following object is masked from ‘package:GenomeInfoDb’:\n",
       "\n",
       "    intersect\n",
       "\n",
       "The following objects are masked from ‘package:IRanges’:\n",
       "\n",
       "    collapse, desc, intersect, setdiff, slice, union\n",
       "\n",
       "The following objects are masked from ‘package:S4Vectors’:\n",
       "\n",
       "    first, intersect, rename, setdiff, setequal, union\n",
       "\n",
       "The following objects are masked from ‘package:BiocGenerics’:\n",
       "\n",
       "    combine, intersect, setdiff, union\n",
       "\n",
       "The following object is masked from ‘package:matrixStats’:\n",
       "\n",
       "    count\n",
       "\n",
       "The following objects are masked from ‘package:stats’:\n",
       "\n",
       "    filter, lag\n",
       "\n",
       "The following objects are masked from ‘package:base’:\n",
       "\n",
       "    intersect, setdiff, setequal, union\n",
       "\n",
       "Loading required package: Matrix\n",
       "\n",
       "Attaching package: ‘Matrix’\n",
       "\n",
       "The following object is masked from ‘package:S4Vectors’:\n",
       "\n",
       "    expand\n",
       "\n",
       "In addition: Warning message:\n",
       "In (function (package, help, pos = 2, lib.loc = NULL, character.only = FALSE,  :\n",
       "  library ‘/usr/lib/R/site-library’ contains no packages\n"
      ]
     },
     "metadata": {},
     "output_type": "display_data"
    }
   ],
   "source": [
    "%%R\n",
    "library(edgeR)\n",
    "library(scater)\n",
    "library(MAST)\n",
    "library(Seurat)\n",
    "library(DESeq2)\n",
    "library(data.table)\n",
    "library(dplyr)\n",
    "#library(EnhancedVolcano)\n",
    "library(apeglm)\n",
    "library(lme4)"
   ]
  },
  {
   "cell_type": "code",
   "execution_count": 3,
   "metadata": {
    "scrolled": true
   },
   "outputs": [],
   "source": [
    "plt.rcParams['figure.figsize']=(8,8) #rescale figures\n",
    "sc.settings.verbosity = 3\n",
    "#sc.set_figure_params(dpi=200, dpi_save=300)\n",
    "#sc.logging.print_versions()\n",
    "\n",
    "\n",
    "\n",
    "#logging.getLogger(\"tensorflow\").setLevel(logging.ERROR)\n",
    "#logging.getLogger(\"batchglm\").setLevel(logging.INFO)\n",
    "\n",
    "\n",
    "pd.set_option('display.max_rows', 500)\n",
    "#warnings.filterwarnings(\"ignore\", category=DeprecationWarning, module=\"tensorflow\")"
   ]
  },
  {
   "cell_type": "code",
   "execution_count": 4,
   "metadata": {},
   "outputs": [],
   "source": [
    "#Set number of threads\n",
    "TF_CONFIG_PROTO.inter_op_parallelism_threads = 1\n",
    "TF_CONFIG_PROTO.intra_op_parallelism_threads = 12"
   ]
  },
  {
   "cell_type": "markdown",
   "metadata": {},
   "source": [
    "# Filenames"
   ]
  },
  {
   "cell_type": "code",
   "execution_count": 5,
   "metadata": {},
   "outputs": [],
   "source": [
    "#input\n",
    "adata_input = 'NPCs_merge/processed_data/NPC_clustered_scvi_nb_cuda.h5ad'"
   ]
  },
  {
   "cell_type": "code",
   "execution_count": 6,
   "metadata": {},
   "outputs": [],
   "source": [
    "#output\n",
    "save_dir = 'NPCs_merge/tables/' \n",
    "resolution = 'cell_types'"
   ]
  },
  {
   "cell_type": "markdown",
   "metadata": {},
   "source": [
    "# Read in data"
   ]
  },
  {
   "cell_type": "code",
   "execution_count": 7,
   "metadata": {},
   "outputs": [],
   "source": [
    "adata = sc.read(adata_input)\n"
   ]
  },
  {
   "cell_type": "code",
   "execution_count": 8,
   "metadata": {},
   "outputs": [
    {
     "data": {
      "text/plain": [
       "AnnData object with n_obs × n_vars = 61400 × 17366\n",
       "    obs: 'Donor', 'lane', 'condition', 'age', 'years_of_illness', 'deltaHY', 'deltaUPDRS', 'deltaADL', 'deltaDOPA', 'gender', 'cultivation_period', 'n_genes_by_counts', 'log1p_n_genes_by_counts', 'total_counts', 'log1p_total_counts', 'pct_counts_in_top_20_genes', 'total_counts_mt', 'log1p_total_counts_mt', 'pct_counts_mt', 'total_counts_ribo', 'log1p_total_counts_ribo', 'pct_counts_ribo', 'total_counts_hb', 'log1p_total_counts_hb', 'pct_counts_hb', 'n_counts', 'S_score', 'G2M_score', 'phase', 'cell_types', 'cell_types_abbrev', 'size_factors', 'donor_batch_ID', '_scvi_batch', '_scvi_labels', 'Ferroptosis_pos_corr', 'Ferroptosis_neg_corr', 'Apoptosis_pos_corr', 'Apoptosis_neg_corr', 'Necroptosis_pos_corr', 'Autophagy_pos_corr', 'Pathanatos_pos_corr'\n",
       "    var: 'gene_ids', 'feature_types', 'genome', 'gene_symbols', 'mt', 'ribo', 'hb', 'n_cells_by_counts', 'mean_counts', 'log1p_mean_counts', 'pct_dropout_by_counts', 'total_counts', 'log1p_total_counts', 'highly_variable', 'means', 'dispersions', 'dispersions_norm', 'highly_variable_genes', 'highly_variable_nbatches', 'highly_variable_intersection', 'highly_variable_genes_batch_aware'\n",
       "    uns: 'Donor_colors', '_scvi_manager_uuid', '_scvi_uuid', 'cell_types_abbrev_colors', 'cell_types_colors', 'condition_colors', 'cultivation_period_colors', 'gender_colors', 'hvg', 'lane_colors', 'neighbors', 'neighbors_CC', 'neighbors_noCC', 'pca', 'phase_colors', 'umap'\n",
       "    obsm: 'X_pca', 'X_scANVI_CC', 'X_scANVI_noCC', 'X_scVI_CC', 'X_scVI_noCC', 'X_umap', 'X_umap_CC', 'X_umap_noCC', '_scvi_extra_categorical_covs', '_scvi_extra_continuous_covs'\n",
       "    varm: 'PCs'\n",
       "    layers: 'log1p_norm', 'scran_normalization', 'soupX_counts'\n",
       "    obsp: 'connectivities', 'connectivities_CC', 'connectivities_noCC', 'distances', 'distances_CC', 'distances_noCC'"
      ]
     },
     "execution_count": 8,
     "metadata": {},
     "output_type": "execute_result"
    }
   ],
   "source": [
    "adata"
   ]
  },
  {
   "cell_type": "markdown",
   "metadata": {},
   "source": [
    "# Preprocess data"
   ]
  },
  {
   "cell_type": "code",
   "execution_count": 9,
   "metadata": {},
   "outputs": [],
   "source": [
    "# Clean up cell type names\n",
    "adata.obs['cell_types_used'] = [ct.replace(\" \", \"-\") for ct in adata.obs[resolution]]\n",
    "adata.obs['cell_types_used'] = [ct.replace(\"+\", \"\") for ct in adata.obs['cell_types_used']]"
   ]
  },
  {
   "cell_type": "code",
   "execution_count": 10,
   "metadata": {},
   "outputs": [],
   "source": [
    "adata.obs[\"Donor\"] = adata.obs[\"Donor\"].astype(\"category\")\n",
    "adata.obs[\"condition\"] = adata.obs[\"condition\"].astype(\"category\")\n",
    "adata.obs['cell_types_used'] = adata.obs['cell_types_used'].astype(\"category\")"
   ]
  },
  {
   "cell_type": "code",
   "execution_count": 11,
   "metadata": {},
   "outputs": [
    {
     "data": {
      "text/plain": [
       "Index(['Apop.-NCSC', 'Apop.-NSC', 'Glial-precursors', 'Immature-neurons',\n",
       "       'NCSC', 'NSC1a', 'NSC1b', 'NSC2a', 'NSC2b'],\n",
       "      dtype='object')"
      ]
     },
     "execution_count": 11,
     "metadata": {},
     "output_type": "execute_result"
    }
   ],
   "source": [
    "adata.obs['cell_types_used'].cat.categories"
   ]
  },
  {
   "cell_type": "markdown",
   "metadata": {
    "jp-MarkdownHeadingCollapsed": true
   },
   "source": [
    "# Check the data"
   ]
  },
  {
   "cell_type": "code",
   "execution_count": 11,
   "metadata": {},
   "outputs": [
    {
     "data": {
      "text/plain": [
       "0.0"
      ]
     },
     "execution_count": 11,
     "metadata": {},
     "output_type": "execute_result"
    }
   ],
   "source": [
    "np.mean(adata.layers['soupX_counts'].astype(int) != adata.layers['soupX_counts'])"
   ]
  },
  {
   "cell_type": "markdown",
   "metadata": {},
   "source": [
    "Counts are actually all integer counts."
   ]
  },
  {
   "cell_type": "code",
   "execution_count": 12,
   "metadata": {},
   "outputs": [
    {
     "data": {
      "text/plain": [
       "condition\n",
       "Parkinson    38032\n",
       "Control      23368\n",
       "Name: count, dtype: int64"
      ]
     },
     "execution_count": 12,
     "metadata": {},
     "output_type": "execute_result"
    }
   ],
   "source": [
    "adata.obs.condition.value_counts()"
   ]
  },
  {
   "cell_type": "code",
   "execution_count": 13,
   "metadata": {},
   "outputs": [
    {
     "data": {
      "text/plain": [
       "cultivation_period\n",
       "lp    30843\n",
       "hp    30557\n",
       "Name: count, dtype: int64"
      ]
     },
     "execution_count": 13,
     "metadata": {},
     "output_type": "execute_result"
    }
   ],
   "source": [
    "adata.obs.cultivation_period.value_counts()"
   ]
  },
  {
   "cell_type": "code",
   "execution_count": 14,
   "metadata": {},
   "outputs": [
    {
     "data": {
      "text/plain": [
       "cell_types_used   cultivation_period\n",
       "Apop.-NCSC        hp                      211\n",
       "                  lp                      115\n",
       "Apop.-NSC         lp                     2481\n",
       "                  hp                     1385\n",
       "Glial-precursors  hp                      991\n",
       "                  lp                      896\n",
       "Immature-neurons  lp                      910\n",
       "                  hp                      504\n",
       "NCSC              hp                     5004\n",
       "                  lp                     2860\n",
       "NSC1a             lp                    13980\n",
       "                  hp                     8693\n",
       "NSC1b             lp                     6940\n",
       "                  hp                     6199\n",
       "NSC2a             hp                     5647\n",
       "                  lp                     2228\n",
       "NSC2b             hp                     1923\n",
       "                  lp                      433\n",
       "Name: count, dtype: int64"
      ]
     },
     "execution_count": 14,
     "metadata": {},
     "output_type": "execute_result"
    }
   ],
   "source": [
    "adata.obs.groupby(['cell_types_used'])['cultivation_period'].value_counts()"
   ]
  },
  {
   "cell_type": "code",
   "execution_count": 15,
   "metadata": {},
   "outputs": [
    {
     "data": {
      "text/plain": [
       "cell_types_used   condition\n",
       "Apop.-NCSC        Control        167\n",
       "                  Parkinson      159\n",
       "Apop.-NSC         Parkinson     2162\n",
       "                  Control       1704\n",
       "Glial-precursors  Parkinson     1088\n",
       "                  Control        799\n",
       "Immature-neurons  Parkinson      881\n",
       "                  Control        533\n",
       "NCSC              Control       4416\n",
       "                  Parkinson     3448\n",
       "NSC1a             Parkinson    14007\n",
       "                  Control       8666\n",
       "NSC1b             Parkinson     8730\n",
       "                  Control       4409\n",
       "NSC2a             Parkinson     5691\n",
       "                  Control       2184\n",
       "NSC2b             Parkinson     1866\n",
       "                  Control        490\n",
       "Name: count, dtype: int64"
      ]
     },
     "execution_count": 15,
     "metadata": {},
     "output_type": "execute_result"
    }
   ],
   "source": [
    "adata.obs.groupby(['cell_types_used'])['condition'].value_counts()"
   ]
  },
  {
   "cell_type": "code",
   "execution_count": 16,
   "metadata": {
    "scrolled": true
   },
   "outputs": [
    {
     "data": {
      "text/plain": [
       "cell_types_used   Donor          \n",
       "Apop.-NCSC        UKERi88H-R1-002      68\n",
       "                  UKERi1E4-R1-003      65\n",
       "                  UKERi82A-R1-002      63\n",
       "                  UKERiO3H-R1-005      32\n",
       "                  UKERiAY6-R1-003      29\n",
       "                  UKERiC99-R1-007      20\n",
       "                  UKERiPX7-R1-001      13\n",
       "                  UKERiJ2C-R1-015      11\n",
       "                  UKERiM89-R1-005       9\n",
       "                  UKERiR66-R1-007       9\n",
       "                  UKERiG3G-R1-039       4\n",
       "                  UKERi1JF-R1-018       3\n",
       "Apop.-NSC         UKERiO3H-R1-005     465\n",
       "                  UKERiPX7-R1-001     461\n",
       "                  UKERiJ2C-R1-015     426\n",
       "                  UKERiG3G-R1-039     424\n",
       "                  UKERi82A-R1-002     384\n",
       "                  UKERiAY6-R1-003     380\n",
       "                  UKERi1E4-R1-003     262\n",
       "                  UKERiR66-R1-007     249\n",
       "                  UKERiC99-R1-007     244\n",
       "                  UKERi88H-R1-002     210\n",
       "                  UKERiM89-R1-005     192\n",
       "                  UKERi1JF-R1-018     169\n",
       "Glial-precursors  UKERi82A-R1-002     409\n",
       "                  UKERiR66-R1-007     279\n",
       "                  UKERiC99-R1-007     276\n",
       "                  UKERiAY6-R1-003     222\n",
       "                  UKERiG3G-R1-039     157\n",
       "                  UKERi88H-R1-002     137\n",
       "                  UKERiPX7-R1-001     112\n",
       "                  UKERi1JF-R1-018      87\n",
       "                  UKERi1E4-R1-003      87\n",
       "                  UKERiO3H-R1-005      59\n",
       "                  UKERiJ2C-R1-015      46\n",
       "                  UKERiM89-R1-005      16\n",
       "Immature-neurons  UKERiPX7-R1-001     227\n",
       "                  UKERi1E4-R1-003     172\n",
       "                  UKERiJ2C-R1-015     163\n",
       "                  UKERiR66-R1-007     119\n",
       "                  UKERiO3H-R1-005     112\n",
       "                  UKERi88H-R1-002     111\n",
       "                  UKERiAY6-R1-003     105\n",
       "                  UKERiG3G-R1-039      99\n",
       "                  UKERiC99-R1-007      85\n",
       "                  UKERi1JF-R1-018      84\n",
       "                  UKERiM89-R1-005      71\n",
       "                  UKERi82A-R1-002      66\n",
       "NCSC              UKERi1E4-R1-003    3174\n",
       "                  UKERi88H-R1-002     979\n",
       "                  UKERiR66-R1-007     639\n",
       "                  UKERiAY6-R1-003     580\n",
       "                  UKERi82A-R1-002     509\n",
       "                  UKERiC99-R1-007     437\n",
       "                  UKERiO3H-R1-005     409\n",
       "                  UKERiPX7-R1-001     384\n",
       "                  UKERiJ2C-R1-015     308\n",
       "                  UKERiG3G-R1-039     271\n",
       "                  UKERiM89-R1-005     121\n",
       "                  UKERi1JF-R1-018      53\n",
       "NSC1a             UKERiO3H-R1-005    3180\n",
       "                  UKERiPX7-R1-001    3129\n",
       "                  UKERiG3G-R1-039    2549\n",
       "                  UKERiC99-R1-007    2526\n",
       "                  UKERiAY6-R1-003    1933\n",
       "                  UKERi88H-R1-002    1862\n",
       "                  UKERiR66-R1-007    1763\n",
       "                  UKERiJ2C-R1-015    1414\n",
       "                  UKERiM89-R1-005    1380\n",
       "                  UKERi82A-R1-002    1047\n",
       "                  UKERi1JF-R1-018     948\n",
       "                  UKERi1E4-R1-003     942\n",
       "NSC1b             UKERiC99-R1-007    1685\n",
       "                  UKERiPX7-R1-001    1548\n",
       "                  UKERiAY6-R1-003    1370\n",
       "                  UKERiO3H-R1-005    1331\n",
       "                  UKERiG3G-R1-039    1287\n",
       "                  UKERiJ2C-R1-015    1146\n",
       "                  UKERiR66-R1-007    1132\n",
       "                  UKERi88H-R1-002    1105\n",
       "                  UKERiM89-R1-005     744\n",
       "                  UKERi82A-R1-002     660\n",
       "                  UKERi1JF-R1-018     631\n",
       "                  UKERi1E4-R1-003     500\n",
       "NSC2a             UKERiPX7-R1-001    1299\n",
       "                  UKERi88H-R1-002    1287\n",
       "                  UKERiC99-R1-007     970\n",
       "                  UKERi1JF-R1-018     792\n",
       "                  UKERiAY6-R1-003     729\n",
       "                  UKERiR66-R1-007     622\n",
       "                  UKERi1E4-R1-003     538\n",
       "                  UKERiM89-R1-005     528\n",
       "                  UKERiG3G-R1-039     379\n",
       "                  UKERiO3H-R1-005     342\n",
       "                  UKERiJ2C-R1-015     256\n",
       "                  UKERi82A-R1-002     133\n",
       "NSC2b             UKERi88H-R1-002     500\n",
       "                  UKERiC99-R1-007     390\n",
       "                  UKERiPX7-R1-001     338\n",
       "                  UKERiAY6-R1-003     222\n",
       "                  UKERiR66-R1-007     221\n",
       "                  UKERi1JF-R1-018     125\n",
       "                  UKERiM89-R1-005     116\n",
       "                  UKERi1E4-R1-003     112\n",
       "                  UKERiG3G-R1-039     104\n",
       "                  UKERiJ2C-R1-015      79\n",
       "                  UKERi82A-R1-002      77\n",
       "                  UKERiO3H-R1-005      72\n",
       "Name: count, dtype: int64"
      ]
     },
     "execution_count": 16,
     "metadata": {},
     "output_type": "execute_result"
    }
   ],
   "source": [
    "adata.obs.groupby(['cell_types_used'])['Donor'].value_counts()"
   ]
  },
  {
   "cell_type": "code",
   "execution_count": 17,
   "metadata": {},
   "outputs": [],
   "source": [
    "adata.obs['condition_period'] = adata.obs['condition'].astype(str)+'_'+adata.obs['cultivation_period'].astype(str)"
   ]
  },
  {
   "cell_type": "code",
   "execution_count": 18,
   "metadata": {},
   "outputs": [],
   "source": [
    "adata.obs['donor_period'] = adata.obs['Donor'].astype(str)+'_'+adata.obs['cultivation_period'].astype(str)"
   ]
  },
  {
   "cell_type": "markdown",
   "metadata": {},
   "source": [
    "Note:\n",
    "- General imbalance between Parkinson and control cell numbers\n"
   ]
  },
  {
   "cell_type": "markdown",
   "metadata": {},
   "source": [
    "# Single-cell specific using diffxpy"
   ]
  },
  {
   "cell_type": "code",
   "execution_count": 19,
   "metadata": {},
   "outputs": [
    {
     "name": "stdout",
     "output_type": "stream",
     "text": [
      "The directory already exists\n"
     ]
    }
   ],
   "source": [
    "if not os.path.exists(save_dir+'diffxpy'):\n",
    "    # Create a new directory because it does not exist\n",
    "    os.mkdir(save_dir+'diffxpy')\n",
    "    print(\"The new directory: \"+save_dir+\"diffxpy is created!\")\n",
    "else: \n",
    "    print(\"The directory already exists\")"
   ]
  },
  {
   "cell_type": "markdown",
   "metadata": {
    "jp-MarkdownHeadingCollapsed": true
   },
   "source": [
    "## Differential expression testing (overall)"
   ]
  },
  {
   "cell_type": "markdown",
   "metadata": {},
   "source": [
    "### Cell type specific DE testing"
   ]
  },
  {
   "cell_type": "code",
   "execution_count": 20,
   "metadata": {},
   "outputs": [],
   "source": [
    "de_results_overall = dict()\n"
   ]
  },
  {
   "cell_type": "code",
   "execution_count": 21,
   "metadata": {},
   "outputs": [
    {
     "data": {
      "text/plain": [
       "['Intercept',\n",
       " 'cultivation_period[T.hp]',\n",
       " 'donor_period[T.UKERi1E4-R1-003_lp]',\n",
       " 'donor_period[T.UKERi1JF-R1-018_hp]',\n",
       " 'donor_period[T.UKERi1JF-R1-018_lp]',\n",
       " 'donor_period[T.UKERi82A-R1-002_hp]',\n",
       " 'donor_period[T.UKERi82A-R1-002_lp]',\n",
       " 'donor_period[T.UKERi88H-R1-002_hp]',\n",
       " 'donor_period[T.UKERi88H-R1-002_lp]',\n",
       " 'donor_period[T.UKERiAY6-R1-003_hp]',\n",
       " 'donor_period[T.UKERiAY6-R1-003_lp]',\n",
       " 'donor_period[T.UKERiC99-R1-007_hp]',\n",
       " 'donor_period[T.UKERiC99-R1-007_lp]',\n",
       " 'donor_period[T.UKERiG3G-R1-039_hp]',\n",
       " 'donor_period[T.UKERiG3G-R1-039_lp]',\n",
       " 'donor_period[T.UKERiJ2C-R1-015_hp]',\n",
       " 'donor_period[T.UKERiJ2C-R1-015_lp]',\n",
       " 'donor_period[T.UKERiM89-R1-005_hp]',\n",
       " 'donor_period[T.UKERiM89-R1-005_lp]',\n",
       " 'donor_period[T.UKERiO3H-R1-005_hp]',\n",
       " 'donor_period[T.UKERiO3H-R1-005_lp]',\n",
       " 'donor_period[T.UKERiPX7-R1-001_hp]',\n",
       " 'donor_period[T.UKERiPX7-R1-001_lp]',\n",
       " 'donor_period[T.UKERiR66-R1-007_hp]',\n",
       " 'donor_period[T.UKERiR66-R1-007_lp]']"
      ]
     },
     "execution_count": 21,
     "metadata": {},
     "output_type": "execute_result"
    }
   ],
   "source": [
    "de.utils.preview_coef_names(\n",
    "    sample_description=adata.obs,\n",
    "    formula=\"~1 + cultivation_period + donor_period\", \n",
    ")"
   ]
  },
  {
   "cell_type": "code",
   "execution_count": 22,
   "metadata": {
    "scrolled": true
   },
   "outputs": [
    {
     "name": "stdout",
     "output_type": "stream",
     "text": [
      "In cluster Apop.-NCSC:\n",
      "condition\n",
      "Control      167\n",
      "Parkinson    159\n",
      "Name: count, dtype: int64\n",
      "filtered out 13679 genes that are detected in less than 50 cells\n"
     ]
    },
    {
     "name": "stderr",
     "output_type": "stream",
     "text": [
      "Built constraints: donor_period[UKERi1E4-R1-003_lp]+donor_period[UKERi1JF-R1-018_lp]+donor_period[UKERi82A-R1-002_lp]+donor_period[UKERi88H-R1-002_lp]+donor_period[UKERiAY6-R1-003_lp]+donor_period[UKERiC99-R1-007_lp]+donor_period[UKERiG3G-R1-039_lp]+donor_period[UKERiJ2C-R1-015_lp]+donor_period[UKERiM89-R1-005_lp]+donor_period[UKERiO3H-R1-005_lp]+donor_period[UKERiPX7-R1-001_lp]+donor_period[UKERiR66-R1-007_lp]=0, donor_period[UKERi1E4-R1-003_hp]+donor_period[UKERi82A-R1-002_hp]+donor_period[UKERi88H-R1-002_hp]+donor_period[UKERiAY6-R1-003_hp]+donor_period[UKERiC99-R1-007_hp]+donor_period[UKERiJ2C-R1-015_hp]+donor_period[UKERiO3H-R1-005_hp]+donor_period[UKERiPX7-R1-001_hp]+donor_period[UKERiR66-R1-007_hp]=0\n"
     ]
    },
    {
     "name": "stdout",
     "output_type": "stream",
     "text": [
      "Testing 3687 genes...\n",
      "\n",
      "training location model: True\n",
      "training scale model: True\n",
      "iter   0: ll=4398310.264567\n",
      "iter   1: ll=4327930.710587, converged: 0.00% (loc: 4.26%, scale update: False), in 1.02sec\n",
      "iter   2: ll=4298650.649053, converged: 0.00% (loc: 7.51%, scale update: False), in 1.11sec\n",
      "iter   3: ll=4291106.512162, converged: 0.00% (loc: 7.51%, scale update: False), in 1.57sec\n",
      "iter   4: ll=4288966.957398, converged: 0.00% (loc: 7.51%, scale update: False), in 1.32sec\n",
      "iter   5: ll=4288312.843824, converged: 0.00% (loc: 7.51%, scale update: False), in 1.18sec\n",
      "Fitting 3687 dispersion models: (progress not available with multiprocessing)"
     ]
    },
    {
     "name": "stderr",
     "output_type": "stream",
     "text": [
      "/usr/lib/python3.10/multiprocessing/popen_fork.py:66: RuntimeWarning: os.fork() was called. os.fork() is incompatible with multithreaded code, and JAX is multithreaded, so this will likely lead to a deadlock.\n",
      "  self.pid = os.fork()\n"
     ]
    },
    {
     "name": "stdout",
     "output_type": "stream",
     "text": [
      "iter   6: ll=1200551.432089, converged: 0.00% (loc: 0.00%, scale update: True), in 8.04sec\n",
      "iter   7: ll=1198339.612272, converged: 0.00% (loc: 6.75%, scale update: False), in 1.36sec\n",
      "iter   8: ll=1197695.801164, converged: 0.00% (loc: 8.76%, scale update: False), in 1.27sec\n",
      "iter   9: ll=1197497.892091, converged: 0.00% (loc: 10.90%, scale update: False), in 1.31sec\n",
      "iter  10: ll=1197445.177564, converged: 0.00% (loc: 18.14%, scale update: False), in 1.26sec\n",
      "iter  11: ll=1197421.502611, converged: 0.00% (loc: 24.27%, scale update: False), in 1.22sec\n",
      "Fitting 3687 dispersion models: (progress not available with multiprocessing)"
     ]
    },
    {
     "name": "stderr",
     "output_type": "stream",
     "text": [
      "/usr/lib/python3.10/multiprocessing/popen_fork.py:66: RuntimeWarning: os.fork() was called. os.fork() is incompatible with multithreaded code, and JAX is multithreaded, so this will likely lead to a deadlock.\n",
      "  self.pid = os.fork()\n"
     ]
    },
    {
     "name": "stdout",
     "output_type": "stream",
     "text": [
      "iter  12: ll=1138402.328874, converged: 5.61% (loc: 5.61%, scale update: True), in 5.83sec\n",
      "iter  13: ll=1138288.106403, converged: 5.61% (loc: 19.37%, scale update: False), in 1.28sec\n",
      "iter  14: ll=1138272.875172, converged: 5.61% (loc: 28.26%, scale update: False), in 1.23sec\n",
      "iter  15: ll=1138268.545246, converged: 5.61% (loc: 36.02%, scale update: False), in 1.22sec\n",
      "iter  16: ll=1138266.481938, converged: 5.61% (loc: 39.06%, scale update: False), in 1.24sec\n",
      "iter  17: ll=1138265.294409, converged: 5.61% (loc: 40.57%, scale update: False), in 1.10sec\n",
      "Fitting 3480 dispersion models: (progress not available with multiprocessing)"
     ]
    },
    {
     "name": "stderr",
     "output_type": "stream",
     "text": [
      "/usr/lib/python3.10/multiprocessing/popen_fork.py:66: RuntimeWarning: os.fork() was called. os.fork() is incompatible with multithreaded code, and JAX is multithreaded, so this will likely lead to a deadlock.\n",
      "  self.pid = os.fork()\n"
     ]
    },
    {
     "name": "stdout",
     "output_type": "stream",
     "text": [
      "iter  18: ll=1103576.677457, converged: 17.90% (loc: 17.90%, scale update: True), in 5.63sec\n",
      "iter  19: ll=1103559.759350, converged: 17.90% (loc: 40.09%, scale update: False), in 1.44sec\n",
      "iter  20: ll=1103559.052885, converged: 17.90% (loc: 46.05%, scale update: False), in 1.11sec\n",
      "iter  21: ll=1103558.509792, converged: 17.90% (loc: 54.35%, scale update: False), in 1.13sec\n",
      "iter  22: ll=1103557.986652, converged: 17.90% (loc: 64.36%, scale update: False), in 1.23sec\n",
      "iter  23: ll=1103557.481458, converged: 17.90% (loc: 82.34%, scale update: False), in 1.00sec\n",
      "Fitting 3027 dispersion models: (progress not available with multiprocessing)"
     ]
    },
    {
     "name": "stderr",
     "output_type": "stream",
     "text": [
      "/usr/lib/python3.10/multiprocessing/popen_fork.py:66: RuntimeWarning: os.fork() was called. os.fork() is incompatible with multithreaded code, and JAX is multithreaded, so this will likely lead to a deadlock.\n",
      "  self.pid = os.fork()\n"
     ]
    },
    {
     "name": "stdout",
     "output_type": "stream",
     "text": [
      "iter  24: ll=1087204.947196, converged: 38.62% (loc: 38.62%, scale update: True), in 4.90sec\n",
      "iter  25: ll=1087200.532992, converged: 38.62% (loc: 80.74%, scale update: False), in 1.03sec\n",
      "iter  26: ll=1087200.083822, converged: 38.62% (loc: 89.26%, scale update: False), in 0.81sec\n",
      "iter  27: ll=1087199.831660, converged: 38.62% (loc: 94.36%, scale update: False), in 0.71sec\n",
      "iter  28: ll=1087199.765029, converged: 38.62% (loc: 97.07%, scale update: False), in 0.67sec\n",
      "iter  29: ll=1087199.761145, converged: 38.62% (loc: 98.45%, scale update: False), in 0.62sec\n",
      "Fitting 2263 dispersion models: (progress not available with multiprocessing)"
     ]
    },
    {
     "name": "stderr",
     "output_type": "stream",
     "text": [
      "/usr/lib/python3.10/multiprocessing/popen_fork.py:66: RuntimeWarning: os.fork() was called. os.fork() is incompatible with multithreaded code, and JAX is multithreaded, so this will likely lead to a deadlock.\n",
      "  self.pid = os.fork()\n"
     ]
    },
    {
     "name": "stdout",
     "output_type": "stream",
     "text": [
      "iter  30: ll=1076839.324231, converged: 79.22% (loc: 79.22%, scale update: True), in 3.85sec\n",
      "iter  31: ll=1076830.990673, converged: 79.22% (loc: 91.62%, scale update: False), in 0.86sec\n",
      "iter  32: ll=1076830.989549, converged: 79.22% (loc: 95.55%, scale update: False), in 0.87sec\n",
      "iter  33: ll=1076830.989442, converged: 79.22% (loc: 97.67%, scale update: False), in 0.60sec\n",
      "iter  34: ll=1076830.989423, converged: 79.22% (loc: 99.13%, scale update: False), in 0.56sec\n",
      "iter  35: ll=1076830.989419, converged: 79.22% (loc: 99.62%, scale update: False), in 0.41sec\n",
      "Fitting 766 dispersion models: (progress not available with multiprocessing)"
     ]
    },
    {
     "name": "stderr",
     "output_type": "stream",
     "text": [
      "/usr/lib/python3.10/multiprocessing/popen_fork.py:66: RuntimeWarning: os.fork() was called. os.fork() is incompatible with multithreaded code, and JAX is multithreaded, so this will likely lead to a deadlock.\n",
      "  self.pid = os.fork()\n"
     ]
    },
    {
     "name": "stdout",
     "output_type": "stream",
     "text": [
      "iter  36: ll=1075315.774394, converged: 91.19% (loc: 91.19%, scale update: True), in 1.85sec\n",
      "caught 6 linalg singular matrix errors\n",
      "iter  37: ll=1075314.365472, converged: 91.19% (loc: 96.01%, scale update: False), in 0.62sec\n",
      "caught 31 linalg singular matrix errors\n",
      "iter  38: ll=1075314.365454, converged: 91.19% (loc: 99.05%, scale update: False), in 0.61sec\n",
      "caught 19 linalg singular matrix errors\n",
      "iter  39: ll=1075314.365454, converged: 91.19% (loc: 99.97%, scale update: False), in 0.39sec\n",
      "caught 1 linalg singular matrix errors\n",
      "iter  40: ll=1075314.365454, converged: 91.19% (loc: 100.00%, scale update: False), in 0.11sec\n",
      "Fitting 325 dispersion models: (progress not available with multiprocessing)"
     ]
    },
    {
     "name": "stderr",
     "output_type": "stream",
     "text": [
      "/usr/lib/python3.10/multiprocessing/popen_fork.py:66: RuntimeWarning: os.fork() was called. os.fork() is incompatible with multithreaded code, and JAX is multithreaded, so this will likely lead to a deadlock.\n",
      "  self.pid = os.fork()\n"
     ]
    },
    {
     "name": "stdout",
     "output_type": "stream",
     "text": [
      "iter  41: ll=1074468.430386, converged: 95.61% (loc: 95.61%, scale update: True), in 1.17sec\n",
      "caught 77 linalg singular matrix errors\n",
      "iter  42: ll=1074468.428474, converged: 95.61% (loc: 99.51%, scale update: False), in 0.55sec\n",
      "caught 10 linalg singular matrix errors\n",
      "iter  43: ll=1074468.428474, converged: 95.61% (loc: 100.00%, scale update: False), in 0.31sec\n",
      "Fitting 162 dispersion models: (progress not available with multiprocessing)"
     ]
    },
    {
     "name": "stderr",
     "output_type": "stream",
     "text": [
      "/usr/lib/python3.10/multiprocessing/popen_fork.py:66: RuntimeWarning: os.fork() was called. os.fork() is incompatible with multithreaded code, and JAX is multithreaded, so this will likely lead to a deadlock.\n",
      "  self.pid = os.fork()\n"
     ]
    },
    {
     "name": "stdout",
     "output_type": "stream",
     "text": [
      "iter  44: ll=1073777.695416, converged: 99.40% (loc: 99.40%, scale update: True), in 0.98sec\n",
      "caught 15 linalg singular matrix errors\n",
      "iter  45: ll=1073777.695416, converged: 99.40% (loc: 100.00%, scale update: False), in 0.31sec\n",
      "Fitting 22 dispersion models: (progress not available with multiprocessing)"
     ]
    },
    {
     "name": "stderr",
     "output_type": "stream",
     "text": [
      "/usr/lib/python3.10/multiprocessing/popen_fork.py:66: RuntimeWarning: os.fork() was called. os.fork() is incompatible with multithreaded code, and JAX is multithreaded, so this will likely lead to a deadlock.\n",
      "  self.pid = os.fork()\n"
     ]
    },
    {
     "name": "stdout",
     "output_type": "stream",
     "text": [
      "iter  46: ll=1073768.990490, converged: 99.92% (loc: 99.92%, scale update: True), in 0.85sec\n",
      "caught 1 linalg singular matrix errors\n",
      "iter  47: ll=1073768.990490, converged: 99.92% (loc: 100.00%, scale update: False), in 0.19sec\n",
      "iter  48: ll=1073768.990490, converged: 100.00% (loc: 100.00%, scale update: True), in 0.16sec\n"
     ]
    },
    {
     "name": "stderr",
     "output_type": "stream",
     "text": [
      "/usr/local/lib/python3.10/dist-packages/dask/array/core.py:2894: RuntimeWarning: divide by zero encountered in divide\n",
      "  size = (limit / dtype.itemsize / largest_block) ** (1 / len(autos))\n"
     ]
    },
    {
     "name": "stdout",
     "output_type": "stream",
     "text": [
      "In cluster Apop.-NSC:\n",
      "condition\n",
      "Parkinson    2162\n",
      "Control      1704\n",
      "Name: count, dtype: int64\n",
      "filtered out 5548 genes that are detected in less than 50 cells\n"
     ]
    },
    {
     "name": "stderr",
     "output_type": "stream",
     "text": [
      "Built constraints: donor_period[UKERi1E4-R1-003_lp]+donor_period[UKERi1JF-R1-018_lp]+donor_period[UKERi82A-R1-002_lp]+donor_period[UKERi88H-R1-002_lp]+donor_period[UKERiAY6-R1-003_lp]+donor_period[UKERiC99-R1-007_lp]+donor_period[UKERiG3G-R1-039_lp]+donor_period[UKERiJ2C-R1-015_lp]+donor_period[UKERiM89-R1-005_lp]+donor_period[UKERiO3H-R1-005_lp]+donor_period[UKERiPX7-R1-001_lp]+donor_period[UKERiR66-R1-007_lp]=0, donor_period[UKERi1E4-R1-003_hp]+donor_period[UKERi1JF-R1-018_hp]+donor_period[UKERi82A-R1-002_hp]+donor_period[UKERi88H-R1-002_hp]+donor_period[UKERiAY6-R1-003_hp]+donor_period[UKERiC99-R1-007_hp]+donor_period[UKERiG3G-R1-039_hp]+donor_period[UKERiJ2C-R1-015_hp]+donor_period[UKERiM89-R1-005_hp]+donor_period[UKERiO3H-R1-005_hp]+donor_period[UKERiPX7-R1-001_hp]+donor_period[UKERiR66-R1-007_hp]=0\n"
     ]
    },
    {
     "name": "stdout",
     "output_type": "stream",
     "text": [
      "Testing 11818 genes...\n",
      "\n",
      "training location model: True\n",
      "training scale model: True\n",
      "iter   0: ll=43361613.384346\n",
      "iter   1: ll=41944629.391893, converged: 0.00% (loc: 2.64%, scale update: False), in 20.21sec\n",
      "iter   2: ll=41548948.569712, converged: 0.00% (loc: 5.74%, scale update: False), in 19.75sec\n",
      "iter   3: ll=41481655.728273, converged: 0.00% (loc: 5.74%, scale update: False), in 19.73sec\n",
      "iter   4: ll=41470721.648406, converged: 0.00% (loc: 5.74%, scale update: False), in 20.14sec\n",
      "iter   5: ll=41468716.293440, converged: 0.00% (loc: 5.77%, scale update: False), in 19.32sec\n",
      "Fitting 11818 dispersion models: (progress not available with multiprocessing)"
     ]
    },
    {
     "name": "stderr",
     "output_type": "stream",
     "text": [
      "/usr/lib/python3.10/multiprocessing/popen_fork.py:66: RuntimeWarning: os.fork() was called. os.fork() is incompatible with multithreaded code, and JAX is multithreaded, so this will likely lead to a deadlock.\n",
      "  self.pid = os.fork()\n"
     ]
    },
    {
     "name": "stdout",
     "output_type": "stream",
     "text": [
      "iter   6: ll=26584870.589579, converged: 0.02% (loc: 0.02%, scale update: True), in 92.63sec\n",
      "iter   7: ll=26573175.178831, converged: 0.02% (loc: 4.38%, scale update: False), in 21.16sec\n",
      "iter   8: ll=26570692.945333, converged: 0.02% (loc: 4.98%, scale update: False), in 18.87sec\n",
      "iter   9: ll=26570067.955061, converged: 0.02% (loc: 7.66%, scale update: False), in 20.17sec\n",
      "iter  10: ll=26569891.864608, converged: 0.02% (loc: 15.72%, scale update: False), in 19.49sec\n",
      "iter  11: ll=26569840.259473, converged: 0.02% (loc: 28.45%, scale update: False), in 19.18sec\n",
      "Fitting 11816 dispersion models: (progress not available with multiprocessing)"
     ]
    },
    {
     "name": "stderr",
     "output_type": "stream",
     "text": [
      "/usr/lib/python3.10/multiprocessing/popen_fork.py:66: RuntimeWarning: os.fork() was called. os.fork() is incompatible with multithreaded code, and JAX is multithreaded, so this will likely lead to a deadlock.\n",
      "  self.pid = os.fork()\n"
     ]
    },
    {
     "name": "stdout",
     "output_type": "stream",
     "text": [
      "iter  12: ll=26214577.300682, converged: 3.85% (loc: 3.85%, scale update: True), in 98.08sec\n",
      "iter  13: ll=26214401.785416, converged: 3.85% (loc: 10.01%, scale update: False), in 19.75sec\n",
      "iter  14: ll=26214388.111492, converged: 3.85% (loc: 17.12%, scale update: False), in 19.82sec\n",
      "iter  15: ll=26214381.514635, converged: 3.85% (loc: 31.27%, scale update: False), in 18.48sec\n",
      "iter  16: ll=26214378.769348, converged: 3.85% (loc: 44.92%, scale update: False), in 15.52sec\n",
      "iter  17: ll=26214376.928809, converged: 3.85% (loc: 48.63%, scale update: False), in 12.96sec\n",
      "Fitting 11363 dispersion models: (progress not available with multiprocessing)"
     ]
    },
    {
     "name": "stderr",
     "output_type": "stream",
     "text": [
      "/usr/lib/python3.10/multiprocessing/popen_fork.py:66: RuntimeWarning: os.fork() was called. os.fork() is incompatible with multithreaded code, and JAX is multithreaded, so this will likely lead to a deadlock.\n",
      "  self.pid = os.fork()\n"
     ]
    },
    {
     "name": "stdout",
     "output_type": "stream",
     "text": [
      "iter  18: ll=26020672.156084, converged: 9.16% (loc: 9.16%, scale update: True), in 97.81sec\n",
      "iter  19: ll=26020629.803881, converged: 9.16% (loc: 28.78%, scale update: False), in 19.17sec\n",
      "iter  20: ll=26020628.621788, converged: 9.16% (loc: 48.11%, scale update: False), in 15.66sec\n",
      "iter  21: ll=26020628.429854, converged: 9.16% (loc: 63.85%, scale update: False), in 12.52sec\n",
      "iter  22: ll=26020628.422446, converged: 9.16% (loc: 78.82%, scale update: False), in 9.10sec\n",
      "iter  23: ll=26020628.421948, converged: 9.16% (loc: 91.12%, scale update: False), in 6.76sec\n",
      "Fitting 10735 dispersion models: (progress not available with multiprocessing)"
     ]
    },
    {
     "name": "stderr",
     "output_type": "stream",
     "text": [
      "/usr/lib/python3.10/multiprocessing/popen_fork.py:66: RuntimeWarning: os.fork() was called. os.fork() is incompatible with multithreaded code, and JAX is multithreaded, so this will likely lead to a deadlock.\n",
      "  self.pid = os.fork()\n"
     ]
    },
    {
     "name": "stdout",
     "output_type": "stream",
     "text": [
      "iter  24: ll=25888798.479955, converged: 27.97% (loc: 27.97%, scale update: True), in 90.47sec\n",
      "iter  25: ll=25888748.548849, converged: 27.97% (loc: 93.81%, scale update: False), in 15.56sec\n",
      "iter  26: ll=25888746.948502, converged: 27.97% (loc: 99.17%, scale update: False), in 5.29sec\n",
      "iter  27: ll=25888746.948484, converged: 27.97% (loc: 99.75%, scale update: False), in 2.65sec\n",
      "iter  28: ll=25888746.948481, converged: 27.97% (loc: 99.87%, scale update: False), in 1.35sec\n",
      "iter  29: ll=25888746.948480, converged: 27.97% (loc: 99.95%, scale update: False), in 1.11sec\n",
      "Fitting 8512 dispersion models: (progress not available with multiprocessing)"
     ]
    },
    {
     "name": "stderr",
     "output_type": "stream",
     "text": [
      "/usr/lib/python3.10/multiprocessing/popen_fork.py:66: RuntimeWarning: os.fork() was called. os.fork() is incompatible with multithreaded code, and JAX is multithreaded, so this will likely lead to a deadlock.\n",
      "  self.pid = os.fork()\n"
     ]
    },
    {
     "name": "stdout",
     "output_type": "stream",
     "text": [
      "iter  30: ll=25853533.890875, converged: 93.13% (loc: 93.13%, scale update: True), in 71.72sec\n",
      "iter  31: ll=25853514.876231, converged: 93.13% (loc: 99.48%, scale update: False), in 5.04sec\n",
      "iter  32: ll=25853514.608801, converged: 93.13% (loc: 99.93%, scale update: False), in 2.21sec\n",
      "iter  33: ll=25853514.608800, converged: 93.13% (loc: 99.98%, scale update: False), in 0.85sec\n",
      "iter  34: ll=25853514.608800, converged: 93.13% (loc: 100.00%, scale update: False), in 0.58sec\n",
      "Fitting 812 dispersion models: (progress not available with multiprocessing)"
     ]
    },
    {
     "name": "stderr",
     "output_type": "stream",
     "text": [
      "/usr/lib/python3.10/multiprocessing/popen_fork.py:66: RuntimeWarning: os.fork() was called. os.fork() is incompatible with multithreaded code, and JAX is multithreaded, so this will likely lead to a deadlock.\n",
      "  self.pid = os.fork()\n"
     ]
    },
    {
     "name": "stdout",
     "output_type": "stream",
     "text": [
      "iter  35: ll=25844822.657314, converged: 99.37% (loc: 99.37%, scale update: True), in 15.00sec\n",
      "iter  36: ll=25844822.657313, converged: 99.37% (loc: 99.97%, scale update: False), in 2.39sec\n",
      "iter  37: ll=25844822.657313, converged: 99.37% (loc: 100.00%, scale update: False), in 0.62sec\n",
      "Fitting 74 dispersion models: (progress not available with multiprocessing)"
     ]
    },
    {
     "name": "stderr",
     "output_type": "stream",
     "text": [
      "/usr/lib/python3.10/multiprocessing/popen_fork.py:66: RuntimeWarning: os.fork() was called. os.fork() is incompatible with multithreaded code, and JAX is multithreaded, so this will likely lead to a deadlock.\n",
      "  self.pid = os.fork()\n"
     ]
    },
    {
     "name": "stdout",
     "output_type": "stream",
     "text": [
      "iter  38: ll=25844589.218601, converged: 99.96% (loc: 99.96%, scale update: True), in 8.60sec\n",
      "caught 2 linalg singular matrix errors\n",
      "iter  39: ll=25844589.218601, converged: 99.96% (loc: 99.99%, scale update: False), in 0.69sec\n",
      "iter  40: ll=25844589.218601, converged: 99.96% (loc: 100.00%, scale update: False), in 0.47sec\n",
      "Fitting 5 dispersion models: (progress not available with multiprocessing)"
     ]
    },
    {
     "name": "stderr",
     "output_type": "stream",
     "text": [
      "/usr/lib/python3.10/multiprocessing/popen_fork.py:66: RuntimeWarning: os.fork() was called. os.fork() is incompatible with multithreaded code, and JAX is multithreaded, so this will likely lead to a deadlock.\n",
      "  self.pid = os.fork()\n"
     ]
    },
    {
     "name": "stdout",
     "output_type": "stream",
     "text": [
      "iter  41: ll=25844589.218601, converged: 99.99% (loc: 99.99%, scale update: True), in 5.40sec\n",
      "iter  42: ll=25844589.218601, converged: 99.99% (loc: 100.00%, scale update: False), in 0.56sec\n",
      "iter  43: ll=25844589.218601, converged: 100.00% (loc: 100.00%, scale update: True), in 0.42sec\n"
     ]
    },
    {
     "name": "stderr",
     "output_type": "stream",
     "text": [
      "/usr/local/lib/python3.10/dist-packages/dask/array/core.py:2894: RuntimeWarning: divide by zero encountered in divide\n",
      "  size = (limit / dtype.itemsize / largest_block) ** (1 / len(autos))\n"
     ]
    },
    {
     "name": "stdout",
     "output_type": "stream",
     "text": [
      "In cluster Glial-precursors:\n",
      "condition\n",
      "Parkinson    1088\n",
      "Control       799\n",
      "Name: count, dtype: int64\n",
      "filtered out 5137 genes that are detected in less than 50 cells\n"
     ]
    },
    {
     "name": "stderr",
     "output_type": "stream",
     "text": [
      "Built constraints: donor_period[UKERi1E4-R1-003_lp]+donor_period[UKERi1JF-R1-018_lp]+donor_period[UKERi82A-R1-002_lp]+donor_period[UKERi88H-R1-002_lp]+donor_period[UKERiAY6-R1-003_lp]+donor_period[UKERiC99-R1-007_lp]+donor_period[UKERiG3G-R1-039_lp]+donor_period[UKERiJ2C-R1-015_lp]+donor_period[UKERiM89-R1-005_lp]+donor_period[UKERiO3H-R1-005_lp]+donor_period[UKERiPX7-R1-001_lp]+donor_period[UKERiR66-R1-007_lp]=0, donor_period[UKERi1E4-R1-003_hp]+donor_period[UKERi88H-R1-002_hp]+donor_period[UKERiAY6-R1-003_hp]+donor_period[UKERiC99-R1-007_hp]+donor_period[UKERiG3G-R1-039_hp]+donor_period[UKERiJ2C-R1-015_hp]+donor_period[UKERiO3H-R1-005_hp]+donor_period[UKERiPX7-R1-001_hp]+donor_period[UKERiR66-R1-007_hp]=0\n"
     ]
    },
    {
     "name": "stdout",
     "output_type": "stream",
     "text": [
      "Testing 12229 genes...\n",
      "\n",
      "training location model: True\n",
      "training scale model: True\n",
      "iter   0: ll=31447489.433119\n",
      "iter   1: ll=30464836.835249, converged: 0.00% (loc: 1.40%, scale update: False), in 10.17sec\n",
      "iter   2: ll=30252349.978004, converged: 0.00% (loc: 3.18%, scale update: False), in 11.49sec\n",
      "iter   3: ll=30225718.575544, converged: 0.00% (loc: 3.18%, scale update: False), in 10.71sec\n",
      "iter   4: ll=30221113.209988, converged: 0.00% (loc: 3.18%, scale update: False), in 12.25sec\n",
      "iter   5: ll=30219761.407650, converged: 0.00% (loc: 3.87%, scale update: False), in 10.92sec\n",
      "Fitting 12229 dispersion models: (progress not available with multiprocessing)"
     ]
    },
    {
     "name": "stderr",
     "output_type": "stream",
     "text": [
      "/usr/lib/python3.10/multiprocessing/popen_fork.py:66: RuntimeWarning: os.fork() was called. os.fork() is incompatible with multithreaded code, and JAX is multithreaded, so this will likely lead to a deadlock.\n",
      "  self.pid = os.fork()\n"
     ]
    },
    {
     "name": "stdout",
     "output_type": "stream",
     "text": [
      "iter   6: ll=20496335.593199, converged: 0.02% (loc: 0.02%, scale update: True), in 58.33sec\n",
      "iter   7: ll=20490805.286424, converged: 0.02% (loc: 2.55%, scale update: False), in 11.10sec\n",
      "iter   8: ll=20489327.128765, converged: 0.02% (loc: 3.03%, scale update: False), in 10.93sec\n",
      "iter   9: ll=20488743.398374, converged: 0.02% (loc: 6.29%, scale update: False), in 10.18sec\n",
      "iter  10: ll=20488456.317423, converged: 0.02% (loc: 15.67%, scale update: False), in 11.75sec\n",
      "iter  11: ll=20488294.673164, converged: 0.02% (loc: 24.79%, scale update: False), in 9.82sec\n",
      "Fitting 12227 dispersion models: (progress not available with multiprocessing)"
     ]
    },
    {
     "name": "stderr",
     "output_type": "stream",
     "text": [
      "/usr/lib/python3.10/multiprocessing/popen_fork.py:66: RuntimeWarning: os.fork() was called. os.fork() is incompatible with multithreaded code, and JAX is multithreaded, so this will likely lead to a deadlock.\n",
      "  self.pid = os.fork()\n"
     ]
    },
    {
     "name": "stdout",
     "output_type": "stream",
     "text": [
      "iter  12: ll=20277266.636517, converged: 2.04% (loc: 2.04%, scale update: True), in 58.93sec\n",
      "iter  13: ll=20277072.789334, converged: 2.04% (loc: 7.77%, scale update: False), in 9.91sec\n",
      "iter  14: ll=20276985.983315, converged: 2.04% (loc: 17.24%, scale update: False), in 9.80sec\n",
      "iter  15: ll=20276927.627696, converged: 2.04% (loc: 29.00%, scale update: False), in 10.19sec\n",
      "iter  16: ll=20276884.415112, converged: 2.04% (loc: 33.03%, scale update: False), in 7.94sec\n",
      "iter  17: ll=20276851.373451, converged: 2.04% (loc: 35.78%, scale update: False), in 7.88sec\n",
      "Fitting 11980 dispersion models: (progress not available with multiprocessing)"
     ]
    },
    {
     "name": "stderr",
     "output_type": "stream",
     "text": [
      "/usr/lib/python3.10/multiprocessing/popen_fork.py:66: RuntimeWarning: os.fork() was called. os.fork() is incompatible with multithreaded code, and JAX is multithreaded, so this will likely lead to a deadlock.\n",
      "  self.pid = os.fork()\n"
     ]
    },
    {
     "name": "stdout",
     "output_type": "stream",
     "text": [
      "iter  18: ll=20141082.215514, converged: 7.16% (loc: 7.16%, scale update: True), in 55.65sec\n",
      "iter  19: ll=20141017.508792, converged: 7.16% (loc: 45.89%, scale update: False), in 9.21sec\n",
      "iter  20: ll=20140991.947184, converged: 7.16% (loc: 70.86%, scale update: False), in 6.42sec\n",
      "iter  21: ll=20140972.580532, converged: 7.16% (loc: 79.85%, scale update: False), in 5.02sec\n",
      "iter  22: ll=20140956.450517, converged: 7.16% (loc: 88.68%, scale update: False), in 4.37sec\n",
      "iter  23: ll=20140942.146323, converged: 7.16% (loc: 95.40%, scale update: False), in 3.35sec\n",
      "Fitting 11354 dispersion models: (progress not available with multiprocessing)"
     ]
    },
    {
     "name": "stderr",
     "output_type": "stream",
     "text": [
      "/usr/lib/python3.10/multiprocessing/popen_fork.py:66: RuntimeWarning: os.fork() was called. os.fork() is incompatible with multithreaded code, and JAX is multithreaded, so this will likely lead to a deadlock.\n",
      "  self.pid = os.fork()\n"
     ]
    },
    {
     "name": "stdout",
     "output_type": "stream",
     "text": [
      "iter  24: ll=20059102.920348, converged: 45.11% (loc: 45.11%, scale update: True), in 49.18sec\n",
      "iter  25: ll=20059073.575638, converged: 45.11% (loc: 96.06%, scale update: False), in 6.67sec\n",
      "iter  26: ll=20059059.714760, converged: 45.11% (loc: 98.74%, scale update: False), in 3.15sec\n",
      "iter  27: ll=20059048.764182, converged: 45.11% (loc: 99.37%, scale update: False), in 2.22sec\n",
      "iter  28: ll=20059039.822985, converged: 45.11% (loc: 99.62%, scale update: False), in 1.72sec\n",
      "iter  29: ll=20059032.475905, converged: 45.11% (loc: 99.75%, scale update: False), in 1.50sec\n",
      "Fitting 6713 dispersion models: (progress not available with multiprocessing)"
     ]
    },
    {
     "name": "stderr",
     "output_type": "stream",
     "text": [
      "/usr/lib/python3.10/multiprocessing/popen_fork.py:66: RuntimeWarning: os.fork() was called. os.fork() is incompatible with multithreaded code, and JAX is multithreaded, so this will likely lead to a deadlock.\n",
      "  self.pid = os.fork()\n"
     ]
    },
    {
     "name": "stdout",
     "output_type": "stream",
     "text": [
      "iter  30: ll=20037203.593379, converged: 95.62% (loc: 95.62%, scale update: True), in 30.12sec\n",
      "iter  31: ll=20037194.560807, converged: 95.62% (loc: 99.35%, scale update: False), in 3.03sec\n",
      "iter  32: ll=20037189.139492, converged: 95.62% (loc: 99.71%, scale update: False), in 1.70sec\n",
      "iter  33: ll=20037185.216316, converged: 95.62% (loc: 99.77%, scale update: False), in 1.08sec\n",
      "caught 2 linalg singular matrix errors\n",
      "iter  34: ll=20037181.926247, converged: 95.62% (loc: 99.85%, scale update: False), in 1.20sec\n",
      "caught 2 linalg singular matrix errors\n",
      "iter  35: ll=20037179.011707, converged: 95.62% (loc: 99.89%, scale update: False), in 0.81sec\n",
      "Fitting 536 dispersion models: (progress not available with multiprocessing)"
     ]
    },
    {
     "name": "stderr",
     "output_type": "stream",
     "text": [
      "/usr/lib/python3.10/multiprocessing/popen_fork.py:66: RuntimeWarning: os.fork() was called. os.fork() is incompatible with multithreaded code, and JAX is multithreaded, so this will likely lead to a deadlock.\n",
      "  self.pid = os.fork()\n"
     ]
    },
    {
     "name": "stdout",
     "output_type": "stream",
     "text": [
      "iter  36: ll=20035485.430500, converged: 99.25% (loc: 99.25%, scale update: True), in 8.29sec\n",
      "caught 21 linalg singular matrix errors\n",
      "iter  37: ll=20035484.024352, converged: 99.25% (loc: 99.92%, scale update: False), in 1.64sec\n",
      "caught 4 linalg singular matrix errors\n",
      "iter  38: ll=20035483.356934, converged: 99.25% (loc: 99.98%, scale update: False), in 0.65sec\n",
      "caught 1 linalg singular matrix errors\n",
      "iter  39: ll=20035483.150500, converged: 99.25% (loc: 99.99%, scale update: False), in 0.41sec\n",
      "iter  40: ll=20035483.127603, converged: 99.25% (loc: 99.99%, scale update: False), in 0.38sec\n",
      "caught 1 linalg singular matrix errors\n",
      "iter  41: ll=20035483.127603, converged: 99.25% (loc: 100.00%, scale update: False), in 0.29sec\n",
      "Fitting 92 dispersion models: (progress not available with multiprocessing)"
     ]
    },
    {
     "name": "stderr",
     "output_type": "stream",
     "text": [
      "/usr/lib/python3.10/multiprocessing/popen_fork.py:66: RuntimeWarning: os.fork() was called. os.fork() is incompatible with multithreaded code, and JAX is multithreaded, so this will likely lead to a deadlock.\n",
      "  self.pid = os.fork()\n"
     ]
    },
    {
     "name": "stdout",
     "output_type": "stream",
     "text": [
      "iter  42: ll=20035274.878649, converged: 99.91% (loc: 99.91%, scale update: True), in 6.70sec\n",
      "caught 8 linalg singular matrix errors\n",
      "iter  43: ll=20035274.878649, converged: 99.91% (loc: 100.00%, scale update: False), in 0.56sec\n",
      "Fitting 11 dispersion models: (progress not available with multiprocessing)"
     ]
    },
    {
     "name": "stderr",
     "output_type": "stream",
     "text": [
      "/usr/lib/python3.10/multiprocessing/popen_fork.py:66: RuntimeWarning: os.fork() was called. os.fork() is incompatible with multithreaded code, and JAX is multithreaded, so this will likely lead to a deadlock.\n",
      "  self.pid = os.fork()\n"
     ]
    },
    {
     "name": "stdout",
     "output_type": "stream",
     "text": [
      "iter  44: ll=20035167.679640, converged: 99.99% (loc: 99.99%, scale update: True), in 5.96sec\n",
      "caught 1 linalg singular matrix errors\n",
      "iter  45: ll=20035167.679640, converged: 99.99% (loc: 100.00%, scale update: False), in 0.30sec\n",
      "iter  46: ll=20035167.679640, converged: 100.00% (loc: 100.00%, scale update: True), in 0.32sec\n"
     ]
    },
    {
     "name": "stderr",
     "output_type": "stream",
     "text": [
      "/usr/local/lib/python3.10/dist-packages/dask/array/core.py:2894: RuntimeWarning: divide by zero encountered in divide\n",
      "  size = (limit / dtype.itemsize / largest_block) ** (1 / len(autos))\n"
     ]
    },
    {
     "name": "stdout",
     "output_type": "stream",
     "text": [
      "In cluster Immature-neurons:\n",
      "condition\n",
      "Parkinson    881\n",
      "Control      533\n",
      "Name: count, dtype: int64\n",
      "filtered out 5131 genes that are detected in less than 50 cells\n"
     ]
    },
    {
     "name": "stderr",
     "output_type": "stream",
     "text": [
      "Built constraints: donor_period[UKERi1E4-R1-003_lp]+donor_period[UKERi1JF-R1-018_lp]+donor_period[UKERi82A-R1-002_lp]+donor_period[UKERi88H-R1-002_lp]+donor_period[UKERiAY6-R1-003_lp]+donor_period[UKERiC99-R1-007_lp]+donor_period[UKERiG3G-R1-039_lp]+donor_period[UKERiJ2C-R1-015_lp]+donor_period[UKERiM89-R1-005_lp]+donor_period[UKERiO3H-R1-005_lp]+donor_period[UKERiPX7-R1-001_lp]+donor_period[UKERiR66-R1-007_lp]=0, donor_period[UKERi1E4-R1-003_hp]+donor_period[UKERi1JF-R1-018_hp]+donor_period[UKERi82A-R1-002_hp]+donor_period[UKERi88H-R1-002_hp]+donor_period[UKERiAY6-R1-003_hp]+donor_period[UKERiC99-R1-007_hp]+donor_period[UKERiG3G-R1-039_hp]+donor_period[UKERiJ2C-R1-015_hp]+donor_period[UKERiM89-R1-005_hp]+donor_period[UKERiO3H-R1-005_hp]+donor_period[UKERiPX7-R1-001_hp]+donor_period[UKERiR66-R1-007_hp]=0\n"
     ]
    },
    {
     "name": "stdout",
     "output_type": "stream",
     "text": [
      "Testing 12235 genes...\n",
      "\n",
      "training location model: True\n",
      "training scale model: True\n",
      "iter   0: ll=22230535.735767\n",
      "iter   1: ll=21471637.575501, converged: 0.00% (loc: 1.14%, scale update: False), in 8.10sec\n",
      "iter   2: ll=21241617.940393, converged: 0.00% (loc: 2.42%, scale update: False), in 8.05sec\n",
      "iter   3: ll=21195742.107479, converged: 0.00% (loc: 2.42%, scale update: False), in 9.00sec\n",
      "iter   4: ll=21185968.505915, converged: 0.00% (loc: 2.42%, scale update: False), in 8.51sec\n",
      "iter   5: ll=21183676.321420, converged: 0.00% (loc: 2.68%, scale update: False), in 8.62sec\n",
      "Fitting 12235 dispersion models: (progress not available with multiprocessing)"
     ]
    },
    {
     "name": "stderr",
     "output_type": "stream",
     "text": [
      "/usr/lib/python3.10/multiprocessing/popen_fork.py:66: RuntimeWarning: os.fork() was called. os.fork() is incompatible with multithreaded code, and JAX is multithreaded, so this will likely lead to a deadlock.\n",
      "  self.pid = os.fork()\n"
     ]
    },
    {
     "name": "stdout",
     "output_type": "stream",
     "text": [
      "iter   6: ll=15990566.039752, converged: 0.00% (loc: 0.00%, scale update: True), in 39.86sec\n",
      "iter   7: ll=15981413.673319, converged: 0.00% (loc: 1.79%, scale update: False), in 8.19sec\n",
      "iter   8: ll=15979647.667856, converged: 0.00% (loc: 2.20%, scale update: False), in 7.97sec\n",
      "iter   9: ll=15979183.174793, converged: 0.00% (loc: 4.68%, scale update: False), in 7.77sec\n",
      "iter  10: ll=15979020.008995, converged: 0.00% (loc: 13.25%, scale update: False), in 8.78sec\n",
      "iter  11: ll=15978947.368887, converged: 0.00% (loc: 23.74%, scale update: False), in 7.69sec\n",
      "Fitting 12235 dispersion models: (progress not available with multiprocessing)"
     ]
    },
    {
     "name": "stderr",
     "output_type": "stream",
     "text": [
      "/usr/lib/python3.10/multiprocessing/popen_fork.py:66: RuntimeWarning: os.fork() was called. os.fork() is incompatible with multithreaded code, and JAX is multithreaded, so this will likely lead to a deadlock.\n",
      "  self.pid = os.fork()\n"
     ]
    },
    {
     "name": "stdout",
     "output_type": "stream",
     "text": [
      "iter  12: ll=15873437.973725, converged: 1.58% (loc: 1.58%, scale update: True), in 41.25sec\n",
      "iter  13: ll=15873280.138472, converged: 1.58% (loc: 7.13%, scale update: False), in 8.01sec\n",
      "iter  14: ll=15873236.170943, converged: 1.58% (loc: 16.58%, scale update: False), in 7.50sec\n",
      "iter  15: ll=15873208.246567, converged: 1.58% (loc: 26.53%, scale update: False), in 7.99sec\n",
      "iter  16: ll=15873188.145695, converged: 1.58% (loc: 34.08%, scale update: False), in 7.16sec\n",
      "iter  17: ll=15873173.637190, converged: 1.58% (loc: 40.35%, scale update: False), in 5.86sec\n",
      "Fitting 12042 dispersion models: (progress not available with multiprocessing)"
     ]
    },
    {
     "name": "stderr",
     "output_type": "stream",
     "text": [
      "/usr/lib/python3.10/multiprocessing/popen_fork.py:66: RuntimeWarning: os.fork() was called. os.fork() is incompatible with multithreaded code, and JAX is multithreaded, so this will likely lead to a deadlock.\n",
      "  self.pid = os.fork()\n"
     ]
    },
    {
     "name": "stdout",
     "output_type": "stream",
     "text": [
      "iter  18: ll=15824605.180902, converged: 6.77% (loc: 6.77%, scale update: True), in 39.23sec\n",
      "iter  19: ll=15824579.715300, converged: 6.77% (loc: 26.26%, scale update: False), in 7.82sec\n",
      "iter  20: ll=15824569.160388, converged: 6.77% (loc: 40.76%, scale update: False), in 7.31sec\n",
      "iter  21: ll=15824561.815094, converged: 6.77% (loc: 62.61%, scale update: False), in 6.62sec\n",
      "iter  22: ll=15824556.775731, converged: 6.77% (loc: 78.63%, scale update: False), in 4.31sec\n",
      "iter  23: ll=15824553.601039, converged: 6.77% (loc: 89.93%, scale update: False), in 3.46sec\n",
      "Fitting 11407 dispersion models: (progress not available with multiprocessing)"
     ]
    },
    {
     "name": "stderr",
     "output_type": "stream",
     "text": [
      "/usr/lib/python3.10/multiprocessing/popen_fork.py:66: RuntimeWarning: os.fork() was called. os.fork() is incompatible with multithreaded code, and JAX is multithreaded, so this will likely lead to a deadlock.\n",
      "  self.pid = os.fork()\n"
     ]
    },
    {
     "name": "stdout",
     "output_type": "stream",
     "text": [
      "iter  24: ll=15791530.478460, converged: 25.84% (loc: 25.84%, scale update: True), in 37.91sec\n",
      "iter  25: ll=15791518.759652, converged: 25.84% (loc: 81.24%, scale update: False), in 6.68sec\n",
      "iter  26: ll=15791517.893421, converged: 25.84% (loc: 95.13%, scale update: False), in 3.37sec\n",
      "iter  27: ll=15791517.423921, converged: 25.84% (loc: 98.49%, scale update: False), in 2.98sec\n",
      "iter  28: ll=15791517.237610, converged: 25.84% (loc: 99.33%, scale update: False), in 2.24sec\n",
      "iter  29: ll=15791517.213215, converged: 25.84% (loc: 99.69%, scale update: False), in 1.51sec\n",
      "Fitting 9073 dispersion models: (progress not available with multiprocessing)"
     ]
    },
    {
     "name": "stderr",
     "output_type": "stream",
     "text": [
      "/usr/lib/python3.10/multiprocessing/popen_fork.py:66: RuntimeWarning: os.fork() was called. os.fork() is incompatible with multithreaded code, and JAX is multithreaded, so this will likely lead to a deadlock.\n",
      "  self.pid = os.fork()\n"
     ]
    },
    {
     "name": "stdout",
     "output_type": "stream",
     "text": [
      "iter  30: ll=15778341.039157, converged: 80.71% (loc: 80.71%, scale update: True), in 30.31sec\n",
      "iter  31: ll=15778334.070524, converged: 80.71% (loc: 97.54%, scale update: False), in 3.86sec\n",
      "iter  32: ll=15778334.069790, converged: 80.71% (loc: 99.30%, scale update: False), in 2.41sec\n",
      "iter  33: ll=15778334.069736, converged: 80.71% (loc: 99.75%, scale update: False), in 1.75sec\n",
      "iter  34: ll=15778334.069725, converged: 80.71% (loc: 99.91%, scale update: False), in 1.00sec\n",
      "caught 3 linalg singular matrix errors\n",
      "iter  35: ll=15778334.069722, converged: 80.71% (loc: 99.97%, scale update: False), in 0.63sec\n",
      "Fitting 2360 dispersion models: (progress not available with multiprocessing)"
     ]
    },
    {
     "name": "stderr",
     "output_type": "stream",
     "text": [
      "/usr/lib/python3.10/multiprocessing/popen_fork.py:66: RuntimeWarning: os.fork() was called. os.fork() is incompatible with multithreaded code, and JAX is multithreaded, so this will likely lead to a deadlock.\n",
      "  self.pid = os.fork()\n"
     ]
    },
    {
     "name": "stdout",
     "output_type": "stream",
     "text": [
      "iter  36: ll=15774388.290935, converged: 97.37% (loc: 97.37%, scale update: True), in 11.15sec\n",
      "caught 17 linalg singular matrix errors\n",
      "iter  37: ll=15774388.258399, converged: 97.37% (loc: 99.66%, scale update: False), in 2.40sec\n",
      "caught 11 linalg singular matrix errors\n",
      "iter  38: ll=15774388.258398, converged: 97.37% (loc: 99.96%, scale update: False), in 1.04sec\n",
      "caught 3 linalg singular matrix errors\n",
      "iter  39: ll=15774388.258398, converged: 97.37% (loc: 99.99%, scale update: False), in 0.45sec\n",
      "iter  40: ll=15774388.258398, converged: 97.37% (loc: 100.00%, scale update: False), in 0.35sec\n",
      "Fitting 322 dispersion models: (progress not available with multiprocessing)"
     ]
    },
    {
     "name": "stderr",
     "output_type": "stream",
     "text": [
      "/usr/lib/python3.10/multiprocessing/popen_fork.py:66: RuntimeWarning: os.fork() was called. os.fork() is incompatible with multithreaded code, and JAX is multithreaded, so this will likely lead to a deadlock.\n",
      "  self.pid = os.fork()\n"
     ]
    },
    {
     "name": "stdout",
     "output_type": "stream",
     "text": [
      "iter  41: ll=15773997.786235, converged: 99.62% (loc: 99.62%, scale update: True), in 5.94sec\n",
      "caught 28 linalg singular matrix errors\n",
      "iter  42: ll=15773997.786234, converged: 99.62% (loc: 99.99%, scale update: False), in 1.23sec\n",
      "iter  43: ll=15773997.786234, converged: 99.62% (loc: 100.00%, scale update: False), in 0.34sec\n",
      "Fitting 47 dispersion models: (progress not available with multiprocessing)"
     ]
    },
    {
     "name": "stderr",
     "output_type": "stream",
     "text": [
      "/usr/lib/python3.10/multiprocessing/popen_fork.py:66: RuntimeWarning: os.fork() was called. os.fork() is incompatible with multithreaded code, and JAX is multithreaded, so this will likely lead to a deadlock.\n",
      "  self.pid = os.fork()\n"
     ]
    },
    {
     "name": "stdout",
     "output_type": "stream",
     "text": [
      "iter  44: ll=15773755.737848, converged: 99.98% (loc: 99.98%, scale update: True), in 5.15sec\n",
      "caught 1 linalg singular matrix errors\n",
      "iter  45: ll=15773755.737848, converged: 99.98% (loc: 100.00%, scale update: False), in 0.36sec\n",
      "iter  46: ll=15773755.737848, converged: 100.00% (loc: 100.00%, scale update: True), in 0.41sec\n"
     ]
    },
    {
     "name": "stderr",
     "output_type": "stream",
     "text": [
      "/usr/local/lib/python3.10/dist-packages/dask/array/core.py:2894: RuntimeWarning: divide by zero encountered in divide\n",
      "  size = (limit / dtype.itemsize / largest_block) ** (1 / len(autos))\n"
     ]
    },
    {
     "name": "stdout",
     "output_type": "stream",
     "text": [
      "In cluster NCSC:\n",
      "condition\n",
      "Control      4416\n",
      "Parkinson    3448\n",
      "Name: count, dtype: int64\n",
      "filtered out 2892 genes that are detected in less than 50 cells\n"
     ]
    },
    {
     "name": "stderr",
     "output_type": "stream",
     "text": [
      "Built constraints: donor_period[UKERi1E4-R1-003_lp]+donor_period[UKERi1JF-R1-018_lp]+donor_period[UKERi82A-R1-002_lp]+donor_period[UKERi88H-R1-002_lp]+donor_period[UKERiAY6-R1-003_lp]+donor_period[UKERiC99-R1-007_lp]+donor_period[UKERiG3G-R1-039_lp]+donor_period[UKERiJ2C-R1-015_lp]+donor_period[UKERiM89-R1-005_lp]+donor_period[UKERiO3H-R1-005_lp]+donor_period[UKERiPX7-R1-001_lp]+donor_period[UKERiR66-R1-007_lp]=0, donor_period[UKERi1E4-R1-003_hp]+donor_period[UKERi1JF-R1-018_hp]+donor_period[UKERi82A-R1-002_hp]+donor_period[UKERi88H-R1-002_hp]+donor_period[UKERiAY6-R1-003_hp]+donor_period[UKERiC99-R1-007_hp]+donor_period[UKERiG3G-R1-039_hp]+donor_period[UKERiJ2C-R1-015_hp]+donor_period[UKERiM89-R1-005_hp]+donor_period[UKERiO3H-R1-005_hp]+donor_period[UKERiPX7-R1-001_hp]+donor_period[UKERiR66-R1-007_hp]=0\n"
     ]
    },
    {
     "name": "stdout",
     "output_type": "stream",
     "text": [
      "Testing 14474 genes...\n",
      "\n"
     ]
    },
    {
     "name": "stderr",
     "output_type": "stream",
     "text": [
      "/usr/local/lib/python3.10/dist-packages/batchglm/models/base_glm/utils.py:158: PerformanceWarning: Slicing is producing a large chunk. To accept the large\n",
      "chunk and silence this warning, set the option\n",
      "    >>> with dask.config.set(**{'array.slicing.split_large_chunks': False}):\n",
      "    ...     array[indexer]\n",
      "\n",
      "To avoid creating the large chunks, set the option\n",
      "    >>> with dask.config.set(**{'array.slicing.split_large_chunks': True}):\n",
      "    ...     array[indexer]\n",
      "  np.mean(x[np.where(grouping == g)[0], :], axis=0)\n",
      "/usr/local/lib/python3.10/dist-packages/batchglm/models/base_glm/utils.py:171: PerformanceWarning: Slicing is producing a large chunk. To accept the large\n",
      "chunk and silence this warning, set the option\n",
      "    >>> with dask.config.set(**{'array.slicing.split_large_chunks': False}):\n",
      "    ...     array[indexer]\n",
      "\n",
      "To avoid creating the large chunks, set the option\n",
      "    >>> with dask.config.set(**{'array.slicing.split_large_chunks': True}):\n",
      "    ...     array[indexer]\n",
      "  expect_xsq = np.vstack([np.mean(np.square(x[np.where(grouping == g)[0], :]), axis=0)\n"
     ]
    },
    {
     "name": "stdout",
     "output_type": "stream",
     "text": [
      "training location model: True\n",
      "training scale model: True\n",
      "iter   0: ll=102539814.106532\n",
      "iter   1: ll=98411801.628570, converged: 0.00% (loc: 5.12%, scale update: False), in 50.32sec\n",
      "iter   2: ll=97281702.870843, converged: 0.00% (loc: 6.02%, scale update: False), in 48.73sec\n",
      "iter   3: ll=97061878.402251, converged: 0.00% (loc: 6.02%, scale update: False), in 48.92sec\n",
      "iter   4: ll=97015710.362956, converged: 0.00% (loc: 6.02%, scale update: False), in 49.19sec\n",
      "iter   5: ll=97004280.055588, converged: 0.00% (loc: 6.04%, scale update: False), in 48.04sec\n",
      "Fitting 14474 dispersion models: (progress not available with multiprocessing)"
     ]
    },
    {
     "name": "stderr",
     "output_type": "stream",
     "text": [
      "/usr/lib/python3.10/multiprocessing/popen_fork.py:66: RuntimeWarning: os.fork() was called. os.fork() is incompatible with multithreaded code, and JAX is multithreaded, so this will likely lead to a deadlock.\n",
      "  self.pid = os.fork()\n"
     ]
    },
    {
     "name": "stdout",
     "output_type": "stream",
     "text": [
      "iter   6: ll=91154788.938789, converged: 0.03% (loc: 0.03%, scale update: True), in 248.83sec\n",
      "iter   7: ll=91118591.986087, converged: 0.03% (loc: 5.28%, scale update: False), in 53.52sec\n",
      "iter   8: ll=91111221.857613, converged: 0.03% (loc: 5.31%, scale update: False), in 52.45sec\n",
      "iter   9: ll=91108393.499387, converged: 0.03% (loc: 5.44%, scale update: False), in 51.58sec\n",
      "iter  10: ll=91106856.030830, converged: 0.03% (loc: 6.52%, scale update: False), in 52.94sec\n",
      "iter  11: ll=91105916.979440, converged: 0.03% (loc: 10.43%, scale update: False), in 50.21sec\n",
      "Fitting 14469 dispersion models: (progress not available with multiprocessing)"
     ]
    },
    {
     "name": "stderr",
     "output_type": "stream",
     "text": [
      "/usr/lib/python3.10/multiprocessing/popen_fork.py:66: RuntimeWarning: os.fork() was called. os.fork() is incompatible with multithreaded code, and JAX is multithreaded, so this will likely lead to a deadlock.\n",
      "  self.pid = os.fork()\n"
     ]
    },
    {
     "name": "stdout",
     "output_type": "stream",
     "text": [
      "iter  12: ll=91021946.959232, converged: 5.12% (loc: 5.12%, scale update: True), in 256.86sec\n",
      "iter  13: ll=91020658.386260, converged: 5.12% (loc: 6.40%, scale update: False), in 50.27sec\n",
      "iter  14: ll=91019939.594189, converged: 5.12% (loc: 8.10%, scale update: False), in 52.18sec\n",
      "iter  15: ll=91019486.730511, converged: 5.12% (loc: 12.39%, scale update: False), in 49.94sec\n",
      "iter  16: ll=91019180.840672, converged: 5.12% (loc: 25.29%, scale update: False), in 48.16sec\n",
      "iter  17: ll=91018954.943597, converged: 5.12% (loc: 48.28%, scale update: False), in 42.84sec\n",
      "Fitting 13733 dispersion models: (progress not available with multiprocessing)"
     ]
    },
    {
     "name": "stderr",
     "output_type": "stream",
     "text": [
      "/usr/lib/python3.10/multiprocessing/popen_fork.py:66: RuntimeWarning: os.fork() was called. os.fork() is incompatible with multithreaded code, and JAX is multithreaded, so this will likely lead to a deadlock.\n",
      "  self.pid = os.fork()\n"
     ]
    },
    {
     "name": "stdout",
     "output_type": "stream",
     "text": [
      "iter  18: ll=90922680.334578, converged: 6.29% (loc: 6.29%, scale update: True), in 241.70sec\n",
      "iter  19: ll=90922398.275702, converged: 6.29% (loc: 29.87%, scale update: False), in 48.55sec\n",
      "iter  20: ll=90922198.072638, converged: 6.29% (loc: 60.05%, scale update: False), in 38.38sec\n",
      "iter  21: ll=90922037.560375, converged: 6.29% (loc: 81.17%, scale update: False), in 24.16sec\n",
      "iter  22: ll=90921909.306223, converged: 6.29% (loc: 89.62%, scale update: False), in 15.10sec\n",
      "iter  23: ll=90921808.606290, converged: 6.29% (loc: 94.34%, scale update: False), in 11.10sec\n",
      "Fitting 13563 dispersion models: (progress not available with multiprocessing)"
     ]
    },
    {
     "name": "stderr",
     "output_type": "stream",
     "text": [
      "/usr/lib/python3.10/multiprocessing/popen_fork.py:66: RuntimeWarning: os.fork() was called. os.fork() is incompatible with multithreaded code, and JAX is multithreaded, so this will likely lead to a deadlock.\n",
      "  self.pid = os.fork()\n"
     ]
    },
    {
     "name": "stdout",
     "output_type": "stream",
     "text": [
      "iter  24: ll=90861336.832389, converged: 29.61% (loc: 29.61%, scale update: True), in 227.06sec\n",
      "iter  25: ll=90861179.820944, converged: 29.61% (loc: 86.94%, scale update: False), in 37.41sec\n",
      "iter  26: ll=90861072.068333, converged: 29.61% (loc: 96.93%, scale update: False), in 12.87sec\n",
      "iter  27: ll=90860978.255591, converged: 29.61% (loc: 98.42%, scale update: False), in 8.08sec\n",
      "iter  28: ll=90860898.157473, converged: 29.61% (loc: 99.00%, scale update: False), in 6.50sec\n",
      "iter  29: ll=90860833.925938, converged: 29.61% (loc: 99.27%, scale update: False), in 5.72sec\n",
      "Fitting 10188 dispersion models: (progress not available with multiprocessing)"
     ]
    },
    {
     "name": "stderr",
     "output_type": "stream",
     "text": [
      "/usr/lib/python3.10/multiprocessing/popen_fork.py:66: RuntimeWarning: os.fork() was called. os.fork() is incompatible with multithreaded code, and JAX is multithreaded, so this will likely lead to a deadlock.\n",
      "  self.pid = os.fork()\n"
     ]
    },
    {
     "name": "stdout",
     "output_type": "stream",
     "text": [
      "iter  30: ll=90830655.563026, converged: 86.60% (loc: 86.60%, scale update: True), in 175.24sec\n",
      "iter  31: ll=90830563.774456, converged: 86.60% (loc: 98.66%, scale update: False), in 12.72sec\n",
      "caught 26 linalg singular matrix errors\n",
      "iter  32: ll=90830515.219116, converged: 86.60% (loc: 99.37%, scale update: False), in 5.90sec\n",
      "caught 49 linalg singular matrix errors\n",
      "iter  33: ll=90830503.343085, converged: 86.60% (loc: 99.77%, scale update: False), in 3.58sec\n",
      "caught 27 linalg singular matrix errors\n",
      "iter  34: ll=90830500.369885, converged: 86.60% (loc: 99.96%, scale update: False), in 1.72sec\n",
      "caught 5 linalg singular matrix errors\n",
      "iter  35: ll=90830500.369885, converged: 86.60% (loc: 100.00%, scale update: False), in 0.82sec\n",
      "Fitting 1939 dispersion models: (progress not available with multiprocessing)"
     ]
    },
    {
     "name": "stderr",
     "output_type": "stream",
     "text": [
      "/usr/lib/python3.10/multiprocessing/popen_fork.py:66: RuntimeWarning: os.fork() was called. os.fork() is incompatible with multithreaded code, and JAX is multithreaded, so this will likely lead to a deadlock.\n",
      "  self.pid = os.fork()\n"
     ]
    },
    {
     "name": "stdout",
     "output_type": "stream",
     "text": [
      "iter  36: ll=90825550.506624, converged: 98.60% (loc: 98.60%, scale update: True), in 51.15sec\n",
      "caught 135 linalg singular matrix errors\n",
      "iter  37: ll=90825550.479800, converged: 98.60% (loc: 99.99%, scale update: False), in 5.60sec\n",
      "caught 1 linalg singular matrix errors\n",
      "iter  38: ll=90825550.479800, converged: 98.60% (loc: 100.00%, scale update: False), in 0.95sec\n",
      "Fitting 203 dispersion models: (progress not available with multiprocessing)"
     ]
    },
    {
     "name": "stderr",
     "output_type": "stream",
     "text": [
      "/usr/lib/python3.10/multiprocessing/popen_fork.py:66: RuntimeWarning: os.fork() was called. os.fork() is incompatible with multithreaded code, and JAX is multithreaded, so this will likely lead to a deadlock.\n",
      "  self.pid = os.fork()\n"
     ]
    },
    {
     "name": "stdout",
     "output_type": "stream",
     "text": [
      "iter  39: ll=90825550.479800, converged: 99.99% (loc: 99.99%, scale update: True), in 28.21sec\n",
      "caught 1 linalg singular matrix errors\n",
      "iter  40: ll=90825550.479800, converged: 99.99% (loc: 100.00%, scale update: False), in 0.79sec\n",
      "iter  41: ll=90825550.479800, converged: 100.00% (loc: 100.00%, scale update: True), in 1.01sec\n"
     ]
    },
    {
     "name": "stderr",
     "output_type": "stream",
     "text": [
      "/usr/local/lib/python3.10/dist-packages/dask/array/core.py:2894: RuntimeWarning: divide by zero encountered in divide\n",
      "  size = (limit / dtype.itemsize / largest_block) ** (1 / len(autos))\n"
     ]
    },
    {
     "name": "stdout",
     "output_type": "stream",
     "text": [
      "In cluster NSC1a:\n",
      "condition\n",
      "Parkinson    14007\n",
      "Control       8666\n",
      "Name: count, dtype: int64\n",
      "filtered out 1850 genes that are detected in less than 50 cells\n"
     ]
    },
    {
     "name": "stderr",
     "output_type": "stream",
     "text": [
      "Built constraints: donor_period[UKERi1E4-R1-003_lp]+donor_period[UKERi1JF-R1-018_lp]+donor_period[UKERi82A-R1-002_lp]+donor_period[UKERi88H-R1-002_lp]+donor_period[UKERiAY6-R1-003_lp]+donor_period[UKERiC99-R1-007_lp]+donor_period[UKERiG3G-R1-039_lp]+donor_period[UKERiJ2C-R1-015_lp]+donor_period[UKERiM89-R1-005_lp]+donor_period[UKERiO3H-R1-005_lp]+donor_period[UKERiPX7-R1-001_lp]+donor_period[UKERiR66-R1-007_lp]=0, donor_period[UKERi1E4-R1-003_hp]+donor_period[UKERi1JF-R1-018_hp]+donor_period[UKERi82A-R1-002_hp]+donor_period[UKERi88H-R1-002_hp]+donor_period[UKERiAY6-R1-003_hp]+donor_period[UKERiC99-R1-007_hp]+donor_period[UKERiG3G-R1-039_hp]+donor_period[UKERiJ2C-R1-015_hp]+donor_period[UKERiM89-R1-005_hp]+donor_period[UKERiO3H-R1-005_hp]+donor_period[UKERiPX7-R1-001_hp]+donor_period[UKERiR66-R1-007_hp]=0\n"
     ]
    },
    {
     "name": "stdout",
     "output_type": "stream",
     "text": [
      "Testing 15516 genes...\n",
      "\n"
     ]
    },
    {
     "name": "stderr",
     "output_type": "stream",
     "text": [
      "/usr/local/lib/python3.10/dist-packages/batchglm/models/base_glm/utils.py:158: PerformanceWarning: Slicing is producing a large chunk. To accept the large\n",
      "chunk and silence this warning, set the option\n",
      "    >>> with dask.config.set(**{'array.slicing.split_large_chunks': False}):\n",
      "    ...     array[indexer]\n",
      "\n",
      "To avoid creating the large chunks, set the option\n",
      "    >>> with dask.config.set(**{'array.slicing.split_large_chunks': True}):\n",
      "    ...     array[indexer]\n",
      "  np.mean(x[np.where(grouping == g)[0], :], axis=0)\n",
      "/usr/local/lib/python3.10/dist-packages/batchglm/models/base_glm/utils.py:171: PerformanceWarning: Slicing is producing a large chunk. To accept the large\n",
      "chunk and silence this warning, set the option\n",
      "    >>> with dask.config.set(**{'array.slicing.split_large_chunks': False}):\n",
      "    ...     array[indexer]\n",
      "\n",
      "To avoid creating the large chunks, set the option\n",
      "    >>> with dask.config.set(**{'array.slicing.split_large_chunks': True}):\n",
      "    ...     array[indexer]\n",
      "  expect_xsq = np.vstack([np.mean(np.square(x[np.where(grouping == g)[0], :]), axis=0)\n"
     ]
    },
    {
     "name": "stdout",
     "output_type": "stream",
     "text": [
      "training location model: True\n",
      "training scale model: True\n",
      "iter   0: ll=284234942.942671\n",
      "iter   1: ll=273539387.922832, converged: 0.00% (loc: 4.82%, scale update: False), in 154.11sec\n",
      "iter   2: ll=270743878.183498, converged: 0.00% (loc: 6.08%, scale update: False), in 145.44sec\n",
      "iter   3: ll=270222649.976889, converged: 0.00% (loc: 6.08%, scale update: False), in 144.39sec\n",
      "iter   4: ll=270128403.017652, converged: 0.00% (loc: 6.08%, scale update: False), in 146.94sec\n",
      "iter   5: ll=270112029.796598, converged: 0.00% (loc: 6.81%, scale update: False), in 144.22sec\n",
      "Fitting 15516 dispersion models: (progress not available with multiprocessing)"
     ]
    },
    {
     "name": "stderr",
     "output_type": "stream",
     "text": [
      "/usr/lib/python3.10/multiprocessing/popen_fork.py:66: RuntimeWarning: os.fork() was called. os.fork() is incompatible with multithreaded code, and JAX is multithreaded, so this will likely lead to a deadlock.\n",
      "  self.pid = os.fork()\n"
     ]
    },
    {
     "name": "stdout",
     "output_type": "stream",
     "text": [
      "iter   6: ll=259175247.698623, converged: 0.02% (loc: 0.02%, scale update: True), in 721.30sec\n",
      "iter   7: ll=259097418.427196, converged: 0.02% (loc: 4.84%, scale update: False), in 150.31sec\n",
      "iter   8: ll=259085671.974015, converged: 0.02% (loc: 5.82%, scale update: False), in 145.60sec\n",
      "iter   9: ll=259082852.905038, converged: 0.02% (loc: 12.61%, scale update: False), in 147.35sec\n",
      "iter  10: ll=259081779.161163, converged: 0.02% (loc: 25.71%, scale update: False), in 132.28sec\n",
      "iter  11: ll=259081199.816928, converged: 0.02% (loc: 41.43%, scale update: False), in 115.61sec\n",
      "Fitting 15513 dispersion models: (progress not available with multiprocessing)"
     ]
    },
    {
     "name": "stderr",
     "output_type": "stream",
     "text": [
      "/usr/lib/python3.10/multiprocessing/popen_fork.py:66: RuntimeWarning: os.fork() was called. os.fork() is incompatible with multithreaded code, and JAX is multithreaded, so this will likely lead to a deadlock.\n",
      "  self.pid = os.fork()\n"
     ]
    },
    {
     "name": "stdout",
     "output_type": "stream",
     "text": [
      "iter  12: ll=258907330.435848, converged: 4.75% (loc: 4.75%, scale update: True), in 722.16sec\n",
      "iter  13: ll=258906188.628909, converged: 4.75% (loc: 11.84%, scale update: False), in 144.27sec\n",
      "iter  14: ll=258905755.761427, converged: 4.75% (loc: 25.30%, scale update: False), in 133.25sec\n",
      "iter  15: ll=258905450.758825, converged: 4.75% (loc: 42.61%, scale update: False), in 115.30sec\n",
      "iter  16: ll=258905204.939546, converged: 4.75% (loc: 59.23%, scale update: False), in 92.53sec\n",
      "iter  17: ll=258905006.053288, converged: 4.75% (loc: 74.91%, scale update: False), in 70.21sec\n",
      "Fitting 14779 dispersion models: (progress not available with multiprocessing)"
     ]
    },
    {
     "name": "stderr",
     "output_type": "stream",
     "text": [
      "/usr/lib/python3.10/multiprocessing/popen_fork.py:66: RuntimeWarning: os.fork() was called. os.fork() is incompatible with multithreaded code, and JAX is multithreaded, so this will likely lead to a deadlock.\n",
      "  self.pid = os.fork()\n"
     ]
    },
    {
     "name": "stdout",
     "output_type": "stream",
     "text": [
      "iter  18: ll=258801713.130490, converged: 11.67% (loc: 11.67%, scale update: True), in 689.26sec\n",
      "iter  19: ll=258801413.596967, converged: 11.67% (loc: 43.80%, scale update: False), in 134.55sec\n",
      "iter  20: ll=258801192.945675, converged: 11.67% (loc: 65.84%, scale update: False), in 90.29sec\n",
      "iter  21: ll=258801021.170027, converged: 11.67% (loc: 85.25%, scale update: False), in 62.27sec\n",
      "iter  22: ll=258800884.642732, converged: 11.67% (loc: 93.54%, scale update: False), in 37.04sec\n",
      "iter  23: ll=258800768.811301, converged: 11.67% (loc: 97.12%, scale update: False), in 27.11sec\n",
      "Fitting 13706 dispersion models: (progress not available with multiprocessing)"
     ]
    },
    {
     "name": "stderr",
     "output_type": "stream",
     "text": [
      "/usr/lib/python3.10/multiprocessing/popen_fork.py:66: RuntimeWarning: os.fork() was called. os.fork() is incompatible with multithreaded code, and JAX is multithreaded, so this will likely lead to a deadlock.\n",
      "  self.pid = os.fork()\n"
     ]
    },
    {
     "name": "stdout",
     "output_type": "stream",
     "text": [
      "iter  24: ll=258771993.158124, converged: 43.40% (loc: 43.40%, scale update: True), in 645.46sec\n",
      "iter  25: ll=258771764.300114, converged: 43.40% (loc: 90.21%, scale update: False), in 89.46sec\n",
      "iter  26: ll=258771625.199781, converged: 43.40% (loc: 97.89%, scale update: False), in 30.72sec\n",
      "iter  27: ll=258771565.040091, converged: 43.40% (loc: 99.09%, scale update: False), in 20.09sec\n",
      "iter  28: ll=258771536.527679, converged: 43.40% (loc: 99.48%, scale update: False), in 12.75sec\n",
      "iter  29: ll=258771515.620029, converged: 43.40% (loc: 99.65%, scale update: False), in 8.54sec\n",
      "Fitting 8782 dispersion models: (progress not available with multiprocessing)"
     ]
    },
    {
     "name": "stderr",
     "output_type": "stream",
     "text": [
      "/usr/lib/python3.10/multiprocessing/popen_fork.py:66: RuntimeWarning: os.fork() was called. os.fork() is incompatible with multithreaded code, and JAX is multithreaded, so this will likely lead to a deadlock.\n",
      "  self.pid = os.fork()\n"
     ]
    },
    {
     "name": "stdout",
     "output_type": "stream",
     "text": [
      "iter  30: ll=258767744.794707, converged: 89.91% (loc: 89.91%, scale update: True), in 433.52sec\n",
      "iter  31: ll=258767717.960521, converged: 89.91% (loc: 99.18%, scale update: False), in 30.92sec\n",
      "iter  32: ll=258767692.927076, converged: 89.91% (loc: 99.59%, scale update: False), in 11.97sec\n",
      "iter  33: ll=258767671.430515, converged: 89.91% (loc: 99.75%, scale update: False), in 8.20sec\n",
      "iter  34: ll=258767656.270227, converged: 89.91% (loc: 99.85%, scale update: False), in 5.84sec\n",
      "iter  35: ll=258767647.730477, converged: 89.91% (loc: 99.90%, scale update: False), in 4.65sec\n",
      "Fitting 1565 dispersion models: (progress not available with multiprocessing)"
     ]
    },
    {
     "name": "stderr",
     "output_type": "stream",
     "text": [
      "/usr/lib/python3.10/multiprocessing/popen_fork.py:66: RuntimeWarning: os.fork() was called. os.fork() is incompatible with multithreaded code, and JAX is multithreaded, so this will likely lead to a deadlock.\n",
      "  self.pid = os.fork()\n"
     ]
    },
    {
     "name": "stdout",
     "output_type": "stream",
     "text": [
      "iter  36: ll=258766154.341692, converged: 99.11% (loc: 99.11%, scale update: True), in 140.27sec\n",
      "caught 4 linalg singular matrix errors\n",
      "iter  37: ll=258766146.434797, converged: 99.11% (loc: 99.80%, scale update: False), in 12.77sec\n",
      "caught 10 linalg singular matrix errors\n",
      "iter  38: ll=258766142.936501, converged: 99.11% (loc: 99.94%, scale update: False), in 4.50sec\n",
      "caught 2 linalg singular matrix errors\n",
      "iter  39: ll=258766142.936180, converged: 99.11% (loc: 99.96%, scale update: False), in 2.37sec\n",
      "caught 1 linalg singular matrix errors\n",
      "iter  40: ll=258766142.936047, converged: 99.11% (loc: 99.97%, scale update: False), in 2.16sec\n",
      "caught 1 linalg singular matrix errors\n",
      "iter  41: ll=258766142.935979, converged: 99.11% (loc: 99.98%, scale update: False), in 1.84sec\n",
      "Fitting 138 dispersion models: (progress not available with multiprocessing)"
     ]
    },
    {
     "name": "stderr",
     "output_type": "stream",
     "text": [
      "/usr/lib/python3.10/multiprocessing/popen_fork.py:66: RuntimeWarning: os.fork() was called. os.fork() is incompatible with multithreaded code, and JAX is multithreaded, so this will likely lead to a deadlock.\n",
      "  self.pid = os.fork()\n"
     ]
    },
    {
     "name": "stdout",
     "output_type": "stream",
     "text": [
      "iter  42: ll=258765804.468048, converged: 99.79% (loc: 99.79%, scale update: True), in 86.41sec\n",
      "caught 20 linalg singular matrix errors\n",
      "iter  43: ll=258765804.468038, converged: 99.79% (loc: 99.98%, scale update: False), in 4.17sec\n",
      "caught 1 linalg singular matrix errors\n",
      "iter  44: ll=258765804.468038, converged: 99.79% (loc: 100.00%, scale update: False), in 1.86sec\n",
      "Fitting 33 dispersion models: (progress not available with multiprocessing)"
     ]
    },
    {
     "name": "stderr",
     "output_type": "stream",
     "text": [
      "/usr/lib/python3.10/multiprocessing/popen_fork.py:66: RuntimeWarning: os.fork() was called. os.fork() is incompatible with multithreaded code, and JAX is multithreaded, so this will likely lead to a deadlock.\n",
      "  self.pid = os.fork()\n"
     ]
    },
    {
     "name": "stdout",
     "output_type": "stream",
     "text": [
      "iter  45: ll=258765804.468038, converged: 99.98% (loc: 99.98%, scale update: True), in 78.51sec\n",
      "caught 2 linalg singular matrix errors\n",
      "iter  46: ll=258765804.468038, converged: 99.98% (loc: 100.00%, scale update: False), in 2.00sec\n",
      "iter  47: ll=258765804.468038, converged: 100.00% (loc: 100.00%, scale update: True), in 3.22sec\n"
     ]
    },
    {
     "name": "stderr",
     "output_type": "stream",
     "text": [
      "/usr/local/lib/python3.10/dist-packages/dask/array/core.py:2894: RuntimeWarning: divide by zero encountered in divide\n",
      "  size = (limit / dtype.itemsize / largest_block) ** (1 / len(autos))\n"
     ]
    },
    {
     "name": "stdout",
     "output_type": "stream",
     "text": [
      "In cluster NSC1b:\n",
      "condition\n",
      "Parkinson    8730\n",
      "Control      4409\n",
      "Name: count, dtype: int64\n",
      "filtered out 2339 genes that are detected in less than 50 cells\n"
     ]
    },
    {
     "name": "stderr",
     "output_type": "stream",
     "text": [
      "Built constraints: donor_period[UKERi1E4-R1-003_lp]+donor_period[UKERi1JF-R1-018_lp]+donor_period[UKERi82A-R1-002_lp]+donor_period[UKERi88H-R1-002_lp]+donor_period[UKERiAY6-R1-003_lp]+donor_period[UKERiC99-R1-007_lp]+donor_period[UKERiG3G-R1-039_lp]+donor_period[UKERiJ2C-R1-015_lp]+donor_period[UKERiM89-R1-005_lp]+donor_period[UKERiO3H-R1-005_lp]+donor_period[UKERiPX7-R1-001_lp]+donor_period[UKERiR66-R1-007_lp]=0, donor_period[UKERi1E4-R1-003_hp]+donor_period[UKERi1JF-R1-018_hp]+donor_period[UKERi82A-R1-002_hp]+donor_period[UKERi88H-R1-002_hp]+donor_period[UKERiAY6-R1-003_hp]+donor_period[UKERiC99-R1-007_hp]+donor_period[UKERiG3G-R1-039_hp]+donor_period[UKERiJ2C-R1-015_hp]+donor_period[UKERiM89-R1-005_hp]+donor_period[UKERiO3H-R1-005_hp]+donor_period[UKERiPX7-R1-001_hp]+donor_period[UKERiR66-R1-007_hp]=0\n"
     ]
    },
    {
     "name": "stdout",
     "output_type": "stream",
     "text": [
      "Testing 15027 genes...\n",
      "\n"
     ]
    },
    {
     "name": "stderr",
     "output_type": "stream",
     "text": [
      "/usr/local/lib/python3.10/dist-packages/batchglm/models/base_glm/utils.py:158: PerformanceWarning: Slicing is producing a large chunk. To accept the large\n",
      "chunk and silence this warning, set the option\n",
      "    >>> with dask.config.set(**{'array.slicing.split_large_chunks': False}):\n",
      "    ...     array[indexer]\n",
      "\n",
      "To avoid creating the large chunks, set the option\n",
      "    >>> with dask.config.set(**{'array.slicing.split_large_chunks': True}):\n",
      "    ...     array[indexer]\n",
      "  np.mean(x[np.where(grouping == g)[0], :], axis=0)\n",
      "/usr/local/lib/python3.10/dist-packages/batchglm/models/base_glm/utils.py:171: PerformanceWarning: Slicing is producing a large chunk. To accept the large\n",
      "chunk and silence this warning, set the option\n",
      "    >>> with dask.config.set(**{'array.slicing.split_large_chunks': False}):\n",
      "    ...     array[indexer]\n",
      "\n",
      "To avoid creating the large chunks, set the option\n",
      "    >>> with dask.config.set(**{'array.slicing.split_large_chunks': True}):\n",
      "    ...     array[indexer]\n",
      "  expect_xsq = np.vstack([np.mean(np.square(x[np.where(grouping == g)[0], :]), axis=0)\n"
     ]
    },
    {
     "name": "stdout",
     "output_type": "stream",
     "text": [
      "training location model: True\n",
      "training scale model: True\n",
      "iter   0: ll=189158576.765079\n",
      "iter   1: ll=181322793.098761, converged: 0.00% (loc: 3.10%, scale update: False), in 85.77sec\n",
      "iter   2: ll=179676087.694867, converged: 0.00% (loc: 4.44%, scale update: False), in 83.60sec\n",
      "iter   3: ll=179438486.962876, converged: 0.00% (loc: 4.44%, scale update: False), in 84.02sec\n",
      "iter   4: ll=179402768.860063, converged: 0.00% (loc: 4.44%, scale update: False), in 82.41sec\n",
      "iter   5: ll=179395933.159455, converged: 0.00% (loc: 5.70%, scale update: False), in 82.35sec\n",
      "Fitting 15027 dispersion models: (progress not available with multiprocessing)"
     ]
    },
    {
     "name": "stderr",
     "output_type": "stream",
     "text": [
      "/usr/lib/python3.10/multiprocessing/popen_fork.py:66: RuntimeWarning: os.fork() was called. os.fork() is incompatible with multithreaded code, and JAX is multithreaded, so this will likely lead to a deadlock.\n",
      "  self.pid = os.fork()\n"
     ]
    },
    {
     "name": "stdout",
     "output_type": "stream",
     "text": [
      "iter   6: ll=170517385.710517, converged: 0.00% (loc: 0.00%, scale update: True), in 430.10sec\n",
      "iter   7: ll=170471178.901490, converged: 0.00% (loc: 3.33%, scale update: False), in 85.48sec\n",
      "iter   8: ll=170465191.333060, converged: 0.00% (loc: 4.29%, scale update: False), in 85.38sec\n",
      "iter   9: ll=170463231.609104, converged: 0.00% (loc: 13.70%, scale update: False), in 81.39sec\n",
      "iter  10: ll=170462171.301420, converged: 0.00% (loc: 30.81%, scale update: False), in 75.16sec\n",
      "iter  11: ll=170461522.633408, converged: 0.00% (loc: 51.59%, scale update: False), in 62.72sec\n",
      "Fitting 15027 dispersion models: (progress not available with multiprocessing)"
     ]
    },
    {
     "name": "stderr",
     "output_type": "stream",
     "text": [
      "/usr/lib/python3.10/multiprocessing/popen_fork.py:66: RuntimeWarning: os.fork() was called. os.fork() is incompatible with multithreaded code, and JAX is multithreaded, so this will likely lead to a deadlock.\n",
      "  self.pid = os.fork()\n"
     ]
    },
    {
     "name": "stdout",
     "output_type": "stream",
     "text": [
      "iter  12: ll=170301850.619934, converged: 3.18% (loc: 3.18%, scale update: True), in 430.20sec\n",
      "iter  13: ll=170300872.321370, converged: 3.18% (loc: 10.79%, scale update: False), in 82.95sec\n",
      "iter  14: ll=170300353.280445, converged: 3.18% (loc: 29.46%, scale update: False), in 77.70sec\n",
      "iter  15: ll=170299969.747199, converged: 3.18% (loc: 52.77%, scale update: False), in 64.62sec\n",
      "iter  16: ll=170299660.214780, converged: 3.18% (loc: 74.01%, scale update: False), in 45.86sec\n",
      "iter  17: ll=170299399.769027, converged: 3.18% (loc: 85.91%, scale update: False), in 31.03sec\n",
      "Fitting 14549 dispersion models: (progress not available with multiprocessing)"
     ]
    },
    {
     "name": "stderr",
     "output_type": "stream",
     "text": [
      "/usr/lib/python3.10/multiprocessing/popen_fork.py:66: RuntimeWarning: os.fork() was called. os.fork() is incompatible with multithreaded code, and JAX is multithreaded, so this will likely lead to a deadlock.\n",
      "  self.pid = os.fork()\n"
     ]
    },
    {
     "name": "stdout",
     "output_type": "stream",
     "text": [
      "iter  18: ll=170193439.927575, converged: 10.53% (loc: 10.53%, scale update: True), in 418.04sec\n",
      "iter  19: ll=170193000.560998, converged: 10.53% (loc: 52.12%, scale update: False), in 76.45sec\n",
      "iter  20: ll=170192665.038679, converged: 10.53% (loc: 76.11%, scale update: False), in 48.02sec\n",
      "iter  21: ll=170192413.124612, converged: 10.53% (loc: 90.60%, scale update: False), in 27.49sec\n",
      "iter  22: ll=170192246.371829, converged: 10.53% (loc: 93.85%, scale update: False), in 18.37sec\n",
      "iter  23: ll=170192140.178410, converged: 10.53% (loc: 97.37%, scale update: False), in 16.02sec\n",
      "Fitting 13444 dispersion models: (progress not available with multiprocessing)"
     ]
    },
    {
     "name": "stderr",
     "output_type": "stream",
     "text": [
      "/usr/lib/python3.10/multiprocessing/popen_fork.py:66: RuntimeWarning: os.fork() was called. os.fork() is incompatible with multithreaded code, and JAX is multithreaded, so this will likely lead to a deadlock.\n",
      "  self.pid = os.fork()\n"
     ]
    },
    {
     "name": "stdout",
     "output_type": "stream",
     "text": [
      "iter  24: ll=170137246.110711, converged: 51.77% (loc: 51.77%, scale update: True), in 386.78sec\n",
      "iter  25: ll=170137088.832693, converged: 51.77% (loc: 95.89%, scale update: False), in 46.71sec\n",
      "iter  26: ll=170136997.941155, converged: 51.77% (loc: 98.78%, scale update: False), in 14.58sec\n",
      "iter  27: ll=170136922.587934, converged: 51.77% (loc: 99.43%, scale update: False), in 10.17sec\n",
      "iter  28: ll=170136855.773501, converged: 51.77% (loc: 99.66%, scale update: False), in 6.77sec\n",
      "iter  29: ll=170136801.656352, converged: 51.77% (loc: 99.74%, scale update: False), in 5.32sec\n",
      "Fitting 7247 dispersion models: (progress not available with multiprocessing)"
     ]
    },
    {
     "name": "stderr",
     "output_type": "stream",
     "text": [
      "/usr/lib/python3.10/multiprocessing/popen_fork.py:66: RuntimeWarning: os.fork() was called. os.fork() is incompatible with multithreaded code, and JAX is multithreaded, so this will likely lead to a deadlock.\n",
      "  self.pid = os.fork()\n"
     ]
    },
    {
     "name": "stdout",
     "output_type": "stream",
     "text": [
      "iter  30: ll=170124888.549419, converged: 95.67% (loc: 95.67%, scale update: True), in 229.59sec\n",
      "iter  31: ll=170124814.676333, converged: 95.67% (loc: 99.39%, scale update: False), in 15.92sec\n",
      "iter  32: ll=170124770.817460, converged: 95.67% (loc: 99.71%, scale update: False), in 6.56sec\n",
      "iter  33: ll=170124734.961007, converged: 95.67% (loc: 99.80%, scale update: False), in 4.91sec\n",
      "iter  34: ll=170124700.863873, converged: 95.67% (loc: 99.85%, scale update: False), in 3.56sec\n",
      "iter  35: ll=170124669.642705, converged: 95.67% (loc: 99.89%, scale update: False), in 3.41sec\n",
      "Fitting 650 dispersion models: (progress not available with multiprocessing)"
     ]
    },
    {
     "name": "stderr",
     "output_type": "stream",
     "text": [
      "/usr/lib/python3.10/multiprocessing/popen_fork.py:66: RuntimeWarning: os.fork() was called. os.fork() is incompatible with multithreaded code, and JAX is multithreaded, so this will likely lead to a deadlock.\n",
      "  self.pid = os.fork()\n"
     ]
    },
    {
     "name": "stdout",
     "output_type": "stream",
     "text": [
      "iter  36: ll=170122538.839389, converged: 99.32% (loc: 99.32%, scale update: True), in 67.06sec\n",
      "iter  37: ll=170122492.810912, converged: 99.32% (loc: 99.82%, scale update: False), in 7.49sec\n",
      "caught 4 linalg singular matrix errors\n",
      "iter  38: ll=170122458.970309, converged: 99.32% (loc: 99.89%, scale update: False), in 3.22sec\n",
      "caught 3 linalg singular matrix errors\n",
      "iter  39: ll=170122432.907297, converged: 99.32% (loc: 99.93%, scale update: False), in 1.87sec\n",
      "caught 2 linalg singular matrix errors\n",
      "iter  40: ll=170122420.100693, converged: 99.32% (loc: 99.97%, scale update: False), in 1.61sec\n",
      "caught 3 linalg singular matrix errors\n",
      "iter  41: ll=170122420.100693, converged: 99.32% (loc: 99.99%, scale update: False), in 1.28sec\n",
      "Fitting 102 dispersion models: (progress not available with multiprocessing)"
     ]
    },
    {
     "name": "stderr",
     "output_type": "stream",
     "text": [
      "/usr/lib/python3.10/multiprocessing/popen_fork.py:66: RuntimeWarning: os.fork() was called. os.fork() is incompatible with multithreaded code, and JAX is multithreaded, so this will likely lead to a deadlock.\n",
      "  self.pid = os.fork()\n"
     ]
    },
    {
     "name": "stdout",
     "output_type": "stream",
     "text": [
      "iter  42: ll=170121876.232484, converged: 99.81% (loc: 99.81%, scale update: True), in 56.49sec\n",
      "caught 15 linalg singular matrix errors\n",
      "iter  43: ll=170121876.230699, converged: 99.81% (loc: 99.99%, scale update: False), in 2.87sec\n",
      "iter  44: ll=170121876.230699, converged: 99.81% (loc: 100.00%, scale update: False), in 1.24sec\n",
      "Fitting 28 dispersion models: (progress not available with multiprocessing)"
     ]
    },
    {
     "name": "stderr",
     "output_type": "stream",
     "text": [
      "/usr/lib/python3.10/multiprocessing/popen_fork.py:66: RuntimeWarning: os.fork() was called. os.fork() is incompatible with multithreaded code, and JAX is multithreaded, so this will likely lead to a deadlock.\n",
      "  self.pid = os.fork()\n"
     ]
    },
    {
     "name": "stdout",
     "output_type": "stream",
     "text": [
      "iter  45: ll=170121851.064485, converged: 99.99% (loc: 99.99%, scale update: True), in 47.58sec\n",
      "iter  46: ll=170121851.064485, converged: 99.99% (loc: 100.00%, scale update: False), in 1.36sec\n",
      "iter  47: ll=170121851.064485, converged: 100.00% (loc: 100.00%, scale update: True), in 1.63sec\n"
     ]
    },
    {
     "name": "stderr",
     "output_type": "stream",
     "text": [
      "/usr/local/lib/python3.10/dist-packages/dask/array/core.py:2894: RuntimeWarning: divide by zero encountered in divide\n",
      "  size = (limit / dtype.itemsize / largest_block) ** (1 / len(autos))\n"
     ]
    },
    {
     "name": "stdout",
     "output_type": "stream",
     "text": [
      "In cluster NSC2a:\n",
      "condition\n",
      "Parkinson    5691\n",
      "Control      2184\n",
      "Name: count, dtype: int64\n",
      "filtered out 3222 genes that are detected in less than 50 cells\n"
     ]
    },
    {
     "name": "stderr",
     "output_type": "stream",
     "text": [
      "Built constraints: donor_period[UKERi1E4-R1-003_lp]+donor_period[UKERi1JF-R1-018_lp]+donor_period[UKERi82A-R1-002_lp]+donor_period[UKERi88H-R1-002_lp]+donor_period[UKERiAY6-R1-003_lp]+donor_period[UKERiC99-R1-007_lp]+donor_period[UKERiG3G-R1-039_lp]+donor_period[UKERiJ2C-R1-015_lp]+donor_period[UKERiM89-R1-005_lp]+donor_period[UKERiO3H-R1-005_lp]+donor_period[UKERiPX7-R1-001_lp]+donor_period[UKERiR66-R1-007_lp]=0, donor_period[UKERi1E4-R1-003_hp]+donor_period[UKERi1JF-R1-018_hp]+donor_period[UKERi82A-R1-002_hp]+donor_period[UKERi88H-R1-002_hp]+donor_period[UKERiAY6-R1-003_hp]+donor_period[UKERiC99-R1-007_hp]+donor_period[UKERiG3G-R1-039_hp]+donor_period[UKERiJ2C-R1-015_hp]+donor_period[UKERiM89-R1-005_hp]+donor_period[UKERiO3H-R1-005_hp]+donor_period[UKERiPX7-R1-001_hp]+donor_period[UKERiR66-R1-007_hp]=0\n"
     ]
    },
    {
     "name": "stdout",
     "output_type": "stream",
     "text": [
      "Testing 14144 genes...\n",
      "\n"
     ]
    },
    {
     "name": "stderr",
     "output_type": "stream",
     "text": [
      "/usr/local/lib/python3.10/dist-packages/batchglm/models/base_glm/utils.py:158: PerformanceWarning: Slicing is producing a large chunk. To accept the large\n",
      "chunk and silence this warning, set the option\n",
      "    >>> with dask.config.set(**{'array.slicing.split_large_chunks': False}):\n",
      "    ...     array[indexer]\n",
      "\n",
      "To avoid creating the large chunks, set the option\n",
      "    >>> with dask.config.set(**{'array.slicing.split_large_chunks': True}):\n",
      "    ...     array[indexer]\n",
      "  np.mean(x[np.where(grouping == g)[0], :], axis=0)\n",
      "/usr/local/lib/python3.10/dist-packages/batchglm/models/base_glm/utils.py:171: PerformanceWarning: Slicing is producing a large chunk. To accept the large\n",
      "chunk and silence this warning, set the option\n",
      "    >>> with dask.config.set(**{'array.slicing.split_large_chunks': False}):\n",
      "    ...     array[indexer]\n",
      "\n",
      "To avoid creating the large chunks, set the option\n",
      "    >>> with dask.config.set(**{'array.slicing.split_large_chunks': True}):\n",
      "    ...     array[indexer]\n",
      "  expect_xsq = np.vstack([np.mean(np.square(x[np.where(grouping == g)[0], :]), axis=0)\n"
     ]
    },
    {
     "name": "stdout",
     "output_type": "stream",
     "text": [
      "training location model: True\n",
      "training scale model: True\n",
      "iter   0: ll=94919900.516593\n",
      "iter   1: ll=91934449.710727, converged: 0.00% (loc: 7.36%, scale update: False), in 48.03sec\n",
      "caught 3 linalg singular matrix errors\n",
      "iter   2: ll=90998784.922193, converged: 0.00% (loc: 8.71%, scale update: False), in 44.68sec\n",
      "iter   3: ll=90788507.450813, converged: 0.00% (loc: 8.71%, scale update: False), in 45.79sec\n",
      "iter   4: ll=90741063.129163, converged: 0.00% (loc: 8.71%, scale update: False), in 45.57sec\n",
      "iter   5: ll=90730694.183107, converged: 0.00% (loc: 8.78%, scale update: False), in 43.68sec\n",
      "Fitting 14144 dispersion models: (progress not available with multiprocessing)"
     ]
    },
    {
     "name": "stderr",
     "output_type": "stream",
     "text": [
      "/usr/lib/python3.10/multiprocessing/popen_fork.py:66: RuntimeWarning: os.fork() was called. os.fork() is incompatible with multithreaded code, and JAX is multithreaded, so this will likely lead to a deadlock.\n",
      "  self.pid = os.fork()\n"
     ]
    },
    {
     "name": "stdout",
     "output_type": "stream",
     "text": [
      "iter   6: ll=82113677.025819, converged: 0.08% (loc: 0.08%, scale update: True), in 236.69sec\n",
      "iter   7: ll=82082254.746775, converged: 0.08% (loc: 7.44%, scale update: False), in 47.02sec\n",
      "iter   8: ll=82075290.181223, converged: 0.08% (loc: 7.59%, scale update: False), in 46.91sec\n",
      "iter   9: ll=82073037.650652, converged: 0.08% (loc: 8.64%, scale update: False), in 44.44sec\n",
      "iter  10: ll=82071973.104929, converged: 0.08% (loc: 12.03%, scale update: False), in 45.68sec\n",
      "iter  11: ll=82071359.040400, converged: 0.08% (loc: 19.09%, scale update: False), in 44.23sec\n",
      "Fitting 14132 dispersion models: (progress not available with multiprocessing)"
     ]
    },
    {
     "name": "stderr",
     "output_type": "stream",
     "text": [
      "/usr/lib/python3.10/multiprocessing/popen_fork.py:66: RuntimeWarning: os.fork() was called. os.fork() is incompatible with multithreaded code, and JAX is multithreaded, so this will likely lead to a deadlock.\n",
      "  self.pid = os.fork()\n"
     ]
    },
    {
     "name": "stdout",
     "output_type": "stream",
     "text": [
      "iter  12: ll=81856579.021081, converged: 7.28% (loc: 7.28%, scale update: True), in 235.54sec\n",
      "iter  13: ll=81855637.870060, converged: 7.28% (loc: 9.21%, scale update: False), in 44.79sec\n",
      "iter  14: ll=81855204.851749, converged: 7.28% (loc: 13.02%, scale update: False), in 43.67sec\n",
      "iter  15: ll=81854922.519235, converged: 7.28% (loc: 21.11%, scale update: False), in 43.78sec\n",
      "iter  16: ll=81854718.277948, converged: 7.28% (loc: 33.80%, scale update: False), in 39.30sec\n",
      "iter  17: ll=81854560.533849, converged: 7.28% (loc: 48.75%, scale update: False), in 34.23sec\n",
      "Fitting 13114 dispersion models: (progress not available with multiprocessing)"
     ]
    },
    {
     "name": "stderr",
     "output_type": "stream",
     "text": [
      "/usr/lib/python3.10/multiprocessing/popen_fork.py:66: RuntimeWarning: os.fork() was called. os.fork() is incompatible with multithreaded code, and JAX is multithreaded, so this will likely lead to a deadlock.\n",
      "  self.pid = os.fork()\n"
     ]
    },
    {
     "name": "stdout",
     "output_type": "stream",
     "text": [
      "iter  18: ll=81712384.671350, converged: 9.04% (loc: 9.04%, scale update: True), in 221.54sec\n",
      "iter  19: ll=81712172.586553, converged: 9.04% (loc: 27.76%, scale update: False), in 43.51sec\n",
      "iter  20: ll=81712037.110768, converged: 9.04% (loc: 49.73%, scale update: False), in 36.95sec\n",
      "iter  21: ll=81711925.339094, converged: 9.04% (loc: 71.99%, scale update: False), in 27.70sec\n",
      "iter  22: ll=81711831.370013, converged: 9.04% (loc: 87.39%, scale update: False), in 18.12sec\n",
      "iter  23: ll=81711753.900692, converged: 9.04% (loc: 93.79%, scale update: False), in 11.85sec\n",
      "Fitting 12865 dispersion models: (progress not available with multiprocessing)"
     ]
    },
    {
     "name": "stderr",
     "output_type": "stream",
     "text": [
      "/usr/lib/python3.10/multiprocessing/popen_fork.py:66: RuntimeWarning: os.fork() was called. os.fork() is incompatible with multithreaded code, and JAX is multithreaded, so this will likely lead to a deadlock.\n",
      "  self.pid = os.fork()\n"
     ]
    },
    {
     "name": "stdout",
     "output_type": "stream",
     "text": [
      "iter  24: ll=81633299.810967, converged: 27.45% (loc: 27.45%, scale update: True), in 217.33sec\n",
      "iter  25: ll=81633192.261755, converged: 27.45% (loc: 77.57%, scale update: False), in 36.12sec\n",
      "iter  26: ll=81633128.485330, converged: 27.45% (loc: 92.29%, scale update: False), in 16.36sec\n",
      "iter  27: ll=81633076.775139, converged: 27.45% (loc: 97.16%, scale update: False), in 9.97sec\n",
      "iter  28: ll=81633034.500063, converged: 27.45% (loc: 98.46%, scale update: False), in 7.66sec\n",
      "iter  29: ll=81633001.678374, converged: 27.45% (loc: 98.95%, scale update: False), in 6.98sec\n",
      "Fitting 10262 dispersion models: (progress not available with multiprocessing)"
     ]
    },
    {
     "name": "stderr",
     "output_type": "stream",
     "text": [
      "/usr/lib/python3.10/multiprocessing/popen_fork.py:66: RuntimeWarning: os.fork() was called. os.fork() is incompatible with multithreaded code, and JAX is multithreaded, so this will likely lead to a deadlock.\n",
      "  self.pid = os.fork()\n"
     ]
    },
    {
     "name": "stdout",
     "output_type": "stream",
     "text": [
      "iter  30: ll=81612286.918207, converged: 77.16% (loc: 77.16%, scale update: True), in 175.74sec\n",
      "iter  31: ll=81612240.567392, converged: 77.16% (loc: 96.39%, scale update: False), in 15.45sec\n",
      "iter  32: ll=81612215.180884, converged: 77.16% (loc: 98.73%, scale update: False), in 8.60sec\n",
      "iter  33: ll=81612192.328558, converged: 77.16% (loc: 99.16%, scale update: False), in 6.12sec\n",
      "iter  34: ll=81612171.644585, converged: 77.16% (loc: 99.38%, scale update: False), in 4.69sec\n",
      "caught 12 linalg singular matrix errors\n",
      "iter  35: ll=81612153.117416, converged: 77.16% (loc: 99.58%, scale update: False), in 3.77sec\n",
      "Fitting 3230 dispersion models: (progress not available with multiprocessing)"
     ]
    },
    {
     "name": "stderr",
     "output_type": "stream",
     "text": [
      "/usr/lib/python3.10/multiprocessing/popen_fork.py:66: RuntimeWarning: os.fork() was called. os.fork() is incompatible with multithreaded code, and JAX is multithreaded, so this will likely lead to a deadlock.\n",
      "  self.pid = os.fork()\n"
     ]
    },
    {
     "name": "stdout",
     "output_type": "stream",
     "text": [
      "iter  36: ll=81604782.490009, converged: 96.19% (loc: 96.19%, scale update: True), in 69.52sec\n",
      "caught 37 linalg singular matrix errors\n",
      "iter  37: ll=81604762.708141, converged: 96.19% (loc: 99.41%, scale update: False), in 9.46sec\n",
      "caught 19 linalg singular matrix errors\n",
      "iter  38: ll=81604751.271183, converged: 96.19% (loc: 99.72%, scale update: False), in 4.34sec\n",
      "caught 14 linalg singular matrix errors\n",
      "iter  39: ll=81604746.066041, converged: 96.19% (loc: 99.87%, scale update: False), in 2.53sec\n",
      "caught 8 linalg singular matrix errors\n",
      "iter  40: ll=81604742.940523, converged: 96.19% (loc: 99.95%, scale update: False), in 1.50sec\n",
      "caught 3 linalg singular matrix errors\n",
      "iter  41: ll=81604741.332209, converged: 96.19% (loc: 99.99%, scale update: False), in 0.98sec\n",
      "Fitting 539 dispersion models: (progress not available with multiprocessing)"
     ]
    },
    {
     "name": "stderr",
     "output_type": "stream",
     "text": [
      "/usr/lib/python3.10/multiprocessing/popen_fork.py:66: RuntimeWarning: os.fork() was called. os.fork() is incompatible with multithreaded code, and JAX is multithreaded, so this will likely lead to a deadlock.\n",
      "  self.pid = os.fork()\n"
     ]
    },
    {
     "name": "stdout",
     "output_type": "stream",
     "text": [
      "iter  42: ll=81600897.069690, converged: 99.36% (loc: 99.36%, scale update: True), in 35.67sec\n",
      "caught 53 linalg singular matrix errors\n",
      "iter  43: ll=81600894.319797, converged: 99.36% (loc: 99.97%, scale update: False), in 3.40sec\n",
      "caught 2 linalg singular matrix errors\n",
      "iter  44: ll=81600892.677435, converged: 99.36% (loc: 99.99%, scale update: False), in 0.83sec\n",
      "iter  45: ll=81600891.384912, converged: 99.36% (loc: 99.99%, scale update: False), in 0.69sec\n",
      "iter  46: ll=81600890.680893, converged: 99.36% (loc: 99.99%, scale update: False), in 0.69sec\n",
      "iter  47: ll=81600890.512391, converged: 99.36% (loc: 99.99%, scale update: False), in 0.68sec\n",
      "Fitting 90 dispersion models: (progress not available with multiprocessing)"
     ]
    },
    {
     "name": "stderr",
     "output_type": "stream",
     "text": [
      "/usr/lib/python3.10/multiprocessing/popen_fork.py:66: RuntimeWarning: os.fork() was called. os.fork() is incompatible with multithreaded code, and JAX is multithreaded, so this will likely lead to a deadlock.\n",
      "  self.pid = os.fork()\n"
     ]
    },
    {
     "name": "stdout",
     "output_type": "stream",
     "text": [
      "iter  48: ll=81600223.956315, converged: 99.96% (loc: 99.96%, scale update: True), in 29.64sec\n",
      "caught 4 linalg singular matrix errors\n",
      "iter  49: ll=81600223.947605, converged: 99.96% (loc: 99.99%, scale update: False), in 0.94sec\n",
      "iter  50: ll=81600223.947563, converged: 99.96% (loc: 99.99%, scale update: False), in 0.71sec\n",
      "iter  51: ll=81600223.947561, converged: 99.96% (loc: 99.99%, scale update: False), in 0.67sec\n",
      "iter  52: ll=81600223.947561, converged: 99.96% (loc: 100.00%, scale update: False), in 0.70sec\n",
      "Fitting 6 dispersion models: (progress not available with multiprocessing)"
     ]
    },
    {
     "name": "stderr",
     "output_type": "stream",
     "text": [
      "/usr/lib/python3.10/multiprocessing/popen_fork.py:66: RuntimeWarning: os.fork() was called. os.fork() is incompatible with multithreaded code, and JAX is multithreaded, so this will likely lead to a deadlock.\n",
      "  self.pid = os.fork()\n"
     ]
    },
    {
     "name": "stdout",
     "output_type": "stream",
     "text": [
      "iter  53: ll=81600223.947559, converged: 99.99% (loc: 99.99%, scale update: True), in 18.86sec\n",
      "iter  54: ll=81600223.947559, converged: 99.99% (loc: 100.00%, scale update: False), in 0.69sec\n",
      "iter  55: ll=81600223.947559, converged: 100.00% (loc: 100.00%, scale update: True), in 0.70sec\n"
     ]
    },
    {
     "name": "stderr",
     "output_type": "stream",
     "text": [
      "/usr/local/lib/python3.10/dist-packages/dask/array/core.py:2894: RuntimeWarning: divide by zero encountered in divide\n",
      "  size = (limit / dtype.itemsize / largest_block) ** (1 / len(autos))\n"
     ]
    },
    {
     "name": "stdout",
     "output_type": "stream",
     "text": [
      "In cluster NSC2b:\n",
      "condition\n",
      "Parkinson    1866\n",
      "Control       490\n",
      "Name: count, dtype: int64\n",
      "filtered out 4609 genes that are detected in less than 50 cells\n"
     ]
    },
    {
     "name": "stderr",
     "output_type": "stream",
     "text": [
      "Built constraints: donor_period[UKERi1JF-R1-018_lp]+donor_period[UKERi82A-R1-002_lp]+donor_period[UKERi88H-R1-002_lp]+donor_period[UKERiAY6-R1-003_lp]+donor_period[UKERiC99-R1-007_lp]+donor_period[UKERiG3G-R1-039_lp]+donor_period[UKERiJ2C-R1-015_lp]+donor_period[UKERiM89-R1-005_lp]+donor_period[UKERiO3H-R1-005_lp]+donor_period[UKERiPX7-R1-001_lp]+donor_period[UKERiR66-R1-007_lp]=0, donor_period[UKERi1E4-R1-003_hp]+donor_period[UKERi1JF-R1-018_hp]+donor_period[UKERi82A-R1-002_hp]+donor_period[UKERi88H-R1-002_hp]+donor_period[UKERiAY6-R1-003_hp]+donor_period[UKERiC99-R1-007_hp]+donor_period[UKERiG3G-R1-039_hp]+donor_period[UKERiJ2C-R1-015_hp]+donor_period[UKERiM89-R1-005_hp]+donor_period[UKERiO3H-R1-005_hp]+donor_period[UKERiPX7-R1-001_hp]+donor_period[UKERiR66-R1-007_hp]=0\n"
     ]
    },
    {
     "name": "stdout",
     "output_type": "stream",
     "text": [
      "Testing 12757 genes...\n",
      "\n",
      "training location model: True\n",
      "training scale model: True\n",
      "iter   0: ll=45443524.678568\n",
      "iter   1: ll=44327764.667652, converged: 0.00% (loc: 4.57%, scale update: False), in 12.79sec\n",
      "iter   2: ll=44088675.867906, converged: 0.00% (loc: 6.93%, scale update: False), in 13.17sec\n",
      "iter   3: ll=44051266.500344, converged: 0.00% (loc: 6.93%, scale update: False), in 12.91sec\n",
      "iter   4: ll=44044040.888024, converged: 0.00% (loc: 6.93%, scale update: False), in 12.92sec\n",
      "iter   5: ll=44042060.672414, converged: 0.00% (loc: 7.79%, scale update: False), in 12.96sec\n",
      "Fitting 12757 dispersion models: (progress not available with multiprocessing)"
     ]
    },
    {
     "name": "stderr",
     "output_type": "stream",
     "text": [
      "/usr/lib/python3.10/multiprocessing/popen_fork.py:66: RuntimeWarning: os.fork() was called. os.fork() is incompatible with multithreaded code, and JAX is multithreaded, so this will likely lead to a deadlock.\n",
      "  self.pid = os.fork()\n"
     ]
    },
    {
     "name": "stdout",
     "output_type": "stream",
     "text": [
      "iter   6: ll=27907334.159213, converged: 0.03% (loc: 0.03%, scale update: True), in 74.36sec\n",
      "iter   7: ll=27898056.900298, converged: 0.03% (loc: 5.65%, scale update: False), in 12.91sec\n",
      "iter   8: ll=27895771.127184, converged: 0.03% (loc: 6.57%, scale update: False), in 13.32sec\n",
      "iter   9: ll=27894924.238666, converged: 0.03% (loc: 12.94%, scale update: False), in 12.63sec\n",
      "iter  10: ll=27894531.780660, converged: 0.03% (loc: 27.93%, scale update: False), in 11.83sec\n",
      "iter  11: ll=27894317.963021, converged: 0.03% (loc: 47.33%, scale update: False), in 10.66sec\n",
      "Fitting 12753 dispersion models: (progress not available with multiprocessing)"
     ]
    },
    {
     "name": "stderr",
     "output_type": "stream",
     "text": [
      "/usr/lib/python3.10/multiprocessing/popen_fork.py:66: RuntimeWarning: os.fork() was called. os.fork() is incompatible with multithreaded code, and JAX is multithreaded, so this will likely lead to a deadlock.\n",
      "  self.pid = os.fork()\n"
     ]
    },
    {
     "name": "stdout",
     "output_type": "stream",
     "text": [
      "iter  12: ll=27435869.055070, converged: 5.18% (loc: 5.18%, scale update: True), in 72.56sec\n",
      "iter  13: ll=27435517.193414, converged: 5.18% (loc: 12.02%, scale update: False), in 12.58sec\n",
      "iter  14: ll=27435371.757763, converged: 5.18% (loc: 25.52%, scale update: False), in 12.50sec\n",
      "iter  15: ll=27435274.009043, converged: 5.18% (loc: 49.98%, scale update: False), in 10.75sec\n",
      "iter  16: ll=27435202.017389, converged: 5.18% (loc: 67.29%, scale update: False), in 8.22sec\n",
      "iter  17: ll=27435145.252749, converged: 5.18% (loc: 69.84%, scale update: False), in 6.05sec\n",
      "Fitting 12096 dispersion models: (progress not available with multiprocessing)"
     ]
    },
    {
     "name": "stderr",
     "output_type": "stream",
     "text": [
      "/usr/lib/python3.10/multiprocessing/popen_fork.py:66: RuntimeWarning: os.fork() was called. os.fork() is incompatible with multithreaded code, and JAX is multithreaded, so this will likely lead to a deadlock.\n",
      "  self.pid = os.fork()\n"
     ]
    },
    {
     "name": "stdout",
     "output_type": "stream",
     "text": [
      "iter  18: ll=27201206.623138, converged: 11.26% (loc: 11.26%, scale update: True), in 70.41sec\n",
      "iter  19: ll=27201066.707317, converged: 11.26% (loc: 44.42%, scale update: False), in 12.59sec\n",
      "iter  20: ll=27201010.323958, converged: 11.26% (loc: 67.74%, scale update: False), in 8.61sec\n",
      "iter  21: ll=27200965.239995, converged: 11.26% (loc: 82.84%, scale update: False), in 6.10sec\n",
      "iter  22: ll=27200930.297788, converged: 11.26% (loc: 90.74%, scale update: False), in 4.47sec\n",
      "iter  23: ll=27200903.637001, converged: 11.26% (loc: 96.21%, scale update: False), in 4.05sec\n",
      "Fitting 11321 dispersion models: (progress not available with multiprocessing)"
     ]
    },
    {
     "name": "stderr",
     "output_type": "stream",
     "text": [
      "/usr/lib/python3.10/multiprocessing/popen_fork.py:66: RuntimeWarning: os.fork() was called. os.fork() is incompatible with multithreaded code, and JAX is multithreaded, so this will likely lead to a deadlock.\n",
      "  self.pid = os.fork()\n"
     ]
    },
    {
     "name": "stdout",
     "output_type": "stream",
     "text": [
      "iter  24: ll=27053843.179218, converged: 43.54% (loc: 43.54%, scale update: True), in 65.58sec\n",
      "iter  25: ll=27053778.637511, converged: 43.54% (loc: 94.43%, scale update: False), in 8.76sec\n",
      "iter  26: ll=27053756.363998, converged: 43.54% (loc: 98.67%, scale update: False), in 3.86sec\n",
      "iter  27: ll=27053737.849878, converged: 43.54% (loc: 99.36%, scale update: False), in 2.83sec\n",
      "iter  28: ll=27053723.003515, converged: 43.54% (loc: 99.59%, scale update: False), in 1.91sec\n",
      "iter  29: ll=27053711.592922, converged: 43.54% (loc: 99.73%, scale update: False), in 1.52sec\n",
      "Fitting 7203 dispersion models: (progress not available with multiprocessing)"
     ]
    },
    {
     "name": "stderr",
     "output_type": "stream",
     "text": [
      "/usr/lib/python3.10/multiprocessing/popen_fork.py:66: RuntimeWarning: os.fork() was called. os.fork() is incompatible with multithreaded code, and JAX is multithreaded, so this will likely lead to a deadlock.\n",
      "  self.pid = os.fork()\n"
     ]
    },
    {
     "name": "stdout",
     "output_type": "stream",
     "text": [
      "iter  30: ll=26999228.063424, converged: 93.85% (loc: 93.85%, scale update: True), in 44.01sec\n",
      "iter  31: ll=26999186.746911, converged: 93.85% (loc: 99.18%, scale update: False), in 4.25sec\n",
      "iter  32: ll=26999177.590369, converged: 93.85% (loc: 99.62%, scale update: False), in 2.30sec\n",
      "iter  33: ll=26999172.022456, converged: 93.85% (loc: 99.74%, scale update: False), in 1.43sec\n",
      "iter  34: ll=26999168.055310, converged: 93.85% (loc: 99.83%, scale update: False), in 1.15sec\n",
      "caught 1 linalg singular matrix errors\n",
      "iter  35: ll=26999164.586559, converged: 93.85% (loc: 99.89%, scale update: False), in 0.93sec\n",
      "Fitting 785 dispersion models: (progress not available with multiprocessing)"
     ]
    },
    {
     "name": "stderr",
     "output_type": "stream",
     "text": [
      "/usr/lib/python3.10/multiprocessing/popen_fork.py:66: RuntimeWarning: os.fork() was called. os.fork() is incompatible with multithreaded code, and JAX is multithreaded, so this will likely lead to a deadlock.\n",
      "  self.pid = os.fork()\n"
     ]
    },
    {
     "name": "stdout",
     "output_type": "stream",
     "text": [
      "iter  36: ll=26991646.880002, converged: 99.03% (loc: 99.03%, scale update: True), in 13.78sec\n",
      "caught 9 linalg singular matrix errors\n",
      "iter  37: ll=26991636.666870, converged: 99.03% (loc: 99.84%, scale update: False), in 2.50sec\n",
      "caught 7 linalg singular matrix errors\n",
      "iter  38: ll=26991634.794146, converged: 99.03% (loc: 99.96%, scale update: False), in 0.95sec\n",
      "iter  39: ll=26991632.942173, converged: 99.03% (loc: 99.97%, scale update: False), in 0.70sec\n",
      "caught 1 linalg singular matrix errors\n",
      "iter  40: ll=26991632.417813, converged: 99.03% (loc: 99.98%, scale update: False), in 0.59sec\n",
      "iter  41: ll=26991631.920341, converged: 99.03% (loc: 99.98%, scale update: False), in 0.59sec\n",
      "Fitting 124 dispersion models: (progress not available with multiprocessing)"
     ]
    },
    {
     "name": "stderr",
     "output_type": "stream",
     "text": [
      "/usr/lib/python3.10/multiprocessing/popen_fork.py:66: RuntimeWarning: os.fork() was called. os.fork() is incompatible with multithreaded code, and JAX is multithreaded, so this will likely lead to a deadlock.\n",
      "  self.pid = os.fork()\n"
     ]
    },
    {
     "name": "stdout",
     "output_type": "stream",
     "text": [
      "iter  42: ll=26990711.161920, converged: 99.81% (loc: 99.81%, scale update: True), in 11.32sec\n",
      "caught 10 linalg singular matrix errors\n",
      "iter  43: ll=26990708.310222, converged: 99.81% (loc: 99.95%, scale update: False), in 1.11sec\n",
      "caught 2 linalg singular matrix errors\n",
      "iter  44: ll=26990707.992885, converged: 99.81% (loc: 99.98%, scale update: False), in 0.68sec\n",
      "iter  45: ll=26990707.863893, converged: 99.81% (loc: 99.99%, scale update: False), in 0.52sec\n",
      "iter  46: ll=26990707.845930, converged: 99.81% (loc: 99.99%, scale update: False), in 0.47sec\n",
      "iter  47: ll=26990707.845289, converged: 99.81% (loc: 99.99%, scale update: False), in 0.45sec\n",
      "Fitting 24 dispersion models: (progress not available with multiprocessing)"
     ]
    },
    {
     "name": "stderr",
     "output_type": "stream",
     "text": [
      "/usr/lib/python3.10/multiprocessing/popen_fork.py:66: RuntimeWarning: os.fork() was called. os.fork() is incompatible with multithreaded code, and JAX is multithreaded, so this will likely lead to a deadlock.\n",
      "  self.pid = os.fork()\n"
     ]
    },
    {
     "name": "stdout",
     "output_type": "stream",
     "text": [
      "iter  48: ll=26990700.995267, converged: 99.95% (loc: 99.95%, scale update: True), in 9.78sec\n",
      "caught 2 linalg singular matrix errors\n",
      "iter  49: ll=26990700.995242, converged: 99.95% (loc: 99.99%, scale update: False), in 0.60sec\n",
      "iter  50: ll=26990700.995238, converged: 99.95% (loc: 99.99%, scale update: False), in 0.42sec\n",
      "iter  51: ll=26990700.995238, converged: 99.95% (loc: 99.99%, scale update: False), in 0.42sec\n",
      "iter  52: ll=26990700.995238, converged: 99.95% (loc: 99.99%, scale update: False), in 0.42sec\n",
      "iter  53: ll=26990700.995238, converged: 99.95% (loc: 100.00%, scale update: False), in 0.45sec\n",
      "Fitting 7 dispersion models: (progress not available with multiprocessing)"
     ]
    },
    {
     "name": "stderr",
     "output_type": "stream",
     "text": [
      "/usr/lib/python3.10/multiprocessing/popen_fork.py:66: RuntimeWarning: os.fork() was called. os.fork() is incompatible with multithreaded code, and JAX is multithreaded, so this will likely lead to a deadlock.\n",
      "  self.pid = os.fork()\n"
     ]
    },
    {
     "name": "stdout",
     "output_type": "stream",
     "text": [
      "iter  54: ll=26990700.995238, converged: 99.99% (loc: 99.99%, scale update: True), in 7.53sec\n",
      "iter  55: ll=26990700.995238, converged: 99.99% (loc: 100.00%, scale update: False), in 0.42sec\n",
      "iter  56: ll=26990700.995238, converged: 100.00% (loc: 100.00%, scale update: True), in 0.39sec\n"
     ]
    },
    {
     "name": "stderr",
     "output_type": "stream",
     "text": [
      "/usr/local/lib/python3.10/dist-packages/dask/array/core.py:2894: RuntimeWarning: divide by zero encountered in divide\n",
      "  size = (limit / dtype.itemsize / largest_block) ** (1 / len(autos))\n"
     ]
    }
   ],
   "source": [
    "for clust in adata.obs['cell_types_used'].cat.categories:\n",
    "    adata_tmp = adata[adata.obs['cell_types_used'] == clust,:].copy()\n",
    "\n",
    "    print(f'In cluster {clust}:')\n",
    "    print(adata_tmp.obs.condition.value_counts())\n",
    "\n",
    "    # Filter out genes to reduce multiple testing burden\n",
    "    sc.pp.filter_genes(adata_tmp, min_cells=50)\n",
    "    print(f'Testing {adata_tmp.n_vars} genes...')\n",
    "    print(\"\")\n",
    "    \n",
    "    test_tmp = de.test.wald(\n",
    "    data=adata_tmp.layers['soupX_counts'],\n",
    "    formula_loc=\"~ 1 + cultivation_period + donor_period + size_factors\",\n",
    "    as_numeric=['size_factors'],\n",
    "    coef_to_test=['cultivation_period[T.hp]'],\n",
    "    sample_description=adata_tmp.obs,\n",
    "    gene_names=adata_tmp.var['gene_ids'].astype(str),\n",
    "    constraints_loc={'donor_period':'cultivation_period'},\n",
    "    noise_model='nb',\n",
    "    dtype=\"float64\"\n",
    "    )\n",
    "    \n",
    "    #Store the results\n",
    "    de_results_overall[clust] = test_tmp\n",
    "    "
   ]
  },
  {
   "cell_type": "markdown",
   "metadata": {},
   "source": [
    "### Bulk-like DE testing across all clusters"
   ]
  },
  {
   "cell_type": "code",
   "execution_count": null,
   "metadata": {
    "scrolled": true
   },
   "outputs": [
    {
     "name": "stdout",
     "output_type": "stream",
     "text": [
      "condition\n",
      "Parkinson    38032\n",
      "Control      23368\n",
      "Name: count, dtype: int64\n",
      "filtered out 670 genes that are detected in less than 50 cells\n",
      "Testing 16696 genes...\n",
      "\n"
     ]
    },
    {
     "name": "stderr",
     "output_type": "stream",
     "text": [
      "Built constraints: donor_period[UKERi1E4-R1-003_lp]+donor_period[UKERi1JF-R1-018_lp]+donor_period[UKERi82A-R1-002_lp]+donor_period[UKERi88H-R1-002_lp]+donor_period[UKERiAY6-R1-003_lp]+donor_period[UKERiC99-R1-007_lp]+donor_period[UKERiG3G-R1-039_lp]+donor_period[UKERiJ2C-R1-015_lp]+donor_period[UKERiM89-R1-005_lp]+donor_period[UKERiO3H-R1-005_lp]+donor_period[UKERiPX7-R1-001_lp]+donor_period[UKERiR66-R1-007_lp]=0, donor_period[UKERi1E4-R1-003_hp]+donor_period[UKERi1JF-R1-018_hp]+donor_period[UKERi82A-R1-002_hp]+donor_period[UKERi88H-R1-002_hp]+donor_period[UKERiAY6-R1-003_hp]+donor_period[UKERiC99-R1-007_hp]+donor_period[UKERiG3G-R1-039_hp]+donor_period[UKERiJ2C-R1-015_hp]+donor_period[UKERiM89-R1-005_hp]+donor_period[UKERiO3H-R1-005_hp]+donor_period[UKERiPX7-R1-001_hp]+donor_period[UKERiR66-R1-007_hp]=0\n",
      "/usr/local/lib/python3.10/dist-packages/batchglm/models/base_glm/utils.py:158: PerformanceWarning: Slicing is producing a large chunk. To accept the large\n",
      "chunk and silence this warning, set the option\n",
      "    >>> with dask.config.set(**{'array.slicing.split_large_chunks': False}):\n",
      "    ...     array[indexer]\n",
      "\n",
      "To avoid creating the large chunks, set the option\n",
      "    >>> with dask.config.set(**{'array.slicing.split_large_chunks': True}):\n",
      "    ...     array[indexer]\n",
      "  np.mean(x[np.where(grouping == g)[0], :], axis=0)\n",
      "/usr/local/lib/python3.10/dist-packages/batchglm/models/base_glm/utils.py:171: PerformanceWarning: Slicing is producing a large chunk. To accept the large\n",
      "chunk and silence this warning, set the option\n",
      "    >>> with dask.config.set(**{'array.slicing.split_large_chunks': False}):\n",
      "    ...     array[indexer]\n",
      "\n",
      "To avoid creating the large chunks, set the option\n",
      "    >>> with dask.config.set(**{'array.slicing.split_large_chunks': True}):\n",
      "    ...     array[indexer]\n",
      "  expect_xsq = np.vstack([np.mean(np.square(x[np.where(grouping == g)[0], :]), axis=0)\n"
     ]
    },
    {
     "name": "stdout",
     "output_type": "stream",
     "text": [
      "training location model: True\n",
      "training scale model: True\n",
      "iter   0: ll=775942732.966850\n"
     ]
    }
   ],
   "source": [
    "# Make a copy for the testing\n",
    "adata_test = adata.copy()\n",
    "\n",
    "print(adata_test.obs.condition.value_counts())\n",
    "\n",
    "# Filter out genes to reduce multiple testing burden\n",
    "sc.pp.filter_genes(adata_test, min_cells=50)\n",
    "print(f'Testing {adata_test.n_vars} genes...')\n",
    "print(\"\")\n",
    "    \n",
    "test_bulk_overall = de.test.wald(\n",
    "    data=adata_test.layers['soupX_counts'],\n",
    "    formula_loc=\"~ 1 + cultivation_period + donor_period + size_factors\",\n",
    "    as_numeric=['size_factors'],\n",
    "    coef_to_test=['cultivation_period[T.hp]'],\n",
    "    sample_description=adata_test.obs,\n",
    "    gene_names=adata_test.var['gene_ids'].astype(str),\n",
    "    constraints_loc={'donor_period':'cultivation_period'},\n",
    "    noise_model='nb',\n",
    "    dtype=\"float64\"\n",
    ")\n"
   ]
  },
  {
   "cell_type": "markdown",
   "metadata": {},
   "source": [
    "### Post-process data"
   ]
  },
  {
   "cell_type": "code",
   "execution_count": 23,
   "metadata": {},
   "outputs": [],
   "source": [
    "# extract gene symbol - gene_ids informations for later conversion\n",
    "df_var = pd.DataFrame(adata.var)\n",
    "df_var = df_var[['gene_symbols', 'gene_ids']]\n",
    "df_var.reset_index(inplace=True) \n",
    "df_var = df_var.drop(columns='index')"
   ]
  },
  {
   "cell_type": "code",
   "execution_count": 24,
   "metadata": {},
   "outputs": [
    {
     "name": "stdout",
     "output_type": "stream",
     "text": [
      "There are 0 -inf log likelihood values. Filtering these out now...\n",
      "There are 117 logFC std. dev.s < 10E-100. Filtering these out now...\n",
      "There are 0 -inf log likelihood values. Filtering these out now...\n",
      "There are 2 logFC std. dev.s < 10E-100. Filtering these out now...\n",
      "There are 0 -inf log likelihood values. Filtering these out now...\n",
      "There are 30 logFC std. dev.s < 10E-100. Filtering these out now...\n",
      "There are 0 -inf log likelihood values. Filtering these out now...\n",
      "There are 54 logFC std. dev.s < 10E-100. Filtering these out now...\n",
      "There are 0 -inf log likelihood values. Filtering these out now...\n",
      "There are 168 logFC std. dev.s < 10E-100. Filtering these out now...\n",
      "There are 0 -inf log likelihood values. Filtering these out now...\n",
      "There are 30 logFC std. dev.s < 10E-100. Filtering these out now...\n",
      "There are 0 -inf log likelihood values. Filtering these out now...\n",
      "There are 15 logFC std. dev.s < 10E-100. Filtering these out now...\n",
      "There are 0 -inf log likelihood values. Filtering these out now...\n",
      "There are 115 logFC std. dev.s < 10E-100. Filtering these out now...\n",
      "There are 0 -inf log likelihood values. Filtering these out now...\n",
      "There are 23 logFC std. dev.s < 10E-100. Filtering these out now...\n"
     ]
    }
   ],
   "source": [
    "de_signif_overall = dict()\n",
    "de_full_res_overall = dict()\n",
    "\n",
    "for clust in de_results_overall:\n",
    "    tmp = de_results_overall[clust].summary()\n",
    "    \n",
    "    # add gene symbols\n",
    "    tmp = tmp.rename(columns = {\"gene\" : \"gene_ids\"})\n",
    "    tmp = tmp.merge(df_var, how = 'inner', on='gene_ids')\n",
    "\n",
    "    n_infll = np.sum(tmp['ll'] == np.float64('-inf'))\n",
    "    print(f'There are {n_infll} -inf log likelihood values. Filtering these out now...')\n",
    "    tmp = tmp.loc[tmp['ll'] != np.float64('-inf')]\n",
    "\n",
    "    n_unconverged = np.sum(tmp['coef_sd'] < 10E-100)\n",
    "    print(f'There are {n_unconverged} logFC std. dev.s < 10E-100. Filtering these out now...')    \n",
    "    tmp = tmp.loc[tmp['coef_sd'] > 10E-100]\n",
    "    \n",
    "    #Sort values by q-value\n",
    "    tmp.sort_values(by='qval', ascending=True, inplace=True)\n",
    "    \n",
    "    de_full_res_overall[clust] = tmp.copy()\n",
    "    \n",
    "    #Filter by q-value to get significant DE genes\n",
    "    tmp_filt = tmp.loc[tmp['qval'] < 0.05]\n",
    "    de_signif_overall[clust] = tmp_filt.copy()"
   ]
  },
  {
   "cell_type": "code",
   "execution_count": null,
   "metadata": {},
   "outputs": [],
   "source": [
    "# bulk-like data\n",
    "bulk_res_overall = test_bulk_overall.summary()\n",
    "\n",
    "bulk_res_overall = bulk_res_overall.rename(columns = {\"gene\" : \"gene_ids\"})\n",
    "bulk_res_overall = bulk_res_overall.merge(df_var, how = 'inner', on='gene_ids')\n",
    "\n",
    "n_infll = np.sum(bulk_res_overall['ll'] == np.float64('-inf'))\n",
    "print(f'There are {n_infll} -inf log likelihood values. Filtering these out now...')\n",
    "bulk_res_overall = bulk_res_overall.loc[bulk_res_overall['ll'] != np.float64('-inf')]\n",
    "\n",
    "n_unconverged = np.sum(bulk_res_overall['coef_sd'] < 10E-100)\n",
    "print(f'There are {n_unconverged} logFC std. dev.s < 10E-100. Filtering these out now...')    \n",
    "bulk_res_overall = bulk_res_overall.loc[bulk_res_overall['coef_sd'] > 10E-100]\n",
    "\n",
    "#Sort values by q-value\n",
    "bulk_res_overall.sort_values(by='qval', ascending=True, inplace=True)\n",
    "        \n",
    "#Filter by q-value to get significant DE genes\n",
    "bulk_res_filt_overall = bulk_res_overall.loc[bulk_res_overall['qval'] < 0.05]\n"
   ]
  },
  {
   "cell_type": "markdown",
   "metadata": {},
   "source": [
    "### Show DEGs"
   ]
  },
  {
   "cell_type": "code",
   "execution_count": 25,
   "metadata": {},
   "outputs": [
    {
     "name": "stdout",
     "output_type": "stream",
     "text": [
      "DEGs at FDR < 0.05:\n"
     ]
    },
    {
     "data": {
      "text/plain": [
       "{'Apop.-NCSC': 209,\n",
       " 'Apop.-NSC': 3033,\n",
       " 'Glial-precursors': 995,\n",
       " 'Immature-neurons': 2081,\n",
       " 'NCSC': 774,\n",
       " 'NSC1a': 9747,\n",
       " 'NSC1b': 9791,\n",
       " 'NSC2a': 3843,\n",
       " 'NSC2b': 3639}"
      ]
     },
     "execution_count": 25,
     "metadata": {},
     "output_type": "execute_result"
    },
    {
     "name": "stdout",
     "output_type": "stream",
     "text": [
      "DEGs at FDR < 0.01:\n"
     ]
    },
    {
     "data": {
      "text/plain": [
       "{'Apop.-NCSC': 169,\n",
       " 'Apop.-NSC': 2758,\n",
       " 'Glial-precursors': 775,\n",
       " 'Immature-neurons': 1664,\n",
       " 'NCSC': 610,\n",
       " 'NSC1a': 8964,\n",
       " 'NSC1b': 9033,\n",
       " 'NSC2a': 3127,\n",
       " 'NSC2b': 2885}"
      ]
     },
     "execution_count": 25,
     "metadata": {},
     "output_type": "execute_result"
    }
   ],
   "source": [
    "# Number of differentially expressed genes (DEGs)\n",
    "print('DEGs at FDR < 0.05:')\n",
    "{clust:de_signif_overall[clust].shape[0] for clust in de_signif_overall}\n",
    "\n",
    "print('DEGs at FDR < 0.01:')\n",
    "{clust:de_signif_overall[clust].loc[(de_signif_overall[clust]['qval']<0.01)].shape[0] for clust in de_signif_overall}"
   ]
  },
  {
   "cell_type": "code",
   "execution_count": null,
   "metadata": {},
   "outputs": [],
   "source": [
    "#DEGs in bulk-like data\n",
    "print('DEGs at FDR < 0.05:')\n",
    "print(f'Bulk: {bulk_res_filt_overall.shape[0]}')\n",
    "\n",
    "print('DEGs at FDR < 0.01:')\n",
    "degnum001 = bulk_res_filt_overall.loc[(bulk_res_filt_overall['qval']<0.01)].shape[0]\n",
    "print(f'Bulk: {degnum001}')"
   ]
  },
  {
   "cell_type": "markdown",
   "metadata": {},
   "source": [
    "Notes:\n",
    "- there are quite a lot of DEGs at FDR < 0.05 and at FDR < 0.01\n",
    "- Could use either threshold, FDR < 0.01 would be okay for higher confidence"
   ]
  },
  {
   "cell_type": "markdown",
   "metadata": {},
   "source": [
    "### Save data"
   ]
  },
  {
   "cell_type": "code",
   "execution_count": 26,
   "metadata": {},
   "outputs": [],
   "source": [
    "import pickle"
   ]
  },
  {
   "cell_type": "code",
   "execution_count": 27,
   "metadata": {},
   "outputs": [],
   "source": [
    "#Pickle the de output\n",
    "filename_pickle = save_dir+'diffxpy/'+resolution+'_diffxpy_cell_types_sf_overall.pkl'\n",
    "pickle.dump(de_results_overall, open(filename_pickle, \"wb\"))"
   ]
  },
  {
   "cell_type": "code",
   "execution_count": 28,
   "metadata": {},
   "outputs": [],
   "source": [
    "#Output individual results\n",
    "for clust in de_signif_overall:\n",
    "    \n",
    "    filename_signif = save_dir+'diffxpy/'+resolution+'_diffxpy_'+clust.replace(' ', '_').replace(\n",
    "        '/','_').replace('(','').replace(')','')+'_diff_res_overall.csv'\n",
    "    filename_full = save_dir+'diffxpy/'+resolution+'_diffxpy_'+clust.replace(' ', '_').replace(\n",
    "        '/','_').replace('(','').replace(')','')+'_res-table_overall.csv'\n",
    "    \n",
    "    de_signif_overall[clust].to_csv(filename_signif)\n",
    "    de_full_res_overall[clust].to_csv(filename_full)"
   ]
  },
  {
   "cell_type": "code",
   "execution_count": null,
   "metadata": {},
   "outputs": [],
   "source": [
    "#Pick the DE output - Bulk-like\n",
    "de_output_pickle_bulk = save_dir+'diffxpy/'+resolution+'_diffxpy_bulk_sf_overall.pkl'\n",
    "pickle.dump(test_bulk_overall, open(de_output_pickle_bulk, \"wb\"))"
   ]
  },
  {
   "cell_type": "code",
   "execution_count": null,
   "metadata": {},
   "outputs": [],
   "source": [
    "#Output individual results - Bulk-like\n",
    "\n",
    "filename_signif = save_dir+'diffxpy/'+resolution+'_diffxpy_bulk_like_diff_res_overall.csv'\n",
    "filename_full = save_dir+'diffxpy/'+resolution+'_diffxpy_bulk_like_res-table_overall.csv'\n",
    "    \n",
    "bulk_res_overall_filt.iloc[:,[0,2,3,4,8]].to_csv(filename_signif)\n",
    "bulk_res_overall.iloc[:,[0,2,3,4,8]].to_csv(filename_full)"
   ]
  },
  {
   "cell_type": "code",
   "execution_count": null,
   "metadata": {},
   "outputs": [],
   "source": [
    "#del bulk_res_overall_filt\n",
    "#del bulk_res_overall\n",
    "#del test_bulk_overall\n",
    "del de_signif_overall\n",
    "del de_full_res_overall\n",
    "del de_results_overall"
   ]
  },
  {
   "cell_type": "markdown",
   "metadata": {
    "jp-MarkdownHeadingCollapsed": true
   },
   "source": [
    "## Differential expression testing (ctrl)"
   ]
  },
  {
   "cell_type": "markdown",
   "metadata": {
    "jp-MarkdownHeadingCollapsed": true
   },
   "source": [
    "### Cell type specific DE testing"
   ]
  },
  {
   "cell_type": "code",
   "execution_count": 22,
   "metadata": {},
   "outputs": [],
   "source": [
    "adata_ctrl = adata[adata.obs['condition'] == 'Control',:].copy()"
   ]
  },
  {
   "cell_type": "code",
   "execution_count": 23,
   "metadata": {},
   "outputs": [],
   "source": [
    "de_results_ctrl = dict()\n"
   ]
  },
  {
   "cell_type": "code",
   "execution_count": 24,
   "metadata": {},
   "outputs": [
    {
     "data": {
      "text/plain": [
       "['Intercept',\n",
       " 'cultivation_period[T.hp]',\n",
       " 'donor_period[T.UKERi1E4-R1-003_lp]',\n",
       " 'donor_period[T.UKERi1JF-R1-018_hp]',\n",
       " 'donor_period[T.UKERi1JF-R1-018_lp]',\n",
       " 'donor_period[T.UKERi82A-R1-002_hp]',\n",
       " 'donor_period[T.UKERi82A-R1-002_lp]',\n",
       " 'donor_period[T.UKERiG3G-R1-039_hp]',\n",
       " 'donor_period[T.UKERiG3G-R1-039_lp]',\n",
       " 'donor_period[T.UKERiO3H-R1-005_hp]',\n",
       " 'donor_period[T.UKERiO3H-R1-005_lp]']"
      ]
     },
     "execution_count": 24,
     "metadata": {},
     "output_type": "execute_result"
    }
   ],
   "source": [
    "de.utils.preview_coef_names(\n",
    "    sample_description=adata_ctrl.obs,\n",
    "    formula=\"~1 + cultivation_period + donor_period\", \n",
    ")"
   ]
  },
  {
   "cell_type": "code",
   "execution_count": 23,
   "metadata": {
    "scrolled": true
   },
   "outputs": [
    {
     "name": "stdout",
     "output_type": "stream",
     "text": [
      "In cluster Apop.-NCSC:\n",
      "condition\n",
      "Control    167\n",
      "Name: count, dtype: int64\n",
      "filtered out 15483 genes that are detected in less than 50 cells\n"
     ]
    },
    {
     "name": "stderr",
     "output_type": "stream",
     "text": [
      "Built constraints: donor_period[UKERi1E4-R1-003_lp]+donor_period[UKERi1JF-R1-018_lp]+donor_period[UKERi82A-R1-002_lp]+donor_period[UKERiG3G-R1-039_lp]+donor_period[UKERiO3H-R1-005_lp]=0, donor_period[UKERi1E4-R1-003_hp]+donor_period[UKERi82A-R1-002_hp]+donor_period[UKERiO3H-R1-005_hp]=0\n"
     ]
    },
    {
     "name": "stdout",
     "output_type": "stream",
     "text": [
      "Testing 1883 genes...\n",
      "\n",
      "training location model: True\n",
      "training scale model: True\n",
      "iter   0: ll=1338551.702226\n",
      "iter   1: ll=1314965.074088, converged: 0.00% (loc: 1.86%, scale update: False), in 0.37sec\n",
      "iter   2: ll=1306903.201372, converged: 0.00% (loc: 3.93%, scale update: False), in 0.34sec\n",
      "iter   3: ll=1304785.228724, converged: 0.00% (loc: 3.93%, scale update: False), in 0.33sec\n",
      "iter   4: ll=1304227.070731, converged: 0.00% (loc: 3.93%, scale update: False), in 0.33sec\n",
      "iter   5: ll=1304090.308958, converged: 0.00% (loc: 4.14%, scale update: False), in 0.34sec\n",
      "Fitting 1883 dispersion models: (progress not available with multiprocessing)"
     ]
    },
    {
     "name": "stderr",
     "output_type": "stream",
     "text": [
      "/usr/lib/python3.10/multiprocessing/popen_fork.py:66: RuntimeWarning: os.fork() was called. os.fork() is incompatible with multithreaded code, and JAX is multithreaded, so this will likely lead to a deadlock.\n",
      "  self.pid = os.fork()\n"
     ]
    },
    {
     "name": "stdout",
     "output_type": "stream",
     "text": [
      "iter   6: ll=439429.086393, converged: 0.05% (loc: 0.05%, scale update: True), in 4.45sec\n",
      "iter   7: ll=438913.749387, converged: 0.05% (loc: 4.46%, scale update: False), in 0.33sec\n",
      "iter   8: ll=438822.104313, converged: 0.05% (loc: 6.64%, scale update: False), in 0.35sec\n",
      "iter   9: ll=438804.069207, converged: 0.05% (loc: 11.42%, scale update: False), in 0.33sec\n",
      "iter  10: ll=438799.520397, converged: 0.05% (loc: 27.19%, scale update: False), in 0.33sec\n",
      "iter  11: ll=438798.378712, converged: 0.05% (loc: 36.80%, scale update: False), in 0.33sec\n",
      "Fitting 1882 dispersion models: (progress not available with multiprocessing)"
     ]
    },
    {
     "name": "stderr",
     "output_type": "stream",
     "text": [
      "/usr/lib/python3.10/multiprocessing/popen_fork.py:66: RuntimeWarning: os.fork() was called. os.fork() is incompatible with multithreaded code, and JAX is multithreaded, so this will likely lead to a deadlock.\n",
      "  self.pid = os.fork()\n"
     ]
    },
    {
     "name": "stdout",
     "output_type": "stream",
     "text": [
      "iter  12: ll=426732.837152, converged: 4.04% (loc: 4.04%, scale update: True), in 2.59sec\n",
      "iter  13: ll=426721.886286, converged: 4.04% (loc: 17.79%, scale update: False), in 0.35sec\n",
      "iter  14: ll=426721.482520, converged: 4.04% (loc: 32.24%, scale update: False), in 0.33sec\n",
      "iter  15: ll=426721.428628, converged: 4.04% (loc: 45.57%, scale update: False), in 0.32sec\n",
      "iter  16: ll=426721.414237, converged: 4.04% (loc: 50.61%, scale update: False), in 0.33sec\n",
      "iter  17: ll=426721.409500, converged: 4.04% (loc: 52.89%, scale update: False), in 0.31sec\n",
      "Fitting 1807 dispersion models: (progress not available with multiprocessing)"
     ]
    },
    {
     "name": "stderr",
     "output_type": "stream",
     "text": [
      "/usr/lib/python3.10/multiprocessing/popen_fork.py:66: RuntimeWarning: os.fork() was called. os.fork() is incompatible with multithreaded code, and JAX is multithreaded, so this will likely lead to a deadlock.\n",
      "  self.pid = os.fork()\n"
     ]
    },
    {
     "name": "stdout",
     "output_type": "stream",
     "text": [
      "iter  18: ll=417173.568265, converged: 16.52% (loc: 16.52%, scale update: True), in 2.45sec\n",
      "iter  19: ll=417170.132624, converged: 16.52% (loc: 45.62%, scale update: False), in 0.34sec\n",
      "iter  20: ll=417170.126756, converged: 16.52% (loc: 54.54%, scale update: False), in 0.32sec\n",
      "iter  21: ll=417170.126206, converged: 16.52% (loc: 61.23%, scale update: False), in 0.32sec\n",
      "iter  22: ll=417170.126101, converged: 16.52% (loc: 84.44%, scale update: False), in 0.32sec\n",
      "iter  23: ll=417170.126073, converged: 16.52% (loc: 97.29%, scale update: False), in 0.30sec\n",
      "Fitting 1572 dispersion models: (progress not available with multiprocessing)"
     ]
    },
    {
     "name": "stderr",
     "output_type": "stream",
     "text": [
      "/usr/lib/python3.10/multiprocessing/popen_fork.py:66: RuntimeWarning: os.fork() was called. os.fork() is incompatible with multithreaded code, and JAX is multithreaded, so this will likely lead to a deadlock.\n",
      "  self.pid = os.fork()\n"
     ]
    },
    {
     "name": "stdout",
     "output_type": "stream",
     "text": [
      "iter  24: ll=412126.937675, converged: 44.45% (loc: 44.45%, scale update: True), in 2.18sec\n",
      "iter  25: ll=412126.851133, converged: 44.45% (loc: 91.02%, scale update: False), in 0.33sec\n",
      "iter  26: ll=412126.849094, converged: 44.45% (loc: 96.18%, scale update: False), in 0.30sec\n",
      "iter  27: ll=412126.849083, converged: 44.45% (loc: 98.35%, scale update: False), in 0.30sec\n",
      "iter  28: ll=412126.849082, converged: 44.45% (loc: 99.58%, scale update: False), in 0.24sec\n",
      "iter  29: ll=412126.849082, converged: 44.45% (loc: 99.89%, scale update: False), in 0.17sec\n",
      "Fitting 1046 dispersion models: (progress not available with multiprocessing)"
     ]
    },
    {
     "name": "stderr",
     "output_type": "stream",
     "text": [
      "/usr/lib/python3.10/multiprocessing/popen_fork.py:66: RuntimeWarning: os.fork() was called. os.fork() is incompatible with multithreaded code, and JAX is multithreaded, so this will likely lead to a deadlock.\n",
      "  self.pid = os.fork()\n"
     ]
    },
    {
     "name": "stdout",
     "output_type": "stream",
     "text": [
      "iter  30: ll=410531.896923, converged: 89.86% (loc: 89.86%, scale update: True), in 1.51sec\n",
      "iter  31: ll=410531.857386, converged: 89.86% (loc: 96.81%, scale update: False), in 0.30sec\n",
      "iter  32: ll=410531.857375, converged: 89.86% (loc: 98.94%, scale update: False), in 0.29sec\n",
      "iter  33: ll=410531.857374, converged: 89.86% (loc: 99.68%, scale update: False), in 0.22sec\n",
      "iter  34: ll=410531.857374, converged: 89.86% (loc: 99.95%, scale update: False), in 0.15sec\n",
      "iter  35: ll=410531.857374, converged: 89.86% (loc: 100.00%, scale update: False), in 0.10sec\n",
      "Fitting 191 dispersion models: (progress not available with multiprocessing)"
     ]
    },
    {
     "name": "stderr",
     "output_type": "stream",
     "text": [
      "/usr/lib/python3.10/multiprocessing/popen_fork.py:66: RuntimeWarning: os.fork() was called. os.fork() is incompatible with multithreaded code, and JAX is multithreaded, so this will likely lead to a deadlock.\n",
      "  self.pid = os.fork()\n"
     ]
    },
    {
     "name": "stdout",
     "output_type": "stream",
     "text": [
      "iter  36: ll=410101.140704, converged: 96.55% (loc: 96.55%, scale update: True), in 0.58sec\n",
      "iter  37: ll=410101.123022, converged: 96.55% (loc: 98.83%, scale update: False), in 0.28sec\n",
      "iter  38: ll=410101.123022, converged: 96.55% (loc: 99.73%, scale update: False), in 0.22sec\n",
      "caught 2 linalg singular matrix errors\n",
      "iter  39: ll=410101.123021, converged: 96.55% (loc: 99.95%, scale update: False), in 0.14sec\n",
      "caught 1 linalg singular matrix errors\n",
      "iter  40: ll=410101.123021, converged: 96.55% (loc: 100.00%, scale update: False), in 0.09sec\n",
      "Fitting 65 dispersion models: (progress not available with multiprocessing)"
     ]
    },
    {
     "name": "stderr",
     "output_type": "stream",
     "text": [
      "/usr/lib/python3.10/multiprocessing/popen_fork.py:66: RuntimeWarning: os.fork() was called. os.fork() is incompatible with multithreaded code, and JAX is multithreaded, so this will likely lead to a deadlock.\n",
      "  self.pid = os.fork()\n"
     ]
    },
    {
     "name": "stdout",
     "output_type": "stream",
     "text": [
      "iter  41: ll=409798.454414, converged: 98.73% (loc: 98.73%, scale update: True), in 0.44sec\n",
      "caught 3 linalg singular matrix errors\n",
      "iter  42: ll=409798.454412, converged: 98.73% (loc: 99.68%, scale update: False), in 0.22sec\n",
      "caught 2 linalg singular matrix errors\n",
      "iter  43: ll=409798.454412, converged: 98.73% (loc: 100.00%, scale update: False), in 0.15sec\n",
      "Fitting 24 dispersion models: (progress not available with multiprocessing)"
     ]
    },
    {
     "name": "stderr",
     "output_type": "stream",
     "text": [
      "/usr/lib/python3.10/multiprocessing/popen_fork.py:66: RuntimeWarning: os.fork() was called. os.fork() is incompatible with multithreaded code, and JAX is multithreaded, so this will likely lead to a deadlock.\n",
      "  self.pid = os.fork()\n"
     ]
    },
    {
     "name": "stdout",
     "output_type": "stream",
     "text": [
      "iter  44: ll=409518.084743, converged: 99.58% (loc: 99.58%, scale update: True), in 0.41sec\n",
      "caught 2 linalg singular matrix errors\n",
      "iter  45: ll=409518.084743, converged: 99.58% (loc: 100.00%, scale update: False), in 0.16sec\n",
      "Fitting 8 dispersion models: (progress not available with multiprocessing)"
     ]
    },
    {
     "name": "stderr",
     "output_type": "stream",
     "text": [
      "/usr/lib/python3.10/multiprocessing/popen_fork.py:66: RuntimeWarning: os.fork() was called. os.fork() is incompatible with multithreaded code, and JAX is multithreaded, so this will likely lead to a deadlock.\n",
      "  self.pid = os.fork()\n"
     ]
    },
    {
     "name": "stdout",
     "output_type": "stream",
     "text": [
      "iter  46: ll=409518.084743, converged: 100.00% (loc: 100.00%, scale update: True), in 0.33sec\n"
     ]
    },
    {
     "name": "stderr",
     "output_type": "stream",
     "text": [
      "/usr/local/lib/python3.10/dist-packages/dask/array/core.py:2894: RuntimeWarning: divide by zero encountered in divide\n",
      "  size = (limit / dtype.itemsize / largest_block) ** (1 / len(autos))\n"
     ]
    },
    {
     "name": "stdout",
     "output_type": "stream",
     "text": [
      "In cluster Apop.-NSC:\n",
      "condition\n",
      "Control    1704\n",
      "Name: count, dtype: int64\n",
      "filtered out 6812 genes that are detected in less than 50 cells\n"
     ]
    },
    {
     "name": "stderr",
     "output_type": "stream",
     "text": [
      "Built constraints: donor_period[UKERi1E4-R1-003_lp]+donor_period[UKERi1JF-R1-018_lp]+donor_period[UKERi82A-R1-002_lp]+donor_period[UKERiG3G-R1-039_lp]+donor_period[UKERiO3H-R1-005_lp]=0, donor_period[UKERi1E4-R1-003_hp]+donor_period[UKERi1JF-R1-018_hp]+donor_period[UKERi82A-R1-002_hp]+donor_period[UKERiG3G-R1-039_hp]+donor_period[UKERiO3H-R1-005_hp]=0\n"
     ]
    },
    {
     "name": "stdout",
     "output_type": "stream",
     "text": [
      "Testing 10554 genes...\n",
      "\n",
      "training location model: True\n",
      "training scale model: True\n",
      "iter   0: ll=26791069.487487\n",
      "iter   1: ll=26165594.822882, converged: 0.00% (loc: 2.70%, scale update: False), in 6.50sec\n",
      "iter   2: ll=25983854.192065, converged: 0.00% (loc: 6.64%, scale update: False), in 6.34sec\n",
      "iter   3: ll=25951842.882258, converged: 0.00% (loc: 6.64%, scale update: False), in 5.92sec\n",
      "iter   4: ll=25946720.997008, converged: 0.00% (loc: 6.65%, scale update: False), in 5.91sec\n",
      "iter   5: ll=25945815.942272, converged: 0.00% (loc: 7.02%, scale update: False), in 5.75sec\n",
      "Fitting 10554 dispersion models: (progress not available with multiprocessing)"
     ]
    },
    {
     "name": "stderr",
     "output_type": "stream",
     "text": [
      "/usr/lib/python3.10/multiprocessing/popen_fork.py:66: RuntimeWarning: os.fork() was called. os.fork() is incompatible with multithreaded code, and JAX is multithreaded, so this will likely lead to a deadlock.\n",
      "  self.pid = os.fork()\n"
     ]
    },
    {
     "name": "stdout",
     "output_type": "stream",
     "text": [
      "iter   6: ll=12057890.038056, converged: 0.05% (loc: 0.05%, scale update: True), in 35.79sec\n",
      "iter   7: ll=12052300.947155, converged: 0.05% (loc: 4.62%, scale update: False), in 6.54sec\n",
      "iter   8: ll=12050983.133712, converged: 0.05% (loc: 6.41%, scale update: False), in 6.02sec\n",
      "iter   9: ll=12050640.840128, converged: 0.05% (loc: 14.27%, scale update: False), in 5.82sec\n",
      "iter  10: ll=12050546.912465, converged: 0.05% (loc: 27.73%, scale update: False), in 5.85sec\n",
      "iter  11: ll=12050526.746406, converged: 0.05% (loc: 44.49%, scale update: False), in 4.83sec\n",
      "Fitting 10549 dispersion models: (progress not available with multiprocessing)"
     ]
    },
    {
     "name": "stderr",
     "output_type": "stream",
     "text": [
      "/usr/lib/python3.10/multiprocessing/popen_fork.py:66: RuntimeWarning: os.fork() was called. os.fork() is incompatible with multithreaded code, and JAX is multithreaded, so this will likely lead to a deadlock.\n",
      "  self.pid = os.fork()\n"
     ]
    },
    {
     "name": "stdout",
     "output_type": "stream",
     "text": [
      "iter  12: ll=11841541.166383, converged: 3.91% (loc: 3.91%, scale update: True), in 37.07sec\n",
      "iter  13: ll=11841439.672864, converged: 3.91% (loc: 14.99%, scale update: False), in 6.42sec\n",
      "iter  14: ll=11841433.643814, converged: 3.91% (loc: 28.61%, scale update: False), in 6.16sec\n",
      "iter  15: ll=11841432.218021, converged: 3.91% (loc: 47.48%, scale update: False), in 5.31sec\n",
      "iter  16: ll=11841431.925348, converged: 3.91% (loc: 61.83%, scale update: False), in 4.60sec\n",
      "iter  17: ll=11841431.815969, converged: 3.91% (loc: 65.80%, scale update: False), in 3.82sec\n",
      "Fitting 10141 dispersion models: (progress not available with multiprocessing)"
     ]
    },
    {
     "name": "stderr",
     "output_type": "stream",
     "text": [
      "/usr/lib/python3.10/multiprocessing/popen_fork.py:66: RuntimeWarning: os.fork() was called. os.fork() is incompatible with multithreaded code, and JAX is multithreaded, so this will likely lead to a deadlock.\n",
      "  self.pid = os.fork()\n"
     ]
    },
    {
     "name": "stdout",
     "output_type": "stream",
     "text": [
      "iter  18: ll=11724612.910695, converged: 13.93% (loc: 13.93%, scale update: True), in 38.28sec\n",
      "iter  19: ll=11724538.158741, converged: 13.93% (loc: 44.00%, scale update: False), in 6.88sec\n",
      "iter  20: ll=11724536.527816, converged: 13.93% (loc: 61.59%, scale update: False), in 4.61sec\n",
      "iter  21: ll=11724534.222301, converged: 13.93% (loc: 67.43%, scale update: False), in 4.01sec\n",
      "iter  22: ll=11724534.221406, converged: 13.93% (loc: 80.80%, scale update: False), in 3.59sec\n",
      "iter  23: ll=11724534.221244, converged: 13.93% (loc: 93.48%, scale update: False), in 3.17sec\n",
      "Fitting 9084 dispersion models: (progress not available with multiprocessing)"
     ]
    },
    {
     "name": "stderr",
     "output_type": "stream",
     "text": [
      "/usr/lib/python3.10/multiprocessing/popen_fork.py:66: RuntimeWarning: os.fork() was called. os.fork() is incompatible with multithreaded code, and JAX is multithreaded, so this will likely lead to a deadlock.\n",
      "  self.pid = os.fork()\n"
     ]
    },
    {
     "name": "stdout",
     "output_type": "stream",
     "text": [
      "iter  24: ll=11666172.210778, converged: 42.94% (loc: 42.94%, scale update: True), in 32.37sec\n",
      "iter  25: ll=11666159.683145, converged: 42.94% (loc: 94.32%, scale update: False), in 4.27sec\n",
      "iter  26: ll=11666159.682632, converged: 42.94% (loc: 99.10%, scale update: False), in 2.43sec\n",
      "iter  27: ll=11666159.682619, converged: 42.94% (loc: 99.74%, scale update: False), in 1.39sec\n",
      "iter  28: ll=11666159.682617, converged: 42.94% (loc: 99.91%, scale update: False), in 0.85sec\n",
      "iter  29: ll=11666159.682617, converged: 42.94% (loc: 99.96%, scale update: False), in 0.51sec\n",
      "Fitting 6022 dispersion models: (progress not available with multiprocessing)"
     ]
    },
    {
     "name": "stderr",
     "output_type": "stream",
     "text": [
      "/usr/lib/python3.10/multiprocessing/popen_fork.py:66: RuntimeWarning: os.fork() was called. os.fork() is incompatible with multithreaded code, and JAX is multithreaded, so this will likely lead to a deadlock.\n",
      "  self.pid = os.fork()\n"
     ]
    },
    {
     "name": "stdout",
     "output_type": "stream",
     "text": [
      "iter  30: ll=11641808.179494, converged: 93.67% (loc: 93.67%, scale update: True), in 21.79sec\n",
      "iter  31: ll=11641797.545691, converged: 93.67% (loc: 99.16%, scale update: False), in 2.26sec\n",
      "iter  32: ll=11641797.500741, converged: 93.67% (loc: 99.78%, scale update: False), in 1.56sec\n",
      "iter  33: ll=11641797.500741, converged: 93.67% (loc: 99.95%, scale update: False), in 0.71sec\n",
      "iter  34: ll=11641797.500741, converged: 93.67% (loc: 100.00%, scale update: False), in 0.42sec\n",
      "Fitting 668 dispersion models: (progress not available with multiprocessing)"
     ]
    },
    {
     "name": "stderr",
     "output_type": "stream",
     "text": [
      "/usr/lib/python3.10/multiprocessing/popen_fork.py:66: RuntimeWarning: os.fork() was called. os.fork() is incompatible with multithreaded code, and JAX is multithreaded, so this will likely lead to a deadlock.\n",
      "  self.pid = os.fork()\n"
     ]
    },
    {
     "name": "stdout",
     "output_type": "stream",
     "text": [
      "iter  35: ll=11638863.948286, converged: 99.02% (loc: 99.02%, scale update: True), in 5.74sec\n",
      "iter  36: ll=11638861.278022, converged: 99.02% (loc: 99.86%, scale update: False), in 1.48sec\n",
      "iter  37: ll=11638861.278022, converged: 99.02% (loc: 99.97%, scale update: False), in 0.55sec\n",
      "iter  38: ll=11638861.278022, converged: 99.02% (loc: 100.00%, scale update: False), in 0.42sec\n",
      "Fitting 103 dispersion models: (progress not available with multiprocessing)"
     ]
    },
    {
     "name": "stderr",
     "output_type": "stream",
     "text": [
      "/usr/lib/python3.10/multiprocessing/popen_fork.py:66: RuntimeWarning: os.fork() was called. os.fork() is incompatible with multithreaded code, and JAX is multithreaded, so this will likely lead to a deadlock.\n",
      "  self.pid = os.fork()\n"
     ]
    },
    {
     "name": "stdout",
     "output_type": "stream",
     "text": [
      "iter  39: ll=11638292.050910, converged: 99.83% (loc: 99.83%, scale update: True), in 4.22sec\n",
      "iter  40: ll=11638292.050909, converged: 99.83% (loc: 99.98%, scale update: False), in 0.62sec\n",
      "iter  41: ll=11638292.050909, converged: 99.83% (loc: 100.00%, scale update: False), in 0.37sec\n",
      "Fitting 18 dispersion models: (progress not available with multiprocessing)"
     ]
    },
    {
     "name": "stderr",
     "output_type": "stream",
     "text": [
      "/usr/lib/python3.10/multiprocessing/popen_fork.py:66: RuntimeWarning: os.fork() was called. os.fork() is incompatible with multithreaded code, and JAX is multithreaded, so this will likely lead to a deadlock.\n",
      "  self.pid = os.fork()\n"
     ]
    },
    {
     "name": "stdout",
     "output_type": "stream",
     "text": [
      "iter  42: ll=11638292.050909, converged: 99.98% (loc: 99.98%, scale update: True), in 3.08sec\n",
      "iter  43: ll=11638292.050909, converged: 99.98% (loc: 99.99%, scale update: False), in 0.35sec\n",
      "iter  44: ll=11638292.050909, converged: 99.98% (loc: 100.00%, scale update: False), in 0.33sec\n",
      "iter  45: ll=11638292.050909, converged: 99.99% (loc: 99.99%, scale update: True), in 0.42sec\n",
      "iter  46: ll=11638292.050909, converged: 99.99% (loc: 100.00%, scale update: False), in 0.31sec\n",
      "iter  47: ll=11638292.050909, converged: 100.00% (loc: 100.00%, scale update: True), in 0.30sec\n"
     ]
    },
    {
     "name": "stderr",
     "output_type": "stream",
     "text": [
      "/usr/local/lib/python3.10/dist-packages/dask/array/core.py:2894: RuntimeWarning: divide by zero encountered in divide\n",
      "  size = (limit / dtype.itemsize / largest_block) ** (1 / len(autos))\n"
     ]
    },
    {
     "name": "stdout",
     "output_type": "stream",
     "text": [
      "In cluster Glial-precursors:\n",
      "condition\n",
      "Control    799\n",
      "Name: count, dtype: int64\n",
      "filtered out 6549 genes that are detected in less than 50 cells\n"
     ]
    },
    {
     "name": "stderr",
     "output_type": "stream",
     "text": [
      "Built constraints: donor_period[UKERi1E4-R1-003_lp]+donor_period[UKERi1JF-R1-018_lp]+donor_period[UKERi82A-R1-002_lp]+donor_period[UKERiG3G-R1-039_lp]+donor_period[UKERiO3H-R1-005_lp]=0, donor_period[UKERi1E4-R1-003_hp]+donor_period[UKERiG3G-R1-039_hp]+donor_period[UKERiO3H-R1-005_hp]=0\n"
     ]
    },
    {
     "name": "stdout",
     "output_type": "stream",
     "text": [
      "Testing 10817 genes...\n",
      "\n",
      "training location model: True\n",
      "training scale model: True\n",
      "iter   0: ll=15960252.791931\n",
      "iter   1: ll=15531588.102333, converged: 0.00% (loc: 0.49%, scale update: False), in 3.73sec\n",
      "iter   2: ll=15442329.524702, converged: 0.00% (loc: 2.45%, scale update: False), in 3.74sec\n",
      "iter   3: ll=15432427.294390, converged: 0.00% (loc: 2.45%, scale update: False), in 3.80sec\n",
      "iter   4: ll=15431114.885330, converged: 0.00% (loc: 2.47%, scale update: False), in 3.71sec\n",
      "iter   5: ll=15430797.081116, converged: 0.00% (loc: 3.75%, scale update: False), in 3.69sec\n",
      "Fitting 10817 dispersion models: (progress not available with multiprocessing)"
     ]
    },
    {
     "name": "stderr",
     "output_type": "stream",
     "text": [
      "/usr/lib/python3.10/multiprocessing/popen_fork.py:66: RuntimeWarning: os.fork() was called. os.fork() is incompatible with multithreaded code, and JAX is multithreaded, so this will likely lead to a deadlock.\n",
      "  self.pid = os.fork()\n"
     ]
    },
    {
     "name": "stdout",
     "output_type": "stream",
     "text": [
      "iter   6: ll=8527376.787097, converged: 0.02% (loc: 0.02%, scale update: True), in 24.37sec\n",
      "iter   7: ll=8524994.140716, converged: 0.02% (loc: 1.81%, scale update: False), in 3.60sec\n",
      "iter   8: ll=8524604.317364, converged: 0.02% (loc: 2.79%, scale update: False), in 3.55sec\n",
      "iter   9: ll=8524481.600929, converged: 0.02% (loc: 8.79%, scale update: False), in 3.73sec\n",
      "iter  10: ll=8524422.421367, converged: 0.02% (loc: 20.35%, scale update: False), in 3.64sec\n",
      "iter  11: ll=8524394.892618, converged: 0.02% (loc: 29.71%, scale update: False), in 3.20sec\n",
      "Fitting 10815 dispersion models: (progress not available with multiprocessing)"
     ]
    },
    {
     "name": "stderr",
     "output_type": "stream",
     "text": [
      "/usr/lib/python3.10/multiprocessing/popen_fork.py:66: RuntimeWarning: os.fork() was called. os.fork() is incompatible with multithreaded code, and JAX is multithreaded, so this will likely lead to a deadlock.\n",
      "  self.pid = os.fork()\n"
     ]
    },
    {
     "name": "stdout",
     "output_type": "stream",
     "text": [
      "iter  12: ll=8409368.800292, converged: 1.33% (loc: 1.33%, scale update: True), in 24.51sec\n",
      "iter  13: ll=8409301.335962, converged: 1.33% (loc: 9.74%, scale update: False), in 3.86sec\n",
      "iter  14: ll=8409282.224935, converged: 1.33% (loc: 22.42%, scale update: False), in 3.54sec\n",
      "iter  15: ll=8409269.788304, converged: 1.33% (loc: 33.78%, scale update: False), in 3.28sec\n",
      "iter  16: ll=8409261.148980, converged: 1.33% (loc: 39.30%, scale update: False), in 3.19sec\n",
      "iter  17: ll=8409255.055149, converged: 1.33% (loc: 40.93%, scale update: False), in 2.84sec\n",
      "Fitting 10673 dispersion models: (progress not available with multiprocessing)"
     ]
    },
    {
     "name": "stderr",
     "output_type": "stream",
     "text": [
      "/usr/lib/python3.10/multiprocessing/popen_fork.py:66: RuntimeWarning: os.fork() was called. os.fork() is incompatible with multithreaded code, and JAX is multithreaded, so this will likely lead to a deadlock.\n",
      "  self.pid = os.fork()\n"
     ]
    },
    {
     "name": "stdout",
     "output_type": "stream",
     "text": [
      "iter  18: ll=8345912.083579, converged: 9.04% (loc: 9.04%, scale update: True), in 24.08sec\n",
      "iter  19: ll=8345896.883772, converged: 9.04% (loc: 44.58%, scale update: False), in 3.70sec\n",
      "iter  20: ll=8345892.982394, converged: 9.04% (loc: 87.47%, scale update: False), in 2.67sec\n",
      "iter  21: ll=8345890.708256, converged: 9.04% (loc: 94.60%, scale update: False), in 1.66sec\n",
      "iter  22: ll=8345888.993422, converged: 9.04% (loc: 95.41%, scale update: False), in 1.80sec\n",
      "iter  23: ll=8345887.619384, converged: 9.04% (loc: 98.02%, scale update: False), in 1.49sec\n",
      "Fitting 9839 dispersion models: (progress not available with multiprocessing)"
     ]
    },
    {
     "name": "stderr",
     "output_type": "stream",
     "text": [
      "/usr/lib/python3.10/multiprocessing/popen_fork.py:66: RuntimeWarning: os.fork() was called. os.fork() is incompatible with multithreaded code, and JAX is multithreaded, so this will likely lead to a deadlock.\n",
      "  self.pid = os.fork()\n"
     ]
    },
    {
     "name": "stdout",
     "output_type": "stream",
     "text": [
      "iter  24: ll=8321317.451547, converged: 43.86% (loc: 43.86%, scale update: True), in 22.21sec\n",
      "iter  25: ll=8321311.749497, converged: 43.86% (loc: 97.01%, scale update: False), in 2.84sec\n",
      "iter  26: ll=8321310.976370, converged: 43.86% (loc: 99.50%, scale update: False), in 1.39sec\n",
      "iter  27: ll=8321310.680075, converged: 43.86% (loc: 99.83%, scale update: False), in 0.73sec\n",
      "iter  28: ll=8321310.468265, converged: 43.86% (loc: 99.93%, scale update: False), in 0.48sec\n",
      "iter  29: ll=8321310.258588, converged: 43.86% (loc: 99.94%, scale update: False), in 0.29sec\n",
      "Fitting 6073 dispersion models: (progress not available with multiprocessing)"
     ]
    },
    {
     "name": "stderr",
     "output_type": "stream",
     "text": [
      "/usr/lib/python3.10/multiprocessing/popen_fork.py:66: RuntimeWarning: os.fork() was called. os.fork() is incompatible with multithreaded code, and JAX is multithreaded, so this will likely lead to a deadlock.\n",
      "  self.pid = os.fork()\n"
     ]
    },
    {
     "name": "stdout",
     "output_type": "stream",
     "text": [
      "iter  30: ll=8313257.735954, converged: 96.59% (loc: 96.59%, scale update: True), in 14.77sec\n",
      "iter  31: ll=8313251.411416, converged: 96.59% (loc: 99.64%, scale update: False), in 1.64sec\n",
      "iter  32: ll=8313251.185875, converged: 96.59% (loc: 99.92%, scale update: False), in 0.59sec\n",
      "iter  33: ll=8313250.960386, converged: 96.59% (loc: 99.96%, scale update: False), in 0.27sec\n",
      "iter  34: ll=8313250.734897, converged: 96.59% (loc: 99.99%, scale update: False), in 0.22sec\n",
      "iter  35: ll=8313250.509408, converged: 96.59% (loc: 99.99%, scale update: False), in 0.20sec\n",
      "Fitting 369 dispersion models: (progress not available with multiprocessing)"
     ]
    },
    {
     "name": "stderr",
     "output_type": "stream",
     "text": [
      "/usr/lib/python3.10/multiprocessing/popen_fork.py:66: RuntimeWarning: os.fork() was called. os.fork() is incompatible with multithreaded code, and JAX is multithreaded, so this will likely lead to a deadlock.\n",
      "  self.pid = os.fork()\n"
     ]
    },
    {
     "name": "stdout",
     "output_type": "stream",
     "text": [
      "iter  36: ll=8311211.771141, converged: 99.55% (loc: 99.55%, scale update: True), in 3.48sec\n",
      "iter  37: ll=8311211.525179, converged: 99.55% (loc: 99.94%, scale update: False), in 0.73sec\n",
      "iter  38: ll=8311211.279518, converged: 99.55% (loc: 99.96%, scale update: False), in 0.25sec\n",
      "caught 1 linalg singular matrix errors\n",
      "iter  39: ll=8311211.033860, converged: 99.55% (loc: 99.99%, scale update: False), in 0.22sec\n",
      "iter  40: ll=8311210.788208, converged: 99.55% (loc: 99.99%, scale update: False), in 0.19sec\n",
      "caught 1 linalg singular matrix errors\n",
      "iter  41: ll=8311210.788208, converged: 99.55% (loc: 100.00%, scale update: False), in 0.16sec\n",
      "Fitting 49 dispersion models: (progress not available with multiprocessing)"
     ]
    },
    {
     "name": "stderr",
     "output_type": "stream",
     "text": [
      "/usr/lib/python3.10/multiprocessing/popen_fork.py:66: RuntimeWarning: os.fork() was called. os.fork() is incompatible with multithreaded code, and JAX is multithreaded, so this will likely lead to a deadlock.\n",
      "  self.pid = os.fork()\n"
     ]
    },
    {
     "name": "stdout",
     "output_type": "stream",
     "text": [
      "iter  42: ll=8311060.774518, converged: 99.92% (loc: 99.92%, scale update: True), in 2.57sec\n",
      "caught 2 linalg singular matrix errors\n",
      "iter  43: ll=8311060.708631, converged: 99.92% (loc: 99.98%, scale update: False), in 0.27sec\n",
      "iter  44: ll=8311060.708631, converged: 99.92% (loc: 100.00%, scale update: False), in 0.21sec\n",
      "Fitting 9 dispersion models: (progress not available with multiprocessing)"
     ]
    },
    {
     "name": "stderr",
     "output_type": "stream",
     "text": [
      "/usr/lib/python3.10/multiprocessing/popen_fork.py:66: RuntimeWarning: os.fork() was called. os.fork() is incompatible with multithreaded code, and JAX is multithreaded, so this will likely lead to a deadlock.\n",
      "  self.pid = os.fork()\n"
     ]
    },
    {
     "name": "stdout",
     "output_type": "stream",
     "text": [
      "iter  45: ll=8311060.708620, converged: 99.98% (loc: 99.98%, scale update: True), in 2.20sec\n",
      "iter  46: ll=8311060.708616, converged: 99.98% (loc: 99.99%, scale update: False), in 0.20sec\n",
      "iter  47: ll=8311060.708616, converged: 99.98% (loc: 100.00%, scale update: False), in 0.18sec\n",
      "iter  48: ll=8311060.708615, converged: 99.99% (loc: 99.99%, scale update: True), in 0.21sec\n",
      "caught 1 linalg singular matrix errors\n",
      "iter  49: ll=8311060.708615, converged: 99.99% (loc: 100.00%, scale update: False), in 0.16sec\n",
      "iter  50: ll=8310838.903690, converged: 99.99% (loc: 99.99%, scale update: True), in 0.17sec\n",
      "caught 1 linalg singular matrix errors\n",
      "iter  51: ll=8310838.903690, converged: 99.99% (loc: 100.00%, scale update: False), in 0.15sec\n",
      "iter  52: ll=8310838.903690, converged: 100.00% (loc: 100.00%, scale update: True), in 0.17sec\n"
     ]
    },
    {
     "name": "stderr",
     "output_type": "stream",
     "text": [
      "/usr/local/lib/python3.10/dist-packages/dask/array/core.py:2894: RuntimeWarning: divide by zero encountered in divide\n",
      "  size = (limit / dtype.itemsize / largest_block) ** (1 / len(autos))\n"
     ]
    },
    {
     "name": "stdout",
     "output_type": "stream",
     "text": [
      "In cluster Immature-neurons:\n",
      "condition\n",
      "Control    533\n",
      "Name: count, dtype: int64\n",
      "filtered out 7277 genes that are detected in less than 50 cells\n"
     ]
    },
    {
     "name": "stderr",
     "output_type": "stream",
     "text": [
      "Built constraints: donor_period[UKERi1E4-R1-003_lp]+donor_period[UKERi1JF-R1-018_lp]+donor_period[UKERi82A-R1-002_lp]+donor_period[UKERiG3G-R1-039_lp]+donor_period[UKERiO3H-R1-005_lp]=0, donor_period[UKERi1E4-R1-003_hp]+donor_period[UKERi1JF-R1-018_hp]+donor_period[UKERi82A-R1-002_hp]+donor_period[UKERiG3G-R1-039_hp]+donor_period[UKERiO3H-R1-005_hp]=0\n"
     ]
    },
    {
     "name": "stdout",
     "output_type": "stream",
     "text": [
      "Testing 10089 genes...\n",
      "\n",
      "training location model: True\n",
      "training scale model: True\n",
      "iter   0: ll=10408462.019161\n",
      "iter   1: ll=10128243.517759, converged: 0.00% (loc: 0.07%, scale update: False), in 2.59sec\n",
      "iter   2: ll=10058387.381451, converged: 0.00% (loc: 1.63%, scale update: False), in 2.75sec\n",
      "iter   3: ll=10049011.190005, converged: 0.00% (loc: 1.63%, scale update: False), in 2.84sec\n",
      "iter   4: ll=10047593.056694, converged: 0.00% (loc: 1.67%, scale update: False), in 2.74sec\n",
      "iter   5: ll=10047266.852200, converged: 0.00% (loc: 5.10%, scale update: False), in 2.79sec\n",
      "Fitting 10089 dispersion models: (progress not available with multiprocessing)"
     ]
    },
    {
     "name": "stderr",
     "output_type": "stream",
     "text": [
      "/usr/lib/python3.10/multiprocessing/popen_fork.py:66: RuntimeWarning: os.fork() was called. os.fork() is incompatible with multithreaded code, and JAX is multithreaded, so this will likely lead to a deadlock.\n",
      "  self.pid = os.fork()\n"
     ]
    },
    {
     "name": "stdout",
     "output_type": "stream",
     "text": [
      "iter   6: ll=5609229.675637, converged: 0.00% (loc: 0.00%, scale update: True), in 18.57sec\n",
      "iter   7: ll=5607288.899683, converged: 0.00% (loc: 1.33%, scale update: False), in 2.73sec\n",
      "iter   8: ll=5607077.921421, converged: 0.00% (loc: 3.44%, scale update: False), in 2.64sec\n",
      "iter   9: ll=5607034.216252, converged: 0.00% (loc: 18.43%, scale update: False), in 2.74sec\n",
      "iter  10: ll=5607019.266322, converged: 0.00% (loc: 45.07%, scale update: False), in 2.52sec\n",
      "iter  11: ll=5607012.506851, converged: 0.00% (loc: 62.14%, scale update: False), in 2.32sec\n",
      "Fitting 10089 dispersion models: (progress not available with multiprocessing)"
     ]
    },
    {
     "name": "stderr",
     "output_type": "stream",
     "text": [
      "/usr/lib/python3.10/multiprocessing/popen_fork.py:66: RuntimeWarning: os.fork() was called. os.fork() is incompatible with multithreaded code, and JAX is multithreaded, so this will likely lead to a deadlock.\n",
      "  self.pid = os.fork()\n"
     ]
    },
    {
     "name": "stdout",
     "output_type": "stream",
     "text": [
      "iter  12: ll=5519011.420163, converged: 0.97% (loc: 0.97%, scale update: True), in 18.55sec\n",
      "iter  13: ll=5518952.846287, converged: 0.97% (loc: 16.49%, scale update: False), in 2.88sec\n",
      "iter  14: ll=5518946.270989, converged: 0.97% (loc: 41.95%, scale update: False), in 2.55sec\n",
      "iter  15: ll=5518944.298597, converged: 0.97% (loc: 62.74%, scale update: False), in 2.10sec\n",
      "iter  16: ll=5518943.040022, converged: 0.97% (loc: 75.05%, scale update: False), in 2.03sec\n",
      "iter  17: ll=5518942.364910, converged: 0.97% (loc: 81.02%, scale update: False), in 1.99sec\n",
      "Fitting 9991 dispersion models: (progress not available with multiprocessing)"
     ]
    },
    {
     "name": "stderr",
     "output_type": "stream",
     "text": [
      "/usr/lib/python3.10/multiprocessing/popen_fork.py:66: RuntimeWarning: os.fork() was called. os.fork() is incompatible with multithreaded code, and JAX is multithreaded, so this will likely lead to a deadlock.\n",
      "  self.pid = os.fork()\n"
     ]
    },
    {
     "name": "stdout",
     "output_type": "stream",
     "text": [
      "iter  18: ll=5479583.260283, converged: 15.67% (loc: 15.67%, scale update: True), in 18.50sec\n",
      "iter  19: ll=5479568.596325, converged: 15.67% (loc: 58.11%, scale update: False), in 2.51sec\n",
      "iter  20: ll=5479568.579534, converged: 15.67% (loc: 75.72%, scale update: False), in 2.46sec\n",
      "iter  21: ll=5479568.578213, converged: 15.67% (loc: 82.80%, scale update: False), in 1.70sec\n",
      "iter  22: ll=5479568.577775, converged: 15.67% (loc: 85.88%, scale update: False), in 1.54sec\n",
      "iter  23: ll=5479568.577697, converged: 15.67% (loc: 93.75%, scale update: False), in 1.50sec\n",
      "Fitting 8508 dispersion models: (progress not available with multiprocessing)"
     ]
    },
    {
     "name": "stderr",
     "output_type": "stream",
     "text": [
      "/usr/lib/python3.10/multiprocessing/popen_fork.py:66: RuntimeWarning: os.fork() was called. os.fork() is incompatible with multithreaded code, and JAX is multithreaded, so this will likely lead to a deadlock.\n",
      "  self.pid = os.fork()\n"
     ]
    },
    {
     "name": "stdout",
     "output_type": "stream",
     "text": [
      "iter  24: ll=5462441.930717, converged: 57.19% (loc: 57.19%, scale update: True), in 16.31sec\n",
      "iter  25: ll=5462434.714078, converged: 57.19% (loc: 93.92%, scale update: False), in 2.06sec\n",
      "iter  26: ll=5462434.714050, converged: 57.19% (loc: 99.15%, scale update: False), in 1.31sec\n",
      "iter  27: ll=5462434.714047, converged: 57.19% (loc: 99.84%, scale update: False), in 0.87sec\n",
      "iter  28: ll=5462434.714047, converged: 57.19% (loc: 99.99%, scale update: False), in 0.39sec\n",
      "iter  29: ll=5462434.714046, converged: 57.19% (loc: 99.99%, scale update: False), in 0.19sec\n",
      "Fitting 4319 dispersion models: (progress not available with multiprocessing)"
     ]
    },
    {
     "name": "stderr",
     "output_type": "stream",
     "text": [
      "/usr/lib/python3.10/multiprocessing/popen_fork.py:66: RuntimeWarning: os.fork() was called. os.fork() is incompatible with multithreaded code, and JAX is multithreaded, so this will likely lead to a deadlock.\n",
      "  self.pid = os.fork()\n"
     ]
    },
    {
     "name": "stdout",
     "output_type": "stream",
     "text": [
      "iter  30: ll=5458443.302734, converged: 93.65% (loc: 93.65%, scale update: True), in 9.12sec\n",
      "iter  31: ll=5458443.067829, converged: 93.65% (loc: 99.62%, scale update: False), in 1.40sec\n",
      "iter  32: ll=5458443.054391, converged: 93.65% (loc: 99.98%, scale update: False), in 0.57sec\n",
      "iter  33: ll=5458443.054391, converged: 93.65% (loc: 99.99%, scale update: False), in 0.18sec\n",
      "iter  34: ll=5458443.054391, converged: 93.65% (loc: 100.00%, scale update: False), in 0.17sec\n",
      "Fitting 641 dispersion models: (progress not available with multiprocessing)"
     ]
    },
    {
     "name": "stderr",
     "output_type": "stream",
     "text": [
      "/usr/lib/python3.10/multiprocessing/popen_fork.py:66: RuntimeWarning: os.fork() was called. os.fork() is incompatible with multithreaded code, and JAX is multithreaded, so this will likely lead to a deadlock.\n",
      "  self.pid = os.fork()\n"
     ]
    },
    {
     "name": "stdout",
     "output_type": "stream",
     "text": [
      "iter  35: ll=5458266.301578, converged: 99.59% (loc: 99.59%, scale update: True), in 2.92sec\n",
      "iter  36: ll=5458266.301578, converged: 99.59% (loc: 99.98%, scale update: False), in 0.57sec\n",
      "iter  37: ll=5458266.301578, converged: 99.59% (loc: 100.00%, scale update: False), in 0.18sec\n",
      "Fitting 41 dispersion models: (progress not available with multiprocessing)"
     ]
    },
    {
     "name": "stderr",
     "output_type": "stream",
     "text": [
      "/usr/lib/python3.10/multiprocessing/popen_fork.py:66: RuntimeWarning: os.fork() was called. os.fork() is incompatible with multithreaded code, and JAX is multithreaded, so this will likely lead to a deadlock.\n",
      "  self.pid = os.fork()\n"
     ]
    },
    {
     "name": "stdout",
     "output_type": "stream",
     "text": [
      "iter  38: ll=5458083.514396, converged: 99.98% (loc: 99.98%, scale update: True), in 2.00sec\n",
      "iter  39: ll=5458083.514396, converged: 99.98% (loc: 100.00%, scale update: False), in 0.18sec\n",
      "iter  40: ll=5458083.514396, converged: 100.00% (loc: 100.00%, scale update: True), in 0.18sec\n"
     ]
    },
    {
     "name": "stderr",
     "output_type": "stream",
     "text": [
      "/usr/local/lib/python3.10/dist-packages/dask/array/core.py:2894: RuntimeWarning: divide by zero encountered in divide\n",
      "  size = (limit / dtype.itemsize / largest_block) ** (1 / len(autos))\n"
     ]
    },
    {
     "name": "stdout",
     "output_type": "stream",
     "text": [
      "In cluster NCSC:\n",
      "condition\n",
      "Control    4416\n",
      "Name: count, dtype: int64\n",
      "filtered out 3801 genes that are detected in less than 50 cells\n"
     ]
    },
    {
     "name": "stderr",
     "output_type": "stream",
     "text": [
      "Built constraints: donor_period[UKERi1E4-R1-003_lp]+donor_period[UKERi1JF-R1-018_lp]+donor_period[UKERi82A-R1-002_lp]+donor_period[UKERiG3G-R1-039_lp]+donor_period[UKERiO3H-R1-005_lp]=0, donor_period[UKERi1E4-R1-003_hp]+donor_period[UKERi1JF-R1-018_hp]+donor_period[UKERi82A-R1-002_hp]+donor_period[UKERiG3G-R1-039_hp]+donor_period[UKERiO3H-R1-005_hp]=0\n"
     ]
    },
    {
     "name": "stdout",
     "output_type": "stream",
     "text": [
      "Testing 13565 genes...\n",
      "\n",
      "training location model: True\n",
      "training scale model: True\n",
      "iter   0: ll=58235270.397664\n",
      "iter   1: ll=55992221.093298, converged: 0.00% (loc: 4.91%, scale update: False), in 21.13sec\n",
      "iter   2: ll=55263337.068583, converged: 0.00% (loc: 5.74%, scale update: False), in 20.43sec\n",
      "iter   3: ll=55103034.313213, converged: 0.00% (loc: 5.74%, scale update: False), in 19.62sec\n",
      "iter   4: ll=55069653.788392, converged: 0.00% (loc: 5.74%, scale update: False), in 19.60sec\n",
      "iter   5: ll=55062295.115738, converged: 0.00% (loc: 5.74%, scale update: False), in 20.57sec\n",
      "Fitting 13565 dispersion models: (progress not available with multiprocessing)"
     ]
    },
    {
     "name": "stderr",
     "output_type": "stream",
     "text": [
      "/usr/lib/python3.10/multiprocessing/popen_fork.py:66: RuntimeWarning: os.fork() was called. os.fork() is incompatible with multithreaded code, and JAX is multithreaded, so this will likely lead to a deadlock.\n",
      "  self.pid = os.fork()\n"
     ]
    },
    {
     "name": "stdout",
     "output_type": "stream",
     "text": [
      "iter   6: ll=50011655.864825, converged: 0.04% (loc: 0.04%, scale update: True), in 125.13sec\n",
      "iter   7: ll=49985141.430992, converged: 0.04% (loc: 4.87%, scale update: False), in 20.21sec\n",
      "iter   8: ll=49979495.778494, converged: 0.04% (loc: 4.95%, scale update: False), in 19.62sec\n",
      "iter   9: ll=49977744.262794, converged: 0.04% (loc: 5.15%, scale update: False), in 20.30sec\n",
      "iter  10: ll=49977111.617390, converged: 0.04% (loc: 6.58%, scale update: False), in 19.50sec\n",
      "iter  11: ll=49976811.617178, converged: 0.04% (loc: 11.37%, scale update: False), in 19.67sec\n",
      "Fitting 13560 dispersion models: (progress not available with multiprocessing)"
     ]
    },
    {
     "name": "stderr",
     "output_type": "stream",
     "text": [
      "/usr/lib/python3.10/multiprocessing/popen_fork.py:66: RuntimeWarning: os.fork() was called. os.fork() is incompatible with multithreaded code, and JAX is multithreaded, so this will likely lead to a deadlock.\n",
      "  self.pid = os.fork()\n"
     ]
    },
    {
     "name": "stdout",
     "output_type": "stream",
     "text": [
      "iter  12: ll=49856399.426916, converged: 4.63% (loc: 4.63%, scale update: True), in 125.42sec\n",
      "iter  13: ll=49855842.706840, converged: 4.63% (loc: 6.23%, scale update: False), in 20.54sec\n",
      "iter  14: ll=49855589.616000, converged: 4.63% (loc: 8.21%, scale update: False), in 20.24sec\n",
      "iter  15: ll=49855449.091834, converged: 4.63% (loc: 13.00%, scale update: False), in 19.17sec\n",
      "iter  16: ll=49855362.794344, converged: 4.63% (loc: 18.29%, scale update: False), in 18.57sec\n",
      "iter  17: ll=49855305.319337, converged: 4.63% (loc: 43.71%, scale update: False), in 17.09sec\n",
      "Fitting 12937 dispersion models: (progress not available with multiprocessing)"
     ]
    },
    {
     "name": "stderr",
     "output_type": "stream",
     "text": [
      "/usr/lib/python3.10/multiprocessing/popen_fork.py:66: RuntimeWarning: os.fork() was called. os.fork() is incompatible with multithreaded code, and JAX is multithreaded, so this will likely lead to a deadlock.\n",
      "  self.pid = os.fork()\n"
     ]
    },
    {
     "name": "stdout",
     "output_type": "stream",
     "text": [
      "iter  18: ll=49813422.526606, converged: 6.06% (loc: 6.06%, scale update: True), in 118.96sec\n",
      "iter  19: ll=49813356.480135, converged: 6.06% (loc: 26.41%, scale update: False), in 19.63sec\n",
      "iter  20: ll=49813311.034543, converged: 6.06% (loc: 59.82%, scale update: False), in 16.50sec\n",
      "iter  21: ll=49813271.184266, converged: 6.06% (loc: 86.64%, scale update: False), in 10.99sec\n",
      "iter  22: ll=49813236.348299, converged: 6.06% (loc: 94.55%, scale update: False), in 6.50sec\n",
      "iter  23: ll=49813205.123098, converged: 6.06% (loc: 96.88%, scale update: False), in 5.28sec\n",
      "Fitting 12743 dispersion models: (progress not available with multiprocessing)"
     ]
    },
    {
     "name": "stderr",
     "output_type": "stream",
     "text": [
      "/usr/lib/python3.10/multiprocessing/popen_fork.py:66: RuntimeWarning: os.fork() was called. os.fork() is incompatible with multithreaded code, and JAX is multithreaded, so this will likely lead to a deadlock.\n",
      "  self.pid = os.fork()\n"
     ]
    },
    {
     "name": "stdout",
     "output_type": "stream",
     "text": [
      "iter  24: ll=49782645.184413, converged: 26.11% (loc: 26.11%, scale update: True), in 117.77sec\n",
      "iter  25: ll=49782608.806215, converged: 26.11% (loc: 86.96%, scale update: False), in 15.88sec\n",
      "iter  26: ll=49782575.141618, converged: 26.11% (loc: 97.14%, scale update: False), in 6.44sec\n",
      "iter  27: ll=49782542.710814, converged: 26.11% (loc: 98.79%, scale update: False), in 4.84sec\n",
      "iter  28: ll=49782511.870233, converged: 26.11% (loc: 99.25%, scale update: False), in 3.66sec\n",
      "iter  29: ll=49782483.413405, converged: 26.11% (loc: 99.50%, scale update: False), in 2.84sec\n",
      "Fitting 10023 dispersion models: (progress not available with multiprocessing)"
     ]
    },
    {
     "name": "stderr",
     "output_type": "stream",
     "text": [
      "/usr/lib/python3.10/multiprocessing/popen_fork.py:66: RuntimeWarning: os.fork() was called. os.fork() is incompatible with multithreaded code, and JAX is multithreaded, so this will likely lead to a deadlock.\n",
      "  self.pid = os.fork()\n"
     ]
    },
    {
     "name": "stdout",
     "output_type": "stream",
     "text": [
      "iter  30: ll=49770433.637820, converged: 86.61% (loc: 86.61%, scale update: True), in 93.23sec\n",
      "iter  31: ll=49770396.553737, converged: 86.61% (loc: 98.81%, scale update: False), in 6.60sec\n",
      "iter  32: ll=49770369.929249, converged: 86.61% (loc: 99.40%, scale update: False), in 3.54sec\n",
      "caught 35 linalg singular matrix errors\n",
      "iter  33: ll=49770356.007818, converged: 86.61% (loc: 99.77%, scale update: False), in 2.13sec\n",
      "caught 14 linalg singular matrix errors\n",
      "iter  34: ll=49770352.409361, converged: 86.61% (loc: 99.90%, scale update: False), in 1.24sec\n",
      "caught 10 linalg singular matrix errors\n",
      "iter  35: ll=49770350.657349, converged: 86.61% (loc: 99.98%, scale update: False), in 0.75sec\n",
      "Fitting 1816 dispersion models: (progress not available with multiprocessing)"
     ]
    },
    {
     "name": "stderr",
     "output_type": "stream",
     "text": [
      "/usr/lib/python3.10/multiprocessing/popen_fork.py:66: RuntimeWarning: os.fork() was called. os.fork() is incompatible with multithreaded code, and JAX is multithreaded, so this will likely lead to a deadlock.\n",
      "  self.pid = os.fork()\n"
     ]
    },
    {
     "name": "stdout",
     "output_type": "stream",
     "text": [
      "iter  36: ll=49768707.708786, converged: 98.77% (loc: 98.77%, scale update: True), in 25.77sec\n",
      "caught 71 linalg singular matrix errors\n",
      "iter  37: ll=49768706.096359, converged: 98.77% (loc: 99.93%, scale update: False), in 3.42sec\n",
      "caught 4 linalg singular matrix errors\n",
      "iter  38: ll=49768706.096348, converged: 98.77% (loc: 99.99%, scale update: False), in 0.70sec\n",
      "caught 1 linalg singular matrix errors\n",
      "iter  39: ll=49768706.096348, converged: 98.77% (loc: 100.00%, scale update: False), in 0.50sec\n",
      "Fitting 167 dispersion models: (progress not available with multiprocessing)"
     ]
    },
    {
     "name": "stderr",
     "output_type": "stream",
     "text": [
      "/usr/lib/python3.10/multiprocessing/popen_fork.py:66: RuntimeWarning: os.fork() was called. os.fork() is incompatible with multithreaded code, and JAX is multithreaded, so this will likely lead to a deadlock.\n",
      "  self.pid = os.fork()\n"
     ]
    },
    {
     "name": "stdout",
     "output_type": "stream",
     "text": [
      "iter  40: ll=49768706.068249, converged: 99.93% (loc: 99.93%, scale update: True), in 14.46sec\n",
      "caught 6 linalg singular matrix errors\n",
      "iter  41: ll=49768706.068249, converged: 99.93% (loc: 100.00%, scale update: False), in 0.63sec\n",
      "Fitting 9 dispersion models: (progress not available with multiprocessing)"
     ]
    },
    {
     "name": "stderr",
     "output_type": "stream",
     "text": [
      "/usr/lib/python3.10/multiprocessing/popen_fork.py:66: RuntimeWarning: os.fork() was called. os.fork() is incompatible with multithreaded code, and JAX is multithreaded, so this will likely lead to a deadlock.\n",
      "  self.pid = os.fork()\n"
     ]
    },
    {
     "name": "stdout",
     "output_type": "stream",
     "text": [
      "iter  42: ll=49768706.068249, converged: 100.00% (loc: 100.00%, scale update: True), in 10.43sec\n"
     ]
    },
    {
     "name": "stderr",
     "output_type": "stream",
     "text": [
      "/usr/local/lib/python3.10/dist-packages/dask/array/core.py:2894: RuntimeWarning: divide by zero encountered in divide\n",
      "  size = (limit / dtype.itemsize / largest_block) ** (1 / len(autos))\n"
     ]
    },
    {
     "name": "stdout",
     "output_type": "stream",
     "text": [
      "In cluster NSC1a:\n",
      "condition\n",
      "Control    8666\n",
      "Name: count, dtype: int64\n",
      "filtered out 2948 genes that are detected in less than 50 cells\n"
     ]
    },
    {
     "name": "stderr",
     "output_type": "stream",
     "text": [
      "Built constraints: donor_period[UKERi1E4-R1-003_lp]+donor_period[UKERi1JF-R1-018_lp]+donor_period[UKERi82A-R1-002_lp]+donor_period[UKERiG3G-R1-039_lp]+donor_period[UKERiO3H-R1-005_lp]=0, donor_period[UKERi1E4-R1-003_hp]+donor_period[UKERi1JF-R1-018_hp]+donor_period[UKERi82A-R1-002_hp]+donor_period[UKERiG3G-R1-039_hp]+donor_period[UKERiO3H-R1-005_hp]=0\n"
     ]
    },
    {
     "name": "stdout",
     "output_type": "stream",
     "text": [
      "Testing 14418 genes...\n",
      "\n"
     ]
    },
    {
     "name": "stderr",
     "output_type": "stream",
     "text": [
      "/usr/local/lib/python3.10/dist-packages/batchglm/models/base_glm/utils.py:158: PerformanceWarning: Slicing is producing a large chunk. To accept the large\n",
      "chunk and silence this warning, set the option\n",
      "    >>> with dask.config.set(**{'array.slicing.split_large_chunks': False}):\n",
      "    ...     array[indexer]\n",
      "\n",
      "To avoid creating the large chunks, set the option\n",
      "    >>> with dask.config.set(**{'array.slicing.split_large_chunks': True}):\n",
      "    ...     array[indexer]\n",
      "  np.mean(x[np.where(grouping == g)[0], :], axis=0)\n",
      "/usr/local/lib/python3.10/dist-packages/batchglm/models/base_glm/utils.py:171: PerformanceWarning: Slicing is producing a large chunk. To accept the large\n",
      "chunk and silence this warning, set the option\n",
      "    >>> with dask.config.set(**{'array.slicing.split_large_chunks': False}):\n",
      "    ...     array[indexer]\n",
      "\n",
      "To avoid creating the large chunks, set the option\n",
      "    >>> with dask.config.set(**{'array.slicing.split_large_chunks': True}):\n",
      "    ...     array[indexer]\n",
      "  expect_xsq = np.vstack([np.mean(np.square(x[np.where(grouping == g)[0], :]), axis=0)\n"
     ]
    },
    {
     "name": "stdout",
     "output_type": "stream",
     "text": [
      "training location model: True\n",
      "training scale model: True\n",
      "iter   0: ll=109351672.770562\n",
      "iter   1: ll=105271552.867670, converged: 0.00% (loc: 4.58%, scale update: False), in 40.20sec\n",
      "iter   2: ll=104028974.353672, converged: 0.00% (loc: 5.69%, scale update: False), in 40.02sec\n",
      "iter   3: ll=103750555.639762, converged: 0.00% (loc: 5.69%, scale update: False), in 39.21sec\n",
      "iter   4: ll=103691325.202612, converged: 0.00% (loc: 5.71%, scale update: False), in 41.88sec\n",
      "iter   5: ll=103680164.565877, converged: 0.00% (loc: 6.35%, scale update: False), in 44.32sec\n",
      "Fitting 14418 dispersion models: (progress not available with multiprocessing)"
     ]
    },
    {
     "name": "stderr",
     "output_type": "stream",
     "text": [
      "/usr/lib/python3.10/multiprocessing/popen_fork.py:66: RuntimeWarning: os.fork() was called. os.fork() is incompatible with multithreaded code, and JAX is multithreaded, so this will likely lead to a deadlock.\n",
      "  self.pid = os.fork()\n"
     ]
    },
    {
     "name": "stdout",
     "output_type": "stream",
     "text": [
      "iter   6: ll=96243404.566765, converged: 0.01% (loc: 0.01%, scale update: True), in 254.51sec\n",
      "iter   7: ll=96199468.642811, converged: 0.01% (loc: 4.77%, scale update: False), in 40.91sec\n",
      "iter   8: ll=96192129.501805, converged: 0.01% (loc: 5.92%, scale update: False), in 40.73sec\n",
      "iter   9: ll=96190471.923384, converged: 0.01% (loc: 12.89%, scale update: False), in 40.49sec\n",
      "iter  10: ll=96189964.587141, converged: 0.01% (loc: 24.57%, scale update: False), in 36.93sec\n",
      "iter  11: ll=96189749.753727, converged: 0.01% (loc: 39.71%, scale update: False), in 33.31sec\n",
      "Fitting 14416 dispersion models: (progress not available with multiprocessing)"
     ]
    },
    {
     "name": "stderr",
     "output_type": "stream",
     "text": [
      "/usr/lib/python3.10/multiprocessing/popen_fork.py:66: RuntimeWarning: os.fork() was called. os.fork() is incompatible with multithreaded code, and JAX is multithreaded, so this will likely lead to a deadlock.\n",
      "  self.pid = os.fork()\n"
     ]
    },
    {
     "name": "stdout",
     "output_type": "stream",
     "text": [
      "iter  12: ll=96052782.871502, converged: 4.57% (loc: 4.57%, scale update: True), in 251.76sec\n",
      "iter  13: ll=96052265.868110, converged: 4.57% (loc: 11.42%, scale update: False), in 39.14sec\n",
      "iter  14: ll=96052091.480291, converged: 4.57% (loc: 23.73%, scale update: False), in 38.86sec\n",
      "iter  15: ll=96051993.623489, converged: 4.57% (loc: 41.37%, scale update: False), in 33.82sec\n",
      "iter  16: ll=96051920.800243, converged: 4.57% (loc: 58.68%, scale update: False), in 28.01sec\n",
      "iter  17: ll=96051862.707021, converged: 4.57% (loc: 73.80%, scale update: False), in 21.66sec\n",
      "Fitting 13759 dispersion models: (progress not available with multiprocessing)"
     ]
    },
    {
     "name": "stderr",
     "output_type": "stream",
     "text": [
      "/usr/lib/python3.10/multiprocessing/popen_fork.py:66: RuntimeWarning: os.fork() was called. os.fork() is incompatible with multithreaded code, and JAX is multithreaded, so this will likely lead to a deadlock.\n",
      "  self.pid = os.fork()\n"
     ]
    },
    {
     "name": "stdout",
     "output_type": "stream",
     "text": [
      "iter  18: ll=95987393.021911, converged: 11.18% (loc: 11.18%, scale update: True), in 242.62sec\n",
      "iter  19: ll=95987295.643237, converged: 11.18% (loc: 41.61%, scale update: False), in 37.24sec\n",
      "iter  20: ll=95987243.333966, converged: 11.18% (loc: 61.78%, scale update: False), in 30.13sec\n",
      "iter  21: ll=95987207.011898, converged: 11.18% (loc: 82.94%, scale update: False), in 21.82sec\n",
      "iter  22: ll=95987176.976297, converged: 11.18% (loc: 94.49%, scale update: False), in 13.05sec\n",
      "iter  23: ll=95987150.552290, converged: 11.18% (loc: 97.44%, scale update: False), in 8.96sec\n",
      "Fitting 12806 dispersion models: (progress not available with multiprocessing)"
     ]
    },
    {
     "name": "stderr",
     "output_type": "stream",
     "text": [
      "/usr/lib/python3.10/multiprocessing/popen_fork.py:66: RuntimeWarning: os.fork() was called. os.fork() is incompatible with multithreaded code, and JAX is multithreaded, so this will likely lead to a deadlock.\n",
      "  self.pid = os.fork()\n"
     ]
    },
    {
     "name": "stdout",
     "output_type": "stream",
     "text": [
      "iter  24: ll=95959641.309577, converged: 41.32% (loc: 41.32%, scale update: True), in 230.80sec\n",
      "iter  25: ll=95959576.661387, converged: 41.32% (loc: 86.55%, scale update: False), in 27.21sec\n",
      "iter  26: ll=95959531.441966, converged: 41.32% (loc: 97.10%, scale update: False), in 11.82sec\n",
      "iter  27: ll=95959503.649141, converged: 41.32% (loc: 98.88%, scale update: False), in 8.25sec\n",
      "iter  28: ll=95959493.270124, converged: 41.32% (loc: 99.45%, scale update: False), in 5.28sec\n",
      "iter  29: ll=95959489.565715, converged: 41.32% (loc: 99.70%, scale update: False), in 3.67sec\n",
      "Fitting 8461 dispersion models: (progress not available with multiprocessing)"
     ]
    },
    {
     "name": "stderr",
     "output_type": "stream",
     "text": [
      "/usr/lib/python3.10/multiprocessing/popen_fork.py:66: RuntimeWarning: os.fork() was called. os.fork() is incompatible with multithreaded code, and JAX is multithreaded, so this will likely lead to a deadlock.\n",
      "  self.pid = os.fork()\n"
     ]
    },
    {
     "name": "stdout",
     "output_type": "stream",
     "text": [
      "iter  30: ll=95954623.646607, converged: 86.27% (loc: 86.27%, scale update: True), in 158.88sec\n",
      "iter  31: ll=95954616.044424, converged: 86.27% (loc: 99.03%, scale update: False), in 12.33sec\n",
      "iter  32: ll=95954612.798467, converged: 86.27% (loc: 99.61%, scale update: False), in 5.47sec\n",
      "iter  33: ll=95954612.217502, converged: 86.27% (loc: 99.79%, scale update: False), in 2.89sec\n",
      "iter  34: ll=95954612.198904, converged: 86.27% (loc: 99.88%, scale update: False), in 2.09sec\n",
      "iter  35: ll=95954612.198801, converged: 86.27% (loc: 99.94%, scale update: False), in 1.66sec\n",
      "Fitting 1979 dispersion models: (progress not available with multiprocessing)"
     ]
    },
    {
     "name": "stderr",
     "output_type": "stream",
     "text": [
      "/usr/lib/python3.10/multiprocessing/popen_fork.py:66: RuntimeWarning: os.fork() was called. os.fork() is incompatible with multithreaded code, and JAX is multithreaded, so this will likely lead to a deadlock.\n",
      "  self.pid = os.fork()\n"
     ]
    },
    {
     "name": "stdout",
     "output_type": "stream",
     "text": [
      "iter  36: ll=95953467.174093, converged: 99.00% (loc: 99.00%, scale update: True), in 53.93sec\n",
      "iter  37: ll=95953466.408402, converged: 99.00% (loc: 99.81%, scale update: False), in 5.21sec\n",
      "caught 1 linalg singular matrix errors\n",
      "iter  38: ll=95953466.406423, converged: 99.00% (loc: 99.89%, scale update: False), in 2.22sec\n",
      "caught 2 linalg singular matrix errors\n",
      "iter  39: ll=95953466.406290, converged: 99.00% (loc: 99.96%, scale update: False), in 1.35sec\n",
      "caught 2 linalg singular matrix errors\n",
      "iter  40: ll=95953466.406262, converged: 99.00% (loc: 99.99%, scale update: False), in 0.91sec\n",
      "iter  41: ll=95953466.406224, converged: 99.00% (loc: 99.99%, scale update: False), in 0.77sec\n",
      "Fitting 144 dispersion models: (progress not available with multiprocessing)"
     ]
    },
    {
     "name": "stderr",
     "output_type": "stream",
     "text": [
      "/usr/lib/python3.10/multiprocessing/popen_fork.py:66: RuntimeWarning: os.fork() was called. os.fork() is incompatible with multithreaded code, and JAX is multithreaded, so this will likely lead to a deadlock.\n",
      "  self.pid = os.fork()\n"
     ]
    },
    {
     "name": "stdout",
     "output_type": "stream",
     "text": [
      "iter  42: ll=95953404.071820, converged: 99.78% (loc: 99.78%, scale update: True), in 28.36sec\n",
      "caught 10 linalg singular matrix errors\n",
      "iter  43: ll=95953404.062995, converged: 99.78% (loc: 99.96%, scale update: False), in 2.33sec\n",
      "iter  44: ll=95953404.062961, converged: 99.78% (loc: 99.99%, scale update: False), in 1.24sec\n",
      "iter  45: ll=95953404.062943, converged: 99.78% (loc: 99.99%, scale update: False), in 0.84sec\n",
      "iter  46: ll=95953404.062918, converged: 99.78% (loc: 99.99%, scale update: False), in 0.81sec\n",
      "iter  47: ll=95953404.062903, converged: 99.78% (loc: 99.99%, scale update: False), in 0.78sec\n",
      "Fitting 31 dispersion models: (progress not available with multiprocessing)"
     ]
    },
    {
     "name": "stderr",
     "output_type": "stream",
     "text": [
      "/usr/lib/python3.10/multiprocessing/popen_fork.py:66: RuntimeWarning: os.fork() was called. os.fork() is incompatible with multithreaded code, and JAX is multithreaded, so this will likely lead to a deadlock.\n",
      "  self.pid = os.fork()\n"
     ]
    },
    {
     "name": "stdout",
     "output_type": "stream",
     "text": [
      "iter  48: ll=95953404.062837, converged: 99.96% (loc: 99.96%, scale update: True), in 24.90sec\n",
      "iter  49: ll=95953404.062817, converged: 99.96% (loc: 99.99%, scale update: False), in 1.13sec\n",
      "iter  50: ll=95953404.062804, converged: 99.96% (loc: 99.99%, scale update: False), in 0.79sec\n",
      "iter  51: ll=95953404.062787, converged: 99.96% (loc: 99.99%, scale update: False), in 0.80sec\n",
      "iter  52: ll=95953404.062777, converged: 99.96% (loc: 99.99%, scale update: False), in 0.81sec\n",
      "iter  53: ll=95953404.062763, converged: 99.96% (loc: 99.99%, scale update: False), in 0.81sec\n",
      "Fitting 6 dispersion models: (progress not available with multiprocessing)"
     ]
    },
    {
     "name": "stderr",
     "output_type": "stream",
     "text": [
      "/usr/lib/python3.10/multiprocessing/popen_fork.py:66: RuntimeWarning: os.fork() was called. os.fork() is incompatible with multithreaded code, and JAX is multithreaded, so this will likely lead to a deadlock.\n",
      "  self.pid = os.fork()\n"
     ]
    },
    {
     "name": "stdout",
     "output_type": "stream",
     "text": [
      "iter  54: ll=95953404.062762, converged: 99.99% (loc: 99.99%, scale update: True), in 17.61sec\n",
      "iter  55: ll=95953404.062753, converged: 99.99% (loc: 99.99%, scale update: False), in 0.88sec\n",
      "iter  56: ll=95953404.062741, converged: 99.99% (loc: 99.99%, scale update: False), in 0.81sec\n",
      "iter  57: ll=95953404.062734, converged: 99.99% (loc: 99.99%, scale update: False), in 0.85sec\n",
      "iter  58: ll=95953404.062724, converged: 99.99% (loc: 99.99%, scale update: False), in 0.73sec\n",
      "iter  59: ll=95953404.062718, converged: 99.99% (loc: 99.99%, scale update: False), in 0.71sec\n",
      "iter  60: ll=95953404.062717, converged: 99.99% (loc: 99.99%, scale update: True), in 0.78sec\n",
      "iter  61: ll=95953404.062710, converged: 99.99% (loc: 99.99%, scale update: False), in 0.73sec\n",
      "iter  62: ll=95953404.062704, converged: 99.99% (loc: 99.99%, scale update: False), in 0.72sec\n",
      "iter  63: ll=95953404.062698, converged: 99.99% (loc: 99.99%, scale update: False), in 0.73sec\n",
      "iter  64: ll=95953404.062693, converged: 99.99% (loc: 99.99%, scale update: False), in 0.73sec\n",
      "iter  65: ll=95953404.062688, converged: 99.99% (loc: 99.99%, scale update: False), in 0.73sec\n",
      "iter  66: ll=95953404.062688, converged: 99.99% (loc: 99.99%, scale update: True), in 0.69sec\n",
      "iter  67: ll=95953404.062684, converged: 99.99% (loc: 99.99%, scale update: False), in 0.74sec\n",
      "iter  68: ll=95953404.062679, converged: 99.99% (loc: 99.99%, scale update: False), in 0.72sec\n",
      "iter  69: ll=95953404.062676, converged: 99.99% (loc: 99.99%, scale update: False), in 0.73sec\n",
      "iter  70: ll=95953404.062673, converged: 99.99% (loc: 99.99%, scale update: False), in 0.72sec\n",
      "iter  71: ll=95953404.062670, converged: 99.99% (loc: 99.99%, scale update: False), in 0.74sec\n",
      "iter  72: ll=95953404.062670, converged: 99.99% (loc: 99.99%, scale update: True), in 0.70sec\n",
      "iter  73: ll=95953404.062667, converged: 99.99% (loc: 99.99%, scale update: False), in 0.73sec\n",
      "iter  74: ll=95953404.062664, converged: 99.99% (loc: 99.99%, scale update: False), in 0.77sec\n",
      "iter  75: ll=95953404.062662, converged: 99.99% (loc: 99.99%, scale update: False), in 0.91sec\n",
      "iter  76: ll=95953404.062660, converged: 99.99% (loc: 99.99%, scale update: False), in 0.71sec\n",
      "iter  77: ll=95953404.062658, converged: 99.99% (loc: 99.99%, scale update: False), in 0.71sec\n",
      "iter  78: ll=95953404.062658, converged: 99.99% (loc: 99.99%, scale update: True), in 0.69sec\n",
      "iter  79: ll=95953404.062656, converged: 99.99% (loc: 99.99%, scale update: False), in 0.73sec\n",
      "iter  80: ll=95953404.062655, converged: 99.99% (loc: 99.99%, scale update: False), in 0.72sec\n",
      "iter  81: ll=95953404.062653, converged: 99.99% (loc: 99.99%, scale update: False), in 0.73sec\n",
      "iter  82: ll=95953404.062652, converged: 99.99% (loc: 99.99%, scale update: False), in 0.72sec\n",
      "iter  83: ll=95953404.062651, converged: 99.99% (loc: 99.99%, scale update: False), in 0.71sec\n",
      "iter  84: ll=95953404.062651, converged: 99.99% (loc: 99.99%, scale update: True), in 0.70sec\n",
      "iter  85: ll=95953404.062650, converged: 99.99% (loc: 99.99%, scale update: False), in 0.73sec\n",
      "iter  86: ll=95953404.062649, converged: 99.99% (loc: 99.99%, scale update: False), in 0.74sec\n",
      "iter  87: ll=95953404.062648, converged: 99.99% (loc: 99.99%, scale update: False), in 0.73sec\n",
      "iter  88: ll=95953404.062647, converged: 99.99% (loc: 99.99%, scale update: False), in 0.77sec\n",
      "iter  89: ll=95953404.062646, converged: 99.99% (loc: 99.99%, scale update: False), in 0.71sec\n",
      "iter  90: ll=95953404.062646, converged: 99.99% (loc: 99.99%, scale update: True), in 0.70sec\n",
      "iter  91: ll=95953404.062645, converged: 99.99% (loc: 99.99%, scale update: False), in 0.74sec\n",
      "iter  92: ll=95953404.062645, converged: 99.99% (loc: 99.99%, scale update: False), in 0.75sec\n",
      "iter  93: ll=95953404.062644, converged: 99.99% (loc: 99.99%, scale update: False), in 0.74sec\n",
      "iter  94: ll=95953404.062644, converged: 99.99% (loc: 99.99%, scale update: False), in 0.72sec\n",
      "iter  95: ll=95953404.062643, converged: 99.99% (loc: 99.99%, scale update: False), in 0.73sec\n",
      "iter  96: ll=95953404.062643, converged: 99.99% (loc: 99.99%, scale update: True), in 0.70sec\n",
      "iter  97: ll=95953404.062643, converged: 99.99% (loc: 99.99%, scale update: False), in 0.76sec\n",
      "iter  98: ll=95953404.062642, converged: 99.99% (loc: 99.99%, scale update: False), in 0.81sec\n",
      "iter  99: ll=95953404.062642, converged: 99.99% (loc: 99.99%, scale update: False), in 0.73sec\n",
      "iter 100: ll=95953404.062642, converged: 99.99% (loc: 99.99%, scale update: False), in 0.74sec\n",
      "iter 101: ll=95953404.062641, converged: 99.99% (loc: 99.99%, scale update: False), in 0.76sec\n",
      "iter 102: ll=95953404.062641, converged: 99.99% (loc: 99.99%, scale update: True), in 0.87sec\n",
      "iter 103: ll=95953404.062641, converged: 99.99% (loc: 99.99%, scale update: False), in 0.73sec\n",
      "iter 104: ll=95953404.062641, converged: 99.99% (loc: 99.99%, scale update: False), in 0.73sec\n",
      "iter 105: ll=95953404.062641, converged: 99.99% (loc: 99.99%, scale update: False), in 0.72sec\n",
      "iter 106: ll=95953404.062640, converged: 99.99% (loc: 99.99%, scale update: False), in 0.74sec\n",
      "iter 107: ll=95953404.062640, converged: 99.99% (loc: 99.99%, scale update: False), in 0.73sec\n",
      "iter 108: ll=95953404.062640, converged: 99.99% (loc: 99.99%, scale update: True), in 0.68sec\n",
      "iter 109: ll=95953404.062640, converged: 99.99% (loc: 99.99%, scale update: False), in 0.71sec\n",
      "iter 110: ll=95953404.062640, converged: 99.99% (loc: 99.99%, scale update: False), in 0.74sec\n",
      "iter 111: ll=95953404.062640, converged: 99.99% (loc: 99.99%, scale update: False), in 0.72sec\n",
      "iter 112: ll=95953404.062640, converged: 99.99% (loc: 99.99%, scale update: False), in 0.70sec\n",
      "iter 113: ll=95953404.062639, converged: 99.99% (loc: 99.99%, scale update: False), in 0.75sec\n",
      "iter 114: ll=95953404.062639, converged: 99.99% (loc: 99.99%, scale update: True), in 0.73sec\n",
      "iter 115: ll=95953404.062639, converged: 99.99% (loc: 99.99%, scale update: False), in 0.77sec\n",
      "iter 116: ll=95953404.062639, converged: 99.99% (loc: 99.99%, scale update: False), in 0.73sec\n",
      "iter 117: ll=95953404.062639, converged: 99.99% (loc: 99.99%, scale update: False), in 0.74sec\n",
      "iter 118: ll=95953404.062639, converged: 99.99% (loc: 99.99%, scale update: False), in 0.74sec\n",
      "iter 119: ll=95953404.062639, converged: 99.99% (loc: 99.99%, scale update: False), in 0.77sec\n",
      "iter 120: ll=95953404.062639, converged: 99.99% (loc: 99.99%, scale update: True), in 0.70sec\n",
      "iter 121: ll=95953404.062639, converged: 99.99% (loc: 100.00%, scale update: False), in 0.73sec\n",
      "iter 122: ll=95953404.062639, converged: 99.99% (loc: 99.99%, scale update: True), in 0.71sec\n",
      "iter 123: ll=95953404.062639, converged: 99.99% (loc: 100.00%, scale update: False), in 0.72sec\n",
      "iter 124: ll=95953404.062639, converged: 100.00% (loc: 100.00%, scale update: True), in 0.70sec\n"
     ]
    },
    {
     "name": "stderr",
     "output_type": "stream",
     "text": [
      "/usr/local/lib/python3.10/dist-packages/dask/array/core.py:2894: RuntimeWarning: divide by zero encountered in divide\n",
      "  size = (limit / dtype.itemsize / largest_block) ** (1 / len(autos))\n"
     ]
    },
    {
     "name": "stdout",
     "output_type": "stream",
     "text": [
      "In cluster NSC1b:\n",
      "condition\n",
      "Control    4409\n",
      "Name: count, dtype: int64\n",
      "filtered out 3626 genes that are detected in less than 50 cells\n"
     ]
    },
    {
     "name": "stderr",
     "output_type": "stream",
     "text": [
      "Built constraints: donor_period[UKERi1E4-R1-003_lp]+donor_period[UKERi1JF-R1-018_lp]+donor_period[UKERi82A-R1-002_lp]+donor_period[UKERiG3G-R1-039_lp]+donor_period[UKERiO3H-R1-005_lp]=0, donor_period[UKERi1E4-R1-003_hp]+donor_period[UKERi1JF-R1-018_hp]+donor_period[UKERi82A-R1-002_hp]+donor_period[UKERiG3G-R1-039_hp]+donor_period[UKERiO3H-R1-005_hp]=0\n"
     ]
    },
    {
     "name": "stdout",
     "output_type": "stream",
     "text": [
      "Testing 13740 genes...\n",
      "\n",
      "training location model: True\n",
      "training scale model: True\n",
      "iter   0: ll=65697747.999014\n",
      "iter   1: ll=62944371.273697, converged: 0.00% (loc: 1.87%, scale update: False), in 20.91sec\n",
      "iter   2: ll=62275736.049549, converged: 0.00% (loc: 2.79%, scale update: False), in 21.46sec\n",
      "iter   3: ll=62163157.108966, converged: 0.00% (loc: 2.79%, scale update: False), in 21.21sec\n",
      "iter   4: ll=62144699.076006, converged: 0.00% (loc: 2.82%, scale update: False), in 21.48sec\n",
      "iter   5: ll=62141364.409517, converged: 0.00% (loc: 4.16%, scale update: False), in 20.99sec\n",
      "Fitting 13740 dispersion models: (progress not available with multiprocessing)"
     ]
    },
    {
     "name": "stderr",
     "output_type": "stream",
     "text": [
      "/usr/lib/python3.10/multiprocessing/popen_fork.py:66: RuntimeWarning: os.fork() was called. os.fork() is incompatible with multithreaded code, and JAX is multithreaded, so this will likely lead to a deadlock.\n",
      "  self.pid = os.fork()\n"
     ]
    },
    {
     "name": "stdout",
     "output_type": "stream",
     "text": [
      "iter   6: ll=56685251.745094, converged: 0.00% (loc: 0.00%, scale update: True), in 131.59sec\n",
      "iter   7: ll=56664924.866893, converged: 0.00% (loc: 2.28%, scale update: False), in 20.95sec\n",
      "iter   8: ll=56662155.218991, converged: 0.00% (loc: 3.60%, scale update: False), in 20.59sec\n",
      "iter   9: ll=56661377.347877, converged: 0.00% (loc: 13.10%, scale update: False), in 21.31sec\n",
      "iter  10: ll=56661041.604552, converged: 0.00% (loc: 30.84%, scale update: False), in 19.75sec\n",
      "iter  11: ll=56660864.049951, converged: 0.00% (loc: 52.15%, scale update: False), in 16.16sec\n",
      "Fitting 13740 dispersion models: (progress not available with multiprocessing)"
     ]
    },
    {
     "name": "stderr",
     "output_type": "stream",
     "text": [
      "/usr/lib/python3.10/multiprocessing/popen_fork.py:66: RuntimeWarning: os.fork() was called. os.fork() is incompatible with multithreaded code, and JAX is multithreaded, so this will likely lead to a deadlock.\n",
      "  self.pid = os.fork()\n"
     ]
    },
    {
     "name": "stdout",
     "output_type": "stream",
     "text": [
      "iter  12: ll=56559942.554267, converged: 2.10% (loc: 2.10%, scale update: True), in 130.75sec\n",
      "iter  13: ll=56559481.689102, converged: 2.10% (loc: 10.52%, scale update: False), in 20.69sec\n",
      "iter  14: ll=56559305.257412, converged: 2.10% (loc: 29.34%, scale update: False), in 19.48sec\n",
      "iter  15: ll=56559243.906201, converged: 2.10% (loc: 52.90%, scale update: False), in 16.51sec\n",
      "iter  16: ll=56559233.694509, converged: 2.10% (loc: 72.84%, scale update: False), in 12.33sec\n",
      "iter  17: ll=56559231.374605, converged: 2.10% (loc: 88.02%, scale update: False), in 8.66sec\n",
      "Fitting 13452 dispersion models: (progress not available with multiprocessing)"
     ]
    },
    {
     "name": "stderr",
     "output_type": "stream",
     "text": [
      "/usr/lib/python3.10/multiprocessing/popen_fork.py:66: RuntimeWarning: os.fork() was called. os.fork() is incompatible with multithreaded code, and JAX is multithreaded, so this will likely lead to a deadlock.\n",
      "  self.pid = os.fork()\n"
     ]
    },
    {
     "name": "stdout",
     "output_type": "stream",
     "text": [
      "iter  18: ll=56496379.695335, converged: 10.26% (loc: 10.26%, scale update: True), in 129.72sec\n",
      "iter  19: ll=56496353.028093, converged: 10.26% (loc: 51.27%, scale update: False), in 19.89sec\n",
      "iter  20: ll=56496350.385341, converged: 10.26% (loc: 74.96%, scale update: False), in 12.56sec\n",
      "iter  21: ll=56496347.924707, converged: 10.26% (loc: 90.87%, scale update: False), in 8.76sec\n",
      "iter  22: ll=56496345.494028, converged: 10.26% (loc: 96.29%, scale update: False), in 5.69sec\n",
      "iter  23: ll=56496343.109883, converged: 10.26% (loc: 98.09%, scale update: False), in 5.15sec\n",
      "Fitting 12330 dispersion models: (progress not available with multiprocessing)"
     ]
    },
    {
     "name": "stderr",
     "output_type": "stream",
     "text": [
      "/usr/lib/python3.10/multiprocessing/popen_fork.py:66: RuntimeWarning: os.fork() was called. os.fork() is incompatible with multithreaded code, and JAX is multithreaded, so this will likely lead to a deadlock.\n",
      "  self.pid = os.fork()\n"
     ]
    },
    {
     "name": "stdout",
     "output_type": "stream",
     "text": [
      "iter  24: ll=56466780.659043, converged: 50.88% (loc: 50.88%, scale update: True), in 118.92sec\n",
      "iter  25: ll=56466771.778413, converged: 50.88% (loc: 93.57%, scale update: False), in 12.28sec\n",
      "iter  26: ll=56466768.789699, converged: 50.88% (loc: 98.97%, scale update: False), in 5.47sec\n",
      "iter  27: ll=56466766.689050, converged: 50.88% (loc: 99.69%, scale update: False), in 3.74sec\n",
      "iter  28: ll=56466765.804230, converged: 50.88% (loc: 99.88%, scale update: False), in 1.71sec\n",
      "iter  29: ll=56466765.675469, converged: 50.88% (loc: 99.93%, scale update: False), in 1.09sec\n",
      "Fitting 6749 dispersion models: (progress not available with multiprocessing)"
     ]
    },
    {
     "name": "stderr",
     "output_type": "stream",
     "text": [
      "/usr/lib/python3.10/multiprocessing/popen_fork.py:66: RuntimeWarning: os.fork() was called. os.fork() is incompatible with multithreaded code, and JAX is multithreaded, so this will likely lead to a deadlock.\n",
      "  self.pid = os.fork()\n"
     ]
    },
    {
     "name": "stdout",
     "output_type": "stream",
     "text": [
      "iter  30: ll=56465023.190923, converged: 93.35% (loc: 93.35%, scale update: True), in 70.91sec\n",
      "iter  31: ll=56465023.168832, converged: 93.35% (loc: 99.61%, scale update: False), in 5.68sec\n",
      "iter  32: ll=56465023.165629, converged: 93.35% (loc: 99.85%, scale update: False), in 1.97sec\n",
      "iter  33: ll=56465023.164964, converged: 93.35% (loc: 99.95%, scale update: False), in 1.14sec\n",
      "iter  34: ll=56465023.164813, converged: 93.35% (loc: 99.98%, scale update: False), in 0.73sec\n",
      "iter  35: ll=56465023.164778, converged: 93.35% (loc: 99.99%, scale update: False), in 0.61sec\n",
      "Fitting 914 dispersion models: (progress not available with multiprocessing)"
     ]
    },
    {
     "name": "stderr",
     "output_type": "stream",
     "text": [
      "/usr/lib/python3.10/multiprocessing/popen_fork.py:66: RuntimeWarning: os.fork() was called. os.fork() is incompatible with multithreaded code, and JAX is multithreaded, so this will likely lead to a deadlock.\n",
      "  self.pid = os.fork()\n"
     ]
    },
    {
     "name": "stdout",
     "output_type": "stream",
     "text": [
      "iter  36: ll=56465023.164493, converged: 99.60% (loc: 99.60%, scale update: True), in 22.57sec\n",
      "iter  37: ll=56465023.164472, converged: 99.60% (loc: 99.91%, scale update: False), in 2.05sec\n",
      "caught 1 linalg singular matrix errors\n",
      "iter  38: ll=56465023.164468, converged: 99.60% (loc: 99.98%, scale update: False), in 0.91sec\n",
      "iter  39: ll=56465023.164468, converged: 99.60% (loc: 99.99%, scale update: False), in 0.58sec\n",
      "iter  40: ll=56465023.164467, converged: 99.60% (loc: 99.99%, scale update: False), in 0.58sec\n",
      "iter  41: ll=56465023.164467, converged: 99.60% (loc: 99.99%, scale update: False), in 0.50sec\n",
      "Fitting 55 dispersion models: (progress not available with multiprocessing)"
     ]
    },
    {
     "name": "stderr",
     "output_type": "stream",
     "text": [
      "/usr/lib/python3.10/multiprocessing/popen_fork.py:66: RuntimeWarning: os.fork() was called. os.fork() is incompatible with multithreaded code, and JAX is multithreaded, so this will likely lead to a deadlock.\n",
      "  self.pid = os.fork()\n"
     ]
    },
    {
     "name": "stdout",
     "output_type": "stream",
     "text": [
      "iter  42: ll=56465023.164466, converged: 99.90% (loc: 99.90%, scale update: True), in 14.61sec\n",
      "caught 2 linalg singular matrix errors\n",
      "iter  43: ll=56465023.164466, converged: 99.90% (loc: 99.99%, scale update: False), in 0.83sec\n",
      "iter  44: ll=56465023.164466, converged: 99.90% (loc: 100.00%, scale update: False), in 0.52sec\n",
      "Fitting 14 dispersion models: (progress not available with multiprocessing)"
     ]
    },
    {
     "name": "stderr",
     "output_type": "stream",
     "text": [
      "/usr/lib/python3.10/multiprocessing/popen_fork.py:66: RuntimeWarning: os.fork() was called. os.fork() is incompatible with multithreaded code, and JAX is multithreaded, so this will likely lead to a deadlock.\n",
      "  self.pid = os.fork()\n"
     ]
    },
    {
     "name": "stdout",
     "output_type": "stream",
     "text": [
      "iter  45: ll=56465023.164466, converged: 99.99% (loc: 99.99%, scale update: True), in 10.63sec\n",
      "iter  46: ll=56465023.164466, converged: 99.99% (loc: 100.00%, scale update: False), in 0.48sec\n",
      "iter  47: ll=56465023.164466, converged: 100.00% (loc: 100.00%, scale update: True), in 0.47sec\n"
     ]
    },
    {
     "name": "stderr",
     "output_type": "stream",
     "text": [
      "/usr/local/lib/python3.10/dist-packages/dask/array/core.py:2894: RuntimeWarning: divide by zero encountered in divide\n",
      "  size = (limit / dtype.itemsize / largest_block) ** (1 / len(autos))\n"
     ]
    },
    {
     "name": "stdout",
     "output_type": "stream",
     "text": [
      "In cluster NSC2a:\n",
      "condition\n",
      "Control    2184\n",
      "Name: count, dtype: int64\n",
      "filtered out 5020 genes that are detected in less than 50 cells\n"
     ]
    },
    {
     "name": "stderr",
     "output_type": "stream",
     "text": [
      "Built constraints: donor_period[UKERi1E4-R1-003_lp]+donor_period[UKERi1JF-R1-018_lp]+donor_period[UKERi82A-R1-002_lp]+donor_period[UKERiG3G-R1-039_lp]+donor_period[UKERiO3H-R1-005_lp]=0, donor_period[UKERi1E4-R1-003_hp]+donor_period[UKERi1JF-R1-018_hp]+donor_period[UKERi82A-R1-002_hp]+donor_period[UKERiG3G-R1-039_hp]+donor_period[UKERiO3H-R1-005_hp]=0\n"
     ]
    },
    {
     "name": "stdout",
     "output_type": "stream",
     "text": [
      "Testing 12346 genes...\n",
      "\n",
      "training location model: True\n",
      "training scale model: True\n",
      "iter   0: ll=36895024.938816\n",
      "iter   1: ll=36164800.794822, converged: 0.00% (loc: 9.58%, scale update: False), in 9.40sec\n",
      "iter   2: ll=35966926.378479, converged: 0.00% (loc: 12.17%, scale update: False), in 9.01sec\n",
      "iter   3: ll=35918739.558616, converged: 0.00% (loc: 12.17%, scale update: False), in 8.20sec\n",
      "iter   4: ll=35904487.143969, converged: 0.00% (loc: 12.17%, scale update: False), in 8.12sec\n",
      "iter   5: ll=35900157.996112, converged: 0.00% (loc: 12.20%, scale update: False), in 8.77sec\n",
      "Fitting 12346 dispersion models: (progress not available with multiprocessing)"
     ]
    },
    {
     "name": "stderr",
     "output_type": "stream",
     "text": [
      "/usr/lib/python3.10/multiprocessing/popen_fork.py:66: RuntimeWarning: os.fork() was called. os.fork() is incompatible with multithreaded code, and JAX is multithreaded, so this will likely lead to a deadlock.\n",
      "  self.pid = os.fork()\n"
     ]
    },
    {
     "name": "stdout",
     "output_type": "stream",
     "text": [
      "iter   6: ll=21300289.639058, converged: 0.16% (loc: 0.16%, scale update: True), in 54.92sec\n",
      "iter   7: ll=21288707.615099, converged: 0.16% (loc: 9.92%, scale update: False), in 9.10sec\n",
      "iter   8: ll=21284770.368128, converged: 0.16% (loc: 10.17%, scale update: False), in 8.86sec\n",
      "iter   9: ll=21283355.173118, converged: 0.16% (loc: 11.06%, scale update: False), in 8.41sec\n",
      "iter  10: ll=21282783.530209, converged: 0.16% (loc: 12.72%, scale update: False), in 8.79sec\n",
      "iter  11: ll=21282534.492456, converged: 0.16% (loc: 15.76%, scale update: False), in 8.62sec\n",
      "Fitting 12326 dispersion models: (progress not available with multiprocessing)"
     ]
    },
    {
     "name": "stderr",
     "output_type": "stream",
     "text": [
      "/usr/lib/python3.10/multiprocessing/popen_fork.py:66: RuntimeWarning: os.fork() was called. os.fork() is incompatible with multithreaded code, and JAX is multithreaded, so this will likely lead to a deadlock.\n",
      "  self.pid = os.fork()\n"
     ]
    },
    {
     "name": "stdout",
     "output_type": "stream",
     "text": [
      "iter  12: ll=21133594.407554, converged: 9.34% (loc: 9.34%, scale update: True), in 58.29sec\n",
      "iter  13: ll=21133065.082542, converged: 9.34% (loc: 12.06%, scale update: False), in 8.89sec\n",
      "iter  14: ll=21132859.179084, converged: 9.34% (loc: 14.78%, scale update: False), in 8.41sec\n",
      "iter  15: ll=21132742.796240, converged: 9.34% (loc: 18.65%, scale update: False), in 8.48sec\n",
      "iter  16: ll=21132658.442345, converged: 9.34% (loc: 24.54%, scale update: False), in 8.20sec\n",
      "iter  17: ll=21132594.889124, converged: 9.34% (loc: 33.17%, scale update: False), in 7.57sec\n",
      "Fitting 11193 dispersion models: (progress not available with multiprocessing)"
     ]
    },
    {
     "name": "stderr",
     "output_type": "stream",
     "text": [
      "/usr/lib/python3.10/multiprocessing/popen_fork.py:66: RuntimeWarning: os.fork() was called. os.fork() is incompatible with multithreaded code, and JAX is multithreaded, so this will likely lead to a deadlock.\n",
      "  self.pid = os.fork()\n"
     ]
    },
    {
     "name": "stdout",
     "output_type": "stream",
     "text": [
      "iter  18: ll=21030988.935305, converged: 11.70% (loc: 11.70%, scale update: True), in 54.06sec\n",
      "iter  19: ll=21030861.724583, converged: 11.70% (loc: 22.32%, scale update: False), in 8.30sec\n",
      "iter  20: ll=21030804.990456, converged: 11.70% (loc: 33.24%, scale update: False), in 7.72sec\n",
      "iter  21: ll=21030765.441096, converged: 11.70% (loc: 51.30%, scale update: False), in 7.18sec\n",
      "iter  22: ll=21030738.048951, converged: 11.70% (loc: 67.04%, scale update: False), in 5.76sec\n",
      "iter  23: ll=21030719.416545, converged: 11.70% (loc: 80.49%, scale update: False), in 5.01sec\n",
      "Fitting 10901 dispersion models: (progress not available with multiprocessing)"
     ]
    },
    {
     "name": "stderr",
     "output_type": "stream",
     "text": [
      "/usr/lib/python3.10/multiprocessing/popen_fork.py:66: RuntimeWarning: os.fork() was called. os.fork() is incompatible with multithreaded code, and JAX is multithreaded, so this will likely lead to a deadlock.\n",
      "  self.pid = os.fork()\n"
     ]
    },
    {
     "name": "stdout",
     "output_type": "stream",
     "text": [
      "iter  24: ll=20977222.993763, converged: 21.94% (loc: 21.94%, scale update: True), in 52.92sec\n",
      "iter  25: ll=20977176.398661, converged: 21.94% (loc: 58.96%, scale update: False), in 7.57sec\n",
      "iter  26: ll=20977158.378906, converged: 21.94% (loc: 73.43%, scale update: False), in 5.71sec\n",
      "iter  27: ll=20977145.267753, converged: 21.94% (loc: 84.06%, scale update: False), in 4.28sec\n",
      "iter  28: ll=20977135.546738, converged: 21.94% (loc: 91.29%, scale update: False), in 3.67sec\n",
      "iter  29: ll=20977128.370917, converged: 21.94% (loc: 95.63%, scale update: False), in 3.76sec\n",
      "Fitting 9637 dispersion models: (progress not available with multiprocessing)"
     ]
    },
    {
     "name": "stderr",
     "output_type": "stream",
     "text": [
      "/usr/lib/python3.10/multiprocessing/popen_fork.py:66: RuntimeWarning: os.fork() was called. os.fork() is incompatible with multithreaded code, and JAX is multithreaded, so this will likely lead to a deadlock.\n",
      "  self.pid = os.fork()\n"
     ]
    },
    {
     "name": "stdout",
     "output_type": "stream",
     "text": [
      "iter  30: ll=20944352.441329, converged: 58.40% (loc: 58.40%, scale update: True), in 46.63sec\n",
      "iter  31: ll=20944319.760937, converged: 58.40% (loc: 82.15%, scale update: False), in 5.51sec\n",
      "iter  32: ll=20944311.717317, converged: 58.40% (loc: 90.64%, scale update: False), in 3.91sec\n",
      "iter  33: ll=20944308.110025, converged: 58.40% (loc: 95.33%, scale update: False), in 3.51sec\n",
      "iter  34: ll=20944305.213547, converged: 58.40% (loc: 97.69%, scale update: False), in 3.19sec\n",
      "iter  35: ll=20944302.968203, converged: 58.40% (loc: 98.91%, scale update: False), in 2.71sec\n",
      "Fitting 5136 dispersion models: (progress not available with multiprocessing)"
     ]
    },
    {
     "name": "stderr",
     "output_type": "stream",
     "text": [
      "/usr/lib/python3.10/multiprocessing/popen_fork.py:66: RuntimeWarning: os.fork() was called. os.fork() is incompatible with multithreaded code, and JAX is multithreaded, so this will likely lead to a deadlock.\n",
      "  self.pid = os.fork()\n"
     ]
    },
    {
     "name": "stdout",
     "output_type": "stream",
     "text": [
      "iter  36: ll=20928210.704347, converged: 81.76% (loc: 81.76%, scale update: True), in 27.91sec\n",
      "caught 12 linalg singular matrix errors\n",
      "iter  37: ll=20928199.061298, converged: 81.76% (loc: 93.12%, scale update: False), in 3.99sec\n",
      "caught 82 linalg singular matrix errors\n",
      "iter  38: ll=20928197.297172, converged: 81.76% (loc: 97.59%, scale update: False), in 3.26sec\n",
      "caught 30 linalg singular matrix errors\n",
      "iter  39: ll=20928197.107240, converged: 81.76% (loc: 99.19%, scale update: False), in 2.85sec\n",
      "caught 8 linalg singular matrix errors\n",
      "iter  40: ll=20928197.073088, converged: 81.76% (loc: 99.60%, scale update: False), in 2.04sec\n",
      "caught 6 linalg singular matrix errors\n",
      "iter  41: ll=20928197.064458, converged: 81.76% (loc: 99.84%, scale update: False), in 1.26sec\n",
      "Fitting 2252 dispersion models: (progress not available with multiprocessing)"
     ]
    },
    {
     "name": "stderr",
     "output_type": "stream",
     "text": [
      "/usr/lib/python3.10/multiprocessing/popen_fork.py:66: RuntimeWarning: os.fork() was called. os.fork() is incompatible with multithreaded code, and JAX is multithreaded, so this will likely lead to a deadlock.\n",
      "  self.pid = os.fork()\n"
     ]
    },
    {
     "name": "stdout",
     "output_type": "stream",
     "text": [
      "iter  42: ll=20918362.266505, converged: 92.90% (loc: 92.90%, scale update: True), in 15.33sec\n",
      "caught 156 linalg singular matrix errors\n",
      "iter  43: ll=20918360.677223, converged: 92.90% (loc: 98.15%, scale update: False), in 3.21sec\n",
      "caught 22 linalg singular matrix errors\n",
      "iter  44: ll=20918360.675862, converged: 92.90% (loc: 99.51%, scale update: False), in 2.88sec\n",
      "caught 1 linalg singular matrix errors\n",
      "iter  45: ll=20918360.675354, converged: 92.90% (loc: 99.78%, scale update: False), in 1.49sec\n",
      "caught 1 linalg singular matrix errors\n",
      "iter  46: ll=20918360.675159, converged: 92.90% (loc: 99.94%, scale update: False), in 0.95sec\n",
      "iter  47: ll=20918360.675084, converged: 92.90% (loc: 99.96%, scale update: False), in 0.57sec\n",
      "Fitting 877 dispersion models: (progress not available with multiprocessing)"
     ]
    },
    {
     "name": "stderr",
     "output_type": "stream",
     "text": [
      "/usr/lib/python3.10/multiprocessing/popen_fork.py:66: RuntimeWarning: os.fork() was called. os.fork() is incompatible with multithreaded code, and JAX is multithreaded, so this will likely lead to a deadlock.\n",
      "  self.pid = os.fork()\n"
     ]
    },
    {
     "name": "stdout",
     "output_type": "stream",
     "text": [
      "iter  48: ll=20915529.597923, converged: 98.02% (loc: 98.02%, scale update: True), in 10.61sec\n",
      "caught 27 linalg singular matrix errors\n",
      "iter  49: ll=20915527.654953, converged: 98.02% (loc: 99.48%, scale update: False), in 2.48sec\n",
      "caught 1 linalg singular matrix errors\n",
      "iter  50: ll=20915527.654892, converged: 98.02% (loc: 99.84%, scale update: False), in 1.68sec\n",
      "iter  51: ll=20915527.654872, converged: 98.02% (loc: 99.95%, scale update: False), in 0.77sec\n",
      "iter  52: ll=20915527.654865, converged: 98.02% (loc: 99.98%, scale update: False), in 0.52sec\n",
      "iter  53: ll=20915527.654862, converged: 98.02% (loc: 99.98%, scale update: False), in 0.50sec\n",
      "Fitting 245 dispersion models: (progress not available with multiprocessing)"
     ]
    },
    {
     "name": "stderr",
     "output_type": "stream",
     "text": [
      "/usr/lib/python3.10/multiprocessing/popen_fork.py:66: RuntimeWarning: os.fork() was called. os.fork() is incompatible with multithreaded code, and JAX is multithreaded, so this will likely lead to a deadlock.\n",
      "  self.pid = os.fork()\n"
     ]
    },
    {
     "name": "stdout",
     "output_type": "stream",
     "text": [
      "iter  54: ll=20914826.920945, converged: 99.41% (loc: 99.41%, scale update: True), in 8.69sec\n",
      "caught 2 linalg singular matrix errors\n",
      "iter  55: ll=20914826.920918, converged: 99.41% (loc: 99.81%, scale update: False), in 1.76sec\n",
      "iter  56: ll=20914826.920914, converged: 99.41% (loc: 99.96%, scale update: False), in 0.84sec\n",
      "iter  57: ll=20914826.920913, converged: 99.41% (loc: 99.98%, scale update: False), in 0.53sec\n",
      "iter  58: ll=20914826.920912, converged: 99.41% (loc: 99.98%, scale update: False), in 0.45sec\n",
      "iter  59: ll=20914826.920912, converged: 99.41% (loc: 99.99%, scale update: False), in 0.43sec\n",
      "Fitting 73 dispersion models: (progress not available with multiprocessing)"
     ]
    },
    {
     "name": "stderr",
     "output_type": "stream",
     "text": [
      "/usr/lib/python3.10/multiprocessing/popen_fork.py:66: RuntimeWarning: os.fork() was called. os.fork() is incompatible with multithreaded code, and JAX is multithreaded, so this will likely lead to a deadlock.\n",
      "  self.pid = os.fork()\n"
     ]
    },
    {
     "name": "stdout",
     "output_type": "stream",
     "text": [
      "iter  60: ll=20914650.487016, converged: 99.79% (loc: 99.79%, scale update: True), in 7.26sec\n",
      "caught 1 linalg singular matrix errors\n",
      "iter  61: ll=20914650.487011, converged: 99.79% (loc: 99.91%, scale update: False), in 0.95sec\n",
      "iter  62: ll=20914650.487010, converged: 99.79% (loc: 99.98%, scale update: False), in 0.64sec\n",
      "iter  63: ll=20914650.487010, converged: 99.79% (loc: 100.00%, scale update: False), in 0.39sec\n",
      "Fitting 26 dispersion models: (progress not available with multiprocessing)"
     ]
    },
    {
     "name": "stderr",
     "output_type": "stream",
     "text": [
      "/usr/lib/python3.10/multiprocessing/popen_fork.py:66: RuntimeWarning: os.fork() was called. os.fork() is incompatible with multithreaded code, and JAX is multithreaded, so this will likely lead to a deadlock.\n",
      "  self.pid = os.fork()\n"
     ]
    },
    {
     "name": "stdout",
     "output_type": "stream",
     "text": [
      "iter  64: ll=20914650.487008, converged: 99.90% (loc: 99.90%, scale update: True), in 6.22sec\n",
      "iter  65: ll=20914650.487007, converged: 99.90% (loc: 99.99%, scale update: False), in 0.64sec\n",
      "iter  66: ll=20914650.487007, converged: 99.90% (loc: 100.00%, scale update: False), in 0.54sec\n",
      "Fitting 12 dispersion models: (progress not available with multiprocessing)"
     ]
    },
    {
     "name": "stderr",
     "output_type": "stream",
     "text": [
      "/usr/lib/python3.10/multiprocessing/popen_fork.py:66: RuntimeWarning: os.fork() was called. os.fork() is incompatible with multithreaded code, and JAX is multithreaded, so this will likely lead to a deadlock.\n",
      "  self.pid = os.fork()\n"
     ]
    },
    {
     "name": "stdout",
     "output_type": "stream",
     "text": [
      "iter  67: ll=20914650.487007, converged: 99.99% (loc: 99.99%, scale update: True), in 7.33sec\n",
      "iter  68: ll=20914650.487007, converged: 99.99% (loc: 99.99%, scale update: False), in 0.33sec\n",
      "iter  69: ll=20914650.487007, converged: 99.99% (loc: 100.00%, scale update: False), in 0.34sec\n",
      "iter  70: ll=20914650.487007, converged: 99.99% (loc: 99.99%, scale update: True), in 0.35sec\n",
      "iter  71: ll=20914650.487006, converged: 99.99% (loc: 100.00%, scale update: False), in 0.36sec\n",
      "iter  72: ll=20914650.487006, converged: 100.00% (loc: 100.00%, scale update: True), in 0.35sec\n"
     ]
    },
    {
     "name": "stderr",
     "output_type": "stream",
     "text": [
      "/usr/local/lib/python3.10/dist-packages/dask/array/core.py:2894: RuntimeWarning: divide by zero encountered in divide\n",
      "  size = (limit / dtype.itemsize / largest_block) ** (1 / len(autos))\n"
     ]
    },
    {
     "name": "stdout",
     "output_type": "stream",
     "text": [
      "In cluster NSC2b:\n",
      "condition\n",
      "Control    490\n",
      "Name: count, dtype: int64\n",
      "filtered out 7494 genes that are detected in less than 50 cells\n"
     ]
    },
    {
     "name": "stderr",
     "output_type": "stream",
     "text": [
      "Built constraints: donor_period[UKERi1JF-R1-018_lp]+donor_period[UKERi82A-R1-002_lp]+donor_period[UKERiG3G-R1-039_lp]+donor_period[UKERiO3H-R1-005_lp]=0, donor_period[UKERi1E4-R1-003_hp]+donor_period[UKERi1JF-R1-018_hp]+donor_period[UKERi82A-R1-002_hp]+donor_period[UKERiG3G-R1-039_hp]+donor_period[UKERiO3H-R1-005_hp]=0\n"
     ]
    },
    {
     "name": "stdout",
     "output_type": "stream",
     "text": [
      "Testing 9872 genes...\n",
      "\n",
      "training location model: True\n",
      "training scale model: True\n",
      "iter   0: ll=21653665.697765\n",
      "iter   1: ll=21456278.490903, converged: 0.00% (loc: 5.57%, scale update: False), in 2.90sec\n",
      "iter   2: ll=21406269.380568, converged: 0.00% (loc: 10.48%, scale update: False), in 2.78sec\n",
      "iter   3: ll=21395066.812481, converged: 0.00% (loc: 10.48%, scale update: False), in 2.50sec\n",
      "iter   4: ll=21392575.257296, converged: 0.00% (loc: 10.51%, scale update: False), in 2.44sec\n",
      "iter   5: ll=21391992.333064, converged: 0.00% (loc: 11.55%, scale update: False), in 2.73sec\n",
      "Fitting 9872 dispersion models: (progress not available with multiprocessing)"
     ]
    },
    {
     "name": "stderr",
     "output_type": "stream",
     "text": [
      "/usr/lib/python3.10/multiprocessing/popen_fork.py:66: RuntimeWarning: os.fork() was called. os.fork() is incompatible with multithreaded code, and JAX is multithreaded, so this will likely lead to a deadlock.\n",
      "  self.pid = os.fork()\n"
     ]
    },
    {
     "name": "stdout",
     "output_type": "stream",
     "text": [
      "iter   6: ll=5273242.342597, converged: 0.12% (loc: 0.12%, scale update: True), in 18.67sec\n",
      "iter   7: ll=5269603.699629, converged: 0.12% (loc: 7.45%, scale update: False), in 2.51sec\n",
      "iter   8: ll=5268594.727952, converged: 0.12% (loc: 9.39%, scale update: False), in 2.68sec\n",
      "iter   9: ll=5268290.623182, converged: 0.12% (loc: 16.70%, scale update: False), in 2.65sec\n",
      "iter  10: ll=5268184.203646, converged: 0.12% (loc: 28.59%, scale update: False), in 2.59sec\n",
      "iter  11: ll=5268134.073682, converged: 0.12% (loc: 42.45%, scale update: False), in 2.40sec\n",
      "Fitting 9860 dispersion models: (progress not available with multiprocessing)"
     ]
    },
    {
     "name": "stderr",
     "output_type": "stream",
     "text": [
      "/usr/lib/python3.10/multiprocessing/popen_fork.py:66: RuntimeWarning: os.fork() was called. os.fork() is incompatible with multithreaded code, and JAX is multithreaded, so this will likely lead to a deadlock.\n",
      "  self.pid = os.fork()\n"
     ]
    },
    {
     "name": "stdout",
     "output_type": "stream",
     "text": [
      "iter  12: ll=5095715.309194, converged: 6.51% (loc: 6.51%, scale update: True), in 19.10sec\n",
      "iter  13: ll=5095452.555549, converged: 6.51% (loc: 17.81%, scale update: False), in 2.48sec\n",
      "iter  14: ll=5095379.386824, converged: 6.51% (loc: 29.16%, scale update: False), in 2.30sec\n",
      "iter  15: ll=5095359.212595, converged: 6.51% (loc: 45.26%, scale update: False), in 2.46sec\n",
      "iter  16: ll=5095349.004161, converged: 6.51% (loc: 63.18%, scale update: False), in 2.13sec\n",
      "iter  17: ll=5095343.862119, converged: 6.51% (loc: 76.46%, scale update: False), in 2.06sec\n",
      "Fitting 9229 dispersion models: (progress not available with multiprocessing)"
     ]
    },
    {
     "name": "stderr",
     "output_type": "stream",
     "text": [
      "/usr/lib/python3.10/multiprocessing/popen_fork.py:66: RuntimeWarning: os.fork() was called. os.fork() is incompatible with multithreaded code, and JAX is multithreaded, so this will likely lead to a deadlock.\n",
      "  self.pid = os.fork()\n"
     ]
    },
    {
     "name": "stdout",
     "output_type": "stream",
     "text": [
      "iter  18: ll=5004336.711455, converged: 16.57% (loc: 16.57%, scale update: True), in 17.58sec\n",
      "iter  19: ll=5004292.270535, converged: 16.57% (loc: 45.24%, scale update: False), in 2.86sec\n",
      "iter  20: ll=5004289.658466, converged: 16.57% (loc: 62.43%, scale update: False), in 2.13sec\n",
      "iter  21: ll=5004289.559119, converged: 16.57% (loc: 76.36%, scale update: False), in 2.03sec\n",
      "iter  22: ll=5004289.551931, converged: 16.57% (loc: 89.10%, scale update: False), in 1.51sec\n",
      "iter  23: ll=5004289.550487, converged: 16.57% (loc: 96.31%, scale update: False), in 1.58sec\n",
      "Fitting 8236 dispersion models: (progress not available with multiprocessing)"
     ]
    },
    {
     "name": "stderr",
     "output_type": "stream",
     "text": [
      "/usr/lib/python3.10/multiprocessing/popen_fork.py:66: RuntimeWarning: os.fork() was called. os.fork() is incompatible with multithreaded code, and JAX is multithreaded, so this will likely lead to a deadlock.\n",
      "  self.pid = os.fork()\n"
     ]
    },
    {
     "name": "stdout",
     "output_type": "stream",
     "text": [
      "iter  24: ll=4961218.261712, converged: 43.97% (loc: 43.97%, scale update: True), in 15.82sec\n",
      "iter  25: ll=4961199.565215, converged: 43.97% (loc: 81.22%, scale update: False), in 2.17sec\n",
      "iter  26: ll=4961199.522881, converged: 43.97% (loc: 92.04%, scale update: False), in 1.74sec\n",
      "iter  27: ll=4961199.521269, converged: 43.97% (loc: 97.33%, scale update: False), in 1.36sec\n",
      "iter  28: ll=4961199.521080, converged: 43.97% (loc: 99.07%, scale update: False), in 1.19sec\n",
      "iter  29: ll=4961199.521050, converged: 43.97% (loc: 99.71%, scale update: False), in 0.84sec\n",
      "Fitting 5531 dispersion models: (progress not available with multiprocessing)"
     ]
    },
    {
     "name": "stderr",
     "output_type": "stream",
     "text": [
      "/usr/lib/python3.10/multiprocessing/popen_fork.py:66: RuntimeWarning: os.fork() was called. os.fork() is incompatible with multithreaded code, and JAX is multithreaded, so this will likely lead to a deadlock.\n",
      "  self.pid = os.fork()\n"
     ]
    },
    {
     "name": "stdout",
     "output_type": "stream",
     "text": [
      "iter  30: ll=4941014.285316, converged: 80.39% (loc: 80.39%, scale update: True), in 11.37sec\n",
      "iter  31: ll=4940994.728199, converged: 80.39% (loc: 93.95%, scale update: False), in 1.66sec\n",
      "iter  32: ll=4940991.867491, converged: 80.39% (loc: 97.90%, scale update: False), in 1.33sec\n",
      "iter  33: ll=4940991.867371, converged: 80.39% (loc: 99.47%, scale update: False), in 1.24sec\n",
      "iter  34: ll=4940991.867361, converged: 80.39% (loc: 99.83%, scale update: False), in 0.59sec\n",
      "iter  35: ll=4940991.867360, converged: 80.39% (loc: 99.95%, scale update: False), in 0.31sec\n",
      "Fitting 1936 dispersion models: (progress not available with multiprocessing)"
     ]
    },
    {
     "name": "stderr",
     "output_type": "stream",
     "text": [
      "/usr/lib/python3.10/multiprocessing/popen_fork.py:66: RuntimeWarning: os.fork() was called. os.fork() is incompatible with multithreaded code, and JAX is multithreaded, so this will likely lead to a deadlock.\n",
      "  self.pid = os.fork()\n"
     ]
    },
    {
     "name": "stdout",
     "output_type": "stream",
     "text": [
      "iter  36: ll=4932969.017980, converged: 93.60% (loc: 93.60%, scale update: True), in 5.47sec\n",
      "iter  37: ll=4932964.059412, converged: 93.60% (loc: 97.96%, scale update: False), in 1.50sec\n",
      "caught 1 linalg singular matrix errors\n",
      "iter  38: ll=4932964.044041, converged: 93.60% (loc: 99.43%, scale update: False), in 1.15sec\n",
      "caught 5 linalg singular matrix errors\n",
      "iter  39: ll=4932964.044028, converged: 93.60% (loc: 99.88%, scale update: False), in 0.66sec\n",
      "caught 1 linalg singular matrix errors\n",
      "iter  40: ll=4932964.044027, converged: 93.60% (loc: 99.97%, scale update: False), in 0.31sec\n",
      "iter  41: ll=4932964.044027, converged: 93.60% (loc: 99.99%, scale update: False), in 0.21sec\n",
      "Fitting 632 dispersion models: (progress not available with multiprocessing)"
     ]
    },
    {
     "name": "stderr",
     "output_type": "stream",
     "text": [
      "/usr/lib/python3.10/multiprocessing/popen_fork.py:66: RuntimeWarning: os.fork() was called. os.fork() is incompatible with multithreaded code, and JAX is multithreaded, so this will likely lead to a deadlock.\n",
      "  self.pid = os.fork()\n"
     ]
    },
    {
     "name": "stdout",
     "output_type": "stream",
     "text": [
      "iter  42: ll=4929791.656488, converged: 97.71% (loc: 97.71%, scale update: True), in 3.58sec\n",
      "caught 12 linalg singular matrix errors\n",
      "iter  43: ll=4929778.217983, converged: 97.71% (loc: 99.31%, scale update: False), in 1.23sec\n",
      "caught 1 linalg singular matrix errors\n",
      "iter  44: ll=4929778.215609, converged: 97.71% (loc: 99.83%, scale update: False), in 0.89sec\n",
      "caught 1 linalg singular matrix errors\n",
      "iter  45: ll=4929778.215609, converged: 97.71% (loc: 99.98%, scale update: False), in 0.35sec\n",
      "iter  46: ll=4929778.215609, converged: 97.71% (loc: 100.00%, scale update: False), in 0.19sec\n",
      "Fitting 226 dispersion models: (progress not available with multiprocessing)"
     ]
    },
    {
     "name": "stderr",
     "output_type": "stream",
     "text": [
      "/usr/lib/python3.10/multiprocessing/popen_fork.py:66: RuntimeWarning: os.fork() was called. os.fork() is incompatible with multithreaded code, and JAX is multithreaded, so this will likely lead to a deadlock.\n",
      "  self.pid = os.fork()\n"
     ]
    },
    {
     "name": "stdout",
     "output_type": "stream",
     "text": [
      "iter  47: ll=4927711.316833, converged: 99.24% (loc: 99.24%, scale update: True), in 3.23sec\n",
      "caught 4 linalg singular matrix errors\n",
      "iter  48: ll=4927711.297888, converged: 99.24% (loc: 99.81%, scale update: False), in 0.78sec\n",
      "iter  49: ll=4927711.297887, converged: 99.24% (loc: 99.96%, scale update: False), in 0.34sec\n",
      "iter  50: ll=4927711.297887, converged: 99.24% (loc: 100.00%, scale update: False), in 0.21sec\n",
      "Fitting 75 dispersion models: (progress not available with multiprocessing)"
     ]
    },
    {
     "name": "stderr",
     "output_type": "stream",
     "text": [
      "/usr/lib/python3.10/multiprocessing/popen_fork.py:66: RuntimeWarning: os.fork() was called. os.fork() is incompatible with multithreaded code, and JAX is multithreaded, so this will likely lead to a deadlock.\n",
      "  self.pid = os.fork()\n"
     ]
    },
    {
     "name": "stdout",
     "output_type": "stream",
     "text": [
      "iter  51: ll=4927339.192271, converged: 99.79% (loc: 99.79%, scale update: True), in 2.81sec\n",
      "iter  52: ll=4927337.464388, converged: 99.79% (loc: 99.91%, scale update: False), in 0.40sec\n",
      "iter  53: ll=4927337.464388, converged: 99.79% (loc: 99.99%, scale update: False), in 0.24sec\n",
      "iter  54: ll=4927337.464388, converged: 99.79% (loc: 100.00%, scale update: False), in 0.17sec\n",
      "Fitting 21 dispersion models: (progress not available with multiprocessing)"
     ]
    },
    {
     "name": "stderr",
     "output_type": "stream",
     "text": [
      "/usr/lib/python3.10/multiprocessing/popen_fork.py:66: RuntimeWarning: os.fork() was called. os.fork() is incompatible with multithreaded code, and JAX is multithreaded, so this will likely lead to a deadlock.\n",
      "  self.pid = os.fork()\n"
     ]
    },
    {
     "name": "stdout",
     "output_type": "stream",
     "text": [
      "iter  55: ll=4926826.745041, converged: 99.91% (loc: 99.91%, scale update: True), in 2.59sec\n",
      "iter  56: ll=4926822.731059, converged: 99.91% (loc: 99.98%, scale update: False), in 0.24sec\n",
      "iter  57: ll=4926822.731059, converged: 99.91% (loc: 100.00%, scale update: False), in 0.19sec\n",
      "Fitting 9 dispersion models: (progress not available with multiprocessing)"
     ]
    },
    {
     "name": "stderr",
     "output_type": "stream",
     "text": [
      "/usr/lib/python3.10/multiprocessing/popen_fork.py:66: RuntimeWarning: os.fork() was called. os.fork() is incompatible with multithreaded code, and JAX is multithreaded, so this will likely lead to a deadlock.\n",
      "  self.pid = os.fork()\n"
     ]
    },
    {
     "name": "stdout",
     "output_type": "stream",
     "text": [
      "iter  58: ll=4926822.731058, converged: 99.97% (loc: 99.97%, scale update: True), in 2.33sec\n",
      "iter  59: ll=4926822.731058, converged: 99.97% (loc: 99.99%, scale update: False), in 0.22sec\n",
      "iter  60: ll=4926822.731058, converged: 99.97% (loc: 100.00%, scale update: False), in 0.17sec\n",
      "iter  61: ll=4926822.731058, converged: 99.99% (loc: 99.99%, scale update: True), in 0.21sec\n",
      "iter  62: ll=4926822.731058, converged: 99.99% (loc: 99.99%, scale update: False), in 0.17sec\n",
      "iter  63: ll=4926822.731058, converged: 99.99% (loc: 100.00%, scale update: False), in 0.17sec\n",
      "iter  64: ll=4926822.731058, converged: 99.99% (loc: 99.99%, scale update: True), in 0.16sec\n",
      "iter  65: ll=4926822.731057, converged: 99.99% (loc: 100.00%, scale update: False), in 0.18sec\n",
      "iter  66: ll=4926822.731057, converged: 100.00% (loc: 100.00%, scale update: True), in 0.15sec\n"
     ]
    },
    {
     "name": "stderr",
     "output_type": "stream",
     "text": [
      "/usr/local/lib/python3.10/dist-packages/dask/array/core.py:2894: RuntimeWarning: divide by zero encountered in divide\n",
      "  size = (limit / dtype.itemsize / largest_block) ** (1 / len(autos))\n"
     ]
    }
   ],
   "source": [
    "for clust in adata_ctrl.obs['cell_types_used'].cat.categories:\n",
    "    adata_tmp = adata_ctrl[adata_ctrl.obs['cell_types_used'] == clust,:].copy()\n",
    "\n",
    "    print(f'In cluster {clust}:')\n",
    "    print(adata_tmp.obs.condition.value_counts())\n",
    "\n",
    "    # Filter out genes to reduce multiple testing burden\n",
    "    sc.pp.filter_genes(adata_tmp, min_cells=50)\n",
    "    print(f'Testing {adata_tmp.n_vars} genes...')\n",
    "    print(\"\")\n",
    "    \n",
    "    test_tmp = de.test.wald(\n",
    "    data=adata_tmp.layers['soupX_counts'],\n",
    "    formula_loc=\"~ 1 + cultivation_period + donor_period + size_factors\",\n",
    "    as_numeric=['size_factors'],\n",
    "    coef_to_test=['cultivation_period[T.hp]'],\n",
    "    sample_description=adata_tmp.obs,\n",
    "    gene_names=adata_tmp.var['gene_ids'].astype(str),\n",
    "    constraints_loc={'donor_period':'cultivation_period'},\n",
    "    noise_model='nb',\n",
    "    dtype=\"float64\"\n",
    "    )\n",
    "    \n",
    "    #Store the results\n",
    "    de_results_ctrl[clust] = test_tmp\n",
    "    "
   ]
  },
  {
   "cell_type": "markdown",
   "metadata": {
    "jp-MarkdownHeadingCollapsed": true
   },
   "source": [
    "### Bulk-like DE testing across all clusters"
   ]
  },
  {
   "cell_type": "code",
   "execution_count": 25,
   "metadata": {
    "scrolled": true
   },
   "outputs": [
    {
     "name": "stdout",
     "output_type": "stream",
     "text": [
      "condition\n",
      "Control    23368\n",
      "Name: count, dtype: int64\n",
      "filtered out 1599 genes that are detected in less than 50 cells\n"
     ]
    },
    {
     "name": "stderr",
     "output_type": "stream",
     "text": [
      "Built constraints: donor_period[UKERi1E4-R1-003_lp]+donor_period[UKERi1JF-R1-018_lp]+donor_period[UKERi82A-R1-002_lp]+donor_period[UKERiG3G-R1-039_lp]+donor_period[UKERiO3H-R1-005_lp]=0, donor_period[UKERi1E4-R1-003_hp]+donor_period[UKERi1JF-R1-018_hp]+donor_period[UKERi82A-R1-002_hp]+donor_period[UKERiG3G-R1-039_hp]+donor_period[UKERiO3H-R1-005_hp]=0\n"
     ]
    },
    {
     "name": "stdout",
     "output_type": "stream",
     "text": [
      "Testing 15767 genes...\n",
      "\n"
     ]
    },
    {
     "name": "stderr",
     "output_type": "stream",
     "text": [
      "/usr/local/lib/python3.10/dist-packages/batchglm/models/base_glm/utils.py:158: PerformanceWarning: Slicing is producing a large chunk. To accept the large\n",
      "chunk and silence this warning, set the option\n",
      "    >>> with dask.config.set(**{'array.slicing.split_large_chunks': False}):\n",
      "    ...     array[indexer]\n",
      "\n",
      "To avoid creating the large chunks, set the option\n",
      "    >>> with dask.config.set(**{'array.slicing.split_large_chunks': True}):\n",
      "    ...     array[indexer]\n",
      "  np.mean(x[np.where(grouping == g)[0], :], axis=0)\n",
      "/usr/local/lib/python3.10/dist-packages/batchglm/models/base_glm/utils.py:171: PerformanceWarning: Slicing is producing a large chunk. To accept the large\n",
      "chunk and silence this warning, set the option\n",
      "    >>> with dask.config.set(**{'array.slicing.split_large_chunks': False}):\n",
      "    ...     array[indexer]\n",
      "\n",
      "To avoid creating the large chunks, set the option\n",
      "    >>> with dask.config.set(**{'array.slicing.split_large_chunks': True}):\n",
      "    ...     array[indexer]\n",
      "  expect_xsq = np.vstack([np.mean(np.square(x[np.where(grouping == g)[0], :]), axis=0)\n"
     ]
    },
    {
     "name": "stdout",
     "output_type": "stream",
     "text": [
      "training location model: True\n",
      "training scale model: True\n",
      "iter   0: ll=292249401.119247\n",
      "iter   1: ll=279781133.321090, converged: 0.00% (loc: 4.75%, scale update: False), in 129.20sec\n",
      "iter   2: ll=276415621.596965, converged: 0.00% (loc: 5.77%, scale update: False), in 125.10sec\n",
      "iter   3: ll=275757567.158237, converged: 0.00% (loc: 5.77%, scale update: False), in 122.81sec\n",
      "iter   4: ll=275627370.643273, converged: 0.00% (loc: 5.79%, scale update: False), in 120.50sec\n",
      "iter   5: ll=275603485.930674, converged: 0.00% (loc: 6.33%, scale update: False), in 124.02sec\n",
      "Fitting 15767 dispersion models: (progress not available with multiprocessing)"
     ]
    },
    {
     "name": "stderr",
     "output_type": "stream",
     "text": [
      "/usr/lib/python3.10/multiprocessing/popen_fork.py:66: RuntimeWarning: os.fork() was called. os.fork() is incompatible with multithreaded code, and JAX is multithreaded, so this will likely lead to a deadlock.\n",
      "  self.pid = os.fork()\n"
     ]
    },
    {
     "name": "stdout",
     "output_type": "stream",
     "text": [
      "iter   6: ll=265889267.570729, converged: 0.00% (loc: 0.00%, scale update: True), in 800.38sec\n",
      "iter   7: ll=265759306.747446, converged: 0.00% (loc: 4.98%, scale update: False), in 128.36sec\n",
      "iter   8: ll=265739735.329416, converged: 0.00% (loc: 6.20%, scale update: False), in 122.77sec\n",
      "iter   9: ll=265735393.856396, converged: 0.00% (loc: 12.56%, scale update: False), in 121.70sec\n",
      "iter  10: ll=265733841.571506, converged: 0.00% (loc: 24.11%, scale update: False), in 115.27sec\n",
      "iter  11: ll=265733093.150023, converged: 0.00% (loc: 39.28%, scale update: False), in 102.01sec\n",
      "Fitting 15767 dispersion models: (progress not available with multiprocessing)"
     ]
    },
    {
     "name": "stderr",
     "output_type": "stream",
     "text": [
      "/usr/lib/python3.10/multiprocessing/popen_fork.py:66: RuntimeWarning: os.fork() was called. os.fork() is incompatible with multithreaded code, and JAX is multithreaded, so this will likely lead to a deadlock.\n",
      "  self.pid = os.fork()\n"
     ]
    },
    {
     "name": "stdout",
     "output_type": "stream",
     "text": [
      "iter  12: ll=265628666.649884, converged: 4.78% (loc: 4.78%, scale update: True), in 800.37sec\n",
      "iter  13: ll=265626763.839773, converged: 4.78% (loc: 12.67%, scale update: False), in 124.90sec\n",
      "iter  14: ll=265626024.060897, converged: 4.78% (loc: 25.31%, scale update: False), in 112.48sec\n",
      "iter  15: ll=265625540.510944, converged: 4.78% (loc: 41.72%, scale update: False), in 99.81sec\n",
      "iter  16: ll=265625195.740109, converged: 4.78% (loc: 59.22%, scale update: False), in 79.65sec\n",
      "iter  17: ll=265624949.387130, converged: 4.78% (loc: 76.10%, scale update: False), in 59.67sec\n",
      "Fitting 15014 dispersion models: (progress not available with multiprocessing)"
     ]
    },
    {
     "name": "stderr",
     "output_type": "stream",
     "text": [
      "/usr/lib/python3.10/multiprocessing/popen_fork.py:66: RuntimeWarning: os.fork() was called. os.fork() is incompatible with multithreaded code, and JAX is multithreaded, so this will likely lead to a deadlock.\n",
      "  self.pid = os.fork()\n"
     ]
    },
    {
     "name": "stdout",
     "output_type": "stream",
     "text": [
      "iter  18: ll=265565212.437439, converged: 12.47% (loc: 12.47%, scale update: True), in 758.07sec\n",
      "iter  19: ll=265564831.450675, converged: 12.47% (loc: 43.48%, scale update: False), in 115.76sec\n",
      "iter  20: ll=265564589.945104, converged: 12.47% (loc: 62.76%, scale update: False), in 85.44sec\n",
      "iter  21: ll=265564449.145021, converged: 12.47% (loc: 80.93%, scale update: False), in 62.25sec\n",
      "iter  22: ll=265564374.356043, converged: 12.47% (loc: 94.01%, scale update: False), in 40.81sec\n",
      "iter  23: ll=265564341.232366, converged: 12.47% (loc: 97.82%, scale update: False), in 26.82sec\n",
      "Fitting 13801 dispersion models: (progress not available with multiprocessing)"
     ]
    },
    {
     "name": "stderr",
     "output_type": "stream",
     "text": [
      "/usr/lib/python3.10/multiprocessing/popen_fork.py:66: RuntimeWarning: os.fork() was called. os.fork() is incompatible with multithreaded code, and JAX is multithreaded, so this will likely lead to a deadlock.\n",
      "  self.pid = os.fork()\n"
     ]
    },
    {
     "name": "stdout",
     "output_type": "stream",
     "text": [
      "iter  24: ll=265540261.802435, converged: 43.29% (loc: 43.29%, scale update: True), in 735.60sec\n",
      "iter  25: ll=265540218.442154, converged: 43.29% (loc: 81.80%, scale update: False), in 78.59sec\n",
      "iter  26: ll=265540203.054048, converged: 43.29% (loc: 95.77%, scale update: False), in 38.32sec\n",
      "iter  27: ll=265540195.673022, converged: 43.29% (loc: 99.27%, scale update: False), in 24.18sec\n",
      "iter  28: ll=265540193.069099, converged: 43.29% (loc: 99.71%, scale update: False), in 12.07sec\n",
      "iter  29: ll=265540192.597006, converged: 43.29% (loc: 99.85%, scale update: False), in 6.97sec\n",
      "Fitting 8942 dispersion models: (progress not available with multiprocessing)"
     ]
    },
    {
     "name": "stderr",
     "output_type": "stream",
     "text": [
      "/usr/lib/python3.10/multiprocessing/popen_fork.py:66: RuntimeWarning: os.fork() was called. os.fork() is incompatible with multithreaded code, and JAX is multithreaded, so this will likely lead to a deadlock.\n",
      "  self.pid = os.fork()\n"
     ]
    },
    {
     "name": "stdout",
     "output_type": "stream",
     "text": [
      "iter  30: ll=265535424.636078, converged: 81.54% (loc: 81.54%, scale update: True), in 487.50sec\n",
      "iter  31: ll=265535423.935922, converged: 81.54% (loc: 99.02%, scale update: False), in 39.93sec\n",
      "iter  32: ll=265535423.871426, converged: 81.54% (loc: 99.79%, scale update: False), in 14.62sec\n",
      "iter  33: ll=265535423.865616, converged: 81.54% (loc: 99.90%, scale update: False), in 4.92sec\n",
      "iter  34: ll=265535423.864958, converged: 81.54% (loc: 99.95%, scale update: False), in 2.78sec\n",
      "iter  35: ll=265535423.864876, converged: 81.54% (loc: 99.97%, scale update: False), in 2.12sec\n",
      "Fitting 2911 dispersion models: (progress not available with multiprocessing)"
     ]
    },
    {
     "name": "stderr",
     "output_type": "stream",
     "text": [
      "/usr/lib/python3.10/multiprocessing/popen_fork.py:66: RuntimeWarning: os.fork() was called. os.fork() is incompatible with multithreaded code, and JAX is multithreaded, so this will likely lead to a deadlock.\n",
      "  self.pid = os.fork()\n"
     ]
    },
    {
     "name": "stdout",
     "output_type": "stream",
     "text": [
      "iter  36: ll=265535191.521235, converged: 98.96% (loc: 98.96%, scale update: True), in 210.57sec\n",
      "iter  37: ll=265535191.520466, converged: 98.96% (loc: 99.90%, scale update: False), in 16.41sec\n",
      "iter  38: ll=265535191.520400, converged: 98.96% (loc: 99.95%, scale update: False), in 2.92sec\n",
      "caught 2 linalg singular matrix errors\n",
      "iter  39: ll=265535191.520393, converged: 98.96% (loc: 99.99%, scale update: False), in 2.21sec\n",
      "iter  40: ll=265535191.520392, converged: 98.96% (loc: 99.99%, scale update: False), in 1.69sec\n",
      "iter  41: ll=265535191.520392, converged: 98.96% (loc: 99.99%, scale update: False), in 1.63sec\n",
      "Fitting 164 dispersion models: (progress not available with multiprocessing)"
     ]
    },
    {
     "name": "stderr",
     "output_type": "stream",
     "text": [
      "/usr/lib/python3.10/multiprocessing/popen_fork.py:66: RuntimeWarning: os.fork() was called. os.fork() is incompatible with multithreaded code, and JAX is multithreaded, so this will likely lead to a deadlock.\n",
      "  self.pid = os.fork()\n"
     ]
    },
    {
     "name": "stdout",
     "output_type": "stream",
     "text": [
      "iter  42: ll=265534946.856893, converged: 99.89% (loc: 99.89%, scale update: True), in 104.11sec\n",
      "caught 3 linalg singular matrix errors\n",
      "iter  43: ll=265534946.856893, converged: 99.89% (loc: 99.99%, scale update: False), in 3.54sec\n",
      "iter  44: ll=265534946.856892, converged: 99.89% (loc: 99.99%, scale update: False), in 1.62sec\n",
      "iter  45: ll=265534946.856892, converged: 99.89% (loc: 99.99%, scale update: False), in 1.54sec\n",
      "iter  46: ll=265534946.856892, converged: 99.89% (loc: 100.00%, scale update: False), in 1.65sec\n",
      "Fitting 18 dispersion models: (progress not available with multiprocessing)"
     ]
    },
    {
     "name": "stderr",
     "output_type": "stream",
     "text": [
      "/usr/lib/python3.10/multiprocessing/popen_fork.py:66: RuntimeWarning: os.fork() was called. os.fork() is incompatible with multithreaded code, and JAX is multithreaded, so this will likely lead to a deadlock.\n",
      "  self.pid = os.fork()\n"
     ]
    },
    {
     "name": "stdout",
     "output_type": "stream",
     "text": [
      "iter  47: ll=265534946.856892, converged: 99.99% (loc: 99.99%, scale update: True), in 74.51sec\n",
      "iter  48: ll=265534946.856892, converged: 99.99% (loc: 100.00%, scale update: False), in 1.83sec\n",
      "iter  49: ll=265534946.856892, converged: 100.00% (loc: 100.00%, scale update: True), in 1.88sec\n"
     ]
    },
    {
     "name": "stderr",
     "output_type": "stream",
     "text": [
      "/usr/local/lib/python3.10/dist-packages/dask/array/core.py:2894: RuntimeWarning: divide by zero encountered in divide\n",
      "  size = (limit / dtype.itemsize / largest_block) ** (1 / len(autos))\n"
     ]
    }
   ],
   "source": [
    "# Make a copy for the testing\n",
    "adata_test = adata_ctrl.copy()\n",
    "\n",
    "print(adata_test.obs.condition.value_counts())\n",
    "\n",
    "# Filter out genes to reduce multiple testing burden\n",
    "sc.pp.filter_genes(adata_test, min_cells=50)\n",
    "print(f'Testing {adata_test.n_vars} genes...')\n",
    "print(\"\")\n",
    "    \n",
    "test_bulk_ctrl = de.test.wald(\n",
    "    data=adata_test.layers['soupX_counts'],\n",
    "    formula_loc=\"~ 1 + cultivation_period + donor_period + size_factors\",\n",
    "    as_numeric=['size_factors'],\n",
    "    coef_to_test=['cultivation_period[T.hp]'],\n",
    "    sample_description=adata_test.obs,\n",
    "    gene_names=adata_test.var['gene_ids'].astype(str),\n",
    "    constraints_loc={'donor_period':'cultivation_period'},\n",
    "    noise_model='nb',\n",
    "    dtype=\"float64\"\n",
    ")\n"
   ]
  },
  {
   "cell_type": "markdown",
   "metadata": {
    "jp-MarkdownHeadingCollapsed": true
   },
   "source": [
    "### Post-process data"
   ]
  },
  {
   "cell_type": "code",
   "execution_count": 26,
   "metadata": {},
   "outputs": [],
   "source": [
    "# extract gene symbol - gene_ids informations for later conversion\n",
    "df_var = pd.DataFrame(adata.var)\n",
    "df_var = df_var[['gene_symbols', 'gene_ids']]\n",
    "df_var.reset_index(inplace=True) \n",
    "df_var = df_var.drop(columns='index')"
   ]
  },
  {
   "cell_type": "code",
   "execution_count": 26,
   "metadata": {},
   "outputs": [
    {
     "name": "stdout",
     "output_type": "stream",
     "text": [
      "There are 0 -inf log likelihood values. Filtering these out now...\n",
      "There are 7 logFC std. dev.s < 10E-100. Filtering these out now...\n",
      "There are 0 -inf log likelihood values. Filtering these out now...\n",
      "There are 1 logFC std. dev.s < 10E-100. Filtering these out now...\n",
      "There are 0 -inf log likelihood values. Filtering these out now...\n",
      "There are 3 logFC std. dev.s < 10E-100. Filtering these out now...\n",
      "There are 0 -inf log likelihood values. Filtering these out now...\n",
      "There are 0 logFC std. dev.s < 10E-100. Filtering these out now...\n",
      "There are 0 -inf log likelihood values. Filtering these out now...\n",
      "There are 106 logFC std. dev.s < 10E-100. Filtering these out now...\n",
      "There are 0 -inf log likelihood values. Filtering these out now...\n",
      "There are 10 logFC std. dev.s < 10E-100. Filtering these out now...\n",
      "There are 0 -inf log likelihood values. Filtering these out now...\n",
      "There are 2 logFC std. dev.s < 10E-100. Filtering these out now...\n",
      "There are 0 -inf log likelihood values. Filtering these out now...\n",
      "There are 231 logFC std. dev.s < 10E-100. Filtering these out now...\n",
      "There are 0 -inf log likelihood values. Filtering these out now...\n",
      "There are 22 logFC std. dev.s < 10E-100. Filtering these out now...\n"
     ]
    }
   ],
   "source": [
    "de_signif_ctrl = dict()\n",
    "de_full_res_ctrl = dict()\n",
    "\n",
    "for clust in de_results_ctrl:\n",
    "    tmp = de_results_ctrl[clust].summary()\n",
    "    \n",
    "    # add gene symbols\n",
    "    tmp = tmp.rename(columns = {\"gene\" : \"gene_ids\"})\n",
    "    tmp = tmp.merge(df_var, how = 'inner', on='gene_ids')\n",
    "\n",
    "    n_infll = np.sum(tmp['ll'] == np.float64('-inf'))\n",
    "    print(f'There are {n_infll} -inf log likelihood values. Filtering these out now...')\n",
    "    tmp = tmp.loc[tmp['ll'] != np.float64('-inf')]\n",
    "\n",
    "    n_unconverged = np.sum(tmp['coef_sd'] < 10E-100)\n",
    "    print(f'There are {n_unconverged} logFC std. dev.s < 10E-100. Filtering these out now...')    \n",
    "    tmp = tmp.loc[tmp['coef_sd'] > 10E-100]\n",
    "    \n",
    "    #Sort values by q-value\n",
    "    tmp.sort_values(by='qval', ascending=True, inplace=True)\n",
    "    \n",
    "    de_full_res_ctrl[clust] = tmp.copy()\n",
    "    \n",
    "    #Filter by q-value to get significant DE genes\n",
    "    tmp_filt = tmp.loc[tmp['qval'] < 0.05]\n",
    "    de_signif_ctrl[clust] = tmp_filt.copy()"
   ]
  },
  {
   "cell_type": "code",
   "execution_count": 27,
   "metadata": {},
   "outputs": [
    {
     "name": "stdout",
     "output_type": "stream",
     "text": [
      "There are 0 -inf log likelihood values. Filtering these out now...\n",
      "There are 4 logFC std. dev.s < 10E-100. Filtering these out now...\n"
     ]
    }
   ],
   "source": [
    "# bulk-like data\n",
    "bulk_res_ctrl = test_bulk_ctrl.summary()\n",
    "\n",
    "bulk_res_ctrl = bulk_res_ctrl.rename(columns = {\"gene\" : \"gene_ids\"})\n",
    "bulk_res_ctrl = bulk_res_ctrl.merge(df_var, how = 'inner', on='gene_ids')\n",
    "\n",
    "n_infll = np.sum(bulk_res_ctrl['ll'] == np.float64('-inf'))\n",
    "print(f'There are {n_infll} -inf log likelihood values. Filtering these out now...')\n",
    "bulk_res_ctrl = bulk_res_ctrl.loc[bulk_res_ctrl['ll'] != np.float64('-inf')]\n",
    "\n",
    "n_unconverged = np.sum(bulk_res_ctrl['coef_sd'] < 10E-100)\n",
    "print(f'There are {n_unconverged} logFC std. dev.s < 10E-100. Filtering these out now...')    \n",
    "bulk_res_ctrl = bulk_res_ctrl.loc[bulk_res_ctrl['coef_sd'] > 10E-100]\n",
    "\n",
    "#Sort values by q-value\n",
    "bulk_res_ctrl.sort_values(by='qval', ascending=True, inplace=True)\n",
    "        \n",
    "#Filter by q-value to get significant DE genes\n",
    "bulk_res_filt_ctrl = bulk_res_ctrl.loc[bulk_res_ctrl['qval'] < 0.05]\n"
   ]
  },
  {
   "cell_type": "markdown",
   "metadata": {},
   "source": [
    "### Show DEGs"
   ]
  },
  {
   "cell_type": "code",
   "execution_count": 28,
   "metadata": {},
   "outputs": [
    {
     "name": "stdout",
     "output_type": "stream",
     "text": [
      "DEGs at FDR < 0.05:\n"
     ]
    },
    {
     "data": {
      "text/plain": [
       "{'Apop.-NCSC': 71,\n",
       " 'Apop.-NSC': 3483,\n",
       " 'Glial-precursors': 149,\n",
       " 'Immature-neurons': 2666,\n",
       " 'NCSC': 300,\n",
       " 'NSC1a': 8231,\n",
       " 'NSC1b': 8500,\n",
       " 'NSC2a': 1891,\n",
       " 'NSC2b': 1690}"
      ]
     },
     "execution_count": 28,
     "metadata": {},
     "output_type": "execute_result"
    },
    {
     "name": "stdout",
     "output_type": "stream",
     "text": [
      "DEGs at FDR < 0.01:\n"
     ]
    },
    {
     "data": {
      "text/plain": [
       "{'Apop.-NCSC': 49,\n",
       " 'Apop.-NSC': 2851,\n",
       " 'Glial-precursors': 85,\n",
       " 'Immature-neurons': 1913,\n",
       " 'NCSC': 181,\n",
       " 'NSC1a': 7223,\n",
       " 'NSC1b': 7488,\n",
       " 'NSC2a': 1310,\n",
       " 'NSC2b': 1101}"
      ]
     },
     "execution_count": 28,
     "metadata": {},
     "output_type": "execute_result"
    }
   ],
   "source": [
    "# Number of differentially expressed genes (DEGs)\n",
    "print('DEGs at FDR < 0.05:')\n",
    "{clust:de_signif_ctrl[clust].shape[0] for clust in de_signif_ctrl}\n",
    "\n",
    "print('DEGs at FDR < 0.01:')\n",
    "{clust:de_signif_ctrl[clust].loc[(de_signif_ctrl[clust]['qval']<0.01)].shape[0] for clust in de_signif_ctrl}"
   ]
  },
  {
   "cell_type": "code",
   "execution_count": 29,
   "metadata": {},
   "outputs": [
    {
     "name": "stdout",
     "output_type": "stream",
     "text": [
      "DEGs at FDR < 0.05:\n",
      "Bulk: 12075\n",
      "DEGs at FDR < 0.01:\n",
      "Bulk: 11325\n"
     ]
    }
   ],
   "source": [
    "#DEGs in bulk-like data\n",
    "print('DEGs at FDR < 0.05:')\n",
    "print(f'Bulk: {bulk_res_filt_ctrl.shape[0]}')\n",
    "\n",
    "print('DEGs at FDR < 0.01:')\n",
    "degnum001 = bulk_res_filt_ctrl.loc[(bulk_res_filt_ctrl['qval']<0.01)].shape[0]\n",
    "print(f'Bulk: {degnum001}')"
   ]
  },
  {
   "cell_type": "markdown",
   "metadata": {},
   "source": [
    "Notes:\n",
    "- there are quite a lot of DEGs at FDR < 0.05 and at FDR < 0.01\n",
    "- Could use either threshold, FDR < 0.01 would be okay for higher confidence"
   ]
  },
  {
   "cell_type": "markdown",
   "metadata": {},
   "source": [
    "### Save data"
   ]
  },
  {
   "cell_type": "code",
   "execution_count": 30,
   "metadata": {},
   "outputs": [],
   "source": [
    "import pickle"
   ]
  },
  {
   "cell_type": "code",
   "execution_count": 31,
   "metadata": {},
   "outputs": [],
   "source": [
    "#Pickle the de output\n",
    "filename_pickle = save_dir+'diffxpy/'+resolution+'_diffxpy_cell_types_sf_ctrl.pkl'\n",
    "pickle.dump(de_results_ctrl, open(filename_pickle, \"wb\"))"
   ]
  },
  {
   "cell_type": "code",
   "execution_count": 32,
   "metadata": {},
   "outputs": [],
   "source": [
    "#Output individual results\n",
    "for clust in de_signif_ctrl:\n",
    "    \n",
    "    filename_signif = save_dir+'diffxpy/'+resolution+'_diffxpy_'+clust.replace(' ', '_').replace(\n",
    "        '/','_').replace('(','').replace(')','')+'_diff_res_ctrl.csv'\n",
    "    filename_full = save_dir+'diffxpy/'+resolution+'_diffxpy_'+clust.replace(' ', '_').replace(\n",
    "        '/','_').replace('(','').replace(')','')+'_res-table_ctrl.csv'\n",
    "    \n",
    "    de_signif_ctrl[clust].to_csv(filename_signif)\n",
    "    de_full_res_ctrl[clust].to_csv(filename_full)"
   ]
  },
  {
   "cell_type": "code",
   "execution_count": 33,
   "metadata": {},
   "outputs": [],
   "source": [
    "#Pick the DE output - Bulk-like\n",
    "de_output_pickle_bulk = save_dir+'diffxpy/'+resolution+'_diffxpy_bulk_sf_ctrl.pkl'\n",
    "pickle.dump(test_bulk_ctrl, open(de_output_pickle_bulk, \"wb\"))"
   ]
  },
  {
   "cell_type": "code",
   "execution_count": 28,
   "metadata": {},
   "outputs": [],
   "source": [
    "#Output individual results - Bulk-like\n",
    "\n",
    "filename_signif = save_dir+'diffxpy/'+resolution+'_diffxpy_bulk_like_diff_res_ctrl.csv'\n",
    "filename_full = save_dir+'diffxpy/'+resolution+'_diffxpy_bulk_like_res-table_ctrl.csv'\n",
    "    \n",
    "bulk_res_filt_ctrl.to_csv(filename_signif)\n",
    "bulk_res_ctrl.to_csv(filename_full)"
   ]
  },
  {
   "cell_type": "raw",
   "metadata": {},
   "source": []
  },
  {
   "cell_type": "markdown",
   "metadata": {
    "jp-MarkdownHeadingCollapsed": true
   },
   "source": [
    "## Differential expression testing (PD)"
   ]
  },
  {
   "cell_type": "markdown",
   "metadata": {
    "jp-MarkdownHeadingCollapsed": true
   },
   "source": [
    "### Cell type specific DE testing"
   ]
  },
  {
   "cell_type": "code",
   "execution_count": 20,
   "metadata": {},
   "outputs": [],
   "source": [
    "adata_pd = adata[adata.obs['condition'] == 'Parkinson',:].copy()"
   ]
  },
  {
   "cell_type": "code",
   "execution_count": 21,
   "metadata": {},
   "outputs": [],
   "source": [
    "de_results_pd = dict()\n"
   ]
  },
  {
   "cell_type": "code",
   "execution_count": 22,
   "metadata": {},
   "outputs": [
    {
     "data": {
      "text/plain": [
       "['Intercept',\n",
       " 'cultivation_period[T.hp]',\n",
       " 'donor_period[T.UKERi88H-R1-002_lp]',\n",
       " 'donor_period[T.UKERiAY6-R1-003_hp]',\n",
       " 'donor_period[T.UKERiAY6-R1-003_lp]',\n",
       " 'donor_period[T.UKERiC99-R1-007_hp]',\n",
       " 'donor_period[T.UKERiC99-R1-007_lp]',\n",
       " 'donor_period[T.UKERiJ2C-R1-015_hp]',\n",
       " 'donor_period[T.UKERiJ2C-R1-015_lp]',\n",
       " 'donor_period[T.UKERiM89-R1-005_hp]',\n",
       " 'donor_period[T.UKERiM89-R1-005_lp]',\n",
       " 'donor_period[T.UKERiPX7-R1-001_hp]',\n",
       " 'donor_period[T.UKERiPX7-R1-001_lp]',\n",
       " 'donor_period[T.UKERiR66-R1-007_hp]',\n",
       " 'donor_period[T.UKERiR66-R1-007_lp]']"
      ]
     },
     "execution_count": 22,
     "metadata": {},
     "output_type": "execute_result"
    }
   ],
   "source": [
    "de.utils.preview_coef_names(\n",
    "    sample_description=adata_pd.obs,\n",
    "    formula=\"~1 + cultivation_period + donor_period\", \n",
    ")"
   ]
  },
  {
   "cell_type": "code",
   "execution_count": 22,
   "metadata": {
    "scrolled": true
   },
   "outputs": [
    {
     "name": "stdout",
     "output_type": "stream",
     "text": [
      "In cluster Apop.-NCSC:\n",
      "condition\n",
      "Parkinson    159\n",
      "Name: count, dtype: int64\n",
      "filtered out 15440 genes that are detected in less than 50 cells\n"
     ]
    },
    {
     "name": "stderr",
     "output_type": "stream",
     "text": [
      "Built constraints: donor_period[UKERi88H-R1-002_lp]+donor_period[UKERiAY6-R1-003_lp]+donor_period[UKERiC99-R1-007_lp]+donor_period[UKERiJ2C-R1-015_lp]+donor_period[UKERiM89-R1-005_lp]+donor_period[UKERiPX7-R1-001_lp]+donor_period[UKERiR66-R1-007_lp]=0, donor_period[UKERi88H-R1-002_hp]+donor_period[UKERiAY6-R1-003_hp]+donor_period[UKERiC99-R1-007_hp]+donor_period[UKERiJ2C-R1-015_hp]+donor_period[UKERiPX7-R1-001_hp]+donor_period[UKERiR66-R1-007_hp]=0\n"
     ]
    },
    {
     "name": "stdout",
     "output_type": "stream",
     "text": [
      "Testing 1926 genes...\n",
      "\n",
      "training location model: True\n",
      "training scale model: True\n",
      "iter   0: ll=2685697.930719\n",
      "iter   1: ll=2657741.079191, converged: 0.00% (loc: 0.52%, scale update: False), in 0.72sec\n",
      "iter   2: ll=2651055.810864, converged: 0.00% (loc: 5.45%, scale update: False), in 0.62sec\n",
      "iter   3: ll=2649985.348373, converged: 0.00% (loc: 5.45%, scale update: False), in 0.65sec\n",
      "iter   4: ll=2649759.621047, converged: 0.00% (loc: 5.45%, scale update: False), in 0.59sec\n",
      "iter   5: ll=2649696.073684, converged: 0.00% (loc: 8.41%, scale update: False), in 0.62sec\n",
      "Fitting 1926 dispersion models: (progress not available with multiprocessing)"
     ]
    },
    {
     "name": "stderr",
     "output_type": "stream",
     "text": [
      "/usr/lib/python3.10/multiprocessing/popen_fork.py:66: RuntimeWarning: os.fork() was called. os.fork() is incompatible with multithreaded code, and JAX is multithreaded, so this will likely lead to a deadlock.\n",
      "  self.pid = os.fork()\n"
     ]
    },
    {
     "name": "stdout",
     "output_type": "stream",
     "text": [
      "iter   6: ll=424303.758551, converged: 0.00% (loc: 0.00%, scale update: True), in 5.08sec\n",
      "iter   7: ll=423780.222091, converged: 0.00% (loc: 4.78%, scale update: False), in 0.67sec\n",
      "iter   8: ll=423725.373193, converged: 0.00% (loc: 9.71%, scale update: False), in 0.61sec\n",
      "iter   9: ll=423715.464775, converged: 0.00% (loc: 21.13%, scale update: False), in 0.75sec\n",
      "iter  10: ll=423711.388167, converged: 0.00% (loc: 43.93%, scale update: False), in 0.58sec\n",
      "iter  11: ll=423708.806336, converged: 0.00% (loc: 61.73%, scale update: False), in 0.36sec\n",
      "Fitting 1926 dispersion models: (progress not available with multiprocessing)"
     ]
    },
    {
     "name": "stderr",
     "output_type": "stream",
     "text": [
      "/usr/lib/python3.10/multiprocessing/popen_fork.py:66: RuntimeWarning: os.fork() was called. os.fork() is incompatible with multithreaded code, and JAX is multithreaded, so this will likely lead to a deadlock.\n",
      "  self.pid = os.fork()\n"
     ]
    },
    {
     "name": "stdout",
     "output_type": "stream",
     "text": [
      "iter  12: ll=401953.029736, converged: 3.89% (loc: 3.89%, scale update: True), in 2.94sec\n",
      "iter  13: ll=401920.925052, converged: 3.89% (loc: 28.14%, scale update: False), in 0.69sec\n",
      "iter  14: ll=401916.730144, converged: 3.89% (loc: 48.23%, scale update: False), in 0.55sec\n",
      "iter  15: ll=401914.844193, converged: 3.89% (loc: 67.81%, scale update: False), in 0.38sec\n",
      "iter  16: ll=401914.032944, converged: 3.89% (loc: 76.38%, scale update: False), in 0.34sec\n",
      "iter  17: ll=401913.855983, converged: 3.89% (loc: 79.28%, scale update: False), in 0.34sec\n",
      "Fitting 1851 dispersion models: (progress not available with multiprocessing)"
     ]
    },
    {
     "name": "stderr",
     "output_type": "stream",
     "text": [
      "/usr/lib/python3.10/multiprocessing/popen_fork.py:66: RuntimeWarning: os.fork() was called. os.fork() is incompatible with multithreaded code, and JAX is multithreaded, so this will likely lead to a deadlock.\n",
      "  self.pid = os.fork()\n"
     ]
    },
    {
     "name": "stdout",
     "output_type": "stream",
     "text": [
      "iter  18: ll=389766.948723, converged: 24.87% (loc: 24.87%, scale update: True), in 3.08sec\n",
      "iter  19: ll=389764.202828, converged: 24.87% (loc: 64.75%, scale update: False), in 0.66sec\n",
      "iter  20: ll=389764.180176, converged: 24.87% (loc: 78.50%, scale update: False), in 0.44sec\n",
      "iter  21: ll=389764.179691, converged: 24.87% (loc: 81.98%, scale update: False), in 0.41sec\n",
      "iter  22: ll=389764.179485, converged: 24.87% (loc: 84.48%, scale update: False), in 0.37sec\n",
      "iter  23: ll=389764.179478, converged: 24.87% (loc: 93.93%, scale update: False), in 0.37sec\n",
      "Fitting 1447 dispersion models: (progress not available with multiprocessing)"
     ]
    },
    {
     "name": "stderr",
     "output_type": "stream",
     "text": [
      "/usr/lib/python3.10/multiprocessing/popen_fork.py:66: RuntimeWarning: os.fork() was called. os.fork() is incompatible with multithreaded code, and JAX is multithreaded, so this will likely lead to a deadlock.\n",
      "  self.pid = os.fork()\n"
     ]
    },
    {
     "name": "stdout",
     "output_type": "stream",
     "text": [
      "iter  24: ll=385028.375216, converged: 62.41% (loc: 62.41%, scale update: True), in 2.31sec\n",
      "iter  25: ll=385026.993719, converged: 62.41% (loc: 92.37%, scale update: False), in 0.37sec\n",
      "iter  26: ll=385026.993692, converged: 62.41% (loc: 98.03%, scale update: False), in 0.32sec\n",
      "iter  27: ll=385026.993691, converged: 62.41% (loc: 99.43%, scale update: False), in 0.25sec\n",
      "iter  28: ll=385026.993691, converged: 62.41% (loc: 100.00%, scale update: False), in 0.18sec\n",
      "Fitting 724 dispersion models: (progress not available with multiprocessing)"
     ]
    },
    {
     "name": "stderr",
     "output_type": "stream",
     "text": [
      "/usr/lib/python3.10/multiprocessing/popen_fork.py:66: RuntimeWarning: os.fork() was called. os.fork() is incompatible with multithreaded code, and JAX is multithreaded, so this will likely lead to a deadlock.\n",
      "  self.pid = os.fork()\n"
     ]
    },
    {
     "name": "stdout",
     "output_type": "stream",
     "text": [
      "iter  29: ll=383429.395082, converged: 91.28% (loc: 91.28%, scale update: True), in 1.34sec\n",
      "iter  30: ll=383429.339471, converged: 91.28% (loc: 98.18%, scale update: False), in 0.35sec\n",
      "iter  31: ll=383429.339256, converged: 91.28% (loc: 99.58%, scale update: False), in 0.28sec\n",
      "iter  32: ll=383429.339256, converged: 91.28% (loc: 99.95%, scale update: False), in 0.18sec\n",
      "iter  33: ll=383429.339256, converged: 91.28% (loc: 100.00%, scale update: False), in 0.10sec\n",
      "Fitting 168 dispersion models: (progress not available with multiprocessing)"
     ]
    },
    {
     "name": "stderr",
     "output_type": "stream",
     "text": [
      "/usr/lib/python3.10/multiprocessing/popen_fork.py:66: RuntimeWarning: os.fork() was called. os.fork() is incompatible with multithreaded code, and JAX is multithreaded, so this will likely lead to a deadlock.\n",
      "  self.pid = os.fork()\n"
     ]
    },
    {
     "name": "stdout",
     "output_type": "stream",
     "text": [
      "iter  34: ll=383427.458747, converged: 98.08% (loc: 98.08%, scale update: True), in 0.68sec\n",
      "iter  35: ll=383427.410872, converged: 98.08% (loc: 99.53%, scale update: False), in 0.26sec\n",
      "iter  36: ll=383427.410872, converged: 98.08% (loc: 99.95%, scale update: False), in 0.18sec\n",
      "iter  37: ll=383427.410872, converged: 98.08% (loc: 100.00%, scale update: False), in 0.11sec\n",
      "Fitting 37 dispersion models: (progress not available with multiprocessing)"
     ]
    },
    {
     "name": "stderr",
     "output_type": "stream",
     "text": [
      "/usr/lib/python3.10/multiprocessing/popen_fork.py:66: RuntimeWarning: os.fork() was called. os.fork() is incompatible with multithreaded code, and JAX is multithreaded, so this will likely lead to a deadlock.\n",
      "  self.pid = os.fork()\n"
     ]
    },
    {
     "name": "stdout",
     "output_type": "stream",
     "text": [
      "iter  38: ll=383200.438841, converged: 99.53% (loc: 99.53%, scale update: True), in 0.51sec\n",
      "iter  39: ll=383200.438841, converged: 99.53% (loc: 99.90%, scale update: False), in 0.18sec\n",
      "iter  40: ll=383200.438841, converged: 99.53% (loc: 100.00%, scale update: False), in 0.12sec\n",
      "Fitting 9 dispersion models: (progress not available with multiprocessing)"
     ]
    },
    {
     "name": "stderr",
     "output_type": "stream",
     "text": [
      "/usr/lib/python3.10/multiprocessing/popen_fork.py:66: RuntimeWarning: os.fork() was called. os.fork() is incompatible with multithreaded code, and JAX is multithreaded, so this will likely lead to a deadlock.\n",
      "  self.pid = os.fork()\n"
     ]
    },
    {
     "name": "stdout",
     "output_type": "stream",
     "text": [
      "iter  41: ll=383200.438841, converged: 99.84% (loc: 99.84%, scale update: True), in 0.48sec\n",
      "iter  42: ll=383200.438841, converged: 99.84% (loc: 100.00%, scale update: False), in 0.13sec\n",
      "iter  43: ll=383200.438841, converged: 100.00% (loc: 100.00%, scale update: True), in 0.13sec\n"
     ]
    },
    {
     "name": "stderr",
     "output_type": "stream",
     "text": [
      "/usr/local/lib/python3.10/dist-packages/dask/array/core.py:2894: RuntimeWarning: divide by zero encountered in divide\n",
      "  size = (limit / dtype.itemsize / largest_block) ** (1 / len(autos))\n"
     ]
    },
    {
     "name": "stdout",
     "output_type": "stream",
     "text": [
      "In cluster Apop.-NSC:\n",
      "condition\n",
      "Parkinson    2162\n",
      "Name: count, dtype: int64\n",
      "filtered out 6726 genes that are detected in less than 50 cells\n"
     ]
    },
    {
     "name": "stderr",
     "output_type": "stream",
     "text": [
      "Built constraints: donor_period[UKERi88H-R1-002_lp]+donor_period[UKERiAY6-R1-003_lp]+donor_period[UKERiC99-R1-007_lp]+donor_period[UKERiJ2C-R1-015_lp]+donor_period[UKERiM89-R1-005_lp]+donor_period[UKERiPX7-R1-001_lp]+donor_period[UKERiR66-R1-007_lp]=0, donor_period[UKERi88H-R1-002_hp]+donor_period[UKERiAY6-R1-003_hp]+donor_period[UKERiC99-R1-007_hp]+donor_period[UKERiJ2C-R1-015_hp]+donor_period[UKERiM89-R1-005_hp]+donor_period[UKERiPX7-R1-001_hp]+donor_period[UKERiR66-R1-007_hp]=0\n"
     ]
    },
    {
     "name": "stdout",
     "output_type": "stream",
     "text": [
      "Testing 10640 genes...\n",
      "\n",
      "training location model: True\n",
      "training scale model: True\n",
      "iter   0: ll=28970438.581973\n",
      "iter   1: ll=28206641.493761, converged: 0.00% (loc: 1.93%, scale update: False), in 8.23sec\n",
      "iter   2: ll=28020177.766649, converged: 0.00% (loc: 5.86%, scale update: False), in 9.52sec\n",
      "iter   3: ll=27992817.394462, converged: 0.00% (loc: 5.86%, scale update: False), in 9.81sec\n",
      "iter   4: ll=27988864.890237, converged: 0.00% (loc: 5.86%, scale update: False), in 8.46sec\n",
      "iter   5: ll=27988164.126990, converged: 0.00% (loc: 6.33%, scale update: False), in 8.22sec\n",
      "Fitting 10640 dispersion models: (progress not available with multiprocessing)"
     ]
    },
    {
     "name": "stderr",
     "output_type": "stream",
     "text": [
      "/usr/lib/python3.10/multiprocessing/popen_fork.py:66: RuntimeWarning: os.fork() was called. os.fork() is incompatible with multithreaded code, and JAX is multithreaded, so this will likely lead to a deadlock.\n",
      "  self.pid = os.fork()\n"
     ]
    },
    {
     "name": "stdout",
     "output_type": "stream",
     "text": [
      "iter   6: ll=14022129.643063, converged: 0.05% (loc: 0.05%, scale update: True), in 49.04sec\n",
      "iter   7: ll=14015618.211103, converged: 0.05% (loc: 4.25%, scale update: False), in 8.64sec\n",
      "iter   8: ll=14014317.790623, converged: 0.05% (loc: 5.85%, scale update: False), in 7.78sec\n",
      "iter   9: ll=14014015.824078, converged: 0.05% (loc: 13.28%, scale update: False), in 8.69sec\n",
      "iter  10: ll=14013954.019472, converged: 0.05% (loc: 27.49%, scale update: False), in 7.96sec\n",
      "iter  11: ll=14013941.695360, converged: 0.05% (loc: 41.55%, scale update: False), in 7.03sec\n",
      "Fitting 10635 dispersion models: (progress not available with multiprocessing)"
     ]
    },
    {
     "name": "stderr",
     "output_type": "stream",
     "text": [
      "/usr/lib/python3.10/multiprocessing/popen_fork.py:66: RuntimeWarning: os.fork() was called. os.fork() is incompatible with multithreaded code, and JAX is multithreaded, so this will likely lead to a deadlock.\n",
      "  self.pid = os.fork()\n"
     ]
    },
    {
     "name": "stdout",
     "output_type": "stream",
     "text": [
      "iter  12: ll=13685367.430758, converged: 3.47% (loc: 3.47%, scale update: True), in 45.08sec\n",
      "iter  13: ll=13685249.151860, converged: 3.47% (loc: 14.01%, scale update: False), in 8.46sec\n",
      "iter  14: ll=13685212.108012, converged: 3.47% (loc: 27.26%, scale update: False), in 7.33sec\n",
      "iter  15: ll=13685201.945861, converged: 3.47% (loc: 44.88%, scale update: False), in 6.54sec\n",
      "iter  16: ll=13685196.695927, converged: 3.47% (loc: 56.90%, scale update: False), in 5.53sec\n",
      "iter  17: ll=13685196.591942, converged: 3.47% (loc: 59.62%, scale update: False), in 4.78sec\n",
      "Fitting 10271 dispersion models: (progress not available with multiprocessing)"
     ]
    },
    {
     "name": "stderr",
     "output_type": "stream",
     "text": [
      "/usr/lib/python3.10/multiprocessing/popen_fork.py:66: RuntimeWarning: os.fork() was called. os.fork() is incompatible with multithreaded code, and JAX is multithreaded, so this will likely lead to a deadlock.\n",
      "  self.pid = os.fork()\n"
     ]
    },
    {
     "name": "stdout",
     "output_type": "stream",
     "text": [
      "iter  18: ll=13517186.008452, converged: 12.89% (loc: 12.89%, scale update: True), in 43.48sec\n",
      "iter  19: ll=13517155.050978, converged: 12.89% (loc: 40.36%, scale update: False), in 7.35sec\n",
      "iter  20: ll=13517154.997486, converged: 12.89% (loc: 57.05%, scale update: False), in 5.83sec\n",
      "iter  21: ll=13517154.994200, converged: 12.89% (loc: 74.47%, scale update: False), in 4.95sec\n",
      "iter  22: ll=13517154.993432, converged: 12.89% (loc: 87.97%, scale update: False), in 3.81sec\n",
      "iter  23: ll=13517154.993204, converged: 12.89% (loc: 94.89%, scale update: False), in 3.30sec\n",
      "Fitting 9269 dispersion models: (progress not available with multiprocessing)"
     ]
    },
    {
     "name": "stderr",
     "output_type": "stream",
     "text": [
      "/usr/lib/python3.10/multiprocessing/popen_fork.py:66: RuntimeWarning: os.fork() was called. os.fork() is incompatible with multithreaded code, and JAX is multithreaded, so this will likely lead to a deadlock.\n",
      "  self.pid = os.fork()\n"
     ]
    },
    {
     "name": "stdout",
     "output_type": "stream",
     "text": [
      "iter  24: ll=13430339.784277, converged: 39.30% (loc: 39.30%, scale update: True), in 39.98sec\n",
      "iter  25: ll=13430328.892058, converged: 39.30% (loc: 94.92%, scale update: False), in 5.73sec\n",
      "iter  26: ll=13430327.841584, converged: 39.30% (loc: 99.26%, scale update: False), in 2.85sec\n",
      "iter  27: ll=13430327.841569, converged: 39.30% (loc: 99.78%, scale update: False), in 1.57sec\n",
      "iter  28: ll=13430327.841567, converged: 39.30% (loc: 99.95%, scale update: False), in 0.83sec\n",
      "iter  29: ll=13430327.841567, converged: 39.30% (loc: 99.97%, scale update: False), in 0.48sec\n",
      "Fitting 6459 dispersion models: (progress not available with multiprocessing)"
     ]
    },
    {
     "name": "stderr",
     "output_type": "stream",
     "text": [
      "/usr/lib/python3.10/multiprocessing/popen_fork.py:66: RuntimeWarning: os.fork() was called. os.fork() is incompatible with multithreaded code, and JAX is multithreaded, so this will likely lead to a deadlock.\n",
      "  self.pid = os.fork()\n"
     ]
    },
    {
     "name": "stdout",
     "output_type": "stream",
     "text": [
      "iter  30: ll=13388398.372963, converged: 93.97% (loc: 93.97%, scale update: True), in 28.40sec\n",
      "iter  31: ll=13388384.392215, converged: 93.97% (loc: 99.47%, scale update: False), in 2.83sec\n",
      "iter  32: ll=13388383.477732, converged: 93.97% (loc: 99.87%, scale update: False), in 1.34sec\n",
      "iter  33: ll=13388383.477731, converged: 93.97% (loc: 99.97%, scale update: False), in 0.70sec\n",
      "iter  34: ll=13388383.477730, converged: 93.97% (loc: 99.99%, scale update: False), in 0.44sec\n",
      "iter  35: ll=13388383.477730, converged: 93.97% (loc: 100.00%, scale update: False), in 0.33sec\n",
      "Fitting 642 dispersion models: (progress not available with multiprocessing)"
     ]
    },
    {
     "name": "stderr",
     "output_type": "stream",
     "text": [
      "/usr/lib/python3.10/multiprocessing/popen_fork.py:66: RuntimeWarning: os.fork() was called. os.fork() is incompatible with multithreaded code, and JAX is multithreaded, so this will likely lead to a deadlock.\n",
      "  self.pid = os.fork()\n"
     ]
    },
    {
     "name": "stdout",
     "output_type": "stream",
     "text": [
      "iter  36: ll=13381414.921805, converged: 99.24% (loc: 99.24%, scale update: True), in 7.08sec\n",
      "iter  37: ll=13381414.735366, converged: 99.24% (loc: 99.91%, scale update: False), in 1.69sec\n",
      "caught 1 linalg singular matrix errors\n",
      "iter  38: ll=13381414.735366, converged: 99.24% (loc: 99.98%, scale update: False), in 0.59sec\n",
      "caught 1 linalg singular matrix errors\n",
      "iter  39: ll=13381414.735366, converged: 99.24% (loc: 100.00%, scale update: False), in 0.39sec\n",
      "Fitting 81 dispersion models: (progress not available with multiprocessing)"
     ]
    },
    {
     "name": "stderr",
     "output_type": "stream",
     "text": [
      "/usr/lib/python3.10/multiprocessing/popen_fork.py:66: RuntimeWarning: os.fork() was called. os.fork() is incompatible with multithreaded code, and JAX is multithreaded, so this will likely lead to a deadlock.\n",
      "  self.pid = os.fork()\n"
     ]
    },
    {
     "name": "stdout",
     "output_type": "stream",
     "text": [
      "iter  40: ll=13381052.204062, converged: 99.90% (loc: 99.90%, scale update: True), in 5.06sec\n",
      "caught 3 linalg singular matrix errors\n",
      "iter  41: ll=13381052.204062, converged: 99.90% (loc: 100.00%, scale update: False), in 0.55sec\n",
      "Fitting 11 dispersion models: (progress not available with multiprocessing)"
     ]
    },
    {
     "name": "stderr",
     "output_type": "stream",
     "text": [
      "/usr/lib/python3.10/multiprocessing/popen_fork.py:66: RuntimeWarning: os.fork() was called. os.fork() is incompatible with multithreaded code, and JAX is multithreaded, so this will likely lead to a deadlock.\n",
      "  self.pid = os.fork()\n"
     ]
    },
    {
     "name": "stdout",
     "output_type": "stream",
     "text": [
      "iter  42: ll=13381052.204062, converged: 100.00% (loc: 100.00%, scale update: True), in 4.89sec\n"
     ]
    },
    {
     "name": "stderr",
     "output_type": "stream",
     "text": [
      "/usr/local/lib/python3.10/dist-packages/dask/array/core.py:2894: RuntimeWarning: divide by zero encountered in divide\n",
      "  size = (limit / dtype.itemsize / largest_block) ** (1 / len(autos))\n"
     ]
    },
    {
     "name": "stdout",
     "output_type": "stream",
     "text": [
      "In cluster Glial-precursors:\n",
      "condition\n",
      "Parkinson    1088\n",
      "Name: count, dtype: int64\n",
      "filtered out 6064 genes that are detected in less than 50 cells\n"
     ]
    },
    {
     "name": "stderr",
     "output_type": "stream",
     "text": [
      "Built constraints: donor_period[UKERi88H-R1-002_lp]+donor_period[UKERiAY6-R1-003_lp]+donor_period[UKERiC99-R1-007_lp]+donor_period[UKERiJ2C-R1-015_lp]+donor_period[UKERiM89-R1-005_lp]+donor_period[UKERiPX7-R1-001_lp]+donor_period[UKERiR66-R1-007_lp]=0, donor_period[UKERi88H-R1-002_hp]+donor_period[UKERiAY6-R1-003_hp]+donor_period[UKERiC99-R1-007_hp]+donor_period[UKERiJ2C-R1-015_hp]+donor_period[UKERiPX7-R1-001_hp]+donor_period[UKERiR66-R1-007_hp]=0\n"
     ]
    },
    {
     "name": "stdout",
     "output_type": "stream",
     "text": [
      "Testing 11302 genes...\n",
      "\n",
      "training location model: True\n",
      "training scale model: True\n",
      "iter   0: ll=27174958.815447\n",
      "iter   1: ll=26685678.092530, converged: 0.00% (loc: 1.49%, scale update: False), in 5.93sec\n",
      "iter   2: ll=26584546.548275, converged: 0.00% (loc: 4.88%, scale update: False), in 5.29sec\n",
      "iter   3: ll=26571206.187193, converged: 0.00% (loc: 4.88%, scale update: False), in 5.35sec\n",
      "iter   4: ll=26568772.259560, converged: 0.00% (loc: 4.92%, scale update: False), in 5.04sec\n",
      "iter   5: ll=26568120.737429, converged: 0.00% (loc: 7.94%, scale update: False), in 4.89sec\n",
      "Fitting 11302 dispersion models: (progress not available with multiprocessing)"
     ]
    },
    {
     "name": "stderr",
     "output_type": "stream",
     "text": [
      "/usr/lib/python3.10/multiprocessing/popen_fork.py:66: RuntimeWarning: os.fork() was called. os.fork() is incompatible with multithreaded code, and JAX is multithreaded, so this will likely lead to a deadlock.\n",
      "  self.pid = os.fork()\n"
     ]
    },
    {
     "name": "stdout",
     "output_type": "stream",
     "text": [
      "iter   6: ll=11552661.837924, converged: 0.07% (loc: 0.07%, scale update: True), in 35.59sec\n",
      "iter   7: ll=11549298.450453, converged: 0.07% (loc: 3.69%, scale update: False), in 6.00sec\n",
      "iter   8: ll=11548643.086840, converged: 0.07% (loc: 5.55%, scale update: False), in 5.25sec\n",
      "iter   9: ll=11548451.671038, converged: 0.07% (loc: 17.89%, scale update: False), in 5.26sec\n",
      "iter  10: ll=11548373.492995, converged: 0.07% (loc: 40.19%, scale update: False), in 5.32sec\n",
      "iter  11: ll=11548332.990435, converged: 0.07% (loc: 57.90%, scale update: False), in 4.05sec\n",
      "Fitting 11294 dispersion models: (progress not available with multiprocessing)"
     ]
    },
    {
     "name": "stderr",
     "output_type": "stream",
     "text": [
      "/usr/lib/python3.10/multiprocessing/popen_fork.py:66: RuntimeWarning: os.fork() was called. os.fork() is incompatible with multithreaded code, and JAX is multithreaded, so this will likely lead to a deadlock.\n",
      "  self.pid = os.fork()\n"
     ]
    },
    {
     "name": "stdout",
     "output_type": "stream",
     "text": [
      "iter  12: ll=11276382.540458, converged: 2.96% (loc: 2.96%, scale update: True), in 33.93sec\n",
      "iter  13: ll=11276244.516845, converged: 2.96% (loc: 15.11%, scale update: False), in 5.43sec\n",
      "iter  14: ll=11276219.915962, converged: 2.96% (loc: 38.12%, scale update: False), in 4.92sec\n",
      "iter  15: ll=11276205.528507, converged: 2.96% (loc: 60.75%, scale update: False), in 4.25sec\n",
      "iter  16: ll=11276194.535646, converged: 2.96% (loc: 68.69%, scale update: False), in 3.40sec\n",
      "iter  17: ll=11276185.342107, converged: 2.96% (loc: 70.80%, scale update: False), in 3.11sec\n",
      "Fitting 10967 dispersion models: (progress not available with multiprocessing)"
     ]
    },
    {
     "name": "stderr",
     "output_type": "stream",
     "text": [
      "/usr/lib/python3.10/multiprocessing/popen_fork.py:66: RuntimeWarning: os.fork() was called. os.fork() is incompatible with multithreaded code, and JAX is multithreaded, so this will likely lead to a deadlock.\n",
      "  self.pid = os.fork()\n"
     ]
    },
    {
     "name": "stdout",
     "output_type": "stream",
     "text": [
      "iter  18: ll=11160609.015564, converged: 14.03% (loc: 14.03%, scale update: True), in 30.69sec\n",
      "iter  19: ll=11160570.918645, converged: 14.03% (loc: 54.75%, scale update: False), in 4.89sec\n",
      "iter  20: ll=11160562.816363, converged: 14.03% (loc: 70.68%, scale update: False), in 3.24sec\n",
      "iter  21: ll=11160557.431191, converged: 14.03% (loc: 85.01%, scale update: False), in 3.23sec\n",
      "iter  22: ll=11160553.599367, converged: 14.03% (loc: 92.26%, scale update: False), in 2.40sec\n",
      "iter  23: ll=11160550.720236, converged: 14.03% (loc: 97.46%, scale update: False), in 2.11sec\n",
      "Fitting 9716 dispersion models: (progress not available with multiprocessing)"
     ]
    },
    {
     "name": "stderr",
     "output_type": "stream",
     "text": [
      "/usr/lib/python3.10/multiprocessing/popen_fork.py:66: RuntimeWarning: os.fork() was called. os.fork() is incompatible with multithreaded code, and JAX is multithreaded, so this will likely lead to a deadlock.\n",
      "  self.pid = os.fork()\n"
     ]
    },
    {
     "name": "stdout",
     "output_type": "stream",
     "text": [
      "iter  24: ll=11100972.692955, converged: 53.74% (loc: 53.74%, scale update: True), in 28.29sec\n",
      "iter  25: ll=11100955.373588, converged: 53.74% (loc: 95.53%, scale update: False), in 3.40sec\n",
      "iter  26: ll=11100952.126075, converged: 53.74% (loc: 98.84%, scale update: False), in 2.04sec\n",
      "iter  27: ll=11100949.666758, converged: 53.74% (loc: 99.53%, scale update: False), in 1.39sec\n",
      "iter  28: ll=11100948.274797, converged: 53.74% (loc: 99.81%, scale update: False), in 0.96sec\n",
      "iter  29: ll=11100947.555174, converged: 53.74% (loc: 99.92%, scale update: False), in 0.86sec\n",
      "Fitting 5228 dispersion models: (progress not available with multiprocessing)"
     ]
    },
    {
     "name": "stderr",
     "output_type": "stream",
     "text": [
      "/usr/lib/python3.10/multiprocessing/popen_fork.py:66: RuntimeWarning: os.fork() was called. os.fork() is incompatible with multithreaded code, and JAX is multithreaded, so this will likely lead to a deadlock.\n",
      "  self.pid = os.fork()\n"
     ]
    },
    {
     "name": "stdout",
     "output_type": "stream",
     "text": [
      "iter  30: ll=11083461.350902, converged: 94.99% (loc: 94.99%, scale update: True), in 16.22sec\n",
      "iter  31: ll=11083449.590418, converged: 94.99% (loc: 99.19%, scale update: False), in 1.99sec\n",
      "iter  32: ll=11083448.913632, converged: 94.99% (loc: 99.87%, scale update: False), in 1.14sec\n",
      "iter  33: ll=11083448.248246, converged: 94.99% (loc: 99.95%, scale update: False), in 0.56sec\n",
      "iter  34: ll=11083447.587715, converged: 94.99% (loc: 99.96%, scale update: False), in 0.42sec\n",
      "iter  35: ll=11083446.940074, converged: 94.99% (loc: 99.96%, scale update: False), in 0.38sec\n",
      "Fitting 566 dispersion models: (progress not available with multiprocessing)"
     ]
    },
    {
     "name": "stderr",
     "output_type": "stream",
     "text": [
      "/usr/lib/python3.10/multiprocessing/popen_fork.py:66: RuntimeWarning: os.fork() was called. os.fork() is incompatible with multithreaded code, and JAX is multithreaded, so this will likely lead to a deadlock.\n",
      "  self.pid = os.fork()\n"
     ]
    },
    {
     "name": "stdout",
     "output_type": "stream",
     "text": [
      "iter  36: ll=11081916.820882, converged: 99.11% (loc: 99.11%, scale update: True), in 5.08sec\n",
      "iter  37: ll=11081916.057162, converged: 99.11% (loc: 99.91%, scale update: False), in 1.19sec\n",
      "caught 2 linalg singular matrix errors\n",
      "iter  38: ll=11081915.440817, converged: 99.11% (loc: 99.98%, scale update: False), in 0.43sec\n",
      "iter  39: ll=11081915.015586, converged: 99.11% (loc: 99.99%, scale update: False), in 0.34sec\n",
      "iter  40: ll=11081914.844859, converged: 99.11% (loc: 99.99%, scale update: False), in 0.30sec\n",
      "caught 1 linalg singular matrix errors\n",
      "iter  41: ll=11081914.844859, converged: 99.11% (loc: 100.00%, scale update: False), in 0.25sec\n",
      "Fitting 101 dispersion models: (progress not available with multiprocessing)"
     ]
    },
    {
     "name": "stderr",
     "output_type": "stream",
     "text": [
      "/usr/lib/python3.10/multiprocessing/popen_fork.py:66: RuntimeWarning: os.fork() was called. os.fork() is incompatible with multithreaded code, and JAX is multithreaded, so this will likely lead to a deadlock.\n",
      "  self.pid = os.fork()\n"
     ]
    },
    {
     "name": "stdout",
     "output_type": "stream",
     "text": [
      "iter  42: ll=11081776.401649, converged: 99.90% (loc: 99.90%, scale update: True), in 3.95sec\n",
      "caught 4 linalg singular matrix errors\n",
      "iter  43: ll=11081776.401649, converged: 99.90% (loc: 100.00%, scale update: False), in 0.45sec\n",
      "Fitting 11 dispersion models: (progress not available with multiprocessing)"
     ]
    },
    {
     "name": "stderr",
     "output_type": "stream",
     "text": [
      "/usr/lib/python3.10/multiprocessing/popen_fork.py:66: RuntimeWarning: os.fork() was called. os.fork() is incompatible with multithreaded code, and JAX is multithreaded, so this will likely lead to a deadlock.\n",
      "  self.pid = os.fork()\n"
     ]
    },
    {
     "name": "stdout",
     "output_type": "stream",
     "text": [
      "iter  44: ll=11081776.401649, converged: 100.00% (loc: 100.00%, scale update: True), in 3.42sec\n"
     ]
    },
    {
     "name": "stderr",
     "output_type": "stream",
     "text": [
      "/usr/local/lib/python3.10/dist-packages/dask/array/core.py:2894: RuntimeWarning: divide by zero encountered in divide\n",
      "  size = (limit / dtype.itemsize / largest_block) ** (1 / len(autos))\n"
     ]
    },
    {
     "name": "stdout",
     "output_type": "stream",
     "text": [
      "In cluster Immature-neurons:\n",
      "condition\n",
      "Parkinson    881\n",
      "Name: count, dtype: int64\n",
      "filtered out 5894 genes that are detected in less than 50 cells\n",
      "Testing 11472 genes...\n",
      "\n"
     ]
    },
    {
     "name": "stderr",
     "output_type": "stream",
     "text": [
      "Built constraints: donor_period[UKERi88H-R1-002_lp]+donor_period[UKERiAY6-R1-003_lp]+donor_period[UKERiC99-R1-007_lp]+donor_period[UKERiJ2C-R1-015_lp]+donor_period[UKERiM89-R1-005_lp]+donor_period[UKERiPX7-R1-001_lp]+donor_period[UKERiR66-R1-007_lp]=0, donor_period[UKERi88H-R1-002_hp]+donor_period[UKERiAY6-R1-003_hp]+donor_period[UKERiC99-R1-007_hp]+donor_period[UKERiJ2C-R1-015_hp]+donor_period[UKERiM89-R1-005_hp]+donor_period[UKERiPX7-R1-001_hp]+donor_period[UKERiR66-R1-007_hp]=0\n"
     ]
    },
    {
     "name": "stdout",
     "output_type": "stream",
     "text": [
      "training location model: True\n",
      "training scale model: True\n",
      "iter   0: ll=15953544.664142\n",
      "iter   1: ll=15499427.868954, converged: 0.00% (loc: 1.30%, scale update: False), in 4.83sec\n",
      "iter   2: ll=15354645.647313, converged: 0.00% (loc: 2.74%, scale update: False), in 4.30sec\n",
      "iter   3: ll=15321970.511770, converged: 0.00% (loc: 2.74%, scale update: False), in 4.64sec\n",
      "iter   4: ll=15314399.561042, converged: 0.00% (loc: 2.75%, scale update: False), in 4.34sec\n",
      "iter   5: ll=15312646.067113, converged: 0.00% (loc: 3.39%, scale update: False), in 4.45sec\n",
      "Fitting 11472 dispersion models: (progress not available with multiprocessing)"
     ]
    },
    {
     "name": "stderr",
     "output_type": "stream",
     "text": [
      "/usr/lib/python3.10/multiprocessing/popen_fork.py:66: RuntimeWarning: os.fork() was called. os.fork() is incompatible with multithreaded code, and JAX is multithreaded, so this will likely lead to a deadlock.\n",
      "  self.pid = os.fork()\n"
     ]
    },
    {
     "name": "stdout",
     "output_type": "stream",
     "text": [
      "iter   6: ll=9968244.334194, converged: 0.02% (loc: 0.02%, scale update: True), in 28.27sec\n",
      "iter   7: ll=9961699.566733, converged: 0.02% (loc: 2.14%, scale update: False), in 4.55sec\n",
      "iter   8: ll=9960565.263900, converged: 0.02% (loc: 2.89%, scale update: False), in 4.63sec\n",
      "iter   9: ll=9960304.786878, converged: 0.02% (loc: 6.81%, scale update: False), in 4.67sec\n",
      "iter  10: ll=9960224.638781, converged: 0.02% (loc: 16.39%, scale update: False), in 4.32sec\n",
      "iter  11: ll=9960189.942217, converged: 0.02% (loc: 27.46%, scale update: False), in 4.13sec\n",
      "Fitting 11470 dispersion models: (progress not available with multiprocessing)"
     ]
    },
    {
     "name": "stderr",
     "output_type": "stream",
     "text": [
      "/usr/lib/python3.10/multiprocessing/popen_fork.py:66: RuntimeWarning: os.fork() was called. os.fork() is incompatible with multithreaded code, and JAX is multithreaded, so this will likely lead to a deadlock.\n",
      "  self.pid = os.fork()\n"
     ]
    },
    {
     "name": "stdout",
     "output_type": "stream",
     "text": [
      "iter  12: ll=9864798.105259, converged: 1.72% (loc: 1.72%, scale update: True), in 27.49sec\n",
      "iter  13: ll=9864658.784994, converged: 1.72% (loc: 9.04%, scale update: False), in 4.52sec\n",
      "iter  14: ll=9864632.830352, converged: 1.72% (loc: 19.48%, scale update: False), in 4.70sec\n",
      "iter  15: ll=9864618.454647, converged: 1.72% (loc: 30.23%, scale update: False), in 4.49sec\n",
      "iter  16: ll=9864609.465141, converged: 1.72% (loc: 38.77%, scale update: False), in 3.66sec\n",
      "iter  17: ll=9864603.923400, converged: 1.72% (loc: 45.65%, scale update: False), in 3.58sec\n",
      "Fitting 11275 dispersion models: (progress not available with multiprocessing)"
     ]
    },
    {
     "name": "stderr",
     "output_type": "stream",
     "text": [
      "/usr/lib/python3.10/multiprocessing/popen_fork.py:66: RuntimeWarning: os.fork() was called. os.fork() is incompatible with multithreaded code, and JAX is multithreaded, so this will likely lead to a deadlock.\n",
      "  self.pid = os.fork()\n"
     ]
    },
    {
     "name": "stdout",
     "output_type": "stream",
     "text": [
      "iter  18: ll=9811314.872161, converged: 8.53% (loc: 8.53%, scale update: True), in 27.77sec\n",
      "iter  19: ll=9811288.583822, converged: 8.53% (loc: 29.74%, scale update: False), in 4.41sec\n",
      "iter  20: ll=9811286.271648, converged: 8.53% (loc: 42.18%, scale update: False), in 4.07sec\n",
      "iter  21: ll=9811285.444810, converged: 8.53% (loc: 69.62%, scale update: False), in 3.82sec\n",
      "iter  22: ll=9811285.009920, converged: 8.53% (loc: 88.41%, scale update: False), in 2.85sec\n",
      "iter  23: ll=9811284.718479, converged: 8.53% (loc: 94.21%, scale update: False), in 2.25sec\n",
      "Fitting 10493 dispersion models: (progress not available with multiprocessing)"
     ]
    },
    {
     "name": "stderr",
     "output_type": "stream",
     "text": [
      "/usr/lib/python3.10/multiprocessing/popen_fork.py:66: RuntimeWarning: os.fork() was called. os.fork() is incompatible with multithreaded code, and JAX is multithreaded, so this will likely lead to a deadlock.\n",
      "  self.pid = os.fork()\n"
     ]
    },
    {
     "name": "stdout",
     "output_type": "stream",
     "text": [
      "iter  24: ll=9787232.883660, converged: 29.26% (loc: 29.26%, scale update: True), in 26.07sec\n",
      "iter  25: ll=9787224.459857, converged: 29.26% (loc: 83.30%, scale update: False), in 3.89sec\n",
      "iter  26: ll=9787224.153101, converged: 29.26% (loc: 95.66%, scale update: False), in 2.29sec\n",
      "iter  27: ll=9787224.015479, converged: 29.26% (loc: 98.82%, scale update: False), in 1.95sec\n",
      "iter  28: ll=9787223.972083, converged: 29.26% (loc: 99.61%, scale update: False), in 1.33sec\n",
      "iter  29: ll=9787223.968563, converged: 29.26% (loc: 99.83%, scale update: False), in 0.90sec\n",
      "Fitting 8115 dispersion models: (progress not available with multiprocessing)"
     ]
    },
    {
     "name": "stderr",
     "output_type": "stream",
     "text": [
      "/usr/lib/python3.10/multiprocessing/popen_fork.py:66: RuntimeWarning: os.fork() was called. os.fork() is incompatible with multithreaded code, and JAX is multithreaded, so this will likely lead to a deadlock.\n",
      "  self.pid = os.fork()\n"
     ]
    },
    {
     "name": "stdout",
     "output_type": "stream",
     "text": [
      "iter  30: ll=9773759.124544, converged: 82.61% (loc: 82.61%, scale update: True), in 21.08sec\n",
      "iter  31: ll=9773756.922195, converged: 82.61% (loc: 97.88%, scale update: False), in 2.53sec\n",
      "iter  32: ll=9773756.918048, converged: 82.61% (loc: 99.52%, scale update: False), in 1.74sec\n",
      "iter  33: ll=9773756.918045, converged: 82.61% (loc: 99.91%, scale update: False), in 0.97sec\n",
      "iter  34: ll=9773756.918045, converged: 82.61% (loc: 99.97%, scale update: False), in 0.45sec\n",
      "iter  35: ll=9773756.918045, converged: 82.61% (loc: 99.98%, scale update: False), in 0.36sec\n",
      "Fitting 1995 dispersion models: (progress not available with multiprocessing)"
     ]
    },
    {
     "name": "stderr",
     "output_type": "stream",
     "text": [
      "/usr/lib/python3.10/multiprocessing/popen_fork.py:66: RuntimeWarning: os.fork() was called. os.fork() is incompatible with multithreaded code, and JAX is multithreaded, so this will likely lead to a deadlock.\n",
      "  self.pid = os.fork()\n"
     ]
    },
    {
     "name": "stdout",
     "output_type": "stream",
     "text": [
      "iter  36: ll=9769127.729270, converged: 97.65% (loc: 97.65%, scale update: True), in 7.37sec\n",
      "caught 3 linalg singular matrix errors\n",
      "iter  37: ll=9769126.594970, converged: 97.65% (loc: 99.69%, scale update: False), in 1.81sec\n",
      "caught 4 linalg singular matrix errors\n",
      "iter  38: ll=9769126.594970, converged: 97.65% (loc: 100.00%, scale update: False), in 0.76sec\n",
      "Fitting 270 dispersion models: (progress not available with multiprocessing)"
     ]
    },
    {
     "name": "stderr",
     "output_type": "stream",
     "text": [
      "/usr/lib/python3.10/multiprocessing/popen_fork.py:66: RuntimeWarning: os.fork() was called. os.fork() is incompatible with multithreaded code, and JAX is multithreaded, so this will likely lead to a deadlock.\n",
      "  self.pid = os.fork()\n"
     ]
    },
    {
     "name": "stdout",
     "output_type": "stream",
     "text": [
      "iter  39: ll=9768381.151016, converged: 99.62% (loc: 99.62%, scale update: True), in 4.01sec\n",
      "caught 14 linalg singular matrix errors\n",
      "iter  40: ll=9768381.151015, converged: 99.62% (loc: 99.99%, scale update: False), in 0.84sec\n",
      "caught 1 linalg singular matrix errors\n",
      "iter  41: ll=9768381.151015, converged: 99.62% (loc: 100.00%, scale update: False), in 0.24sec\n",
      "Fitting 44 dispersion models: (progress not available with multiprocessing)"
     ]
    },
    {
     "name": "stderr",
     "output_type": "stream",
     "text": [
      "/usr/lib/python3.10/multiprocessing/popen_fork.py:66: RuntimeWarning: os.fork() was called. os.fork() is incompatible with multithreaded code, and JAX is multithreaded, so this will likely lead to a deadlock.\n",
      "  self.pid = os.fork()\n"
     ]
    },
    {
     "name": "stdout",
     "output_type": "stream",
     "text": [
      "iter  42: ll=9768371.731455, converged: 99.97% (loc: 99.97%, scale update: True), in 3.19sec\n",
      "caught 1 linalg singular matrix errors\n",
      "iter  43: ll=9768371.731455, converged: 99.97% (loc: 100.00%, scale update: False), in 0.32sec\n",
      "iter  44: ll=9768294.429355, converged: 99.99% (loc: 99.99%, scale update: True), in 0.39sec\n",
      "iter  45: ll=9768294.429355, converged: 99.99% (loc: 100.00%, scale update: False), in 0.31sec\n",
      "iter  46: ll=9768294.429355, converged: 100.00% (loc: 100.00%, scale update: True), in 0.27sec\n"
     ]
    },
    {
     "name": "stderr",
     "output_type": "stream",
     "text": [
      "/usr/local/lib/python3.10/dist-packages/dask/array/core.py:2894: RuntimeWarning: divide by zero encountered in divide\n",
      "  size = (limit / dtype.itemsize / largest_block) ** (1 / len(autos))\n"
     ]
    },
    {
     "name": "stdout",
     "output_type": "stream",
     "text": [
      "In cluster NCSC:\n",
      "condition\n",
      "Parkinson    3448\n",
      "Name: count, dtype: int64\n",
      "filtered out 3921 genes that are detected in less than 50 cells\n"
     ]
    },
    {
     "name": "stderr",
     "output_type": "stream",
     "text": [
      "Built constraints: donor_period[UKERi88H-R1-002_lp]+donor_period[UKERiAY6-R1-003_lp]+donor_period[UKERiC99-R1-007_lp]+donor_period[UKERiJ2C-R1-015_lp]+donor_period[UKERiM89-R1-005_lp]+donor_period[UKERiPX7-R1-001_lp]+donor_period[UKERiR66-R1-007_lp]=0, donor_period[UKERi88H-R1-002_hp]+donor_period[UKERiAY6-R1-003_hp]+donor_period[UKERiC99-R1-007_hp]+donor_period[UKERiJ2C-R1-015_hp]+donor_period[UKERiM89-R1-005_hp]+donor_period[UKERiPX7-R1-001_hp]+donor_period[UKERiR66-R1-007_hp]=0\n"
     ]
    },
    {
     "name": "stdout",
     "output_type": "stream",
     "text": [
      "Testing 13445 genes...\n",
      "\n",
      "training location model: True\n",
      "training scale model: True\n",
      "iter   0: ll=48938511.846883\n",
      "iter   1: ll=47151781.865092, converged: 0.00% (loc: 1.68%, scale update: False), in 17.61sec\n",
      "iter   2: ll=46791113.299420, converged: 0.00% (loc: 2.71%, scale update: False), in 17.24sec\n",
      "iter   3: ll=46735282.034569, converged: 0.00% (loc: 2.71%, scale update: False), in 18.54sec\n",
      "iter   4: ll=46724001.258798, converged: 0.00% (loc: 2.71%, scale update: False), in 17.23sec\n",
      "iter   5: ll=46721221.249094, converged: 0.00% (loc: 3.49%, scale update: False), in 17.70sec\n",
      "Fitting 13445 dispersion models: (progress not available with multiprocessing)"
     ]
    },
    {
     "name": "stderr",
     "output_type": "stream",
     "text": [
      "/usr/lib/python3.10/multiprocessing/popen_fork.py:66: RuntimeWarning: os.fork() was called. os.fork() is incompatible with multithreaded code, and JAX is multithreaded, so this will likely lead to a deadlock.\n",
      "  self.pid = os.fork()\n"
     ]
    },
    {
     "name": "stdout",
     "output_type": "stream",
     "text": [
      "iter   6: ll=40676172.780389, converged: 0.02% (loc: 0.02%, scale update: True), in 99.34sec\n",
      "iter   7: ll=40666287.101231, converged: 0.02% (loc: 2.13%, scale update: False), in 17.57sec\n",
      "iter   8: ll=40664629.587169, converged: 0.02% (loc: 2.83%, scale update: False), in 17.15sec\n",
      "iter   9: ll=40664135.217385, converged: 0.02% (loc: 7.07%, scale update: False), in 18.18sec\n",
      "iter  10: ll=40663930.076639, converged: 0.02% (loc: 17.98%, scale update: False), in 17.22sec\n",
      "iter  11: ll=40663822.754424, converged: 0.02% (loc: 36.54%, scale update: False), in 15.54sec\n",
      "Fitting 13442 dispersion models: (progress not available with multiprocessing)"
     ]
    },
    {
     "name": "stderr",
     "output_type": "stream",
     "text": [
      "/usr/lib/python3.10/multiprocessing/popen_fork.py:66: RuntimeWarning: os.fork() was called. os.fork() is incompatible with multithreaded code, and JAX is multithreaded, so this will likely lead to a deadlock.\n",
      "  self.pid = os.fork()\n"
     ]
    },
    {
     "name": "stdout",
     "output_type": "stream",
     "text": [
      "iter  12: ll=40554641.231336, converged: 1.88% (loc: 1.88%, scale update: True), in 98.42sec\n",
      "iter  13: ll=40554448.259939, converged: 1.88% (loc: 8.00%, scale update: False), in 17.51sec\n",
      "iter  14: ll=40554360.661966, converged: 1.88% (loc: 20.31%, scale update: False), in 17.02sec\n",
      "iter  15: ll=40554304.962650, converged: 1.88% (loc: 42.55%, scale update: False), in 15.45sec\n",
      "iter  16: ll=40554267.049752, converged: 1.88% (loc: 67.40%, scale update: False), in 11.38sec\n",
      "iter  17: ll=40554236.529732, converged: 1.88% (loc: 83.01%, scale update: False), in 8.48sec\n",
      "Fitting 13192 dispersion models: (progress not available with multiprocessing)"
     ]
    },
    {
     "name": "stderr",
     "output_type": "stream",
     "text": [
      "/usr/lib/python3.10/multiprocessing/popen_fork.py:66: RuntimeWarning: os.fork() was called. os.fork() is incompatible with multithreaded code, and JAX is multithreaded, so this will likely lead to a deadlock.\n",
      "  self.pid = os.fork()\n"
     ]
    },
    {
     "name": "stdout",
     "output_type": "stream",
     "text": [
      "iter  18: ll=40489143.791153, converged: 7.78% (loc: 7.78%, scale update: True), in 97.98sec\n",
      "iter  19: ll=40489069.382882, converged: 7.78% (loc: 44.34%, scale update: False), in 16.10sec\n",
      "iter  20: ll=40489036.628458, converged: 7.78% (loc: 68.05%, scale update: False), in 12.01sec\n",
      "iter  21: ll=40489012.699927, converged: 7.78% (loc: 83.60%, scale update: False), in 8.22sec\n",
      "iter  22: ll=40488999.196699, converged: 7.78% (loc: 91.54%, scale update: False), in 5.68sec\n",
      "iter  23: ll=40488992.820274, converged: 7.78% (loc: 95.12%, scale update: False), in 4.80sec\n",
      "Fitting 12399 dispersion models: (progress not available with multiprocessing)"
     ]
    },
    {
     "name": "stderr",
     "output_type": "stream",
     "text": [
      "/usr/lib/python3.10/multiprocessing/popen_fork.py:66: RuntimeWarning: os.fork() was called. os.fork() is incompatible with multithreaded code, and JAX is multithreaded, so this will likely lead to a deadlock.\n",
      "  self.pid = os.fork()\n"
     ]
    },
    {
     "name": "stdout",
     "output_type": "stream",
     "text": [
      "iter  24: ll=40442442.101254, converged: 43.99% (loc: 43.99%, scale update: True), in 90.57sec\n",
      "iter  25: ll=40442416.553191, converged: 43.99% (loc: 88.87%, scale update: False), in 11.58sec\n",
      "iter  26: ll=40442412.421754, converged: 43.99% (loc: 97.67%, scale update: False), in 5.39sec\n",
      "iter  27: ll=40442409.601087, converged: 43.99% (loc: 99.18%, scale update: False), in 3.95sec\n",
      "iter  28: ll=40442407.531733, converged: 43.99% (loc: 99.69%, scale update: False), in 2.15sec\n",
      "iter  29: ll=40442406.394197, converged: 43.99% (loc: 99.80%, scale update: False), in 1.46sec\n",
      "Fitting 7531 dispersion models: (progress not available with multiprocessing)"
     ]
    },
    {
     "name": "stderr",
     "output_type": "stream",
     "text": [
      "/usr/lib/python3.10/multiprocessing/popen_fork.py:66: RuntimeWarning: os.fork() was called. os.fork() is incompatible with multithreaded code, and JAX is multithreaded, so this will likely lead to a deadlock.\n",
      "  self.pid = os.fork()\n"
     ]
    },
    {
     "name": "stdout",
     "output_type": "stream",
     "text": [
      "iter  30: ll=40426335.949171, converged: 88.55% (loc: 88.55%, scale update: True), in 58.15sec\n",
      "iter  31: ll=40426322.374652, converged: 88.55% (loc: 98.93%, scale update: False), in 5.11sec\n",
      "iter  32: ll=40426322.343006, converged: 88.55% (loc: 99.61%, scale update: False), in 2.92sec\n",
      "iter  33: ll=40426322.341603, converged: 88.55% (loc: 99.87%, scale update: False), in 1.66sec\n",
      "iter  34: ll=40426322.341455, converged: 88.55% (loc: 99.92%, scale update: False), in 0.92sec\n",
      "iter  35: ll=40426322.341438, converged: 88.55% (loc: 99.94%, scale update: False), in 0.73sec\n",
      "Fitting 1539 dispersion models: (progress not available with multiprocessing)"
     ]
    },
    {
     "name": "stderr",
     "output_type": "stream",
     "text": [
      "/usr/lib/python3.10/multiprocessing/popen_fork.py:66: RuntimeWarning: os.fork() was called. os.fork() is incompatible with multithreaded code, and JAX is multithreaded, so this will likely lead to a deadlock.\n",
      "  self.pid = os.fork()\n"
     ]
    },
    {
     "name": "stdout",
     "output_type": "stream",
     "text": [
      "iter  36: ll=40424512.635010, converged: 98.88% (loc: 98.88%, scale update: True), in 19.62sec\n",
      "iter  37: ll=40424512.118789, converged: 98.88% (loc: 99.75%, scale update: False), in 2.89sec\n",
      "caught 1 linalg singular matrix errors\n",
      "iter  38: ll=40424512.118675, converged: 98.88% (loc: 99.96%, scale update: False), in 1.22sec\n",
      "caught 1 linalg singular matrix errors\n",
      "iter  39: ll=40424512.118675, converged: 98.88% (loc: 99.99%, scale update: False), in 0.54sec\n",
      "iter  40: ll=40424512.118675, converged: 98.88% (loc: 99.99%, scale update: False), in 0.46sec\n",
      "iter  41: ll=40424512.118674, converged: 98.88% (loc: 99.99%, scale update: False), in 0.49sec\n",
      "Fitting 151 dispersion models: (progress not available with multiprocessing)"
     ]
    },
    {
     "name": "stderr",
     "output_type": "stream",
     "text": [
      "/usr/lib/python3.10/multiprocessing/popen_fork.py:66: RuntimeWarning: os.fork() was called. os.fork() is incompatible with multithreaded code, and JAX is multithreaded, so this will likely lead to a deadlock.\n",
      "  self.pid = os.fork()\n"
     ]
    },
    {
     "name": "stdout",
     "output_type": "stream",
     "text": [
      "iter  42: ll=40423042.940205, converged: 99.72% (loc: 99.72%, scale update: True), in 12.31sec\n",
      "caught 5 linalg singular matrix errors\n",
      "iter  43: ll=40423033.977116, converged: 99.72% (loc: 99.99%, scale update: False), in 1.44sec\n",
      "iter  44: ll=40423033.977116, converged: 99.72% (loc: 100.00%, scale update: False), in 0.50sec\n",
      "Fitting 38 dispersion models: (progress not available with multiprocessing)"
     ]
    },
    {
     "name": "stderr",
     "output_type": "stream",
     "text": [
      "/usr/lib/python3.10/multiprocessing/popen_fork.py:66: RuntimeWarning: os.fork() was called. os.fork() is incompatible with multithreaded code, and JAX is multithreaded, so this will likely lead to a deadlock.\n",
      "  self.pid = os.fork()\n"
     ]
    },
    {
     "name": "stdout",
     "output_type": "stream",
     "text": [
      "iter  45: ll=40423033.977116, converged: 99.99% (loc: 99.99%, scale update: True), in 9.65sec\n",
      "iter  46: ll=40423033.977116, converged: 99.99% (loc: 100.00%, scale update: False), in 0.52sec\n",
      "iter  47: ll=40423033.977116, converged: 100.00% (loc: 100.00%, scale update: True), in 0.56sec\n"
     ]
    },
    {
     "name": "stderr",
     "output_type": "stream",
     "text": [
      "/usr/local/lib/python3.10/dist-packages/dask/array/core.py:2894: RuntimeWarning: divide by zero encountered in divide\n",
      "  size = (limit / dtype.itemsize / largest_block) ** (1 / len(autos))\n"
     ]
    },
    {
     "name": "stdout",
     "output_type": "stream",
     "text": [
      "In cluster NSC1a:\n",
      "condition\n",
      "Parkinson    14007\n",
      "Name: count, dtype: int64\n",
      "filtered out 2359 genes that are detected in less than 50 cells\n"
     ]
    },
    {
     "name": "stderr",
     "output_type": "stream",
     "text": [
      "Built constraints: donor_period[UKERi88H-R1-002_lp]+donor_period[UKERiAY6-R1-003_lp]+donor_period[UKERiC99-R1-007_lp]+donor_period[UKERiJ2C-R1-015_lp]+donor_period[UKERiM89-R1-005_lp]+donor_period[UKERiPX7-R1-001_lp]+donor_period[UKERiR66-R1-007_lp]=0, donor_period[UKERi88H-R1-002_hp]+donor_period[UKERiAY6-R1-003_hp]+donor_period[UKERiC99-R1-007_hp]+donor_period[UKERiJ2C-R1-015_hp]+donor_period[UKERiM89-R1-005_hp]+donor_period[UKERiPX7-R1-001_hp]+donor_period[UKERiR66-R1-007_hp]=0\n"
     ]
    },
    {
     "name": "stdout",
     "output_type": "stream",
     "text": [
      "Testing 15007 genes...\n",
      "\n"
     ]
    },
    {
     "name": "stderr",
     "output_type": "stream",
     "text": [
      "/usr/local/lib/python3.10/dist-packages/batchglm/models/base_glm/utils.py:158: PerformanceWarning: Slicing is producing a large chunk. To accept the large\n",
      "chunk and silence this warning, set the option\n",
      "    >>> with dask.config.set(**{'array.slicing.split_large_chunks': False}):\n",
      "    ...     array[indexer]\n",
      "\n",
      "To avoid creating the large chunks, set the option\n",
      "    >>> with dask.config.set(**{'array.slicing.split_large_chunks': True}):\n",
      "    ...     array[indexer]\n",
      "  np.mean(x[np.where(grouping == g)[0], :], axis=0)\n",
      "/usr/local/lib/python3.10/dist-packages/batchglm/models/base_glm/utils.py:171: PerformanceWarning: Slicing is producing a large chunk. To accept the large\n",
      "chunk and silence this warning, set the option\n",
      "    >>> with dask.config.set(**{'array.slicing.split_large_chunks': False}):\n",
      "    ...     array[indexer]\n",
      "\n",
      "To avoid creating the large chunks, set the option\n",
      "    >>> with dask.config.set(**{'array.slicing.split_large_chunks': True}):\n",
      "    ...     array[indexer]\n",
      "  expect_xsq = np.vstack([np.mean(np.square(x[np.where(grouping == g)[0], :]), axis=0)\n"
     ]
    },
    {
     "name": "stdout",
     "output_type": "stream",
     "text": [
      "training location model: True\n",
      "training scale model: True\n",
      "iter   0: ll=179069801.174902\n",
      "iter   1: ll=172623388.040414, converged: 0.00% (loc: 2.91%, scale update: False), in 73.80sec\n",
      "iter   2: ll=171134085.080910, converged: 0.00% (loc: 4.08%, scale update: False), in 72.24sec\n",
      "iter   3: ll=170889570.632644, converged: 0.00% (loc: 4.08%, scale update: False), in 72.63sec\n",
      "iter   4: ll=170850643.589174, converged: 0.00% (loc: 4.12%, scale update: False), in 71.83sec\n",
      "iter   5: ll=170844828.094433, converged: 0.00% (loc: 5.88%, scale update: False), in 70.92sec\n",
      "Fitting 15007 dispersion models: (progress not available with multiprocessing)"
     ]
    },
    {
     "name": "stderr",
     "output_type": "stream",
     "text": [
      "/usr/lib/python3.10/multiprocessing/popen_fork.py:66: RuntimeWarning: os.fork() was called. os.fork() is incompatible with multithreaded code, and JAX is multithreaded, so this will likely lead to a deadlock.\n",
      "  self.pid = os.fork()\n"
     ]
    },
    {
     "name": "stdout",
     "output_type": "stream",
     "text": [
      "iter   6: ll=162491944.342858, converged: 0.01% (loc: 0.01%, scale update: True), in 425.33sec\n",
      "iter   7: ll=162454657.236725, converged: 0.01% (loc: 3.12%, scale update: False), in 71.91sec\n",
      "iter   8: ll=162449624.273796, converged: 0.01% (loc: 5.01%, scale update: False), in 72.31sec\n",
      "iter   9: ll=162448579.946517, converged: 0.01% (loc: 14.15%, scale update: False), in 70.51sec\n",
      "iter  10: ll=162448253.818711, converged: 0.01% (loc: 30.26%, scale update: False), in 64.59sec\n",
      "iter  11: ll=162448106.724742, converged: 0.01% (loc: 48.04%, scale update: False), in 55.81sec\n",
      "Fitting 15006 dispersion models: (progress not available with multiprocessing)"
     ]
    },
    {
     "name": "stderr",
     "output_type": "stream",
     "text": [
      "/usr/lib/python3.10/multiprocessing/popen_fork.py:66: RuntimeWarning: os.fork() was called. os.fork() is incompatible with multithreaded code, and JAX is multithreaded, so this will likely lead to a deadlock.\n",
      "  self.pid = os.fork()\n"
     ]
    },
    {
     "name": "stdout",
     "output_type": "stream",
     "text": [
      "iter  12: ll=162303140.481787, converged: 2.98% (loc: 2.98%, scale update: True), in 429.25sec\n",
      "iter  13: ll=162302769.042822, converged: 2.98% (loc: 13.40%, scale update: False), in 72.72sec\n",
      "iter  14: ll=162302622.735664, converged: 2.98% (loc: 30.60%, scale update: False), in 65.24sec\n",
      "iter  15: ll=162302532.431847, converged: 2.98% (loc: 49.75%, scale update: False), in 55.09sec\n",
      "iter  16: ll=162302474.983402, converged: 2.98% (loc: 68.50%, scale update: False), in 41.53sec\n",
      "iter  17: ll=162302430.466475, converged: 2.98% (loc: 84.79%, scale update: False), in 31.68sec\n",
      "Fitting 14560 dispersion models: (progress not available with multiprocessing)"
     ]
    },
    {
     "name": "stderr",
     "output_type": "stream",
     "text": [
      "/usr/lib/python3.10/multiprocessing/popen_fork.py:66: RuntimeWarning: os.fork() was called. os.fork() is incompatible with multithreaded code, and JAX is multithreaded, so this will likely lead to a deadlock.\n",
      "  self.pid = os.fork()\n"
     ]
    },
    {
     "name": "stdout",
     "output_type": "stream",
     "text": [
      "iter  18: ll=162146734.661403, converged: 13.11% (loc: 13.11%, scale update: True), in 416.98sec\n",
      "iter  19: ll=162146641.462978, converged: 13.11% (loc: 51.32%, scale update: False), in 65.81sec\n",
      "iter  20: ll=162146601.141589, converged: 13.11% (loc: 72.99%, scale update: False), in 42.21sec\n",
      "iter  21: ll=162146575.536160, converged: 13.11% (loc: 89.80%, scale update: False), in 28.73sec\n",
      "iter  22: ll=162146556.571469, converged: 13.11% (loc: 95.76%, scale update: False), in 17.54sec\n",
      "iter  23: ll=162146546.338403, converged: 13.11% (loc: 98.42%, scale update: False), in 13.91sec\n",
      "Fitting 13040 dispersion models: (progress not available with multiprocessing)"
     ]
    },
    {
     "name": "stderr",
     "output_type": "stream",
     "text": [
      "/usr/lib/python3.10/multiprocessing/popen_fork.py:66: RuntimeWarning: os.fork() was called. os.fork() is incompatible with multithreaded code, and JAX is multithreaded, so this will likely lead to a deadlock.\n",
      "  self.pid = os.fork()\n"
     ]
    },
    {
     "name": "stdout",
     "output_type": "stream",
     "text": [
      "iter  24: ll=162096627.301060, converged: 50.99% (loc: 50.99%, scale update: True), in 376.19sec\n",
      "iter  25: ll=162096601.112055, converged: 50.99% (loc: 93.12%, scale update: False), in 42.03sec\n",
      "iter  26: ll=162096600.728875, converged: 50.99% (loc: 98.73%, scale update: False), in 16.58sec\n",
      "iter  27: ll=162096600.725185, converged: 50.99% (loc: 99.48%, scale update: False), in 9.80sec\n",
      "iter  28: ll=162096600.725109, converged: 50.99% (loc: 99.77%, scale update: False), in 6.08sec\n",
      "iter  29: ll=162096600.725103, converged: 50.99% (loc: 99.89%, scale update: False), in 3.26sec\n",
      "Fitting 7355 dispersion models: (progress not available with multiprocessing)"
     ]
    },
    {
     "name": "stderr",
     "output_type": "stream",
     "text": [
      "/usr/lib/python3.10/multiprocessing/popen_fork.py:66: RuntimeWarning: os.fork() was called. os.fork() is incompatible with multithreaded code, and JAX is multithreaded, so this will likely lead to a deadlock.\n",
      "  self.pid = os.fork()\n"
     ]
    },
    {
     "name": "stdout",
     "output_type": "stream",
     "text": [
      "iter  30: ll=162088980.175371, converged: 92.90% (loc: 92.90%, scale update: True), in 226.26sec\n",
      "iter  31: ll=162088980.106206, converged: 92.90% (loc: 99.40%, scale update: False), in 15.83sec\n",
      "iter  32: ll=162088980.104768, converged: 92.90% (loc: 99.75%, scale update: False), in 6.25sec\n",
      "iter  33: ll=162088980.104736, converged: 92.90% (loc: 99.93%, scale update: False), in 3.47sec\n",
      "iter  34: ll=162088980.104735, converged: 92.90% (loc: 99.97%, scale update: False), in 1.51sec\n",
      "iter  35: ll=162088980.104735, converged: 92.90% (loc: 100.00%, scale update: False), in 1.24sec\n",
      "Fitting 1066 dispersion models: (progress not available with multiprocessing)"
     ]
    },
    {
     "name": "stderr",
     "output_type": "stream",
     "text": [
      "/usr/lib/python3.10/multiprocessing/popen_fork.py:66: RuntimeWarning: os.fork() was called. os.fork() is incompatible with multithreaded code, and JAX is multithreaded, so this will likely lead to a deadlock.\n",
      "  self.pid = os.fork()\n"
     ]
    },
    {
     "name": "stdout",
     "output_type": "stream",
     "text": [
      "iter  36: ll=162087547.851401, converged: 99.37% (loc: 99.37%, scale update: True), in 70.31sec\n",
      "iter  37: ll=162087547.837661, converged: 99.37% (loc: 99.89%, scale update: False), in 6.66sec\n",
      "iter  38: ll=162087547.837471, converged: 99.37% (loc: 99.97%, scale update: False), in 2.09sec\n",
      "caught 2 linalg singular matrix errors\n",
      "iter  39: ll=162087547.837468, converged: 99.37% (loc: 99.99%, scale update: False), in 1.37sec\n",
      "iter  40: ll=162087547.837468, converged: 99.37% (loc: 99.99%, scale update: False), in 1.13sec\n",
      "iter  41: ll=162087547.837468, converged: 99.37% (loc: 100.00%, scale update: False), in 1.25sec\n",
      "Fitting 94 dispersion models: (progress not available with multiprocessing)"
     ]
    },
    {
     "name": "stderr",
     "output_type": "stream",
     "text": [
      "/usr/lib/python3.10/multiprocessing/popen_fork.py:66: RuntimeWarning: os.fork() was called. os.fork() is incompatible with multithreaded code, and JAX is multithreaded, so this will likely lead to a deadlock.\n",
      "  self.pid = os.fork()\n"
     ]
    },
    {
     "name": "stdout",
     "output_type": "stream",
     "text": [
      "iter  42: ll=162087484.484430, converged: 99.89% (loc: 99.89%, scale update: True), in 49.95sec\n",
      "caught 3 linalg singular matrix errors\n",
      "iter  43: ll=162087484.350312, converged: 99.89% (loc: 99.99%, scale update: False), in 2.10sec\n",
      "iter  44: ll=162087484.269193, converged: 99.89% (loc: 99.99%, scale update: False), in 1.08sec\n",
      "caught 1 linalg singular matrix errors\n",
      "iter  45: ll=162087484.269193, converged: 99.89% (loc: 100.00%, scale update: False), in 1.06sec\n",
      "Fitting 16 dispersion models: (progress not available with multiprocessing)"
     ]
    },
    {
     "name": "stderr",
     "output_type": "stream",
     "text": [
      "/usr/lib/python3.10/multiprocessing/popen_fork.py:66: RuntimeWarning: os.fork() was called. os.fork() is incompatible with multithreaded code, and JAX is multithreaded, so this will likely lead to a deadlock.\n",
      "  self.pid = os.fork()\n"
     ]
    },
    {
     "name": "stdout",
     "output_type": "stream",
     "text": [
      "iter  46: ll=162087484.268974, converged: 99.99% (loc: 99.99%, scale update: True), in 36.67sec\n",
      "caught 1 linalg singular matrix errors\n",
      "iter  47: ll=162087484.268974, converged: 99.99% (loc: 100.00%, scale update: False), in 1.14sec\n",
      "iter  48: ll=162087484.268974, converged: 100.00% (loc: 100.00%, scale update: True), in 1.43sec\n"
     ]
    },
    {
     "name": "stderr",
     "output_type": "stream",
     "text": [
      "/usr/local/lib/python3.10/dist-packages/dask/array/core.py:2894: RuntimeWarning: divide by zero encountered in divide\n",
      "  size = (limit / dtype.itemsize / largest_block) ** (1 / len(autos))\n"
     ]
    },
    {
     "name": "stdout",
     "output_type": "stream",
     "text": [
      "In cluster NSC1b:\n",
      "condition\n",
      "Parkinson    8730\n",
      "Name: count, dtype: int64\n",
      "filtered out 2819 genes that are detected in less than 50 cells\n"
     ]
    },
    {
     "name": "stderr",
     "output_type": "stream",
     "text": [
      "Built constraints: donor_period[UKERi88H-R1-002_lp]+donor_period[UKERiAY6-R1-003_lp]+donor_period[UKERiC99-R1-007_lp]+donor_period[UKERiJ2C-R1-015_lp]+donor_period[UKERiM89-R1-005_lp]+donor_period[UKERiPX7-R1-001_lp]+donor_period[UKERiR66-R1-007_lp]=0, donor_period[UKERi88H-R1-002_hp]+donor_period[UKERiAY6-R1-003_hp]+donor_period[UKERiC99-R1-007_hp]+donor_period[UKERiJ2C-R1-015_hp]+donor_period[UKERiM89-R1-005_hp]+donor_period[UKERiPX7-R1-001_hp]+donor_period[UKERiR66-R1-007_hp]=0\n"
     ]
    },
    {
     "name": "stdout",
     "output_type": "stream",
     "text": [
      "Testing 14547 genes...\n",
      "\n"
     ]
    },
    {
     "name": "stderr",
     "output_type": "stream",
     "text": [
      "/usr/local/lib/python3.10/dist-packages/batchglm/models/base_glm/utils.py:158: PerformanceWarning: Slicing is producing a large chunk. To accept the large\n",
      "chunk and silence this warning, set the option\n",
      "    >>> with dask.config.set(**{'array.slicing.split_large_chunks': False}):\n",
      "    ...     array[indexer]\n",
      "\n",
      "To avoid creating the large chunks, set the option\n",
      "    >>> with dask.config.set(**{'array.slicing.split_large_chunks': True}):\n",
      "    ...     array[indexer]\n",
      "  np.mean(x[np.where(grouping == g)[0], :], axis=0)\n",
      "/usr/local/lib/python3.10/dist-packages/batchglm/models/base_glm/utils.py:171: PerformanceWarning: Slicing is producing a large chunk. To accept the large\n",
      "chunk and silence this warning, set the option\n",
      "    >>> with dask.config.set(**{'array.slicing.split_large_chunks': False}):\n",
      "    ...     array[indexer]\n",
      "\n",
      "To avoid creating the large chunks, set the option\n",
      "    >>> with dask.config.set(**{'array.slicing.split_large_chunks': True}):\n",
      "    ...     array[indexer]\n",
      "  expect_xsq = np.vstack([np.mean(np.square(x[np.where(grouping == g)[0], :]), axis=0)\n"
     ]
    },
    {
     "name": "stdout",
     "output_type": "stream",
     "text": [
      "training location model: True\n",
      "training scale model: True\n",
      "iter   0: ll=126514863.957010\n",
      "iter   1: ll=121477822.614819, converged: 0.00% (loc: 1.71%, scale update: False), in 44.67sec\n",
      "iter   2: ll=120545356.838701, converged: 0.00% (loc: 2.79%, scale update: False), in 46.17sec\n",
      "iter   3: ll=120428984.187580, converged: 0.00% (loc: 2.79%, scale update: False), in 44.22sec\n",
      "iter   4: ll=120413948.547470, converged: 0.00% (loc: 2.86%, scale update: False), in 44.80sec\n",
      "iter   5: ll=120411759.649293, converged: 0.00% (loc: 5.94%, scale update: False), in 44.66sec\n",
      "Fitting 14547 dispersion models: (progress not available with multiprocessing)"
     ]
    },
    {
     "name": "stderr",
     "output_type": "stream",
     "text": [
      "/usr/lib/python3.10/multiprocessing/popen_fork.py:66: RuntimeWarning: os.fork() was called. os.fork() is incompatible with multithreaded code, and JAX is multithreaded, so this will likely lead to a deadlock.\n",
      "  self.pid = os.fork()\n"
     ]
    },
    {
     "name": "stdout",
     "output_type": "stream",
     "text": [
      "iter   6: ll=113348162.922820, converged: 0.00% (loc: 0.00%, scale update: True), in 270.83sec\n",
      "iter   7: ll=113325802.598865, converged: 0.00% (loc: 2.18%, scale update: False), in 44.54sec\n",
      "iter   8: ll=113323876.139298, converged: 0.00% (loc: 4.37%, scale update: False), in 45.77sec\n",
      "iter   9: ll=113323466.658135, converged: 0.00% (loc: 16.95%, scale update: False), in 43.68sec\n",
      "iter  10: ll=113323299.244226, converged: 0.00% (loc: 37.51%, scale update: False), in 39.55sec\n",
      "iter  11: ll=113323186.509118, converged: 0.00% (loc: 61.40%, scale update: False), in 33.26sec\n",
      "Fitting 14547 dispersion models: (progress not available with multiprocessing)"
     ]
    },
    {
     "name": "stderr",
     "output_type": "stream",
     "text": [
      "/usr/lib/python3.10/multiprocessing/popen_fork.py:66: RuntimeWarning: os.fork() was called. os.fork() is incompatible with multithreaded code, and JAX is multithreaded, so this will likely lead to a deadlock.\n",
      "  self.pid = os.fork()\n"
     ]
    },
    {
     "name": "stdout",
     "output_type": "stream",
     "text": [
      "iter  12: ll=113154191.829777, converged: 1.97% (loc: 1.97%, scale update: True), in 272.44sec\n",
      "iter  13: ll=113153915.067882, converged: 1.97% (loc: 13.56%, scale update: False), in 45.33sec\n",
      "iter  14: ll=113153797.664971, converged: 1.97% (loc: 36.42%, scale update: False), in 40.32sec\n",
      "iter  15: ll=113153726.571621, converged: 1.97% (loc: 63.40%, scale update: False), in 32.15sec\n",
      "iter  16: ll=113153679.520539, converged: 1.97% (loc: 86.40%, scale update: False), in 21.88sec\n",
      "iter  17: ll=113153651.504098, converged: 1.97% (loc: 92.91%, scale update: False), in 12.53sec\n",
      "Fitting 14260 dispersion models: (progress not available with multiprocessing)"
     ]
    },
    {
     "name": "stderr",
     "output_type": "stream",
     "text": [
      "/usr/lib/python3.10/multiprocessing/popen_fork.py:66: RuntimeWarning: os.fork() was called. os.fork() is incompatible with multithreaded code, and JAX is multithreaded, so this will likely lead to a deadlock.\n",
      "  self.pid = os.fork()\n"
     ]
    },
    {
     "name": "stdout",
     "output_type": "stream",
     "text": [
      "iter  18: ll=113051636.354990, converged: 13.23% (loc: 13.23%, scale update: True), in 266.19sec\n",
      "iter  19: ll=113051577.649176, converged: 13.23% (loc: 61.66%, scale update: False), in 40.53sec\n",
      "iter  20: ll=113051567.128641, converged: 13.23% (loc: 86.13%, scale update: False), in 22.54sec\n",
      "iter  21: ll=113051565.072327, converged: 13.23% (loc: 93.91%, scale update: False), in 12.89sec\n",
      "iter  22: ll=113051564.977250, converged: 13.23% (loc: 96.78%, scale update: False), in 9.63sec\n",
      "iter  23: ll=113051564.974385, converged: 13.23% (loc: 98.93%, scale update: False), in 9.22sec\n",
      "Fitting 12623 dispersion models: (progress not available with multiprocessing)"
     ]
    },
    {
     "name": "stderr",
     "output_type": "stream",
     "text": [
      "/usr/lib/python3.10/multiprocessing/popen_fork.py:66: RuntimeWarning: os.fork() was called. os.fork() is incompatible with multithreaded code, and JAX is multithreaded, so this will likely lead to a deadlock.\n",
      "  self.pid = os.fork()\n"
     ]
    },
    {
     "name": "stdout",
     "output_type": "stream",
     "text": [
      "iter  24: ll=113006880.119368, converged: 61.36% (loc: 61.36%, scale update: True), in 240.52sec\n",
      "iter  25: ll=113006851.537787, converged: 61.36% (loc: 97.90%, scale update: False), in 22.52sec\n",
      "iter  26: ll=113006851.534208, converged: 61.36% (loc: 99.45%, scale update: False), in 8.17sec\n",
      "iter  27: ll=113006851.533940, converged: 61.36% (loc: 99.81%, scale update: False), in 4.31sec\n",
      "iter  28: ll=113006851.533815, converged: 61.36% (loc: 99.90%, scale update: False), in 2.28sec\n",
      "iter  29: ll=113006851.533761, converged: 61.36% (loc: 99.95%, scale update: False), in 1.39sec\n",
      "Fitting 5621 dispersion models: (progress not available with multiprocessing)"
     ]
    },
    {
     "name": "stderr",
     "output_type": "stream",
     "text": [
      "/usr/lib/python3.10/multiprocessing/popen_fork.py:66: RuntimeWarning: os.fork() was called. os.fork() is incompatible with multithreaded code, and JAX is multithreaded, so this will likely lead to a deadlock.\n",
      "  self.pid = os.fork()\n"
     ]
    },
    {
     "name": "stdout",
     "output_type": "stream",
     "text": [
      "iter  30: ll=113000405.489411, converged: 97.76% (loc: 97.76%, scale update: True), in 121.23sec\n",
      "iter  31: ll=113000404.070018, converged: 97.76% (loc: 99.73%, scale update: False), in 8.27sec\n",
      "iter  32: ll=113000404.069684, converged: 97.76% (loc: 99.95%, scale update: False), in 2.67sec\n",
      "iter  33: ll=113000404.069655, converged: 97.76% (loc: 99.97%, scale update: False), in 1.09sec\n",
      "iter  34: ll=113000404.069640, converged: 97.76% (loc: 99.99%, scale update: False), in 0.96sec\n",
      "iter  35: ll=113000404.069625, converged: 97.76% (loc: 99.99%, scale update: False), in 0.86sec\n",
      "Fitting 326 dispersion models: (progress not available with multiprocessing)"
     ]
    },
    {
     "name": "stderr",
     "output_type": "stream",
     "text": [
      "/usr/lib/python3.10/multiprocessing/popen_fork.py:66: RuntimeWarning: os.fork() was called. os.fork() is incompatible with multithreaded code, and JAX is multithreaded, so this will likely lead to a deadlock.\n",
      "  self.pid = os.fork()\n"
     ]
    },
    {
     "name": "stdout",
     "output_type": "stream",
     "text": [
      "iter  36: ll=113000404.054401, converged: 99.71% (loc: 99.71%, scale update: True), in 40.48sec\n",
      "iter  37: ll=113000404.045512, converged: 99.71% (loc: 99.97%, scale update: False), in 3.09sec\n",
      "iter  38: ll=113000404.045478, converged: 99.71% (loc: 99.98%, scale update: False), in 1.16sec\n",
      "caught 1 linalg singular matrix errors\n",
      "iter  39: ll=113000404.045473, converged: 99.71% (loc: 99.99%, scale update: False), in 0.80sec\n",
      "iter  40: ll=113000404.045469, converged: 99.71% (loc: 99.99%, scale update: False), in 0.78sec\n",
      "iter  41: ll=113000404.045465, converged: 99.71% (loc: 99.99%, scale update: False), in 0.77sec\n",
      "Fitting 42 dispersion models: (progress not available with multiprocessing)"
     ]
    },
    {
     "name": "stderr",
     "output_type": "stream",
     "text": [
      "/usr/lib/python3.10/multiprocessing/popen_fork.py:66: RuntimeWarning: os.fork() was called. os.fork() is incompatible with multithreaded code, and JAX is multithreaded, so this will likely lead to a deadlock.\n",
      "  self.pid = os.fork()\n"
     ]
    },
    {
     "name": "stdout",
     "output_type": "stream",
     "text": [
      "iter  42: ll=113000404.039444, converged: 99.97% (loc: 99.97%, scale update: True), in 31.16sec\n",
      "caught 2 linalg singular matrix errors\n",
      "iter  43: ll=113000404.036353, converged: 99.97% (loc: 99.99%, scale update: False), in 1.07sec\n",
      "iter  44: ll=113000404.036351, converged: 99.97% (loc: 99.99%, scale update: False), in 0.93sec\n",
      "caught 2 linalg singular matrix errors\n",
      "iter  45: ll=113000404.036351, converged: 99.97% (loc: 100.00%, scale update: False), in 0.62sec\n",
      "Fitting 5 dispersion models: (progress not available with multiprocessing)"
     ]
    },
    {
     "name": "stderr",
     "output_type": "stream",
     "text": [
      "/usr/lib/python3.10/multiprocessing/popen_fork.py:66: RuntimeWarning: os.fork() was called. os.fork() is incompatible with multithreaded code, and JAX is multithreaded, so this will likely lead to a deadlock.\n",
      "  self.pid = os.fork()\n"
     ]
    },
    {
     "name": "stdout",
     "output_type": "stream",
     "text": [
      "iter  46: ll=113000081.421511, converged: 99.99% (loc: 99.99%, scale update: True), in 20.55sec\n",
      "caught 2 linalg singular matrix errors\n",
      "iter  47: ll=113000081.421511, converged: 99.99% (loc: 100.00%, scale update: False), in 0.55sec\n",
      "iter  48: ll=113000081.421511, converged: 100.00% (loc: 100.00%, scale update: True), in 1.33sec\n"
     ]
    },
    {
     "name": "stderr",
     "output_type": "stream",
     "text": [
      "/usr/local/lib/python3.10/dist-packages/dask/array/core.py:2894: RuntimeWarning: divide by zero encountered in divide\n",
      "  size = (limit / dtype.itemsize / largest_block) ** (1 / len(autos))\n"
     ]
    },
    {
     "name": "stdout",
     "output_type": "stream",
     "text": [
      "In cluster NSC2a:\n",
      "condition\n",
      "Parkinson    5691\n",
      "Name: count, dtype: int64\n",
      "filtered out 3596 genes that are detected in less than 50 cells\n"
     ]
    },
    {
     "name": "stderr",
     "output_type": "stream",
     "text": [
      "Built constraints: donor_period[UKERi88H-R1-002_lp]+donor_period[UKERiAY6-R1-003_lp]+donor_period[UKERiC99-R1-007_lp]+donor_period[UKERiJ2C-R1-015_lp]+donor_period[UKERiM89-R1-005_lp]+donor_period[UKERiPX7-R1-001_lp]+donor_period[UKERiR66-R1-007_lp]=0, donor_period[UKERi88H-R1-002_hp]+donor_period[UKERiAY6-R1-003_hp]+donor_period[UKERiC99-R1-007_hp]+donor_period[UKERiJ2C-R1-015_hp]+donor_period[UKERiM89-R1-005_hp]+donor_period[UKERiPX7-R1-001_hp]+donor_period[UKERiR66-R1-007_hp]=0\n"
     ]
    },
    {
     "name": "stdout",
     "output_type": "stream",
     "text": [
      "Testing 13770 genes...\n",
      "\n",
      "training location model: True\n",
      "training scale model: True\n",
      "iter   0: ll=71331882.410241\n",
      "iter   1: ll=69113368.150374, converged: 0.00% (loc: 4.84%, scale update: False), in 27.54sec\n",
      "iter   2: ll=68443407.320722, converged: 0.00% (loc: 5.98%, scale update: False), in 27.89sec\n",
      "iter   3: ll=68301376.582123, converged: 0.00% (loc: 5.98%, scale update: False), in 26.52sec\n",
      "iter   4: ll=68272654.368288, converged: 0.00% (loc: 5.98%, scale update: False), in 26.87sec\n",
      "iter   5: ll=68267291.792400, converged: 0.00% (loc: 6.65%, scale update: False), in 26.76sec\n",
      "Fitting 13770 dispersion models: (progress not available with multiprocessing)"
     ]
    },
    {
     "name": "stderr",
     "output_type": "stream",
     "text": [
      "/usr/lib/python3.10/multiprocessing/popen_fork.py:66: RuntimeWarning: os.fork() was called. os.fork() is incompatible with multithreaded code, and JAX is multithreaded, so this will likely lead to a deadlock.\n",
      "  self.pid = os.fork()\n"
     ]
    },
    {
     "name": "stdout",
     "output_type": "stream",
     "text": [
      "iter   6: ll=60345993.455408, converged: 0.03% (loc: 0.03%, scale update: True), in 163.34sec\n",
      "iter   7: ll=60324691.342324, converged: 0.03% (loc: 5.17%, scale update: False), in 27.56sec\n",
      "iter   8: ll=60319986.484122, converged: 0.03% (loc: 5.95%, scale update: False), in 26.76sec\n",
      "iter   9: ll=60318541.821059, converged: 0.03% (loc: 11.15%, scale update: False), in 26.52sec\n",
      "iter  10: ll=60317945.758969, converged: 0.03% (loc: 20.43%, scale update: False), in 26.06sec\n",
      "iter  11: ll=60317649.007911, converged: 0.03% (loc: 34.42%, scale update: False), in 23.95sec\n",
      "Fitting 13766 dispersion models: (progress not available with multiprocessing)"
     ]
    },
    {
     "name": "stderr",
     "output_type": "stream",
     "text": [
      "/usr/lib/python3.10/multiprocessing/popen_fork.py:66: RuntimeWarning: os.fork() was called. os.fork() is incompatible with multithreaded code, and JAX is multithreaded, so this will likely lead to a deadlock.\n",
      "  self.pid = os.fork()\n"
     ]
    },
    {
     "name": "stdout",
     "output_type": "stream",
     "text": [
      "iter  12: ll=60136786.535294, converged: 4.90% (loc: 4.90%, scale update: True), in 165.41sec\n",
      "iter  13: ll=60136288.385522, converged: 4.90% (loc: 10.59%, scale update: False), in 26.91sec\n",
      "iter  14: ll=60136068.455871, converged: 4.90% (loc: 20.60%, scale update: False), in 26.55sec\n",
      "iter  15: ll=60135930.485260, converged: 4.90% (loc: 36.99%, scale update: False), in 24.02sec\n",
      "iter  16: ll=60135842.072146, converged: 4.90% (loc: 55.97%, scale update: False), in 20.00sec\n",
      "iter  17: ll=60135782.640471, converged: 4.90% (loc: 75.81%, scale update: False), in 15.27sec\n",
      "Fitting 13095 dispersion models: (progress not available with multiprocessing)"
     ]
    },
    {
     "name": "stderr",
     "output_type": "stream",
     "text": [
      "/usr/lib/python3.10/multiprocessing/popen_fork.py:66: RuntimeWarning: os.fork() was called. os.fork() is incompatible with multithreaded code, and JAX is multithreaded, so this will likely lead to a deadlock.\n",
      "  self.pid = os.fork()\n"
     ]
    },
    {
     "name": "stdout",
     "output_type": "stream",
     "text": [
      "iter  18: ll=59990335.689886, converged: 10.28% (loc: 10.28%, scale update: True), in 157.50sec\n",
      "iter  19: ll=59990210.918763, converged: 10.28% (loc: 38.71%, scale update: False), in 25.72sec\n",
      "iter  20: ll=59990152.230634, converged: 10.28% (loc: 59.47%, scale update: False), in 19.54sec\n",
      "iter  21: ll=59990110.079621, converged: 10.28% (loc: 81.37%, scale update: False), in 14.34sec\n",
      "iter  22: ll=59990080.461238, converged: 10.28% (loc: 92.93%, scale update: False), in 9.15sec\n",
      "iter  23: ll=59990060.368149, converged: 10.28% (loc: 97.05%, scale update: False), in 6.84sec\n",
      "Fitting 12355 dispersion models: (progress not available with multiprocessing)"
     ]
    },
    {
     "name": "stderr",
     "output_type": "stream",
     "text": [
      "/usr/lib/python3.10/multiprocessing/popen_fork.py:66: RuntimeWarning: os.fork() was called. os.fork() is incompatible with multithreaded code, and JAX is multithreaded, so this will likely lead to a deadlock.\n",
      "  self.pid = os.fork()\n"
     ]
    },
    {
     "name": "stdout",
     "output_type": "stream",
     "text": [
      "iter  24: ll=59924143.264928, converged: 38.36% (loc: 38.36%, scale update: True), in 160.60sec\n",
      "iter  25: ll=59924101.418326, converged: 38.36% (loc: 82.97%, scale update: False), in 19.06sec\n",
      "iter  26: ll=59924092.235671, converged: 38.36% (loc: 95.38%, scale update: False), in 9.07sec\n",
      "iter  27: ll=59924086.244189, converged: 38.36% (loc: 98.60%, scale update: False), in 6.42sec\n",
      "iter  28: ll=59924081.393753, converged: 38.36% (loc: 99.38%, scale update: False), in 4.63sec\n",
      "iter  29: ll=59924076.961210, converged: 38.36% (loc: 99.66%, scale update: False), in 2.97sec\n",
      "Fitting 8488 dispersion models: (progress not available with multiprocessing)"
     ]
    },
    {
     "name": "stderr",
     "output_type": "stream",
     "text": [
      "/usr/lib/python3.10/multiprocessing/popen_fork.py:66: RuntimeWarning: os.fork() was called. os.fork() is incompatible with multithreaded code, and JAX is multithreaded, so this will likely lead to a deadlock.\n",
      "  self.pid = os.fork()\n"
     ]
    },
    {
     "name": "stdout",
     "output_type": "stream",
     "text": [
      "iter  30: ll=59902484.833005, converged: 82.59% (loc: 82.59%, scale update: True), in 112.81sec\n",
      "iter  31: ll=59902476.163596, converged: 82.59% (loc: 98.08%, scale update: False), in 9.20sec\n",
      "iter  32: ll=59902471.958105, converged: 82.59% (loc: 99.42%, scale update: False), in 5.63sec\n",
      "iter  33: ll=59902468.294713, converged: 82.59% (loc: 99.67%, scale update: False), in 2.89sec\n",
      "iter  34: ll=59902464.882005, converged: 82.59% (loc: 99.81%, scale update: False), in 2.14sec\n",
      "iter  35: ll=59902461.759886, converged: 82.59% (loc: 99.88%, scale update: False), in 1.56sec\n",
      "Fitting 2397 dispersion models: (progress not available with multiprocessing)"
     ]
    },
    {
     "name": "stderr",
     "output_type": "stream",
     "text": [
      "/usr/lib/python3.10/multiprocessing/popen_fork.py:66: RuntimeWarning: os.fork() was called. os.fork() is incompatible with multithreaded code, and JAX is multithreaded, so this will likely lead to a deadlock.\n",
      "  self.pid = os.fork()\n"
     ]
    },
    {
     "name": "stdout",
     "output_type": "stream",
     "text": [
      "iter  36: ll=59901086.252672, converged: 97.98% (loc: 97.98%, scale update: True), in 44.57sec\n",
      "iter  37: ll=59901082.898756, converged: 97.98% (loc: 99.61%, scale update: False), in 5.82sec\n",
      "iter  38: ll=59901080.640216, converged: 97.98% (loc: 99.87%, scale update: False), in 2.24sec\n",
      "caught 1 linalg singular matrix errors\n",
      "iter  39: ll=59901078.804838, converged: 97.98% (loc: 99.92%, scale update: False), in 1.52sec\n",
      "caught 4 linalg singular matrix errors\n",
      "iter  40: ll=59901077.558972, converged: 97.98% (loc: 99.97%, scale update: False), in 0.94sec\n",
      "caught 1 linalg singular matrix errors\n",
      "iter  41: ll=59901077.558969, converged: 97.98% (loc: 99.99%, scale update: False), in 0.70sec\n",
      "Fitting 278 dispersion models: (progress not available with multiprocessing)"
     ]
    },
    {
     "name": "stderr",
     "output_type": "stream",
     "text": [
      "/usr/lib/python3.10/multiprocessing/popen_fork.py:66: RuntimeWarning: os.fork() was called. os.fork() is incompatible with multithreaded code, and JAX is multithreaded, so this will likely lead to a deadlock.\n",
      "  self.pid = os.fork()\n"
     ]
    },
    {
     "name": "stdout",
     "output_type": "stream",
     "text": [
      "iter  42: ll=59901077.123693, converged: 99.59% (loc: 99.59%, scale update: True), in 23.55sec\n",
      "caught 8 linalg singular matrix errors\n",
      "iter  43: ll=59901077.112050, converged: 99.59% (loc: 99.96%, scale update: False), in 2.37sec\n",
      "caught 1 linalg singular matrix errors\n",
      "iter  44: ll=59901077.112038, converged: 99.59% (loc: 99.99%, scale update: False), in 0.82sec\n",
      "caught 1 linalg singular matrix errors\n",
      "iter  45: ll=59901077.112038, converged: 99.59% (loc: 99.99%, scale update: False), in 0.62sec\n",
      "iter  46: ll=59901077.112038, converged: 99.59% (loc: 100.00%, scale update: False), in 0.54sec\n",
      "Fitting 56 dispersion models: (progress not available with multiprocessing)"
     ]
    },
    {
     "name": "stderr",
     "output_type": "stream",
     "text": [
      "/usr/lib/python3.10/multiprocessing/popen_fork.py:66: RuntimeWarning: os.fork() was called. os.fork() is incompatible with multithreaded code, and JAX is multithreaded, so this will likely lead to a deadlock.\n",
      "  self.pid = os.fork()\n"
     ]
    },
    {
     "name": "stdout",
     "output_type": "stream",
     "text": [
      "iter  47: ll=59901077.103864, converged: 99.96% (loc: 99.96%, scale update: True), in 20.77sec\n",
      "caught 2 linalg singular matrix errors\n",
      "iter  48: ll=59901077.103412, converged: 99.96% (loc: 99.99%, scale update: False), in 0.68sec\n",
      "iter  49: ll=59901077.103409, converged: 99.96% (loc: 99.99%, scale update: False), in 0.66sec\n",
      "iter  50: ll=59901077.103409, converged: 99.96% (loc: 100.00%, scale update: False), in 0.57sec\n",
      "Fitting 6 dispersion models: (progress not available with multiprocessing)"
     ]
    },
    {
     "name": "stderr",
     "output_type": "stream",
     "text": [
      "/usr/lib/python3.10/multiprocessing/popen_fork.py:66: RuntimeWarning: os.fork() was called. os.fork() is incompatible with multithreaded code, and JAX is multithreaded, so this will likely lead to a deadlock.\n",
      "  self.pid = os.fork()\n"
     ]
    },
    {
     "name": "stdout",
     "output_type": "stream",
     "text": [
      "iter  51: ll=59900441.185433, converged: 99.99% (loc: 99.99%, scale update: True), in 13.90sec\n",
      "caught 1 linalg singular matrix errors\n",
      "iter  52: ll=59900441.185433, converged: 99.99% (loc: 100.00%, scale update: False), in 0.55sec\n",
      "iter  53: ll=59900434.232078, converged: 99.99% (loc: 99.99%, scale update: True), in 0.70sec\n",
      "caught 1 linalg singular matrix errors\n",
      "iter  54: ll=59900434.232078, converged: 99.99% (loc: 100.00%, scale update: False), in 0.39sec\n",
      "iter  55: ll=59900434.232078, converged: 100.00% (loc: 100.00%, scale update: True), in 0.51sec\n"
     ]
    },
    {
     "name": "stderr",
     "output_type": "stream",
     "text": [
      "/usr/local/lib/python3.10/dist-packages/dask/array/core.py:2894: RuntimeWarning: divide by zero encountered in divide\n",
      "  size = (limit / dtype.itemsize / largest_block) ** (1 / len(autos))\n"
     ]
    },
    {
     "name": "stdout",
     "output_type": "stream",
     "text": [
      "In cluster NSC2b:\n",
      "condition\n",
      "Parkinson    1866\n",
      "Name: count, dtype: int64\n",
      "filtered out 4934 genes that are detected in less than 50 cells\n"
     ]
    },
    {
     "name": "stderr",
     "output_type": "stream",
     "text": [
      "Built constraints: donor_period[UKERi88H-R1-002_lp]+donor_period[UKERiAY6-R1-003_lp]+donor_period[UKERiC99-R1-007_lp]+donor_period[UKERiJ2C-R1-015_lp]+donor_period[UKERiM89-R1-005_lp]+donor_period[UKERiPX7-R1-001_lp]+donor_period[UKERiR66-R1-007_lp]=0, donor_period[UKERi88H-R1-002_hp]+donor_period[UKERiAY6-R1-003_hp]+donor_period[UKERiC99-R1-007_hp]+donor_period[UKERiJ2C-R1-015_hp]+donor_period[UKERiM89-R1-005_hp]+donor_period[UKERiPX7-R1-001_hp]+donor_period[UKERiR66-R1-007_hp]=0\n"
     ]
    },
    {
     "name": "stdout",
     "output_type": "stream",
     "text": [
      "Testing 12432 genes...\n",
      "\n",
      "training location model: True\n",
      "training scale model: True\n",
      "iter   0: ll=40952693.610001\n",
      "iter   1: ll=40059045.094962, converged: 0.00% (loc: 1.86%, scale update: False), in 8.94sec\n",
      "iter   2: ll=39887592.803082, converged: 0.00% (loc: 4.58%, scale update: False), in 8.84sec\n",
      "iter   3: ll=39865443.474289, converged: 0.00% (loc: 4.58%, scale update: False), in 9.39sec\n",
      "iter   4: ll=39861864.336672, converged: 0.00% (loc: 4.58%, scale update: False), in 8.77sec\n",
      "iter   5: ll=39860980.568728, converged: 0.00% (loc: 7.45%, scale update: False), in 8.69sec\n",
      "Fitting 12432 dispersion models: (progress not available with multiprocessing)"
     ]
    },
    {
     "name": "stderr",
     "output_type": "stream",
     "text": [
      "/usr/lib/python3.10/multiprocessing/popen_fork.py:66: RuntimeWarning: os.fork() was called. os.fork() is incompatible with multithreaded code, and JAX is multithreaded, so this will likely lead to a deadlock.\n",
      "  self.pid = os.fork()\n"
     ]
    },
    {
     "name": "stdout",
     "output_type": "stream",
     "text": [
      "iter   6: ll=22285834.469126, converged: 0.02% (loc: 0.02%, scale update: True), in 55.56sec\n",
      "iter   7: ll=22280275.630631, converged: 0.02% (loc: 3.42%, scale update: False), in 8.97sec\n",
      "iter   8: ll=22279383.450983, converged: 0.02% (loc: 5.26%, scale update: False), in 9.00sec\n",
      "iter   9: ll=22279092.227544, converged: 0.02% (loc: 17.19%, scale update: False), in 8.63sec\n",
      "iter  10: ll=22278966.044136, converged: 0.02% (loc: 39.35%, scale update: False), in 7.82sec\n",
      "iter  11: ll=22278889.895374, converged: 0.02% (loc: 63.31%, scale update: False), in 6.47sec\n",
      "Fitting 12430 dispersion models: (progress not available with multiprocessing)"
     ]
    },
    {
     "name": "stderr",
     "output_type": "stream",
     "text": [
      "/usr/lib/python3.10/multiprocessing/popen_fork.py:66: RuntimeWarning: os.fork() was called. os.fork() is incompatible with multithreaded code, and JAX is multithreaded, so this will likely lead to a deadlock.\n",
      "  self.pid = os.fork()\n"
     ]
    },
    {
     "name": "stdout",
     "output_type": "stream",
     "text": [
      "iter  12: ll=21922866.950393, converged: 2.81% (loc: 2.81%, scale update: True), in 54.68sec\n",
      "iter  13: ll=21922685.207650, converged: 2.81% (loc: 13.10%, scale update: False), in 8.66sec\n",
      "iter  14: ll=21922607.497029, converged: 2.81% (loc: 35.05%, scale update: False), in 8.13sec\n",
      "iter  15: ll=21922559.361601, converged: 2.81% (loc: 65.12%, scale update: False), in 6.81sec\n",
      "iter  16: ll=21922529.459488, converged: 2.81% (loc: 80.63%, scale update: False), in 4.97sec\n",
      "iter  17: ll=21922504.917051, converged: 2.81% (loc: 82.09%, scale update: False), in 3.62sec\n",
      "Fitting 12083 dispersion models: (progress not available with multiprocessing)"
     ]
    },
    {
     "name": "stderr",
     "output_type": "stream",
     "text": [
      "/usr/lib/python3.10/multiprocessing/popen_fork.py:66: RuntimeWarning: os.fork() was called. os.fork() is incompatible with multithreaded code, and JAX is multithreaded, so this will likely lead to a deadlock.\n",
      "  self.pid = os.fork()\n"
     ]
    },
    {
     "name": "stdout",
     "output_type": "stream",
     "text": [
      "iter  18: ll=21699823.124318, converged: 11.97% (loc: 11.97%, scale update: True), in 53.84sec\n",
      "iter  19: ll=21699747.776934, converged: 11.97% (loc: 57.51%, scale update: False), in 8.24sec\n",
      "iter  20: ll=21699726.601872, converged: 11.97% (loc: 79.35%, scale update: False), in 5.10sec\n",
      "iter  21: ll=21699710.582461, converged: 11.97% (loc: 88.60%, scale update: False), in 4.09sec\n",
      "iter  22: ll=21699699.113207, converged: 11.97% (loc: 95.37%, scale update: False), in 3.39sec\n",
      "iter  23: ll=21699691.652520, converged: 11.97% (loc: 98.38%, scale update: False), in 3.14sec\n",
      "Fitting 10944 dispersion models: (progress not available with multiprocessing)"
     ]
    },
    {
     "name": "stderr",
     "output_type": "stream",
     "text": [
      "/usr/lib/python3.10/multiprocessing/popen_fork.py:66: RuntimeWarning: os.fork() was called. os.fork() is incompatible with multithreaded code, and JAX is multithreaded, so this will likely lead to a deadlock.\n",
      "  self.pid = os.fork()\n"
     ]
    },
    {
     "name": "stdout",
     "output_type": "stream",
     "text": [
      "iter  24: ll=21623972.703731, converged: 56.69% (loc: 56.69%, scale update: True), in 49.10sec\n",
      "iter  25: ll=21623950.535825, converged: 56.69% (loc: 97.14%, scale update: False), in 5.15sec\n",
      "iter  26: ll=21623946.757531, converged: 56.69% (loc: 99.49%, scale update: False), in 2.85sec\n",
      "iter  27: ll=21623944.742247, converged: 56.69% (loc: 99.75%, scale update: False), in 1.45sec\n",
      "iter  28: ll=21623943.966778, converged: 56.69% (loc: 99.81%, scale update: False), in 1.08sec\n",
      "iter  29: ll=21623943.836244, converged: 56.69% (loc: 99.89%, scale update: False), in 0.90sec\n",
      "Fitting 5384 dispersion models: (progress not available with multiprocessing)"
     ]
    },
    {
     "name": "stderr",
     "output_type": "stream",
     "text": [
      "/usr/lib/python3.10/multiprocessing/popen_fork.py:66: RuntimeWarning: os.fork() was called. os.fork() is incompatible with multithreaded code, and JAX is multithreaded, so this will likely lead to a deadlock.\n",
      "  self.pid = os.fork()\n"
     ]
    },
    {
     "name": "stdout",
     "output_type": "stream",
     "text": [
      "iter  30: ll=21596040.696227, converged: 96.64% (loc: 96.64%, scale update: True), in 27.14sec\n",
      "iter  31: ll=21596032.534899, converged: 96.64% (loc: 99.61%, scale update: False), in 2.87sec\n",
      "iter  32: ll=21596032.530345, converged: 96.64% (loc: 99.88%, scale update: False), in 1.52sec\n",
      "iter  33: ll=21596032.530266, converged: 96.64% (loc: 99.92%, scale update: False), in 0.68sec\n",
      "iter  34: ll=21596032.530257, converged: 96.64% (loc: 99.94%, scale update: False), in 0.59sec\n",
      "iter  35: ll=21596032.530256, converged: 96.64% (loc: 99.97%, scale update: False), in 0.50sec\n",
      "Fitting 418 dispersion models: (progress not available with multiprocessing)"
     ]
    },
    {
     "name": "stderr",
     "output_type": "stream",
     "text": [
      "/usr/lib/python3.10/multiprocessing/popen_fork.py:66: RuntimeWarning: os.fork() was called. os.fork() is incompatible with multithreaded code, and JAX is multithreaded, so this will likely lead to a deadlock.\n",
      "  self.pid = os.fork()\n"
     ]
    },
    {
     "name": "stdout",
     "output_type": "stream",
     "text": [
      "iter  36: ll=21589759.169882, converged: 99.46% (loc: 99.46%, scale update: True), in 10.21sec\n",
      "iter  37: ll=21589747.813790, converged: 99.46% (loc: 99.92%, scale update: False), in 1.57sec\n",
      "iter  38: ll=21589747.813789, converged: 99.46% (loc: 99.98%, scale update: False), in 0.58sec\n",
      "caught 1 linalg singular matrix errors\n",
      "iter  39: ll=21589747.813789, converged: 99.46% (loc: 99.99%, scale update: False), in 0.45sec\n",
      "caught 1 linalg singular matrix errors\n",
      "iter  40: ll=21589747.813789, converged: 99.46% (loc: 100.00%, scale update: False), in 0.29sec\n",
      "Fitting 67 dispersion models: (progress not available with multiprocessing)"
     ]
    },
    {
     "name": "stderr",
     "output_type": "stream",
     "text": [
      "/usr/lib/python3.10/multiprocessing/popen_fork.py:66: RuntimeWarning: os.fork() was called. os.fork() is incompatible with multithreaded code, and JAX is multithreaded, so this will likely lead to a deadlock.\n",
      "  self.pid = os.fork()\n"
     ]
    },
    {
     "name": "stdout",
     "output_type": "stream",
     "text": [
      "iter  41: ll=21589207.073258, converged: 99.90% (loc: 99.90%, scale update: True), in 8.87sec\n",
      "caught 3 linalg singular matrix errors\n",
      "iter  42: ll=21589206.544281, converged: 99.90% (loc: 99.98%, scale update: False), in 0.63sec\n",
      "iter  43: ll=21589206.544281, converged: 99.90% (loc: 100.00%, scale update: False), in 0.41sec\n",
      "Fitting 13 dispersion models: (progress not available with multiprocessing)"
     ]
    },
    {
     "name": "stderr",
     "output_type": "stream",
     "text": [
      "/usr/lib/python3.10/multiprocessing/popen_fork.py:66: RuntimeWarning: os.fork() was called. os.fork() is incompatible with multithreaded code, and JAX is multithreaded, so this will likely lead to a deadlock.\n",
      "  self.pid = os.fork()\n"
     ]
    },
    {
     "name": "stdout",
     "output_type": "stream",
     "text": [
      "iter  44: ll=21589027.892233, converged: 99.98% (loc: 99.98%, scale update: True), in 6.34sec\n",
      "iter  45: ll=21589027.892233, converged: 99.98% (loc: 100.00%, scale update: False), in 0.38sec\n",
      "iter  46: ll=21589027.892233, converged: 100.00% (loc: 100.00%, scale update: True), in 0.49sec\n"
     ]
    },
    {
     "name": "stderr",
     "output_type": "stream",
     "text": [
      "/usr/local/lib/python3.10/dist-packages/dask/array/core.py:2894: RuntimeWarning: divide by zero encountered in divide\n",
      "  size = (limit / dtype.itemsize / largest_block) ** (1 / len(autos))\n"
     ]
    }
   ],
   "source": [
    "for clust in adata_pd.obs['cell_types_used'].cat.categories:\n",
    "    adata_tmp = adata_pd[adata_pd.obs['cell_types_used'] == clust,:].copy()\n",
    "\n",
    "    print(f'In cluster {clust}:')\n",
    "    print(adata_tmp.obs.condition.value_counts())\n",
    "\n",
    "    # Filter out genes to reduce multiple testing burden\n",
    "    sc.pp.filter_genes(adata_tmp, min_cells=50)\n",
    "    print(f'Testing {adata_tmp.n_vars} genes...')\n",
    "    print(\"\")\n",
    "    \n",
    "    test_tmp = de.test.wald(\n",
    "    data=adata_tmp.layers['soupX_counts'],\n",
    "    formula_loc=\"~ 1 + cultivation_period + donor_period + size_factors\",\n",
    "    as_numeric=['size_factors'],\n",
    "    coef_to_test=['cultivation_period[T.hp]'],\n",
    "    sample_description=adata_tmp.obs,\n",
    "    gene_names=adata_tmp.var['gene_ids'].astype(str),\n",
    "    constraints_loc={'donor_period':'cultivation_period'},\n",
    "    noise_model='nb',\n",
    "    dtype=\"float64\"\n",
    "    )\n",
    "    \n",
    "    #Store the results\n",
    "    de_results_pd[clust] = test_tmp\n",
    "    "
   ]
  },
  {
   "cell_type": "markdown",
   "metadata": {
    "jp-MarkdownHeadingCollapsed": true
   },
   "source": [
    "### Bulk-like DE testing across all clusters"
   ]
  },
  {
   "cell_type": "code",
   "execution_count": 23,
   "metadata": {
    "scrolled": true
   },
   "outputs": [
    {
     "name": "stdout",
     "output_type": "stream",
     "text": [
      "condition\n",
      "Parkinson    38032\n",
      "Name: count, dtype: int64\n",
      "filtered out 1083 genes that are detected in less than 50 cells\n"
     ]
    },
    {
     "name": "stderr",
     "output_type": "stream",
     "text": [
      "Built constraints: donor_period[UKERi88H-R1-002_lp]+donor_period[UKERiAY6-R1-003_lp]+donor_period[UKERiC99-R1-007_lp]+donor_period[UKERiJ2C-R1-015_lp]+donor_period[UKERiM89-R1-005_lp]+donor_period[UKERiPX7-R1-001_lp]+donor_period[UKERiR66-R1-007_lp]=0, donor_period[UKERi88H-R1-002_hp]+donor_period[UKERiAY6-R1-003_hp]+donor_period[UKERiC99-R1-007_hp]+donor_period[UKERiJ2C-R1-015_hp]+donor_period[UKERiM89-R1-005_hp]+donor_period[UKERiPX7-R1-001_hp]+donor_period[UKERiR66-R1-007_hp]=0\n"
     ]
    },
    {
     "name": "stdout",
     "output_type": "stream",
     "text": [
      "Testing 16283 genes...\n",
      "\n"
     ]
    },
    {
     "name": "stderr",
     "output_type": "stream",
     "text": [
      "/usr/local/lib/python3.10/dist-packages/batchglm/models/base_glm/utils.py:158: PerformanceWarning: Slicing is producing a large chunk. To accept the large\n",
      "chunk and silence this warning, set the option\n",
      "    >>> with dask.config.set(**{'array.slicing.split_large_chunks': False}):\n",
      "    ...     array[indexer]\n",
      "\n",
      "To avoid creating the large chunks, set the option\n",
      "    >>> with dask.config.set(**{'array.slicing.split_large_chunks': True}):\n",
      "    ...     array[indexer]\n",
      "  np.mean(x[np.where(grouping == g)[0], :], axis=0)\n",
      "/usr/local/lib/python3.10/dist-packages/batchglm/models/base_glm/utils.py:171: PerformanceWarning: Slicing is producing a large chunk. To accept the large\n",
      "chunk and silence this warning, set the option\n",
      "    >>> with dask.config.set(**{'array.slicing.split_large_chunks': False}):\n",
      "    ...     array[indexer]\n",
      "\n",
      "To avoid creating the large chunks, set the option\n",
      "    >>> with dask.config.set(**{'array.slicing.split_large_chunks': True}):\n",
      "    ...     array[indexer]\n",
      "  expect_xsq = np.vstack([np.mean(np.square(x[np.where(grouping == g)[0], :]), axis=0)\n"
     ]
    },
    {
     "name": "stdout",
     "output_type": "stream",
     "text": [
      "training location model: True\n",
      "training scale model: True\n",
      "iter   0: ll=485520116.223383\n",
      "iter   1: ll=465617480.641590, converged: 0.00% (loc: 2.73%, scale update: False), in 270.75sec\n",
      "iter   2: ll=461746466.899396, converged: 0.00% (loc: 4.00%, scale update: False), in 226.73sec\n",
      "iter   3: ll=461212873.705327, converged: 0.00% (loc: 4.00%, scale update: False), in 236.13sec\n",
      "iter   4: ll=461134087.392649, converged: 0.00% (loc: 4.02%, scale update: False), in 225.91sec\n",
      "iter   5: ll=461123032.191936, converged: 0.00% (loc: 5.59%, scale update: False), in 227.86sec\n",
      "Fitting 16283 dispersion models: (progress not available with multiprocessing)"
     ]
    },
    {
     "name": "stderr",
     "output_type": "stream",
     "text": [
      "/usr/lib/python3.10/multiprocessing/popen_fork.py:66: RuntimeWarning: os.fork() was called. os.fork() is incompatible with multithreaded code, and JAX is multithreaded, so this will likely lead to a deadlock.\n",
      "  self.pid = os.fork()\n"
     ]
    },
    {
     "name": "stdout",
     "output_type": "stream",
     "text": [
      "iter   6: ll=449162694.343629, converged: 0.01% (loc: 0.01%, scale update: True), in 1355.65sec\n",
      "iter   7: ll=449042361.246338, converged: 0.01% (loc: 2.98%, scale update: False), in 241.03sec\n",
      "iter   8: ll=449029777.822769, converged: 0.01% (loc: 4.66%, scale update: False), in 223.19sec\n",
      "iter   9: ll=449027883.372527, converged: 0.01% (loc: 12.82%, scale update: False), in 222.56sec\n",
      "iter  10: ll=449027437.639523, converged: 0.01% (loc: 27.37%, scale update: False), in 207.60sec\n",
      "iter  11: ll=449027255.695754, converged: 0.01% (loc: 46.54%, scale update: False), in 175.30sec\n",
      "Fitting 16282 dispersion models: (progress not available with multiprocessing)"
     ]
    },
    {
     "name": "stderr",
     "output_type": "stream",
     "text": [
      "/usr/lib/python3.10/multiprocessing/popen_fork.py:66: RuntimeWarning: os.fork() was called. os.fork() is incompatible with multithreaded code, and JAX is multithreaded, so this will likely lead to a deadlock.\n",
      "  self.pid = os.fork()\n"
     ]
    },
    {
     "name": "stdout",
     "output_type": "stream",
     "text": [
      "iter  12: ll=448888976.902247, converged: 2.83% (loc: 2.83%, scale update: True), in 1362.35sec\n",
      "iter  13: ll=448888045.354656, converged: 2.83% (loc: 13.65%, scale update: False), in 229.87sec\n",
      "iter  14: ll=448887827.453758, converged: 2.83% (loc: 29.45%, scale update: False), in 199.64sec\n",
      "iter  15: ll=448887696.290100, converged: 2.83% (loc: 50.76%, scale update: False), in 168.23sec\n",
      "iter  16: ll=448887593.747986, converged: 2.83% (loc: 72.03%, scale update: False), in 124.85sec\n",
      "iter  17: ll=448887507.800894, converged: 2.83% (loc: 88.84%, scale update: False), in 84.38sec\n",
      "Fitting 15823 dispersion models: (progress not available with multiprocessing)"
     ]
    },
    {
     "name": "stderr",
     "output_type": "stream",
     "text": [
      "/usr/lib/python3.10/multiprocessing/popen_fork.py:66: RuntimeWarning: os.fork() was called. os.fork() is incompatible with multithreaded code, and JAX is multithreaded, so this will likely lead to a deadlock.\n",
      "  self.pid = os.fork()\n"
     ]
    },
    {
     "name": "stdout",
     "output_type": "stream",
     "text": [
      "iter  18: ll=448758566.263340, converged: 13.43% (loc: 13.43%, scale update: True), in 1320.15sec\n",
      "iter  19: ll=448758398.344810, converged: 13.43% (loc: 52.72%, scale update: False), in 203.33sec\n",
      "iter  20: ll=448758301.026034, converged: 13.43% (loc: 73.70%, scale update: False), in 120.31sec\n",
      "iter  21: ll=448758254.110592, converged: 13.43% (loc: 90.59%, scale update: False), in 81.82sec\n",
      "iter  22: ll=448758244.031284, converged: 13.43% (loc: 97.04%, scale update: False), in 49.30sec\n",
      "iter  23: ll=448758243.488964, converged: 13.43% (loc: 98.75%, scale update: False), in 34.72sec\n",
      "Fitting 14097 dispersion models: (progress not available with multiprocessing)"
     ]
    },
    {
     "name": "stderr",
     "output_type": "stream",
     "text": [
      "/usr/lib/python3.10/multiprocessing/popen_fork.py:66: RuntimeWarning: os.fork() was called. os.fork() is incompatible with multithreaded code, and JAX is multithreaded, so this will likely lead to a deadlock.\n",
      "  self.pid = os.fork()\n"
     ]
    },
    {
     "name": "stdout",
     "output_type": "stream",
     "text": [
      "iter  24: ll=448710662.232139, converged: 52.39% (loc: 52.39%, scale update: True), in 1182.65sec\n",
      "iter  25: ll=448710659.147872, converged: 52.39% (loc: 90.69%, scale update: False), in 123.40sec\n",
      "iter  26: ll=448710659.088481, converged: 52.39% (loc: 98.93%, scale update: False), in 49.52sec\n",
      "iter  27: ll=448710659.085098, converged: 52.39% (loc: 99.64%, scale update: False), in 23.83sec\n",
      "iter  28: ll=448710659.084867, converged: 52.39% (loc: 99.84%, scale update: False), in 11.55sec\n",
      "iter  29: ll=448710659.084849, converged: 52.39% (loc: 99.95%, scale update: False), in 7.44sec\n",
      "Fitting 7753 dispersion models: (progress not available with multiprocessing)"
     ]
    },
    {
     "name": "stderr",
     "output_type": "stream",
     "text": [
      "/usr/lib/python3.10/multiprocessing/popen_fork.py:66: RuntimeWarning: os.fork() was called. os.fork() is incompatible with multithreaded code, and JAX is multithreaded, so this will likely lead to a deadlock.\n",
      "  self.pid = os.fork()\n"
     ]
    },
    {
     "name": "stdout",
     "output_type": "stream",
     "text": [
      "iter  30: ll=448707555.330157, converged: 90.39% (loc: 90.39%, scale update: True), in 708.61sec\n",
      "iter  31: ll=448707555.224571, converged: 90.39% (loc: 99.65%, scale update: False), in 50.13sec\n",
      "iter  32: ll=448707555.223184, converged: 90.39% (loc: 99.90%, scale update: False), in 11.19sec\n",
      "iter  33: ll=448707555.223142, converged: 90.39% (loc: 99.96%, scale update: False), in 4.63sec\n",
      "iter  34: ll=448707555.223140, converged: 90.39% (loc: 99.99%, scale update: False), in 3.42sec\n",
      "iter  35: ll=448707555.223140, converged: 90.39% (loc: 100.00%, scale update: False), in 2.72sec\n",
      "Fitting 1565 dispersion models: (progress not available with multiprocessing)"
     ]
    },
    {
     "name": "stderr",
     "output_type": "stream",
     "text": [
      "/usr/lib/python3.10/multiprocessing/popen_fork.py:66: RuntimeWarning: os.fork() was called. os.fork() is incompatible with multithreaded code, and JAX is multithreaded, so this will likely lead to a deadlock.\n",
      "  self.pid = os.fork()\n"
     ]
    },
    {
     "name": "stdout",
     "output_type": "stream",
     "text": [
      "iter  36: ll=448706228.247618, converged: 99.61% (loc: 99.61%, scale update: True), in 248.05sec\n",
      "iter  37: ll=448706228.221295, converged: 99.61% (loc: 99.95%, scale update: False), in 12.98sec\n",
      "iter  38: ll=448706228.221099, converged: 99.61% (loc: 99.96%, scale update: False), in 3.39sec\n",
      "iter  39: ll=448706228.221092, converged: 99.61% (loc: 99.98%, scale update: False), in 3.36sec\n",
      "iter  40: ll=448706228.221092, converged: 99.61% (loc: 99.99%, scale update: False), in 2.81sec\n",
      "iter  41: ll=448706228.221092, converged: 99.61% (loc: 100.00%, scale update: False), in 2.69sec\n",
      "Fitting 64 dispersion models: (progress not available with multiprocessing)"
     ]
    },
    {
     "name": "stderr",
     "output_type": "stream",
     "text": [
      "/usr/lib/python3.10/multiprocessing/popen_fork.py:66: RuntimeWarning: os.fork() was called. os.fork() is incompatible with multithreaded code, and JAX is multithreaded, so this will likely lead to a deadlock.\n",
      "  self.pid = os.fork()\n"
     ]
    },
    {
     "name": "stdout",
     "output_type": "stream",
     "text": [
      "iter  42: ll=448704729.408697, converged: 99.93% (loc: 99.93%, scale update: True), in 132.39sec\n",
      "caught 1 linalg singular matrix errors\n",
      "iter  43: ll=448704729.406325, converged: 99.93% (loc: 99.98%, scale update: False), in 4.23sec\n",
      "iter  44: ll=448704729.406290, converged: 99.93% (loc: 99.98%, scale update: False), in 3.59sec\n",
      "caught 1 linalg singular matrix errors\n",
      "iter  45: ll=448704729.406290, converged: 99.93% (loc: 100.00%, scale update: False), in 3.20sec\n",
      "Fitting 11 dispersion models: (progress not available with multiprocessing)"
     ]
    },
    {
     "name": "stderr",
     "output_type": "stream",
     "text": [
      "/usr/lib/python3.10/multiprocessing/popen_fork.py:66: RuntimeWarning: os.fork() was called. os.fork() is incompatible with multithreaded code, and JAX is multithreaded, so this will likely lead to a deadlock.\n",
      "  self.pid = os.fork()\n"
     ]
    },
    {
     "name": "stdout",
     "output_type": "stream",
     "text": [
      "iter  46: ll=448704198.269964, converged: 99.98% (loc: 99.98%, scale update: True), in 124.97sec\n",
      "caught 1 linalg singular matrix errors\n",
      "iter  47: ll=448704198.269787, converged: 99.98% (loc: 99.99%, scale update: False), in 3.17sec\n",
      "iter  48: ll=448704198.269786, converged: 99.98% (loc: 99.99%, scale update: False), in 2.78sec\n",
      "iter  49: ll=448704198.269786, converged: 99.98% (loc: 100.00%, scale update: False), in 3.15sec\n",
      "Fitting 4 dispersion models: (progress not available with multiprocessing)"
     ]
    },
    {
     "name": "stderr",
     "output_type": "stream",
     "text": [
      "/usr/lib/python3.10/multiprocessing/popen_fork.py:66: RuntimeWarning: os.fork() was called. os.fork() is incompatible with multithreaded code, and JAX is multithreaded, so this will likely lead to a deadlock.\n",
      "  self.pid = os.fork()\n"
     ]
    },
    {
     "name": "stdout",
     "output_type": "stream",
     "text": [
      "iter  50: ll=448704198.269689, converged: 99.99% (loc: 99.99%, scale update: True), in 70.54sec\n",
      "iter  51: ll=448704198.269636, converged: 99.99% (loc: 99.99%, scale update: False), in 2.80sec\n",
      "iter  52: ll=448704198.269636, converged: 99.99% (loc: 99.99%, scale update: False), in 2.77sec\n",
      "iter  53: ll=448704198.269636, converged: 99.99% (loc: 100.00%, scale update: False), in 2.80sec\n",
      "iter  54: ll=448704025.654632, converged: 99.99% (loc: 99.99%, scale update: True), in 2.73sec\n",
      "iter  55: ll=448704025.654632, converged: 99.99% (loc: 100.00%, scale update: False), in 2.77sec\n",
      "iter  56: ll=448703420.330359, converged: 99.99% (loc: 99.99%, scale update: True), in 2.82sec\n",
      "iter  57: ll=448703420.330359, converged: 99.99% (loc: 100.00%, scale update: False), in 2.80sec\n",
      "iter  58: ll=448703420.330359, converged: 100.00% (loc: 100.00%, scale update: True), in 2.72sec\n"
     ]
    },
    {
     "name": "stderr",
     "output_type": "stream",
     "text": [
      "/usr/local/lib/python3.10/dist-packages/dask/array/core.py:2894: RuntimeWarning: divide by zero encountered in divide\n",
      "  size = (limit / dtype.itemsize / largest_block) ** (1 / len(autos))\n"
     ]
    }
   ],
   "source": [
    "# Make a copy for the testing\n",
    "adata_test = adata_pd.copy()\n",
    "\n",
    "print(adata_test.obs.condition.value_counts())\n",
    "\n",
    "# Filter out genes to reduce multiple testing burden\n",
    "sc.pp.filter_genes(adata_test, min_cells=50)\n",
    "print(f'Testing {adata_test.n_vars} genes...')\n",
    "print(\"\")\n",
    "    \n",
    "test_bulk_pd = de.test.wald(\n",
    "    data=adata_test.layers['soupX_counts'],\n",
    "    formula_loc=\"~ 1 + cultivation_period + donor_period + size_factors\",\n",
    "    as_numeric=['size_factors'],\n",
    "    coef_to_test=['cultivation_period[T.hp]'],\n",
    "    sample_description=adata_test.obs,\n",
    "    gene_names=adata_test.var['gene_ids'].astype(str),\n",
    "    constraints_loc={'donor_period':'cultivation_period'},\n",
    "    noise_model='nb',\n",
    "    dtype=\"float64\"\n",
    ")\n"
   ]
  },
  {
   "cell_type": "markdown",
   "metadata": {
    "jp-MarkdownHeadingCollapsed": true
   },
   "source": [
    "### Post-process data"
   ]
  },
  {
   "cell_type": "code",
   "execution_count": 24,
   "metadata": {},
   "outputs": [],
   "source": [
    "# extract gene symbol - gene_ids informations for later conversion\n",
    "df_var = pd.DataFrame(adata.var)\n",
    "df_var = df_var[['gene_symbols', 'gene_ids']]\n",
    "df_var.reset_index(inplace=True) \n",
    "df_var = df_var.drop(columns='index')"
   ]
  },
  {
   "cell_type": "code",
   "execution_count": 27,
   "metadata": {},
   "outputs": [
    {
     "name": "stdout",
     "output_type": "stream",
     "text": [
      "There are 0 -inf log likelihood values. Filtering these out now...\n",
      "There are 1 logFC std. dev.s < 10E-100. Filtering these out now...\n",
      "There are 0 -inf log likelihood values. Filtering these out now...\n",
      "There are 2 logFC std. dev.s < 10E-100. Filtering these out now...\n",
      "There are 0 -inf log likelihood values. Filtering these out now...\n",
      "There are 5 logFC std. dev.s < 10E-100. Filtering these out now...\n",
      "There are 0 -inf log likelihood values. Filtering these out now...\n",
      "There are 28 logFC std. dev.s < 10E-100. Filtering these out now...\n",
      "There are 0 -inf log likelihood values. Filtering these out now...\n",
      "There are 9 logFC std. dev.s < 10E-100. Filtering these out now...\n",
      "There are 0 -inf log likelihood values. Filtering these out now...\n",
      "There are 8 logFC std. dev.s < 10E-100. Filtering these out now...\n",
      "There are 0 -inf log likelihood values. Filtering these out now...\n",
      "There are 4 logFC std. dev.s < 10E-100. Filtering these out now...\n",
      "There are 0 -inf log likelihood values. Filtering these out now...\n",
      "There are 14 logFC std. dev.s < 10E-100. Filtering these out now...\n",
      "There are 0 -inf log likelihood values. Filtering these out now...\n",
      "There are 5 logFC std. dev.s < 10E-100. Filtering these out now...\n"
     ]
    }
   ],
   "source": [
    "de_signif_pd = dict()\n",
    "de_full_res_pd = dict()\n",
    "\n",
    "for clust in de_results_pd:\n",
    "    tmp = de_results_pd[clust].summary()\n",
    "    \n",
    "    # add gene symbols\n",
    "    tmp = tmp.rename(columns = {\"gene\" : \"gene_ids\"})\n",
    "    tmp = tmp.merge(df_var, how = 'inner', on='gene_ids')\n",
    "\n",
    "    n_infll = np.sum(tmp['ll'] == np.float64('-inf'))\n",
    "    print(f'There are {n_infll} -inf log likelihood values. Filtering these out now...')\n",
    "    tmp = tmp.loc[tmp['ll'] != np.float64('-inf')]\n",
    "\n",
    "    n_unconverged = np.sum(tmp['coef_sd'] < 10E-100)\n",
    "    print(f'There are {n_unconverged} logFC std. dev.s < 10E-100. Filtering these out now...')    \n",
    "    tmp = tmp.loc[tmp['coef_sd'] > 10E-100]\n",
    "    \n",
    "    #Sort values by q-value\n",
    "    tmp.sort_values(by='qval', ascending=True, inplace=True)\n",
    "    \n",
    "    de_full_res_pd[clust] = tmp.copy()\n",
    "    \n",
    "    #Filter by q-value to get significant DE genes\n",
    "    tmp_filt = tmp.loc[tmp['qval'] < 0.05]\n",
    "    de_signif_pd[clust] = tmp_filt.copy()"
   ]
  },
  {
   "cell_type": "code",
   "execution_count": 25,
   "metadata": {},
   "outputs": [
    {
     "name": "stdout",
     "output_type": "stream",
     "text": [
      "There are 0 -inf log likelihood values. Filtering these out now...\n",
      "There are 3 logFC std. dev.s < 10E-100. Filtering these out now...\n"
     ]
    }
   ],
   "source": [
    "# bulk-like data\n",
    "bulk_res_pd = test_bulk_pd.summary()\n",
    "\n",
    "bulk_res_pd = bulk_res_pd.rename(columns = {\"gene\" : \"gene_ids\"})\n",
    "bulk_res_pd = bulk_res_pd.merge(df_var, how = 'inner', on='gene_ids')\n",
    "\n",
    "n_infll = np.sum(bulk_res_pd['ll'] == np.float64('-inf'))\n",
    "print(f'There are {n_infll} -inf log likelihood values. Filtering these out now...')\n",
    "bulk_res_pd = bulk_res_pd.loc[bulk_res_pd['ll'] != np.float64('-inf')]\n",
    "\n",
    "n_unconverged = np.sum(bulk_res_pd['coef_sd'] < 10E-100)\n",
    "print(f'There are {n_unconverged} logFC std. dev.s < 10E-100. Filtering these out now...')    \n",
    "bulk_res_pd = bulk_res_pd.loc[bulk_res_pd['coef_sd'] > 10E-100]\n",
    "\n",
    "#Sort values by q-value\n",
    "bulk_res_pd.sort_values(by='qval', ascending=True, inplace=True)\n",
    "        \n",
    "#Filter by q-value to get significant DE genes\n",
    "bulk_res_filt_pd = bulk_res_pd.loc[bulk_res_pd['qval'] < 0.05]\n"
   ]
  },
  {
   "cell_type": "markdown",
   "metadata": {},
   "source": [
    "### Show DEGs"
   ]
  },
  {
   "cell_type": "code",
   "execution_count": 29,
   "metadata": {},
   "outputs": [
    {
     "name": "stdout",
     "output_type": "stream",
     "text": [
      "DEGs at FDR < 0.05:\n"
     ]
    },
    {
     "data": {
      "text/plain": [
       "{'Apop.-NCSC': 286,\n",
       " 'Apop.-NSC': 2541,\n",
       " 'Glial-precursors': 2275,\n",
       " 'Immature-neurons': 1318,\n",
       " 'NCSC': 6442,\n",
       " 'NSC1a': 10005,\n",
       " 'NSC1b': 9711,\n",
       " 'NSC2a': 7169,\n",
       " 'NSC2b': 4118}"
      ]
     },
     "execution_count": 29,
     "metadata": {},
     "output_type": "execute_result"
    },
    {
     "name": "stdout",
     "output_type": "stream",
     "text": [
      "DEGs at FDR < 0.01:\n"
     ]
    },
    {
     "data": {
      "text/plain": [
       "{'Apop.-NCSC': 189,\n",
       " 'Apop.-NSC': 2030,\n",
       " 'Glial-precursors': 1669,\n",
       " 'Immature-neurons': 1003,\n",
       " 'NCSC': 5352,\n",
       " 'NSC1a': 9072,\n",
       " 'NSC1b': 8767,\n",
       " 'NSC2a': 6101,\n",
       " 'NSC2b': 3138}"
      ]
     },
     "execution_count": 29,
     "metadata": {},
     "output_type": "execute_result"
    }
   ],
   "source": [
    "# Number of differentially expressed genes (DEGs)\n",
    "print('DEGs at FDR < 0.05:')\n",
    "{clust:de_signif_pd[clust].shape[0] for clust in de_signif_pd}\n",
    "\n",
    "print('DEGs at FDR < 0.01:')\n",
    "{clust:de_signif_pd[clust].loc[(de_signif_pd[clust]['qval']<0.01)].shape[0] for clust in de_signif_pd}"
   ]
  },
  {
   "cell_type": "code",
   "execution_count": 30,
   "metadata": {},
   "outputs": [
    {
     "name": "stdout",
     "output_type": "stream",
     "text": [
      "DEGs at FDR < 0.05:\n",
      "Bulk: 12562\n",
      "DEGs at FDR < 0.01:\n",
      "Bulk: 11881\n"
     ]
    }
   ],
   "source": [
    "#DEGs in bulk-like data\n",
    "print('DEGs at FDR < 0.05:')\n",
    "print(f'Bulk: {bulk_res_filt_pd.shape[0]}')\n",
    "\n",
    "print('DEGs at FDR < 0.01:')\n",
    "degnum001 = bulk_res_filt_pd.loc[(bulk_res_filt_pd['qval']<0.01)].shape[0]\n",
    "print(f'Bulk: {degnum001}')"
   ]
  },
  {
   "cell_type": "markdown",
   "metadata": {},
   "source": [
    "Notes:\n",
    "- there are quite a lot of DEGs at FDR < 0.05 and at FDR < 0.01\n",
    "- Could use either threshold, FDR < 0.01 would be okay for higher confidence"
   ]
  },
  {
   "cell_type": "markdown",
   "metadata": {},
   "source": [
    "### Save data"
   ]
  },
  {
   "cell_type": "code",
   "execution_count": 31,
   "metadata": {},
   "outputs": [],
   "source": [
    "import pickle"
   ]
  },
  {
   "cell_type": "code",
   "execution_count": 32,
   "metadata": {},
   "outputs": [],
   "source": [
    "#Pickle the de output\n",
    "filename_pickle = save_dir+'diffxpy/'+resolution+'_diffxpy_cell_types_sf_pd.pkl'\n",
    "pickle.dump(de_results_pd, open(filename_pickle, \"wb\"))"
   ]
  },
  {
   "cell_type": "code",
   "execution_count": 33,
   "metadata": {},
   "outputs": [],
   "source": [
    "#Output individual results\n",
    "for clust in de_signif_pd:\n",
    "    \n",
    "    filename_signif = save_dir+'diffxpy/'+resolution+'_diffxpy_'+clust.replace(' ', '_').replace(\n",
    "        '/','_').replace('(','').replace(')','')+'_diff_res_pd.csv'\n",
    "    filename_full = save_dir+'diffxpy/'+resolution+'_diffxpy_'+clust.replace(' ', '_').replace(\n",
    "        '/','_').replace('(','').replace(')','')+'_res-table_pd.csv'\n",
    "    \n",
    "    de_signif_pd[clust].to_csv(filename_signif)\n",
    "    de_full_res_pd[clust].to_csv(filename_full)"
   ]
  },
  {
   "cell_type": "code",
   "execution_count": 34,
   "metadata": {},
   "outputs": [],
   "source": [
    "#Pick the DE output - Bulk-like\n",
    "de_output_pickle_bulk = save_dir+'diffxpy/'+resolution+'_diffxpy_bulk_sf_pd.pkl'\n",
    "pickle.dump(test_bulk_pd, open(de_output_pickle_bulk, \"wb\"))"
   ]
  },
  {
   "cell_type": "code",
   "execution_count": 26,
   "metadata": {},
   "outputs": [
    {
     "name": "stderr",
     "output_type": "stream",
     "text": [
      "R[write to console]: Warning message:\n",
      "\n",
      "R[write to console]: In (function (package, help, pos = 2, lib.loc = NULL, character.only = FALSE,  :\n",
      "R[write to console]: \n",
      " \n",
      "R[write to console]:  library ‘/usr/lib/R/site-library’ contains no packages\n",
      "\n"
     ]
    }
   ],
   "source": [
    "#Output individual results - Bulk-like\n",
    "\n",
    "filename_signif = save_dir+'diffxpy/'+resolution+'_diffxpy_bulk_like_diff_res_pd.csv'\n",
    "filename_full = save_dir+'diffxpy/'+resolution+'_diffxpy_bulk_like_res-table_pd.csv'\n",
    "    \n",
    "bulk_res_filt_pd.to_csv(filename_signif)\n",
    "bulk_res_pd.to_csv(filename_full)"
   ]
  },
  {
   "cell_type": "code",
   "execution_count": 41,
   "metadata": {},
   "outputs": [
    {
     "name": "stdout",
     "output_type": "stream",
     "text": [
      "Looking in indexes: https://pypi.org/simple, https://pypi.ngc.nvidia.com\n",
      "Collecting dask==2023.11.0\n",
      "  Downloading dask-2023.11.0-py3-none-any.whl.metadata (3.7 kB)\n",
      "Collecting sparse==0.15.1\n",
      "  Downloading sparse-0.15.1-py2.py3-none-any.whl.metadata (4.5 kB)\n",
      "Requirement already satisfied: click>=8.1 in /usr/local/lib/python3.10/dist-packages (from dask==2023.11.0) (8.1.7)\n",
      "Requirement already satisfied: cloudpickle>=1.5.0 in /usr/local/lib/python3.10/dist-packages (from dask==2023.11.0) (3.0.0)\n",
      "Requirement already satisfied: fsspec>=2021.09.0 in /usr/local/lib/python3.10/dist-packages (from dask==2023.11.0) (2023.12.2)\n",
      "Requirement already satisfied: packaging>=20.0 in /usr/local/lib/python3.10/dist-packages (from dask==2023.11.0) (23.2)\n",
      "Requirement already satisfied: partd>=1.2.0 in /usr/local/lib/python3.10/dist-packages (from dask==2023.11.0) (1.4.1)\n",
      "Requirement already satisfied: pyyaml>=5.3.1 in /usr/local/lib/python3.10/dist-packages (from dask==2023.11.0) (6.0.1)\n",
      "Requirement already satisfied: toolz>=0.10.0 in /usr/local/lib/python3.10/dist-packages (from dask==2023.11.0) (0.12.1)\n",
      "Requirement already satisfied: importlib-metadata>=4.13.0 in /usr/local/lib/python3.10/dist-packages (from dask==2023.11.0) (7.0.1)\n",
      "Requirement already satisfied: numpy>=1.17 in /usr/local/lib/python3.10/dist-packages (from sparse==0.15.1) (1.24.4)\n",
      "Requirement already satisfied: scipy>=0.19 in /usr/local/lib/python3.10/dist-packages (from sparse==0.15.1) (1.12.0)\n",
      "Requirement already satisfied: numba>=0.49 in /usr/local/lib/python3.10/dist-packages (from sparse==0.15.1) (0.57.1+1.g1ff679645)\n",
      "Requirement already satisfied: zipp>=0.5 in /usr/local/lib/python3.10/dist-packages (from importlib-metadata>=4.13.0->dask==2023.11.0) (3.17.0)\n",
      "Requirement already satisfied: llvmlite<0.41,>=0.40.0dev0 in /usr/local/lib/python3.10/dist-packages (from numba>=0.49->sparse==0.15.1) (0.40.1)\n",
      "Requirement already satisfied: locket in /usr/local/lib/python3.10/dist-packages (from partd>=1.2.0->dask==2023.11.0) (1.0.0)\n",
      "Downloading dask-2023.11.0-py3-none-any.whl (1.2 MB)\n",
      "\u001b[2K   \u001b[90m━━━━━━━━━━━━━━━━━━━━━━━━━━━━━━━━━━━━━━━━\u001b[0m \u001b[32m1.2/1.2 MB\u001b[0m \u001b[31m6.1 MB/s\u001b[0m eta \u001b[36m0:00:00\u001b[0ma \u001b[36m0:00:01\u001b[0m\n",
      "\u001b[?25hDownloading sparse-0.15.1-py2.py3-none-any.whl (116 kB)\n",
      "\u001b[2K   \u001b[90m━━━━━━━━━━━━━━━━━━━━━━━━━━━━━━━━━━━━━━━━\u001b[0m \u001b[32m116.3/116.3 kB\u001b[0m \u001b[31m10.4 MB/s\u001b[0m eta \u001b[36m0:00:00\u001b[0m\n",
      "\u001b[?25hInstalling collected packages: sparse, dask\n",
      "  Attempting uninstall: sparse\n",
      "    Found existing installation: sparse 0.9.1\n",
      "    Uninstalling sparse-0.9.1:\n",
      "      Successfully uninstalled sparse-0.9.1\n",
      "  Attempting uninstall: dask\n",
      "    Found existing installation: dask 2021.4.0\n",
      "    Uninstalling dask-2021.4.0:\n",
      "      Successfully uninstalled dask-2021.4.0\n",
      "Successfully installed dask-2023.11.0 sparse-0.15.1\n",
      "\u001b[33mWARNING: Running pip as the 'root' user can result in broken permissions and conflicting behaviour with the system package manager. It is recommended to use a virtual environment instead: https://pip.pypa.io/warnings/venv\u001b[0m\u001b[33m\n",
      "\u001b[0m"
     ]
    }
   ],
   "source": [
    "!pip install dask==2023.11.0 sparse==0.15.1"
   ]
  }
 ],
 "metadata": {
  "kernelspec": {
   "display_name": "Python 3 (ipykernel)",
   "language": "python",
   "name": "python3"
  },
  "language_info": {
   "codemirror_mode": {
    "name": "ipython",
    "version": 3
   },
   "file_extension": ".py",
   "mimetype": "text/x-python",
   "name": "python",
   "nbconvert_exporter": "python",
   "pygments_lexer": "ipython3",
   "version": "3.10.12"
  }
 },
 "nbformat": 4,
 "nbformat_minor": 4
}
