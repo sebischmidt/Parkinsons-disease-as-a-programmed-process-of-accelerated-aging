{
 "cells": [
  {
   "cell_type": "code",
   "execution_count": 1,
   "metadata": {
    "scrolled": true
   },
   "outputs": [
    {
     "name": "stdout",
     "output_type": "stream",
     "text": [
      "Looking in indexes: https://pypi.org/simple, https://pypi.ngc.nvidia.com\n",
      "Collecting dask==2021.4.0\n",
      "  Downloading dask-2021.4.0-py3-none-any.whl.metadata (2.9 kB)\n",
      "Collecting sparse==0.9.1\n",
      "  Downloading sparse-0.9.1-py2.py3-none-any.whl.metadata (2.8 kB)\n",
      "Requirement already satisfied: pyyaml in /usr/local/lib/python3.10/dist-packages (from dask==2021.4.0) (6.0.1)\n",
      "Requirement already satisfied: cloudpickle>=1.1.1 in /usr/local/lib/python3.10/dist-packages (from dask==2021.4.0) (3.0.0)\n",
      "Requirement already satisfied: fsspec>=0.6.0 in /usr/local/lib/python3.10/dist-packages (from dask==2021.4.0) (2023.12.2)\n",
      "Requirement already satisfied: toolz>=0.8.2 in /usr/local/lib/python3.10/dist-packages (from dask==2021.4.0) (0.12.0)\n",
      "Requirement already satisfied: partd>=0.3.10 in /usr/local/lib/python3.10/dist-packages (from dask==2021.4.0) (1.4.1)\n",
      "Requirement already satisfied: numpy in /usr/local/lib/python3.10/dist-packages (from sparse==0.9.1) (1.24.4)\n",
      "Requirement already satisfied: scipy>=0.19 in /usr/local/lib/python3.10/dist-packages (from sparse==0.9.1) (1.11.4)\n",
      "Requirement already satisfied: numba>=0.45 in /usr/local/lib/python3.10/dist-packages (from sparse==0.9.1) (0.57.1+1.gb7ee25572)\n",
      "Requirement already satisfied: llvmlite<0.41,>=0.40.0dev0 in /usr/local/lib/python3.10/dist-packages (from numba>=0.45->sparse==0.9.1) (0.40.1)\n",
      "Requirement already satisfied: locket in /usr/local/lib/python3.10/dist-packages (from partd>=0.3.10->dask==2021.4.0) (1.0.0)\n",
      "Downloading dask-2021.4.0-py3-none-any.whl (941 kB)\n",
      "\u001b[2K   \u001b[90m━━━━━━━━━━━━━━━━━━━━━━━━━━━━━━━━━━━━━━━━\u001b[0m \u001b[32m941.1/941.1 kB\u001b[0m \u001b[31m4.6 MB/s\u001b[0m eta \u001b[36m0:00:00\u001b[0ma \u001b[36m0:00:01\u001b[0m\n",
      "\u001b[?25hDownloading sparse-0.9.1-py2.py3-none-any.whl (63 kB)\n",
      "\u001b[2K   \u001b[90m━━━━━━━━━━━━━━━━━━━━━━━━━━━━━━━━━━━━━━━━\u001b[0m \u001b[32m63.8/63.8 kB\u001b[0m \u001b[31m151.8 MB/s\u001b[0m eta \u001b[36m0:00:00\u001b[0m\n",
      "\u001b[?25hInstalling collected packages: sparse, dask\n",
      "  Attempting uninstall: sparse\n",
      "    Found existing installation: sparse 0.15.1\n",
      "    Uninstalling sparse-0.15.1:\n",
      "      Successfully uninstalled sparse-0.15.1\n",
      "  Attempting uninstall: dask\n",
      "    Found existing installation: dask 2023.11.0\n",
      "    Uninstalling dask-2023.11.0:\n",
      "      Successfully uninstalled dask-2023.11.0\n",
      "\u001b[31mERROR: pip's dependency resolver does not currently take into account all the packages that are installed. This behaviour is the source of the following dependency conflicts.\n",
      "distributed 2023.11.0 requires dask==2023.11.0, but you have dask 2021.4.0 which is incompatible.\n",
      "rapids-dask-dependency 23.12.1 requires dask==2023.11.0, but you have dask 2021.4.0 which is incompatible.\u001b[0m\u001b[31m\n",
      "\u001b[0mSuccessfully installed dask-2021.4.0 sparse-0.9.1\n",
      "\u001b[33mWARNING: Running pip as the 'root' user can result in broken permissions and conflicting behaviour with the system package manager. It is recommended to use a virtual environment instead: https://pip.pypa.io/warnings/venv\u001b[0m\u001b[33m\n",
      "\u001b[0m"
     ]
    }
   ],
   "source": [
    "# Dependency conflicts\n",
    "!pip install dask==2021.4.0 sparse==0.9.1"
   ]
  },
  {
   "cell_type": "code",
   "execution_count": 1,
   "metadata": {},
   "outputs": [
    {
     "name": "stderr",
     "output_type": "stream",
     "text": [
      "2025-07-18 09:02:42.726200: I tensorflow/core/platform/cpu_feature_guard.cc:210] This TensorFlow binary is optimized to use available CPU instructions in performance-critical operations.\n",
      "To enable the following instructions: AVX2 FMA, in other operations, rebuild TensorFlow with the appropriate compiler flags.\n"
     ]
    }
   ],
   "source": [
    "import os\n",
    "import warnings\n",
    "\n",
    "warnings.filterwarnings(\"ignore\", category=DeprecationWarning)\n",
    "warnings.filterwarnings(\"ignore\", category=FutureWarning)\n",
    "from scipy.sparse import csr_matrix, issparse, csc_matrix\n",
    "import matplotlib.pyplot as plt\n",
    "import seaborn as sns\n",
    "import scanpy as sc\n",
    "import pandas as pd\n",
    "import numpy as np\n",
    "import random\n",
    "import sc_toolbox\n",
    "import decoupler as dc\n",
    "import rpy2.robjects as ro\n",
    "import diffxpy.api as de\n",
    "import batchglm\n",
    "import rpy2.rinterface_lib.callbacks\n",
    "import anndata2ri\n",
    "import logging\n",
    "\n",
    "from rpy2.robjects import pandas2ri\n",
    "from rpy2.robjects import r\n",
    "\n",
    "from batchglm.pkg_constants import TF_CONFIG_PROTO\n",
    "\n",
    "from IPython.core.interactiveshell import InteractiveShell\n",
    "InteractiveShell.ast_node_interactivity = \"all\"\n",
    "\n",
    "sc.settings.verbosity = 0\n",
    "rpy2.rinterface_lib.callbacks.logger.setLevel(logging.ERROR)\n",
    "\n",
    "pandas2ri.activate()\n",
    "anndata2ri.activate()\n",
    "\n",
    "%load_ext rpy2.ipython\n",
    "os.chdir('/root/host_home')\n"
   ]
  },
  {
   "cell_type": "code",
   "execution_count": 2,
   "metadata": {
    "scrolled": true
   },
   "outputs": [
    {
     "data": {
      "text/html": [
       "<details>\n",
       "<summary>Click to view session information</summary>\n",
       "<pre>\n",
       "-----\n",
       "anndata2ri          1.3.1\n",
       "batchglm            v0.7.4\n",
       "decoupler           1.6.0\n",
       "diffxpy             v0.7.4\n",
       "matplotlib          3.8.4\n",
       "numpy               1.24.4\n",
       "pandas              2.2.1\n",
       "rpy2                3.5.16\n",
       "sc_toolbox          0.12.3\n",
       "scanpy              1.10.1\n",
       "scipy               1.11.4\n",
       "seaborn             0.13.2\n",
       "session_info        1.0.0\n",
       "tensorflow          2.16.1\n",
       "-----\n",
       "</pre>\n",
       "<details>\n",
       "<summary>Click to view modules imported as dependencies</summary>\n",
       "<pre>\n",
       "97d2165b493fecec79c65b5c6254dffd4e375528    NA\n",
       "PIL                                         10.1.0\n",
       "absl                                        NA\n",
       "adjustText                                  1.1.1\n",
       "anndata                                     0.10.7\n",
       "anyio                                       NA\n",
       "arrow                                       1.3.0\n",
       "asttokens                                   NA\n",
       "astunparse                                  1.6.3\n",
       "attr                                        23.1.0\n",
       "attrs                                       23.1.0\n",
       "babel                                       2.14.0\n",
       "backcall                                    0.2.0\n",
       "cairo                                       1.26.0\n",
       "certifi                                     2023.11.17\n",
       "cffi                                        1.16.0\n",
       "chardet                                     5.2.0\n",
       "charset_normalizer                          3.3.2\n",
       "cloudpickle                                 3.0.0\n",
       "comm                                        0.2.1\n",
       "cupy                                        12.3.0\n",
       "cupy_backends                               NA\n",
       "cupyx                                       NA\n",
       "cycler                                      0.12.1\n",
       "cython_runtime                              NA\n",
       "cytoolz                                     0.12.3\n",
       "dask                                        2023.11.0\n",
       "dateutil                                    2.8.2\n",
       "debugpy                                     1.8.0\n",
       "decorator                                   5.1.1\n",
       "defusedxml                                  0.7.1\n",
       "dill                                        0.3.8\n",
       "etils                                       1.7.0\n",
       "exceptiongroup                              1.2.0\n",
       "executing                                   2.0.1\n",
       "fastjsonschema                              NA\n",
       "fastrlock                                   0.8.2\n",
       "flatbuffers                                 23.5.26\n",
       "fqdn                                        NA\n",
       "gast                                        NA\n",
       "gi                                          3.42.1\n",
       "gio                                         NA\n",
       "glib                                        NA\n",
       "gobject                                     NA\n",
       "google                                      NA\n",
       "gtk                                         NA\n",
       "h5py                                        3.10.0\n",
       "idna                                        3.6\n",
       "igraph                                      0.11.4\n",
       "importlib_metadata                          NA\n",
       "importlib_resources                         NA\n",
       "ipykernel                                   6.28.0\n",
       "ipython_genutils                            0.2.0\n",
       "ipywidgets                                  8.1.2\n",
       "isoduration                                 NA\n",
       "jax                                         0.4.26\n",
       "jaxlib                                      0.4.26\n",
       "jedi                                        0.19.1\n",
       "jinja2                                      3.0.3\n",
       "joblib                                      1.3.2\n",
       "json5                                       NA\n",
       "jsonpointer                                 2.4\n",
       "jsonschema                                  4.20.0\n",
       "jsonschema_specifications                   NA\n",
       "jupyter_events                              0.10.0\n",
       "jupyter_server                              2.13.0\n",
       "jupyterlab_server                           2.26.0\n",
       "keras                                       3.2.0\n",
       "kiwisolver                                  1.4.5\n",
       "legacy_api_wrap                             NA\n",
       "leidenalg                                   0.10.2\n",
       "llvmlite                                    0.40.1\n",
       "louvain                                     0.8.2\n",
       "lz4                                         4.3.3\n",
       "markupsafe                                  2.1.3\n",
       "ml_dtypes                                   0.3.2\n",
       "mpl_toolkits                                NA\n",
       "namex                                       NA\n",
       "natsort                                     8.4.0\n",
       "nbformat                                    5.9.2\n",
       "numba                                       0.57.1+1.gb7ee25572\n",
       "numexpr                                     2.10.1\n",
       "opt_einsum                                  v3.3.0\n",
       "optree                                      0.11.0\n",
       "overrides                                   NA\n",
       "packaging                                   23.2\n",
       "parso                                       0.8.3\n",
       "patsy                                       0.5.6\n",
       "pexpect                                     4.7.0\n",
       "pickleshare                                 0.7.5\n",
       "pkg_resources                               NA\n",
       "platformdirs                                4.1.0\n",
       "plotly                                      5.22.0\n",
       "prometheus_client                           NA\n",
       "prompt_toolkit                              3.0.36\n",
       "psutil                                      5.9.4\n",
       "ptyprocess                                  0.7.0\n",
       "pure_eval                                   0.2.2\n",
       "pyarrow                                     14.0.1\n",
       "pycparser                                   2.21\n",
       "pydev_ipython                               NA\n",
       "pydevconsole                                NA\n",
       "pydevd                                      2.9.5\n",
       "pydevd_file_utils                           NA\n",
       "pydevd_plugins                              NA\n",
       "pydevd_tracing                              NA\n",
       "pydot                                       2.0.0\n",
       "pygments                                    2.17.2\n",
       "pynvml                                      11.4.1\n",
       "pyparsing                                   3.1.1\n",
       "pypi_latest                                 0.1.2\n",
       "pythonjsonlogger                            NA\n",
       "pytz                                        2023.3.post1\n",
       "questionary                                 2.0.1\n",
       "referencing                                 NA\n",
       "requests                                    2.31.0\n",
       "rfc3339_validator                           0.1.4\n",
       "rfc3986_validator                           0.1.1\n",
       "rich                                        NA\n",
       "rpds                                        NA\n",
       "send2trash                                  NA\n",
       "setuptools                                  69.2.0\n",
       "sitecustomize                               NA\n",
       "six                                         1.16.0\n",
       "sklearn                                     1.2.0\n",
       "sniffio                                     1.3.1\n",
       "sparse                                      0.15.1\n",
       "stack_data                                  0.6.3\n",
       "statsmodels                                 0.14.1\n",
       "stdlib_list                                 0.10.0\n",
       "tblib                                       3.0.0\n",
       "termcolor                                   1.1.0\n",
       "texttable                                   1.7.0\n",
       "threadpoolctl                               3.2.0\n",
       "tlz                                         0.12.3\n",
       "toolz                                       0.12.0\n",
       "torch                                       2.2.2+cu121\n",
       "torchgen                                    NA\n",
       "tornado                                     6.4\n",
       "tqdm                                        4.66.2\n",
       "traitlets                                   5.9.0\n",
       "typing_extensions                           NA\n",
       "tzlocal                                     NA\n",
       "uri_template                                NA\n",
       "urllib3                                     1.26.18\n",
       "wcwidth                                     0.2.12\n",
       "webcolors                                   1.13\n",
       "websocket                                   1.7.0\n",
       "wrapt                                       1.12.1\n",
       "yaml                                        6.0.1\n",
       "zipp                                        NA\n",
       "zmq                                         25.1.2\n",
       "zoneinfo                                    NA\n",
       "</pre>\n",
       "</details> <!-- seems like this ends pre, so might as well be explicit -->\n",
       "<pre>\n",
       "-----\n",
       "IPython             8.11.0\n",
       "jupyter_client      8.6.0\n",
       "jupyter_core        5.7.0\n",
       "jupyterlab          4.1.6\n",
       "notebook            6.4.10\n",
       "-----\n",
       "Python 3.10.12 (main, Nov 20 2023, 15:14:05) [GCC 11.4.0]\n",
       "Linux-5.15.146.1-microsoft-standard-WSL2-x86_64-with-glibc2.35\n",
       "-----\n",
       "Session information updated at 2025-07-18 09:02\n",
       "</pre>\n",
       "</details>"
      ],
      "text/plain": [
       "<IPython.core.display.HTML object>"
      ]
     },
     "execution_count": 2,
     "metadata": {},
     "output_type": "execute_result"
    }
   ],
   "source": [
    "import session_info\n",
    "session_info.show(excludes=['pybind11_abseil'])"
   ]
  },
  {
   "cell_type": "code",
   "execution_count": 4,
   "metadata": {
    "scrolled": true
   },
   "outputs": [
    {
     "name": "stdout",
     "output_type": "stream",
     "text": [
      "\n",
      "    WARNING: The R package \"reticulate\" only fixed recently\n",
      "    an issue that caused a segfault when used with rpy2:\n",
      "    https://github.com/rstudio/reticulate/pull/1188\n",
      "    Make sure that you use a version of that package that includes\n",
      "    the fix.\n",
      "    "
     ]
    },
    {
     "data": {
      "text/plain": [
       "Loading required package: limma\n",
       "Loading required package: SingleCellExperiment\n",
       "Loading required package: SummarizedExperiment\n",
       "Loading required package: MatrixGenerics\n",
       "Loading required package: matrixStats\n",
       "\n",
       "Attaching package: ‘MatrixGenerics’\n",
       "\n",
       "The following objects are masked from ‘package:matrixStats’:\n",
       "\n",
       "    colAlls, colAnyNAs, colAnys, colAvgsPerRowSet, colCollapse,\n",
       "    colCounts, colCummaxs, colCummins, colCumprods, colCumsums,\n",
       "    colDiffs, colIQRDiffs, colIQRs, colLogSumExps, colMadDiffs,\n",
       "    colMads, colMaxs, colMeans2, colMedians, colMins, colOrderStats,\n",
       "    colProds, colQuantiles, colRanges, colRanks, colSdDiffs, colSds,\n",
       "    colSums2, colTabulates, colVarDiffs, colVars, colWeightedMads,\n",
       "    colWeightedMeans, colWeightedMedians, colWeightedSds,\n",
       "    colWeightedVars, rowAlls, rowAnyNAs, rowAnys, rowAvgsPerColSet,\n",
       "    rowCollapse, rowCounts, rowCummaxs, rowCummins, rowCumprods,\n",
       "    rowCumsums, rowDiffs, rowIQRDiffs, rowIQRs, rowLogSumExps,\n",
       "    rowMadDiffs, rowMads, rowMaxs, rowMeans2, rowMedians, rowMins,\n",
       "    rowOrderStats, rowProds, rowQuantiles, rowRanges, rowRanks,\n",
       "    rowSdDiffs, rowSds, rowSums2, rowTabulates, rowVarDiffs, rowVars,\n",
       "    rowWeightedMads, rowWeightedMeans, rowWeightedMedians,\n",
       "    rowWeightedSds, rowWeightedVars\n",
       "\n",
       "Loading required package: GenomicRanges\n",
       "Loading required package: stats4\n",
       "Loading required package: BiocGenerics\n",
       "\n",
       "Attaching package: ‘BiocGenerics’\n",
       "\n",
       "The following object is masked from ‘package:limma’:\n",
       "\n",
       "    plotMA\n",
       "\n",
       "The following objects are masked from ‘package:stats’:\n",
       "\n",
       "    IQR, mad, sd, var, xtabs\n",
       "\n",
       "The following objects are masked from ‘package:base’:\n",
       "\n",
       "    anyDuplicated, aperm, append, as.data.frame, basename, cbind,\n",
       "    colnames, dirname, do.call, duplicated, eval, evalq, Filter, Find,\n",
       "    get, grep, grepl, intersect, is.unsorted, lapply, Map, mapply,\n",
       "    match, mget, order, paste, pmax, pmax.int, pmin, pmin.int,\n",
       "    Position, rank, rbind, Reduce, rownames, sapply, setdiff, sort,\n",
       "    table, tapply, union, unique, unsplit, which.max, which.min\n",
       "\n",
       "Loading required package: S4Vectors\n",
       "\n",
       "Attaching package: ‘S4Vectors’\n",
       "\n",
       "The following objects are masked from ‘package:base’:\n",
       "\n",
       "    expand.grid, I, unname\n",
       "\n",
       "Loading required package: IRanges\n",
       "Loading required package: GenomeInfoDb\n",
       "Loading required package: Biobase\n",
       "Welcome to Bioconductor\n",
       "\n",
       "    Vignettes contain introductory material; view with\n",
       "    'browseVignettes()'. To cite Bioconductor, see\n",
       "    'citation(\"Biobase\")', and for packages 'citation(\"pkgname\")'.\n",
       "\n",
       "\n",
       "Attaching package: ‘Biobase’\n",
       "\n",
       "The following object is masked from ‘package:MatrixGenerics’:\n",
       "\n",
       "    rowMedians\n",
       "\n",
       "The following objects are masked from ‘package:matrixStats’:\n",
       "\n",
       "    anyMissing, rowMedians\n",
       "\n",
       "\n",
       "Attaching package: ‘SingleCellExperiment’\n",
       "\n",
       "The following object is masked from ‘package:edgeR’:\n",
       "\n",
       "    cpm\n",
       "\n",
       "Loading required package: scuttle\n",
       "Loading required package: ggplot2\n",
       "\n",
       "Attaching package: ‘scater’\n",
       "\n",
       "The following object is masked from ‘package:limma’:\n",
       "\n",
       "    plotMDS\n",
       "\n",
       "Loading required package: SeuratObject\n",
       "Loading required package: sp\n",
       "\n",
       "Attaching package: ‘sp’\n",
       "\n",
       "The following object is masked from ‘package:IRanges’:\n",
       "\n",
       "    %over%\n",
       "\n",
       "\n",
       "Attaching package: ‘SeuratObject’\n",
       "\n",
       "The following object is masked from ‘package:SummarizedExperiment’:\n",
       "\n",
       "    Assays\n",
       "\n",
       "The following object is masked from ‘package:GenomicRanges’:\n",
       "\n",
       "    intersect\n",
       "\n",
       "The following object is masked from ‘package:GenomeInfoDb’:\n",
       "\n",
       "    intersect\n",
       "\n",
       "The following object is masked from ‘package:IRanges’:\n",
       "\n",
       "    intersect\n",
       "\n",
       "The following object is masked from ‘package:S4Vectors’:\n",
       "\n",
       "    intersect\n",
       "\n",
       "The following object is masked from ‘package:BiocGenerics’:\n",
       "\n",
       "    intersect\n",
       "\n",
       "The following object is masked from ‘package:base’:\n",
       "\n",
       "    intersect\n",
       "\n",
       "\n",
       "Attaching package: ‘Seurat’\n",
       "\n",
       "The following object is masked from ‘package:SummarizedExperiment’:\n",
       "\n",
       "    Assays\n",
       "\n",
       "\n",
       "Attaching package: ‘DESeq2’\n",
       "\n",
       "The following object is masked from ‘package:scater’:\n",
       "\n",
       "    fpkm\n",
       "\n",
       "data.table 1.15.4 using 8 threads (see ?getDTthreads).  Latest news: r-datatable.com\n",
       "\n",
       "Attaching package: ‘data.table’\n",
       "\n",
       "The following object is masked from ‘package:SummarizedExperiment’:\n",
       "\n",
       "    shift\n",
       "\n",
       "The following object is masked from ‘package:GenomicRanges’:\n",
       "\n",
       "    shift\n",
       "\n",
       "The following object is masked from ‘package:IRanges’:\n",
       "\n",
       "    shift\n",
       "\n",
       "The following objects are masked from ‘package:S4Vectors’:\n",
       "\n",
       "    first, second\n",
       "\n",
       "\n",
       "Attaching package: ‘dplyr’\n",
       "\n",
       "The following objects are masked from ‘package:data.table’:\n",
       "\n",
       "    between, first, last\n",
       "\n",
       "The following object is masked from ‘package:Biobase’:\n",
       "\n",
       "    combine\n",
       "\n",
       "The following objects are masked from ‘package:GenomicRanges’:\n",
       "\n",
       "    intersect, setdiff, union\n",
       "\n",
       "The following object is masked from ‘package:GenomeInfoDb’:\n",
       "\n",
       "    intersect\n",
       "\n",
       "The following objects are masked from ‘package:IRanges’:\n",
       "\n",
       "    collapse, desc, intersect, setdiff, slice, union\n",
       "\n",
       "The following objects are masked from ‘package:S4Vectors’:\n",
       "\n",
       "    first, intersect, rename, setdiff, setequal, union\n",
       "\n",
       "The following objects are masked from ‘package:BiocGenerics’:\n",
       "\n",
       "    combine, intersect, setdiff, union\n",
       "\n",
       "The following object is masked from ‘package:matrixStats’:\n",
       "\n",
       "    count\n",
       "\n",
       "The following objects are masked from ‘package:stats’:\n",
       "\n",
       "    filter, lag\n",
       "\n",
       "The following objects are masked from ‘package:base’:\n",
       "\n",
       "    intersect, setdiff, setequal, union\n",
       "\n",
       "Loading required package: Matrix\n",
       "\n",
       "Attaching package: ‘Matrix’\n",
       "\n",
       "The following object is masked from ‘package:S4Vectors’:\n",
       "\n",
       "    expand\n",
       "\n",
       "In addition: Warning message:\n",
       "In (function (package, help, pos = 2, lib.loc = NULL, character.only = FALSE,  :\n",
       "  library ‘/usr/lib/R/site-library’ contains no packages\n"
      ]
     },
     "metadata": {},
     "output_type": "display_data"
    }
   ],
   "source": [
    "%%R\n",
    "library(edgeR)\n",
    "library(scater)\n",
    "library(MAST)\n",
    "library(Seurat)\n",
    "library(DESeq2)\n",
    "library(data.table)\n",
    "library(dplyr)\n",
    "#library(EnhancedVolcano)\n",
    "library(apeglm)\n",
    "library(lme4)"
   ]
  },
  {
   "cell_type": "code",
   "execution_count": 5,
   "metadata": {
    "scrolled": true
   },
   "outputs": [
    {
     "name": "stdout",
     "output_type": "stream",
     "text": [
      "R version 4.2.3 (2023-03-15)\n",
      "Platform: x86_64-pc-linux-gnu (64-bit)\n",
      "Running under: Ubuntu 22.04.3 LTS\n",
      "\n",
      "Matrix products: default\n",
      "BLAS:   /usr/lib/x86_64-linux-gnu/atlas/libblas.so.3.10.3\n",
      "LAPACK: /usr/lib/x86_64-linux-gnu/atlas/liblapack.so.3.10.3\n",
      "\n",
      "locale:\n",
      " [1] LC_CTYPE=C.UTF-8       LC_NUMERIC=C           LC_TIME=C.UTF-8       \n",
      " [4] LC_COLLATE=C.UTF-8     LC_MONETARY=C.UTF-8    LC_MESSAGES=C.UTF-8   \n",
      " [7] LC_PAPER=C.UTF-8       LC_NAME=C              LC_ADDRESS=C          \n",
      "[10] LC_TELEPHONE=C         LC_MEASUREMENT=C.UTF-8 LC_IDENTIFICATION=C   \n",
      "\n",
      "attached base packages:\n",
      "[1] stats4    tools     stats     graphics  grDevices utils     datasets \n",
      "[8] methods   base     \n",
      "\n",
      "other attached packages:\n",
      " [1] lme4_1.1-35.2               Matrix_1.6-5               \n",
      " [3] apeglm_1.20.0               dplyr_1.1.4                \n",
      " [5] data.table_1.15.4           DESeq2_1.38.3              \n",
      " [7] Seurat_5.0.3                SeuratObject_5.0.1         \n",
      " [9] sp_2.1-3                    MAST_1.24.1                \n",
      "[11] scater_1.26.1               ggplot2_3.5.0              \n",
      "[13] scuttle_1.8.4               SingleCellExperiment_1.20.1\n",
      "[15] SummarizedExperiment_1.28.0 Biobase_2.58.0             \n",
      "[17] GenomicRanges_1.50.2        GenomeInfoDb_1.34.9        \n",
      "[19] IRanges_2.32.0              S4Vectors_0.36.2           \n",
      "[21] BiocGenerics_0.44.0         MatrixGenerics_1.10.0      \n",
      "[23] matrixStats_1.2.0           edgeR_3.40.2               \n",
      "[25] limma_3.54.2               \n",
      "\n",
      "loaded via a namespace (and not attached):\n",
      "  [1] utf8_1.2.4                spatstat.explore_3.2-7   \n",
      "  [3] reticulate_1.35.0         tidyselect_1.2.1         \n",
      "  [5] RSQLite_2.3.6             AnnotationDbi_1.60.2     \n",
      "  [7] htmlwidgets_1.6.4         grid_4.2.3               \n",
      "  [9] BiocParallel_1.32.6       Rtsne_0.17               \n",
      " [11] munsell_0.5.1             ScaledMatrix_1.6.0       \n",
      " [13] codetools_0.2-20          ica_1.0-3                \n",
      " [15] future_1.33.2             miniUI_0.1.1.1           \n",
      " [17] withr_3.0.0               spatstat.random_3.2-3    \n",
      " [19] colorspace_2.1-0          progressr_0.14.0         \n",
      " [21] ROCR_1.0-11               tensor_1.5               \n",
      " [23] listenv_0.9.1             bbmle_1.0.25.1           \n",
      " [25] GenomeInfoDbData_1.2.9    polyclip_1.10-6          \n",
      " [27] bit64_4.0.5               coda_0.19-4.1            \n",
      " [29] parallelly_1.37.1         vctrs_0.6.5              \n",
      " [31] generics_0.1.3            R6_2.5.1                 \n",
      " [33] ggbeeswarm_0.7.2          rsvd_1.0.5               \n",
      " [35] locfit_1.5-9.9            bitops_1.0-7             \n",
      " [37] spatstat.utils_3.1-0      cachem_1.0.8             \n",
      " [39] DelayedArray_0.24.0       promises_1.3.0           \n",
      " [41] scales_1.3.0              beeswarm_0.4.0           \n",
      " [43] gtable_0.3.4              beachmat_2.14.2          \n",
      " [45] globals_0.16.3            goftest_1.2-3            \n",
      " [47] spam_2.10-0               rlang_1.1.3              \n",
      " [49] splines_4.2.3             lazyeval_0.2.2           \n",
      " [51] spatstat.geom_3.2-9       reshape2_1.4.4           \n",
      " [53] abind_1.4-5               httpuv_1.6.15            \n",
      " [55] RColorBrewer_1.1-3        ggridges_0.5.6           \n",
      " [57] Rcpp_1.0.12               plyr_1.8.9               \n",
      " [59] sparseMatrixStats_1.10.0  zlibbioc_1.44.0          \n",
      " [61] purrr_1.0.2               RCurl_1.98-1.14          \n",
      " [63] deldir_2.0-4              pbapply_1.7-2            \n",
      " [65] viridis_0.6.5             cowplot_1.1.3            \n",
      " [67] zoo_1.8-12                ggrepel_0.9.5            \n",
      " [69] cluster_2.1.6             magrittr_2.0.3           \n",
      " [71] RSpectra_0.16-1           scattermore_1.2          \n",
      " [73] lmtest_0.9-40             RANN_2.6.1               \n",
      " [75] mvtnorm_1.2-4             fitdistrplus_1.1-11      \n",
      " [77] patchwork_1.2.0           mime_0.12                \n",
      " [79] xtable_1.8-4              XML_3.99-0.16.1          \n",
      " [81] emdbook_1.3.13            fastDummies_1.7.3        \n",
      " [83] gridExtra_2.3             bdsmatrix_1.3-7          \n",
      " [85] compiler_4.2.3            tibble_3.2.1             \n",
      " [87] KernSmooth_2.23-22        crayon_1.5.2             \n",
      " [89] minqa_1.2.6               htmltools_0.5.8.1        \n",
      " [91] later_1.3.2               tidyr_1.3.1              \n",
      " [93] geneplotter_1.76.0        DBI_1.2.2                \n",
      " [95] MASS_7.3-60.0.1           boot_1.3-30              \n",
      " [97] cli_3.6.2                 parallel_4.2.3           \n",
      " [99] dotCall64_1.1-1           igraph_2.0.3             \n",
      "[101] pkgconfig_2.0.3           numDeriv_2016.8-1.1      \n",
      "[103] plotly_4.10.4             spatstat.sparse_3.0-3    \n",
      "[105] annotate_1.76.0           vipor_0.4.7              \n",
      "[107] XVector_0.38.0            stringr_1.5.1            \n",
      "[109] digest_0.6.35             sctransform_0.4.1        \n",
      "[111] RcppAnnoy_0.0.22          spatstat.data_3.0-4      \n",
      "[113] Biostrings_2.66.0         leiden_0.4.3.1           \n",
      "[115] uwot_0.1.16               DelayedMatrixStats_1.20.0\n",
      "[117] shiny_1.8.1.1             nloptr_2.0.3             \n",
      "[119] lifecycle_1.0.4           nlme_3.1-164             \n",
      "[121] jsonlite_1.8.8            BiocNeighbors_1.16.0     \n",
      "[123] viridisLite_0.4.2         fansi_1.0.6              \n",
      "[125] pillar_1.9.0              lattice_0.22-6           \n",
      "[127] KEGGREST_1.38.0           fastmap_1.1.1            \n",
      "[129] httr_1.4.7                survival_3.5-8           \n",
      "[131] glue_1.7.0                png_0.1-8                \n",
      "[133] bit_4.0.5                 stringi_1.8.3            \n",
      "[135] blob_1.2.4                RcppHNSW_0.6.0           \n",
      "[137] BiocSingular_1.14.0       memoise_2.0.1            \n",
      "[139] irlba_2.3.5.1             future.apply_1.11.2      \n"
     ]
    }
   ],
   "source": [
    "%%R\n",
    "sessionInfo()"
   ]
  },
  {
   "cell_type": "code",
   "execution_count": 3,
   "metadata": {
    "scrolled": true
   },
   "outputs": [],
   "source": [
    "plt.rcParams['figure.figsize']=(8,8) #rescale figures\n",
    "sc.settings.verbosity = 3\n",
    "#sc.set_figure_params(dpi=200, dpi_save=300)\n",
    "#sc.logging.print_versions()\n",
    "\n",
    "\n",
    "\n",
    "#logging.getLogger(\"tensorflow\").setLevel(logging.ERROR)\n",
    "#logging.getLogger(\"batchglm\").setLevel(logging.INFO)\n",
    "\n",
    "\n",
    "pd.set_option('display.max_rows', 500)\n",
    "#warnings.filterwarnings(\"ignore\", category=DeprecationWarning, module=\"tensorflow\")"
   ]
  },
  {
   "cell_type": "code",
   "execution_count": 4,
   "metadata": {},
   "outputs": [],
   "source": [
    "#Set number of threads\n",
    "TF_CONFIG_PROTO.inter_op_parallelism_threads = 1\n",
    "TF_CONFIG_PROTO.intra_op_parallelism_threads = 12"
   ]
  },
  {
   "cell_type": "markdown",
   "metadata": {},
   "source": [
    "# Filenames"
   ]
  },
  {
   "cell_type": "code",
   "execution_count": 5,
   "metadata": {},
   "outputs": [],
   "source": [
    "#input\n",
    "adata_input = 'lp_NPCs/processed_data/lp_NPC_clustered_scvi_cuda.h5ad'"
   ]
  },
  {
   "cell_type": "code",
   "execution_count": 6,
   "metadata": {},
   "outputs": [],
   "source": [
    "#output\n",
    "save_dir = 'lp_NPCs/tables/' \n",
    "resolution = 'cell_types'"
   ]
  },
  {
   "cell_type": "markdown",
   "metadata": {},
   "source": [
    "# Read in data"
   ]
  },
  {
   "cell_type": "code",
   "execution_count": 7,
   "metadata": {},
   "outputs": [],
   "source": [
    "adata = sc.read(adata_input)\n"
   ]
  },
  {
   "cell_type": "code",
   "execution_count": 8,
   "metadata": {},
   "outputs": [
    {
     "data": {
      "text/plain": [
       "AnnData object with n_obs × n_vars = 30843 × 17250\n",
       "    obs: 'Donor', 'lane', 'condition', 'age', 'years_of_illness', 'deltaHY', 'deltaUPDRS', 'deltaADL', 'deltaDOPA', 'gender', 'cultivation_period', 'n_genes_by_counts', 'log1p_n_genes_by_counts', 'total_counts', 'log1p_total_counts', 'pct_counts_in_top_20_genes', 'total_counts_mt', 'log1p_total_counts_mt', 'pct_counts_mt', 'total_counts_ribo', 'log1p_total_counts_ribo', 'pct_counts_ribo', 'total_counts_hb', 'log1p_total_counts_hb', 'pct_counts_hb', 'n_counts', 'doublet_score', 'size_factors', 'S_score', 'G2M_score', 'phase', '_scvi_batch', '_scvi_labels', 'Ferroptosis_pos_corr', 'Ferroptosis_neg_corr', 'Apoptosis_pos_corr', 'Apoptosis_neg_corr', 'Necroptosis_pos_corr', 'Autophagy_pos_corr', 'Pathanatos_pos_corr', 'cell_types', 'cell_types_abbrev'\n",
       "    var: 'gene_ids', 'feature_types', 'genome', 'gene_symbols', 'n_cells', 'highly_variable', 'means', 'dispersions', 'dispersions_norm', 'highly_variable_genes', 'highly_variable_nbatches', 'highly_variable_intersection', 'highly_variable_genes_batch_aware'\n",
       "    uns: 'Donor_colors', '_scvi_manager_uuid', '_scvi_uuid', 'cell_types_abbrev_colors', 'cell_types_colors', 'condition_colors', 'gender_colors', 'hvg', 'lane_colors', 'neighbors', 'neighbors_CC', 'neighbors_noCC', 'pca', 'phase_colors', 'umap'\n",
       "    obsm: 'X_pca', 'X_scVI_CC', 'X_scVI_noCC', 'X_umap', 'X_umap_CC', 'X_umap_noCC', '_scvi_extra_continuous_covs'\n",
       "    varm: 'PCs'\n",
       "    layers: 'counts', 'log1p_norm', 'scran_normalization', 'soupX_counts'\n",
       "    obsp: 'connectivities', 'connectivities_CC', 'connectivities_noCC', 'distances', 'distances_CC', 'distances_noCC'"
      ]
     },
     "execution_count": 8,
     "metadata": {},
     "output_type": "execute_result"
    }
   ],
   "source": [
    "adata"
   ]
  },
  {
   "cell_type": "markdown",
   "metadata": {},
   "source": [
    "# Preprocess data"
   ]
  },
  {
   "cell_type": "code",
   "execution_count": 9,
   "metadata": {},
   "outputs": [],
   "source": [
    "# Clean up cell type names\n",
    "adata.obs['cell_types_used'] = [ct.replace(\" \", \"-\") for ct in adata.obs[resolution]]\n",
    "adata.obs['cell_types_used'] = [ct.replace(\"+\", \"\") for ct in adata.obs['cell_types_used']]"
   ]
  },
  {
   "cell_type": "code",
   "execution_count": 10,
   "metadata": {},
   "outputs": [],
   "source": [
    "adata.obs[\"Donor\"] = adata.obs[\"Donor\"].astype(\"category\")\n",
    "adata.obs[\"condition\"] = adata.obs[\"condition\"].astype(\"category\")\n",
    "adata.obs['cell_types_used'] = adata.obs['cell_types_used'].astype(\"category\")"
   ]
  },
  {
   "cell_type": "code",
   "execution_count": 11,
   "metadata": {},
   "outputs": [
    {
     "data": {
      "text/plain": [
       "Index(['Apop.-NCSC', 'Apop.-NSC', 'Glial-precursors', 'Immature-neurons',\n",
       "       'NCSC', 'NSC1a', 'NSC1b', 'NSC2a', 'NSC2b'],\n",
       "      dtype='object')"
      ]
     },
     "execution_count": 11,
     "metadata": {},
     "output_type": "execute_result"
    }
   ],
   "source": [
    "adata.obs['cell_types_used'].cat.categories"
   ]
  },
  {
   "cell_type": "markdown",
   "metadata": {},
   "source": [
    "# Check the data"
   ]
  },
  {
   "cell_type": "code",
   "execution_count": 12,
   "metadata": {},
   "outputs": [
    {
     "data": {
      "text/plain": [
       "0.0"
      ]
     },
     "execution_count": 12,
     "metadata": {},
     "output_type": "execute_result"
    }
   ],
   "source": [
    "np.mean(adata.layers['soupX_counts'].astype(int) != adata.layers['soupX_counts'])"
   ]
  },
  {
   "cell_type": "markdown",
   "metadata": {},
   "source": [
    "Counts are actually all integer counts."
   ]
  },
  {
   "cell_type": "code",
   "execution_count": 13,
   "metadata": {},
   "outputs": [
    {
     "data": {
      "text/plain": [
       "condition\n",
       "Parkinson    19145\n",
       "Control      11698\n",
       "Name: count, dtype: int64"
      ]
     },
     "execution_count": 13,
     "metadata": {},
     "output_type": "execute_result"
    }
   ],
   "source": [
    "adata.obs.condition.value_counts()"
   ]
  },
  {
   "cell_type": "code",
   "execution_count": 14,
   "metadata": {},
   "outputs": [
    {
     "data": {
      "text/plain": [
       "cell_types_used   condition\n",
       "Apop.-NCSC        Parkinson      58\n",
       "                  Control        57\n",
       "Apop.-NSC         Control      1283\n",
       "                  Parkinson    1198\n",
       "Glial-precursors  Control       646\n",
       "                  Parkinson     250\n",
       "Immature-neurons  Parkinson     482\n",
       "                  Control       428\n",
       "NCSC              Control      1663\n",
       "                  Parkinson    1197\n",
       "NSC1a             Parkinson    9159\n",
       "                  Control      4821\n",
       "NSC1b             Parkinson    4391\n",
       "                  Control      2549\n",
       "NSC2a             Parkinson    2015\n",
       "                  Control       213\n",
       "NSC2b             Parkinson     395\n",
       "                  Control        38\n",
       "Name: count, dtype: int64"
      ]
     },
     "execution_count": 14,
     "metadata": {},
     "output_type": "execute_result"
    }
   ],
   "source": [
    "adata.obs.groupby(['cell_types_used'])['condition'].value_counts()"
   ]
  },
  {
   "cell_type": "code",
   "execution_count": 15,
   "metadata": {
    "scrolled": true
   },
   "outputs": [
    {
     "data": {
      "text/plain": [
       "cell_types_used   Donor          \n",
       "Apop.-NCSC        UKERiO3H-R1-005      31\n",
       "                  UKERi82A-R1-002      17\n",
       "                  UKERiAY6-R1-003      15\n",
       "                  UKERiM89-R1-005       9\n",
       "                  UKERiPX7-R1-001       9\n",
       "                  UKERi88H-R1-002       9\n",
       "                  UKERiC99-R1-007       8\n",
       "                  UKERiJ2C-R1-015       6\n",
       "                  UKERiG3G-R1-039       4\n",
       "                  UKERi1JF-R1-018       3\n",
       "                  UKERi1E4-R1-003       2\n",
       "                  UKERiR66-R1-007       2\n",
       "Apop.-NSC         UKERiPX7-R1-001     447\n",
       "                  UKERiO3H-R1-005     382\n",
       "                  UKERi82A-R1-002     328\n",
       "                  UKERi1E4-R1-003     231\n",
       "                  UKERiG3G-R1-039     201\n",
       "                  UKERiM89-R1-005     159\n",
       "                  UKERi88H-R1-002     158\n",
       "                  UKERi1JF-R1-018     141\n",
       "                  UKERiAY6-R1-003     133\n",
       "                  UKERiJ2C-R1-015     129\n",
       "                  UKERiR66-R1-007      93\n",
       "                  UKERiC99-R1-007      79\n",
       "Glial-precursors  UKERi82A-R1-002     409\n",
       "                  UKERiPX7-R1-001      91\n",
       "                  UKERi1JF-R1-018      87\n",
       "                  UKERiG3G-R1-039      59\n",
       "                  UKERiO3H-R1-005      58\n",
       "                  UKERiC99-R1-007      56\n",
       "                  UKERi88H-R1-002      41\n",
       "                  UKERi1E4-R1-003      33\n",
       "                  UKERiJ2C-R1-015      24\n",
       "                  UKERiAY6-R1-003      18\n",
       "                  UKERiM89-R1-005      16\n",
       "                  UKERiR66-R1-007       4\n",
       "Immature-neurons  UKERiPX7-R1-001     179\n",
       "                  UKERi1E4-R1-003     151\n",
       "                  UKERiO3H-R1-005      94\n",
       "                  UKERiJ2C-R1-015      94\n",
       "                  UKERiG3G-R1-039      74\n",
       "                  UKERi88H-R1-002      72\n",
       "                  UKERiM89-R1-005      65\n",
       "                  UKERi1JF-R1-018      56\n",
       "                  UKERi82A-R1-002      53\n",
       "                  UKERiC99-R1-007      40\n",
       "                  UKERiAY6-R1-003      29\n",
       "                  UKERiR66-R1-007       3\n",
       "NCSC              UKERi1E4-R1-003     824\n",
       "                  UKERiO3H-R1-005     408\n",
       "                  UKERiPX7-R1-001     276\n",
       "                  UKERiG3G-R1-039     258\n",
       "                  UKERi88H-R1-002     256\n",
       "                  UKERiR66-R1-007     221\n",
       "                  UKERiAY6-R1-003     207\n",
       "                  UKERiC99-R1-007     147\n",
       "                  UKERi82A-R1-002     126\n",
       "                  UKERiM89-R1-005      55\n",
       "                  UKERi1JF-R1-018      47\n",
       "                  UKERiJ2C-R1-015      35\n",
       "NSC1a             UKERiPX7-R1-001    2904\n",
       "                  UKERiO3H-R1-005    1551\n",
       "                  UKERi88H-R1-002    1195\n",
       "                  UKERiAY6-R1-003    1092\n",
       "                  UKERiC99-R1-007    1077\n",
       "                  UKERiM89-R1-005    1035\n",
       "                  UKERiR66-R1-007     995\n",
       "                  UKERi82A-R1-002     965\n",
       "                  UKERiG3G-R1-039     869\n",
       "                  UKERiJ2C-R1-015     861\n",
       "                  UKERi1E4-R1-003     761\n",
       "                  UKERi1JF-R1-018     675\n",
       "NSC1b             UKERiPX7-R1-001    1400\n",
       "                  UKERi88H-R1-002     670\n",
       "                  UKERiO3H-R1-005     656\n",
       "                  UKERi82A-R1-002     579\n",
       "                  UKERiG3G-R1-039     554\n",
       "                  UKERiM89-R1-005     545\n",
       "                  UKERiAY6-R1-003     486\n",
       "                  UKERiJ2C-R1-015     459\n",
       "                  UKERiC99-R1-007     418\n",
       "                  UKERiR66-R1-007     413\n",
       "                  UKERi1E4-R1-003     400\n",
       "                  UKERi1JF-R1-018     360\n",
       "NSC2a             UKERiAY6-R1-003     510\n",
       "                  UKERi88H-R1-002     498\n",
       "                  UKERiR66-R1-007     462\n",
       "                  UKERiM89-R1-005     236\n",
       "                  UKERiC99-R1-007     208\n",
       "                  UKERi1JF-R1-018     115\n",
       "                  UKERiJ2C-R1-015      69\n",
       "                  UKERiO3H-R1-005      67\n",
       "                  UKERiPX7-R1-001      32\n",
       "                  UKERiG3G-R1-039      18\n",
       "                  UKERi82A-R1-002       9\n",
       "                  UKERi1E4-R1-003       4\n",
       "NSC2b             UKERiR66-R1-007     147\n",
       "                  UKERiAY6-R1-003     101\n",
       "                  UKERi88H-R1-002      81\n",
       "                  UKERiM89-R1-005      23\n",
       "                  UKERiC99-R1-007      18\n",
       "                  UKERiPX7-R1-001      16\n",
       "                  UKERi1JF-R1-018      14\n",
       "                  UKERi82A-R1-002      10\n",
       "                  UKERiO3H-R1-005       9\n",
       "                  UKERiJ2C-R1-015       9\n",
       "                  UKERiG3G-R1-039       5\n",
       "                  UKERi1E4-R1-003       0\n",
       "Name: count, dtype: int64"
      ]
     },
     "execution_count": 15,
     "metadata": {},
     "output_type": "execute_result"
    }
   ],
   "source": [
    "adata.obs.groupby(['cell_types_used'])['Donor'].value_counts()"
   ]
  },
  {
   "cell_type": "markdown",
   "metadata": {},
   "source": [
    "Note:\n",
    "- General imbalance between Parkinson and control cell numbers\n"
   ]
  },
  {
   "cell_type": "markdown",
   "metadata": {},
   "source": [
    "# Single-cell specific using diffxpy"
   ]
  },
  {
   "cell_type": "code",
   "execution_count": 9,
   "metadata": {},
   "outputs": [
    {
     "name": "stdout",
     "output_type": "stream",
     "text": [
      "The directory already exists\n"
     ]
    }
   ],
   "source": [
    "if not os.path.exists(save_dir+'diffxpy'):\n",
    "    # Create a new directory because it does not exist\n",
    "    os.mkdir(save_dir+'diffxpy')\n",
    "    print(\"The new directory: \"+save_dir+\"diffxpy is created!\")\n",
    "else: \n",
    "    print(\"The directory already exists\")"
   ]
  },
  {
   "cell_type": "markdown",
   "metadata": {},
   "source": [
    "## Differential expression testing"
   ]
  },
  {
   "cell_type": "code",
   "execution_count": 17,
   "metadata": {},
   "outputs": [],
   "source": [
    "de_results = dict()\n"
   ]
  },
  {
   "cell_type": "code",
   "execution_count": 18,
   "metadata": {},
   "outputs": [
    {
     "data": {
      "text/plain": [
       "['Intercept',\n",
       " 'condition[T.Parkinson]',\n",
       " 'Donor[T.UKERiG3G-R1-039]',\n",
       " 'Donor[T.UKERi1E4-R1-003]',\n",
       " 'Donor[T.UKERiO3H-R1-005]',\n",
       " 'Donor[T.UKERi82A-R1-002]',\n",
       " 'Donor[T.UKERiJ2C-R1-015]',\n",
       " 'Donor[T.UKERiM89-R1-005]',\n",
       " 'Donor[T.UKERiC99-R1-007]',\n",
       " 'Donor[T.UKERiR66-R1-007]',\n",
       " 'Donor[T.UKERiAY6-R1-003]',\n",
       " 'Donor[T.UKERiPX7-R1-001]',\n",
       " 'Donor[T.UKERi88H-R1-002]']"
      ]
     },
     "execution_count": 18,
     "metadata": {},
     "output_type": "execute_result"
    }
   ],
   "source": [
    "de.utils.preview_coef_names(\n",
    "    sample_description=adata.obs,\n",
    "    formula=\"~1+condition+Donor\", \n",
    ")"
   ]
  },
  {
   "cell_type": "code",
   "execution_count": 95,
   "metadata": {
    "scrolled": true
   },
   "outputs": [
    {
     "name": "stdout",
     "output_type": "stream",
     "text": [
      "In cluster Apop.-NCSC:\n",
      "condition\n",
      "Parkinson    58\n",
      "Control      57\n",
      "Name: count, dtype: int64\n",
      "filtered out 15340 genes that are detected in less than 50 cells\n"
     ]
    },
    {
     "name": "stderr",
     "output_type": "stream",
     "text": [
      "Built constraints: Donor[UKERi1JF-R1-018]+Donor[UKERiG3G-R1-039]+Donor[UKERi1E4-R1-003]+Donor[UKERiO3H-R1-005]+Donor[UKERi82A-R1-002]=0, Donor[UKERiJ2C-R1-015]+Donor[UKERiM89-R1-005]+Donor[UKERiC99-R1-007]+Donor[UKERiR66-R1-007]+Donor[UKERiAY6-R1-003]+Donor[UKERiPX7-R1-001]+Donor[UKERi88H-R1-002]=0\n"
     ]
    },
    {
     "name": "stdout",
     "output_type": "stream",
     "text": [
      "Testing 1910 genes...\n",
      "\n",
      "training location model: True\n",
      "training scale model: True\n",
      "iter   0: ll=1964868.037562\n",
      "iter   1: ll=1948589.106840, converged: 0.00% (loc: 0.31%, scale update: False), in 0.36sec\n",
      "iter   2: ll=1944417.313854, converged: 0.00% (loc: 3.14%, scale update: False), in 0.36sec\n",
      "iter   3: ll=1943961.446322, converged: 0.00% (loc: 3.14%, scale update: False), in 0.37sec\n",
      "iter   4: ll=1943885.062961, converged: 0.00% (loc: 3.14%, scale update: False), in 0.35sec\n",
      "iter   5: ll=1943862.272889, converged: 0.00% (loc: 9.74%, scale update: False), in 0.38sec\n",
      "Fitting 1910 dispersion models: (progress not available with multiprocessing)"
     ]
    },
    {
     "name": "stderr",
     "output_type": "stream",
     "text": [
      "/usr/lib/python3.10/multiprocessing/popen_fork.py:66: RuntimeWarning: os.fork() was called. os.fork() is incompatible with multithreaded code, and JAX is multithreaded, so this will likely lead to a deadlock.\n",
      "  self.pid = os.fork()\n"
     ]
    },
    {
     "name": "stdout",
     "output_type": "stream",
     "text": [
      "iter   6: ll=369925.004309, converged: 0.00% (loc: 0.00%, scale update: True), in 2.78sec\n",
      "iter   7: ll=369741.548774, converged: 0.00% (loc: 4.45%, scale update: False), in 0.36sec\n",
      "iter   8: ll=369721.489045, converged: 0.00% (loc: 8.69%, scale update: False), in 0.35sec\n",
      "iter   9: ll=369718.612756, converged: 0.00% (loc: 24.24%, scale update: False), in 0.35sec\n",
      "iter  10: ll=369717.680754, converged: 0.00% (loc: 50.10%, scale update: False), in 0.36sec\n",
      "iter  11: ll=369717.354455, converged: 0.00% (loc: 65.92%, scale update: False), in 0.35sec\n",
      "Fitting 1910 dispersion models: (progress not available with multiprocessing)"
     ]
    },
    {
     "name": "stderr",
     "output_type": "stream",
     "text": [
      "/usr/lib/python3.10/multiprocessing/popen_fork.py:66: RuntimeWarning: os.fork() was called. os.fork() is incompatible with multithreaded code, and JAX is multithreaded, so this will likely lead to a deadlock.\n",
      "  self.pid = os.fork()\n"
     ]
    },
    {
     "name": "stdout",
     "output_type": "stream",
     "text": [
      "iter  12: ll=355685.533539, converged: 3.40% (loc: 3.40%, scale update: True), in 2.76sec\n",
      "iter  13: ll=355666.124613, converged: 3.40% (loc: 30.31%, scale update: False), in 0.37sec\n",
      "iter  14: ll=355662.938221, converged: 3.40% (loc: 58.22%, scale update: False), in 0.67sec\n",
      "iter  15: ll=355662.801268, converged: 3.40% (loc: 72.04%, scale update: False), in 0.33sec\n",
      "iter  16: ll=355662.751061, converged: 3.40% (loc: 77.59%, scale update: False), in 0.35sec\n",
      "iter  17: ll=355662.732848, converged: 3.40% (loc: 79.74%, scale update: False), in 0.33sec\n",
      "Fitting 1845 dispersion models: (progress not available with multiprocessing)"
     ]
    },
    {
     "name": "stderr",
     "output_type": "stream",
     "text": [
      "/usr/lib/python3.10/multiprocessing/popen_fork.py:66: RuntimeWarning: os.fork() was called. os.fork() is incompatible with multithreaded code, and JAX is multithreaded, so this will likely lead to a deadlock.\n",
      "  self.pid = os.fork()\n"
     ]
    },
    {
     "name": "stdout",
     "output_type": "stream",
     "text": [
      "iter  18: ll=349168.391650, converged: 28.48% (loc: 28.48%, scale update: True), in 2.72sec\n",
      "iter  19: ll=349164.601396, converged: 28.48% (loc: 69.95%, scale update: False), in 0.34sec\n",
      "iter  20: ll=349162.171834, converged: 28.48% (loc: 78.69%, scale update: False), in 0.32sec\n",
      "iter  21: ll=349162.170763, converged: 28.48% (loc: 81.94%, scale update: False), in 0.34sec\n",
      "iter  22: ll=349162.170544, converged: 28.48% (loc: 82.83%, scale update: False), in 0.32sec\n",
      "iter  23: ll=349162.170340, converged: 28.48% (loc: 95.81%, scale update: False), in 0.33sec\n",
      "Fitting 1366 dispersion models: (progress not available with multiprocessing)"
     ]
    },
    {
     "name": "stderr",
     "output_type": "stream",
     "text": [
      "/usr/lib/python3.10/multiprocessing/popen_fork.py:66: RuntimeWarning: os.fork() was called. os.fork() is incompatible with multithreaded code, and JAX is multithreaded, so this will likely lead to a deadlock.\n",
      "  self.pid = os.fork()\n"
     ]
    },
    {
     "name": "stdout",
     "output_type": "stream",
     "text": [
      "iter  24: ll=346598.237124, converged: 68.64% (loc: 68.64%, scale update: True), in 2.20sec\n",
      "iter  25: ll=346596.907174, converged: 68.64% (loc: 94.55%, scale update: False), in 0.34sec\n",
      "iter  26: ll=346596.907137, converged: 68.64% (loc: 98.17%, scale update: False), in 0.29sec\n",
      "iter  27: ll=346596.907135, converged: 68.64% (loc: 99.53%, scale update: False), in 0.26sec\n",
      "iter  28: ll=346596.907135, converged: 68.64% (loc: 99.84%, scale update: False), in 0.18sec\n",
      "iter  29: ll=346596.907135, converged: 68.64% (loc: 99.90%, scale update: False), in 0.15sec\n",
      "Fitting 599 dispersion models: (progress not available with multiprocessing)"
     ]
    },
    {
     "name": "stderr",
     "output_type": "stream",
     "text": [
      "/usr/lib/python3.10/multiprocessing/popen_fork.py:66: RuntimeWarning: os.fork() was called. os.fork() is incompatible with multithreaded code, and JAX is multithreaded, so this will likely lead to a deadlock.\n",
      "  self.pid = os.fork()\n"
     ]
    },
    {
     "name": "stdout",
     "output_type": "stream",
     "text": [
      "iter  30: ll=344943.846030, converged: 93.61% (loc: 93.61%, scale update: True), in 1.44sec\n",
      "iter  31: ll=344943.328516, converged: 93.61% (loc: 98.22%, scale update: False), in 0.32sec\n",
      "iter  32: ll=344943.279524, converged: 93.61% (loc: 99.58%, scale update: False), in 0.25sec\n",
      "iter  33: ll=344943.279524, converged: 93.61% (loc: 99.84%, scale update: False), in 0.17sec\n",
      "iter  34: ll=344943.279524, converged: 93.61% (loc: 100.00%, scale update: False), in 0.13sec\n",
      "Fitting 122 dispersion models: (progress not available with multiprocessing)"
     ]
    },
    {
     "name": "stderr",
     "output_type": "stream",
     "text": [
      "/usr/lib/python3.10/multiprocessing/popen_fork.py:66: RuntimeWarning: os.fork() was called. os.fork() is incompatible with multithreaded code, and JAX is multithreaded, so this will likely lead to a deadlock.\n",
      "  self.pid = os.fork()\n"
     ]
    },
    {
     "name": "stdout",
     "output_type": "stream",
     "text": [
      "iter  35: ll=344545.358542, converged: 98.06% (loc: 98.06%, scale update: True), in 1.01sec\n",
      "iter  36: ll=344545.356623, converged: 98.06% (loc: 99.58%, scale update: False), in 0.26sec\n",
      "iter  37: ll=344545.356621, converged: 98.06% (loc: 99.74%, scale update: False), in 0.18sec\n",
      "iter  38: ll=344545.356621, converged: 98.06% (loc: 99.95%, scale update: False), in 0.16sec\n",
      "iter  39: ll=344545.356621, converged: 98.06% (loc: 100.00%, scale update: False), in 0.11sec\n",
      "Fitting 37 dispersion models: (progress not available with multiprocessing)"
     ]
    },
    {
     "name": "stderr",
     "output_type": "stream",
     "text": [
      "/usr/lib/python3.10/multiprocessing/popen_fork.py:66: RuntimeWarning: os.fork() was called. os.fork() is incompatible with multithreaded code, and JAX is multithreaded, so this will likely lead to a deadlock.\n",
      "  self.pid = os.fork()\n"
     ]
    },
    {
     "name": "stdout",
     "output_type": "stream",
     "text": [
      "iter  40: ll=344528.852239, converged: 99.48% (loc: 99.48%, scale update: True), in 0.88sec\n",
      "iter  41: ll=344528.852238, converged: 99.48% (loc: 99.79%, scale update: False), in 0.19sec\n",
      "iter  42: ll=344528.852238, converged: 99.48% (loc: 100.00%, scale update: False), in 0.14sec\n",
      "Fitting 10 dispersion models: (progress not available with multiprocessing)"
     ]
    },
    {
     "name": "stderr",
     "output_type": "stream",
     "text": [
      "/usr/lib/python3.10/multiprocessing/popen_fork.py:66: RuntimeWarning: os.fork() was called. os.fork() is incompatible with multithreaded code, and JAX is multithreaded, so this will likely lead to a deadlock.\n",
      "  self.pid = os.fork()\n"
     ]
    },
    {
     "name": "stdout",
     "output_type": "stream",
     "text": [
      "iter  43: ll=344528.852238, converged: 99.79% (loc: 99.79%, scale update: True), in 0.84sec\n",
      "iter  44: ll=344528.852238, converged: 99.79% (loc: 99.90%, scale update: False), in 0.14sec\n",
      "iter  45: ll=344528.852238, converged: 99.79% (loc: 100.00%, scale update: False), in 0.13sec\n",
      "Fitting 4 dispersion models: (progress not available with multiprocessing)"
     ]
    },
    {
     "name": "stderr",
     "output_type": "stream",
     "text": [
      "/usr/lib/python3.10/multiprocessing/popen_fork.py:66: RuntimeWarning: os.fork() was called. os.fork() is incompatible with multithreaded code, and JAX is multithreaded, so this will likely lead to a deadlock.\n",
      "  self.pid = os.fork()\n"
     ]
    },
    {
     "name": "stdout",
     "output_type": "stream",
     "text": [
      "iter  46: ll=344528.852238, converged: 99.90% (loc: 99.90%, scale update: True), in 0.78sec\n",
      "iter  47: ll=344528.852238, converged: 99.90% (loc: 100.00%, scale update: False), in 0.13sec\n",
      "iter  48: ll=344528.852238, converged: 100.00% (loc: 100.00%, scale update: True), in 0.10sec\n"
     ]
    },
    {
     "name": "stderr",
     "output_type": "stream",
     "text": [
      "/usr/local/lib/python3.10/dist-packages/dask/array/core.py:2894: RuntimeWarning: divide by zero encountered in divide\n",
      "  size = (limit / dtype.itemsize / largest_block) ** (1 / len(autos))\n"
     ]
    },
    {
     "name": "stdout",
     "output_type": "stream",
     "text": [
      "In cluster Apop.-NSC:\n",
      "condition\n",
      "Control      1283\n",
      "Parkinson    1198\n",
      "Name: count, dtype: int64\n",
      "filtered out 5750 genes that are detected in less than 50 cells\n"
     ]
    },
    {
     "name": "stderr",
     "output_type": "stream",
     "text": [
      "Built constraints: Donor[UKERi1JF-R1-018]+Donor[UKERiG3G-R1-039]+Donor[UKERi1E4-R1-003]+Donor[UKERiO3H-R1-005]+Donor[UKERi82A-R1-002]=0, Donor[UKERiJ2C-R1-015]+Donor[UKERiM89-R1-005]+Donor[UKERiC99-R1-007]+Donor[UKERiR66-R1-007]+Donor[UKERiAY6-R1-003]+Donor[UKERiPX7-R1-001]+Donor[UKERi88H-R1-002]=0\n"
     ]
    },
    {
     "name": "stdout",
     "output_type": "stream",
     "text": [
      "Testing 11500 genes...\n",
      "\n",
      "training location model: True\n",
      "training scale model: True\n",
      "iter   0: ll=46882672.066510\n",
      "iter   1: ll=46346050.427006, converged: 0.00% (loc: 1.48%, scale update: False), in 10.61sec\n",
      "iter   2: ll=46224623.500957, converged: 0.00% (loc: 6.06%, scale update: False), in 10.51sec\n",
      "iter   3: ll=46208839.479400, converged: 0.00% (loc: 6.06%, scale update: False), in 10.60sec\n",
      "iter   4: ll=46207140.499644, converged: 0.00% (loc: 6.23%, scale update: False), in 9.93sec\n",
      "iter   5: ll=46206898.839182, converged: 0.00% (loc: 11.98%, scale update: False), in 9.99sec\n",
      "Fitting 11500 dispersion models: (progress not available with multiprocessing)"
     ]
    },
    {
     "name": "stderr",
     "output_type": "stream",
     "text": [
      "/usr/lib/python3.10/multiprocessing/popen_fork.py:66: RuntimeWarning: os.fork() was called. os.fork() is incompatible with multithreaded code, and JAX is multithreaded, so this will likely lead to a deadlock.\n",
      "  self.pid = os.fork()\n"
     ]
    },
    {
     "name": "stdout",
     "output_type": "stream",
     "text": [
      "iter   6: ll=19778419.446878, converged: 0.01% (loc: 0.01%, scale update: True), in 62.36sec\n",
      "iter   7: ll=19775295.643282, converged: 0.01% (loc: 4.56%, scale update: False), in 10.85sec\n",
      "iter   8: ll=19774812.079152, converged: 0.01% (loc: 11.37%, scale update: False), in 10.27sec\n",
      "iter   9: ll=19774711.653292, converged: 0.01% (loc: 39.76%, scale update: False), in 9.32sec\n",
      "iter  10: ll=19774688.426808, converged: 0.01% (loc: 68.02%, scale update: False), in 7.49sec\n",
      "iter  11: ll=19774683.878649, converged: 0.01% (loc: 85.82%, scale update: False), in 5.41sec\n",
      "Fitting 11499 dispersion models: (progress not available with multiprocessing)"
     ]
    },
    {
     "name": "stderr",
     "output_type": "stream",
     "text": [
      "/usr/lib/python3.10/multiprocessing/popen_fork.py:66: RuntimeWarning: os.fork() was called. os.fork() is incompatible with multithreaded code, and JAX is multithreaded, so this will likely lead to a deadlock.\n",
      "  self.pid = os.fork()\n"
     ]
    },
    {
     "name": "stdout",
     "output_type": "stream",
     "text": [
      "iter  12: ll=19392381.387676, converged: 3.49% (loc: 3.49%, scale update: True), in 67.56sec\n",
      "iter  13: ll=19392215.307645, converged: 3.49% (loc: 33.61%, scale update: False), in 10.96sec\n",
      "iter  14: ll=19392202.960180, converged: 3.49% (loc: 67.07%, scale update: False), in 7.87sec\n",
      "iter  15: ll=19392202.648992, converged: 3.49% (loc: 88.37%, scale update: False), in 5.38sec\n",
      "iter  16: ll=19392202.627400, converged: 3.49% (loc: 94.08%, scale update: False), in 3.88sec\n",
      "iter  17: ll=19392202.620769, converged: 3.49% (loc: 95.14%, scale update: False), in 3.30sec\n",
      "Fitting 11099 dispersion models: (progress not available with multiprocessing)"
     ]
    },
    {
     "name": "stderr",
     "output_type": "stream",
     "text": [
      "/usr/lib/python3.10/multiprocessing/popen_fork.py:66: RuntimeWarning: os.fork() was called. os.fork() is incompatible with multithreaded code, and JAX is multithreaded, so this will likely lead to a deadlock.\n",
      "  self.pid = os.fork()\n"
     ]
    },
    {
     "name": "stdout",
     "output_type": "stream",
     "text": [
      "iter  18: ll=19185863.796285, converged: 32.08% (loc: 32.08%, scale update: True), in 62.23sec\n",
      "iter  19: ll=19185833.547789, converged: 32.08% (loc: 84.08%, scale update: False), in 8.45sec\n",
      "iter  20: ll=19185833.537745, converged: 32.08% (loc: 94.37%, scale update: False), in 4.50sec\n",
      "iter  21: ll=19185833.537393, converged: 32.08% (loc: 95.52%, scale update: False), in 3.15sec\n",
      "iter  22: ll=19185833.537333, converged: 32.08% (loc: 97.06%, scale update: False), in 3.07sec\n",
      "iter  23: ll=19185833.537315, converged: 32.08% (loc: 99.17%, scale update: False), in 2.88sec\n",
      "Fitting 7811 dispersion models: (progress not available with multiprocessing)"
     ]
    },
    {
     "name": "stderr",
     "output_type": "stream",
     "text": [
      "/usr/lib/python3.10/multiprocessing/popen_fork.py:66: RuntimeWarning: os.fork() was called. os.fork() is incompatible with multithreaded code, and JAX is multithreaded, so this will likely lead to a deadlock.\n",
      "  self.pid = os.fork()\n"
     ]
    },
    {
     "name": "stdout",
     "output_type": "stream",
     "text": [
      "iter  24: ll=19124089.162636, converged: 82.97% (loc: 82.97%, scale update: True), in 48.23sec\n",
      "iter  25: ll=19124077.177234, converged: 82.97% (loc: 99.00%, scale update: False), in 4.60sec\n",
      "iter  26: ll=19124077.166663, converged: 82.97% (loc: 99.86%, scale update: False), in 2.23sec\n",
      "iter  27: ll=19124077.166663, converged: 82.97% (loc: 99.97%, scale update: False), in 0.79sec\n",
      "iter  28: ll=19124077.166663, converged: 82.97% (loc: 99.99%, scale update: False), in 0.45sec\n",
      "iter  29: ll=19124077.166663, converged: 82.97% (loc: 100.00%, scale update: False), in 0.42sec\n",
      "Fitting 1958 dispersion models: (progress not available with multiprocessing)"
     ]
    },
    {
     "name": "stderr",
     "output_type": "stream",
     "text": [
      "/usr/lib/python3.10/multiprocessing/popen_fork.py:66: RuntimeWarning: os.fork() was called. os.fork() is incompatible with multithreaded code, and JAX is multithreaded, so this will likely lead to a deadlock.\n",
      "  self.pid = os.fork()\n"
     ]
    },
    {
     "name": "stdout",
     "output_type": "stream",
     "text": [
      "iter  30: ll=19113276.776247, converged: 98.77% (loc: 98.77%, scale update: True), in 17.91sec\n",
      "iter  31: ll=19113273.109500, converged: 98.77% (loc: 99.95%, scale update: False), in 2.41sec\n",
      "iter  32: ll=19113273.109500, converged: 98.77% (loc: 100.00%, scale update: False), in 0.52sec\n",
      "Fitting 141 dispersion models: (progress not available with multiprocessing)"
     ]
    },
    {
     "name": "stderr",
     "output_type": "stream",
     "text": [
      "/usr/lib/python3.10/multiprocessing/popen_fork.py:66: RuntimeWarning: os.fork() was called. os.fork() is incompatible with multithreaded code, and JAX is multithreaded, so this will likely lead to a deadlock.\n",
      "  self.pid = os.fork()\n"
     ]
    },
    {
     "name": "stdout",
     "output_type": "stream",
     "text": [
      "iter  33: ll=19111758.806299, converged: 99.90% (loc: 99.90%, scale update: True), in 10.23sec\n",
      "iter  34: ll=19111758.806299, converged: 99.90% (loc: 100.00%, scale update: False), in 0.65sec\n",
      "Fitting 11 dispersion models: (progress not available with multiprocessing)"
     ]
    },
    {
     "name": "stderr",
     "output_type": "stream",
     "text": [
      "/usr/lib/python3.10/multiprocessing/popen_fork.py:66: RuntimeWarning: os.fork() was called. os.fork() is incompatible with multithreaded code, and JAX is multithreaded, so this will likely lead to a deadlock.\n",
      "  self.pid = os.fork()\n"
     ]
    },
    {
     "name": "stdout",
     "output_type": "stream",
     "text": [
      "iter  35: ll=19111736.273089, converged: 99.99% (loc: 99.99%, scale update: True), in 8.73sec\n",
      "iter  36: ll=19111736.273089, converged: 99.99% (loc: 100.00%, scale update: False), in 0.37sec\n",
      "iter  37: ll=19111736.273089, converged: 100.00% (loc: 100.00%, scale update: True), in 0.35sec\n"
     ]
    },
    {
     "name": "stderr",
     "output_type": "stream",
     "text": [
      "/usr/local/lib/python3.10/dist-packages/dask/array/core.py:2894: RuntimeWarning: divide by zero encountered in divide\n",
      "  size = (limit / dtype.itemsize / largest_block) ** (1 / len(autos))\n"
     ]
    },
    {
     "name": "stdout",
     "output_type": "stream",
     "text": [
      "In cluster Glial-precursors:\n",
      "condition\n",
      "Control      646\n",
      "Parkinson    250\n",
      "Name: count, dtype: int64\n",
      "filtered out 6075 genes that are detected in less than 50 cells\n"
     ]
    },
    {
     "name": "stderr",
     "output_type": "stream",
     "text": [
      "Built constraints: Donor[UKERi1JF-R1-018]+Donor[UKERiG3G-R1-039]+Donor[UKERi1E4-R1-003]+Donor[UKERiO3H-R1-005]+Donor[UKERi82A-R1-002]=0, Donor[UKERiJ2C-R1-015]+Donor[UKERiM89-R1-005]+Donor[UKERiC99-R1-007]+Donor[UKERiR66-R1-007]+Donor[UKERiAY6-R1-003]+Donor[UKERiPX7-R1-001]+Donor[UKERi88H-R1-002]=0\n"
     ]
    },
    {
     "name": "stdout",
     "output_type": "stream",
     "text": [
      "Testing 11175 genes...\n",
      "\n",
      "training location model: True\n",
      "training scale model: True\n",
      "iter   0: ll=18014941.981922\n",
      "iter   1: ll=17525258.364706, converged: 0.00% (loc: 0.13%, scale update: False), in 4.86sec\n",
      "iter   2: ll=17441454.697006, converged: 0.00% (loc: 2.16%, scale update: False), in 4.39sec\n",
      "iter   3: ll=17434619.083642, converged: 0.00% (loc: 2.16%, scale update: False), in 4.31sec\n",
      "iter   4: ll=17433724.451869, converged: 0.00% (loc: 2.25%, scale update: False), in 4.74sec\n",
      "iter   5: ll=17433477.891575, converged: 0.00% (loc: 8.65%, scale update: False), in 4.61sec\n",
      "Fitting 11175 dispersion models: (progress not available with multiprocessing)"
     ]
    },
    {
     "name": "stderr",
     "output_type": "stream",
     "text": [
      "/usr/lib/python3.10/multiprocessing/popen_fork.py:66: RuntimeWarning: os.fork() was called. os.fork() is incompatible with multithreaded code, and JAX is multithreaded, so this will likely lead to a deadlock.\n",
      "  self.pid = os.fork()\n"
     ]
    },
    {
     "name": "stdout",
     "output_type": "stream",
     "text": [
      "iter   6: ll=10044384.047805, converged: 0.00% (loc: 0.00%, scale update: True), in 29.38sec\n",
      "iter   7: ll=10042283.312213, converged: 0.00% (loc: 1.64%, scale update: False), in 4.67sec\n",
      "iter   8: ll=10042097.536886, converged: 0.00% (loc: 3.40%, scale update: False), in 4.46sec\n",
      "iter   9: ll=10042051.883823, converged: 0.00% (loc: 20.01%, scale update: False), in 4.81sec\n",
      "iter  10: ll=10042040.068723, converged: 0.00% (loc: 44.10%, scale update: False), in 3.87sec\n",
      "iter  11: ll=10042035.926243, converged: 0.00% (loc: 58.92%, scale update: False), in 3.52sec\n",
      "Fitting 11175 dispersion models: (progress not available with multiprocessing)"
     ]
    },
    {
     "name": "stderr",
     "output_type": "stream",
     "text": [
      "/usr/lib/python3.10/multiprocessing/popen_fork.py:66: RuntimeWarning: os.fork() was called. os.fork() is incompatible with multithreaded code, and JAX is multithreaded, so this will likely lead to a deadlock.\n",
      "  self.pid = os.fork()\n"
     ]
    },
    {
     "name": "stdout",
     "output_type": "stream",
     "text": [
      "iter  12: ll=9922461.151048, converged: 1.15% (loc: 1.15%, scale update: True), in 28.94sec\n",
      "iter  13: ll=9922404.869155, converged: 1.15% (loc: 15.97%, scale update: False), in 4.48sec\n",
      "iter  14: ll=9922397.113826, converged: 1.15% (loc: 41.32%, scale update: False), in 4.34sec\n",
      "iter  15: ll=9922395.065147, converged: 1.15% (loc: 62.36%, scale update: False), in 3.41sec\n",
      "iter  16: ll=9922394.245459, converged: 1.15% (loc: 70.78%, scale update: False), in 2.93sec\n",
      "iter  17: ll=9922393.790173, converged: 1.15% (loc: 72.34%, scale update: False), in 2.91sec\n",
      "Fitting 11046 dispersion models: (progress not available with multiprocessing)"
     ]
    },
    {
     "name": "stderr",
     "output_type": "stream",
     "text": [
      "/usr/lib/python3.10/multiprocessing/popen_fork.py:66: RuntimeWarning: os.fork() was called. os.fork() is incompatible with multithreaded code, and JAX is multithreaded, so this will likely lead to a deadlock.\n",
      "  self.pid = os.fork()\n"
     ]
    },
    {
     "name": "stdout",
     "output_type": "stream",
     "text": [
      "iter  18: ll=9854660.497972, converged: 15.34% (loc: 15.34%, scale update: True), in 28.60sec\n",
      "iter  19: ll=9854650.708504, converged: 15.34% (loc: 59.08%, scale update: False), in 4.26sec\n",
      "iter  20: ll=9854650.683766, converged: 15.34% (loc: 72.06%, scale update: False), in 3.02sec\n",
      "iter  21: ll=9854650.681004, converged: 15.34% (loc: 89.35%, scale update: False), in 2.58sec\n",
      "iter  22: ll=9854650.680122, converged: 15.34% (loc: 94.34%, scale update: False), in 2.44sec\n",
      "iter  23: ll=9854650.679782, converged: 15.34% (loc: 98.50%, scale update: False), in 1.82sec\n",
      "Fitting 9461 dispersion models: (progress not available with multiprocessing)"
     ]
    },
    {
     "name": "stderr",
     "output_type": "stream",
     "text": [
      "/usr/lib/python3.10/multiprocessing/popen_fork.py:66: RuntimeWarning: os.fork() was called. os.fork() is incompatible with multithreaded code, and JAX is multithreaded, so this will likely lead to a deadlock.\n",
      "  self.pid = os.fork()\n"
     ]
    },
    {
     "name": "stdout",
     "output_type": "stream",
     "text": [
      "iter  24: ll=9829758.775276, converged: 58.36% (loc: 58.36%, scale update: True), in 25.17sec\n",
      "iter  25: ll=9829750.526629, converged: 58.36% (loc: 98.39%, scale update: False), in 3.15sec\n",
      "iter  26: ll=9829750.526571, converged: 58.36% (loc: 99.74%, scale update: False), in 1.71sec\n",
      "iter  27: ll=9829750.526570, converged: 58.36% (loc: 99.97%, scale update: False), in 0.65sec\n",
      "iter  28: ll=9829750.526570, converged: 58.36% (loc: 100.00%, scale update: False), in 0.36sec\n",
      "Fitting 4653 dispersion models: (progress not available with multiprocessing)"
     ]
    },
    {
     "name": "stderr",
     "output_type": "stream",
     "text": [
      "/usr/lib/python3.10/multiprocessing/popen_fork.py:66: RuntimeWarning: os.fork() was called. os.fork() is incompatible with multithreaded code, and JAX is multithreaded, so this will likely lead to a deadlock.\n",
      "  self.pid = os.fork()\n"
     ]
    },
    {
     "name": "stdout",
     "output_type": "stream",
     "text": [
      "iter  29: ll=9822668.050354, converged: 98.08% (loc: 98.08%, scale update: True), in 14.85sec\n",
      "iter  30: ll=9822663.992750, converged: 98.08% (loc: 99.83%, scale update: False), in 1.73sec\n",
      "iter  31: ll=9822663.992750, converged: 98.08% (loc: 100.00%, scale update: False), in 0.60sec\n",
      "Fitting 215 dispersion models: (progress not available with multiprocessing)"
     ]
    },
    {
     "name": "stderr",
     "output_type": "stream",
     "text": [
      "/usr/lib/python3.10/multiprocessing/popen_fork.py:66: RuntimeWarning: os.fork() was called. os.fork() is incompatible with multithreaded code, and JAX is multithreaded, so this will likely lead to a deadlock.\n",
      "  self.pid = os.fork()\n"
     ]
    },
    {
     "name": "stdout",
     "output_type": "stream",
     "text": [
      "iter  32: ll=9822535.054477, converged: 99.79% (loc: 99.79%, scale update: True), in 6.90sec\n",
      "iter  33: ll=9822535.039005, converged: 99.79% (loc: 99.98%, scale update: False), in 0.63sec\n",
      "iter  34: ll=9822535.039005, converged: 99.79% (loc: 100.00%, scale update: False), in 0.35sec\n",
      "Fitting 23 dispersion models: (progress not available with multiprocessing)"
     ]
    },
    {
     "name": "stderr",
     "output_type": "stream",
     "text": [
      "/usr/lib/python3.10/multiprocessing/popen_fork.py:66: RuntimeWarning: os.fork() was called. os.fork() is incompatible with multithreaded code, and JAX is multithreaded, so this will likely lead to a deadlock.\n",
      "  self.pid = os.fork()\n"
     ]
    },
    {
     "name": "stdout",
     "output_type": "stream",
     "text": [
      "iter  35: ll=9822535.039005, converged: 99.98% (loc: 99.98%, scale update: True), in 5.73sec\n",
      "iter  36: ll=9822535.039005, converged: 99.98% (loc: 100.00%, scale update: False), in 0.34sec\n",
      "iter  37: ll=9822535.039005, converged: 100.00% (loc: 100.00%, scale update: True), in 0.33sec\n"
     ]
    },
    {
     "name": "stderr",
     "output_type": "stream",
     "text": [
      "/usr/local/lib/python3.10/dist-packages/dask/array/core.py:2894: RuntimeWarning: divide by zero encountered in divide\n",
      "  size = (limit / dtype.itemsize / largest_block) ** (1 / len(autos))\n"
     ]
    },
    {
     "name": "stdout",
     "output_type": "stream",
     "text": [
      "In cluster Immature-neurons:\n",
      "condition\n",
      "Parkinson    482\n",
      "Control      428\n",
      "Name: count, dtype: int64\n",
      "filtered out 5617 genes that are detected in less than 50 cells\n"
     ]
    },
    {
     "name": "stderr",
     "output_type": "stream",
     "text": [
      "Built constraints: Donor[UKERi1JF-R1-018]+Donor[UKERiG3G-R1-039]+Donor[UKERi1E4-R1-003]+Donor[UKERiO3H-R1-005]+Donor[UKERi82A-R1-002]=0, Donor[UKERiJ2C-R1-015]+Donor[UKERiM89-R1-005]+Donor[UKERiC99-R1-007]+Donor[UKERiR66-R1-007]+Donor[UKERiAY6-R1-003]+Donor[UKERiPX7-R1-001]+Donor[UKERi88H-R1-002]=0\n"
     ]
    },
    {
     "name": "stdout",
     "output_type": "stream",
     "text": [
      "Testing 11633 genes...\n",
      "\n",
      "training location model: True\n",
      "training scale model: True\n",
      "iter   0: ll=16091508.800123\n",
      "iter   1: ll=15595768.176879, converged: 0.00% (loc: 0.25%, scale update: False), in 4.76sec\n",
      "iter   2: ll=15468678.029671, converged: 0.00% (loc: 1.58%, scale update: False), in 4.92sec\n",
      "iter   3: ll=15450053.698203, converged: 0.00% (loc: 1.58%, scale update: False), in 4.97sec\n",
      "iter   4: ll=15447212.497443, converged: 0.00% (loc: 1.67%, scale update: False), in 4.82sec\n",
      "iter   5: ll=15446707.906686, converged: 0.00% (loc: 4.26%, scale update: False), in 4.68sec\n",
      "Fitting 11633 dispersion models: (progress not available with multiprocessing)"
     ]
    },
    {
     "name": "stderr",
     "output_type": "stream",
     "text": [
      "/usr/lib/python3.10/multiprocessing/popen_fork.py:66: RuntimeWarning: os.fork() was called. os.fork() is incompatible with multithreaded code, and JAX is multithreaded, so this will likely lead to a deadlock.\n",
      "  self.pid = os.fork()\n"
     ]
    },
    {
     "name": "stdout",
     "output_type": "stream",
     "text": [
      "iter   6: ll=10786079.599115, converged: 0.00% (loc: 0.00%, scale update: True), in 30.84sec\n",
      "iter   7: ll=10781718.883118, converged: 0.00% (loc: 1.13%, scale update: False), in 4.76sec\n",
      "iter   8: ll=10781213.751509, converged: 0.00% (loc: 2.42%, scale update: False), in 4.81sec\n",
      "iter   9: ll=10781124.451331, converged: 0.00% (loc: 13.07%, scale update: False), in 4.59sec\n",
      "iter  10: ll=10781103.341924, converged: 0.00% (loc: 28.44%, scale update: False), in 4.55sec\n",
      "iter  11: ll=10781095.536146, converged: 0.00% (loc: 39.02%, scale update: False), in 3.97sec\n",
      "Fitting 11633 dispersion models: (progress not available with multiprocessing)"
     ]
    },
    {
     "name": "stderr",
     "output_type": "stream",
     "text": [
      "/usr/lib/python3.10/multiprocessing/popen_fork.py:66: RuntimeWarning: os.fork() was called. os.fork() is incompatible with multithreaded code, and JAX is multithreaded, so this will likely lead to a deadlock.\n",
      "  self.pid = os.fork()\n"
     ]
    },
    {
     "name": "stdout",
     "output_type": "stream",
     "text": [
      "iter  12: ll=10698835.742807, converged: 0.86% (loc: 0.86%, scale update: True), in 30.97sec\n",
      "iter  13: ll=10698778.550860, converged: 0.86% (loc: 14.67%, scale update: False), in 4.88sec\n",
      "iter  14: ll=10698770.762750, converged: 0.86% (loc: 28.66%, scale update: False), in 4.48sec\n",
      "iter  15: ll=10698769.495940, converged: 0.86% (loc: 39.90%, scale update: False), in 3.90sec\n",
      "iter  16: ll=10698768.878640, converged: 0.86% (loc: 48.10%, scale update: False), in 3.43sec\n",
      "iter  17: ll=10698768.513001, converged: 0.86% (loc: 53.61%, scale update: False), in 3.22sec\n",
      "Fitting 11533 dispersion models: (progress not available with multiprocessing)"
     ]
    },
    {
     "name": "stderr",
     "output_type": "stream",
     "text": [
      "/usr/lib/python3.10/multiprocessing/popen_fork.py:66: RuntimeWarning: os.fork() was called. os.fork() is incompatible with multithreaded code, and JAX is multithreaded, so this will likely lead to a deadlock.\n",
      "  self.pid = os.fork()\n"
     ]
    },
    {
     "name": "stdout",
     "output_type": "stream",
     "text": [
      "iter  18: ll=10656230.802946, converged: 14.15% (loc: 14.15%, scale update: True), in 30.40sec\n",
      "iter  19: ll=10656223.496576, converged: 14.15% (loc: 38.15%, scale update: False), in 4.59sec\n",
      "iter  20: ll=10656223.192467, converged: 14.15% (loc: 58.80%, scale update: False), in 3.69sec\n",
      "iter  21: ll=10656222.942484, converged: 14.15% (loc: 87.14%, scale update: False), in 3.17sec\n",
      "iter  22: ll=10656222.773713, converged: 14.15% (loc: 94.68%, scale update: False), in 2.24sec\n",
      "iter  23: ll=10656222.708207, converged: 14.15% (loc: 97.54%, scale update: False), in 2.22sec\n",
      "Fitting 9987 dispersion models: (progress not available with multiprocessing)"
     ]
    },
    {
     "name": "stderr",
     "output_type": "stream",
     "text": [
      "/usr/lib/python3.10/multiprocessing/popen_fork.py:66: RuntimeWarning: os.fork() was called. os.fork() is incompatible with multithreaded code, and JAX is multithreaded, so this will likely lead to a deadlock.\n",
      "  self.pid = os.fork()\n"
     ]
    },
    {
     "name": "stdout",
     "output_type": "stream",
     "text": [
      "iter  24: ll=10637105.867412, converged: 37.67% (loc: 37.67%, scale update: True), in 26.75sec\n",
      "iter  25: ll=10637104.823575, converged: 37.67% (loc: 89.18%, scale update: False), in 3.73sec\n",
      "iter  26: ll=10637104.812015, converged: 37.67% (loc: 97.46%, scale update: False), in 2.28sec\n",
      "iter  27: ll=10637104.811992, converged: 37.67% (loc: 99.43%, scale update: False), in 1.82sec\n",
      "iter  28: ll=10637104.811988, converged: 37.67% (loc: 99.82%, scale update: False), in 1.01sec\n",
      "iter  29: ll=10637104.811988, converged: 37.67% (loc: 99.97%, scale update: False), in 0.83sec\n",
      "Fitting 7251 dispersion models: (progress not available with multiprocessing)"
     ]
    },
    {
     "name": "stderr",
     "output_type": "stream",
     "text": [
      "/usr/lib/python3.10/multiprocessing/popen_fork.py:66: RuntimeWarning: os.fork() was called. os.fork() is incompatible with multithreaded code, and JAX is multithreaded, so this will likely lead to a deadlock.\n",
      "  self.pid = os.fork()\n"
     ]
    },
    {
     "name": "stdout",
     "output_type": "stream",
     "text": [
      "iter  30: ll=10630058.633253, converged: 88.76% (loc: 88.76%, scale update: True), in 20.69sec\n",
      "iter  31: ll=10630052.897085, converged: 88.76% (loc: 98.80%, scale update: False), in 2.25sec\n",
      "iter  32: ll=10630052.896785, converged: 88.76% (loc: 99.79%, scale update: False), in 1.48sec\n",
      "iter  33: ll=10630052.896785, converged: 88.76% (loc: 99.97%, scale update: False), in 0.69sec\n",
      "iter  34: ll=10630052.896785, converged: 88.76% (loc: 99.99%, scale update: False), in 0.39sec\n",
      "iter  35: ll=10630052.896785, converged: 88.76% (loc: 100.00%, scale update: False), in 0.32sec\n",
      "Fitting 1307 dispersion models: (progress not available with multiprocessing)"
     ]
    },
    {
     "name": "stderr",
     "output_type": "stream",
     "text": [
      "/usr/lib/python3.10/multiprocessing/popen_fork.py:66: RuntimeWarning: os.fork() was called. os.fork() is incompatible with multithreaded code, and JAX is multithreaded, so this will likely lead to a deadlock.\n",
      "  self.pid = os.fork()\n"
     ]
    },
    {
     "name": "stdout",
     "output_type": "stream",
     "text": [
      "iter  36: ll=10628007.618269, converged: 98.68% (loc: 98.68%, scale update: True), in 8.46sec\n",
      "caught 1 linalg singular matrix errors\n",
      "iter  37: ll=10628007.618267, converged: 98.68% (loc: 99.87%, scale update: False), in 1.62sec\n",
      "caught 3 linalg singular matrix errors\n",
      "iter  38: ll=10628007.618267, converged: 98.68% (loc: 100.00%, scale update: False), in 0.85sec\n",
      "Fitting 153 dispersion models: (progress not available with multiprocessing)"
     ]
    },
    {
     "name": "stderr",
     "output_type": "stream",
     "text": [
      "/usr/lib/python3.10/multiprocessing/popen_fork.py:66: RuntimeWarning: os.fork() was called. os.fork() is incompatible with multithreaded code, and JAX is multithreaded, so this will likely lead to a deadlock.\n",
      "  self.pid = os.fork()\n"
     ]
    },
    {
     "name": "stdout",
     "output_type": "stream",
     "text": [
      "iter  39: ll=10627596.689996, converged: 99.85% (loc: 99.85%, scale update: True), in 6.50sec\n",
      "caught 7 linalg singular matrix errors\n",
      "iter  40: ll=10627596.689996, converged: 99.85% (loc: 100.00%, scale update: False), in 0.57sec\n",
      "Fitting 18 dispersion models: (progress not available with multiprocessing)"
     ]
    },
    {
     "name": "stderr",
     "output_type": "stream",
     "text": [
      "/usr/lib/python3.10/multiprocessing/popen_fork.py:66: RuntimeWarning: os.fork() was called. os.fork() is incompatible with multithreaded code, and JAX is multithreaded, so this will likely lead to a deadlock.\n",
      "  self.pid = os.fork()\n"
     ]
    },
    {
     "name": "stdout",
     "output_type": "stream",
     "text": [
      "iter  41: ll=10627596.689996, converged: 100.00% (loc: 100.00%, scale update: True), in 5.26sec\n"
     ]
    },
    {
     "name": "stderr",
     "output_type": "stream",
     "text": [
      "/usr/local/lib/python3.10/dist-packages/dask/array/core.py:2894: RuntimeWarning: divide by zero encountered in divide\n",
      "  size = (limit / dtype.itemsize / largest_block) ** (1 / len(autos))\n"
     ]
    },
    {
     "name": "stdout",
     "output_type": "stream",
     "text": [
      "In cluster NCSC:\n",
      "condition\n",
      "Control      1663\n",
      "Parkinson    1197\n",
      "Name: count, dtype: int64\n",
      "filtered out 3979 genes that are detected in less than 50 cells\n"
     ]
    },
    {
     "name": "stderr",
     "output_type": "stream",
     "text": [
      "Built constraints: Donor[UKERi1JF-R1-018]+Donor[UKERiG3G-R1-039]+Donor[UKERi1E4-R1-003]+Donor[UKERiO3H-R1-005]+Donor[UKERi82A-R1-002]=0, Donor[UKERiJ2C-R1-015]+Donor[UKERiM89-R1-005]+Donor[UKERiC99-R1-007]+Donor[UKERiR66-R1-007]+Donor[UKERiAY6-R1-003]+Donor[UKERiPX7-R1-001]+Donor[UKERi88H-R1-002]=0\n"
     ]
    },
    {
     "name": "stdout",
     "output_type": "stream",
     "text": [
      "Testing 13271 genes...\n",
      "\n",
      "training location model: True\n",
      "training scale model: True\n",
      "iter   0: ll=41474232.033009\n",
      "iter   1: ll=39601192.619094, converged: 0.00% (loc: 0.55%, scale update: False), in 14.51sec\n",
      "iter   2: ll=39192301.807984, converged: 0.00% (loc: 1.12%, scale update: False), in 14.46sec\n",
      "iter   3: ll=39140450.867781, converged: 0.00% (loc: 1.12%, scale update: False), in 14.15sec\n",
      "iter   4: ll=39132282.073175, converged: 0.00% (loc: 1.12%, scale update: False), in 14.45sec\n",
      "iter   5: ll=39130533.258528, converged: 0.00% (loc: 2.23%, scale update: False), in 14.15sec\n",
      "Fitting 13271 dispersion models: (progress not available with multiprocessing)"
     ]
    },
    {
     "name": "stderr",
     "output_type": "stream",
     "text": [
      "/usr/lib/python3.10/multiprocessing/popen_fork.py:66: RuntimeWarning: os.fork() was called. os.fork() is incompatible with multithreaded code, and JAX is multithreaded, so this will likely lead to a deadlock.\n",
      "  self.pid = os.fork()\n"
     ]
    },
    {
     "name": "stdout",
     "output_type": "stream",
     "text": [
      "iter   6: ll=35705534.323075, converged: 0.00% (loc: 0.00%, scale update: True), in 88.13sec\n",
      "iter   7: ll=35693429.047655, converged: 0.00% (loc: 0.86%, scale update: False), in 14.37sec\n",
      "iter   8: ll=35691949.821747, converged: 0.00% (loc: 1.61%, scale update: False), in 14.60sec\n",
      "iter   9: ll=35691624.373314, converged: 0.00% (loc: 10.55%, scale update: False), in 14.59sec\n",
      "iter  10: ll=35691516.109625, converged: 0.00% (loc: 30.33%, scale update: False), in 12.83sec\n",
      "iter  11: ll=35691471.994786, converged: 0.00% (loc: 47.90%, scale update: False), in 10.72sec\n",
      "Fitting 13271 dispersion models: (progress not available with multiprocessing)"
     ]
    },
    {
     "name": "stderr",
     "output_type": "stream",
     "text": [
      "/usr/lib/python3.10/multiprocessing/popen_fork.py:66: RuntimeWarning: os.fork() was called. os.fork() is incompatible with multithreaded code, and JAX is multithreaded, so this will likely lead to a deadlock.\n",
      "  self.pid = os.fork()\n"
     ]
    },
    {
     "name": "stdout",
     "output_type": "stream",
     "text": [
      "iter  12: ll=35613146.174669, converged: 0.75% (loc: 0.75%, scale update: True), in 86.77sec\n",
      "iter  13: ll=35613031.091788, converged: 0.75% (loc: 9.68%, scale update: False), in 14.40sec\n",
      "iter  14: ll=35613002.982603, converged: 0.75% (loc: 27.85%, scale update: False), in 13.76sec\n",
      "iter  15: ll=35612985.710899, converged: 0.75% (loc: 46.72%, scale update: False), in 11.46sec\n",
      "iter  16: ll=35612976.898168, converged: 0.75% (loc: 63.72%, scale update: False), in 8.98sec\n",
      "iter  17: ll=35612974.874107, converged: 0.75% (loc: 78.28%, scale update: False), in 7.34sec\n",
      "Fitting 13171 dispersion models: (progress not available with multiprocessing)"
     ]
    },
    {
     "name": "stderr",
     "output_type": "stream",
     "text": [
      "/usr/lib/python3.10/multiprocessing/popen_fork.py:66: RuntimeWarning: os.fork() was called. os.fork() is incompatible with multithreaded code, and JAX is multithreaded, so this will likely lead to a deadlock.\n",
      "  self.pid = os.fork()\n"
     ]
    },
    {
     "name": "stdout",
     "output_type": "stream",
     "text": [
      "iter  18: ll=35581889.434979, converged: 9.39% (loc: 9.39%, scale update: True), in 86.22sec\n",
      "iter  19: ll=35581884.834315, converged: 9.39% (loc: 44.07%, scale update: False), in 13.92sec\n",
      "iter  20: ll=35581884.798409, converged: 9.39% (loc: 65.99%, scale update: False), in 10.35sec\n",
      "iter  21: ll=35581884.792976, converged: 9.39% (loc: 83.93%, scale update: False), in 7.41sec\n",
      "iter  22: ll=35581884.791602, converged: 9.39% (loc: 92.76%, scale update: False), in 5.34sec\n",
      "iter  23: ll=35581884.791179, converged: 9.39% (loc: 95.98%, scale update: False), in 4.36sec\n",
      "Fitting 12025 dispersion models: (progress not available with multiprocessing)"
     ]
    },
    {
     "name": "stderr",
     "output_type": "stream",
     "text": [
      "/usr/lib/python3.10/multiprocessing/popen_fork.py:66: RuntimeWarning: os.fork() was called. os.fork() is incompatible with multithreaded code, and JAX is multithreaded, so this will likely lead to a deadlock.\n",
      "  self.pid = os.fork()\n"
     ]
    },
    {
     "name": "stdout",
     "output_type": "stream",
     "text": [
      "iter  24: ll=35560715.273859, converged: 43.81% (loc: 43.81%, scale update: True), in 79.66sec\n",
      "iter  25: ll=35560714.476285, converged: 43.81% (loc: 88.32%, scale update: False), in 9.33sec\n",
      "iter  26: ll=35560714.475747, converged: 43.81% (loc: 97.89%, scale update: False), in 4.63sec\n",
      "iter  27: ll=35560714.475669, converged: 43.81% (loc: 99.25%, scale update: False), in 3.56sec\n",
      "iter  28: ll=35560714.475653, converged: 43.81% (loc: 99.76%, scale update: False), in 2.25sec\n",
      "iter  29: ll=35560714.475649, converged: 43.81% (loc: 99.92%, scale update: False), in 1.15sec\n",
      "Fitting 7457 dispersion models: (progress not available with multiprocessing)"
     ]
    },
    {
     "name": "stderr",
     "output_type": "stream",
     "text": [
      "/usr/lib/python3.10/multiprocessing/popen_fork.py:66: RuntimeWarning: os.fork() was called. os.fork() is incompatible with multithreaded code, and JAX is multithreaded, so this will likely lead to a deadlock.\n",
      "  self.pid = os.fork()\n"
     ]
    },
    {
     "name": "stdout",
     "output_type": "stream",
     "text": [
      "iter  30: ll=35557275.065191, converged: 88.10% (loc: 88.10%, scale update: True), in 52.83sec\n",
      "iter  31: ll=35557275.064986, converged: 88.10% (loc: 99.21%, scale update: False), in 4.77sec\n",
      "iter  32: ll=35557275.064966, converged: 88.10% (loc: 99.68%, scale update: False), in 2.46sec\n",
      "iter  33: ll=35557275.064963, converged: 88.10% (loc: 99.92%, scale update: False), in 1.51sec\n",
      "iter  34: ll=35557275.064963, converged: 88.10% (loc: 99.98%, scale update: False), in 0.76sec\n",
      "iter  35: ll=35557275.064963, converged: 88.10% (loc: 99.99%, scale update: False), in 0.54sec\n",
      "Fitting 1579 dispersion models: (progress not available with multiprocessing)"
     ]
    },
    {
     "name": "stderr",
     "output_type": "stream",
     "text": [
      "/usr/lib/python3.10/multiprocessing/popen_fork.py:66: RuntimeWarning: os.fork() was called. os.fork() is incompatible with multithreaded code, and JAX is multithreaded, so this will likely lead to a deadlock.\n",
      "  self.pid = os.fork()\n"
     ]
    },
    {
     "name": "stdout",
     "output_type": "stream",
     "text": [
      "iter  36: ll=35554291.865363, converged: 99.11% (loc: 99.11%, scale update: True), in 22.76sec\n",
      "iter  37: ll=35554286.336364, converged: 99.11% (loc: 99.78%, scale update: False), in 2.53sec\n",
      "iter  38: ll=35554286.336363, converged: 99.11% (loc: 99.95%, scale update: False), in 1.12sec\n",
      "iter  39: ll=35554286.336363, converged: 99.11% (loc: 99.98%, scale update: False), in 0.60sec\n",
      "iter  40: ll=35554286.336362, converged: 99.11% (loc: 100.00%, scale update: False), in 0.48sec\n",
      "Fitting 118 dispersion models: (progress not available with multiprocessing)"
     ]
    },
    {
     "name": "stderr",
     "output_type": "stream",
     "text": [
      "/usr/lib/python3.10/multiprocessing/popen_fork.py:66: RuntimeWarning: os.fork() was called. os.fork() is incompatible with multithreaded code, and JAX is multithreaded, so this will likely lead to a deadlock.\n",
      "  self.pid = os.fork()\n"
     ]
    },
    {
     "name": "stdout",
     "output_type": "stream",
     "text": [
      "iter  41: ll=35554286.336360, converged: 99.77% (loc: 99.77%, scale update: True), in 14.90sec\n",
      "iter  42: ll=35554286.336359, converged: 99.77% (loc: 99.98%, scale update: False), in 1.09sec\n",
      "iter  43: ll=35554286.336359, converged: 99.77% (loc: 100.00%, scale update: False), in 0.52sec\n",
      "Fitting 30 dispersion models: (progress not available with multiprocessing)"
     ]
    },
    {
     "name": "stderr",
     "output_type": "stream",
     "text": [
      "/usr/lib/python3.10/multiprocessing/popen_fork.py:66: RuntimeWarning: os.fork() was called. os.fork() is incompatible with multithreaded code, and JAX is multithreaded, so this will likely lead to a deadlock.\n",
      "  self.pid = os.fork()\n"
     ]
    },
    {
     "name": "stdout",
     "output_type": "stream",
     "text": [
      "iter  44: ll=35554286.336359, converged: 99.95% (loc: 99.95%, scale update: True), in 12.17sec\n",
      "caught 2 linalg singular matrix errors\n",
      "iter  45: ll=35554286.336359, converged: 99.95% (loc: 100.00%, scale update: False), in 0.57sec\n",
      "Fitting 7 dispersion models: (progress not available with multiprocessing)"
     ]
    },
    {
     "name": "stderr",
     "output_type": "stream",
     "text": [
      "/usr/lib/python3.10/multiprocessing/popen_fork.py:66: RuntimeWarning: os.fork() was called. os.fork() is incompatible with multithreaded code, and JAX is multithreaded, so this will likely lead to a deadlock.\n",
      "  self.pid = os.fork()\n"
     ]
    },
    {
     "name": "stdout",
     "output_type": "stream",
     "text": [
      "iter  46: ll=35554286.336359, converged: 100.00% (loc: 100.00%, scale update: True), in 9.92sec\n"
     ]
    },
    {
     "name": "stderr",
     "output_type": "stream",
     "text": [
      "/usr/local/lib/python3.10/dist-packages/dask/array/core.py:2894: RuntimeWarning: divide by zero encountered in divide\n",
      "  size = (limit / dtype.itemsize / largest_block) ** (1 / len(autos))\n"
     ]
    },
    {
     "name": "stdout",
     "output_type": "stream",
     "text": [
      "In cluster NSC1a:\n",
      "condition\n",
      "Parkinson    9159\n",
      "Control      4821\n",
      "Name: count, dtype: int64\n",
      "filtered out 2152 genes that are detected in less than 50 cells\n"
     ]
    },
    {
     "name": "stderr",
     "output_type": "stream",
     "text": [
      "Built constraints: Donor[UKERi1JF-R1-018]+Donor[UKERiG3G-R1-039]+Donor[UKERi1E4-R1-003]+Donor[UKERiO3H-R1-005]+Donor[UKERi82A-R1-002]=0, Donor[UKERiJ2C-R1-015]+Donor[UKERiM89-R1-005]+Donor[UKERiC99-R1-007]+Donor[UKERiR66-R1-007]+Donor[UKERiAY6-R1-003]+Donor[UKERiPX7-R1-001]+Donor[UKERi88H-R1-002]=0\n"
     ]
    },
    {
     "name": "stdout",
     "output_type": "stream",
     "text": [
      "Testing 15098 genes...\n",
      "\n"
     ]
    },
    {
     "name": "stderr",
     "output_type": "stream",
     "text": [
      "/usr/local/lib/python3.10/dist-packages/batchglm/models/base_glm/utils.py:158: PerformanceWarning: Slicing is producing a large chunk. To accept the large\n",
      "chunk and silence this warning, set the option\n",
      "    >>> with dask.config.set(**{'array.slicing.split_large_chunks': False}):\n",
      "    ...     array[indexer]\n",
      "\n",
      "To avoid creating the large chunks, set the option\n",
      "    >>> with dask.config.set(**{'array.slicing.split_large_chunks': True}):\n",
      "    ...     array[indexer]\n",
      "  np.mean(x[np.where(grouping == g)[0], :], axis=0)\n",
      "/usr/local/lib/python3.10/dist-packages/batchglm/models/base_glm/utils.py:171: PerformanceWarning: Slicing is producing a large chunk. To accept the large\n",
      "chunk and silence this warning, set the option\n",
      "    >>> with dask.config.set(**{'array.slicing.split_large_chunks': False}):\n",
      "    ...     array[indexer]\n",
      "\n",
      "To avoid creating the large chunks, set the option\n",
      "    >>> with dask.config.set(**{'array.slicing.split_large_chunks': True}):\n",
      "    ...     array[indexer]\n",
      "  expect_xsq = np.vstack([np.mean(np.square(x[np.where(grouping == g)[0], :]), axis=0)\n"
     ]
    },
    {
     "name": "stdout",
     "output_type": "stream",
     "text": [
      "training location model: True\n",
      "training scale model: True\n",
      "iter   0: ll=187141639.033548\n",
      "iter   1: ll=180408061.338203, converged: 0.00% (loc: 2.26%, scale update: False), in 72.35sec\n",
      "iter   2: ll=178972231.824545, converged: 0.00% (loc: 3.23%, scale update: False), in 72.31sec\n",
      "iter   3: ll=178769183.634419, converged: 0.00% (loc: 3.23%, scale update: False), in 70.93sec\n",
      "iter   4: ll=178739241.234818, converged: 0.00% (loc: 3.34%, scale update: False), in 72.25sec\n",
      "iter   5: ll=178734619.789302, converged: 0.00% (loc: 6.26%, scale update: False), in 70.44sec\n",
      "Fitting 15098 dispersion models: (progress not available with multiprocessing)"
     ]
    },
    {
     "name": "stderr",
     "output_type": "stream",
     "text": [
      "/usr/lib/python3.10/multiprocessing/popen_fork.py:66: RuntimeWarning: os.fork() was called. os.fork() is incompatible with multithreaded code, and JAX is multithreaded, so this will likely lead to a deadlock.\n",
      "  self.pid = os.fork()\n"
     ]
    },
    {
     "name": "stdout",
     "output_type": "stream",
     "text": [
      "iter   6: ll=171641449.163504, converged: 0.01% (loc: 0.01%, scale update: True), in 457.43sec\n",
      "iter   7: ll=171603185.054697, converged: 0.01% (loc: 2.45%, scale update: False), in 71.89sec\n",
      "iter   8: ll=171598185.704702, converged: 0.01% (loc: 5.43%, scale update: False), in 71.99sec\n",
      "iter   9: ll=171597161.981633, converged: 0.01% (loc: 17.92%, scale update: False), in 70.67sec\n",
      "iter  10: ll=171596830.972761, converged: 0.01% (loc: 35.74%, scale update: False), in 62.88sec\n",
      "iter  11: ll=171596688.604632, converged: 0.01% (loc: 52.07%, scale update: False), in 51.61sec\n",
      "Fitting 15097 dispersion models: (progress not available with multiprocessing)"
     ]
    },
    {
     "name": "stderr",
     "output_type": "stream",
     "text": [
      "/usr/lib/python3.10/multiprocessing/popen_fork.py:66: RuntimeWarning: os.fork() was called. os.fork() is incompatible with multithreaded code, and JAX is multithreaded, so this will likely lead to a deadlock.\n",
      "  self.pid = os.fork()\n"
     ]
    },
    {
     "name": "stdout",
     "output_type": "stream",
     "text": [
      "iter  12: ll=171508381.940372, converged: 2.30% (loc: 2.30%, scale update: True), in 453.26sec\n",
      "iter  13: ll=171507949.552385, converged: 2.30% (loc: 18.02%, scale update: False), in 70.67sec\n",
      "iter  14: ll=171507811.715647, converged: 2.30% (loc: 35.81%, scale update: False), in 61.10sec\n",
      "iter  15: ll=171507735.287289, converged: 2.30% (loc: 53.81%, scale update: False), in 50.80sec\n",
      "iter  16: ll=171507709.217002, converged: 2.30% (loc: 70.74%, scale update: False), in 40.42sec\n",
      "iter  17: ll=171507706.348947, converged: 2.30% (loc: 86.20%, scale update: False), in 29.65sec\n",
      "Fitting 14750 dispersion models: (progress not available with multiprocessing)"
     ]
    },
    {
     "name": "stderr",
     "output_type": "stream",
     "text": [
      "/usr/lib/python3.10/multiprocessing/popen_fork.py:66: RuntimeWarning: os.fork() was called. os.fork() is incompatible with multithreaded code, and JAX is multithreaded, so this will likely lead to a deadlock.\n",
      "  self.pid = os.fork()\n"
     ]
    },
    {
     "name": "stdout",
     "output_type": "stream",
     "text": [
      "iter  18: ll=171465979.962457, converged: 17.84% (loc: 17.84%, scale update: True), in 438.29sec\n",
      "iter  19: ll=171465975.411340, converged: 17.84% (loc: 55.42%, scale update: False), in 62.06sec\n",
      "iter  20: ll=171465975.135622, converged: 17.84% (loc: 76.12%, scale update: False), in 40.40sec\n",
      "iter  21: ll=171465975.107400, converged: 17.84% (loc: 92.08%, scale update: False), in 26.39sec\n",
      "iter  22: ll=171465975.101904, converged: 17.84% (loc: 96.58%, scale update: False), in 17.45sec\n",
      "iter  23: ll=171465975.100424, converged: 17.84% (loc: 98.64%, scale update: False), in 13.60sec\n",
      "Fitting 12404 dispersion models: (progress not available with multiprocessing)"
     ]
    },
    {
     "name": "stderr",
     "output_type": "stream",
     "text": [
      "/usr/lib/python3.10/multiprocessing/popen_fork.py:66: RuntimeWarning: os.fork() was called. os.fork() is incompatible with multithreaded code, and JAX is multithreaded, so this will likely lead to a deadlock.\n",
      "  self.pid = os.fork()\n"
     ]
    },
    {
     "name": "stdout",
     "output_type": "stream",
     "text": [
      "iter  24: ll=171449536.493532, converged: 55.13% (loc: 55.13%, scale update: True), in 375.85sec\n",
      "iter  25: ll=171449535.990535, converged: 55.13% (loc: 93.34%, scale update: False), in 40.63sec\n",
      "iter  26: ll=171449535.985188, converged: 55.13% (loc: 98.45%, scale update: False), in 17.24sec\n",
      "iter  27: ll=171449535.984720, converged: 55.13% (loc: 99.38%, scale update: False), in 11.89sec\n",
      "iter  28: ll=171449535.984613, converged: 55.13% (loc: 99.72%, scale update: False), in 7.49sec\n",
      "iter  29: ll=171449535.984587, converged: 55.13% (loc: 99.88%, scale update: False), in 4.74sec\n",
      "Fitting 6775 dispersion models: (progress not available with multiprocessing)"
     ]
    },
    {
     "name": "stderr",
     "output_type": "stream",
     "text": [
      "/usr/lib/python3.10/multiprocessing/popen_fork.py:66: RuntimeWarning: os.fork() was called. os.fork() is incompatible with multithreaded code, and JAX is multithreaded, so this will likely lead to a deadlock.\n",
      "  self.pid = os.fork()\n"
     ]
    },
    {
     "name": "stdout",
     "output_type": "stream",
     "text": [
      "iter  30: ll=171440874.806878, converged: 93.11% (loc: 93.11%, scale update: True), in 221.71sec\n",
      "iter  31: ll=171440874.638545, converged: 93.11% (loc: 99.30%, scale update: False), in 16.21sec\n",
      "iter  32: ll=171440874.638447, converged: 93.11% (loc: 99.73%, scale update: False), in 7.99sec\n",
      "iter  33: ll=171440874.638432, converged: 93.11% (loc: 99.89%, scale update: False), in 4.56sec\n",
      "iter  34: ll=171440874.638428, converged: 93.11% (loc: 99.97%, scale update: False), in 2.58sec\n",
      "iter  35: ll=171440874.638427, converged: 93.11% (loc: 99.98%, scale update: False), in 1.33sec\n",
      "Fitting 1040 dispersion models: (progress not available with multiprocessing)"
     ]
    },
    {
     "name": "stderr",
     "output_type": "stream",
     "text": [
      "/usr/lib/python3.10/multiprocessing/popen_fork.py:66: RuntimeWarning: os.fork() was called. os.fork() is incompatible with multithreaded code, and JAX is multithreaded, so this will likely lead to a deadlock.\n",
      "  self.pid = os.fork()\n"
     ]
    },
    {
     "name": "stdout",
     "output_type": "stream",
     "text": [
      "iter  36: ll=171440388.438886, converged: 99.27% (loc: 99.27%, scale update: True), in 78.75sec\n",
      "iter  37: ll=171440388.438866, converged: 99.27% (loc: 99.85%, scale update: False), in 8.78sec\n",
      "iter  38: ll=171440388.438863, converged: 99.27% (loc: 99.95%, scale update: False), in 3.44sec\n",
      "iter  39: ll=171440388.438863, converged: 99.27% (loc: 99.98%, scale update: False), in 1.64sec\n",
      "iter  40: ll=171440388.438862, converged: 99.27% (loc: 99.99%, scale update: False), in 1.24sec\n",
      "iter  41: ll=171440388.438862, converged: 99.27% (loc: 100.00%, scale update: False), in 1.09sec\n",
      "Fitting 110 dispersion models: (progress not available with multiprocessing)"
     ]
    },
    {
     "name": "stderr",
     "output_type": "stream",
     "text": [
      "/usr/lib/python3.10/multiprocessing/popen_fork.py:66: RuntimeWarning: os.fork() was called. os.fork() is incompatible with multithreaded code, and JAX is multithreaded, so this will likely lead to a deadlock.\n",
      "  self.pid = os.fork()\n"
     ]
    },
    {
     "name": "stdout",
     "output_type": "stream",
     "text": [
      "iter  42: ll=171440388.438859, converged: 99.83% (loc: 99.83%, scale update: True), in 53.36sec\n",
      "caught 1 linalg singular matrix errors\n",
      "iter  43: ll=171440388.438858, converged: 99.83% (loc: 99.97%, scale update: False), in 3.48sec\n",
      "iter  44: ll=171440388.438858, converged: 99.83% (loc: 99.99%, scale update: False), in 1.42sec\n",
      "iter  45: ll=171440388.438858, converged: 99.83% (loc: 100.00%, scale update: False), in 1.15sec\n",
      "Fitting 25 dispersion models: (progress not available with multiprocessing)"
     ]
    },
    {
     "name": "stderr",
     "output_type": "stream",
     "text": [
      "/usr/lib/python3.10/multiprocessing/popen_fork.py:66: RuntimeWarning: os.fork() was called. os.fork() is incompatible with multithreaded code, and JAX is multithreaded, so this will likely lead to a deadlock.\n",
      "  self.pid = os.fork()\n"
     ]
    },
    {
     "name": "stdout",
     "output_type": "stream",
     "text": [
      "iter  46: ll=171440388.438857, converged: 99.97% (loc: 99.97%, scale update: True), in 45.45sec\n",
      "iter  47: ll=171440388.438857, converged: 99.97% (loc: 100.00%, scale update: False), in 1.40sec\n",
      "Fitting 5 dispersion models: (progress not available with multiprocessing)"
     ]
    },
    {
     "name": "stderr",
     "output_type": "stream",
     "text": [
      "/usr/lib/python3.10/multiprocessing/popen_fork.py:66: RuntimeWarning: os.fork() was called. os.fork() is incompatible with multithreaded code, and JAX is multithreaded, so this will likely lead to a deadlock.\n",
      "  self.pid = os.fork()\n"
     ]
    },
    {
     "name": "stdout",
     "output_type": "stream",
     "text": [
      "iter  48: ll=171440388.438857, converged: 100.00% (loc: 100.00%, scale update: True), in 31.44sec\n"
     ]
    },
    {
     "name": "stderr",
     "output_type": "stream",
     "text": [
      "/usr/local/lib/python3.10/dist-packages/dask/array/core.py:2894: RuntimeWarning: divide by zero encountered in divide\n",
      "  size = (limit / dtype.itemsize / largest_block) ** (1 / len(autos))\n"
     ]
    },
    {
     "name": "stdout",
     "output_type": "stream",
     "text": [
      "In cluster NSC1b:\n",
      "condition\n",
      "Parkinson    4391\n",
      "Control      2549\n",
      "Name: count, dtype: int64\n",
      "filtered out 2851 genes that are detected in less than 50 cells\n"
     ]
    },
    {
     "name": "stderr",
     "output_type": "stream",
     "text": [
      "Built constraints: Donor[UKERi1JF-R1-018]+Donor[UKERiG3G-R1-039]+Donor[UKERi1E4-R1-003]+Donor[UKERiO3H-R1-005]+Donor[UKERi82A-R1-002]=0, Donor[UKERiJ2C-R1-015]+Donor[UKERiM89-R1-005]+Donor[UKERiC99-R1-007]+Donor[UKERiR66-R1-007]+Donor[UKERiAY6-R1-003]+Donor[UKERiPX7-R1-001]+Donor[UKERi88H-R1-002]=0\n"
     ]
    },
    {
     "name": "stdout",
     "output_type": "stream",
     "text": [
      "Testing 14399 genes...\n",
      "\n"
     ]
    },
    {
     "name": "stderr",
     "output_type": "stream",
     "text": [
      "/usr/local/lib/python3.10/dist-packages/batchglm/models/base_glm/utils.py:158: PerformanceWarning: Slicing is producing a large chunk. To accept the large\n",
      "chunk and silence this warning, set the option\n",
      "    >>> with dask.config.set(**{'array.slicing.split_large_chunks': False}):\n",
      "    ...     array[indexer]\n",
      "\n",
      "To avoid creating the large chunks, set the option\n",
      "    >>> with dask.config.set(**{'array.slicing.split_large_chunks': True}):\n",
      "    ...     array[indexer]\n",
      "  np.mean(x[np.where(grouping == g)[0], :], axis=0)\n",
      "/usr/local/lib/python3.10/dist-packages/batchglm/models/base_glm/utils.py:171: PerformanceWarning: Slicing is producing a large chunk. To accept the large\n",
      "chunk and silence this warning, set the option\n",
      "    >>> with dask.config.set(**{'array.slicing.split_large_chunks': False}):\n",
      "    ...     array[indexer]\n",
      "\n",
      "To avoid creating the large chunks, set the option\n",
      "    >>> with dask.config.set(**{'array.slicing.split_large_chunks': True}):\n",
      "    ...     array[indexer]\n",
      "  expect_xsq = np.vstack([np.mean(np.square(x[np.where(grouping == g)[0], :]), axis=0)\n"
     ]
    },
    {
     "name": "stdout",
     "output_type": "stream",
     "text": [
      "training location model: True\n",
      "training scale model: True\n",
      "iter   0: ll=105609632.814500\n",
      "iter   1: ll=101233431.993593, converged: 0.00% (loc: 0.97%, scale update: False), in 35.43sec\n",
      "iter   2: ll=100474227.121781, converged: 0.00% (loc: 1.81%, scale update: False), in 36.21sec\n",
      "iter   3: ll=100395222.682070, converged: 0.00% (loc: 1.81%, scale update: False), in 36.03sec\n",
      "iter   4: ll=100385840.931296, converged: 0.00% (loc: 1.94%, scale update: False), in 36.00sec\n",
      "iter   5: ll=100384341.119434, converged: 0.00% (loc: 7.83%, scale update: False), in 35.80sec\n",
      "Fitting 14399 dispersion models: (progress not available with multiprocessing)"
     ]
    },
    {
     "name": "stderr",
     "output_type": "stream",
     "text": [
      "/usr/lib/python3.10/multiprocessing/popen_fork.py:66: RuntimeWarning: os.fork() was called. os.fork() is incompatible with multithreaded code, and JAX is multithreaded, so this will likely lead to a deadlock.\n",
      "  self.pid = os.fork()\n"
     ]
    },
    {
     "name": "stdout",
     "output_type": "stream",
     "text": [
      "iter   6: ll=95342948.927751, converged: 0.00% (loc: 0.00%, scale update: True), in 223.05sec\n",
      "iter   7: ll=95322659.721462, converged: 0.00% (loc: 1.47%, scale update: False), in 35.92sec\n",
      "iter   8: ll=95320727.577306, converged: 0.00% (loc: 4.72%, scale update: False), in 35.39sec\n",
      "iter   9: ll=95320371.488096, converged: 0.00% (loc: 21.89%, scale update: False), in 34.07sec\n",
      "iter  10: ll=95320261.865036, converged: 0.00% (loc: 44.23%, scale update: False), in 30.16sec\n",
      "iter  11: ll=95320223.923204, converged: 0.00% (loc: 62.03%, scale update: False), in 23.10sec\n",
      "Fitting 14399 dispersion models: (progress not available with multiprocessing)"
     ]
    },
    {
     "name": "stderr",
     "output_type": "stream",
     "text": [
      "/usr/lib/python3.10/multiprocessing/popen_fork.py:66: RuntimeWarning: os.fork() was called. os.fork() is incompatible with multithreaded code, and JAX is multithreaded, so this will likely lead to a deadlock.\n",
      "  self.pid = os.fork()\n"
     ]
    },
    {
     "name": "stdout",
     "output_type": "stream",
     "text": [
      "iter  12: ll=95221640.177824, converged: 1.22% (loc: 1.22%, scale update: True), in 221.05sec\n",
      "iter  13: ll=95221494.050073, converged: 1.22% (loc: 19.88%, scale update: False), in 35.15sec\n",
      "iter  14: ll=95221485.475786, converged: 1.22% (loc: 42.27%, scale update: False), in 30.34sec\n",
      "iter  15: ll=95221485.013531, converged: 1.22% (loc: 62.16%, scale update: False), in 24.08sec\n",
      "iter  16: ll=95221484.952279, converged: 1.22% (loc: 80.68%, scale update: False), in 18.15sec\n",
      "iter  17: ll=95221484.938226, converged: 1.22% (loc: 93.91%, scale update: False), in 12.78sec\n",
      "Fitting 14224 dispersion models: (progress not available with multiprocessing)"
     ]
    },
    {
     "name": "stderr",
     "output_type": "stream",
     "text": [
      "/usr/lib/python3.10/multiprocessing/popen_fork.py:66: RuntimeWarning: os.fork() was called. os.fork() is incompatible with multithreaded code, and JAX is multithreaded, so this will likely lead to a deadlock.\n",
      "  self.pid = os.fork()\n"
     ]
    },
    {
     "name": "stdout",
     "output_type": "stream",
     "text": [
      "iter  18: ll=95186434.141953, converged: 19.60% (loc: 19.60%, scale update: True), in 218.44sec\n",
      "iter  19: ll=95186427.517427, converged: 19.60% (loc: 61.59%, scale update: False), in 30.56sec\n",
      "iter  20: ll=95186427.394588, converged: 19.60% (loc: 84.47%, scale update: False), in 18.63sec\n",
      "iter  21: ll=95186427.391280, converged: 19.60% (loc: 95.21%, scale update: False), in 10.98sec\n",
      "iter  22: ll=95186427.390769, converged: 19.60% (loc: 96.72%, scale update: False), in 8.08sec\n",
      "iter  23: ll=95186427.390629, converged: 19.60% (loc: 98.75%, scale update: False), in 7.86sec\n",
      "Fitting 11577 dispersion models: (progress not available with multiprocessing)"
     ]
    },
    {
     "name": "stderr",
     "output_type": "stream",
     "text": [
      "/usr/lib/python3.10/multiprocessing/popen_fork.py:66: RuntimeWarning: os.fork() was called. os.fork() is incompatible with multithreaded code, and JAX is multithreaded, so this will likely lead to a deadlock.\n",
      "  self.pid = os.fork()\n"
     ]
    },
    {
     "name": "stdout",
     "output_type": "stream",
     "text": [
      "iter  24: ll=95164192.697375, converged: 61.30% (loc: 61.30%, scale update: True), in 181.85sec\n",
      "iter  25: ll=95164181.409696, converged: 61.30% (loc: 96.24%, scale update: False), in 18.54sec\n",
      "iter  26: ll=95164181.408872, converged: 61.30% (loc: 98.82%, scale update: False), in 8.19sec\n",
      "iter  27: ll=95164181.408788, converged: 61.30% (loc: 99.60%, scale update: False), in 5.34sec\n",
      "iter  28: ll=95164181.408772, converged: 61.30% (loc: 99.89%, scale update: False), in 3.01sec\n",
      "iter  29: ll=95164181.408767, converged: 61.30% (loc: 99.94%, scale update: False), in 1.41sec\n",
      "Fitting 5573 dispersion models: (progress not available with multiprocessing)"
     ]
    },
    {
     "name": "stderr",
     "output_type": "stream",
     "text": [
      "/usr/lib/python3.10/multiprocessing/popen_fork.py:66: RuntimeWarning: os.fork() was called. os.fork() is incompatible with multithreaded code, and JAX is multithreaded, so this will likely lead to a deadlock.\n",
      "  self.pid = os.fork()\n"
     ]
    },
    {
     "name": "stdout",
     "output_type": "stream",
     "text": [
      "iter  30: ll=95162039.110076, converged: 96.10% (loc: 96.10%, scale update: True), in 98.63sec\n",
      "iter  31: ll=95162038.944221, converged: 96.10% (loc: 99.31%, scale update: False), in 8.00sec\n",
      "iter  32: ll=95162038.944185, converged: 96.10% (loc: 99.81%, scale update: False), in 4.93sec\n",
      "iter  33: ll=95162038.944179, converged: 96.10% (loc: 99.93%, scale update: False), in 2.05sec\n",
      "iter  34: ll=95162038.944178, converged: 96.10% (loc: 99.98%, scale update: False), in 1.04sec\n",
      "iter  35: ll=95162038.944178, converged: 96.10% (loc: 99.99%, scale update: False), in 0.78sec\n",
      "Fitting 561 dispersion models: (progress not available with multiprocessing)"
     ]
    },
    {
     "name": "stderr",
     "output_type": "stream",
     "text": [
      "/usr/lib/python3.10/multiprocessing/popen_fork.py:66: RuntimeWarning: os.fork() was called. os.fork() is incompatible with multithreaded code, and JAX is multithreaded, so this will likely lead to a deadlock.\n",
      "  self.pid = os.fork()\n"
     ]
    },
    {
     "name": "stdout",
     "output_type": "stream",
     "text": [
      "iter  36: ll=95161586.772771, converged: 99.28% (loc: 99.28%, scale update: True), in 36.46sec\n",
      "iter  37: ll=95161586.772748, converged: 99.28% (loc: 99.87%, scale update: False), in 4.55sec\n",
      "iter  38: ll=95161586.772744, converged: 99.28% (loc: 99.96%, scale update: False), in 1.30sec\n",
      "iter  39: ll=95161586.772744, converged: 99.28% (loc: 99.98%, scale update: False), in 0.87sec\n",
      "iter  40: ll=95161586.772744, converged: 99.28% (loc: 99.99%, scale update: False), in 0.74sec\n",
      "iter  41: ll=95161586.772744, converged: 99.28% (loc: 100.00%, scale update: False), in 0.73sec\n",
      "Fitting 104 dispersion models: (progress not available with multiprocessing)"
     ]
    },
    {
     "name": "stderr",
     "output_type": "stream",
     "text": [
      "/usr/lib/python3.10/multiprocessing/popen_fork.py:66: RuntimeWarning: os.fork() was called. os.fork() is incompatible with multithreaded code, and JAX is multithreaded, so this will likely lead to a deadlock.\n",
      "  self.pid = os.fork()\n"
     ]
    },
    {
     "name": "stdout",
     "output_type": "stream",
     "text": [
      "iter  42: ll=95161586.772736, converged: 99.87% (loc: 99.87%, scale update: True), in 30.69sec\n",
      "caught 1 linalg singular matrix errors\n",
      "iter  43: ll=95161586.772735, converged: 99.87% (loc: 99.98%, scale update: False), in 1.50sec\n",
      "iter  44: ll=95161586.772734, converged: 99.87% (loc: 99.99%, scale update: False), in 0.84sec\n",
      "iter  45: ll=95161586.772734, converged: 99.87% (loc: 99.99%, scale update: False), in 0.73sec\n",
      "iter  46: ll=95161586.772734, converged: 99.87% (loc: 100.00%, scale update: False), in 0.73sec\n",
      "Fitting 18 dispersion models: (progress not available with multiprocessing)"
     ]
    },
    {
     "name": "stderr",
     "output_type": "stream",
     "text": [
      "/usr/lib/python3.10/multiprocessing/popen_fork.py:66: RuntimeWarning: os.fork() was called. os.fork() is incompatible with multithreaded code, and JAX is multithreaded, so this will likely lead to a deadlock.\n",
      "  self.pid = os.fork()\n"
     ]
    },
    {
     "name": "stdout",
     "output_type": "stream",
     "text": [
      "iter  47: ll=95161586.772734, converged: 99.97% (loc: 99.97%, scale update: True), in 24.22sec\n",
      "iter  48: ll=95161586.772733, converged: 99.97% (loc: 99.99%, scale update: False), in 0.86sec\n",
      "iter  49: ll=95161586.772733, converged: 99.97% (loc: 99.99%, scale update: False), in 0.69sec\n",
      "iter  50: ll=95161586.772733, converged: 99.97% (loc: 100.00%, scale update: False), in 1.02sec\n",
      "Fitting 4 dispersion models: (progress not available with multiprocessing)"
     ]
    },
    {
     "name": "stderr",
     "output_type": "stream",
     "text": [
      "/usr/lib/python3.10/multiprocessing/popen_fork.py:66: RuntimeWarning: os.fork() was called. os.fork() is incompatible with multithreaded code, and JAX is multithreaded, so this will likely lead to a deadlock.\n",
      "  self.pid = os.fork()\n"
     ]
    },
    {
     "name": "stdout",
     "output_type": "stream",
     "text": [
      "iter  51: ll=95161586.772733, converged: 99.99% (loc: 99.99%, scale update: True), in 16.35sec\n",
      "iter  52: ll=95161586.772733, converged: 99.99% (loc: 99.99%, scale update: False), in 0.69sec\n",
      "iter  53: ll=95161586.772733, converged: 99.99% (loc: 100.00%, scale update: False), in 0.74sec\n",
      "iter  54: ll=95161586.772733, converged: 99.99% (loc: 99.99%, scale update: True), in 0.68sec\n",
      "iter  55: ll=95161586.772733, converged: 99.99% (loc: 100.00%, scale update: False), in 0.71sec\n",
      "iter  56: ll=95161586.772733, converged: 100.00% (loc: 100.00%, scale update: True), in 0.69sec\n"
     ]
    },
    {
     "name": "stderr",
     "output_type": "stream",
     "text": [
      "/usr/local/lib/python3.10/dist-packages/dask/array/core.py:2894: RuntimeWarning: divide by zero encountered in divide\n",
      "  size = (limit / dtype.itemsize / largest_block) ** (1 / len(autos))\n"
     ]
    },
    {
     "name": "stdout",
     "output_type": "stream",
     "text": [
      "In cluster NSC2a:\n",
      "condition\n",
      "Parkinson    2015\n",
      "Control       213\n",
      "Name: count, dtype: int64\n",
      "filtered out 4374 genes that are detected in less than 50 cells\n"
     ]
    },
    {
     "name": "stderr",
     "output_type": "stream",
     "text": [
      "Built constraints: Donor[UKERi1JF-R1-018]+Donor[UKERiG3G-R1-039]+Donor[UKERi1E4-R1-003]+Donor[UKERiO3H-R1-005]+Donor[UKERi82A-R1-002]=0, Donor[UKERiJ2C-R1-015]+Donor[UKERiM89-R1-005]+Donor[UKERiC99-R1-007]+Donor[UKERiR66-R1-007]+Donor[UKERiAY6-R1-003]+Donor[UKERiPX7-R1-001]+Donor[UKERi88H-R1-002]=0\n"
     ]
    },
    {
     "name": "stdout",
     "output_type": "stream",
     "text": [
      "Testing 12876 genes...\n",
      "\n",
      "training location model: True\n",
      "training scale model: True\n",
      "iter   0: ll=32383111.308835\n",
      "iter   1: ll=31311976.269035, converged: 0.00% (loc: 2.02%, scale update: False), in 10.63sec\n",
      "iter   2: ll=31066753.074094, converged: 0.00% (loc: 2.89%, scale update: False), in 10.65sec\n",
      "iter   3: ll=31027509.229357, converged: 0.00% (loc: 2.89%, scale update: False), in 10.35sec\n",
      "iter   4: ll=31020385.408843, converged: 0.00% (loc: 2.94%, scale update: False), in 10.68sec\n",
      "iter   5: ll=31018958.027494, converged: 0.00% (loc: 3.95%, scale update: False), in 10.49sec\n",
      "Fitting 12876 dispersion models: (progress not available with multiprocessing)"
     ]
    },
    {
     "name": "stderr",
     "output_type": "stream",
     "text": [
      "/usr/lib/python3.10/multiprocessing/popen_fork.py:66: RuntimeWarning: os.fork() was called. os.fork() is incompatible with multithreaded code, and JAX is multithreaded, so this will likely lead to a deadlock.\n",
      "  self.pid = os.fork()\n"
     ]
    },
    {
     "name": "stdout",
     "output_type": "stream",
     "text": [
      "iter   6: ll=26235945.852619, converged: 0.03% (loc: 0.03%, scale update: True), in 63.86sec\n",
      "iter   7: ll=26227467.612693, converged: 0.03% (loc: 2.33%, scale update: False), in 11.21sec\n",
      "iter   8: ll=26225974.480740, converged: 0.03% (loc: 3.08%, scale update: False), in 10.41sec\n",
      "iter   9: ll=26225598.985252, converged: 0.03% (loc: 7.91%, scale update: False), in 10.97sec\n",
      "iter  10: ll=26225453.880080, converged: 0.03% (loc: 17.23%, scale update: False), in 10.17sec\n",
      "iter  11: ll=26225379.422332, converged: 0.03% (loc: 26.94%, scale update: False), in 9.26sec\n",
      "Fitting 12872 dispersion models: (progress not available with multiprocessing)"
     ]
    },
    {
     "name": "stderr",
     "output_type": "stream",
     "text": [
      "/usr/lib/python3.10/multiprocessing/popen_fork.py:66: RuntimeWarning: os.fork() was called. os.fork() is incompatible with multithreaded code, and JAX is multithreaded, so this will likely lead to a deadlock.\n",
      "  self.pid = os.fork()\n"
     ]
    },
    {
     "name": "stdout",
     "output_type": "stream",
     "text": [
      "iter  12: ll=26172459.335959, converged: 2.15% (loc: 2.15%, scale update: True), in 63.59sec\n",
      "iter  13: ll=26172275.853579, converged: 2.15% (loc: 10.12%, scale update: False), in 10.99sec\n",
      "iter  14: ll=26172221.207800, converged: 2.15% (loc: 19.08%, scale update: False), in 9.67sec\n",
      "iter  15: ll=26172185.845731, converged: 2.15% (loc: 28.53%, scale update: False), in 9.28sec\n",
      "iter  16: ll=26172161.770790, converged: 2.15% (loc: 38.51%, scale update: False), in 8.56sec\n",
      "iter  17: ll=26172141.666287, converged: 2.15% (loc: 49.51%, scale update: False), in 7.75sec\n",
      "Fitting 12599 dispersion models: (progress not available with multiprocessing)"
     ]
    },
    {
     "name": "stderr",
     "output_type": "stream",
     "text": [
      "/usr/lib/python3.10/multiprocessing/popen_fork.py:66: RuntimeWarning: os.fork() was called. os.fork() is incompatible with multithreaded code, and JAX is multithreaded, so this will likely lead to a deadlock.\n",
      "  self.pid = os.fork()\n"
     ]
    },
    {
     "name": "stdout",
     "output_type": "stream",
     "text": [
      "iter  18: ll=26135647.138115, converged: 9.89% (loc: 9.89%, scale update: True), in 62.28sec\n",
      "iter  19: ll=26135619.869322, converged: 9.89% (loc: 30.05%, scale update: False), in 9.61sec\n",
      "iter  20: ll=26135601.894641, converged: 9.89% (loc: 48.82%, scale update: False), in 7.84sec\n",
      "iter  21: ll=26135587.086510, converged: 9.89% (loc: 76.16%, scale update: False), in 7.05sec\n",
      "iter  22: ll=26135575.856534, converged: 9.89% (loc: 91.55%, scale update: False), in 4.90sec\n",
      "iter  23: ll=26135567.933897, converged: 9.89% (loc: 96.83%, scale update: False), in 3.52sec\n",
      "Fitting 11602 dispersion models: (progress not available with multiprocessing)"
     ]
    },
    {
     "name": "stderr",
     "output_type": "stream",
     "text": [
      "/usr/lib/python3.10/multiprocessing/popen_fork.py:66: RuntimeWarning: os.fork() was called. os.fork() is incompatible with multithreaded code, and JAX is multithreaded, so this will likely lead to a deadlock.\n",
      "  self.pid = os.fork()\n"
     ]
    },
    {
     "name": "stdout",
     "output_type": "stream",
     "text": [
      "iter  24: ll=26122551.561174, converged: 29.84% (loc: 29.84%, scale update: True), in 57.72sec\n",
      "iter  25: ll=26122539.517372, converged: 29.84% (loc: 83.45%, scale update: False), in 8.28sec\n",
      "iter  26: ll=26122533.040218, converged: 29.84% (loc: 95.51%, scale update: False), in 4.10sec\n",
      "iter  27: ll=26122527.674091, converged: 29.84% (loc: 98.75%, scale update: False), in 3.36sec\n",
      "iter  28: ll=26122523.372207, converged: 29.84% (loc: 99.50%, scale update: False), in 2.41sec\n",
      "iter  29: ll=26122520.321247, converged: 29.84% (loc: 99.72%, scale update: False), in 1.80sec\n",
      "Fitting 9034 dispersion models: (progress not available with multiprocessing)"
     ]
    },
    {
     "name": "stderr",
     "output_type": "stream",
     "text": [
      "/usr/lib/python3.10/multiprocessing/popen_fork.py:66: RuntimeWarning: os.fork() was called. os.fork() is incompatible with multithreaded code, and JAX is multithreaded, so this will likely lead to a deadlock.\n",
      "  self.pid = os.fork()\n"
     ]
    },
    {
     "name": "stdout",
     "output_type": "stream",
     "text": [
      "iter  30: ll=26113006.796090, converged: 83.13% (loc: 83.13%, scale update: True), in 46.13sec\n",
      "iter  31: ll=26113000.377900, converged: 83.13% (loc: 97.72%, scale update: False), in 4.23sec\n",
      "iter  32: ll=26112998.231909, converged: 83.13% (loc: 99.40%, scale update: False), in 2.85sec\n",
      "iter  33: ll=26112996.201194, converged: 83.13% (loc: 99.74%, scale update: False), in 1.64sec\n",
      "iter  34: ll=26112994.326726, converged: 83.13% (loc: 99.88%, scale update: False), in 1.03sec\n",
      "iter  35: ll=26112992.800915, converged: 83.13% (loc: 99.93%, scale update: False), in 0.73sec\n",
      "Fitting 2172 dispersion models: (progress not available with multiprocessing)"
     ]
    },
    {
     "name": "stderr",
     "output_type": "stream",
     "text": [
      "/usr/lib/python3.10/multiprocessing/popen_fork.py:66: RuntimeWarning: os.fork() was called. os.fork() is incompatible with multithreaded code, and JAX is multithreaded, so this will likely lead to a deadlock.\n",
      "  self.pid = os.fork()\n"
     ]
    },
    {
     "name": "stdout",
     "output_type": "stream",
     "text": [
      "iter  36: ll=26109866.257037, converged: 97.58% (loc: 97.58%, scale update: True), in 18.91sec\n",
      "caught 11 linalg singular matrix errors\n",
      "iter  37: ll=26109862.841792, converged: 97.58% (loc: 99.68%, scale update: False), in 2.84sec\n",
      "caught 10 linalg singular matrix errors\n",
      "iter  38: ll=26109862.406568, converged: 97.58% (loc: 99.96%, scale update: False), in 1.09sec\n",
      "iter  39: ll=26109862.364850, converged: 97.58% (loc: 99.98%, scale update: False), in 0.51sec\n",
      "caught 1 linalg singular matrix errors\n",
      "iter  40: ll=26109862.364849, converged: 97.58% (loc: 99.99%, scale update: False), in 0.45sec\n",
      "caught 1 linalg singular matrix errors\n",
      "iter  41: ll=26109862.364849, converged: 97.58% (loc: 100.00%, scale update: False), in 0.31sec\n",
      "Fitting 311 dispersion models: (progress not available with multiprocessing)"
     ]
    },
    {
     "name": "stderr",
     "output_type": "stream",
     "text": [
      "/usr/lib/python3.10/multiprocessing/popen_fork.py:66: RuntimeWarning: os.fork() was called. os.fork() is incompatible with multithreaded code, and JAX is multithreaded, so this will likely lead to a deadlock.\n",
      "  self.pid = os.fork()\n"
     ]
    },
    {
     "name": "stdout",
     "output_type": "stream",
     "text": [
      "iter  42: ll=26109803.832270, converged: 99.64% (loc: 99.64%, scale update: True), in 12.56sec\n",
      "caught 22 linalg singular matrix errors\n",
      "iter  43: ll=26109803.687183, converged: 99.64% (loc: 99.96%, scale update: False), in 1.25sec\n",
      "caught 1 linalg singular matrix errors\n",
      "iter  44: ll=26109803.687183, converged: 99.64% (loc: 100.00%, scale update: False), in 0.54sec\n",
      "Fitting 46 dispersion models: (progress not available with multiprocessing)"
     ]
    },
    {
     "name": "stderr",
     "output_type": "stream",
     "text": [
      "/usr/lib/python3.10/multiprocessing/popen_fork.py:66: RuntimeWarning: os.fork() was called. os.fork() is incompatible with multithreaded code, and JAX is multithreaded, so this will likely lead to a deadlock.\n",
      "  self.pid = os.fork()\n"
     ]
    },
    {
     "name": "stdout",
     "output_type": "stream",
     "text": [
      "iter  45: ll=26109536.463205, converged: 99.94% (loc: 99.94%, scale update: True), in 11.16sec\n",
      "caught 2 linalg singular matrix errors\n",
      "iter  46: ll=26109536.463205, converged: 99.94% (loc: 100.00%, scale update: False), in 0.53sec\n",
      "Fitting 8 dispersion models: (progress not available with multiprocessing)"
     ]
    },
    {
     "name": "stderr",
     "output_type": "stream",
     "text": [
      "/usr/lib/python3.10/multiprocessing/popen_fork.py:66: RuntimeWarning: os.fork() was called. os.fork() is incompatible with multithreaded code, and JAX is multithreaded, so this will likely lead to a deadlock.\n",
      "  self.pid = os.fork()\n"
     ]
    },
    {
     "name": "stdout",
     "output_type": "stream",
     "text": [
      "iter  47: ll=26109536.463205, converged: 100.00% (loc: 100.00%, scale update: True), in 8.57sec\n"
     ]
    },
    {
     "name": "stderr",
     "output_type": "stream",
     "text": [
      "/usr/local/lib/python3.10/dist-packages/dask/array/core.py:2894: RuntimeWarning: divide by zero encountered in divide\n",
      "  size = (limit / dtype.itemsize / largest_block) ** (1 / len(autos))\n"
     ]
    },
    {
     "name": "stdout",
     "output_type": "stream",
     "text": [
      "In cluster NSC2b:\n",
      "condition\n",
      "Parkinson    395\n",
      "Control       38\n",
      "Name: count, dtype: int64\n",
      "filtered out 7226 genes that are detected in less than 50 cells\n"
     ]
    },
    {
     "name": "stderr",
     "output_type": "stream",
     "text": [
      "Built constraints: Donor[UKERi1JF-R1-018]+Donor[UKERiG3G-R1-039]+Donor[UKERiO3H-R1-005]+Donor[UKERi82A-R1-002]=0, Donor[UKERiJ2C-R1-015]+Donor[UKERiM89-R1-005]+Donor[UKERiC99-R1-007]+Donor[UKERiR66-R1-007]+Donor[UKERiAY6-R1-003]+Donor[UKERiPX7-R1-001]+Donor[UKERi88H-R1-002]=0\n"
     ]
    },
    {
     "name": "stdout",
     "output_type": "stream",
     "text": [
      "Testing 10024 genes...\n",
      "\n",
      "training location model: True\n",
      "training scale model: True\n",
      "iter   0: ll=11586450.996662\n",
      "iter   1: ll=11320394.299215, converged: 0.00% (loc: 0.57%, scale update: False), in 2.49sec\n",
      "iter   2: ll=11259183.444140, converged: 0.00% (loc: 2.58%, scale update: False), in 2.59sec\n",
      "iter   3: ll=11251549.924418, converged: 0.00% (loc: 2.58%, scale update: False), in 2.59sec\n",
      "iter   4: ll=11250381.927128, converged: 0.00% (loc: 2.66%, scale update: False), in 2.44sec\n",
      "iter   5: ll=11250113.629719, converged: 0.00% (loc: 8.17%, scale update: False), in 2.73sec\n",
      "Fitting 10024 dispersion models: (progress not available with multiprocessing)"
     ]
    },
    {
     "name": "stderr",
     "output_type": "stream",
     "text": [
      "/usr/lib/python3.10/multiprocessing/popen_fork.py:66: RuntimeWarning: os.fork() was called. os.fork() is incompatible with multithreaded code, and JAX is multithreaded, so this will likely lead to a deadlock.\n",
      "  self.pid = os.fork()\n"
     ]
    },
    {
     "name": "stdout",
     "output_type": "stream",
     "text": [
      "iter   6: ll=5082911.529564, converged: 0.00% (loc: 0.00%, scale update: True), in 18.30sec\n",
      "iter   7: ll=5079934.422212, converged: 0.00% (loc: 2.17%, scale update: False), in 2.51sec\n",
      "iter   8: ll=5079543.129976, converged: 0.00% (loc: 4.40%, scale update: False), in 2.61sec\n",
      "iter   9: ll=5079461.938605, converged: 0.00% (loc: 18.13%, scale update: False), in 2.50sec\n",
      "iter  10: ll=5079443.513153, converged: 0.00% (loc: 36.45%, scale update: False), in 2.42sec\n",
      "iter  11: ll=5079437.013349, converged: 0.00% (loc: 49.52%, scale update: False), in 2.54sec\n",
      "Fitting 10024 dispersion models: (progress not available with multiprocessing)"
     ]
    },
    {
     "name": "stderr",
     "output_type": "stream",
     "text": [
      "/usr/lib/python3.10/multiprocessing/popen_fork.py:66: RuntimeWarning: os.fork() was called. os.fork() is incompatible with multithreaded code, and JAX is multithreaded, so this will likely lead to a deadlock.\n",
      "  self.pid = os.fork()\n"
     ]
    },
    {
     "name": "stdout",
     "output_type": "stream",
     "text": [
      "iter  12: ll=4994642.997614, converged: 1.75% (loc: 1.75%, scale update: True), in 18.07sec\n",
      "iter  13: ll=4994556.918641, converged: 1.75% (loc: 17.22%, scale update: False), in 2.54sec\n",
      "iter  14: ll=4994546.281859, converged: 1.75% (loc: 34.30%, scale update: False), in 2.36sec\n",
      "iter  15: ll=4994544.033067, converged: 1.75% (loc: 48.65%, scale update: False), in 2.23sec\n",
      "iter  16: ll=4994543.085953, converged: 1.75% (loc: 60.24%, scale update: False), in 2.24sec\n",
      "iter  17: ll=4994542.897110, converged: 1.75% (loc: 69.76%, scale update: False), in 1.86sec\n",
      "Fitting 9849 dispersion models: (progress not available with multiprocessing)"
     ]
    },
    {
     "name": "stderr",
     "output_type": "stream",
     "text": [
      "/usr/lib/python3.10/multiprocessing/popen_fork.py:66: RuntimeWarning: os.fork() was called. os.fork() is incompatible with multithreaded code, and JAX is multithreaded, so this will likely lead to a deadlock.\n",
      "  self.pid = os.fork()\n"
     ]
    },
    {
     "name": "stdout",
     "output_type": "stream",
     "text": [
      "iter  18: ll=4950871.835534, converged: 16.39% (loc: 16.39%, scale update: True), in 17.49sec\n",
      "iter  19: ll=4950857.104777, converged: 16.39% (loc: 44.21%, scale update: False), in 2.27sec\n",
      "iter  20: ll=4950857.044275, converged: 16.39% (loc: 58.78%, scale update: False), in 2.18sec\n",
      "iter  21: ll=4950857.041494, converged: 16.39% (loc: 71.04%, scale update: False), in 2.26sec\n",
      "iter  22: ll=4950857.040843, converged: 16.39% (loc: 83.82%, scale update: False), in 1.78sec\n",
      "iter  23: ll=4950857.040705, converged: 16.39% (loc: 95.20%, scale update: False), in 1.48sec\n",
      "Fitting 8381 dispersion models: (progress not available with multiprocessing)"
     ]
    },
    {
     "name": "stderr",
     "output_type": "stream",
     "text": [
      "/usr/lib/python3.10/multiprocessing/popen_fork.py:66: RuntimeWarning: os.fork() was called. os.fork() is incompatible with multithreaded code, and JAX is multithreaded, so this will likely lead to a deadlock.\n",
      "  self.pid = os.fork()\n"
     ]
    },
    {
     "name": "stdout",
     "output_type": "stream",
     "text": [
      "iter  24: ll=4931148.544858, converged: 43.47% (loc: 43.47%, scale update: True), in 15.47sec\n",
      "iter  25: ll=4931141.291075, converged: 43.47% (loc: 78.83%, scale update: False), in 2.07sec\n",
      "iter  26: ll=4931141.288422, converged: 43.47% (loc: 92.54%, scale update: False), in 1.65sec\n",
      "iter  27: ll=4931141.288370, converged: 43.47% (loc: 98.39%, scale update: False), in 1.63sec\n",
      "iter  28: ll=4931141.288359, converged: 43.47% (loc: 99.57%, scale update: False), in 1.04sec\n",
      "iter  29: ll=4931141.288354, converged: 43.47% (loc: 99.91%, scale update: False), in 0.55sec\n",
      "Fitting 5667 dispersion models: (progress not available with multiprocessing)"
     ]
    },
    {
     "name": "stderr",
     "output_type": "stream",
     "text": [
      "/usr/lib/python3.10/multiprocessing/popen_fork.py:66: RuntimeWarning: os.fork() was called. os.fork() is incompatible with multithreaded code, and JAX is multithreaded, so this will likely lead to a deadlock.\n",
      "  self.pid = os.fork()\n"
     ]
    },
    {
     "name": "stdout",
     "output_type": "stream",
     "text": [
      "iter  30: ll=4922418.787654, converged: 78.11% (loc: 78.11%, scale update: True), in 11.16sec\n",
      "iter  31: ll=4922414.043215, converged: 78.11% (loc: 95.60%, scale update: False), in 1.67sec\n",
      "iter  32: ll=4922414.043179, converged: 78.11% (loc: 99.02%, scale update: False), in 1.38sec\n",
      "iter  33: ll=4922414.043176, converged: 78.11% (loc: 99.84%, scale update: False), in 0.87sec\n",
      "iter  34: ll=4922414.043175, converged: 78.11% (loc: 99.99%, scale update: False), in 0.32sec\n",
      "iter  35: ll=4922414.043175, converged: 78.11% (loc: 99.99%, scale update: False), in 0.47sec\n",
      "Fitting 2194 dispersion models: (progress not available with multiprocessing)"
     ]
    },
    {
     "name": "stderr",
     "output_type": "stream",
     "text": [
      "/usr/lib/python3.10/multiprocessing/popen_fork.py:66: RuntimeWarning: os.fork() was called. os.fork() is incompatible with multithreaded code, and JAX is multithreaded, so this will likely lead to a deadlock.\n",
      "  self.pid = os.fork()\n"
     ]
    },
    {
     "name": "stdout",
     "output_type": "stream",
     "text": [
      "iter  36: ll=4918999.989529, converged: 95.28% (loc: 95.28%, scale update: True), in 6.29sec\n",
      "iter  37: ll=4918999.831151, converged: 95.28% (loc: 99.11%, scale update: False), in 1.37sec\n",
      "iter  38: ll=4918999.831124, converged: 95.28% (loc: 99.86%, scale update: False), in 0.87sec\n",
      "caught 4 linalg singular matrix errors\n",
      "iter  39: ll=4918999.831123, converged: 95.28% (loc: 99.98%, scale update: False), in 0.28sec\n",
      "iter  40: ll=4918999.831123, converged: 95.28% (loc: 99.99%, scale update: False), in 0.21sec\n",
      "caught 1 linalg singular matrix errors\n",
      "iter  41: ll=4918999.831123, converged: 95.28% (loc: 100.00%, scale update: False), in 0.16sec\n",
      "Fitting 473 dispersion models: (progress not available with multiprocessing)"
     ]
    },
    {
     "name": "stderr",
     "output_type": "stream",
     "text": [
      "/usr/lib/python3.10/multiprocessing/popen_fork.py:66: RuntimeWarning: os.fork() was called. os.fork() is incompatible with multithreaded code, and JAX is multithreaded, so this will likely lead to a deadlock.\n",
      "  self.pid = os.fork()\n"
     ]
    },
    {
     "name": "stdout",
     "output_type": "stream",
     "text": [
      "iter  42: ll=4918649.566133, converged: 98.98% (loc: 98.98%, scale update: True), in 4.23sec\n",
      "caught 7 linalg singular matrix errors\n",
      "iter  43: ll=4918648.973513, converged: 98.98% (loc: 99.86%, scale update: False), in 0.89sec\n",
      "caught 1 linalg singular matrix errors\n",
      "iter  44: ll=4918648.973513, converged: 98.98% (loc: 100.00%, scale update: False), in 0.29sec\n",
      "Fitting 102 dispersion models: (progress not available with multiprocessing)"
     ]
    },
    {
     "name": "stderr",
     "output_type": "stream",
     "text": [
      "/usr/lib/python3.10/multiprocessing/popen_fork.py:66: RuntimeWarning: os.fork() was called. os.fork() is incompatible with multithreaded code, and JAX is multithreaded, so this will likely lead to a deadlock.\n",
      "  self.pid = os.fork()\n"
     ]
    },
    {
     "name": "stdout",
     "output_type": "stream",
     "text": [
      "iter  45: ll=4918435.183762, converged: 99.84% (loc: 99.84%, scale update: True), in 3.67sec\n",
      "caught 2 linalg singular matrix errors\n",
      "iter  46: ll=4918435.183762, converged: 99.84% (loc: 99.98%, scale update: False), in 0.31sec\n",
      "iter  47: ll=4918435.183762, converged: 99.84% (loc: 100.00%, scale update: False), in 0.19sec\n",
      "Fitting 16 dispersion models: (progress not available with multiprocessing)"
     ]
    },
    {
     "name": "stderr",
     "output_type": "stream",
     "text": [
      "/usr/lib/python3.10/multiprocessing/popen_fork.py:66: RuntimeWarning: os.fork() was called. os.fork() is incompatible with multithreaded code, and JAX is multithreaded, so this will likely lead to a deadlock.\n",
      "  self.pid = os.fork()\n"
     ]
    },
    {
     "name": "stdout",
     "output_type": "stream",
     "text": [
      "iter  48: ll=4918264.288686, converged: 99.96% (loc: 99.96%, scale update: True), in 2.99sec\n",
      "caught 2 linalg singular matrix errors\n",
      "iter  49: ll=4918264.288686, converged: 99.96% (loc: 100.00%, scale update: False), in 0.21sec\n",
      "Fitting 4 dispersion models: (progress not available with multiprocessing)"
     ]
    },
    {
     "name": "stderr",
     "output_type": "stream",
     "text": [
      "/usr/lib/python3.10/multiprocessing/popen_fork.py:66: RuntimeWarning: os.fork() was called. os.fork() is incompatible with multithreaded code, and JAX is multithreaded, so this will likely lead to a deadlock.\n",
      "  self.pid = os.fork()\n"
     ]
    },
    {
     "name": "stdout",
     "output_type": "stream",
     "text": [
      "iter  50: ll=4918028.446200, converged: 99.98% (loc: 99.98%, scale update: True), in 2.42sec\n",
      "caught 1 linalg singular matrix errors\n",
      "iter  51: ll=4918028.446200, converged: 99.98% (loc: 100.00%, scale update: False), in 0.19sec\n",
      "iter  52: ll=4918028.446200, converged: 100.00% (loc: 100.00%, scale update: True), in 0.18sec\n"
     ]
    },
    {
     "name": "stderr",
     "output_type": "stream",
     "text": [
      "/usr/local/lib/python3.10/dist-packages/dask/array/core.py:2894: RuntimeWarning: divide by zero encountered in divide\n",
      "  size = (limit / dtype.itemsize / largest_block) ** (1 / len(autos))\n"
     ]
    }
   ],
   "source": [
    "for clust in adata.obs['cell_types_used'].cat.categories:\n",
    "    adata_tmp = adata[adata.obs['cell_types_used'] == clust,:].copy()\n",
    "\n",
    "    print(f'In cluster {clust}:')\n",
    "    print(adata_tmp.obs.condition.value_counts())\n",
    "\n",
    "    # Filter out genes to reduce multiple testing burden\n",
    "    sc.pp.filter_genes(adata_tmp, min_cells=50)\n",
    "    print(f'Testing {adata_tmp.n_vars} genes...')\n",
    "    print(\"\")\n",
    "    \n",
    "    test_tmp = de.test.wald(\n",
    "    data=adata_tmp.layers['soupX_counts'],\n",
    "    formula_loc=\"~ 1 + condition + Donor + size_factors\",\n",
    "    as_numeric=['size_factors'],\n",
    "    coef_to_test=[\"condition[T.Parkinson]\"],\n",
    "    sample_description=adata_tmp.obs,\n",
    "    gene_names=adata_tmp.var['gene_ids'].astype(str),\n",
    "    constraints_loc={'Donor':'condition'},\n",
    "    noise_model='nb',\n",
    "    dtype=\"float64\"\n",
    "    )\n",
    "    \n",
    "    #Store the results\n",
    "    de_results[clust] = test_tmp\n",
    "    "
   ]
  },
  {
   "cell_type": "markdown",
   "metadata": {},
   "source": [
    "### Bulk-like DE testing across all clusters"
   ]
  },
  {
   "cell_type": "code",
   "execution_count": 24,
   "metadata": {
    "scrolled": true
   },
   "outputs": [
    {
     "name": "stdout",
     "output_type": "stream",
     "text": [
      "condition\n",
      "Parkinson    19145\n",
      "Control      11698\n",
      "Name: count, dtype: int64\n",
      "filtered out 1106 genes that are detected in less than 50 cells\n"
     ]
    },
    {
     "name": "stderr",
     "output_type": "stream",
     "text": [
      "Built constraints: Donor[UKERi1JF-R1-018]+Donor[UKERiG3G-R1-039]+Donor[UKERi1E4-R1-003]+Donor[UKERiO3H-R1-005]+Donor[UKERi82A-R1-002]=0, Donor[UKERiJ2C-R1-015]+Donor[UKERiM89-R1-005]+Donor[UKERiC99-R1-007]+Donor[UKERiR66-R1-007]+Donor[UKERiAY6-R1-003]+Donor[UKERiPX7-R1-001]+Donor[UKERi88H-R1-002]=0\n"
     ]
    },
    {
     "name": "stdout",
     "output_type": "stream",
     "text": [
      "Testing 16144 genes...\n",
      "\n"
     ]
    },
    {
     "name": "stderr",
     "output_type": "stream",
     "text": [
      "/usr/local/lib/python3.10/dist-packages/batchglm/models/base_glm/utils.py:158: PerformanceWarning: Slicing is producing a large chunk. To accept the large\n",
      "chunk and silence this warning, set the option\n",
      "    >>> with dask.config.set(**{'array.slicing.split_large_chunks': False}):\n",
      "    ...     array[indexer]\n",
      "\n",
      "To avoid creating the large chunks, set the option\n",
      "    >>> with dask.config.set(**{'array.slicing.split_large_chunks': True}):\n",
      "    ...     array[indexer]\n",
      "  np.mean(x[np.where(grouping == g)[0], :], axis=0)\n",
      "/usr/local/lib/python3.10/dist-packages/batchglm/models/base_glm/utils.py:171: PerformanceWarning: Slicing is producing a large chunk. To accept the large\n",
      "chunk and silence this warning, set the option\n",
      "    >>> with dask.config.set(**{'array.slicing.split_large_chunks': False}):\n",
      "    ...     array[indexer]\n",
      "\n",
      "To avoid creating the large chunks, set the option\n",
      "    >>> with dask.config.set(**{'array.slicing.split_large_chunks': True}):\n",
      "    ...     array[indexer]\n",
      "  expect_xsq = np.vstack([np.mean(np.square(x[np.where(grouping == g)[0], :]), axis=0)\n"
     ]
    },
    {
     "name": "stdout",
     "output_type": "stream",
     "text": [
      "training location model: True\n",
      "training scale model: True\n",
      "iter   0: ll=417184428.806659\n",
      "iter   1: ll=400158720.707070, converged: 0.00% (loc: 2.61%, scale update: False), in 187.91sec\n",
      "iter   2: ll=396746322.719167, converged: 0.00% (loc: 3.70%, scale update: False), in 191.34sec\n",
      "iter   3: ll=396324510.954030, converged: 0.00% (loc: 3.70%, scale update: False), in 187.32sec\n",
      "iter   4: ll=396266031.300057, converged: 0.00% (loc: 3.88%, scale update: False), in 193.12sec\n",
      "iter   5: ll=396256666.343151, converged: 0.00% (loc: 8.32%, scale update: False), in 189.98sec\n",
      "Fitting 16144 dispersion models: (progress not available with multiprocessing)"
     ]
    },
    {
     "name": "stderr",
     "output_type": "stream",
     "text": [
      "/usr/lib/python3.10/multiprocessing/popen_fork.py:66: RuntimeWarning: os.fork() was called. os.fork() is incompatible with multithreaded code, and JAX is multithreaded, so this will likely lead to a deadlock.\n",
      "  self.pid = os.fork()\n"
     ]
    },
    {
     "name": "stdout",
     "output_type": "stream",
     "text": [
      "iter   6: ll=385882511.290440, converged: 0.00% (loc: 0.00%, scale update: True), in 1087.68sec\n",
      "iter   7: ll=385775592.788593, converged: 0.00% (loc: 2.80%, scale update: False), in 188.31sec\n",
      "iter   8: ll=385762719.149270, converged: 0.00% (loc: 6.97%, scale update: False), in 182.06sec\n",
      "iter   9: ll=385760340.178520, converged: 0.00% (loc: 19.96%, scale update: False), in 174.42sec\n",
      "iter  10: ll=385759684.204798, converged: 0.00% (loc: 36.94%, scale update: False), in 148.98sec\n",
      "iter  11: ll=385759408.879381, converged: 0.00% (loc: 52.19%, scale update: False), in 125.95sec\n",
      "Fitting 16144 dispersion models: (progress not available with multiprocessing)"
     ]
    },
    {
     "name": "stderr",
     "output_type": "stream",
     "text": [
      "/usr/lib/python3.10/multiprocessing/popen_fork.py:66: RuntimeWarning: os.fork() was called. os.fork() is incompatible with multithreaded code, and JAX is multithreaded, so this will likely lead to a deadlock.\n",
      "  self.pid = os.fork()\n"
     ]
    },
    {
     "name": "stdout",
     "output_type": "stream",
     "text": [
      "iter  12: ll=385667515.315681, converged: 2.67% (loc: 2.67%, scale update: True), in 1093.82sec\n",
      "iter  13: ll=385666419.073360, converged: 2.67% (loc: 21.55%, scale update: False), in 187.32sec\n",
      "iter  14: ll=385666087.021503, converged: 2.67% (loc: 37.70%, scale update: False), in 147.43sec\n",
      "iter  15: ll=385665999.728576, converged: 2.67% (loc: 54.05%, scale update: False), in 126.96sec\n",
      "iter  16: ll=385665988.771372, converged: 2.67% (loc: 70.66%, scale update: False), in 96.28sec\n",
      "iter  17: ll=385665988.335299, converged: 2.67% (loc: 86.70%, scale update: False), in 72.25sec\n",
      "Fitting 15713 dispersion models: (progress not available with multiprocessing)"
     ]
    },
    {
     "name": "stderr",
     "output_type": "stream",
     "text": [
      "/usr/lib/python3.10/multiprocessing/popen_fork.py:66: RuntimeWarning: os.fork() was called. os.fork() is incompatible with multithreaded code, and JAX is multithreaded, so this will likely lead to a deadlock.\n",
      "  self.pid = os.fork()\n"
     ]
    },
    {
     "name": "stdout",
     "output_type": "stream",
     "text": [
      "iter  18: ll=385631950.699817, converged: 21.33% (loc: 21.33%, scale update: True), in 1043.73sec\n",
      "iter  19: ll=385631938.001120, converged: 21.33% (loc: 55.77%, scale update: False), in 147.86sec\n",
      "iter  20: ll=385631937.451058, converged: 21.33% (loc: 75.38%, scale update: False), in 96.12sec\n",
      "iter  21: ll=385631937.410844, converged: 21.33% (loc: 91.69%, scale update: False), in 64.67sec\n",
      "iter  22: ll=385631937.406845, converged: 21.33% (loc: 97.17%, scale update: False), in 38.75sec\n",
      "iter  23: ll=385631937.406333, converged: 21.33% (loc: 98.89%, scale update: False), in 30.86sec\n",
      "Fitting 12701 dispersion models: (progress not available with multiprocessing)"
     ]
    },
    {
     "name": "stderr",
     "output_type": "stream",
     "text": [
      "/usr/lib/python3.10/multiprocessing/popen_fork.py:66: RuntimeWarning: os.fork() was called. os.fork() is incompatible with multithreaded code, and JAX is multithreaded, so this will likely lead to a deadlock.\n",
      "  self.pid = os.fork()\n"
     ]
    },
    {
     "name": "stdout",
     "output_type": "stream",
     "text": [
      "iter  24: ll=385613198.835162, converged: 55.50% (loc: 55.50%, scale update: True), in 853.12sec\n",
      "iter  25: ll=385613197.835191, converged: 55.50% (loc: 91.77%, scale update: False), in 90.60sec\n",
      "iter  26: ll=385613197.802675, converged: 55.50% (loc: 98.71%, scale update: False), in 39.98sec\n",
      "iter  27: ll=385613197.800332, converged: 55.50% (loc: 99.55%, scale update: False), in 29.01sec\n",
      "iter  28: ll=385613197.800082, converged: 55.50% (loc: 99.84%, scale update: False), in 14.24sec\n",
      "iter  29: ll=385613197.800053, converged: 55.50% (loc: 99.95%, scale update: False), in 6.39sec\n",
      "Fitting 7184 dispersion models: (progress not available with multiprocessing)"
     ]
    },
    {
     "name": "stderr",
     "output_type": "stream",
     "text": [
      "/usr/lib/python3.10/multiprocessing/popen_fork.py:66: RuntimeWarning: os.fork() was called. os.fork() is incompatible with multithreaded code, and JAX is multithreaded, so this will likely lead to a deadlock.\n",
      "  self.pid = os.fork()\n"
     ]
    },
    {
     "name": "stdout",
     "output_type": "stream",
     "text": [
      "iter  30: ll=385610297.884804, converged: 91.50% (loc: 91.50%, scale update: True), in 550.43sec\n",
      "iter  31: ll=385610297.516812, converged: 91.50% (loc: 99.39%, scale update: False), in 39.92sec\n",
      "iter  32: ll=385610297.511983, converged: 91.50% (loc: 99.80%, scale update: False), in 17.15sec\n",
      "iter  33: ll=385610297.511593, converged: 91.50% (loc: 99.94%, scale update: False), in 7.07sec\n",
      "iter  34: ll=385610297.511554, converged: 91.50% (loc: 99.98%, scale update: False), in 3.31sec\n",
      "iter  35: ll=385610297.511550, converged: 91.50% (loc: 99.99%, scale update: False), in 2.43sec\n",
      "Fitting 1373 dispersion models: (progress not available with multiprocessing)"
     ]
    },
    {
     "name": "stderr",
     "output_type": "stream",
     "text": [
      "/usr/lib/python3.10/multiprocessing/popen_fork.py:66: RuntimeWarning: os.fork() was called. os.fork() is incompatible with multithreaded code, and JAX is multithreaded, so this will likely lead to a deadlock.\n",
      "  self.pid = os.fork()\n"
     ]
    },
    {
     "name": "stdout",
     "output_type": "stream",
     "text": [
      "iter  36: ll=385609619.571266, converged: 99.36% (loc: 99.36%, scale update: True), in 203.97sec\n",
      "iter  37: ll=385609619.544814, converged: 99.36% (loc: 99.87%, scale update: False), in 18.17sec\n",
      "iter  38: ll=385609619.543686, converged: 99.36% (loc: 99.95%, scale update: False), in 6.33sec\n",
      "iter  39: ll=385609619.543592, converged: 99.36% (loc: 99.98%, scale update: False), in 3.06sec\n",
      "iter  40: ll=385609619.543584, converged: 99.36% (loc: 99.99%, scale update: False), in 2.30sec\n",
      "iter  41: ll=385609619.543583, converged: 99.36% (loc: 99.99%, scale update: False), in 1.89sec\n",
      "Fitting 103 dispersion models: (progress not available with multiprocessing)"
     ]
    },
    {
     "name": "stderr",
     "output_type": "stream",
     "text": [
      "/usr/lib/python3.10/multiprocessing/popen_fork.py:66: RuntimeWarning: os.fork() was called. os.fork() is incompatible with multithreaded code, and JAX is multithreaded, so this will likely lead to a deadlock.\n",
      "  self.pid = os.fork()\n"
     ]
    },
    {
     "name": "stdout",
     "output_type": "stream",
     "text": [
      "iter  42: ll=385609437.950580, converged: 99.87% (loc: 99.87%, scale update: True), in 138.65sec\n",
      "iter  43: ll=385609437.943879, converged: 99.87% (loc: 99.97%, scale update: False), in 6.90sec\n",
      "iter  44: ll=385609437.943551, converged: 99.87% (loc: 99.98%, scale update: False), in 2.78sec\n",
      "iter  45: ll=385609437.943525, converged: 99.87% (loc: 99.99%, scale update: False), in 2.63sec\n",
      "iter  46: ll=385609437.943523, converged: 99.87% (loc: 99.99%, scale update: False), in 2.35sec\n",
      "iter  47: ll=385609437.943523, converged: 99.87% (loc: 99.99%, scale update: False), in 2.37sec\n",
      "Fitting 21 dispersion models: (progress not available with multiprocessing)"
     ]
    },
    {
     "name": "stderr",
     "output_type": "stream",
     "text": [
      "/usr/lib/python3.10/multiprocessing/popen_fork.py:66: RuntimeWarning: os.fork() was called. os.fork() is incompatible with multithreaded code, and JAX is multithreaded, so this will likely lead to a deadlock.\n",
      "  self.pid = os.fork()\n"
     ]
    },
    {
     "name": "stdout",
     "output_type": "stream",
     "text": [
      "iter  48: ll=385609437.939601, converged: 99.97% (loc: 99.97%, scale update: True), in 118.95sec\n",
      "caught 1 linalg singular matrix errors\n",
      "iter  49: ll=385609437.938112, converged: 99.97% (loc: 99.99%, scale update: False), in 2.83sec\n",
      "iter  50: ll=385609437.938010, converged: 99.97% (loc: 99.99%, scale update: False), in 2.40sec\n",
      "iter  51: ll=385609437.938002, converged: 99.97% (loc: 99.99%, scale update: False), in 2.31sec\n",
      "iter  52: ll=385609437.938001, converged: 99.97% (loc: 99.99%, scale update: False), in 2.19sec\n",
      "iter  53: ll=385609437.938001, converged: 99.97% (loc: 99.99%, scale update: False), in 2.23sec\n",
      "Fitting 5 dispersion models: (progress not available with multiprocessing)"
     ]
    },
    {
     "name": "stderr",
     "output_type": "stream",
     "text": [
      "/usr/lib/python3.10/multiprocessing/popen_fork.py:66: RuntimeWarning: os.fork() was called. os.fork() is incompatible with multithreaded code, and JAX is multithreaded, so this will likely lead to a deadlock.\n",
      "  self.pid = os.fork()\n"
     ]
    },
    {
     "name": "stdout",
     "output_type": "stream",
     "text": [
      "iter  54: ll=385609053.956291, converged: 99.98% (loc: 99.98%, scale update: True), in 73.14sec\n",
      "caught 1 linalg singular matrix errors\n",
      "iter  55: ll=385609053.955791, converged: 99.98% (loc: 99.99%, scale update: False), in 2.63sec\n",
      "iter  56: ll=385609053.955756, converged: 99.98% (loc: 99.99%, scale update: False), in 2.40sec\n",
      "iter  57: ll=385609053.955754, converged: 99.98% (loc: 99.99%, scale update: False), in 2.43sec\n",
      "iter  58: ll=385609053.955754, converged: 99.98% (loc: 99.99%, scale update: False), in 2.27sec\n",
      "iter  59: ll=385609053.955754, converged: 99.98% (loc: 100.00%, scale update: False), in 2.11sec\n",
      "iter  60: ll=385609053.955440, converged: 99.99% (loc: 99.99%, scale update: True), in 4.29sec\n",
      "iter  61: ll=385609053.955270, converged: 99.99% (loc: 99.99%, scale update: False), in 2.30sec\n",
      "iter  62: ll=385609053.955258, converged: 99.99% (loc: 99.99%, scale update: False), in 2.34sec\n",
      "iter  63: ll=385609053.955257, converged: 99.99% (loc: 99.99%, scale update: False), in 2.28sec\n",
      "iter  64: ll=385609053.955257, converged: 99.99% (loc: 99.99%, scale update: False), in 2.12sec\n",
      "iter  65: ll=385609053.955257, converged: 99.99% (loc: 100.00%, scale update: False), in 2.13sec\n",
      "iter  66: ll=385609053.955150, converged: 99.99% (loc: 99.99%, scale update: True), in 3.28sec\n",
      "iter  67: ll=385609053.955091, converged: 99.99% (loc: 99.99%, scale update: False), in 2.15sec\n",
      "iter  68: ll=385609053.955087, converged: 99.99% (loc: 99.99%, scale update: False), in 2.40sec\n",
      "iter  69: ll=385609053.955086, converged: 99.99% (loc: 99.99%, scale update: False), in 2.12sec\n",
      "iter  70: ll=385609053.955086, converged: 99.99% (loc: 100.00%, scale update: False), in 2.02sec\n",
      "iter  71: ll=385609053.955049, converged: 99.99% (loc: 99.99%, scale update: True), in 3.05sec\n",
      "iter  72: ll=385609053.955029, converged: 99.99% (loc: 99.99%, scale update: False), in 2.12sec\n",
      "iter  73: ll=385609053.955027, converged: 99.99% (loc: 99.99%, scale update: False), in 2.11sec\n",
      "iter  74: ll=385609053.955027, converged: 99.99% (loc: 99.99%, scale update: False), in 1.94sec\n",
      "iter  75: ll=385609053.955027, converged: 99.99% (loc: 100.00%, scale update: False), in 1.90sec\n",
      "iter  76: ll=385609053.955014, converged: 99.99% (loc: 99.99%, scale update: True), in 2.89sec\n",
      "iter  77: ll=385609053.955007, converged: 99.99% (loc: 99.99%, scale update: False), in 2.15sec\n",
      "iter  78: ll=385609053.955007, converged: 99.99% (loc: 99.99%, scale update: False), in 2.15sec\n",
      "iter  79: ll=385609053.955006, converged: 99.99% (loc: 100.00%, scale update: False), in 1.93sec\n",
      "iter  80: ll=385609053.955002, converged: 99.99% (loc: 99.99%, scale update: True), in 2.89sec\n",
      "iter  81: ll=385609053.954999, converged: 99.99% (loc: 99.99%, scale update: False), in 2.10sec\n",
      "iter  82: ll=385609053.954999, converged: 99.99% (loc: 99.99%, scale update: False), in 2.14sec\n",
      "iter  83: ll=385609053.954999, converged: 99.99% (loc: 100.00%, scale update: False), in 1.94sec\n",
      "iter  84: ll=385609053.954998, converged: 99.99% (loc: 99.99%, scale update: True), in 2.82sec\n",
      "iter  85: ll=385609053.954997, converged: 99.99% (loc: 99.99%, scale update: False), in 2.11sec\n",
      "iter  86: ll=385609053.954997, converged: 99.99% (loc: 99.99%, scale update: False), in 1.93sec\n",
      "iter  87: ll=385609053.954997, converged: 99.99% (loc: 100.00%, scale update: False), in 1.95sec\n",
      "iter  88: ll=385609053.954996, converged: 99.99% (loc: 99.99%, scale update: True), in 2.89sec\n",
      "iter  89: ll=385609053.954996, converged: 99.99% (loc: 99.99%, scale update: False), in 1.89sec\n",
      "iter  90: ll=385609053.954996, converged: 99.99% (loc: 100.00%, scale update: False), in 1.93sec\n",
      "iter  91: ll=385609053.954996, converged: 99.99% (loc: 99.99%, scale update: True), in 2.16sec\n",
      "iter  92: ll=385609053.954995, converged: 99.99% (loc: 99.99%, scale update: False), in 2.14sec\n",
      "iter  93: ll=385609053.954995, converged: 99.99% (loc: 100.00%, scale update: False), in 2.50sec\n",
      "iter  94: ll=385609053.954995, converged: 99.99% (loc: 99.99%, scale update: True), in 1.91sec\n",
      "iter  95: ll=385609053.954995, converged: 99.99% (loc: 99.99%, scale update: False), in 1.93sec\n",
      "iter  96: ll=385609053.954995, converged: 99.99% (loc: 100.00%, scale update: False), in 1.99sec\n",
      "iter  97: ll=385609053.954995, converged: 99.99% (loc: 99.99%, scale update: True), in 1.92sec\n",
      "iter  98: ll=385609053.954995, converged: 99.99% (loc: 100.00%, scale update: False), in 1.89sec\n",
      "iter  99: ll=385609053.954995, converged: 100.00% (loc: 100.00%, scale update: True), in 1.91sec\n"
     ]
    },
    {
     "name": "stderr",
     "output_type": "stream",
     "text": [
      "/usr/local/lib/python3.10/dist-packages/dask/array/core.py:2894: RuntimeWarning: divide by zero encountered in divide\n",
      "  size = (limit / dtype.itemsize / largest_block) ** (1 / len(autos))\n"
     ]
    }
   ],
   "source": [
    "# Make a copy for the testing\n",
    "adata_test = adata.copy()\n",
    "\n",
    "print(adata_test.obs.condition.value_counts())\n",
    "\n",
    "# Filter out genes to reduce multiple testing burden\n",
    "sc.pp.filter_genes(adata_test, min_cells=50)\n",
    "print(f'Testing {adata_test.n_vars} genes...')\n",
    "print(\"\")\n",
    "    \n",
    "test_bulk = de.test.wald(\n",
    "    data=adata_test.layers['soupX_counts'],\n",
    "    formula_loc=\"~ 1 + condition + Donor + size_factors\",\n",
    "    as_numeric=['size_factors'],\n",
    "    coef_to_test=[\"condition[T.Parkinson]\"],\n",
    "    sample_description=adata_test.obs,\n",
    "    gene_names=adata_test.var['gene_ids'].astype(str),\n",
    "    constraints_loc={'Donor':'condition'},\n",
    "    noise_model='nb',\n",
    "    dtype=\"float64\"\n",
    ")\n"
   ]
  },
  {
   "cell_type": "markdown",
   "metadata": {},
   "source": [
    "## Check some data"
   ]
  },
  {
   "cell_type": "code",
   "execution_count": 96,
   "metadata": {},
   "outputs": [
    {
     "data": {
      "text/html": [
       "<div>\n",
       "<style scoped>\n",
       "    .dataframe tbody tr th:only-of-type {\n",
       "        vertical-align: middle;\n",
       "    }\n",
       "\n",
       "    .dataframe tbody tr th {\n",
       "        vertical-align: top;\n",
       "    }\n",
       "\n",
       "    .dataframe thead th {\n",
       "        text-align: right;\n",
       "    }\n",
       "</style>\n",
       "<table border=\"1\" class=\"dataframe\">\n",
       "  <thead>\n",
       "    <tr style=\"text-align: right;\">\n",
       "      <th></th>\n",
       "      <th>gene</th>\n",
       "      <th>pval</th>\n",
       "      <th>qval</th>\n",
       "      <th>log2fc</th>\n",
       "      <th>mean</th>\n",
       "      <th>zero_mean</th>\n",
       "      <th>grad</th>\n",
       "      <th>coef_mle</th>\n",
       "      <th>coef_sd</th>\n",
       "      <th>ll</th>\n",
       "    </tr>\n",
       "  </thead>\n",
       "  <tbody>\n",
       "    <tr>\n",
       "      <th>4925</th>\n",
       "      <td>ENSG00000106034</td>\n",
       "      <td>0.0</td>\n",
       "      <td>0.0</td>\n",
       "      <td>1.412808</td>\n",
       "      <td>0.550699</td>\n",
       "      <td>False</td>\n",
       "      <td>2.221498e-07</td>\n",
       "      <td>1.412808</td>\n",
       "      <td>0.139009</td>\n",
       "      <td>-2275.906284</td>\n",
       "    </tr>\n",
       "    <tr>\n",
       "      <th>2254</th>\n",
       "      <td>ENSG00000172986</td>\n",
       "      <td>0.0</td>\n",
       "      <td>0.0</td>\n",
       "      <td>1.160740</td>\n",
       "      <td>0.730769</td>\n",
       "      <td>False</td>\n",
       "      <td>5.206265e-07</td>\n",
       "      <td>1.160740</td>\n",
       "      <td>0.096420</td>\n",
       "      <td>-2835.365534</td>\n",
       "    </tr>\n",
       "    <tr>\n",
       "      <th>1167</th>\n",
       "      <td>ENSG00000162576</td>\n",
       "      <td>0.0</td>\n",
       "      <td>0.0</td>\n",
       "      <td>0.842886</td>\n",
       "      <td>0.351748</td>\n",
       "      <td>False</td>\n",
       "      <td>5.964570e-09</td>\n",
       "      <td>0.842886</td>\n",
       "      <td>0.097901</td>\n",
       "      <td>-1989.153244</td>\n",
       "    </tr>\n",
       "    <tr>\n",
       "      <th>6035</th>\n",
       "      <td>ENSG00000104332</td>\n",
       "      <td>0.0</td>\n",
       "      <td>0.0</td>\n",
       "      <td>-1.266946</td>\n",
       "      <td>8.237063</td>\n",
       "      <td>False</td>\n",
       "      <td>7.260904e-07</td>\n",
       "      <td>-1.266946</td>\n",
       "      <td>0.103472</td>\n",
       "      <td>-6232.742411</td>\n",
       "    </tr>\n",
       "    <tr>\n",
       "      <th>3835</th>\n",
       "      <td>ENSG00000145730</td>\n",
       "      <td>0.0</td>\n",
       "      <td>0.0</td>\n",
       "      <td>0.977643</td>\n",
       "      <td>3.631469</td>\n",
       "      <td>False</td>\n",
       "      <td>1.346294e-06</td>\n",
       "      <td>0.977643</td>\n",
       "      <td>0.059456</td>\n",
       "      <td>-5569.271067</td>\n",
       "    </tr>\n",
       "    <tr>\n",
       "      <th>10965</th>\n",
       "      <td>ENSG00000108821</td>\n",
       "      <td>0.0</td>\n",
       "      <td>0.0</td>\n",
       "      <td>0.983309</td>\n",
       "      <td>4.358042</td>\n",
       "      <td>False</td>\n",
       "      <td>3.514910e-07</td>\n",
       "      <td>0.983309</td>\n",
       "      <td>0.069636</td>\n",
       "      <td>-5827.515241</td>\n",
       "    </tr>\n",
       "    <tr>\n",
       "      <th>461</th>\n",
       "      <td>ENSG00000117425</td>\n",
       "      <td>0.0</td>\n",
       "      <td>0.0</td>\n",
       "      <td>1.302692</td>\n",
       "      <td>0.255594</td>\n",
       "      <td>False</td>\n",
       "      <td>2.540356e-07</td>\n",
       "      <td>1.302692</td>\n",
       "      <td>0.134029</td>\n",
       "      <td>-1490.484733</td>\n",
       "    </tr>\n",
       "    <tr>\n",
       "      <th>5360</th>\n",
       "      <td>ENSG00000128573</td>\n",
       "      <td>0.0</td>\n",
       "      <td>0.0</td>\n",
       "      <td>1.396156</td>\n",
       "      <td>1.252797</td>\n",
       "      <td>False</td>\n",
       "      <td>1.222852e-06</td>\n",
       "      <td>1.396156</td>\n",
       "      <td>0.110766</td>\n",
       "      <td>-3348.860653</td>\n",
       "    </tr>\n",
       "    <tr>\n",
       "      <th>13047</th>\n",
       "      <td>ENSG00000100154</td>\n",
       "      <td>0.0</td>\n",
       "      <td>0.0</td>\n",
       "      <td>0.521088</td>\n",
       "      <td>6.770280</td>\n",
       "      <td>False</td>\n",
       "      <td>3.058938e-06</td>\n",
       "      <td>0.521088</td>\n",
       "      <td>0.062448</td>\n",
       "      <td>-7458.399085</td>\n",
       "    </tr>\n",
       "    <tr>\n",
       "      <th>5026</th>\n",
       "      <td>ENSG00000106538</td>\n",
       "      <td>0.0</td>\n",
       "      <td>0.0</td>\n",
       "      <td>0.524391</td>\n",
       "      <td>1.863636</td>\n",
       "      <td>False</td>\n",
       "      <td>2.297171e-07</td>\n",
       "      <td>0.524391</td>\n",
       "      <td>0.060154</td>\n",
       "      <td>-5133.501959</td>\n",
       "    </tr>\n",
       "  </tbody>\n",
       "</table>\n",
       "</div>"
      ],
      "text/plain": [
       "                  gene  pval  qval    log2fc      mean  zero_mean  \\\n",
       "4925   ENSG00000106034   0.0   0.0  1.412808  0.550699      False   \n",
       "2254   ENSG00000172986   0.0   0.0  1.160740  0.730769      False   \n",
       "1167   ENSG00000162576   0.0   0.0  0.842886  0.351748      False   \n",
       "6035   ENSG00000104332   0.0   0.0 -1.266946  8.237063      False   \n",
       "3835   ENSG00000145730   0.0   0.0  0.977643  3.631469      False   \n",
       "10965  ENSG00000108821   0.0   0.0  0.983309  4.358042      False   \n",
       "461    ENSG00000117425   0.0   0.0  1.302692  0.255594      False   \n",
       "5360   ENSG00000128573   0.0   0.0  1.396156  1.252797      False   \n",
       "13047  ENSG00000100154   0.0   0.0  0.521088  6.770280      False   \n",
       "5026   ENSG00000106538   0.0   0.0  0.524391  1.863636      False   \n",
       "\n",
       "               grad  coef_mle   coef_sd           ll  \n",
       "4925   2.221498e-07  1.412808  0.139009 -2275.906284  \n",
       "2254   5.206265e-07  1.160740  0.096420 -2835.365534  \n",
       "1167   5.964570e-09  0.842886  0.097901 -1989.153244  \n",
       "6035   7.260904e-07 -1.266946  0.103472 -6232.742411  \n",
       "3835   1.346294e-06  0.977643  0.059456 -5569.271067  \n",
       "10965  3.514910e-07  0.983309  0.069636 -5827.515241  \n",
       "461    2.540356e-07  1.302692  0.134029 -1490.484733  \n",
       "5360   1.222852e-06  1.396156  0.110766 -3348.860653  \n",
       "13047  3.058938e-06  0.521088  0.062448 -7458.399085  \n",
       "5026   2.297171e-07  0.524391  0.060154 -5133.501959  "
      ]
     },
     "execution_count": 96,
     "metadata": {},
     "output_type": "execute_result"
    }
   ],
   "source": [
    "de_results['NCSC'].summary().sort_values(by='qval', ascending=True).iloc[:10,:]"
   ]
  },
  {
   "cell_type": "code",
   "execution_count": 97,
   "metadata": {},
   "outputs": [
    {
     "data": {
      "text/plain": [
       "0"
      ]
     },
     "execution_count": 97,
     "metadata": {},
     "output_type": "execute_result"
    },
    {
     "data": {
      "text/plain": [
       "0"
      ]
     },
     "execution_count": 97,
     "metadata": {},
     "output_type": "execute_result"
    }
   ],
   "source": [
    "# Test if model did not converger for some genes and some clusters\n",
    "np.sum(de_results['NCSC'].summary()['ll'] == np.float64('-inf'))\n",
    "np.sum(de_results['NSC2a'].summary()['ll'] == np.float64('-inf'))"
   ]
  },
  {
   "cell_type": "code",
   "execution_count": 25,
   "metadata": {},
   "outputs": [
    {
     "data": {
      "text/html": [
       "<div>\n",
       "<style scoped>\n",
       "    .dataframe tbody tr th:only-of-type {\n",
       "        vertical-align: middle;\n",
       "    }\n",
       "\n",
       "    .dataframe tbody tr th {\n",
       "        vertical-align: top;\n",
       "    }\n",
       "\n",
       "    .dataframe thead th {\n",
       "        text-align: right;\n",
       "    }\n",
       "</style>\n",
       "<table border=\"1\" class=\"dataframe\">\n",
       "  <thead>\n",
       "    <tr style=\"text-align: right;\">\n",
       "      <th></th>\n",
       "      <th>gene</th>\n",
       "      <th>pval</th>\n",
       "      <th>qval</th>\n",
       "      <th>log2fc</th>\n",
       "      <th>mean</th>\n",
       "      <th>zero_mean</th>\n",
       "      <th>grad</th>\n",
       "      <th>coef_mle</th>\n",
       "      <th>coef_sd</th>\n",
       "      <th>ll</th>\n",
       "    </tr>\n",
       "  </thead>\n",
       "  <tbody>\n",
       "    <tr>\n",
       "      <th>3677</th>\n",
       "      <td>ENSG00000138802</td>\n",
       "      <td>0.0</td>\n",
       "      <td>0.0</td>\n",
       "      <td>0.283842</td>\n",
       "      <td>0.949162</td>\n",
       "      <td>False</td>\n",
       "      <td>2.370641e-06</td>\n",
       "      <td>0.283842</td>\n",
       "      <td>0.017647</td>\n",
       "      <td>-36892.150601</td>\n",
       "    </tr>\n",
       "    <tr>\n",
       "      <th>11156</th>\n",
       "      <td>ENSG00000259132</td>\n",
       "      <td>0.0</td>\n",
       "      <td>0.0</td>\n",
       "      <td>0.393905</td>\n",
       "      <td>0.127387</td>\n",
       "      <td>False</td>\n",
       "      <td>4.817326e-07</td>\n",
       "      <td>0.393905</td>\n",
       "      <td>0.042111</td>\n",
       "      <td>-10943.588511</td>\n",
       "    </tr>\n",
       "    <tr>\n",
       "      <th>4112</th>\n",
       "      <td>ENSG00000109184</td>\n",
       "      <td>0.0</td>\n",
       "      <td>0.0</td>\n",
       "      <td>0.157477</td>\n",
       "      <td>0.754239</td>\n",
       "      <td>False</td>\n",
       "      <td>2.293107e-06</td>\n",
       "      <td>0.157477</td>\n",
       "      <td>0.018150</td>\n",
       "      <td>-33508.819946</td>\n",
       "    </tr>\n",
       "    <tr>\n",
       "      <th>4110</th>\n",
       "      <td>ENSG00000065882</td>\n",
       "      <td>0.0</td>\n",
       "      <td>0.0</td>\n",
       "      <td>0.183179</td>\n",
       "      <td>0.711701</td>\n",
       "      <td>False</td>\n",
       "      <td>1.191485e-06</td>\n",
       "      <td>0.183179</td>\n",
       "      <td>0.017381</td>\n",
       "      <td>-33023.627794</td>\n",
       "    </tr>\n",
       "    <tr>\n",
       "      <th>4109</th>\n",
       "      <td>ENSG00000109689</td>\n",
       "      <td>0.0</td>\n",
       "      <td>0.0</td>\n",
       "      <td>0.249432</td>\n",
       "      <td>0.661252</td>\n",
       "      <td>False</td>\n",
       "      <td>1.831842e-06</td>\n",
       "      <td>0.249432</td>\n",
       "      <td>0.019493</td>\n",
       "      <td>-31414.399101</td>\n",
       "    </tr>\n",
       "    <tr>\n",
       "      <th>11159</th>\n",
       "      <td>ENSG00000100804</td>\n",
       "      <td>0.0</td>\n",
       "      <td>0.0</td>\n",
       "      <td>-0.209764</td>\n",
       "      <td>7.472425</td>\n",
       "      <td>False</td>\n",
       "      <td>3.217201e-06</td>\n",
       "      <td>-0.209764</td>\n",
       "      <td>0.007050</td>\n",
       "      <td>-84480.443973</td>\n",
       "    </tr>\n",
       "    <tr>\n",
       "      <th>4105</th>\n",
       "      <td>ENSG00000154556</td>\n",
       "      <td>0.0</td>\n",
       "      <td>0.0</td>\n",
       "      <td>0.366729</td>\n",
       "      <td>2.324061</td>\n",
       "      <td>False</td>\n",
       "      <td>1.838497e-06</td>\n",
       "      <td>0.366729</td>\n",
       "      <td>0.018930</td>\n",
       "      <td>-53455.987897</td>\n",
       "    </tr>\n",
       "    <tr>\n",
       "      <th>4116</th>\n",
       "      <td>ENSG00000179299</td>\n",
       "      <td>0.0</td>\n",
       "      <td>0.0</td>\n",
       "      <td>0.284736</td>\n",
       "      <td>0.494115</td>\n",
       "      <td>False</td>\n",
       "      <td>5.652404e-07</td>\n",
       "      <td>0.284736</td>\n",
       "      <td>0.022794</td>\n",
       "      <td>-26521.401185</td>\n",
       "    </tr>\n",
       "    <tr>\n",
       "      <th>4103</th>\n",
       "      <td>ENSG00000169851</td>\n",
       "      <td>0.0</td>\n",
       "      <td>0.0</td>\n",
       "      <td>1.604617</td>\n",
       "      <td>1.430665</td>\n",
       "      <td>False</td>\n",
       "      <td>3.402555e-07</td>\n",
       "      <td>1.604617</td>\n",
       "      <td>0.041766</td>\n",
       "      <td>-31256.323919</td>\n",
       "    </tr>\n",
       "    <tr>\n",
       "      <th>4098</th>\n",
       "      <td>ENSG00000168772</td>\n",
       "      <td>0.0</td>\n",
       "      <td>0.0</td>\n",
       "      <td>0.173413</td>\n",
       "      <td>1.515806</td>\n",
       "      <td>False</td>\n",
       "      <td>6.722729e-07</td>\n",
       "      <td>0.173413</td>\n",
       "      <td>0.014631</td>\n",
       "      <td>-49341.121224</td>\n",
       "    </tr>\n",
       "  </tbody>\n",
       "</table>\n",
       "</div>"
      ],
      "text/plain": [
       "                  gene  pval  qval    log2fc      mean  zero_mean  \\\n",
       "3677   ENSG00000138802   0.0   0.0  0.283842  0.949162      False   \n",
       "11156  ENSG00000259132   0.0   0.0  0.393905  0.127387      False   \n",
       "4112   ENSG00000109184   0.0   0.0  0.157477  0.754239      False   \n",
       "4110   ENSG00000065882   0.0   0.0  0.183179  0.711701      False   \n",
       "4109   ENSG00000109689   0.0   0.0  0.249432  0.661252      False   \n",
       "11159  ENSG00000100804   0.0   0.0 -0.209764  7.472425      False   \n",
       "4105   ENSG00000154556   0.0   0.0  0.366729  2.324061      False   \n",
       "4116   ENSG00000179299   0.0   0.0  0.284736  0.494115      False   \n",
       "4103   ENSG00000169851   0.0   0.0  1.604617  1.430665      False   \n",
       "4098   ENSG00000168772   0.0   0.0  0.173413  1.515806      False   \n",
       "\n",
       "               grad  coef_mle   coef_sd            ll  \n",
       "3677   2.370641e-06  0.283842  0.017647 -36892.150601  \n",
       "11156  4.817326e-07  0.393905  0.042111 -10943.588511  \n",
       "4112   2.293107e-06  0.157477  0.018150 -33508.819946  \n",
       "4110   1.191485e-06  0.183179  0.017381 -33023.627794  \n",
       "4109   1.831842e-06  0.249432  0.019493 -31414.399101  \n",
       "11159  3.217201e-06 -0.209764  0.007050 -84480.443973  \n",
       "4105   1.838497e-06  0.366729  0.018930 -53455.987897  \n",
       "4116   5.652404e-07  0.284736  0.022794 -26521.401185  \n",
       "4103   3.402555e-07  1.604617  0.041766 -31256.323919  \n",
       "4098   6.722729e-07  0.173413  0.014631 -49341.121224  "
      ]
     },
     "execution_count": 25,
     "metadata": {},
     "output_type": "execute_result"
    }
   ],
   "source": [
    "test_bulk.summary().sort_values(by='qval', ascending=True).iloc[:10,:]"
   ]
  },
  {
   "cell_type": "markdown",
   "metadata": {},
   "source": [
    "## Post-process data"
   ]
  },
  {
   "cell_type": "code",
   "execution_count": 32,
   "metadata": {},
   "outputs": [],
   "source": [
    "# extract gene symbol - gene_ids informations for later conversion\n",
    "df_var = pd.DataFrame(adata.var)\n",
    "df_var = df_var[['gene_symbols', 'gene_ids']]\n",
    "df_var.reset_index(inplace=True) \n",
    "df_var = df_var.drop(columns='index')"
   ]
  },
  {
   "cell_type": "code",
   "execution_count": 100,
   "metadata": {},
   "outputs": [
    {
     "name": "stdout",
     "output_type": "stream",
     "text": [
      "There are 0 -inf log likelihood values. Filtering these out now...\n",
      "There are 0 logFC std. dev.s < 10E-100. Filtering these out now...\n",
      "There are 0 -inf log likelihood values. Filtering these out now...\n",
      "There are 0 logFC std. dev.s < 10E-100. Filtering these out now...\n",
      "There are 0 -inf log likelihood values. Filtering these out now...\n",
      "There are 0 logFC std. dev.s < 10E-100. Filtering these out now...\n",
      "There are 0 -inf log likelihood values. Filtering these out now...\n",
      "There are 9 logFC std. dev.s < 10E-100. Filtering these out now...\n",
      "There are 0 -inf log likelihood values. Filtering these out now...\n",
      "There are 2 logFC std. dev.s < 10E-100. Filtering these out now...\n",
      "There are 0 -inf log likelihood values. Filtering these out now...\n",
      "There are 1 logFC std. dev.s < 10E-100. Filtering these out now...\n",
      "There are 0 -inf log likelihood values. Filtering these out now...\n",
      "There are 1 logFC std. dev.s < 10E-100. Filtering these out now...\n",
      "There are 0 -inf log likelihood values. Filtering these out now...\n",
      "There are 42 logFC std. dev.s < 10E-100. Filtering these out now...\n",
      "There are 0 -inf log likelihood values. Filtering these out now...\n",
      "There are 20 logFC std. dev.s < 10E-100. Filtering these out now...\n"
     ]
    }
   ],
   "source": [
    "de_signif = dict()\n",
    "de_full_res = dict()\n",
    "\n",
    "for clust in de_results:\n",
    "    tmp = de_results[clust].summary()\n",
    "    \n",
    "    # add gene symbols\n",
    "    tmp = tmp.rename(columns = {\"gene\" : \"gene_ids\"})\n",
    "    tmp = tmp.merge(df_var, how = 'inner', on='gene_ids')\n",
    "\n",
    "    n_infll = np.sum(tmp['ll'] == np.float64('-inf'))\n",
    "    print(f'There are {n_infll} -inf log likelihood values. Filtering these out now...')\n",
    "    tmp = tmp.loc[tmp['ll'] != np.float64('-inf')]\n",
    "\n",
    "    n_unconverged = np.sum(tmp['coef_sd'] < 10E-100)\n",
    "    print(f'There are {n_unconverged} logFC std. dev.s < 10E-100. Filtering these out now...')    \n",
    "    tmp = tmp.loc[tmp['coef_sd'] > 10E-100]\n",
    "    \n",
    "    #Sort values by q-value\n",
    "    tmp.sort_values(by='qval', ascending=True, inplace=True)\n",
    "    \n",
    "    de_full_res[clust] = tmp.copy()\n",
    "    \n",
    "    #Filter by q-value to get significant DE genes\n",
    "    tmp_filt = tmp.loc[tmp['qval'] < 0.05]\n",
    "    de_signif[clust] = tmp_filt.copy()"
   ]
  },
  {
   "cell_type": "code",
   "execution_count": 33,
   "metadata": {},
   "outputs": [
    {
     "data": {
      "text/html": [
       "<div>\n",
       "<style scoped>\n",
       "    .dataframe tbody tr th:only-of-type {\n",
       "        vertical-align: middle;\n",
       "    }\n",
       "\n",
       "    .dataframe tbody tr th {\n",
       "        vertical-align: top;\n",
       "    }\n",
       "\n",
       "    .dataframe thead th {\n",
       "        text-align: right;\n",
       "    }\n",
       "</style>\n",
       "<table border=\"1\" class=\"dataframe\">\n",
       "  <thead>\n",
       "    <tr style=\"text-align: right;\">\n",
       "      <th></th>\n",
       "      <th>gene_symbols</th>\n",
       "      <th>gene_ids</th>\n",
       "    </tr>\n",
       "  </thead>\n",
       "  <tbody>\n",
       "    <tr>\n",
       "      <th>0</th>\n",
       "      <td>ATAD3B</td>\n",
       "      <td>ENSG00000160072</td>\n",
       "    </tr>\n",
       "    <tr>\n",
       "      <th>1</th>\n",
       "      <td>PRDM16</td>\n",
       "      <td>ENSG00000142611</td>\n",
       "    </tr>\n",
       "    <tr>\n",
       "      <th>2</th>\n",
       "      <td>PEX10</td>\n",
       "      <td>ENSG00000157911</td>\n",
       "    </tr>\n",
       "    <tr>\n",
       "      <th>3</th>\n",
       "      <td>PEX14</td>\n",
       "      <td>ENSG00000142655</td>\n",
       "    </tr>\n",
       "    <tr>\n",
       "      <th>4</th>\n",
       "      <td>PLCH2</td>\n",
       "      <td>ENSG00000149527</td>\n",
       "    </tr>\n",
       "    <tr>\n",
       "      <th>...</th>\n",
       "      <td>...</td>\n",
       "      <td>...</td>\n",
       "    </tr>\n",
       "    <tr>\n",
       "      <th>17245</th>\n",
       "      <td>ENSG00000276256</td>\n",
       "      <td>ENSG00000276256</td>\n",
       "    </tr>\n",
       "    <tr>\n",
       "      <th>17246</th>\n",
       "      <td>ENSG00000273748</td>\n",
       "      <td>ENSG00000273748</td>\n",
       "    </tr>\n",
       "    <tr>\n",
       "      <th>17247</th>\n",
       "      <td>ENSG00000278817</td>\n",
       "      <td>ENSG00000278817</td>\n",
       "    </tr>\n",
       "    <tr>\n",
       "      <th>17248</th>\n",
       "      <td>ENSG00000276345</td>\n",
       "      <td>ENSG00000276345</td>\n",
       "    </tr>\n",
       "    <tr>\n",
       "      <th>17249</th>\n",
       "      <td>ENSG00000271254</td>\n",
       "      <td>ENSG00000271254</td>\n",
       "    </tr>\n",
       "  </tbody>\n",
       "</table>\n",
       "<p>17250 rows × 2 columns</p>\n",
       "</div>"
      ],
      "text/plain": [
       "          gene_symbols         gene_ids\n",
       "0               ATAD3B  ENSG00000160072\n",
       "1               PRDM16  ENSG00000142611\n",
       "2                PEX10  ENSG00000157911\n",
       "3                PEX14  ENSG00000142655\n",
       "4                PLCH2  ENSG00000149527\n",
       "...                ...              ...\n",
       "17245  ENSG00000276256  ENSG00000276256\n",
       "17246  ENSG00000273748  ENSG00000273748\n",
       "17247  ENSG00000278817  ENSG00000278817\n",
       "17248  ENSG00000276345  ENSG00000276345\n",
       "17249  ENSG00000271254  ENSG00000271254\n",
       "\n",
       "[17250 rows x 2 columns]"
      ]
     },
     "execution_count": 33,
     "metadata": {},
     "output_type": "execute_result"
    }
   ],
   "source": [
    "df_var"
   ]
  },
  {
   "cell_type": "code",
   "execution_count": 34,
   "metadata": {},
   "outputs": [
    {
     "name": "stdout",
     "output_type": "stream",
     "text": [
      "There are 0 -inf log likelihood values. Filtering these out now...\n",
      "There are 2 logFC std. dev.s < 10E-100. Filtering these out now...\n"
     ]
    }
   ],
   "source": [
    "# bulk-like data\n",
    "bulk_res = test_bulk.summary()\n",
    "\n",
    "# add gene symbols\n",
    "bulk_res = bulk_res.rename(columns = {\"gene\" : \"gene_ids\"})\n",
    "bulk_res = bulk_res.merge(df_var, how = 'inner', on='gene_ids')\n",
    "\n",
    "n_infll = np.sum(bulk_res['ll'] == np.float64('-inf'))\n",
    "print(f'There are {n_infll} -inf log likelihood values. Filtering these out now...')\n",
    "bulk_res = bulk_res.loc[bulk_res['ll'] != np.float64('-inf')]\n",
    "\n",
    "n_unconverged = np.sum(bulk_res['coef_sd'] < 10E-100)\n",
    "print(f'There are {n_unconverged} logFC std. dev.s < 10E-100. Filtering these out now...')    \n",
    "bulk_res = bulk_res.loc[bulk_res['coef_sd'] > 10E-100]\n",
    "\n",
    "#Sort values by q-value\n",
    "bulk_res.sort_values(by='qval', ascending=True, inplace=True)\n",
    "        \n",
    "#Filter by q-value to get significant DE genes\n",
    "bulk_res_filt = bulk_res.loc[bulk_res['qval'] < 0.05]\n"
   ]
  },
  {
   "cell_type": "code",
   "execution_count": 36,
   "metadata": {},
   "outputs": [
    {
     "data": {
      "text/html": [
       "<div>\n",
       "<style scoped>\n",
       "    .dataframe tbody tr th:only-of-type {\n",
       "        vertical-align: middle;\n",
       "    }\n",
       "\n",
       "    .dataframe tbody tr th {\n",
       "        vertical-align: top;\n",
       "    }\n",
       "\n",
       "    .dataframe thead th {\n",
       "        text-align: right;\n",
       "    }\n",
       "</style>\n",
       "<table border=\"1\" class=\"dataframe\">\n",
       "  <thead>\n",
       "    <tr style=\"text-align: right;\">\n",
       "      <th></th>\n",
       "      <th>gene_ids</th>\n",
       "      <th>pval</th>\n",
       "      <th>qval</th>\n",
       "      <th>log2fc</th>\n",
       "      <th>mean</th>\n",
       "      <th>zero_mean</th>\n",
       "      <th>grad</th>\n",
       "      <th>coef_mle</th>\n",
       "      <th>coef_sd</th>\n",
       "      <th>ll</th>\n",
       "      <th>gene_symbols</th>\n",
       "    </tr>\n",
       "  </thead>\n",
       "  <tbody>\n",
       "    <tr>\n",
       "      <th>3677</th>\n",
       "      <td>ENSG00000138802</td>\n",
       "      <td>0.000000</td>\n",
       "      <td>0.000000</td>\n",
       "      <td>0.283842</td>\n",
       "      <td>0.949162</td>\n",
       "      <td>False</td>\n",
       "      <td>2.370641e-06</td>\n",
       "      <td>0.283842</td>\n",
       "      <td>0.017647</td>\n",
       "      <td>-36892.150601</td>\n",
       "      <td>SEC24B</td>\n",
       "    </tr>\n",
       "    <tr>\n",
       "      <th>11156</th>\n",
       "      <td>ENSG00000259132</td>\n",
       "      <td>0.000000</td>\n",
       "      <td>0.000000</td>\n",
       "      <td>0.393905</td>\n",
       "      <td>0.127387</td>\n",
       "      <td>False</td>\n",
       "      <td>4.817326e-07</td>\n",
       "      <td>0.393905</td>\n",
       "      <td>0.042111</td>\n",
       "      <td>-10943.588511</td>\n",
       "      <td>ENSG00000259132</td>\n",
       "    </tr>\n",
       "    <tr>\n",
       "      <th>4112</th>\n",
       "      <td>ENSG00000109184</td>\n",
       "      <td>0.000000</td>\n",
       "      <td>0.000000</td>\n",
       "      <td>0.157477</td>\n",
       "      <td>0.754239</td>\n",
       "      <td>False</td>\n",
       "      <td>2.293107e-06</td>\n",
       "      <td>0.157477</td>\n",
       "      <td>0.018150</td>\n",
       "      <td>-33508.819946</td>\n",
       "      <td>DCUN1D4</td>\n",
       "    </tr>\n",
       "    <tr>\n",
       "      <th>4110</th>\n",
       "      <td>ENSG00000065882</td>\n",
       "      <td>0.000000</td>\n",
       "      <td>0.000000</td>\n",
       "      <td>0.183179</td>\n",
       "      <td>0.711701</td>\n",
       "      <td>False</td>\n",
       "      <td>1.191485e-06</td>\n",
       "      <td>0.183179</td>\n",
       "      <td>0.017381</td>\n",
       "      <td>-33023.627794</td>\n",
       "      <td>TBC1D1</td>\n",
       "    </tr>\n",
       "    <tr>\n",
       "      <th>4109</th>\n",
       "      <td>ENSG00000109689</td>\n",
       "      <td>0.000000</td>\n",
       "      <td>0.000000</td>\n",
       "      <td>0.249432</td>\n",
       "      <td>0.661252</td>\n",
       "      <td>False</td>\n",
       "      <td>1.831842e-06</td>\n",
       "      <td>0.249432</td>\n",
       "      <td>0.019493</td>\n",
       "      <td>-31414.399101</td>\n",
       "      <td>STIM2</td>\n",
       "    </tr>\n",
       "    <tr>\n",
       "      <th>...</th>\n",
       "      <td>...</td>\n",
       "      <td>...</td>\n",
       "      <td>...</td>\n",
       "      <td>...</td>\n",
       "      <td>...</td>\n",
       "      <td>...</td>\n",
       "      <td>...</td>\n",
       "      <td>...</td>\n",
       "      <td>...</td>\n",
       "      <td>...</td>\n",
       "      <td>...</td>\n",
       "    </tr>\n",
       "    <tr>\n",
       "      <th>5021</th>\n",
       "      <td>ENSG00000146147</td>\n",
       "      <td>0.033197</td>\n",
       "      <td>0.049792</td>\n",
       "      <td>-0.307843</td>\n",
       "      <td>0.014590</td>\n",
       "      <td>False</td>\n",
       "      <td>6.770202e-08</td>\n",
       "      <td>-0.307843</td>\n",
       "      <td>0.144548</td>\n",
       "      <td>-1973.123842</td>\n",
       "      <td>MLIP</td>\n",
       "    </tr>\n",
       "    <tr>\n",
       "      <th>3342</th>\n",
       "      <td>ENSG00000163507</td>\n",
       "      <td>0.033199</td>\n",
       "      <td>0.049792</td>\n",
       "      <td>0.041305</td>\n",
       "      <td>0.805272</td>\n",
       "      <td>False</td>\n",
       "      <td>1.285232e-06</td>\n",
       "      <td>0.041305</td>\n",
       "      <td>0.019395</td>\n",
       "      <td>-33569.281241</td>\n",
       "      <td>CIP2A</td>\n",
       "    </tr>\n",
       "    <tr>\n",
       "      <th>9859</th>\n",
       "      <td>ENSG00000067057</td>\n",
       "      <td>0.033277</td>\n",
       "      <td>0.049905</td>\n",
       "      <td>-0.054383</td>\n",
       "      <td>0.350063</td>\n",
       "      <td>False</td>\n",
       "      <td>7.901601e-07</td>\n",
       "      <td>-0.054383</td>\n",
       "      <td>0.025547</td>\n",
       "      <td>-22082.805720</td>\n",
       "      <td>PFKP</td>\n",
       "    </tr>\n",
       "    <tr>\n",
       "      <th>8202</th>\n",
       "      <td>ENSG00000125485</td>\n",
       "      <td>0.033295</td>\n",
       "      <td>0.049923</td>\n",
       "      <td>0.059441</td>\n",
       "      <td>0.236877</td>\n",
       "      <td>False</td>\n",
       "      <td>6.746924e-07</td>\n",
       "      <td>0.059441</td>\n",
       "      <td>0.027926</td>\n",
       "      <td>-17219.820118</td>\n",
       "      <td>DDX31</td>\n",
       "    </tr>\n",
       "    <tr>\n",
       "      <th>4085</th>\n",
       "      <td>ENSG00000145214</td>\n",
       "      <td>0.033295</td>\n",
       "      <td>0.049923</td>\n",
       "      <td>-0.117199</td>\n",
       "      <td>0.052881</td>\n",
       "      <td>False</td>\n",
       "      <td>4.319232e-09</td>\n",
       "      <td>-0.117199</td>\n",
       "      <td>0.055062</td>\n",
       "      <td>-6390.327612</td>\n",
       "      <td>DGKQ</td>\n",
       "    </tr>\n",
       "  </tbody>\n",
       "</table>\n",
       "<p>10765 rows × 11 columns</p>\n",
       "</div>"
      ],
      "text/plain": [
       "              gene_ids      pval      qval    log2fc      mean  zero_mean  \\\n",
       "3677   ENSG00000138802  0.000000  0.000000  0.283842  0.949162      False   \n",
       "11156  ENSG00000259132  0.000000  0.000000  0.393905  0.127387      False   \n",
       "4112   ENSG00000109184  0.000000  0.000000  0.157477  0.754239      False   \n",
       "4110   ENSG00000065882  0.000000  0.000000  0.183179  0.711701      False   \n",
       "4109   ENSG00000109689  0.000000  0.000000  0.249432  0.661252      False   \n",
       "...                ...       ...       ...       ...       ...        ...   \n",
       "5021   ENSG00000146147  0.033197  0.049792 -0.307843  0.014590      False   \n",
       "3342   ENSG00000163507  0.033199  0.049792  0.041305  0.805272      False   \n",
       "9859   ENSG00000067057  0.033277  0.049905 -0.054383  0.350063      False   \n",
       "8202   ENSG00000125485  0.033295  0.049923  0.059441  0.236877      False   \n",
       "4085   ENSG00000145214  0.033295  0.049923 -0.117199  0.052881      False   \n",
       "\n",
       "               grad  coef_mle   coef_sd            ll     gene_symbols  \n",
       "3677   2.370641e-06  0.283842  0.017647 -36892.150601           SEC24B  \n",
       "11156  4.817326e-07  0.393905  0.042111 -10943.588511  ENSG00000259132  \n",
       "4112   2.293107e-06  0.157477  0.018150 -33508.819946          DCUN1D4  \n",
       "4110   1.191485e-06  0.183179  0.017381 -33023.627794           TBC1D1  \n",
       "4109   1.831842e-06  0.249432  0.019493 -31414.399101            STIM2  \n",
       "...             ...       ...       ...           ...              ...  \n",
       "5021   6.770202e-08 -0.307843  0.144548  -1973.123842             MLIP  \n",
       "3342   1.285232e-06  0.041305  0.019395 -33569.281241            CIP2A  \n",
       "9859   7.901601e-07 -0.054383  0.025547 -22082.805720             PFKP  \n",
       "8202   6.746924e-07  0.059441  0.027926 -17219.820118            DDX31  \n",
       "4085   4.319232e-09 -0.117199  0.055062  -6390.327612             DGKQ  \n",
       "\n",
       "[10765 rows x 11 columns]"
      ]
     },
     "execution_count": 36,
     "metadata": {},
     "output_type": "execute_result"
    }
   ],
   "source": [
    "bulk_res_filt"
   ]
  },
  {
   "cell_type": "markdown",
   "metadata": {},
   "source": [
    "## Show DEGs"
   ]
  },
  {
   "cell_type": "code",
   "execution_count": 101,
   "metadata": {},
   "outputs": [
    {
     "name": "stdout",
     "output_type": "stream",
     "text": [
      "DEGs at FDR < 0.05:\n"
     ]
    },
    {
     "data": {
      "text/plain": [
       "{'Apop.-NCSC': 1,\n",
       " 'Apop.-NSC': 854,\n",
       " 'Glial-precursors': 229,\n",
       " 'Immature-neurons': 117,\n",
       " 'NCSC': 2675,\n",
       " 'NSC1a': 7377,\n",
       " 'NSC1b': 6930,\n",
       " 'NSC2a': 132,\n",
       " 'NSC2b': 147}"
      ]
     },
     "execution_count": 101,
     "metadata": {},
     "output_type": "execute_result"
    },
    {
     "name": "stdout",
     "output_type": "stream",
     "text": [
      "DEGs at FDR < 0.01:\n"
     ]
    },
    {
     "data": {
      "text/plain": [
       "{'Apop.-NCSC': 1,\n",
       " 'Apop.-NSC': 561,\n",
       " 'Glial-precursors': 90,\n",
       " 'Immature-neurons': 63,\n",
       " 'NCSC': 1787,\n",
       " 'NSC1a': 6065,\n",
       " 'NSC1b': 5547,\n",
       " 'NSC2a': 50,\n",
       " 'NSC2b': 50}"
      ]
     },
     "execution_count": 101,
     "metadata": {},
     "output_type": "execute_result"
    }
   ],
   "source": [
    "# Number of differentially expressed genes (DEGs)\n",
    "print('DEGs at FDR < 0.05:')\n",
    "{clust:de_signif[clust].shape[0] for clust in de_signif}\n",
    "\n",
    "print('DEGs at FDR < 0.01:')\n",
    "{clust:de_signif[clust].loc[(de_signif[clust]['qval']<0.01)].shape[0] for clust in de_signif}"
   ]
  },
  {
   "cell_type": "code",
   "execution_count": 28,
   "metadata": {},
   "outputs": [
    {
     "name": "stdout",
     "output_type": "stream",
     "text": [
      "DEGs at FDR < 0.05:\n",
      "Bulk: 10765\n",
      "DEGs at FDR < 0.01:\n",
      "Bulk: 9623\n"
     ]
    }
   ],
   "source": [
    "#DEGs in bulk-like data\n",
    "print('DEGs at FDR < 0.05:')\n",
    "print(f'Bulk: {bulk_res_filt.shape[0]}')\n",
    "\n",
    "print('DEGs at FDR < 0.01:')\n",
    "degnum001 = bulk_res_filt.loc[(bulk_res_filt['qval']<0.01)].shape[0]\n",
    "print(f'Bulk: {degnum001}')"
   ]
  },
  {
   "cell_type": "markdown",
   "metadata": {},
   "source": [
    "Notes:\n",
    "- there are quite a lot of DEGs at FDR < 0.05 and at FDR < 0.01\n",
    "- Could use either threshold, FDR < 0.01 would be okay for higher confidence"
   ]
  },
  {
   "cell_type": "markdown",
   "metadata": {},
   "source": [
    "## Save data"
   ]
  },
  {
   "cell_type": "code",
   "execution_count": 29,
   "metadata": {},
   "outputs": [],
   "source": [
    "import pickle"
   ]
  },
  {
   "cell_type": "code",
   "execution_count": 103,
   "metadata": {},
   "outputs": [],
   "source": [
    "#Pickle the de output\n",
    "filename_pickle = save_dir+'diffxpy/'+resolution+'_diffxpy_cell_types_sf.pkl'\n",
    "pickle.dump(de_results, open(filename_pickle, \"wb\"))"
   ]
  },
  {
   "cell_type": "code",
   "execution_count": 104,
   "metadata": {},
   "outputs": [],
   "source": [
    "#Output individual results\n",
    "for clust in de_signif:\n",
    "    \n",
    "    filename_signif = save_dir+'diffxpy/'+resolution+'_diffxpy_'+clust.replace(' ', '_').replace(\n",
    "        '/','_').replace('(','').replace(')','')+'_diff_res.csv'\n",
    "    filename_full = save_dir+'diffxpy/'+resolution+'_diffxpy_'+clust.replace(' ', '_').replace(\n",
    "        '/','_').replace('(','').replace(')','')+'_res-table.csv'\n",
    "    \n",
    "    de_signif[clust].to_csv(filename_signif)\n",
    "    de_full_res[clust].to_csv(filename_full)"
   ]
  },
  {
   "cell_type": "code",
   "execution_count": 30,
   "metadata": {},
   "outputs": [],
   "source": [
    "#Pick the DE output - Bulk-like\n",
    "de_output_pickle_bulk = save_dir+'diffxpy/'+resolution+'_diffxpy_bulk_sf.pkl'\n",
    "pickle.dump(test_bulk, open(de_output_pickle_bulk, \"wb\"))"
   ]
  },
  {
   "cell_type": "code",
   "execution_count": 37,
   "metadata": {},
   "outputs": [],
   "source": [
    "#Output individual results - Bulk-like\n",
    "\n",
    "filename_signif = save_dir+'diffxpy/'+resolution+'_diffxpy_bulk_like_diff_res.csv'\n",
    "filename_full = save_dir+'diffxpy/'+resolution+'_diffxpy_bulk_like_res-table.csv'\n",
    "    \n",
    "bulk_res_filt.to_csv(filename_signif)\n",
    "bulk_res.to_csv(filename_full)"
   ]
  },
  {
   "cell_type": "code",
   "execution_count": 2,
   "metadata": {},
   "outputs": [
    {
     "name": "stdout",
     "output_type": "stream",
     "text": [
      "Looking in indexes: https://pypi.org/simple, https://pypi.ngc.nvidia.com\n",
      "Collecting dask==2023.11.0\n",
      "  Downloading dask-2023.11.0-py3-none-any.whl.metadata (3.7 kB)\n",
      "Collecting sparse==0.15.1\n",
      "  Downloading sparse-0.15.1-py2.py3-none-any.whl.metadata (4.5 kB)\n",
      "Requirement already satisfied: click>=8.1 in /usr/local/lib/python3.10/dist-packages (from dask==2023.11.0) (8.1.7)\n",
      "Requirement already satisfied: cloudpickle>=1.5.0 in /usr/local/lib/python3.10/dist-packages (from dask==2023.11.0) (3.0.0)\n",
      "Requirement already satisfied: fsspec>=2021.09.0 in /usr/local/lib/python3.10/dist-packages (from dask==2023.11.0) (2023.12.2)\n",
      "Requirement already satisfied: packaging>=20.0 in /usr/local/lib/python3.10/dist-packages (from dask==2023.11.0) (23.2)\n",
      "Requirement already satisfied: partd>=1.2.0 in /usr/local/lib/python3.10/dist-packages (from dask==2023.11.0) (1.4.1)\n",
      "Requirement already satisfied: pyyaml>=5.3.1 in /usr/local/lib/python3.10/dist-packages (from dask==2023.11.0) (6.0.1)\n",
      "Requirement already satisfied: toolz>=0.10.0 in /usr/local/lib/python3.10/dist-packages (from dask==2023.11.0) (0.12.0)\n",
      "Requirement already satisfied: importlib-metadata>=4.13.0 in /usr/local/lib/python3.10/dist-packages (from dask==2023.11.0) (7.0.0)\n",
      "Requirement already satisfied: numpy>=1.17 in /usr/local/lib/python3.10/dist-packages (from sparse==0.15.1) (1.24.4)\n",
      "Requirement already satisfied: scipy>=0.19 in /usr/local/lib/python3.10/dist-packages (from sparse==0.15.1) (1.11.4)\n",
      "Requirement already satisfied: numba>=0.49 in /usr/local/lib/python3.10/dist-packages (from sparse==0.15.1) (0.57.1+1.gb7ee25572)\n",
      "Requirement already satisfied: zipp>=0.5 in /usr/local/lib/python3.10/dist-packages (from importlib-metadata>=4.13.0->dask==2023.11.0) (3.17.0)\n",
      "Requirement already satisfied: llvmlite<0.41,>=0.40.0dev0 in /usr/local/lib/python3.10/dist-packages (from numba>=0.49->sparse==0.15.1) (0.40.1)\n",
      "Requirement already satisfied: locket in /usr/local/lib/python3.10/dist-packages (from partd>=1.2.0->dask==2023.11.0) (1.0.0)\n",
      "Downloading dask-2023.11.0-py3-none-any.whl (1.2 MB)\n",
      "\u001b[2K   \u001b[90m━━━━━━━━━━━━━━━━━━━━━━━━━━━━━━━━━━━━━━━━\u001b[0m \u001b[32m1.2/1.2 MB\u001b[0m \u001b[31m5.7 MB/s\u001b[0m eta \u001b[36m0:00:00\u001b[0m00:01\u001b[0m00:01\u001b[0m0m\n",
      "\u001b[?25hDownloading sparse-0.15.1-py2.py3-none-any.whl (116 kB)\n",
      "\u001b[2K   \u001b[90m━━━━━━━━━━━━━━━━━━━━━━━━━━━━━━━━━━━━━━━━\u001b[0m \u001b[32m116.3/116.3 kB\u001b[0m \u001b[31m9.8 MB/s\u001b[0m eta \u001b[36m0:00:00\u001b[0m\n",
      "\u001b[?25hInstalling collected packages: sparse, dask\n",
      "  Attempting uninstall: sparse\n",
      "    Found existing installation: sparse 0.9.1\n",
      "    Uninstalling sparse-0.9.1:\n",
      "      Successfully uninstalled sparse-0.9.1\n",
      "  Attempting uninstall: dask\n",
      "    Found existing installation: dask 2021.4.0\n",
      "    Uninstalling dask-2021.4.0:\n",
      "      Successfully uninstalled dask-2021.4.0\n",
      "Successfully installed dask-2023.11.0 sparse-0.15.1\n",
      "\u001b[33mWARNING: Running pip as the 'root' user can result in broken permissions and conflicting behaviour with the system package manager. It is recommended to use a virtual environment instead: https://pip.pypa.io/warnings/venv\u001b[0m\u001b[33m\n",
      "\u001b[0m"
     ]
    }
   ],
   "source": [
    "!pip install dask==2023.11.0 sparse==0.15.1"
   ]
  },
  {
   "cell_type": "code",
   "execution_count": null,
   "metadata": {},
   "outputs": [],
   "source": []
  }
 ],
 "metadata": {
  "kernelspec": {
   "display_name": "Python [conda env:base] *",
   "language": "python",
   "name": "conda-base-py"
  },
  "language_info": {
   "codemirror_mode": {
    "name": "ipython",
    "version": 3
   },
   "file_extension": ".py",
   "mimetype": "text/x-python",
   "name": "python",
   "nbconvert_exporter": "python",
   "pygments_lexer": "ipython3",
   "version": "3.13.5"
  }
 },
 "nbformat": 4,
 "nbformat_minor": 4
}
